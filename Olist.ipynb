{
  "nbformat": 4,
  "nbformat_minor": 0,
  "metadata": {
    "colab": {
      "name": "Untitled2.ipynb",
      "provenance": [],
      "authorship_tag": "ABX9TyNbebi/gcMdWacYpCwEfpTa",
      "include_colab_link": true
    },
    "kernelspec": {
      "name": "python3",
      "display_name": "Python 3"
    },
    "language_info": {
      "name": "python"
    }
  },
  "cells": [
    {
      "cell_type": "markdown",
      "metadata": {
        "id": "view-in-github",
        "colab_type": "text"
      },
      "source": [
        "<a href=\"https://colab.research.google.com/github/skillox1/PADSW06MDCD/blob/main/Olist.ipynb\" target=\"_parent\"><img src=\"https://colab.research.google.com/assets/colab-badge.svg\" alt=\"Open In Colab\"/></a>"
      ]
    },
    {
      "cell_type": "markdown",
      "source": [
        "## Base de Dados Olist - Lista de Exercícios"
      ],
      "metadata": {
        "id": "rcQE8EsEfet3"
      }
    },
    {
      "cell_type": "code",
      "source": [
        "import pandas as pd\n",
        "import zipfile\n",
        "import seaborn as sns\n",
        "import matplotlib.pyplot as plt"
      ],
      "metadata": {
        "id": "ciyO4-CAIqc6"
      },
      "execution_count": 4,
      "outputs": []
    },
    {
      "cell_type": "markdown",
      "source": [
        "Questões 1 a 8 - Quantas linhas temos em cada tabela?"
      ],
      "metadata": {
        "id": "MDtN436TDGUY"
      }
    },
    {
      "cell_type": "code",
      "source": [
        "zf = zipfile.ZipFile('/content/archive.zip') \n",
        "df_orders = pd.read_csv(zf.open('olist_orders_dataset.csv'))\n",
        "df_order_items = pd.read_csv(zf.open('olist_order_items_dataset.csv'))\n",
        "df_customers = pd.read_csv(zf.open('olist_customers_dataset.csv'))\n",
        "df_sellers = pd.read_csv(zf.open('olist_sellers_dataset.csv'))\n",
        "df_products = pd.read_csv(zf.open('olist_products_dataset.csv'))\n",
        "df_order_payments = pd.read_csv(zf.open('olist_order_payments_dataset.csv'))\n",
        "df_order_reviews = pd.read_csv(zf.open('olist_order_reviews_dataset.csv'))\n",
        "df_geolocation = pd.read_csv(zf.open('olist_geolocation_dataset.csv'))\n",
        "\n"
      ],
      "metadata": {
        "id": "qWC8mBAK8TAn"
      },
      "execution_count": 5,
      "outputs": []
    },
    {
      "cell_type": "code",
      "source": [
        "dfs = [df_orders,df_order_items,df_customers,df_sellers,df_products,df_order_payments,df_order_reviews,df_geolocation]"
      ],
      "metadata": {
        "id": "WEGrE4G_9oIQ"
      },
      "execution_count": 6,
      "outputs": []
    },
    {
      "cell_type": "code",
      "source": [
        "for x in dfs:\n",
        "  print(x.shape[0])"
      ],
      "metadata": {
        "colab": {
          "base_uri": "https://localhost:8080/"
        },
        "id": "FbqfGqWA_TCF",
        "outputId": "187582db-b64a-4ba9-ccde-3ea261a99113"
      },
      "execution_count": 7,
      "outputs": [
        {
          "output_type": "stream",
          "name": "stdout",
          "text": [
            "99441\n",
            "112650\n",
            "99441\n",
            "3095\n",
            "32951\n",
            "103886\n",
            "99224\n",
            "1000163\n"
          ]
        }
      ]
    },
    {
      "cell_type": "code",
      "source": [
        "datasets = [df_orders,df_order_items,df_customers,df_sellers,df_products,df_order_payments,df_order_reviews,df_geolocation]\n",
        "titles = [\"orders\",\"items\",\"customers\",\"sellers\",\"products\",\"payments\",\"reviews\",\"geolocation\"]\n",
        "\n",
        "info_df = pd.DataFrame({},)\n",
        "info_df['dataset']= titles\n",
        "\n",
        "info_df['no_of_columns']= [len(df.columns) for df in datasets ]\n",
        "info_df['columns_name']= [', '.join(list(df.columns)) for df in datasets] \n",
        "info_df['no_of_rows'] = [len(df) for df in datasets]\n",
        "\n",
        "info_df.style.background_gradient(cmap='Blues')"
      ],
      "metadata": {
        "colab": {
          "base_uri": "https://localhost:8080/",
          "height": 300
        },
        "id": "lLsyAKdZdlDM",
        "outputId": "2c780cd4-138d-4885-9244-9cbbc74f0e17"
      },
      "execution_count": 8,
      "outputs": [
        {
          "output_type": "execute_result",
          "data": {
            "text/plain": [
              "<pandas.io.formats.style.Styler at 0x7fba01d37590>"
            ],
            "text/html": [
              "<style type=\"text/css\">\n",
              "#T_25211_row0_col1 {\n",
              "  background-color: #1764ab;\n",
              "  color: #f1f1f1;\n",
              "}\n",
              "#T_25211_row0_col3, #T_25211_row2_col3, #T_25211_row6_col3 {\n",
              "  background-color: #e4eff9;\n",
              "  color: #000000;\n",
              "}\n",
              "#T_25211_row1_col1, #T_25211_row6_col1 {\n",
              "  background-color: #4a98c9;\n",
              "  color: #f1f1f1;\n",
              "}\n",
              "#T_25211_row1_col3 {\n",
              "  background-color: #e1edf8;\n",
              "  color: #000000;\n",
              "}\n",
              "#T_25211_row2_col1, #T_25211_row5_col1, #T_25211_row7_col1 {\n",
              "  background-color: #d0e1f2;\n",
              "  color: #000000;\n",
              "}\n",
              "#T_25211_row3_col1, #T_25211_row3_col3 {\n",
              "  background-color: #f7fbff;\n",
              "  color: #000000;\n",
              "}\n",
              "#T_25211_row4_col1, #T_25211_row7_col3 {\n",
              "  background-color: #08306b;\n",
              "  color: #f1f1f1;\n",
              "}\n",
              "#T_25211_row4_col3 {\n",
              "  background-color: #f2f7fd;\n",
              "  color: #000000;\n",
              "}\n",
              "#T_25211_row5_col3 {\n",
              "  background-color: #e3eef9;\n",
              "  color: #000000;\n",
              "}\n",
              "</style>\n",
              "<table id=\"T_25211_\" class=\"dataframe\">\n",
              "  <thead>\n",
              "    <tr>\n",
              "      <th class=\"blank level0\" >&nbsp;</th>\n",
              "      <th class=\"col_heading level0 col0\" >dataset</th>\n",
              "      <th class=\"col_heading level0 col1\" >no_of_columns</th>\n",
              "      <th class=\"col_heading level0 col2\" >columns_name</th>\n",
              "      <th class=\"col_heading level0 col3\" >no_of_rows</th>\n",
              "    </tr>\n",
              "  </thead>\n",
              "  <tbody>\n",
              "    <tr>\n",
              "      <th id=\"T_25211_level0_row0\" class=\"row_heading level0 row0\" >0</th>\n",
              "      <td id=\"T_25211_row0_col0\" class=\"data row0 col0\" >orders</td>\n",
              "      <td id=\"T_25211_row0_col1\" class=\"data row0 col1\" >8</td>\n",
              "      <td id=\"T_25211_row0_col2\" class=\"data row0 col2\" >order_id, customer_id, order_status, order_purchase_timestamp, order_approved_at, order_delivered_carrier_date, order_delivered_customer_date, order_estimated_delivery_date</td>\n",
              "      <td id=\"T_25211_row0_col3\" class=\"data row0 col3\" >99441</td>\n",
              "    </tr>\n",
              "    <tr>\n",
              "      <th id=\"T_25211_level0_row1\" class=\"row_heading level0 row1\" >1</th>\n",
              "      <td id=\"T_25211_row1_col0\" class=\"data row1 col0\" >items</td>\n",
              "      <td id=\"T_25211_row1_col1\" class=\"data row1 col1\" >7</td>\n",
              "      <td id=\"T_25211_row1_col2\" class=\"data row1 col2\" >order_id, order_item_id, product_id, seller_id, shipping_limit_date, price, freight_value</td>\n",
              "      <td id=\"T_25211_row1_col3\" class=\"data row1 col3\" >112650</td>\n",
              "    </tr>\n",
              "    <tr>\n",
              "      <th id=\"T_25211_level0_row2\" class=\"row_heading level0 row2\" >2</th>\n",
              "      <td id=\"T_25211_row2_col0\" class=\"data row2 col0\" >customers</td>\n",
              "      <td id=\"T_25211_row2_col1\" class=\"data row2 col1\" >5</td>\n",
              "      <td id=\"T_25211_row2_col2\" class=\"data row2 col2\" >customer_id, customer_unique_id, customer_zip_code_prefix, customer_city, customer_state</td>\n",
              "      <td id=\"T_25211_row2_col3\" class=\"data row2 col3\" >99441</td>\n",
              "    </tr>\n",
              "    <tr>\n",
              "      <th id=\"T_25211_level0_row3\" class=\"row_heading level0 row3\" >3</th>\n",
              "      <td id=\"T_25211_row3_col0\" class=\"data row3 col0\" >sellers</td>\n",
              "      <td id=\"T_25211_row3_col1\" class=\"data row3 col1\" >4</td>\n",
              "      <td id=\"T_25211_row3_col2\" class=\"data row3 col2\" >seller_id, seller_zip_code_prefix, seller_city, seller_state</td>\n",
              "      <td id=\"T_25211_row3_col3\" class=\"data row3 col3\" >3095</td>\n",
              "    </tr>\n",
              "    <tr>\n",
              "      <th id=\"T_25211_level0_row4\" class=\"row_heading level0 row4\" >4</th>\n",
              "      <td id=\"T_25211_row4_col0\" class=\"data row4 col0\" >products</td>\n",
              "      <td id=\"T_25211_row4_col1\" class=\"data row4 col1\" >9</td>\n",
              "      <td id=\"T_25211_row4_col2\" class=\"data row4 col2\" >product_id, product_category_name, product_name_lenght, product_description_lenght, product_photos_qty, product_weight_g, product_length_cm, product_height_cm, product_width_cm</td>\n",
              "      <td id=\"T_25211_row4_col3\" class=\"data row4 col3\" >32951</td>\n",
              "    </tr>\n",
              "    <tr>\n",
              "      <th id=\"T_25211_level0_row5\" class=\"row_heading level0 row5\" >5</th>\n",
              "      <td id=\"T_25211_row5_col0\" class=\"data row5 col0\" >payments</td>\n",
              "      <td id=\"T_25211_row5_col1\" class=\"data row5 col1\" >5</td>\n",
              "      <td id=\"T_25211_row5_col2\" class=\"data row5 col2\" >order_id, payment_sequential, payment_type, payment_installments, payment_value</td>\n",
              "      <td id=\"T_25211_row5_col3\" class=\"data row5 col3\" >103886</td>\n",
              "    </tr>\n",
              "    <tr>\n",
              "      <th id=\"T_25211_level0_row6\" class=\"row_heading level0 row6\" >6</th>\n",
              "      <td id=\"T_25211_row6_col0\" class=\"data row6 col0\" >reviews</td>\n",
              "      <td id=\"T_25211_row6_col1\" class=\"data row6 col1\" >7</td>\n",
              "      <td id=\"T_25211_row6_col2\" class=\"data row6 col2\" >review_id, order_id, review_score, review_comment_title, review_comment_message, review_creation_date, review_answer_timestamp</td>\n",
              "      <td id=\"T_25211_row6_col3\" class=\"data row6 col3\" >99224</td>\n",
              "    </tr>\n",
              "    <tr>\n",
              "      <th id=\"T_25211_level0_row7\" class=\"row_heading level0 row7\" >7</th>\n",
              "      <td id=\"T_25211_row7_col0\" class=\"data row7 col0\" >geolocation</td>\n",
              "      <td id=\"T_25211_row7_col1\" class=\"data row7 col1\" >5</td>\n",
              "      <td id=\"T_25211_row7_col2\" class=\"data row7 col2\" >geolocation_zip_code_prefix, geolocation_lat, geolocation_lng, geolocation_city, geolocation_state</td>\n",
              "      <td id=\"T_25211_row7_col3\" class=\"data row7 col3\" >1000163</td>\n",
              "    </tr>\n",
              "  </tbody>\n",
              "</table>\n"
            ]
          },
          "metadata": {},
          "execution_count": 8
        }
      ]
    },
    {
      "cell_type": "markdown",
      "source": [
        "9 - Quantos Ceps únicos temos no banco de dados?"
      ],
      "metadata": {
        "id": "eL1UQG1ODQoY"
      }
    },
    {
      "cell_type": "code",
      "source": [
        "df_geolocation.head()"
      ],
      "metadata": {
        "colab": {
          "base_uri": "https://localhost:8080/",
          "height": 206
        },
        "id": "u-I7waMYC7fM",
        "outputId": "c2562e1b-37d6-4f93-e9a6-92791d7c5ab9"
      },
      "execution_count": 9,
      "outputs": [
        {
          "output_type": "execute_result",
          "data": {
            "text/plain": [
              "   geolocation_zip_code_prefix  geolocation_lat  geolocation_lng  \\\n",
              "0                         1037       -23.545621       -46.639292   \n",
              "1                         1046       -23.546081       -46.644820   \n",
              "2                         1046       -23.546129       -46.642951   \n",
              "3                         1041       -23.544392       -46.639499   \n",
              "4                         1035       -23.541578       -46.641607   \n",
              "\n",
              "  geolocation_city geolocation_state  \n",
              "0        sao paulo                SP  \n",
              "1        sao paulo                SP  \n",
              "2        sao paulo                SP  \n",
              "3        sao paulo                SP  \n",
              "4        sao paulo                SP  "
            ],
            "text/html": [
              "\n",
              "  <div id=\"df-192738b4-7c7e-4157-8c94-4c7fafe65ab9\">\n",
              "    <div class=\"colab-df-container\">\n",
              "      <div>\n",
              "<style scoped>\n",
              "    .dataframe tbody tr th:only-of-type {\n",
              "        vertical-align: middle;\n",
              "    }\n",
              "\n",
              "    .dataframe tbody tr th {\n",
              "        vertical-align: top;\n",
              "    }\n",
              "\n",
              "    .dataframe thead th {\n",
              "        text-align: right;\n",
              "    }\n",
              "</style>\n",
              "<table border=\"1\" class=\"dataframe\">\n",
              "  <thead>\n",
              "    <tr style=\"text-align: right;\">\n",
              "      <th></th>\n",
              "      <th>geolocation_zip_code_prefix</th>\n",
              "      <th>geolocation_lat</th>\n",
              "      <th>geolocation_lng</th>\n",
              "      <th>geolocation_city</th>\n",
              "      <th>geolocation_state</th>\n",
              "    </tr>\n",
              "  </thead>\n",
              "  <tbody>\n",
              "    <tr>\n",
              "      <th>0</th>\n",
              "      <td>1037</td>\n",
              "      <td>-23.545621</td>\n",
              "      <td>-46.639292</td>\n",
              "      <td>sao paulo</td>\n",
              "      <td>SP</td>\n",
              "    </tr>\n",
              "    <tr>\n",
              "      <th>1</th>\n",
              "      <td>1046</td>\n",
              "      <td>-23.546081</td>\n",
              "      <td>-46.644820</td>\n",
              "      <td>sao paulo</td>\n",
              "      <td>SP</td>\n",
              "    </tr>\n",
              "    <tr>\n",
              "      <th>2</th>\n",
              "      <td>1046</td>\n",
              "      <td>-23.546129</td>\n",
              "      <td>-46.642951</td>\n",
              "      <td>sao paulo</td>\n",
              "      <td>SP</td>\n",
              "    </tr>\n",
              "    <tr>\n",
              "      <th>3</th>\n",
              "      <td>1041</td>\n",
              "      <td>-23.544392</td>\n",
              "      <td>-46.639499</td>\n",
              "      <td>sao paulo</td>\n",
              "      <td>SP</td>\n",
              "    </tr>\n",
              "    <tr>\n",
              "      <th>4</th>\n",
              "      <td>1035</td>\n",
              "      <td>-23.541578</td>\n",
              "      <td>-46.641607</td>\n",
              "      <td>sao paulo</td>\n",
              "      <td>SP</td>\n",
              "    </tr>\n",
              "  </tbody>\n",
              "</table>\n",
              "</div>\n",
              "      <button class=\"colab-df-convert\" onclick=\"convertToInteractive('df-192738b4-7c7e-4157-8c94-4c7fafe65ab9')\"\n",
              "              title=\"Convert this dataframe to an interactive table.\"\n",
              "              style=\"display:none;\">\n",
              "        \n",
              "  <svg xmlns=\"http://www.w3.org/2000/svg\" height=\"24px\"viewBox=\"0 0 24 24\"\n",
              "       width=\"24px\">\n",
              "    <path d=\"M0 0h24v24H0V0z\" fill=\"none\"/>\n",
              "    <path d=\"M18.56 5.44l.94 2.06.94-2.06 2.06-.94-2.06-.94-.94-2.06-.94 2.06-2.06.94zm-11 1L8.5 8.5l.94-2.06 2.06-.94-2.06-.94L8.5 2.5l-.94 2.06-2.06.94zm10 10l.94 2.06.94-2.06 2.06-.94-2.06-.94-.94-2.06-.94 2.06-2.06.94z\"/><path d=\"M17.41 7.96l-1.37-1.37c-.4-.4-.92-.59-1.43-.59-.52 0-1.04.2-1.43.59L10.3 9.45l-7.72 7.72c-.78.78-.78 2.05 0 2.83L4 21.41c.39.39.9.59 1.41.59.51 0 1.02-.2 1.41-.59l7.78-7.78 2.81-2.81c.8-.78.8-2.07 0-2.86zM5.41 20L4 18.59l7.72-7.72 1.47 1.35L5.41 20z\"/>\n",
              "  </svg>\n",
              "      </button>\n",
              "      \n",
              "  <style>\n",
              "    .colab-df-container {\n",
              "      display:flex;\n",
              "      flex-wrap:wrap;\n",
              "      gap: 12px;\n",
              "    }\n",
              "\n",
              "    .colab-df-convert {\n",
              "      background-color: #E8F0FE;\n",
              "      border: none;\n",
              "      border-radius: 50%;\n",
              "      cursor: pointer;\n",
              "      display: none;\n",
              "      fill: #1967D2;\n",
              "      height: 32px;\n",
              "      padding: 0 0 0 0;\n",
              "      width: 32px;\n",
              "    }\n",
              "\n",
              "    .colab-df-convert:hover {\n",
              "      background-color: #E2EBFA;\n",
              "      box-shadow: 0px 1px 2px rgba(60, 64, 67, 0.3), 0px 1px 3px 1px rgba(60, 64, 67, 0.15);\n",
              "      fill: #174EA6;\n",
              "    }\n",
              "\n",
              "    [theme=dark] .colab-df-convert {\n",
              "      background-color: #3B4455;\n",
              "      fill: #D2E3FC;\n",
              "    }\n",
              "\n",
              "    [theme=dark] .colab-df-convert:hover {\n",
              "      background-color: #434B5C;\n",
              "      box-shadow: 0px 1px 3px 1px rgba(0, 0, 0, 0.15);\n",
              "      filter: drop-shadow(0px 1px 2px rgba(0, 0, 0, 0.3));\n",
              "      fill: #FFFFFF;\n",
              "    }\n",
              "  </style>\n",
              "\n",
              "      <script>\n",
              "        const buttonEl =\n",
              "          document.querySelector('#df-192738b4-7c7e-4157-8c94-4c7fafe65ab9 button.colab-df-convert');\n",
              "        buttonEl.style.display =\n",
              "          google.colab.kernel.accessAllowed ? 'block' : 'none';\n",
              "\n",
              "        async function convertToInteractive(key) {\n",
              "          const element = document.querySelector('#df-192738b4-7c7e-4157-8c94-4c7fafe65ab9');\n",
              "          const dataTable =\n",
              "            await google.colab.kernel.invokeFunction('convertToInteractive',\n",
              "                                                     [key], {});\n",
              "          if (!dataTable) return;\n",
              "\n",
              "          const docLinkHtml = 'Like what you see? Visit the ' +\n",
              "            '<a target=\"_blank\" href=https://colab.research.google.com/notebooks/data_table.ipynb>data table notebook</a>'\n",
              "            + ' to learn more about interactive tables.';\n",
              "          element.innerHTML = '';\n",
              "          dataTable['output_type'] = 'display_data';\n",
              "          await google.colab.output.renderOutput(dataTable, element);\n",
              "          const docLink = document.createElement('div');\n",
              "          docLink.innerHTML = docLinkHtml;\n",
              "          element.appendChild(docLink);\n",
              "        }\n",
              "      </script>\n",
              "    </div>\n",
              "  </div>\n",
              "  "
            ]
          },
          "metadata": {},
          "execution_count": 9
        }
      ]
    },
    {
      "cell_type": "code",
      "source": [
        "df_geolocation.geolocation_zip_code_prefix.nunique()"
      ],
      "metadata": {
        "id": "y7gfqkZcAHAn",
        "outputId": "dc842a86-1b47-4b5b-e0bc-4692e5f0ab4c",
        "colab": {
          "base_uri": "https://localhost:8080/"
        }
      },
      "execution_count": null,
      "outputs": [
        {
          "output_type": "execute_result",
          "data": {
            "text/plain": [
              "19015"
            ]
          },
          "metadata": {},
          "execution_count": 31
        }
      ]
    },
    {
      "cell_type": "markdown",
      "source": [
        "10 - Quantas latitudes e longitudes estão expressas na base de dados?"
      ],
      "metadata": {
        "id": "6b3nd8WHDdOf"
      }
    },
    {
      "cell_type": "code",
      "source": [
        "df_geolocation.geolocation_lat.value_counts().sum()"
      ],
      "metadata": {
        "colab": {
          "base_uri": "https://localhost:8080/"
        },
        "id": "P_41I_GqDlcG",
        "outputId": "e2722434-569c-4e46-d571-0129c55240dd"
      },
      "execution_count": null,
      "outputs": [
        {
          "output_type": "execute_result",
          "data": {
            "text/plain": [
              "1000163"
            ]
          },
          "metadata": {},
          "execution_count": 32
        }
      ]
    },
    {
      "cell_type": "code",
      "source": [
        "df_geolocation.geolocation_lng.value_counts().sum()"
      ],
      "metadata": {
        "colab": {
          "base_uri": "https://localhost:8080/"
        },
        "id": "0BEa3nSUDx8Q",
        "outputId": "a3dedd48-2ca9-4f53-9601-819d000777e8"
      },
      "execution_count": null,
      "outputs": [
        {
          "output_type": "execute_result",
          "data": {
            "text/plain": [
              "1000163"
            ]
          },
          "metadata": {},
          "execution_count": 33
        }
      ]
    },
    {
      "cell_type": "markdown",
      "source": [
        "11 - Crie um método para agrupar todas as diferentes latitudes e longitudes que um determinado CEP possui\n",
        "para um valor único por CEP. Dica Use a função **group_by** e **aggregate**"
      ],
      "metadata": {
        "id": "oQ17Dc2EELFO"
      }
    },
    {
      "cell_type": "code",
      "source": [
        "df_geolocation = df_geolocation.rename(columns={\"geolocation_zip_code_prefix\":\"zip_code\"})"
      ],
      "metadata": {
        "id": "fMnNf1dL8BVn"
      },
      "execution_count": 16,
      "outputs": []
    },
    {
      "cell_type": "code",
      "source": [
        "df_geolocation.geolocation_lng.value_counts().sum()"
      ],
      "metadata": {
        "colab": {
          "base_uri": "https://localhost:8080/"
        },
        "outputId": "a3dedd48-2ca9-4f53-9601-819d000777e8",
        "id": "U1ScQsde89MM"
      },
      "execution_count": null,
      "outputs": [
        {
          "output_type": "execute_result",
          "data": {
            "text/plain": [
              "1000163"
            ]
          },
          "metadata": {},
          "execution_count": 33
        }
      ]
    },
    {
      "cell_type": "code",
      "source": [
        "df_geolocation.geolocation_lng.value_counts().sum()"
      ],
      "metadata": {
        "colab": {
          "base_uri": "https://localhost:8080/"
        },
        "outputId": "a3dedd48-2ca9-4f53-9601-819d000777e8",
        "id": "QNSwhAry87O2"
      },
      "execution_count": null,
      "outputs": [
        {
          "output_type": "execute_result",
          "data": {
            "text/plain": [
              "1000163"
            ]
          },
          "metadata": {},
          "execution_count": 33
        }
      ]
    },
    {
      "cell_type": "code",
      "source": [
        "df_geolocation.geolocation_lng.value_counts().sum()"
      ],
      "metadata": {
        "colab": {
          "base_uri": "https://localhost:8080/"
        },
        "outputId": "a3dedd48-2ca9-4f53-9601-819d000777e8",
        "id": "EYkEeF9h86R7"
      },
      "execution_count": null,
      "outputs": [
        {
          "output_type": "execute_result",
          "data": {
            "text/plain": [
              "1000163"
            ]
          },
          "metadata": {},
          "execution_count": 33
        }
      ]
    },
    {
      "cell_type": "code",
      "source": [
        "df_geolocation.groupby(\"zip_code\").head()"
      ],
      "metadata": {
        "colab": {
          "base_uri": "https://localhost:8080/",
          "height": 424
        },
        "id": "Q9LdiGXXEEFY",
        "outputId": "a8417906-90a9-4e97-d6e2-6ab09cbffde4"
      },
      "execution_count": 19,
      "outputs": [
        {
          "output_type": "execute_result",
          "data": {
            "text/plain": [
              "         zip_code  geolocation_lat  geolocation_lng      geolocation_city  \\\n",
              "0            1037       -23.545621       -46.639292             sao paulo   \n",
              "1            1046       -23.546081       -46.644820             sao paulo   \n",
              "2            1046       -23.546129       -46.642951             sao paulo   \n",
              "3            1041       -23.544392       -46.639499             sao paulo   \n",
              "4            1035       -23.541578       -46.641607             sao paulo   \n",
              "...           ...              ...              ...                   ...   \n",
              "999961      99960       -27.953858       -52.031943               charrua   \n",
              "999996      99952       -28.182027       -51.880215  santa cecilia do sul   \n",
              "1000008     99925       -27.936330       -52.425730       ipiranga do sul   \n",
              "1000067     99965       -28.174697       -52.035508            agua santa   \n",
              "1000085     99960       -27.954114       -52.016483               charrua   \n",
              "\n",
              "        geolocation_state  \n",
              "0                      SP  \n",
              "1                      SP  \n",
              "2                      SP  \n",
              "3                      SP  \n",
              "4                      SP  \n",
              "...                   ...  \n",
              "999961                 RS  \n",
              "999996                 RS  \n",
              "1000008                RS  \n",
              "1000067                RS  \n",
              "1000085                RS  \n",
              "\n",
              "[87507 rows x 5 columns]"
            ],
            "text/html": [
              "\n",
              "  <div id=\"df-f63e045a-e49b-4c31-a206-62f198fb39bd\">\n",
              "    <div class=\"colab-df-container\">\n",
              "      <div>\n",
              "<style scoped>\n",
              "    .dataframe tbody tr th:only-of-type {\n",
              "        vertical-align: middle;\n",
              "    }\n",
              "\n",
              "    .dataframe tbody tr th {\n",
              "        vertical-align: top;\n",
              "    }\n",
              "\n",
              "    .dataframe thead th {\n",
              "        text-align: right;\n",
              "    }\n",
              "</style>\n",
              "<table border=\"1\" class=\"dataframe\">\n",
              "  <thead>\n",
              "    <tr style=\"text-align: right;\">\n",
              "      <th></th>\n",
              "      <th>zip_code</th>\n",
              "      <th>geolocation_lat</th>\n",
              "      <th>geolocation_lng</th>\n",
              "      <th>geolocation_city</th>\n",
              "      <th>geolocation_state</th>\n",
              "    </tr>\n",
              "  </thead>\n",
              "  <tbody>\n",
              "    <tr>\n",
              "      <th>0</th>\n",
              "      <td>1037</td>\n",
              "      <td>-23.545621</td>\n",
              "      <td>-46.639292</td>\n",
              "      <td>sao paulo</td>\n",
              "      <td>SP</td>\n",
              "    </tr>\n",
              "    <tr>\n",
              "      <th>1</th>\n",
              "      <td>1046</td>\n",
              "      <td>-23.546081</td>\n",
              "      <td>-46.644820</td>\n",
              "      <td>sao paulo</td>\n",
              "      <td>SP</td>\n",
              "    </tr>\n",
              "    <tr>\n",
              "      <th>2</th>\n",
              "      <td>1046</td>\n",
              "      <td>-23.546129</td>\n",
              "      <td>-46.642951</td>\n",
              "      <td>sao paulo</td>\n",
              "      <td>SP</td>\n",
              "    </tr>\n",
              "    <tr>\n",
              "      <th>3</th>\n",
              "      <td>1041</td>\n",
              "      <td>-23.544392</td>\n",
              "      <td>-46.639499</td>\n",
              "      <td>sao paulo</td>\n",
              "      <td>SP</td>\n",
              "    </tr>\n",
              "    <tr>\n",
              "      <th>4</th>\n",
              "      <td>1035</td>\n",
              "      <td>-23.541578</td>\n",
              "      <td>-46.641607</td>\n",
              "      <td>sao paulo</td>\n",
              "      <td>SP</td>\n",
              "    </tr>\n",
              "    <tr>\n",
              "      <th>...</th>\n",
              "      <td>...</td>\n",
              "      <td>...</td>\n",
              "      <td>...</td>\n",
              "      <td>...</td>\n",
              "      <td>...</td>\n",
              "    </tr>\n",
              "    <tr>\n",
              "      <th>999961</th>\n",
              "      <td>99960</td>\n",
              "      <td>-27.953858</td>\n",
              "      <td>-52.031943</td>\n",
              "      <td>charrua</td>\n",
              "      <td>RS</td>\n",
              "    </tr>\n",
              "    <tr>\n",
              "      <th>999996</th>\n",
              "      <td>99952</td>\n",
              "      <td>-28.182027</td>\n",
              "      <td>-51.880215</td>\n",
              "      <td>santa cecilia do sul</td>\n",
              "      <td>RS</td>\n",
              "    </tr>\n",
              "    <tr>\n",
              "      <th>1000008</th>\n",
              "      <td>99925</td>\n",
              "      <td>-27.936330</td>\n",
              "      <td>-52.425730</td>\n",
              "      <td>ipiranga do sul</td>\n",
              "      <td>RS</td>\n",
              "    </tr>\n",
              "    <tr>\n",
              "      <th>1000067</th>\n",
              "      <td>99965</td>\n",
              "      <td>-28.174697</td>\n",
              "      <td>-52.035508</td>\n",
              "      <td>agua santa</td>\n",
              "      <td>RS</td>\n",
              "    </tr>\n",
              "    <tr>\n",
              "      <th>1000085</th>\n",
              "      <td>99960</td>\n",
              "      <td>-27.954114</td>\n",
              "      <td>-52.016483</td>\n",
              "      <td>charrua</td>\n",
              "      <td>RS</td>\n",
              "    </tr>\n",
              "  </tbody>\n",
              "</table>\n",
              "<p>87507 rows × 5 columns</p>\n",
              "</div>\n",
              "      <button class=\"colab-df-convert\" onclick=\"convertToInteractive('df-f63e045a-e49b-4c31-a206-62f198fb39bd')\"\n",
              "              title=\"Convert this dataframe to an interactive table.\"\n",
              "              style=\"display:none;\">\n",
              "        \n",
              "  <svg xmlns=\"http://www.w3.org/2000/svg\" height=\"24px\"viewBox=\"0 0 24 24\"\n",
              "       width=\"24px\">\n",
              "    <path d=\"M0 0h24v24H0V0z\" fill=\"none\"/>\n",
              "    <path d=\"M18.56 5.44l.94 2.06.94-2.06 2.06-.94-2.06-.94-.94-2.06-.94 2.06-2.06.94zm-11 1L8.5 8.5l.94-2.06 2.06-.94-2.06-.94L8.5 2.5l-.94 2.06-2.06.94zm10 10l.94 2.06.94-2.06 2.06-.94-2.06-.94-.94-2.06-.94 2.06-2.06.94z\"/><path d=\"M17.41 7.96l-1.37-1.37c-.4-.4-.92-.59-1.43-.59-.52 0-1.04.2-1.43.59L10.3 9.45l-7.72 7.72c-.78.78-.78 2.05 0 2.83L4 21.41c.39.39.9.59 1.41.59.51 0 1.02-.2 1.41-.59l7.78-7.78 2.81-2.81c.8-.78.8-2.07 0-2.86zM5.41 20L4 18.59l7.72-7.72 1.47 1.35L5.41 20z\"/>\n",
              "  </svg>\n",
              "      </button>\n",
              "      \n",
              "  <style>\n",
              "    .colab-df-container {\n",
              "      display:flex;\n",
              "      flex-wrap:wrap;\n",
              "      gap: 12px;\n",
              "    }\n",
              "\n",
              "    .colab-df-convert {\n",
              "      background-color: #E8F0FE;\n",
              "      border: none;\n",
              "      border-radius: 50%;\n",
              "      cursor: pointer;\n",
              "      display: none;\n",
              "      fill: #1967D2;\n",
              "      height: 32px;\n",
              "      padding: 0 0 0 0;\n",
              "      width: 32px;\n",
              "    }\n",
              "\n",
              "    .colab-df-convert:hover {\n",
              "      background-color: #E2EBFA;\n",
              "      box-shadow: 0px 1px 2px rgba(60, 64, 67, 0.3), 0px 1px 3px 1px rgba(60, 64, 67, 0.15);\n",
              "      fill: #174EA6;\n",
              "    }\n",
              "\n",
              "    [theme=dark] .colab-df-convert {\n",
              "      background-color: #3B4455;\n",
              "      fill: #D2E3FC;\n",
              "    }\n",
              "\n",
              "    [theme=dark] .colab-df-convert:hover {\n",
              "      background-color: #434B5C;\n",
              "      box-shadow: 0px 1px 3px 1px rgba(0, 0, 0, 0.15);\n",
              "      filter: drop-shadow(0px 1px 2px rgba(0, 0, 0, 0.3));\n",
              "      fill: #FFFFFF;\n",
              "    }\n",
              "  </style>\n",
              "\n",
              "      <script>\n",
              "        const buttonEl =\n",
              "          document.querySelector('#df-f63e045a-e49b-4c31-a206-62f198fb39bd button.colab-df-convert');\n",
              "        buttonEl.style.display =\n",
              "          google.colab.kernel.accessAllowed ? 'block' : 'none';\n",
              "\n",
              "        async function convertToInteractive(key) {\n",
              "          const element = document.querySelector('#df-f63e045a-e49b-4c31-a206-62f198fb39bd');\n",
              "          const dataTable =\n",
              "            await google.colab.kernel.invokeFunction('convertToInteractive',\n",
              "                                                     [key], {});\n",
              "          if (!dataTable) return;\n",
              "\n",
              "          const docLinkHtml = 'Like what you see? Visit the ' +\n",
              "            '<a target=\"_blank\" href=https://colab.research.google.com/notebooks/data_table.ipynb>data table notebook</a>'\n",
              "            + ' to learn more about interactive tables.';\n",
              "          element.innerHTML = '';\n",
              "          dataTable['output_type'] = 'display_data';\n",
              "          await google.colab.output.renderOutput(dataTable, element);\n",
              "          const docLink = document.createElement('div');\n",
              "          docLink.innerHTML = docLinkHtml;\n",
              "          element.appendChild(docLink);\n",
              "        }\n",
              "      </script>\n",
              "    </div>\n",
              "  </div>\n",
              "  "
            ]
          },
          "metadata": {},
          "execution_count": 19
        }
      ]
    },
    {
      "cell_type": "code",
      "source": [
        "df_geolocation.groupby(\"zip_code\").agg({\"geolocation_lat\":[\"mean\"],\"geolocation_lng\":[\"mean\"]})\n",
        "                                                           #,\"geolocation_city\":[pd.Series.mode],\\\n",
        "                                                           #\"geolocation_state\":[pd.Series.mode]})"
      ],
      "metadata": {
        "id": "U2mVsLLUE3OY",
        "colab": {
          "base_uri": "https://localhost:8080/",
          "height": 487
        },
        "outputId": "f9344c27-150c-4a1e-aad3-d2a1bbcca8e1"
      },
      "execution_count": 20,
      "outputs": [
        {
          "output_type": "execute_result",
          "data": {
            "text/plain": [
              "         geolocation_lat geolocation_lng\n",
              "                    mean            mean\n",
              "zip_code                                \n",
              "1001          -23.550190      -46.634024\n",
              "1002          -23.548146      -46.634979\n",
              "1003          -23.548994      -46.635731\n",
              "1004          -23.549799      -46.634757\n",
              "1005          -23.549456      -46.636733\n",
              "...                  ...             ...\n",
              "99960         -27.953722      -52.025511\n",
              "99965         -28.183372      -52.039850\n",
              "99970         -28.343766      -51.874689\n",
              "99980         -28.389129      -51.843836\n",
              "99990         -28.329595      -51.769362\n",
              "\n",
              "[19015 rows x 2 columns]"
            ],
            "text/html": [
              "\n",
              "  <div id=\"df-e15dec49-8a01-400c-80f6-cf5541ac740f\">\n",
              "    <div class=\"colab-df-container\">\n",
              "      <div>\n",
              "<style scoped>\n",
              "    .dataframe tbody tr th:only-of-type {\n",
              "        vertical-align: middle;\n",
              "    }\n",
              "\n",
              "    .dataframe tbody tr th {\n",
              "        vertical-align: top;\n",
              "    }\n",
              "\n",
              "    .dataframe thead tr th {\n",
              "        text-align: left;\n",
              "    }\n",
              "\n",
              "    .dataframe thead tr:last-of-type th {\n",
              "        text-align: right;\n",
              "    }\n",
              "</style>\n",
              "<table border=\"1\" class=\"dataframe\">\n",
              "  <thead>\n",
              "    <tr>\n",
              "      <th></th>\n",
              "      <th>geolocation_lat</th>\n",
              "      <th>geolocation_lng</th>\n",
              "    </tr>\n",
              "    <tr>\n",
              "      <th></th>\n",
              "      <th>mean</th>\n",
              "      <th>mean</th>\n",
              "    </tr>\n",
              "    <tr>\n",
              "      <th>zip_code</th>\n",
              "      <th></th>\n",
              "      <th></th>\n",
              "    </tr>\n",
              "  </thead>\n",
              "  <tbody>\n",
              "    <tr>\n",
              "      <th>1001</th>\n",
              "      <td>-23.550190</td>\n",
              "      <td>-46.634024</td>\n",
              "    </tr>\n",
              "    <tr>\n",
              "      <th>1002</th>\n",
              "      <td>-23.548146</td>\n",
              "      <td>-46.634979</td>\n",
              "    </tr>\n",
              "    <tr>\n",
              "      <th>1003</th>\n",
              "      <td>-23.548994</td>\n",
              "      <td>-46.635731</td>\n",
              "    </tr>\n",
              "    <tr>\n",
              "      <th>1004</th>\n",
              "      <td>-23.549799</td>\n",
              "      <td>-46.634757</td>\n",
              "    </tr>\n",
              "    <tr>\n",
              "      <th>1005</th>\n",
              "      <td>-23.549456</td>\n",
              "      <td>-46.636733</td>\n",
              "    </tr>\n",
              "    <tr>\n",
              "      <th>...</th>\n",
              "      <td>...</td>\n",
              "      <td>...</td>\n",
              "    </tr>\n",
              "    <tr>\n",
              "      <th>99960</th>\n",
              "      <td>-27.953722</td>\n",
              "      <td>-52.025511</td>\n",
              "    </tr>\n",
              "    <tr>\n",
              "      <th>99965</th>\n",
              "      <td>-28.183372</td>\n",
              "      <td>-52.039850</td>\n",
              "    </tr>\n",
              "    <tr>\n",
              "      <th>99970</th>\n",
              "      <td>-28.343766</td>\n",
              "      <td>-51.874689</td>\n",
              "    </tr>\n",
              "    <tr>\n",
              "      <th>99980</th>\n",
              "      <td>-28.389129</td>\n",
              "      <td>-51.843836</td>\n",
              "    </tr>\n",
              "    <tr>\n",
              "      <th>99990</th>\n",
              "      <td>-28.329595</td>\n",
              "      <td>-51.769362</td>\n",
              "    </tr>\n",
              "  </tbody>\n",
              "</table>\n",
              "<p>19015 rows × 2 columns</p>\n",
              "</div>\n",
              "      <button class=\"colab-df-convert\" onclick=\"convertToInteractive('df-e15dec49-8a01-400c-80f6-cf5541ac740f')\"\n",
              "              title=\"Convert this dataframe to an interactive table.\"\n",
              "              style=\"display:none;\">\n",
              "        \n",
              "  <svg xmlns=\"http://www.w3.org/2000/svg\" height=\"24px\"viewBox=\"0 0 24 24\"\n",
              "       width=\"24px\">\n",
              "    <path d=\"M0 0h24v24H0V0z\" fill=\"none\"/>\n",
              "    <path d=\"M18.56 5.44l.94 2.06.94-2.06 2.06-.94-2.06-.94-.94-2.06-.94 2.06-2.06.94zm-11 1L8.5 8.5l.94-2.06 2.06-.94-2.06-.94L8.5 2.5l-.94 2.06-2.06.94zm10 10l.94 2.06.94-2.06 2.06-.94-2.06-.94-.94-2.06-.94 2.06-2.06.94z\"/><path d=\"M17.41 7.96l-1.37-1.37c-.4-.4-.92-.59-1.43-.59-.52 0-1.04.2-1.43.59L10.3 9.45l-7.72 7.72c-.78.78-.78 2.05 0 2.83L4 21.41c.39.39.9.59 1.41.59.51 0 1.02-.2 1.41-.59l7.78-7.78 2.81-2.81c.8-.78.8-2.07 0-2.86zM5.41 20L4 18.59l7.72-7.72 1.47 1.35L5.41 20z\"/>\n",
              "  </svg>\n",
              "      </button>\n",
              "      \n",
              "  <style>\n",
              "    .colab-df-container {\n",
              "      display:flex;\n",
              "      flex-wrap:wrap;\n",
              "      gap: 12px;\n",
              "    }\n",
              "\n",
              "    .colab-df-convert {\n",
              "      background-color: #E8F0FE;\n",
              "      border: none;\n",
              "      border-radius: 50%;\n",
              "      cursor: pointer;\n",
              "      display: none;\n",
              "      fill: #1967D2;\n",
              "      height: 32px;\n",
              "      padding: 0 0 0 0;\n",
              "      width: 32px;\n",
              "    }\n",
              "\n",
              "    .colab-df-convert:hover {\n",
              "      background-color: #E2EBFA;\n",
              "      box-shadow: 0px 1px 2px rgba(60, 64, 67, 0.3), 0px 1px 3px 1px rgba(60, 64, 67, 0.15);\n",
              "      fill: #174EA6;\n",
              "    }\n",
              "\n",
              "    [theme=dark] .colab-df-convert {\n",
              "      background-color: #3B4455;\n",
              "      fill: #D2E3FC;\n",
              "    }\n",
              "\n",
              "    [theme=dark] .colab-df-convert:hover {\n",
              "      background-color: #434B5C;\n",
              "      box-shadow: 0px 1px 3px 1px rgba(0, 0, 0, 0.15);\n",
              "      filter: drop-shadow(0px 1px 2px rgba(0, 0, 0, 0.3));\n",
              "      fill: #FFFFFF;\n",
              "    }\n",
              "  </style>\n",
              "\n",
              "      <script>\n",
              "        const buttonEl =\n",
              "          document.querySelector('#df-e15dec49-8a01-400c-80f6-cf5541ac740f button.colab-df-convert');\n",
              "        buttonEl.style.display =\n",
              "          google.colab.kernel.accessAllowed ? 'block' : 'none';\n",
              "\n",
              "        async function convertToInteractive(key) {\n",
              "          const element = document.querySelector('#df-e15dec49-8a01-400c-80f6-cf5541ac740f');\n",
              "          const dataTable =\n",
              "            await google.colab.kernel.invokeFunction('convertToInteractive',\n",
              "                                                     [key], {});\n",
              "          if (!dataTable) return;\n",
              "\n",
              "          const docLinkHtml = 'Like what you see? Visit the ' +\n",
              "            '<a target=\"_blank\" href=https://colab.research.google.com/notebooks/data_table.ipynb>data table notebook</a>'\n",
              "            + ' to learn more about interactive tables.';\n",
              "          element.innerHTML = '';\n",
              "          dataTable['output_type'] = 'display_data';\n",
              "          await google.colab.output.renderOutput(dataTable, element);\n",
              "          const docLink = document.createElement('div');\n",
              "          docLink.innerHTML = docLinkHtml;\n",
              "          element.appendChild(docLink);\n",
              "        }\n",
              "      </script>\n",
              "    </div>\n",
              "  </div>\n",
              "  "
            ]
          },
          "metadata": {},
          "execution_count": 20
        }
      ]
    },
    {
      "cell_type": "code",
      "source": [
        "df_geolocation = df_geolocation.groupby(\"zip_code\").agg({\"geolocation_lat\":[\"mean\"],\"geolocation_lng\":[\"mean\"]}).drop_duplicates()\n",
        "                                                          #,\"geolocation_city\":[pd.Series.mode],\\\n",
        "                                                          # \"geolocation_state\":[pd.Series.mode]})"
      ],
      "metadata": {
        "id": "4ArN3Z9vHpTB"
      },
      "execution_count": 21,
      "outputs": []
    },
    {
      "cell_type": "code",
      "source": [
        "print(df_geolocation.duplicated(keep=False).sum())"
      ],
      "metadata": {
        "colab": {
          "base_uri": "https://localhost:8080/"
        },
        "id": "_chRB412XLp1",
        "outputId": "b342ed62-4955-4456-8f58-1e8e2bc74cd7"
      },
      "execution_count": 22,
      "outputs": [
        {
          "output_type": "stream",
          "name": "stdout",
          "text": [
            "0\n"
          ]
        }
      ]
    },
    {
      "cell_type": "markdown",
      "source": [
        "12 - Crie um método para agregar todas as tabelas disponíveis em uma única tabela"
      ],
      "metadata": {
        "id": "f1e99XrPRNfN"
      }
    },
    {
      "cell_type": "code",
      "source": [
        "df_customers.rename(columns={\"customer_zip_code_prefix\": \"zip_code\"}, inplace=True)\n"
      ],
      "metadata": {
        "id": "V53GjzxrMEB4"
      },
      "execution_count": 23,
      "outputs": []
    },
    {
      "cell_type": "code",
      "source": [
        "olist = df_orders.merge(df_customers, on=\"customer_id\").merge(df_geolocation, on=\"zip_code\").merge(df_order_items, on=\"order_id\").merge(df_products, on=\"product_id\").merge\\\n",
        "      (df_order_payments, on=\"order_id\").merge(df_sellers, on=\"seller_id\").merge(df_order_reviews, on=\"order_id\")\n",
        "      \n",
        "      "
      ],
      "metadata": {
        "id": "1owa-eacN4sb",
        "colab": {
          "base_uri": "https://localhost:8080/"
        },
        "outputId": "0062f140-4466-46d0-e427-a6450f2ef819"
      },
      "execution_count": 32,
      "outputs": [
        {
          "output_type": "stream",
          "name": "stderr",
          "text": [
            "/usr/local/lib/python3.7/dist-packages/pandas/core/frame.py:9203: FutureWarning: merging between different levels is deprecated and will be removed in a future version. (1 levels on the left,2 on the right)\n",
            "  validate=validate,\n"
          ]
        }
      ]
    },
    {
      "cell_type": "code",
      "source": [
        "olist.head()"
      ],
      "metadata": {
        "colab": {
          "base_uri": "https://localhost:8080/",
          "height": 369
        },
        "id": "88jtafCHQQYl",
        "outputId": "6f2de400-5ccb-44ea-be83-ca42309972c0"
      },
      "execution_count": 33,
      "outputs": [
        {
          "output_type": "execute_result",
          "data": {
            "text/plain": [
              "                           order_id                       customer_id  \\\n",
              "0  e481f51cbdc54678b7cc49136f2d6af7  9ef432eb6251297304e76186b10a928d   \n",
              "1  e481f51cbdc54678b7cc49136f2d6af7  9ef432eb6251297304e76186b10a928d   \n",
              "2  e481f51cbdc54678b7cc49136f2d6af7  9ef432eb6251297304e76186b10a928d   \n",
              "3  bfc39df4f36c3693ff3b63fcbea9e90a  53904ddbea91e1e92b2b3f1d09a7af86   \n",
              "4  128e10d95713541c87cd1a2e48201934  a20e8105f23924cd00833fd87daa0831   \n",
              "\n",
              "  order_status order_purchase_timestamp    order_approved_at  \\\n",
              "0    delivered      2017-10-02 10:56:33  2017-10-02 11:07:15   \n",
              "1    delivered      2017-10-02 10:56:33  2017-10-02 11:07:15   \n",
              "2    delivered      2017-10-02 10:56:33  2017-10-02 11:07:15   \n",
              "3    delivered      2017-10-23 23:26:46  2017-10-25 02:14:11   \n",
              "4    delivered      2017-08-15 18:29:31  2017-08-15 20:05:16   \n",
              "\n",
              "  order_delivered_carrier_date order_delivered_customer_date  \\\n",
              "0          2017-10-04 19:55:00           2017-10-10 21:25:13   \n",
              "1          2017-10-04 19:55:00           2017-10-10 21:25:13   \n",
              "2          2017-10-04 19:55:00           2017-10-10 21:25:13   \n",
              "3          2017-10-27 16:48:46           2017-11-07 18:04:59   \n",
              "4          2017-08-17 15:28:33           2017-08-18 14:44:43   \n",
              "\n",
              "  order_estimated_delivery_date                customer_unique_id  zip_code  \\\n",
              "0           2017-10-18 00:00:00  7c396fd4830fd04220f754e42b4e5bff      3149   \n",
              "1           2017-10-18 00:00:00  7c396fd4830fd04220f754e42b4e5bff      3149   \n",
              "2           2017-10-18 00:00:00  7c396fd4830fd04220f754e42b4e5bff      3149   \n",
              "3           2017-11-13 00:00:00  e781fdcc107d13d865fc7698711cc572     88032   \n",
              "4           2017-08-28 00:00:00  3a51803cc0d012c3b5dc8b7528cb05f7      3366   \n",
              "\n",
              "   ... payment_value seller_zip_code_prefix  seller_city  seller_state  \\\n",
              "0  ...         18.12                   9350         maua            SP   \n",
              "1  ...          2.00                   9350         maua            SP   \n",
              "2  ...         18.59                   9350         maua            SP   \n",
              "3  ...         44.09                   9350         maua            SP   \n",
              "4  ...         37.77                   9350         maua            SP   \n",
              "\n",
              "                          review_id review_score review_comment_title  \\\n",
              "0  a54f0611adc9ed256b57ede6b6eb5114            4                  NaN   \n",
              "1  a54f0611adc9ed256b57ede6b6eb5114            4                  NaN   \n",
              "2  a54f0611adc9ed256b57ede6b6eb5114            4                  NaN   \n",
              "3  1bafb430e498b939f258b9c9dbdff9b1            3                  NaN   \n",
              "4  b46f1e34512b0f4c74a72398b03ca788            4                  NaN   \n",
              "\n",
              "                              review_comment_message  review_creation_date  \\\n",
              "0  Não testei o produto ainda, mas ele veio corre...   2017-10-11 00:00:00   \n",
              "1  Não testei o produto ainda, mas ele veio corre...   2017-10-11 00:00:00   \n",
              "2  Não testei o produto ainda, mas ele veio corre...   2017-10-11 00:00:00   \n",
              "3                                                NaN   2017-11-08 00:00:00   \n",
              "4  Deveriam embalar melhor o produto. A caixa vei...   2017-08-19 00:00:00   \n",
              "\n",
              "   review_answer_timestamp  \n",
              "0      2017-10-12 03:43:48  \n",
              "1      2017-10-12 03:43:48  \n",
              "2      2017-10-12 03:43:48  \n",
              "3      2017-11-10 19:52:38  \n",
              "4      2017-08-20 15:16:36  \n",
              "\n",
              "[5 rows x 41 columns]"
            ],
            "text/html": [
              "\n",
              "  <div id=\"df-422f8317-120f-4be6-bb2c-6ebbce8a7112\">\n",
              "    <div class=\"colab-df-container\">\n",
              "      <div>\n",
              "<style scoped>\n",
              "    .dataframe tbody tr th:only-of-type {\n",
              "        vertical-align: middle;\n",
              "    }\n",
              "\n",
              "    .dataframe tbody tr th {\n",
              "        vertical-align: top;\n",
              "    }\n",
              "\n",
              "    .dataframe thead th {\n",
              "        text-align: right;\n",
              "    }\n",
              "</style>\n",
              "<table border=\"1\" class=\"dataframe\">\n",
              "  <thead>\n",
              "    <tr style=\"text-align: right;\">\n",
              "      <th></th>\n",
              "      <th>order_id</th>\n",
              "      <th>customer_id</th>\n",
              "      <th>order_status</th>\n",
              "      <th>order_purchase_timestamp</th>\n",
              "      <th>order_approved_at</th>\n",
              "      <th>order_delivered_carrier_date</th>\n",
              "      <th>order_delivered_customer_date</th>\n",
              "      <th>order_estimated_delivery_date</th>\n",
              "      <th>customer_unique_id</th>\n",
              "      <th>zip_code</th>\n",
              "      <th>...</th>\n",
              "      <th>payment_value</th>\n",
              "      <th>seller_zip_code_prefix</th>\n",
              "      <th>seller_city</th>\n",
              "      <th>seller_state</th>\n",
              "      <th>review_id</th>\n",
              "      <th>review_score</th>\n",
              "      <th>review_comment_title</th>\n",
              "      <th>review_comment_message</th>\n",
              "      <th>review_creation_date</th>\n",
              "      <th>review_answer_timestamp</th>\n",
              "    </tr>\n",
              "  </thead>\n",
              "  <tbody>\n",
              "    <tr>\n",
              "      <th>0</th>\n",
              "      <td>e481f51cbdc54678b7cc49136f2d6af7</td>\n",
              "      <td>9ef432eb6251297304e76186b10a928d</td>\n",
              "      <td>delivered</td>\n",
              "      <td>2017-10-02 10:56:33</td>\n",
              "      <td>2017-10-02 11:07:15</td>\n",
              "      <td>2017-10-04 19:55:00</td>\n",
              "      <td>2017-10-10 21:25:13</td>\n",
              "      <td>2017-10-18 00:00:00</td>\n",
              "      <td>7c396fd4830fd04220f754e42b4e5bff</td>\n",
              "      <td>3149</td>\n",
              "      <td>...</td>\n",
              "      <td>18.12</td>\n",
              "      <td>9350</td>\n",
              "      <td>maua</td>\n",
              "      <td>SP</td>\n",
              "      <td>a54f0611adc9ed256b57ede6b6eb5114</td>\n",
              "      <td>4</td>\n",
              "      <td>NaN</td>\n",
              "      <td>Não testei o produto ainda, mas ele veio corre...</td>\n",
              "      <td>2017-10-11 00:00:00</td>\n",
              "      <td>2017-10-12 03:43:48</td>\n",
              "    </tr>\n",
              "    <tr>\n",
              "      <th>1</th>\n",
              "      <td>e481f51cbdc54678b7cc49136f2d6af7</td>\n",
              "      <td>9ef432eb6251297304e76186b10a928d</td>\n",
              "      <td>delivered</td>\n",
              "      <td>2017-10-02 10:56:33</td>\n",
              "      <td>2017-10-02 11:07:15</td>\n",
              "      <td>2017-10-04 19:55:00</td>\n",
              "      <td>2017-10-10 21:25:13</td>\n",
              "      <td>2017-10-18 00:00:00</td>\n",
              "      <td>7c396fd4830fd04220f754e42b4e5bff</td>\n",
              "      <td>3149</td>\n",
              "      <td>...</td>\n",
              "      <td>2.00</td>\n",
              "      <td>9350</td>\n",
              "      <td>maua</td>\n",
              "      <td>SP</td>\n",
              "      <td>a54f0611adc9ed256b57ede6b6eb5114</td>\n",
              "      <td>4</td>\n",
              "      <td>NaN</td>\n",
              "      <td>Não testei o produto ainda, mas ele veio corre...</td>\n",
              "      <td>2017-10-11 00:00:00</td>\n",
              "      <td>2017-10-12 03:43:48</td>\n",
              "    </tr>\n",
              "    <tr>\n",
              "      <th>2</th>\n",
              "      <td>e481f51cbdc54678b7cc49136f2d6af7</td>\n",
              "      <td>9ef432eb6251297304e76186b10a928d</td>\n",
              "      <td>delivered</td>\n",
              "      <td>2017-10-02 10:56:33</td>\n",
              "      <td>2017-10-02 11:07:15</td>\n",
              "      <td>2017-10-04 19:55:00</td>\n",
              "      <td>2017-10-10 21:25:13</td>\n",
              "      <td>2017-10-18 00:00:00</td>\n",
              "      <td>7c396fd4830fd04220f754e42b4e5bff</td>\n",
              "      <td>3149</td>\n",
              "      <td>...</td>\n",
              "      <td>18.59</td>\n",
              "      <td>9350</td>\n",
              "      <td>maua</td>\n",
              "      <td>SP</td>\n",
              "      <td>a54f0611adc9ed256b57ede6b6eb5114</td>\n",
              "      <td>4</td>\n",
              "      <td>NaN</td>\n",
              "      <td>Não testei o produto ainda, mas ele veio corre...</td>\n",
              "      <td>2017-10-11 00:00:00</td>\n",
              "      <td>2017-10-12 03:43:48</td>\n",
              "    </tr>\n",
              "    <tr>\n",
              "      <th>3</th>\n",
              "      <td>bfc39df4f36c3693ff3b63fcbea9e90a</td>\n",
              "      <td>53904ddbea91e1e92b2b3f1d09a7af86</td>\n",
              "      <td>delivered</td>\n",
              "      <td>2017-10-23 23:26:46</td>\n",
              "      <td>2017-10-25 02:14:11</td>\n",
              "      <td>2017-10-27 16:48:46</td>\n",
              "      <td>2017-11-07 18:04:59</td>\n",
              "      <td>2017-11-13 00:00:00</td>\n",
              "      <td>e781fdcc107d13d865fc7698711cc572</td>\n",
              "      <td>88032</td>\n",
              "      <td>...</td>\n",
              "      <td>44.09</td>\n",
              "      <td>9350</td>\n",
              "      <td>maua</td>\n",
              "      <td>SP</td>\n",
              "      <td>1bafb430e498b939f258b9c9dbdff9b1</td>\n",
              "      <td>3</td>\n",
              "      <td>NaN</td>\n",
              "      <td>NaN</td>\n",
              "      <td>2017-11-08 00:00:00</td>\n",
              "      <td>2017-11-10 19:52:38</td>\n",
              "    </tr>\n",
              "    <tr>\n",
              "      <th>4</th>\n",
              "      <td>128e10d95713541c87cd1a2e48201934</td>\n",
              "      <td>a20e8105f23924cd00833fd87daa0831</td>\n",
              "      <td>delivered</td>\n",
              "      <td>2017-08-15 18:29:31</td>\n",
              "      <td>2017-08-15 20:05:16</td>\n",
              "      <td>2017-08-17 15:28:33</td>\n",
              "      <td>2017-08-18 14:44:43</td>\n",
              "      <td>2017-08-28 00:00:00</td>\n",
              "      <td>3a51803cc0d012c3b5dc8b7528cb05f7</td>\n",
              "      <td>3366</td>\n",
              "      <td>...</td>\n",
              "      <td>37.77</td>\n",
              "      <td>9350</td>\n",
              "      <td>maua</td>\n",
              "      <td>SP</td>\n",
              "      <td>b46f1e34512b0f4c74a72398b03ca788</td>\n",
              "      <td>4</td>\n",
              "      <td>NaN</td>\n",
              "      <td>Deveriam embalar melhor o produto. A caixa vei...</td>\n",
              "      <td>2017-08-19 00:00:00</td>\n",
              "      <td>2017-08-20 15:16:36</td>\n",
              "    </tr>\n",
              "  </tbody>\n",
              "</table>\n",
              "<p>5 rows × 41 columns</p>\n",
              "</div>\n",
              "      <button class=\"colab-df-convert\" onclick=\"convertToInteractive('df-422f8317-120f-4be6-bb2c-6ebbce8a7112')\"\n",
              "              title=\"Convert this dataframe to an interactive table.\"\n",
              "              style=\"display:none;\">\n",
              "        \n",
              "  <svg xmlns=\"http://www.w3.org/2000/svg\" height=\"24px\"viewBox=\"0 0 24 24\"\n",
              "       width=\"24px\">\n",
              "    <path d=\"M0 0h24v24H0V0z\" fill=\"none\"/>\n",
              "    <path d=\"M18.56 5.44l.94 2.06.94-2.06 2.06-.94-2.06-.94-.94-2.06-.94 2.06-2.06.94zm-11 1L8.5 8.5l.94-2.06 2.06-.94-2.06-.94L8.5 2.5l-.94 2.06-2.06.94zm10 10l.94 2.06.94-2.06 2.06-.94-2.06-.94-.94-2.06-.94 2.06-2.06.94z\"/><path d=\"M17.41 7.96l-1.37-1.37c-.4-.4-.92-.59-1.43-.59-.52 0-1.04.2-1.43.59L10.3 9.45l-7.72 7.72c-.78.78-.78 2.05 0 2.83L4 21.41c.39.39.9.59 1.41.59.51 0 1.02-.2 1.41-.59l7.78-7.78 2.81-2.81c.8-.78.8-2.07 0-2.86zM5.41 20L4 18.59l7.72-7.72 1.47 1.35L5.41 20z\"/>\n",
              "  </svg>\n",
              "      </button>\n",
              "      \n",
              "  <style>\n",
              "    .colab-df-container {\n",
              "      display:flex;\n",
              "      flex-wrap:wrap;\n",
              "      gap: 12px;\n",
              "    }\n",
              "\n",
              "    .colab-df-convert {\n",
              "      background-color: #E8F0FE;\n",
              "      border: none;\n",
              "      border-radius: 50%;\n",
              "      cursor: pointer;\n",
              "      display: none;\n",
              "      fill: #1967D2;\n",
              "      height: 32px;\n",
              "      padding: 0 0 0 0;\n",
              "      width: 32px;\n",
              "    }\n",
              "\n",
              "    .colab-df-convert:hover {\n",
              "      background-color: #E2EBFA;\n",
              "      box-shadow: 0px 1px 2px rgba(60, 64, 67, 0.3), 0px 1px 3px 1px rgba(60, 64, 67, 0.15);\n",
              "      fill: #174EA6;\n",
              "    }\n",
              "\n",
              "    [theme=dark] .colab-df-convert {\n",
              "      background-color: #3B4455;\n",
              "      fill: #D2E3FC;\n",
              "    }\n",
              "\n",
              "    [theme=dark] .colab-df-convert:hover {\n",
              "      background-color: #434B5C;\n",
              "      box-shadow: 0px 1px 3px 1px rgba(0, 0, 0, 0.15);\n",
              "      filter: drop-shadow(0px 1px 2px rgba(0, 0, 0, 0.3));\n",
              "      fill: #FFFFFF;\n",
              "    }\n",
              "  </style>\n",
              "\n",
              "      <script>\n",
              "        const buttonEl =\n",
              "          document.querySelector('#df-422f8317-120f-4be6-bb2c-6ebbce8a7112 button.colab-df-convert');\n",
              "        buttonEl.style.display =\n",
              "          google.colab.kernel.accessAllowed ? 'block' : 'none';\n",
              "\n",
              "        async function convertToInteractive(key) {\n",
              "          const element = document.querySelector('#df-422f8317-120f-4be6-bb2c-6ebbce8a7112');\n",
              "          const dataTable =\n",
              "            await google.colab.kernel.invokeFunction('convertToInteractive',\n",
              "                                                     [key], {});\n",
              "          if (!dataTable) return;\n",
              "\n",
              "          const docLinkHtml = 'Like what you see? Visit the ' +\n",
              "            '<a target=\"_blank\" href=https://colab.research.google.com/notebooks/data_table.ipynb>data table notebook</a>'\n",
              "            + ' to learn more about interactive tables.';\n",
              "          element.innerHTML = '';\n",
              "          dataTable['output_type'] = 'display_data';\n",
              "          await google.colab.output.renderOutput(dataTable, element);\n",
              "          const docLink = document.createElement('div');\n",
              "          docLink.innerHTML = docLinkHtml;\n",
              "          element.appendChild(docLink);\n",
              "        }\n",
              "      </script>\n",
              "    </div>\n",
              "  </div>\n",
              "  "
            ]
          },
          "metadata": {},
          "execution_count": 33
        }
      ]
    },
    {
      "cell_type": "markdown",
      "source": [
        "13 -  Quantas ordens distintas temos em nosso banco de dados?"
      ],
      "metadata": {
        "id": "84zMQoH0AEVL"
      }
    },
    {
      "cell_type": "code",
      "source": [
        "olist.order_id.nunique()"
      ],
      "metadata": {
        "colab": {
          "base_uri": "https://localhost:8080/"
        },
        "id": "hSZGiH2lAKEE",
        "outputId": "45592d86-cae5-45ed-ee75-0f698db1e91d"
      },
      "execution_count": 34,
      "outputs": [
        {
          "output_type": "execute_result",
          "data": {
            "text/plain": [
              "97642"
            ]
          },
          "metadata": {},
          "execution_count": 34
        }
      ]
    },
    {
      "cell_type": "markdown",
      "source": [
        "14 - Quantos clientes distintos existem em nosso banco de dados?"
      ],
      "metadata": {
        "id": "3uzgg_VvAq-H"
      }
    },
    {
      "cell_type": "code",
      "source": [
        "olist.customer_id.nunique()"
      ],
      "metadata": {
        "colab": {
          "base_uri": "https://localhost:8080/"
        },
        "id": "bI0Z7qXwAipL",
        "outputId": "cfc87996-ebb4-452b-9a26-a587bfc40678"
      },
      "execution_count": 36,
      "outputs": [
        {
          "output_type": "execute_result",
          "data": {
            "text/plain": [
              "97642"
            ]
          },
          "metadata": {},
          "execution_count": 36
        }
      ]
    },
    {
      "cell_type": "markdown",
      "source": [
        "15 - Quantos vendedores distintos existem em nosso bando de dados?"
      ],
      "metadata": {
        "id": "1_Y4EKtyBkiS"
      }
    },
    {
      "cell_type": "code",
      "source": [
        "olist.seller_id.nunique()"
      ],
      "metadata": {
        "colab": {
          "base_uri": "https://localhost:8080/"
        },
        "id": "4QuNYh7wBSWt",
        "outputId": "58327c84-40ab-4843-ff6f-d7a493f4b035"
      },
      "execution_count": 37,
      "outputs": [
        {
          "output_type": "execute_result",
          "data": {
            "text/plain": [
              "3090"
            ]
          },
          "metadata": {},
          "execution_count": 37
        }
      ]
    },
    {
      "cell_type": "markdown",
      "source": [
        "16 - Qual a porcentagem de vendas feitas com cartão de crédito?"
      ],
      "metadata": {
        "id": "QLl0-FtgCAPP"
      }
    },
    {
      "cell_type": "code",
      "source": [
        "olist.payment_type.value_counts()"
      ],
      "metadata": {
        "outputId": "e5c9b99b-5c1f-4ddf-aff0-b7cfe4080aad",
        "colab": {
          "base_uri": "https://localhost:8080/"
        },
        "id": "pjxXf6adFAEY"
      },
      "execution_count": null,
      "outputs": [
        {
          "output_type": "execute_result",
          "data": {
            "text/plain": [
              "credit_card    86281\n",
              "boleto         22770\n",
              "voucher         6267\n",
              "debit_card      1691\n",
              "Name: payment_type, dtype: int64"
            ]
          },
          "metadata": {},
          "execution_count": 50
        }
      ]
    },
    {
      "cell_type": "code",
      "source": [
        "olist.payment_type.value_counts().loc[\"credit_card\"]/olist.payment_type.value_counts().sum()"
      ],
      "metadata": {
        "colab": {
          "base_uri": "https://localhost:8080/"
        },
        "id": "esEotkceBxIk",
        "outputId": "709fac98-7e86-477c-e0cc-671ab0696712"
      },
      "execution_count": 49,
      "outputs": [
        {
          "output_type": "execute_result",
          "data": {
            "text/plain": [
              "0.7373877223119589"
            ]
          },
          "metadata": {},
          "execution_count": 49
        }
      ]
    },
    {
      "cell_type": "markdown",
      "source": [
        "17 - Qual a porcentagem de vendas feitas com cartão de débito?"
      ],
      "metadata": {
        "id": "yNA3vb5CFK0b"
      }
    },
    {
      "cell_type": "code",
      "source": [
        "olist.payment_type.value_counts().loc[\"debit_card\"]/olist.payment_type.value_counts().sum()"
      ],
      "metadata": {
        "colab": {
          "base_uri": "https://localhost:8080/"
        },
        "id": "-8befdJwDkgr",
        "outputId": "2c17dfec-cb35-4e3f-ef99-c90e836c6474"
      },
      "execution_count": 51,
      "outputs": [
        {
          "output_type": "execute_result",
          "data": {
            "text/plain": [
              "0.014451879769932228"
            ]
          },
          "metadata": {},
          "execution_count": 51
        }
      ]
    },
    {
      "cell_type": "markdown",
      "source": [
        "18 - Qual a porcentagem de reviews menor do que 2 estrelas temos em nossa base?"
      ],
      "metadata": {
        "id": "711qCkwNFXS0"
      }
    },
    {
      "cell_type": "code",
      "source": [
        "olist.review_score.value_counts()"
      ],
      "metadata": {
        "id": "SJlKPKRPFU-8",
        "outputId": "5335a5fe-a207-40e8-9839-7f490dd9131d",
        "colab": {
          "base_uri": "https://localhost:8080/"
        }
      },
      "execution_count": 52,
      "outputs": [
        {
          "output_type": "execute_result",
          "data": {
            "text/plain": [
              "5    66085\n",
              "4    22224\n",
              "1    14809\n",
              "3     9818\n",
              "2     4073\n",
              "Name: review_score, dtype: int64"
            ]
          },
          "metadata": {},
          "execution_count": 52
        }
      ]
    },
    {
      "cell_type": "code",
      "source": [
        "olist.review_score.value_counts().loc[1]/olist.review_score.value_counts().sum()"
      ],
      "metadata": {
        "id": "fhuutqSbFwkO",
        "outputId": "3c05d51f-b724-46d0-d21d-4ef2f7f8b7dd",
        "colab": {
          "base_uri": "https://localhost:8080/"
        }
      },
      "execution_count": 56,
      "outputs": [
        {
          "output_type": "execute_result",
          "data": {
            "text/plain": [
              "0.1265629139638831"
            ]
          },
          "metadata": {},
          "execution_count": 56
        }
      ]
    },
    {
      "cell_type": "markdown",
      "source": [
        "19 - Quantas categorias de produto distintas existem em nossa base?"
      ],
      "metadata": {
        "id": "S1HZHuNzGfT9"
      }
    },
    {
      "cell_type": "code",
      "source": [
        ""
      ],
      "metadata": {
        "id": "U53Pg5XHF_HO"
      },
      "execution_count": null,
      "outputs": []
    }
  ]
}