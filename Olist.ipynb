{
  "nbformat": 4,
  "nbformat_minor": 0,
  "metadata": {
    "colab": {
      "name": "Untitled2.ipynb",
      "provenance": [],
      "authorship_tag": "ABX9TyMqLOO03307W6so91ZEVQ3Z",
      "include_colab_link": true
    },
    "kernelspec": {
      "name": "python3",
      "display_name": "Python 3"
    },
    "language_info": {
      "name": "python"
    }
  },
  "cells": [
    {
      "cell_type": "markdown",
      "metadata": {
        "id": "view-in-github",
        "colab_type": "text"
      },
      "source": [
        "<a href=\"https://colab.research.google.com/github/skillox1/PADSW06MDCD/blob/main/Olist.ipynb\" target=\"_parent\"><img src=\"https://colab.research.google.com/assets/colab-badge.svg\" alt=\"Open In Colab\"/></a>"
      ]
    },
    {
      "cell_type": "code",
      "execution_count": null,
      "metadata": {
        "id": "aP67lSUkIlmd"
      },
      "outputs": [],
      "source": [
        "## Base de Dados Olist"
      ]
    },
    {
      "cell_type": "code",
      "source": [
        "import pandas as pd"
      ],
      "metadata": {
        "id": "ciyO4-CAIqc6"
      },
      "execution_count": 1,
      "outputs": []
    },
    {
      "cell_type": "code",
      "source": [
        "import zipfile"
      ],
      "metadata": {
        "id": "y-7vswFJaM5t"
      },
      "execution_count": 5,
      "outputs": []
    },
    {
      "cell_type": "code",
      "source": [
        "zf = zipfile.ZipFile('/content/archive.zip') \n",
        "df_orders = pd.read_csv(zf.open('olist_orders_dataset.csv'))\n",
        "df_order_items = pd.read_csv(zf.open('olist_order_items_dataset.csv'))\n",
        "df_customers = pd.read_csv(zf.open('olist_customers_dataset.csv'))\n",
        "df_sellers = pd.read_csv(zf.open('olist_sellers_dataset.csv'))\n",
        "df_products = pd.read_csv(zf.open('olist_products_dataset.csv'))\n",
        "df_order_payments = pd.read_csv(zf.open('olist_order_payments_dataset.csv'))\n",
        "df_order_reviews = pd.read_csv(zf.open('olist_order_reviews_dataset.csv'))\n",
        "df_geolocation = pd.read_csv(zf.open('olist_geolocation_dataset.csv'))\n",
        "\n"
      ],
      "metadata": {
        "id": "qWC8mBAK8TAn"
      },
      "execution_count": 8,
      "outputs": []
    },
    {
      "cell_type": "code",
      "source": [
        "dfs = [\"df_orders\",\"df_order_items\"]"
      ],
      "metadata": {
        "id": "WEGrE4G_9oIQ"
      },
      "execution_count": null,
      "outputs": []
    },
    {
      "cell_type": "code",
      "source": [
        ""
      ],
      "metadata": {
        "id": "FbqfGqWA_TCF"
      },
      "execution_count": null,
      "outputs": []
    }
  ]
}