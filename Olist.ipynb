{
  "nbformat": 4,
  "nbformat_minor": 0,
  "metadata": {
    "colab": {
      "name": "Cópia de Untitled2.ipynb",
      "provenance": [],
      "mount_file_id": "https://github.com/skillox1/PADSW06MDCD/blob/main/C%C3%B3pia_de_Untitled2.ipynb",
      "authorship_tag": "ABX9TyORF7G8WqESxQ4eQv9OTy52",
      "include_colab_link": true
    },
    "kernelspec": {
      "name": "python3",
      "display_name": "Python 3"
    },
    "language_info": {
      "name": "python"
    }
  },
  "cells": [
    {
      "cell_type": "markdown",
      "metadata": {
        "id": "view-in-github",
        "colab_type": "text"
      },
      "source": [
        "<a href=\"https://colab.research.google.com/github/skillox1/PADSW06MDCD/blob/main/Olist.ipynb\" target=\"_parent\"><img src=\"https://colab.research.google.com/assets/colab-badge.svg\" alt=\"Open In Colab\"/></a>"
      ]
    },
    {
      "cell_type": "markdown",
      "source": [
        "## Base de Dados Olist - Lista de Exercícios"
      ],
      "metadata": {
        "id": "rcQE8EsEfet3"
      }
    },
    {
      "cell_type": "code",
      "source": [
        "import pandas as pd\n",
        "import zipfile\n",
        "import seaborn as sns\n",
        "import numpy as np\n",
        "import matplotlib.pyplot as plt\n",
        "from wordcloud import WordCloud\n",
        "from wordcloud import ImageColorGenerator\n",
        "from wordcloud import STOPWORDS\n",
        "%matplotlib inline\n"
      ],
      "metadata": {
        "id": "ciyO4-CAIqc6"
      },
      "execution_count": 1,
      "outputs": []
    },
    {
      "cell_type": "code",
      "source": [
        "!pwd"
      ],
      "metadata": {
        "id": "Erqb2g0k7-30",
        "outputId": "5829c14b-f294-4a81-9a52-eda3e1e65884",
        "colab": {
          "base_uri": "https://localhost:8080/"
        }
      },
      "execution_count": 2,
      "outputs": [
        {
          "output_type": "stream",
          "name": "stdout",
          "text": [
            "/content\n"
          ]
        }
      ]
    },
    {
      "cell_type": "code",
      "source": [
        "from google.colab import drive\n",
        "drive.mount('/content/gdrive')\n"
      ],
      "metadata": {
        "colab": {
          "base_uri": "https://localhost:8080/"
        },
        "id": "qteCtBsaSYXt",
        "outputId": "07bb2b68-2957-4efa-9a41-51b303e04298"
      },
      "execution_count": 3,
      "outputs": [
        {
          "output_type": "stream",
          "name": "stdout",
          "text": [
            "Mounted at /content/gdrive\n"
          ]
        }
      ]
    },
    {
      "cell_type": "markdown",
      "source": [
        "Questões 1 a 8 - Quantas linhas temos em cada tabela?"
      ],
      "metadata": {
        "id": "MDtN436TDGUY"
      }
    },
    {
      "cell_type": "code",
      "source": [
        "zf = zipfile.ZipFile('/content/gdrive/MyDrive/archive.zip') \n",
        "df_orders = pd.read_csv(zf.open('olist_orders_dataset.csv'))\n",
        "df_order_items = pd.read_csv(zf.open('olist_order_items_dataset.csv'))\n",
        "df_customers = pd.read_csv(zf.open('olist_customers_dataset.csv'))\n",
        "df_sellers = pd.read_csv(zf.open('olist_sellers_dataset.csv'))\n",
        "df_products = pd.read_csv(zf.open('olist_products_dataset.csv'))\n",
        "df_order_payments = pd.read_csv(zf.open('olist_order_payments_dataset.csv'))\n",
        "df_order_reviews = pd.read_csv(zf.open('olist_order_reviews_dataset.csv'))\n",
        "df_geolocation = pd.read_csv(zf.open('olist_geolocation_dataset.csv'))\n",
        "\n"
      ],
      "metadata": {
        "id": "qWC8mBAK8TAn"
      },
      "execution_count": 4,
      "outputs": []
    },
    {
      "cell_type": "code",
      "source": [
        "dfs = [df_orders,df_order_items,df_customers,df_sellers,df_products,df_order_payments,df_order_reviews,df_geolocation]"
      ],
      "metadata": {
        "id": "WEGrE4G_9oIQ"
      },
      "execution_count": 5,
      "outputs": []
    },
    {
      "cell_type": "code",
      "source": [
        "for x in dfs:\n",
        "  print(x.shape[0])"
      ],
      "metadata": {
        "colab": {
          "base_uri": "https://localhost:8080/"
        },
        "id": "FbqfGqWA_TCF",
        "outputId": "35199ded-006f-4048-a3be-dba17d83d504"
      },
      "execution_count": 6,
      "outputs": [
        {
          "output_type": "stream",
          "name": "stdout",
          "text": [
            "99441\n",
            "112650\n",
            "99441\n",
            "3095\n",
            "32951\n",
            "103886\n",
            "99224\n",
            "1000163\n"
          ]
        }
      ]
    },
    {
      "cell_type": "code",
      "source": [
        "datasets = [df_orders,df_order_items,df_customers,df_sellers,df_products,df_order_payments,df_order_reviews,df_geolocation]\n",
        "titles = [\"orders\",\"items\",\"customers\",\"sellers\",\"products\",\"payments\",\"reviews\",\"geolocation\"]\n",
        "\n",
        "info_df = pd.DataFrame({},)\n",
        "info_df['dataset']= titles\n",
        "\n",
        "info_df['no_of_columns']= [len(df.columns) for df in datasets ]\n",
        "info_df['columns_name']= [', '.join(list(df.columns)) for df in datasets] \n",
        "info_df['no_of_rows'] = [len(df) for df in datasets]\n",
        "\n",
        "info_df.style.background_gradient(cmap='Blues')"
      ],
      "metadata": {
        "colab": {
          "base_uri": "https://localhost:8080/",
          "height": 318
        },
        "id": "lLsyAKdZdlDM",
        "outputId": "3f69ac39-b4f3-4832-81e6-58833de0c9c9"
      },
      "execution_count": 7,
      "outputs": [
        {
          "output_type": "execute_result",
          "data": {
            "text/plain": [
              "<pandas.io.formats.style.Styler at 0x7f696bd7ea90>"
            ],
            "text/html": [
              "<style type=\"text/css\">\n",
              "#T_8f05c_row0_col1 {\n",
              "  background-color: #1764ab;\n",
              "  color: #f1f1f1;\n",
              "}\n",
              "#T_8f05c_row0_col3, #T_8f05c_row2_col3, #T_8f05c_row6_col3 {\n",
              "  background-color: #e4eff9;\n",
              "  color: #000000;\n",
              "}\n",
              "#T_8f05c_row1_col1, #T_8f05c_row6_col1 {\n",
              "  background-color: #4a98c9;\n",
              "  color: #f1f1f1;\n",
              "}\n",
              "#T_8f05c_row1_col3 {\n",
              "  background-color: #e1edf8;\n",
              "  color: #000000;\n",
              "}\n",
              "#T_8f05c_row2_col1, #T_8f05c_row5_col1, #T_8f05c_row7_col1 {\n",
              "  background-color: #d0e1f2;\n",
              "  color: #000000;\n",
              "}\n",
              "#T_8f05c_row3_col1, #T_8f05c_row3_col3 {\n",
              "  background-color: #f7fbff;\n",
              "  color: #000000;\n",
              "}\n",
              "#T_8f05c_row4_col1, #T_8f05c_row7_col3 {\n",
              "  background-color: #08306b;\n",
              "  color: #f1f1f1;\n",
              "}\n",
              "#T_8f05c_row4_col3 {\n",
              "  background-color: #f2f7fd;\n",
              "  color: #000000;\n",
              "}\n",
              "#T_8f05c_row5_col3 {\n",
              "  background-color: #e3eef9;\n",
              "  color: #000000;\n",
              "}\n",
              "</style>\n",
              "<table id=\"T_8f05c_\" class=\"dataframe\">\n",
              "  <thead>\n",
              "    <tr>\n",
              "      <th class=\"blank level0\" >&nbsp;</th>\n",
              "      <th class=\"col_heading level0 col0\" >dataset</th>\n",
              "      <th class=\"col_heading level0 col1\" >no_of_columns</th>\n",
              "      <th class=\"col_heading level0 col2\" >columns_name</th>\n",
              "      <th class=\"col_heading level0 col3\" >no_of_rows</th>\n",
              "    </tr>\n",
              "  </thead>\n",
              "  <tbody>\n",
              "    <tr>\n",
              "      <th id=\"T_8f05c_level0_row0\" class=\"row_heading level0 row0\" >0</th>\n",
              "      <td id=\"T_8f05c_row0_col0\" class=\"data row0 col0\" >orders</td>\n",
              "      <td id=\"T_8f05c_row0_col1\" class=\"data row0 col1\" >8</td>\n",
              "      <td id=\"T_8f05c_row0_col2\" class=\"data row0 col2\" >order_id, customer_id, order_status, order_purchase_timestamp, order_approved_at, order_delivered_carrier_date, order_delivered_customer_date, order_estimated_delivery_date</td>\n",
              "      <td id=\"T_8f05c_row0_col3\" class=\"data row0 col3\" >99441</td>\n",
              "    </tr>\n",
              "    <tr>\n",
              "      <th id=\"T_8f05c_level0_row1\" class=\"row_heading level0 row1\" >1</th>\n",
              "      <td id=\"T_8f05c_row1_col0\" class=\"data row1 col0\" >items</td>\n",
              "      <td id=\"T_8f05c_row1_col1\" class=\"data row1 col1\" >7</td>\n",
              "      <td id=\"T_8f05c_row1_col2\" class=\"data row1 col2\" >order_id, order_item_id, product_id, seller_id, shipping_limit_date, price, freight_value</td>\n",
              "      <td id=\"T_8f05c_row1_col3\" class=\"data row1 col3\" >112650</td>\n",
              "    </tr>\n",
              "    <tr>\n",
              "      <th id=\"T_8f05c_level0_row2\" class=\"row_heading level0 row2\" >2</th>\n",
              "      <td id=\"T_8f05c_row2_col0\" class=\"data row2 col0\" >customers</td>\n",
              "      <td id=\"T_8f05c_row2_col1\" class=\"data row2 col1\" >5</td>\n",
              "      <td id=\"T_8f05c_row2_col2\" class=\"data row2 col2\" >customer_id, customer_unique_id, customer_zip_code_prefix, customer_city, customer_state</td>\n",
              "      <td id=\"T_8f05c_row2_col3\" class=\"data row2 col3\" >99441</td>\n",
              "    </tr>\n",
              "    <tr>\n",
              "      <th id=\"T_8f05c_level0_row3\" class=\"row_heading level0 row3\" >3</th>\n",
              "      <td id=\"T_8f05c_row3_col0\" class=\"data row3 col0\" >sellers</td>\n",
              "      <td id=\"T_8f05c_row3_col1\" class=\"data row3 col1\" >4</td>\n",
              "      <td id=\"T_8f05c_row3_col2\" class=\"data row3 col2\" >seller_id, seller_zip_code_prefix, seller_city, seller_state</td>\n",
              "      <td id=\"T_8f05c_row3_col3\" class=\"data row3 col3\" >3095</td>\n",
              "    </tr>\n",
              "    <tr>\n",
              "      <th id=\"T_8f05c_level0_row4\" class=\"row_heading level0 row4\" >4</th>\n",
              "      <td id=\"T_8f05c_row4_col0\" class=\"data row4 col0\" >products</td>\n",
              "      <td id=\"T_8f05c_row4_col1\" class=\"data row4 col1\" >9</td>\n",
              "      <td id=\"T_8f05c_row4_col2\" class=\"data row4 col2\" >product_id, product_category_name, product_name_lenght, product_description_lenght, product_photos_qty, product_weight_g, product_length_cm, product_height_cm, product_width_cm</td>\n",
              "      <td id=\"T_8f05c_row4_col3\" class=\"data row4 col3\" >32951</td>\n",
              "    </tr>\n",
              "    <tr>\n",
              "      <th id=\"T_8f05c_level0_row5\" class=\"row_heading level0 row5\" >5</th>\n",
              "      <td id=\"T_8f05c_row5_col0\" class=\"data row5 col0\" >payments</td>\n",
              "      <td id=\"T_8f05c_row5_col1\" class=\"data row5 col1\" >5</td>\n",
              "      <td id=\"T_8f05c_row5_col2\" class=\"data row5 col2\" >order_id, payment_sequential, payment_type, payment_installments, payment_value</td>\n",
              "      <td id=\"T_8f05c_row5_col3\" class=\"data row5 col3\" >103886</td>\n",
              "    </tr>\n",
              "    <tr>\n",
              "      <th id=\"T_8f05c_level0_row6\" class=\"row_heading level0 row6\" >6</th>\n",
              "      <td id=\"T_8f05c_row6_col0\" class=\"data row6 col0\" >reviews</td>\n",
              "      <td id=\"T_8f05c_row6_col1\" class=\"data row6 col1\" >7</td>\n",
              "      <td id=\"T_8f05c_row6_col2\" class=\"data row6 col2\" >review_id, order_id, review_score, review_comment_title, review_comment_message, review_creation_date, review_answer_timestamp</td>\n",
              "      <td id=\"T_8f05c_row6_col3\" class=\"data row6 col3\" >99224</td>\n",
              "    </tr>\n",
              "    <tr>\n",
              "      <th id=\"T_8f05c_level0_row7\" class=\"row_heading level0 row7\" >7</th>\n",
              "      <td id=\"T_8f05c_row7_col0\" class=\"data row7 col0\" >geolocation</td>\n",
              "      <td id=\"T_8f05c_row7_col1\" class=\"data row7 col1\" >5</td>\n",
              "      <td id=\"T_8f05c_row7_col2\" class=\"data row7 col2\" >geolocation_zip_code_prefix, geolocation_lat, geolocation_lng, geolocation_city, geolocation_state</td>\n",
              "      <td id=\"T_8f05c_row7_col3\" class=\"data row7 col3\" >1000163</td>\n",
              "    </tr>\n",
              "  </tbody>\n",
              "</table>\n"
            ]
          },
          "metadata": {},
          "execution_count": 7
        }
      ]
    },
    {
      "cell_type": "markdown",
      "source": [
        "![image.png](data:image/png;base64,iVBORw0KGgoAAAANSUhEUgAACbYAAAXYCAYAAABvewgMAAAgAElEQVR4XuzdeZCl510f+t85fXqZXqZn3zSrNJZmbCQjG7xLxkgmGIPAvmCWm1A4gSIJriIhqRBSSRWXkKqECglJ+RpukQvE4RJsc0OuhQN4t+UFC+PRtSQ0I2ukmZE0+9oz3dPL6fPe5+3RKLLueE7P9PK+7zmfU/XWe87p97zP7/n8nj+mSl89b+38pctZeBEgQIAAAQIECBAgQIAAAQIECBAgQIAAAQIECBAgQIAAAQIECBAgQIAAgZII1ATbStIJZRAgQIAAAQIECBAgQIAAAQIECBAgQIAAAQIECBAgQIAAAQIECBAgQIDAnIBgm4VAgAABAgQIECBAgAABAgQIECBAgAABAgQIECBAgAABAgQIECBAgAABAqUSEGwrVTsUQ4AAAQIECBAgQIAAAQIECBAgQIAAAQIECBAgQIAAAQIECBAgQIAAAQKCbdYAAQIECBAgQIAAAQIECBAgQIAAAQIECBAgQIAAAQIECBAgQIAAAQIECJRKQLCtVO1QDAECBAgQIECAAAECBAgQIECAAAECBAgQIECAAAECBAgQIECAAAECBAgItlkDBAgQIECAAAECBAgQIECAAAECBAgQIECAAAECBAgQIECAAAECBAgQIFAqAcG2UrVDMQQIECBAgAABAgQIECBAgAABAgQIECBAgAABAgQIECBAgAABAgQIECAg2GYNECBAgAABAgQIECBAgAABAgQIECBAgAABAgQIECBAgAABAgQIECBAgECpBATbStUOxRAgQIAAAQIECBAgQIAAAQIECBAgQIAAAQIECBAgQIAAAQIECBAgQICAYJs1QIAAAQIECBAgQIAAAQIECBAgQIAAAQIECBAgQIAAAQIECBAgQIAAAQKlEhBsK1U7FEOAAAECBAgQIECAAAECBAgQIECAAAECBAgQIECAAAECBAgQIECAAAECgm3WAAECBAgQIECAAAECBAgQIECAAAECBAgQIECAAAECBAgQIECAAAECBAiUSkCwrVTtUAwBAgQIECBAgAABAgQIECBAgAABAgQIECBAgAABAgQIECBAgAABAgQICLZZAwQIECBAgAABAgQIECBAgAABAgQIECBAgAABAgQIECBAgAABAgQIECBQKgHBtlK1QzEECBAgQIAAAQIECBAgQIAAAQIECBAgQIAAAQIECBAgQIAAAQIECBAgINhmDRAgQIAAAQIECBAgQIAAAQIECBAgQIAAAQIECBAgQIAAAQIECBAgQIBAqQQE20rVDsUQIECAAAECBAgQIECAAAECBAgQIECAAAECBAgQIECAAAECBAgQIECAgGCbNUCAAAECBAgQIECAAAECBAgQIECAAAECBAgQIECAAAECBAgQIECAAAECpRIQbCtVOxRDgAABAgQIECBAgAABAgQIECBAgAABAgQIECBAgAABAgQIECBAgAABAoJt1gABAgQIECBAgAABAgQIECBAgAABAgQIECBAgAABAgQIECBAgAABAgQIlEpAsK1U7VAMAQIECBAgQIAAAQIECBAgQIAAAQIECBAgQIAAAQIECBAgQIAAAQIECAi2WQMECBAgQIAAAQIECBAgQIAAAQIECBAgQIAAAQIECBAgQIAAAQIECBAgUCoBwbZStUMxBAgQIECAAAECBAgQIECAAAECBAgQIECAAAECBAgQIECAAAECBAgQICDYZg0QIECAAAECBAgQIECAAAECBAgQIECAAAECBAgQIECAAAECBAgQIECAQKkEBNtK1Q7FECBAgAABAgQIECBAgAABAgQIECBAgAABAgQIECBAgAABAgQIECBAgIBgmzVAgAABAgQIECBAgAABAgQIECBAgAABAgQIECBAgAABAgQIECBAgAABAqUSEGwrVTsUQ4AAAQIECBAgQIAAAQIECBAgQIAAAQIECBAgQIAAAQIECBAgQIAAAQKCbdYAAQIECBAgQIAAAQIECBAgQIAAAQIECBAgQIAAAQIECBAgQIAAAQIECJRKQLCtVO1QDAECBAgQIECAAAECBAgQIECAAAECBAgQIECAAAECBAgQIECAAAECBAgItlkDBAgQIECAAAECBAgQIECAAAECBAgQIECAAAECBAgQIECAAAECBAgQIFAqAcG2UrVDMQQIECBAgAABAgQIECBAgAABAgQIECBAgAABAgQIECBAgAABAgQIECAg2GYNECBAgAABAgQIECBAgAABAgQIECBAgAABAgQIECBAgAABAgQIECBAgECpBATbStUOxRAgQIAAAQIECBAgQIAAAQIECBAgQIAAAQIECBAgQIAAAQIECBAgQICAYJs1QIAAAQIECBAgQIAAAQIECBAgQIAAAQIECBAgQIAAAQIECBAgQIAAAQKlEhBsK1U7FEOAAAECBAgQIECAAAECBAgQIECAAAECBAgQIECAAAECBAgQIECAAAECgm3WAAECBAgQIECAAAECBAgQIECAAAECBAgQIECAAAECBAgQIECAAAECBAiUSkCwrVTtUAwBAgQIECBAgAABAgQIECBAgAABAgQIECBAgAABAgQIECBAgAABAgQICLZZAwQIECBAgAABAgQIECBAgAABAgQIECBAgAABAgQIECBAgAABAgQIECBQKgHBtlK1QzEECBAgQIAAAQIECBAgQIAAAQIECBAgQIAAAQIECBAgQIAAAQIECBAgINhmDRAgQIAAAQIECBAgQIAAAQIECBAgQIAAAQIECBAgQIAAAQIECBAgQIBAqQQE20rVDsUQIECAAAECBAgQIECAAAECBAgQIECAAAECBAgQIECAAAECBAgQIECAgGCbNUCAAAECBAgQIECAAAECBAgQIECAAAECBAgQIECAAAECBAgQIECAAAECpRIQbCtVOxRDgAABAgQIECBAgAABAgQIECBAgAABAgQIECBAgAABAgQIECBAgAABAoJt1gABAgQIECBAgAABAgQIECBAgAABAgQIECBAgAABAgQIECBAgAABAgQIlEpAsK1U7VAMAQIECBAgQIAAAQIECBAgQIAAAQIECBAgQIAAAQIECBAgQIAAAQIECAi2WQMECBAgQIAAAQIECBAgQIAAAQIECBAgQIAAAQIECBAgQIAAAQIECBAgUCoBwbZStUMxBAgQIECAAAECBAgQIECAAAECBAgQIECAAAECBAgQIECAAAECBAgQICDYZg0QIECAAAECBAgQIECAAAECBAgQIECAAAECBAgQIECAAAECBAgQIECAQKkEBNtK1Q7FECBAgAABAgQIECBAgAABAgQIECBAgAABAgQIECBAgAABAgQIECBAgIBgmzVAgAABAgQIECBAgAABAgQIECBAgAABAgQIECBAgAABAgQIECBAgAABAqUSEGwrVTsUQ4AAAQIECBAgQIAAAQI3KtCcacblqamYnJpOx1R6n86T6XM6LudH+m5q8srf5v7+4vvpGx3qm64f6O+Lgf7+WDFw5Zwf/en9irnv0ucXjhUvXJdfn/+t0dtY0Lh+TIAAAQIECBAoq0CtdTlidixq6YjmhSvn2Qvpff45f38+6nPnK0ctXfPi9QuYVNazMiIdWWN07pwfrUZ+XhWRn+fej8bcdemaF6+vr1jAqH5KgAABAgQIECBAgAABAkstINi21MLuT4AAAQIECBAgQIAAAQI3LTA5PR1nz12Ii5cm4lI6xi5diosTl9P78Sufxyei2Wze9P2L+GGj0YiVQ4MxPJwfQ7FycDBGRoZiOH03kr5bs3o0Bvr6iijNmAQIECBAgACBbylQm70YtalDUZs+EbWZkxHTxyNmTs29v/I5nbMUbKvQK6ulYFvfhsh6rxyRH30br3zOz/07UwhupEIzUioBAgQIECBAgAABAgQ6S0CwrbP6aTYECBAgQIAAAQIECBCopMDxk2fi7PkLce7CWJxJQbbz58fibHqf78LWja98d7c1oytjVQq5rV21Mlan92tWjcamDWu7kcOcCRAgQIAAgWUUqE/89ZUA29ThiMnD6fzs3Pu53de68JXv7pb170jH9oiB7S+83xmtwVd2oYYpEyBAgAABAgQIECBAYHkFBNuW19toBAgQIECAAAECBAgQ6GqBqemZOHbiVJw4fXbuOHkqBdpSkK2VZV3tMt/J12u1uR3dNqxfG5vWrUnnNbF5w/ro7+ud7y1cR4AAAQIECBCYE6i1LkVt/NGoXT4QtYl0XN4f9clD6S+zhOYl0BOtgbSj24o9kQ2mY8UdkQ19W2T14Xn92kUECBAgQIAAAQIECBAg0F5AsK29kSsIECBAgAABAgQIECBA4CYExtMjQ0+kndiOn07HidNz57GL4zdxJz9pJ7AyPcp007q1sXnjuti4Pj/WxNBgerSWFwECBAgQIEAgCdSbp1N47YkUXnsiYvyvo57OteljbJZAIOvbHK0VeyOGXpnCbulIobdWY90SjOSWBAgQIECAAAECBAgQ6HwBwbbO77EZEiBAgAABAgQIECBAYMkF8sDaiwG2tAvbiXTkwTav4gTyYNvGfGe3DevSrm75Dm9rYyQF4LwIECBAgACBzhbIA2t5cC0PsF0Ns+XBNq/iBPJgW5bCblkKu0V6hGkefMv6NhVXkJEJECBAgAABAgQIECBQEQHBtoo0SpkECBAgQIAAAQIECBAom0CWHh96LAXYnnrm2Xj60LNxPL33Kq/AphRyu3Xntti9a1tsTu9r6bGmXgQIECBAgECnCLSiPvF41C58Pupj6Ui7s3mVV6A1uDdaK++NbPTeaA2+KhVaL2+xKiNAgAABAgQIECBAgECBAoJtBeIbmgABAgQIECBAgAABAlUTmG214vCzx+LAwWfiGynQNnF5smpTUG8SGFwxEK9IAbc9t+2K7ds2R0/df0y1MAgQIECAQOUEspnoufiVqJ3/ZNQvfCZqzXOVm4KCI7LG6miNvi2yVW+P2ZHXRdR6sRAgQIAAAQIECBAgQIDACwKCbZYCAQIECBAgQIAAAQIECFxXYGZmJp4+cjSF2Q7FU2lntunpGWIdJNDX1xu7005ud+zeGbdtuyUavY0Omp2pECBAgACBzhKotcbTjmxffiHM9rnIP3t1jkBWH0oht7dGtvr+aI28ObL6is6ZnJkQIECAAAECBAgQIEDgJgQE224CzU8IECBAgAABAgQIECDQDQLnLozFvkf3x6NPfCMuT013w5S7fo4rBvrjzj274+4798Tq0ZVd7wGAAAECBAiURaA2fSR6Tn046mf+n6jNXihLWepYQoGsZ1W01j4Qs+vfE1nf9iUcya0JECBAgAABAgQIECBQXgHBtvL2RmUECBAgQIAAAQIECBBYdoHZ2VY8mXZm+9pjB+LZo8eXfXwDlkdg+y2b4u5v2xO337ojeno8qrQ8nVEJAQIECHSNQP6o0fwxo6dToO3SX3XNtE30/y/QGv6OaK37kZhddb9HlVogBAgQIECAAAECBAh0lYBgW1e122QJECBAgAABAgQIECBwbYEsy+KvDzwdX3h4X5wbu4iJwIsC+c5t97z+7tj7il1Rq9XIECBAgAABAksu0Iqesx+LnmO/FbXpZ5d8NANURyDfuW12y9+P2dXfm4r2Px5Up3MqJUCAAAECBAgQIEDgZgUE225Wzu8IECBAgAABAgQIECDQAQJZmsOBpw7FQ1/ZF2fOne+AGZnCUgmsXTMa977htXM7uIm3LZWy+xIgQIBAdwtkUT//iRRo+0DUJ5/ubgqzv65Aa+DWaG15X8yO3peu8y8zy4UAAQIECBAgQIAAgc4VEGzr3N6aGQECBAgQIECAAAECBK4rcCHtzPaxT30hjjzvkaOWyvwF8keUvvO+t8ToypH5/8iVBAgQIECAwPUFpp6P3iP/Ij1y9KukCMxbIH9E6cz2fxnRf8u8f+NCAgQIECBAgAABAgQIVElAsK1K3VIrAQIECBAgQIAAAQIEFkEg36XtkUf3x6e++JfRbDYX4Y5u0W0CvY1GfPdbXhff/m132COk25pvvgQIECCwyAJZNE5/OOrP/buoZZcX+d5u1w0CWW0wWlt/IZrrfiRN1+5t3dBzcyRAgAABAgQIECDQTQKCbd3UbXMlQIAAAQIECBAgQKDrBezS1vVLYFEB7N62qJxuRoAAAQLdJmCXtm7r+JLO1+5tS8rr5gQIECBAgAABAgQIFCQg2FYQvGEJECBAgAABAgQIECCw3AInTp2Jjzz4ibg0YTeQ5bbv5PGGB1fEj/zA22Pj+rWdPE1zI0CAAAECiypQm3gieg++L2rNU4t6XzfrboGssT5mbnt/ZIN7uxvC7AkQIECAAAECBAgQ6BgBwbaOaaWJECBAgAABAgQIECBA4FsLPPn0kfjoxz+bHj06i4nAogs0Gj3xwPd8V9x+6/ZFv7cbEiBAgACBThOon/9MNA79Ynr06GSnTc18SiCQ1QaiufPfRGvV20pQjRIIECBAgAABAgQIECCwMAHBtoX5+TUBAgQIECBAgAABAgRKL/D0kefjwx/9eOnrVGD1BfKd227bsbX6EzEDAgQIECCwRAK1sS+mndr+ftQiW6IR3JZApNVVSzu3/e+RrXwLDgIECBAgQIAAAQIECFRaQLCt0u1TPAECBAgQIECAAAECBK4vcPbchfi9Dz8Y0zMzqAgsuUB/X2/85I/8QKxdPbrkYxmAAAECBAhUTaA2eSh6D/x41FrjVStdvRUUyOrDMXPHH0Q2sLOC1SuZAAECBAgQIECAAAECVwQE26wEAgQIECBAgAABAgQIdKjA9PR0/N6HHoyzF8Y6dIamVUaBNatG46fe8/3R19dXxvLURIAAAQIEChGotS5F7/4Uaps6XMj4Bu1Ogax/Z8zsSeG2FHLzIkCAAAECBAgQIECAQBUFBNuq2DU1EyBAgAABAgQIECBAYB4CX/6rr8fnvvxX87jSJQQWV+Ctb3xtvPG1dy3uTd2NAAECBAhUWKDnxP8ZjaP/ocIzUHpVBZpbfj5mN/6dqpavbgIECBAgQIAAAQIEulxAsK3LF4DpEyBAgAABAgQIECDQmQIzzWb8Hx/8o7g0cbkzJ2hWpRYYHhqMn/1b/0v0NhqlrlNxBAgQIEBgWQRak9H3+Duj1jy1LMMZhMBLBbLeDTH9yj+JqA+AIUCAAAECBAgQIECAQOUEBNsq1zIFEyBAgAABAgQIECBAoL3AvscOxJ9/9kvtL3QFgSUSeMd9b45X7719ie7utgQIECBAoDoCjdMfjp5nf7U6Bau04wSaO345Zte8u+PmZUIECBAgQIAAAQIECHS+gGBb5/fYDAkQIECAAAECBAgQ6EKBj33yoXh0/1NdOHNTLovAnXt2xzvvv6cs5aiDAAECBAgUJtB7+J9H/exHCxvfwARaax6ImR3ClVYCAQIECBAgQIAAAQLVExBsq17PVEyAAAECBAgQIECAAIG2Ah/8yJ/E0RMed9UWygVLJrBl4/r4yR/5/iW7vxsTIECAAIGqCPQ++TejPv71qpSrzg4UaA3dFTO3/34HzsyUCBAgQIAAAQIECBDodAHBtk7vsPkRIECAAAECBAgQINCVAv/+t/+vmJqa7sq5m3Q5BPr7++If/sz/Wo5iVEGAAAECBAoU6P/6myJmLxVYgaG7XqBnOKbu+lLXMwAgQIAAAQIECBAgQKB6AoJt1euZigkQIECAAAECBAgQINBWQLCtLZELllhAsG2Jgd2eAAECBCojINhWmVZ1bqGCbZ3bWzMjQIAAAQIECBAg0OECgm0d3mDTI0CAAAECBAgQIECgOwU8irQ7+16mWXsUaZm6oRYCBAgQKFLAo0iL1Dd2LuBRpNYBAQIECBAgQIAAAQJVFRBsq2rn1E2AAAECBAgQIECAAIHrCHzskw/Fo/ufYkSgMIE79+yOd95/T2HjG5gAAQIECJRFoPfwP4/62Y+WpRx1dKFAa80DMbPjV7tw5qZMgAABAgQIECBAgEDVBQTbqt5B9RMgQIAAAQIECBAgQOAaAo/89ZPxZ5/+IhsChQm84743x6v33l7Y+AYmQIAAAQJlEeg5839H48j/VpZy1NGFAs0dvxyza97dhTM3ZQIECBAgQIAAAQIEqi4g2Fb1DqqfAAECBAgQIECAAAEC1xCYaTbj/b/7oZiamuZDYNkFhgdXxM/+5A9Hb6Ox7GMbkAABAgQIlE6gNRl9j90XtdmLpStNQZ0vkDXWx/SrPhZRH+j8yZohAQIECBAgQIAAAQIdJyDY1nEtNSECBAgQIECAAAECBAhcEfjCw/vS8QgOAssu8NY3vjbe+Nq7ln1cAxIgQIAAgbIKNI5/IHqO/VZZy1NXBws0t/x8zG78Ox08Q1MjQIAAAQIECBAgQKCTBQTbOrm75kaAAAECBAgQIECAQFcLTE9Px+99+E/i7PkLXe1g8ssrsGZ0ZfzUj/5A9PX1Le/ARiNAgAABAiUWqLUuRe/+n4ja1KESV6m0ThPI+nfEzJ7/Gll9uNOmZj4ECBAgQIAAAQIECHSJgGBblzTaNAkQIECAAAECBAgQ6E6BM+cuxAc/8mBMTc90J4BZL6tAX29v/NR7fiDWrB5d1nENRoAAAQIEqiBQmzwUvQdSuC2F3LwILLVAVh+KmTtSqG1g51IP5f4ECBAgQIAAAQIECBBYMgHBtiWjdWMCBAgQIECAAAECBAiUQ+Dg4efiIw9+ohzFqKKjBd7zwPfErdtv6eg5mhwBAgQIEFiIQG3sC9F78OeiFtlCbuO3BK4rkKUVNnPbByJb+WZSBAgQIECAAAECBAgQqLSAYFul26d4AgQIECBAgAABAgQIzE/gyaePxEc//tloNmfn9wNXEbgBgUajJx74nu+K22/dfgO/cikBAgQIEOhOgfr5z0Tj0C9GLZvsTgCzXlKBrDYQzZ3/Jlqr3rak47g5AQIECBAgQIAAAQIElkNAsG05lI1BgAABAgQIECBAgACBEgicOHVmbue2SxOXS1CNEjpFYHRkON79fd8dG9ev7ZQpmQcBAgQIEFhygdrEE2nntvdFrXlqyccyQPcIZH1bYmbXv49scG/3TNpMCRAgQIAAAQIECBDoaAHBto5ur8kRIECAAAECBAgQIEDgmwUujU+knds+F0eeP46GwIIFtt+yKd71ju+OFQP9C76XGxAgQIAAgW4TqM+cjJ5D/zTql77abVM33yUQaA1/RzRv/XeR9axagru7JQECBAgQIECAAAECBIoREGwrxt2oBAgQIECAAAECBAgQKEwgSyM/8tiB+PQXHo6ZZrOwOgxcXYFGoxH3vfk749vv3BO16k5D5QQIECBAoAQCWTROfyTqz/279GjSiRLUo4SqCWS1FdHa+gvRXPeeVLp/mVWtf+olQIAAAQIECBAgQOD6AoJtVggBAgQIECBAgAABAgQ6UODpQ8/FrTu3XndmF8Yuxsc+9QW7t3Vg/5dySvkube+87y0xunLkusMcPPxc3Lbj+mtwKet0bwIECBAgUBaBnrGHYnblPdcvZ+r56D3yL+zeVpamVaSOfJe2me3/MqL/lutW3DP2+bQG763IrJRJgAABAgQIECBAgACB/ykg2GY1ECBAgAABAgQIECBAoAMFfu0Dvxfv/r77YvfObdedXb5725NPH47P/8VfxZmzFzpQwpQWS2Dt6lVxz+vvjjt272y7F8iTTx+JP/7TT8cv/txPLdbw7kOAAAECBCor0LfvNekRkb8RrdF2waIsei58KupH3x/1yacrO1+FL71Aa+DWmN3896O16u1psOvv0lY//5loPPMLMX33vqUvzAgECBAgQIAAAQIECBBYZAHBtkUGdTsCBAgQIECAAAECBAiUQeBfv/93o1arxRu/49Xxltd9e9TT++u9siyLJ77xTDz0lX1x7sJYGaaghpIIvBhou23H3Jq63mu21YrPffmv4i/3PRZ5aPKfvu+9JZmFMggQIECAQHEC/fvuSoPXo7npZ1IY6e+m9z1timlFz7k/i56jH4ja9JHiCjdy6QT+Z6Dt/rk1df1/4M9E4+h/jJ6TH0yXZTF199dLNx8FESBAgAABAgQIECBAoJ2AYFs7IX8nQIAAAQIECBAgQIBABQXyYNvV15aN6+Nd3/u2GBkZmtdM8oDbvsf2e0TpvLQ696JtWzbFa+7cE3tfsWtekzybApH5Lm2nTp978XrBtnnRuYgAAQIEOlzgSrDtyqs1eGc0d/16ZH2b5jXr+vkUcDv1YY8onZdW517UGn5tzK7/0bRD2/fOa5K1qcNpl7Z/FPXLT754vWDbvOhcRIAAAQIECBAgQIBAyQQE20rWEOUQIECAAAECBAgQIEBgMQReGmzL79ff1xvvvP+euP3WHfO+fb5z275H98ej+5+Ky5NT8/6dC6srsKK/L+7c+4q4OwXaVo+unPdEvpbWyae++HDMNme/6TeCbfMmdCEBAgQIdLDAS4Nt+TSz+nA0d/xqCil997xnne/cNhdwO/PRqM2en/fvXFhdgaxnNFprfzAF2t6TgpDb5z2Rxuk/jPrzvx611jf/+12wbd6ELiRAgAABAgQIECBAoEQCgm0laoZSCBAgQIAAAQIECBAgsFgCLw+2Xb3vq/bcFm+/5w0xkAJMN/I6cPBwHDh4KJ469GxMT8/cyE9dW3KBvhR63L1zW9xx2850zD/4mE9r7OKl+LPPfDGePnL0mrMUbCt585VHgAABAssi8PJg29VBZ9f8QMxu/cXIeuYfJs9/23P+k1FLR/3C51J4aXxZ5mCQ5RHI6kPRGn1rZKvuj9l03MirNn00Gs/+StTHvnTNnwm23YimawkQIECAAAECBAgQKIuAYFtZOqEOAgQIECBAgAABAgQILKLAtwq25UMMDvTH2+99Q+y9/dYbHnG21Yojzx6L/QefiW8882xMXJ684Xv4QfECgysG4hW78jDbrtixbXP01Os3VFSWZfHwI4/HQ1/ZF81m81v+VrDthlhdTIAAAQIdKvCtgm35dLPGqhRu+6WYXf0Aqf4AACAASURBVP2OG599NhM9Fx9OIbdPpJDbZ6LW/J+PA7/xm/lFUQJZY3UKs73tSpht5PURtd4bLKUVPSc/GD1HfzNq2eVv+VvBthtkdTkBAgQIECBAgAABAqUQEGwrRRsUQYAAAQIECBAgQIAAgcUVuF6w7epIWzaujze/7tvjth1bb2rwPNx07NSZeCoF3J5OO7kdT++9yiuwaf3auDXtzLY7Bdo2p/e1Wu2Gi22lYOOjB56Kv/jqo5E/qrbdS7CtnZC/EyBAgEA3CFwv2HZ1/q3BO6O1+WdjduW9N0nSivrE41G78Pm0Y1c6Jp64yfv42XIItAb3Riv1Ohu9N1qDr0pD3tj/ZDBXY9aMnnMfjZ5jvxP5o2rbvQTb2gn5OwECBAgQIECAAAECZRQQbCtjV9REgAABAgQIECBAgACBBQrMJ9h2dYh1a1bFm157V7zyjtsWNOr4xGQcPPxsHEwht+eOnYj8s1dxAkODA7F188a4LYXZbtuxLfLPN/uanpmJRx47MLdL26XxiXnfRrBt3lQuJECAAIEOFphPsO3q9FsDt0Vr00+nHdzeuSCRWvPMXMCtduGhqF/al3Zz8z8gLAh0gT/OGmujNXx3CrLdcyXQlj7f7Ct//Gz99B9F/eR/ifrMyXnfRrBt3lQuJECAAAECBAgQIECgRAKCbSVqhlIIECBAgAABAgQIECCwWAI3Emy7OubQ4Ip4zZ174u479849rnShr/GJy3H85Jm0k9vpOHbidBw/fSYuXZp/KGqh43fT71eODMWmdWtj08Z1c+eNG9amINuKBROcTbuyPbzvsXh8/8GYuc4jR7/VQIJtC26BGxAgQIBABwjcSLDt6nRbjXWRrX9PzK77sbnHlS70VW+ejtrEX88dMZ52drv8xA2FohY6fjf9PuvbHK0VeyOGXhlZOmf57mypnwt91aYOpzBbeuTomY+lR47e+L+pBdsW2gG/J0CAAAECBAgQIECgCAHBtiLUjUmAAAECBAgQIECAAIElFriZYNvVkur1euzeuTVe/ao7Ytf2W6J+E4+s/FbTm5qeiWMnT8XJU2dT0O1sOp+Js+cuRCs91tSrvUDeizWrR2NDepToxnVr5o7N6ZGy/X297X88zyuaKcC2/6lD8cjjT87tvLeQl2DbQvT8lgABAgQ6ReBmgm0vzr3WSI8nfWtk696Vzm9OX/csGkutdSlq44+lkNuBFHjbn877oz55KN1/dtHG6Owb9URrYGcKr+1J4bU70jkdQ3dGVh9etGnXWpNRP//naYe2P476+NcWdF/BtgXx+TEBAgQIECBAgAABAgUJCLYVBG9YAgQIECBAgAABAgQILKXAQoJtL61raMVAfNue3bF717bYtmXTkpWc7+x29vyFOJd2CDtzfizOp7BbvlvY5NT0ko1Z5hsP9PfFmtGVsWrVylibgmyr0/s1q0ZjU9qJbaleTx9+Pp48eCgef/Lpm9qd7Vp1CbYtVbfclwABAgSqJLCgYNtLJpo11kRrzQPRGn1reqzla5eMoJ7v7DZ1KB2HIyaPpHN+HI7a7NiSjVnmG2c9KyPr35GObRED+Tk/dkZr8JVLVnbP2Beidv5TUT/7pze1O9u1ChNsW7J2uTEBAgQIECBAgAABAksoINi2hLhuTYAAAQIECBAgQIAAgaIEFivY9tL6e3t7Y9e2zbH71u2x85bNsXJk8Xaj+FZOk9PTczu6XUyPML00PhEXL47H2ER6f2l87rGmY+m7fIexKr0ajUasHBqM4eH8GIqR9MjQlcPDc59H0pHvyDbQ17fkUxq7eCkOHnk+nnrmSBx67ljMNhd/dxbBtiVvowEIECBAoAICixVse+lUs/pQtEbeENmqPOT2usj6tiy5RG324pXA2/SJqM2cjEjnSOf8/ZXP6ZxdXvI6FnOArJYe3d63IbLeK0f0rk+fN1353LdxLsCW9Yws5pDXvFdt+mjUL34phdk+G/VLX4laa2rRxxRsW3RSNyRAgAABAgQIECBAYBkEBNuWAdkQBAgQIECAAAECBAgQWG6BpQi2vXwOoyuHY/uWzbFj66bYPhd0G1ruac6N15xpxuWpqbnd3SbT+XJ+nkyf03E5P9J3U5NX/jb39xffL2w3uHxXtYH+/lgxcOWcH/3p/Yq579LnF44VL1yXX5//rdHbKMRpLIUCjzx/LA6n48jzx+PC2KUlr0OwbcmJDUCAAAECFRBYimDby6edB9taw98Z2ch3Xjn3bS5EptZKwba0s9vc7m7NC1fOsxfS+/xz/v581OfOV45auubF6xdQcb6rWuQ7qzVG58750Wrk51UR+Xnu/WgKqeXvXzjn19dTsK2AV236WAqwPRy1i19N579MYcGjS16FYNuSExuAAAECBAgQIECAAIElEBBsWwJUtyRAgAABAgQIECBAgEDRAssRbHv5HFetHIlbtmyYe2Tpts0b0iM0039I9CpM4PTZ8/HcsZPx7NHj8dzRE3Eh7dC23C/BtuUWNx4BAgQIlFFgOYJtL5931rc1Bdzujmz4NZEN3R2tgVvLSNM1NdUnD0ZtfF/ULn0t7cyWzjPPL/vcBduWndyABAgQIECAAAECBAgsgoBg2yIgugUBAgQIECBAgAABAgTKJlBEsO3lBvnjNLdu2Rhbb0nHpg2xcf3a6E2P4fRafIGZmZk4fupMPH88D7KdmAuyTU3PLP5AN3hHwbYbBHM5AQIECHSkQBHBtpdD5o/TbA2lkNtIHnR7dWSDeyKrDXakd9GTqrXGozaxP+oTj0SkEFs9hdlqreX/Hwxe7iDYVvTKMD4BAgQIECBAgAABAjcjINh2M2p+Q4AAAQIECBAgQIAAgZILlCHYdi2ifFe3DetWz4XcNqxbM3eMjgyXXLM85WWplPNjF+Pk6bNx4tTZOJXO+fsidmObj4pg23yUXEOAAAECnS5QhmDbtYzndnVbcUfE4B2RpXNr8PbIem/p9HYs4vyy9AjR56J++UDExIGoXX4yhdmeLGQ3tvlMSrBtPkquIUCAAAECBAgQIECgbAKCbWXriHoIECBAgAABAgQIECCwCAJlDbZda2qNtIvb6tGRF46VsXr1aKxOAbjVoytjZGQoaovgUaVbZFkWY5fG49z5sTiXQmxz5/y4MJZCbZei2WxWZjqCbZVplUIJECBAYAkFyhpsu9aUs9qKyPq3pmN7RP+2yAZ2XPnctz0dm9JPuu1fZq0UVDsWtckjKcT2fDofjphK7/Mj/9yaXMKVs7i3FmxbXE93I0CAAAECBAgQIEBgeQQE25bH2SgECBAgQIAAAQIECBBYVoEqBdvawQwPD8bKoaEYGlwRw0MrYuVwep++GxkcjOF05O8HB/rb3aYUfx+/PBmXxidifOJyXBwfj/FLE3ExPybSd+P5dxNzf++Ul2Bbp3TSPAgQIEBgIQJVCra1m2erd0NE78a0s9u6dKyPWt+GdL5yRCP/Lr1vrGp3m1L8vdY8m0JrpyJmTketeSIF1dL76RNXPqcjmiejPnOyFLUuRhGCbYuh6B4ECBAgQIAAAQIECCy3gGDbcosbjwABAgQIECBAgAABAssg0EnBtvlyjaTA2/Bc+C2F3VIAbmjFiujtbUSjpyd6Gj3R++K5ET099ehNO8X1pO8a6W9zf69fOeef+3p754adnplJO6TNxmw6Zmab6dyKmVb+uTn3fXM2Hfnf03nmxffN9LvZmEgBtbnAWgqxXUqhtU4KrM23J4Jt85VyHQECBAh0skAnBdvm26csD7811qdd3tKRQnDRWBvRMxC1Wn9k9fQ/JNT65s61dGTpfcx9l46rn194H/X8uqG5YWut8YjWdDqmIrLJ9Dm9z9L7F8619H2WPufnyGau7KaWPmez6do8qJZCbLVmfj7dUYG1+fZEsG2+Uq4jQIAAAQIECBAgQKBMAoJtZeqGWggQIECAAAECBAgQILBIAt0YbFskOrdZRAHBtkXEdCsCBAgQqKxANwbbKtusDi5csK2Dm2tqBAgQIECAAAECBDpYQLCtg5tragQIECBAgAABAgQIdK+AYFv39r5MMxdsK1M31EKAAAECRQkIthUlb9yXCgi2WQ8ECBAgQIAAAQIECFRRQLCtil1TMwECBAgQIECAAAECBNoICLZZImUQEGwrQxfUQIAAAQJFCwi2Fd0B4+cCgm3WAQECBAgQIECAAAECVRQQbKti19RMgAABAgQIECBAgACBNgKCbZZIGQQE28rQBTUQIECAQNECgm1Fd8D4uYBgm3VAgAABAgQIECBAgEAVBQTbqtg1NRMgQIAAAQIECBAgQKCNgGCbJVIGAcG2MnRBDQQIECBQtIBgW9EdMH4uINhmHRAgQIAAAQIECBAgUEUBwbYqdk3NBAgQIECAAAECBAgQaCMg2GaJlEFAsK0MXVADAQIECBQtINhWdAeMnwsItlkHBAgQIECAAAECBAhUUUCwrYpdUzMBAgQIECBAgAABAgTaCAi2WSJlEBBsK0MX1ECAAAECRQsIthXdAePnAoJt1gEBAgQIECBAgAABAlUUEGyrYtfUTIAAAQIECBAgQIAAgTYCgm2WSBkEBNvK0AU1ECBAgEDRAoJtRXfA+LmAYJt1QIAAAQIECBAgQIBAFQUE26rYNTUTIECAAAECBAgQIECgjYBgmyVSBgHBtjJ0QQ0ECBAgULSAYFvRHTB+LiDYZh0QIECAAAECBAgQIFBFAcG2KnZNzQQIECBAgAABAgQIEGgjINhmiZRBQLCtDF1QAwECBAgULSDYVnQHjJ8LCLZZBwQIECBAgAABAgQIVFFAsK2KXVMzAQIECBAgQIAAAQIE2ggItlkiZRAQbCtDF9RAgAABAkULCLYV3QHj5wKCbdYBAQIECBAgQIAAAQJVFBBsq2LX1EyAAAECBAgQIECAAIE2AoJtlkgZBATbytAFNRAgQIBA0QKCbUV3wPi5gGCbdUCAAAECBAgQIECAQBUFBNuq2DU1EyBAgAABAgQIECBAoI2AYJslUgYBwbYydEENBAgQIFC0gGBb0R0wfi4g2GYdECBAgAABAgQIECBQRQHBtip2Tc0ECBAgQIAAAQIECBBoIyDYZomUQUCwrQxdUAMBAgQIFC0g2FZ0B4yfCwi2WQcECBAgQIAAAQIECFRRQLCtil1TMwECBAgQIECAAAECBNoICLZZImUQEGwrQxfUQIAAAQJFCwi2Fd0B4+cCgm3WAQECBAgQIECAAAECVRQQbKti19RMgAABAgQIECBAgACBNgKCbZZIGQQE28rQBTUQIECAQNECgm1Fd8D4uYBgm3VAgAABAgQIECBAgEAVBQTbqtg1NRMgQIAAAQIECBAgQKCNgGCbJVIGAcG2MnRBDQQIECBQtIBgW9EdMH4uINhmHRAgQIAAAQIECBAgUEUBwbYqdk3NBAgQIECAAAECBAgQaCMg2GaJlEFAsK0MXVADAQIECBQtINhWdAeMnwsItlkHBAgQIECAAAECBAhUUUCwrYpdUzMBAgQIECBAgAABAgTaCAi2WSJlEBBsK0MX1ECAAAECRQsIthXdAePnAoJt1gEBAgQIECBAgAABAlUUEGyrYtfUTIAAAQIECBAgQIAAgTYCgm2WSBkEBNvK0AU1ECBAgEDRAoJtRXfA+LmAYJt1QIAAAQIECBAgQIBAFQUE26rYNTUTIECAAAECBAgQIECgjYBgmyVSBgHBtjJ0QQ0ECBAgULSAYFvRHTB+LiDYZh0QIECAAAECBAgQIFBFAcG2KnZNzQQIECBAgAABAgQIEGgjINhmiZRBQLCtDF1QAwECBAgULSDYVnQHjJ8LCLZZBwQIECBAgAABAgQIVFFAsK2KXVMzAQIECBAgQIAAAQIE2ggItlkiZRAQbCtDF9RAgAABAkULCLYV3QHj5wKCbdYBAQIECBAgQIAAAQJVFBBsq2LX1EyAAAECBAgQIECAAIE2AoJtlkgZBATbytAFNRAgQIBA0QKCbUV3wPi5gGCbdUCAAAECBAgQIECAQBUFBNuq2DU1EyBAgAABAgQIECBAoI2AYJslUgYBwbYydEENBAgQIFC0gGBb0R0wfi4g2GYdECBAgAABAgQIECBQRQHBtip2Tc0ECBAgQIAAAQIECBBoIyDYZomUQUCwrQxdUAMBAgQIFC0g2FZ0B4yfCwi2WQcECBAgQIAAAQIECFRRQLCtil1TMwECBAgQIECAAAECBNoICLZZImUQEGwrQxfUQIAAAQJFCwi2Fd0B4+cCgm3WAQECBAgQIECAAAECVRQQbKti19RMgAABAgQIECBAgACBNgKCbZZIGQQE28rQBTUQIECAQNECgm1Fd8D4uYBgm3VAgAABAgQIECBAgEAVBQTbqtg1NRMgQIAAAQIECBAgQKCNgGCbJVIGAcG2MnRBDQQIECBQtIBgW9EdMH4uINhmHRAgQIAAAQIECBAgUEUBwbYqdk3NBAgQIECAAAECBAgQaCMg2GaJlEFAsK0MXVADAQIECBQtINhWdAeMnwsItlkHBAgQIECAAAECBAhUUUCwrYpdUzMBAgQIECBAgAABAgTaCAi2WSJlEBBsK0MX1ECAAAECRQsIthXdAePnAoJt1gEBAgQIECBAgAABAlUUEGyrYtfUTIAAAQIECBAgQIAAgTYCgm2WSBkEBNvK0AU1ECBAgEDRAoJtRXfA+LmAYJt1QIAAAQIECBAgQIBAFQUE26rYNTUTIECAAAECBAgQIECgjYBgmyVSBgHBtjJ0QQ0ECBAgULSAYFvRHTB+LiDYZh0QIECAAAECBAgQIFBFAcG2KnZNzQQIECBAgAABAgQIEGgj8Bv/6Q9icnKKE4HCBFYM9MfP//RPFDa+gQkQIECAQFkE+h69J2rNC2UpRx1dKJA1VsX0nZ/vwpmbMgECBAgQIECAAAECVRcQbKt6B9VPgAABAgQIECBAgACBawh88CN/EkdPnGJDoDCBWzatj7/1w99f2PgGJkCAAAECZRHoffJvRn3862UpRx1dKJAN3RXTt/9+F87clAkQIECAAAECBAgQqLqAYFvVO6h+AgQIECBAgAABAgQIXEPgwU98Ph4/cJANgcIE7tyzO955/z2FjW9gAgQIECBQFoHeQ78U9XMfK0s56uhCgdaaB2Jmx6924cxNmQABAgQIECBAgACBqgsItlW9g+onQIAAAQIECBAgQIDANQT2PX4g/vwzX2JDoDCBd9z35nj13tsLG9/ABAgQIECgLAI9Z/4oGkd+pSzlqKMLBZo7fjlm17y7C2duygQIECBAgAABAgQIVF1AsK3qHVQ/AQIECBAgQIAAAQIEriEw02zG+3/3QzE1Nc2HwLILrBjoj/e990ejp6dn2cc2IAECBAgQKJ1AazL6HrsvarMXS1eagjpfIGusjulXfTKi3tv5kzVDAgQIECBAgAABAgQ6TkCwreNaakIECBAgQIAAAQIECBC4IvCFh/el4xEcBJZd4Lve9B3xhtfcuezjGpAAAQIECJRVoHH8A9Fz7LfKWp66OligueUfxuzG93bwDE2NAAECBAgQIECAAIFOFhBs6+TumhsBAgQIECBAgAABAl0tMDk9Hb/zX/97jF0c72oHk19egTWrRuO9P/ZA9DYayzuw0QgQIECAQIkF8t3aevf/cNSmj5W4SqV1mkDWvzNm9v5hZLXBTpua+RAgQIAAAQIECBAg0CUCgm1d0mjTJECAAAECBAgQIECgOwVOnTkX//nDD0ZzdrY7Acx6WQX6envjb//4D8aqlSPLOq7BCBAgQIBAFQRql78RvQd+ImrZVBXKVWPFBbL6UEzv+UhE/9aKz0T5BAgQIECAAAECBAh0s4BgWzd339wJECBAgAABAgQIEOgKgSefPhz/7X98uivmapLFCvz4D31v7Ni6udgijE6AAAECBEosUD//6eh95h+UuEKldYJAFrWY2f3bkY28rhOmYw4ECBAgQIAAAQIECHSxgGBbFzff1AkQIECAAAECBAgQ6B6B/U89Ew9+4qGYtXNb9zR9GWfa29uIH/ob3xW37dy2jKMaigABAgQIVFOgfu7j0Tj8z9LObdPVnICqSy2Q1VdEc+e/jdboPaWuU3EECBAgQIAAAQIECBCYj4Bg23yUXEOAAAECBAgQIECAAIEOEDhx6kx86KMfj4nLkx0wG1Moi8DoyHC854G3x9rVq8pSkjoIECBAgEDpBWoTT0Tvwb8XtebZ0teqwOoIZH1bYua234xsYFd1ilYpAQIECBAgQIAAAQIEriMg2GZ5ECBAgAABAgQIECBAoIsELo1PxB//6Wfi+eMnu2jWprpUAru23xI/mHZqG+jvW6oh3JcAAQIECHSsQH3mZPQ884+jPv5Ix87RxJZPoDXypmju+rXIelYu36BGIkCAAAECBAgQIECAwBILCLYtMbDbEyBAgAABAgQIECBAoGwCWZbFV7/+RHz2y1+N2eZs2cpTTwUE+vp64/57Xh937X1FBapVIgECBAgQKLNAKxqn/iDqR/9D1FpTZS5UbSUVyOpDMbvtn8TsmneVtEJlESBAgAABAgQIECBA4OYFBNtu3s4vCRAgQIAAAQIECBAgUFqBpw89F7fu3Hrd+s6dH4uPfuJzcezE6dLOQ2HlE9ixdXN8/9vvjZGhwesWd/Dwc3HbjuuvwfLNTkUECBAgQGDxBXrGHorZlfdc/8ZTR6L30C9FfeLRxS/AHTtWoDXy+pjZ8a8iejdcd449Y59Pa/DejnUwMQIECBAgQIAAAQIEOldAsK1ze2tmBAgQIECAAAECBAh0scCvfeD34t3fd1/s3rntugpZ+uv+p56JL/zFvjhz/kIXi5l6O4GN69fEva9/bdzWJjCZ3+fJp4+kR95+On7x536q3W39nQABAgQIdLxA377XRPPW34jWaLtgURb18x+PxtEPRG3qmY53McGbF2it2BOtLe+bV1itfv4z0XjmF2L67n03P6BfEiBAgAABAgQIECBAoCABwbaC4A1LgAABAgQIECBAgACBpRT41+//3ajVavHG73h1vOV13x719P56r1Z6POkTB56Ohx7eF+fHLi5lae5dMYF1a1fNBdpuv3V728pnW6343Jf/Kv5y32ORhyb/6fve2/Y3LiBAgAABAp0u0L/vrjTFejQ3/UzMbv676X1PmynPRs/Z/xE9x34zatPPdTqP+d2AQGtgdwq0/VzMjt7X/lfZTApJ/sfoOfnBdG0WU3d/vf1vXEGAAAECBAgQIECAAIGSCQi2lawhyiFAgAABAgQIECBAgMBiCOTBtquvLRvXx7u+920xMjI0r1s/vv9gfO2x/fH88ZPzut5FnSmwa9uWuPvOvfMKtOUCZy+Mze3Sdur0uRdBBNs6c22YFQECBAjcmMCVYNuVV2vwzmju+vXI+jbN6yY9Zx+M+umPRH38kXld76LOFGiNvDFa698zv0BbIqhNHU67tP2jqF9+8kUQwbbOXBtmRYAAAQIECBAgQKDTBQTbOr3D5keAAAECBAgQIECAQFcKvDTYlgP09/XGO++/J4WUdszbI3806dcefSIef+JgTE5Pz/t3LqyuwNDgirhr7yviNd+2Z95ByHy2X3t0f3zqiw/HbHP2myYv2FbdtaByAgQIEFg8gZcG2/K7ZvXhaO741Wit+u55D5I/mrR+6kNpJ7cHozZrd915w1X4wlZjXbTWvita635k3kHIfLqN038Y9ed/PWqtqW+avWBbhReD0gkQIECAAAECBAh0sYBgWxc339QJECBAgAABAgQIEOhcgZcH267O9FV7bou33/OGGOjvu6HJP/GNZ+LAU4fiqcPPRbPZvKHfurjcAgN9ffGKFHi8Y/eO2L1z2w0VO3bxUvzZZ74YTx85es3fCbbdEKeLCRAgQKBDBV4ebLs6zdk1PxCzW38xsp6VNzTznnN/GrXzn4z6hS9ELbt8Q791cbkFsp6RaI1+d2Sr74/ZlW+9oWJr00ej8eyvRH3sS9f8nWDbDXG6mAABAgQIECBAgACBkggItpWkEcogQIAAAQIECBAgQIDAYgp8q2BbPsbgQH+8/d43xN7bb73hIZuzs3H42WNzIbdvHDoSlye/eSeIG76hHxQiMDw8GLfv2p7CbDtj25ZNUa/VbqiOLMvi4Ucej4e+su+6QUfBthtidTEBAgQIdKjAtwq25dPNGqtSuO2XYnb1O2589tl09Fz8i6idy0Nun007uZ2/8Xv4ReECrd4NL4bZWsOvTfX03GBNreg5+cHoOfqb1w06CrbdIKvLCRAgQIAAAQIECBAohYBgWynaoAgCBAgQIECAAAECBAgsrsD1gm1XR9qycX28+XXfHrft2HpTg+fhpqPHT8U3nnk2Dh5+Nk6dOXdT9/GjpRfIY2ubU79379qW+r0tNq5fc1ODtlqtePTAU/EXX300zl0Ya3sPwba2RC4gQIAAgS4QuF6w7er0W4N3Rmvzz6Zduu69SZFW1Mf/37ST2+fTjl3pmPzGTd7Hz5ZeoBZ5v7NV90Yr9bu1Ys/NDZk1o+fcR6Pn2O9EbfpI23sItrUlcgEBAgQIECBAgAABAiUUEGwrYVOURIAAAQIECBAgQIAAgYUKzCfYdnWMdWtWxZtee1e88o7bFjTsxYvjKeD23NxObnngzW5uC+Jc8I9Hhofilk3r53Zm25UeMbriBh8/+9ICpmdm4pHHDszt0nZpfGLetQm2zZvKhQQIECDQwQLzCbZdnX5r4LZobfrptIPbOxckUps+Hj1jD0Vc+FwKvH3dbm4L0lz4j7PejZENvTpaq96WwmxvSY+fHb3pm9Za41E//UdRP/lfoj5zct73EWybN5ULCRAgQIAAAQIECBAokYBgW4maoRQCBAgQIECAAAECBAgslsCNBNuujjk0uCJec+eeuPvOvXOPK13o69KliTh++kwcO3E6jp/KjzMxPn55obf1+2sIrFo5EpvWr41NG9fGxnX5ef2CgmxXhzibdmV7kfWIHQAAIABJREFUeN9j8fj+gzHTbN6wvWDbDZP5AQECBAh0oMCNBNuuTr/VWBfZ+vfE7Lofm3tc6UJfeQCqdvmJiPHHozbx13Pv6zOnFnpbv7+GQNa3Ne3Itjdi6JVpN7a9kQ2+akFBtqtD1KYOpzBbeuTomY+lR47O/380uPp7wTbLlQABAgQIECBAgACBKgoItlWxa2omQIAAAQIECBAgQIBAG4GbCbZdvWW9Xo/dO7fGq191R+zafkvUa/mDLBfndXlqOo6fOBUnT5+bC72dPHU2zp6/EPljTb3aC/T01CPfYW/j2hRgS0G2DetXzwXaent72/94nlc0U4Bt/1OH4pHHn4znjp2Y56+ufZlg24L4/JgAAQIEOkTgZoJtL0691kiPJ31rZOvelc5vTl/3LJpKbfZCCrnlQbcn54JutcsH0iNMD6X7txZtjI6+Ua038h32svxRooN7UojtjhRi2xNZfWjRpl1rTUb9/J+nHdr+OO2897UF3VewbUF8fkyAAAECBAgQIECAQEECgm0FwRuWAAECBAgQIECAAAECSymwkGDbS+saWjEQ37Znd+zetS22bdm0ZCUfTWG3c+fG4kzaIexcCrqdOz8W+W5h09MzSzZmmW88mNxXja6MNatWxtrVo+n9SKwZHU1htjVLVvbTh5+PJw8eiseffPqmdme7VmGCbUvWLjcmQIAAgQoJLCjY9pJ5Zo010VrzQLRG3xqt4dcumUB9Ij26dPJwxNSRFHRL5+nD6fORyB+B2Y2vrLE6sr7tkQ3siEhHq397RH8654G2JXr1jH0hauc/FfWzf3pTu7NdqyzBtiVqltsSIECAAAECBAgQILCkAoJtS8rr5gQIECBAgAABAgQIEChGYLGCbS+tPt8VbNe2zbH71u2x85bNsXJkeMknN3F5Ms6ngNuFi+NxcXwiPcp0IsYupffpMaf5o04vTUxEc3Z2yetYzAFyx5VDgzE8nI50HhkaipX5++Gh9H4w1q1dFb2NxmIOec17jV28FAePPB9PPXMkDj13LGabi+8o2LbkbTQAAQIECFRAYLGCbS+dar4rWGvkDZGtykNur0vBqy1LLlFrnova9JEUdDuWzunRpjOn0/l4RP6Y0xeOyKaXvI7FHGBud7XeDZHlR9/69NjXjVHrf+Fz78a0G9utkdUGF3PIa96rNn006he/lMJsn436pa+kEOHUoo8p2LbopG5IgAABAgQIECBAgMAyCAi2LQOyIQgQIECAAAECBAgQILDcAksRbHv5HEZXDsf2LZtjx9ZNsX0u6LZ4j126Ea+ZmZm4PDkdk+kxp5enJufOk+nz3PvL+ffp/MLfJ6em0rVT6bupmFrgbnArBvpjoL8/rpx7oz+9H0jvV1z9bqAvvR9If+ub+z4/50G2ol5jKRx45PljcTgdR54/HhfGLi15KYJtS05sAAIECBCogMBSBNtePu082NYa/s7IRr7zyrlvcyEyc7u6NceiNjsWkT/qND+nz/n7mMm/T+e57y9eOafv5s6thf27JOtZlZ7SujIF00YjGiOR9YymY2X6Lv+cH+l9Omc9I+m7/NqRaKUwW1GvWgoH1i89HLWLX03nv0wBwaNLXopg25ITG4AAAQIECBAgQIAAgSUQEGxbAlS3JECAAAECBAgQIECAQNECyxFse/kcV60ciVu2bJh7ZOm2zRvSIzTTfzT0Kkzg9Nnz8dyxk/Hs0ePx3NETade7hf0H45uZiGDbzaj5DQECBAh0msByBNtebpb1bU0Bt7sjG35NZEN3R2vg1k5jrdR86pMHoza+L2qXvpZ2ZkvnmeeXvX7BtmUnNyABAgQIECBAgAABAosgINi2CIhuQYAAAQIECBAgQIAAgbIJFBFse7nBQF9fbN2yMbbeko5NG2Lj+rXL8ojNsvViOerJd607fupMPH88D7KdmAuyLXRHusWoW7BtMRTdgwABAgSqLlBEsO3lZvlOZa2hFHIbyYNur45scM+yPGKz6r27mfrzXetqE/ujPvFIRAqx1VOYbaE70t1MHS//jWDbYii6BwECBAgQIECAAAECyy0g2Lbc4sYjQIAAAQIECBAgQIDAMgiUIdh2rWnmu7ptWLd6LuS2Yd2auWN0ZHgZRDpjiCxN4/zYxTh5+mycOHU2TqVz/r6I3djmIyrYNh8l1xAgQIBApwuUIdh2LeO5Xd1W3BExeEdk6dwavD2y3ls6vR2LOL8sPUL0uahfPhAxcSBql59MYbYnC9mNbT6TEmybj5JrCBAgQIAAAQIECBAom4BgW9k6oh4CBAgQIECAAAECBAgsgkBZg23Xmlqj0YjVoyMvHCtj9erRWJ0CcKtHV8bIyFDUFsGjSrfIsizGLo3HufNjcS6F2ObO+XFhLIXaLkWz2azMdATbKtMqhRIgQIDAEgqUNdh2rSlntRWR9W9Nx/aI/m2RDey48rlvezo2pZ9027/MWimodixqk0dSiO35dD4cMZXe50f+uTW5hCtncW8t2La4nu5GgAABAgQIECBAgMDyCAi2LY+zUQgQIECAAAECBAgQILCsAlUKtrWDGR4ejJVDQzE0uCKGh1bEyuH0Pn03MjgYw+nI3w8O9Le7TSn+Pn55Mi6NT8T4xOW4OD4e45cm4mJ+TKTvxvPvJub+3ikvwbZO6aR5ECBAgMBCBKoUbGs3z1bvhojejWlnt3XpWB+1vg3pfOWIRv5det9Y1e42pfh7rXk2hdZORcycjlrzRAqqpffTJ658Tkc0T0Z95mQpal2MIgTbFkPRPQgQIECAAAECBAgQWG4BwbblFjceAQIECBAgQIAAAQIElkGgk4Jt8+UaSYG34bnwWwq7pQDc0IoV0dvbiEZPT/Q0eqL3xXMjenrq0Zt2iutJ3zXS3+b+Xr9yzj/39fbODTs9M5N2SJuN2XTMzDbTuRUzrfxzc+775mw68r+n88yL75vpd7MxkQJqc4G1FGK7lEJrnRRYm29PBNvmK+U6AgQIEOhkgU4Kts23T1kefmusT7u8pSOF4KKxNqJnIGq1/sjq6X9IqPXNnWvpyNL7mPsuHVc/v/A+6vl1Q3PD1lrjEa3pdExFZJPpc3qfpfcvnGvp+yx9zs+RzVzZTS19zmbTtXlQLYXYas38fLqjAmvz7Ylg23ylXEeAAAECBAgQIECAQJkEBNvK1A21ECBAgAABAgQIECBAYJEEujHYtkh0brOIAoJti4jpVgQIECBQWYFuDLZVtlkdXLhgWwc319QIECBAgAABAgQIdLCAYFsHN9fUCBAgQIAAAQIECBDoXgHBtu7tfZlmLthWpm6ohQABAgSKEhBsK0reuC8VEGyzHggQIECAAAECBAgQqKKAYFsVu6ZmAgQIECBAgAABAgQItBEQbLNEyiAg2FaGLqiBAAECBIoWEGwrugPGzwUE26wDAgQIECBAgAABAgSqKCDYVsWuqZkAAQIECBAgQIAAAQJtBATbLJEyCAi2laELaiBAgACBogUE24rugPFzAcE264AAAQIECBAgQIAAgSoKCLZVsWtqJkCAAAECBAgQIECAQBsBwTZLpAwCgm1l6IIaCBAgQKBoAcG2ojtg/FxAsM06IECAAAECBAgQIECgigKCbVXsmpoJECBAgAABAgQIECDQRkCwzRIpg4BgWxm6oAYCBAgQKFpAsK3oDhg/FxBssw4IECBAgAABAgQIEKiigGBbFbumZgIECBAgQIAAAQIECLQREGyzRMogINhWhi6ogQABAgSKFhBsK7oDxs8FBNusAwIECBAgQIAAAQIEqigg2FbFrqmZAAECBAgQIECAAAECbQQE2yyRMggItpWhC2ogQIAAgaIFBNuK7oDxcwHBNuuAAAECBAgQIECAAIEqCgi2VbFraiZAgAABAgQIECBAgEAbAcE2S6QMAoJtZeiCGggQIECgaAHBtqI7YPxcQLDNOiBAgAABAgQIECBAoIoCgm1V7JqaCRAgQIAAAQIECBAg0EZAsM0SKYOAYFsZuqAGAgQIEChaQLCt6A4YPxcQbLMOCBAgQIAAAQIECBCoooBgWxW7pmYCBAgQIECAAAECBAi0ERBss0TKICDYVoYuqIEAAQIEihYQbCu6A8bPBQTbrAMCBAgQIECAAAECBKooINhWxa6pmQABAgQIECBAgAABAm0EBNsskTIICLaVoQtqIECAAIGiBQTbiu6A8XMBwTbrgAABAgQIECBAgACBKgoItlWxa2omQIAAAQIECBAgQIBAGwHBNkukDAKCbWXoghoIECBAoGgBwbaiO2D8XECwzTogQIAAAQIECBAgQKCKAoJtVeyamgkQIECAAAECBAgQINBGQLDNEimDgGBbGbqgBgIECBAoWkCwregOGD8XEGyzDggQIECAAAECBAgQqKKAYFsVu6ZmAgQIECBAgAABAgQItBEQbLNEyiAg2FaGLqiBAAECBIoWEGwrugPGzwUE26wDAgQIECBAgAABAgSqKCDYVsWuqZkAAQIECBAgQIAAAQJtBATbLJEyCAi2laELaiBAgACBogUE24rugPFzAcE264AAAQIECBAgQIAAgSoKCLZVsWtqJkCAAAECBAgQIECAQBsBwTZLpAwCgm1l6IIaCBAgQKBoAcG2ojtg/FxAsM06IECAAAECBAgQIECgigKCbVXsmpoJECBAgAABAgQIECDQRkCwzRIpg4BgWxm6oAYCBAgQKFpAsK3oDhg/FxBssw4IECBAgAABAgQIEKiigGBbFbumZgIECBAgQIAAAQIECLQREGyzRMogINhWhi6ogQABAgSKFhBsK7oDxs8FBNusAwIECBAgQIAAAQIEqigg2FbFrqmZAAECBAgQIECAAAECbQQE2yyRMggItpWhC2ogQIAAgaIFBNuK7oDxcwHBNuuAAAECBAgQIECAAIEqCgi2VbFraiZAgAABAgQIECBAgEAbAcE2S6QMAoJtZeiCGggQIECgaAHBtqI7YPxcQLDNOiBAgAABAgQIECBAoIoCgm1V7JqaCRAgQIAAAQIECBAg0EZAsM0SKYOAYFsZuqAGAgQIEChaQLCt6A4YPxcQbLMOCBAgQIAAAQIECBCoooBgWxW7pmYCBAgQIECAAAECBAi0ERBss0TKICDYVoYuqIEAAQIEihYQbCu6A8bPBQTbrAMCBAgQIECAAAECBKooINhWxa6pmQABAgQIECBAgAABAm0EBNsskTIICLaVoQtqIECAAIGiBQTbiu6A8XMBwTbrgAABAgQIECBAgACBKgoItlWxa2omQIAAAQIECBAgQIBAGwHBNkukDAKCbWXoghoIECBAoGgBwbaiO2D8XECwzTogQIAAAQIECBAgQKCKAoJtVeyamgkQIECAAAECBAgQINBGQLDNEimDgGBbGbqgBgIECBAoWkCwregOGD8XEGyzDggQIECAAAECBAgQqKKAYFsVu6ZmAgQIECBAgAABAgQItBEQbLNEyiAg2FaGLqiBAAECBIoWEGwrugPGzwUE26wDAgQIECBAgAABAgSqKCDYVsWuqZkAAQIECBAgQIAAAQJtBATbLJEyCAi2laELaiBAgACBogUE24rugPFzAcE264AAAQIECBAgQIAAgSoKCLZVsWtqJkCAAAECBAgQIECAQBsBwTZLpAwCgm1l6IIaCBAgQKBoAcG2ojtg/FxAsM06IECAAAECBAgQIECgigKCbVXsmpoJECBAgAABAgQIECDQRkCwzRIpg4BgWxm6oAYCBAgQKFpAsK3oDhg/FxBssw4IECBAgAABAgQIEKiigGBbFbumZgIECBAgQIAAAQIECLQREGyzRMogINhWhi6ogQABAgSKFhBsK7oDxs8FBNusAwIECBAgQIAAAQIEqigg2FbFrqmZAAECBAgQIECAAAECbQQE2yyRMggItpWhC2ogQIAAgaIFBNuK7oDxcwHBNuuAAAECBAgQIECAAIEqCgi2VbFraiZAgAABAgQIECBAgEAbAcE2S6QMAoJtZeiCGggQIECgaAHBtqI7YPxcQLDNOiBAgAABAgQIECBAoIoCgm1V7JqaCRAgQIAAAQIECBAg0EbgN/7TH8Tk5BQnAoUJrBjoj5//6Z8obHwDEyBAgACBsgj0PXpP1JoXylKOOrpQIGusiuk7P9+FMzdlAgQIECBAgAABAgSqLiDYVvUOqp8AAQIECBAgQIAAAQLXEPjgR/4kjp44xYZAYQK3bFoff+uHv7+w8Q1MgAABAgTKItD75N+M+vjXy1KOOrpQIBu6K6Zv//0unLkpEyBAgAABAgQIECBQdQHBtqp3UP0ECBAgQIAAAQIECBC4hsCDn/h8PH7gIBsChQncuWd3vPP+ewob38AECBAgQKAsAr2Hfinq5z5WlnLU0YUCrTUPxMyOX+3CmZsyAQIECBAgQIAAAQJVFxBsq3oH1U+AAAECBAgQIECAAIFrCOx7/ED8+We+xIZAYQLvuO/N8eq9txc2voEJECBAgEBZBHrO/FE0jvxKWcpRRxcKNHf8csyueXcXztyUCRAgQIAAAQIECBCouoBgW9U7qH4CBAgQIECAAAECBAhcQ2Cm2Yz3/+6HYmpqmg+BZRdYMdAf73vvj0ZPT8+yj21AAgQIECBQOoHWZPQ9dl/UZi+WrjQFdb5A1lgd06/6ZES9t/Mna4YECBAgQIAAAQIECHScgGBbx7XUhAgQIECAAAECBAgQIHBF4AsP70vHIzgILLvAd73pO+INr7lz2cc1IAECBAgQKKtA4/gHoufYb5W1PHV1sEBzyz+M2Y3v7eAZmhoBAgQIECBAgAABAp0sINjWyd01NwIECBAgQIAAAQIEulpgcno6fue//vcYuzje1Q4mv7wCa1aNxnt/7IHobTSWd2CjESBAgACBEgvku7X17v/hqE0fK3GVSus0gax/Z8zs/cPIaoOdNjXzIUCAAAECBAgQIECgSwQE27qk0aZJgAABAgQIECBAgEB3Cpw6cy7+84cfjObsbHcCmPWyCvT19sbf/vEfjFUrR5Z1XIMRIECAAIEqCNQufyN6D/xE1LKpKpSrxooLZPWhmN7zkYj+rRWfifIJECBAgAABAgQIEOhmAcG2bu6+uRMgQIAAAQIECBAg0BUCTz59OP7b//h0V8zVJIsV+PEf+t7YsXVzsUUYnQABAgQIlFigfv7T0fvMPyhxhUrrBIEsajGz+7cjG3ldJ0zHHAgQIECAAAECBAgQ6GIBwbYubr6pEyBAgAABAgQIECDQPQL7n3omHvzEQzFr57buafoyzrS3txE/9De+K27buW0ZRzUUAQIECBCopkD93MejcfifpZ3bpqs5AVWXWiCrr4jmzn8brdF7Sl2n4ggQIECAAAECBAgQIDAfAcG2+Si5hgABAgQIECBAgAABAh0gcOLUmfjQRz8eE5cnO2A2plAWgdGR4XjPA2+PtatXlaUkdRAgQIAAgdIL1CaeiN6Dfy9qzbOlr1WB1RHI+rbEzG2/GdnAruoUrVICBAgQIECAAAECBAhcR0CwzfIgQIAAAQIECBAgQIBAFwlcGp+IP/7Tz8Tzx0920axNdakEdm2/JX4w7dQ20N+3VEO4LwECBAgQ6FiB+szJ6HnmH0d9/JGOnaOJLZ9Aa+RN0dz1a5H1rFy+QY1EgAABAgQIECBAgACBJRYQbFtiYLcnQIAAAQIECBAgQIBA2QSyLIuvfv2J+OyXvxqzzdmylaeeCgj09fXG/fe8Pu7a+4oKVKtEAgQIECBQZoFWNE79QdSP/oeotabKXKjaSiqQ1Ydidts/idk17ypphcoiQIAAAQIECBAgQIDAzQsItt28nV8SIECAAAECBAgQIECg0gLnzo/FRz/xuTh24nSl56H45RXYsXVzfP/b742RocHlHdhoBAgQIECgkwWmjkTvoV+K+sSjnTxLc1tkgdbI62Nmx7+K6N2wyHd2u/+PvfuAjqM4+AA+tjEGG2Pjgk3vHUJLaKGGEgi9m2ZwaKHz0Tuhhh46BNN77wRCQhI6gYQWejPdxsbYptqA7W9nFYmTdCedpD1Ze/rNe36ydXu7M79Z3Y7f/DVDgAABAgQIECBAgACBjiEg2NYx+kEtCBAgQIAAAQIECBAgME0EpiZXfeOdEeGJZ14IY8dPmCZ1cNF8CAwa2C+svuLyYYF558xHhdWSAAECBAjkTmBq6Dr+4TDdpxeHLpNG5K72Ktx+AlNmXDRMmX3fMHnm1dvvoq5EgAABAgQIECBAgACBaSAg2DYN0F2SAAECBAgQIECAAAECHU1gSrI96etvvhcef/aFMP7Lrzpa9dRnGgoM6N83DbQtPP/c07AWLk2AAAECBDqTwOTQ7Ys/h24jLwldvv+4MzVcW5sRmDLDgkmgbZ8wuc/arAgQIECAAAECBAgQINApBATbOkU3ayQBAgQIECBAgAABAgTKF3j1jXfD86+8ET4ZNbr8Nzmy6gTmm2v2sOxSiwm0VV3PahABAgQI5Emg2xf3ha6f3xa6fvNinqqtrhkLTOm9cpgycBuBtoxdnY4AAQIECBAgQIAAgY4vINjW8ftIDQkQIECAAAECBAgQIDBNBOLWpM//9/Xw6uvvhonffz9N6uCi7SvQq+eM4WeLLRSWW3LR0Lt3r/a9uKsRIECAAAECJQXi1qRdx9ySrOR2X+gy2eq6neFWmTLdgDCl/+ZhyoCtw9TpB3eGJmsjAQIECBAgQIAAAQIEGgkItrkpCBAgQIAAAQIECBAgQKBZgdffHhHefOf98M4HH4cff/yx2eMdkB+BGaafPiw0/zxhkQXnCQvOO1d+Kq6mBAgQIECgkwp0G/dg6DL+b6HrhCdCl6nfdVKF6mz21G69w5Q+vwpTZ1knTJ55jepspFYRIECAAAECBAgQIECgBQKCbS3AcigBAgQIECBAgAABAgQ6u8CPkyeHDz4amYbc3n7/w/DdxEmdnSSX7Z9ppp5h4fnmTsJs84a5Zh8cunbpkst2qDQBAgQIEOjUAlO/D92+eiZ0GRdDbv9MVnIb36k58tr4Kd1nrQuzTZlp+aQZ3fLaFPUmQIAAAQIECBAgQIBA5gKCbZmTOiEBAgQIECBAgAABAgQ6h8DUqVPDp6PGhLdHfBTe/eCjMGbsuM7R8By2MsbWZhs0MCw431xhgXnmCoMG9sthK1SZAAECBAgQKC0wJXT95qVkJbfHQtcvkz8T34bVYQW6hCk9lwpT+64epsyc/Jlx0Q5bUxUjQIAAAQIECBAgQIDAtBYQbJvWPeD6BAgQIECAAAECBAgQqBKBr776Jgm4fZyu5BYDb1Zzm7Yd23umXmGOwQPTldnmS7YYnbHH9NO2Qq5OgAABAgQItJtAl+9HhW5fPh7ChEeTwNvLVnNrN/niF5rafVCY2mvpMKXvWkmYbdUwtVufaVwjlydAgAABAgQIECBAgEA+BATb8tFPakmAAAECBAgQIECAAIHcCXz99bdh1Odjw8jPPg+jxsQ/Y8M333yXu3bkocJ9Z+4dBg/sHwYP6h8GDYhfBwqy5aHj1JEAAQIECLSTQNcfRocu370ewjevhi7fvpb+vesPY9rp6p3rMlOnnzNZkW2xEHotnqzGtliY2nMJQbbOdQtoLQECBAgQIECAAAECGQoItmWI6VQECBAgQIAAAQIECBAg0LTAd5O+D6M+GxNGfz4uDb2NHvNF+GL8hBC3NVWaF+jWrWsY0K9vGNQ/CbAlQbZZB86SBtq6d+/e/JsdQYAAAQIECBAoEOgyeUIScotBt7fSoFuX795MtjB9PzliCqdyBLp0D1NmWCBMjVuJ9lw0CbEtkoTYFg1Tu/Yq592OIUCAAAECBAgQIECAAIEyBATbykByCAECBAgQIECAAAECBAhUVuDTJOw2btyXYeyEL8O4JOg2bvyX4Yvk799//0NlL9xBz95zxhlC3z4zh359Zw79Z+mT/L136NenTxJm69dBa6xaBAgQIECAQLUIdP022bp04gchTPowCbolX7//IPn3h6HLlG+qpYktasfU6WYJU6efO0ydYZ4Qkj9TeswdQo/kawy0KQQIECBAgAABAgQIECBQUQHBtoryOjkBAgQIECBAgAABAgQItEXg2+8mhvFJwG3CV9+Er775NtnK9Nvw5dfJ35NtTuNWp19/+234cfLktlyi3d8bV1ebuVfPMNNMyZ/ka+9evcLM8e8z9Ur+3jMM6N83dJ9uunavlwsSIECAAAECBJoS6PLjuNDl+w+ToNvI5GuytekPnydfR4UQtzn9358w9ftcIaarq3WfNUyNf6YfGKZONyh06fG/f3cflKzGNn+Y2qVnrtqksgQIECBAgAABAgQIEKgmAcG2aupNbSFAgAABAgQIECBAgEAnFPjhhx/CdxO/DxOTbU6/mzQx/Tox+Xf69+/i95Ov/3t94qRJybGTku9NCpPauBrcjDP0CDP06BFqvnYPPZK/z5D8fcba780wffL3GZLXpk+/H7/GIJtCgAABAgQIEKhWgXRVtx+/DF0mfxlC3Oo0fk3+Hf8efojfT76m3/+q5mvyvfTrlK/bRDK1W98Qus2cBNP6hDBd7zC1W5/kz8zJ9+K/45/k78nXqd16J9+Lx/YOU5Iwm0KAAAECBAgQIECAAAECHVtAsK1j94/aESBAgAABAgQIECBAgAABAgQIECBAgAABAgQIECBAgAABAgQIECBAoNMJCLZ1ui7XYAIECBAgQIAAAQIECBAgQIAAAQIECBAgQIAAAQIECBAgQIAAAQIECHRsAcG2jt0/akeAAAECBAgQIECAAAECBAgQIECAAAECBAgQIECAAAECBAgQIECAAIFOJyDY1um6XIMJECBAgAABAgQIECBAgAABAgQIECBAgAABAgQIECBAgAABAgQIECDQsQUE2zp2/6gdAQIECBAgQIAAAQIECBAgQIAAAQIECBAgQIAAAQIECBAgQIAAAQIEOp2AYFun63INJkCAAAECBAgQIECAAAECBAgQIECAAAHbaU5tAAAgAElEQVQCBAgQIECAAAECBAgQIECAQMcWEGzr2P2jdgQIECBAgAABAgQIECBAgAABAgQIECBAgAABAgQIECBAgAABAgQIEOh0AoJtna7LNZgAAQIECBAgQIAAAQIECBAgQIAAAQIECBAgQIAAAQIECBAgQIAAAQIdW0CwrWP3j9oRIECAAAECBAgQIECAAAECBAgQIECAAAECBAgQIECAAAECBAgQIECg0wkItnW6LtdgAgQIECBAgAABAgQIECBAgAABAgQIECBAgAABAgQIECBAgAABAgQIdGwBwbaO3T9qR4AAAQIECBAgQIAAAQIECBAgQIAAAQIECBAgQIAAAQIECBAgQIAAgU4nINjW6bpcgwkQIECAAAECBAgQIECAAAECBAgQIECAAAECBAgQIECAAAECBAgQINCxBQTbOnb/qB0BAgQIECBAgAABAgQIECBAgAABAgQIECBAgAABAgQIECBAgAABAgQ6nYBgW6frcg0mQIAAAQIECBAgQIAAAQIECBAgQIAAAQIECBAgQIAAAQIECBAgQIBAxxYQbOvY/aN2BAgQIECAAAECBAgQIECAAAECBAgQIECAAAECBAgQIECAAAECBAgQ6HQCgm2drss1mAABAgQIECBAgAABAgQIECBAgAABAgQIECBAgAABAgQIECBAgAABAh1bQLCtY/eP2hEgQIAAAQIECBAgQIAAAQIECBAgQIAAAQIECBAgQIAAAQIECBAgQKDTCQi2dbou12ACBAgQIECAAAECBAgQIECAAAECBAgQIECAAAECBAgQIECAAAECBAh0bAHBto7dP2pHgAABAgQIECBAgAABAgQIECBAgAABAgQIECBAgAABAgQIECBAgACBTicg2NbpulyDCRAgQIAAAQIECBAgQIAAAQIECBAgQIAAAQIECBAgQIAAAQIECBAg0LEFBNs6dv+oHQECBAgQIECAAAECBAgQIECAAAECBAgQIECAAAECBAgQIECAAAECBDqdgGBbp+tyDSZAgAABAgQIECBAgAABAgQIECBAgAABAgQIECBAgAABAgQIECBAgEDHFhBs69j9o3YECBAgQIAAAQIEmhX44ccfw2133R++//6HMOvA/uE36/2q6HsKj5uxZ4+wzWYbhy5dujR7fgdkL/DXfzwWPvn0szDddN3C1pttFHr0mD77izgjAQKZC7z8yuvh+ZdeSc+77lqrhTlmH5z5NZyQAAECeRAw/sxDL1Wujp6HlbNty5n1S1v0vJcAAQIECBAgQIAAgY4qINjWUXtGvQgQIECAAAECBAiUKTDyszFhix12TY/uP8ss4f7brin6zsLj4gGP3HtL6NlzxjKv4rAsBbbeec/w8Scj01PecPmFYf55587y9M5FgECFBE4958Jw358fTs9+yH57hi033bBCV3JaAgQIdGwB48+O3T+Vrp3nYaWFW3d+/dI6N+8iQIAAAQIECBAgQKBjCwi2dez+UTsCBAgQIECAAAECzQp0xInF8eMnhDPPvzRMnjIlLDj/PGG3ods3247OdIBgW2fq7c7V1rvueyj86z8vpI3eY5cdqi602d4TxtXuWe5Px0vJSnk33X53evi6a64W1l5z1XLf6jgCBCokYPxZIdicnLa9n4dZsZxz4WVh9OdjwwzJaslHHrRf1a2a3N79YpxSc2cap2T1E+o8BAgQIECAAAECBIoLCLa5MwgQIECAAAECBAjkXKDcicUvv/wq7Pl/h4dJk34IvWacMVx58dmhe/fuFWn9W++8F3b+3YHpueedZ85w0xUXV+Q6eT2pYFtee069mxM4/LhTwmNP/Ss97KRjDwvrrFFdAaT2njCuds/m7qfa12+5455w7iVXpP/cYpMNwqH771XuWx1HgECFBIw/KwSbk9O29/MwK5Z1Nx0Svv7m2/R0D9x+bejXt29Wp+4Q52nvfjFOqel245QOcfurBAECBAgQIECAQBULCLZVcedqGgECBAgQIECAQOcQKHdisT01BNua1hZsa8+70bXaU6DaJzhNGLfn3fTTtUwYTxt3VyXQlIDxZ+e+P9r7eZiVtmBbVpI156n2cV+5WsYp5Uo5jgABAgQIECBAgEDrBATbWufmXQQIECBAgAABAgQ6jICJxQ7TFWVXRLCtbCoH5kyg2ic423siv9o9y729TRiXK+U4Au0nYPzZftYd8Urt/TzMykCwLSvJmvMYp9Q4GKdke185GwECBAgQIECAAIGGAoJt7gkCBAgQIECAAAECORcwsZi/DhRsy1+fqXF5AtU+wdneE/nV7lneXWXCuFwnxxFoTwHjz/bU7njXau/nYVYCgm1ZSdacxzilxkGwLdv7ytkIECBAgAABAgQINBQQbHNPECBAgAABAgQIEOgAAj9OnhyefvY/YcT7H4aRn40OPWecIcw+2+Cw3NJLhfnmmavJGrZkYvHNt98J3347MczUu1dYaP75mjzvF+PHh38//3L4ZOSo8NnoMaHfLH3DPHPNGeabO/kz79yhe/fujd4/derU8PKrb4R333s/nHn+JenrA/r3CycedUj69+7dpwtLLr5oxcU//mRkeO75l8Kno0aFr77+Jgyeddak7rOHX660Qph++sb1LqzQhAlfhveSfohloQXnDzP16hkmTfo+vPrGW+H5l/4bvv7qm7DA/POE1VZeIfTt26doW0Z//nl47Ml/hU9Hfha++fbb1GCZpZYIyy+zVOjatWtoabDtw48+Cc+9kLQn6Ytvv5sYZh88KL0vVl7h56Fbt65NembRnrZ0WLHrf/nlV+HRJ58JIz74KHz9zTdh1oH9w/zzzB1W++VKoft005V1uY8+/jTppw/Cx5+OSvu5a5euYeCA/qn1Cssvk34tVuI1x4+fkL605OKLFL2PC98Xfw4++ODj9FvRvLDPi7Xt++9/CG+89U545fU3w8hRn4VFF1kwLL3E4mHOOWZrVJ2xX3wRXnntzfTY+Bmw4HzzhkUXXjAsMN88ZRnUHtSW+yP+rIz5fGzoktyXSy+5WOjSpUv46quv0zr997U3ks+L78KC888bFl904TB/8nNfqowa/XkYmdyfFw6/OryW/KzEsvP2W4cVl182/ftcc85esk/i6y+89Eran58kPzPfJz9vc809e/JZM1dyzXmafF+LoMo4+LuJE8M/H386fPjxx2HsF+NDn5l7h4UWmD+stsoKYcYZZggtmciPn4fxXvgoMf7k05FhZPI5OlPPnsl92i8MGjggrLLSL8IMPXoUrVVbPNty3WKVyapvXnj51cTj7fRzMf68zjb7oLDkYoukf0qV+Pn51tvvhb/8/dFwzwN/SQ9bJfnc23HbLdK/x5/H5p6RZXS7Qwh0WoGOOP6Mz9Gnn/tP8rmZPN+TP9P3mD7Mm4w950meCfH5GMdlDcu0HH8WG1u/kjw/n/3Pi2HM2C9Cj+7Th9kGDwyrrPiL9FnYVMlizNaWPi2sWxbPw2JjjFLtf/3Nt8PEiZPCzMlzt5xxUBwHFo7147hv8UUWCiv+YrkwXbdujS7z7ogPwvgJE8LBR5+YjutjOfmYw9L/38QSx2vxOV+qZPUsbOuHTRb9UluHtowXjFNqFI1T2npHez8BAgQIECBAgACB8gQE28pzchQBAgQIECBAgACBigk88JdHwhXX3pgE2sYUvcYvk/DD/+29e5hj9sFFXy832BYDUWtvvE16jhhKe+zBO4qeb+KkSeGq628Jt911f4iTJ8XK4FkHhF122Db85tdr1wsixcm9XfY6qEmrW6+5NMw1R9MTe63FjgGdcy++PPzziafDlClTGp2mf79+Yej2W4ZtNtu45CUuvOyqcMOtd6Wv77Xr0LB0Ekg76Mjj00BZYende6ZwxIF7h1+tsWrdtydPnhLOv+SKcNf9D4Yffvyx0TWW/dkS4cyTj02M/i/Eyb5Ybrj8wpKBoThp9MeLLguPP/WvECefGpbZZxsU9hy2U1jvV6tXpD2t7YfC9zX0XCoJNh5y7ElpYKphiWGfwxLTVVb8eclLx4nPK667OTz5zHMlj4nhxY3XXy/stdtOoVcSJCoshx17cnj86WfTbw3dbqu0j5squ+9/aBo+i+XYww4Mv1nvV3WHF7tXDjvu5BCDew1L7PuzTj4u9Ow5YxocO/qk09MJ2WJls43WD/vtMSw9tqmSxf3x230ODtE0luHnnxHeePvdcM6FlxW934ZstWnY67dDi4ZDD01cn/ifa7E6/3rtNcLvjzy40UsvvfJ6uODSK5PgaI1xwxKDdmsnP2O7Dd0uCTXM2aRHW1+878G/psG8Yv0XJ8zPP+OkcNMd94T7/vxweqlD9tszbLnpho0uG39W//n4U+HK624J74x4v2S1+vXtG3YaskUYstVmjY5pjWcW1y2sSFZ9E8MA5yV9HJ8PxUoMVB6YPONiqLNhuen2u8P5yXtLlRhmvffmq9ra9d5PoFMKdLTxZ+yE+x/6W7j8mhvDZ2M+L9onMXi09eYbhR223jwNQNWWaTX+bDi2fuS+W8LvTz07/P2xJ4s+z9Zda7Vw5MH7lQw1t2UMGi/Y1j6trXRWz8Nhex+UBrxjGX7BmSWDzPG5++stdkiPi2OfR+69peTP5GdjxiRj48uTXyB5puhYJT6vTzvhyLDEovVD02tvsm3RsWfthY48aN+wyW/Wa3TdrJ6FWXzIZNUvWYwXjFNqetQ4JYs72zkIECBAgAABAgQINC8g2Na8kSMIECBAgAABAgQIVEzg6htuC3+66rpmzx8naS444+Qw7zyNgx1lB9uSIFGc1Iklror12EN3Fr3uqWdfEOLESTklrih30dmn1B36VhKK2TkJbTVVbr/2spIhvXKuWeqY6LD/YcfUBcaaOtd2SZBk/9/9tughMUQRJyli+dXqv0xW3HghWVXs26LHNgy2nHjaOeHBv/2zyWbEla8+SwJrcbWuWEoF2+JKJfsm7Rk1anSzLAfsvVsYssUmmben2QuXcUCh5y+WWyZZ0e+1upUyir093ptnnHRMWClZcaNhiau4rLPpkPDDDz+UceUQYkDs8CQoV1geTUKPR/z+D+m3YpDuzhsuT1fRK1ZiH2w1dI/0pTiZfv+t19QLmxW2bfllfpascvZGk22LAZ7DDtwnHHvSGeG9D2pWBSxVllpi0fCnc09PV1ArVbcs7o8YRK0NHMVA4VP/+neT9Vo9WVXv9BOOanRMYWCw2Ak2WGfNcNwR9UOv7ycr4e2670GNQqPF3h/76PwzTkxWPfxZWX3f0oNiWC2uxtZU6dunT7Lazmzhv8mqlLGUCrY9nwS59jm4sVGpc5949CFh3bXqh1Nb45nFdWvrmFXfxPvpyBP+EOLPblMlBhnOPuX4ZGXLxesddnPyWRxDcaVK/Bm++6bSr7f0PnA8gc4i0BHHn3H8FMdR5ZS4alv82a8Nr0+r8WcM6deOreMKuiv+fLlmn6M/X/Zn4dzTTiy64m5bxqBZ9Gm0z/J5WDjGuOy8M0Ic2xQr9YJtyarVj9x3a5vGPnE11N8fdXBYIxmz1JZ1NhmSrq5VqhyVBA433mDdei9n9Sws555u7pgs+yWL8YJxSk2PGac0d+d6nQABAgQIECBAgEA2AoJt2Tg6CwECBAgQIECAAIEWC8TVmvY/7Ni698091xxh9VVWTLZRXDbErSyfTgIBT/3rP3WrpsWtGq8bfn6jEE6WwbYY4jrg8OPTOsVVr/babeew1morh7iy0CeffpZsHflBeCKp18PJ5GPc6igGkOKWnIUlTi6+nWxFevKZ56Xfjivq1AZhpku2Im1uC9QWQ/7vDb878PAQV1WIJa5IF0M6KyfhqLjt03PPv5isevZsiNsQ1ZaTjj0srFOw2lrt9wsnFWu/t2GyMt1qyTam/frNEt5J2nbHvQ8k29/NHU465tC688VVifYuCLPEVe3W+OUqYYVfLJNurfhsUod/Pv5MGJdsbVlYSgXbdt33kLotHWN4Y8P11wkrJROmAxLPf6fnejo89exPIaS42laxbV5b257W9kPD9xW7fgz3rZqsRBi3Z/3ok0/DM/9+ITyRrEpXu8pdXNHv5qsuLho4u/jya8J1N98RYsDqN+usFeZM+nfQrAPT8GHcqvW2u+9PV8uqLddcem5YONlStrbE+3bTbYeFuMVoLBeceXKIk8zFSuEk8QbrrhWOO7x+aLNY21ZNfh7i6mSzDZ41CVmOSldPifdfsbJR0qfRoX9yX8UtUuMqiW+/N6Lu0BgEi4GwYiWr+6Nw0jleJ90qd9ONwi+WXzr0nmmmdHvQG267q15gNAbMYkixsIwdNy6MTgKb5yQrDNaucLfb0O2Tn8Pl08NmGzRro6179zjgsLqQWAzJ7jlsx3Tb0x+T1Q7fTbYDfitZ4euO+x4McbuxOBl+0dmnlr1VbUvu37hd8RY77ha+Tr7GEkNWa8TP4uTzo/8ss4T/vPhyeOyJZOvcDz+qd9qmVmyLbXvrnffC5httkIY055x9tjDLLH3CuHETks+QEeGqG29L2vduer4YmLvv1qvrbZ3WGs+4Aktbr1vbwCz6Zty48WHLnfaoe4YtlmwRt17ys7Fy8jkWfw6fee758NBf/1G3ql2fPjOHO68bXi88GlcNfT/52fjzw38Pt9/zQFq9+MwZtmNNSLvPzDMn23YPakl3O5ZApxfoiOPPuJLpptv9tu7zYotNNkieRRunP99fJNuHj0ieRS+98lqyIu5D6aqa22+9Wdhvz/q/oDAtxp+FwbbaGyuG7lZfdeWwQvKcjNtcxjFA3H49bhteW+J4Io4rGpbWjtmy6tOsn4dZB9sKxz49ki1q49h8pRWWT+6TwemY4ZFkpbza8Hn8v8ADyS8kxBWWY4njzQnJvbPvIUfX/RLCWckqyrVbkS4w37yNVqTN4lmYxQdO1v2SxXjBOKWmZ41TsrjDnYMAAQIECBAgQIBA8wKCbc0bOYIAAQIECBAgQIBARQQKg1gx1HbVxX8MPZNVCgpL4epS8fvFwlhZBtsuu+r6cNUNNask7LP7LmHHbbco2va4BeKHH32UhvCKlRjo2Pl3B6YvxVXmbrri4ooY1p604YTeUcl2Qhs32E4ohqb2PODwum0XSwUFG04q7rHLDnUhiqYaUbglz0wz9QrX/um8NMxTWOKk6277HVpvm9Jiwba4zeYhx5yUvjVOzF1+4Zlh4QV+CmfF78dJqYOOOiENh8QSg0YxcNSwtLY9WXVYw+vHgNIl55zWaKWSW5ItHs9NtnGtLaf9/siwRjIx3LDErXI/S1bna2pbyv0PO64uTFZsa6nCrb7idrrHHnpA0ebusOu+dSurXXjWyY1WC2vYthi2ifdLYYn9FFdBjNurFZbjjzworL/2mvW+F1e1OvCI48ILL7+afj8Gga686OxGdcvy/mgYbIvbbf5iuaXrXTNO3MfJ3dpgaAzvnZmEWouVw487JTyWhBRjKRUeja9NSsKea2+yTYjb98Zg1503DE9XxWtY4pbCz/z7+XSbyhiwrURpuI3UacmKdIWrvMRrxlVe4mdaXMWvtpQKtsXXa1dkjNsfFysxmDHkt/vUBV1LbdFcrmftNbK4blZ9c8Gfrgw33laz+mUMq159SfKMa7C97vgksDI0cY3bSMcSt1beZYetG5EVfj7EwMuh++9ViVvBOQl0CoGOOP4sHMetssLPw9mnHle0L+LzKP4SxmqrrFR0xbP2Hn8WC7bFusc2FJYYTNp5z/1DHLPHEn/J49rLan4BpLC0dsyWVZ9m/TzMMthWOPaJZsccdkDYcL216/nFsf5pyeqrTya/hHPqcUeE5ZZespHxusnKv7UrMT9w+7UlxxZZPQuz+FDJul9inbIYL8TzGKfU9LBxShZ3unMQIECAAAECBAgQKC0g2ObuIECAAAECBAgQIDANBD4d+Vmyks3u6ZWn69YtXHHhWWHhhRYoWpPTz7043J2sUBFLscm+LINtcYvGGKaL5dzTTki2VCoeXGuOrL0nFk88/Y/hwWTln1jWSrYPPfW4w4tWMa7WsPOeB9atCBLd4+phhaVwUnHmmXuHe2+6KsRVIZoqMXyz3mbb121x9PsjD05X7SpWrr/lznDR8KvrXioWbDvmpNPDI48+mR5zQLJl6pBk69RiJa46tl0SjokhmVjuv+2adIWptranuf5tyeuFnjG4ef3lFzYK/MXzxQBYXC2wdnWzrTfbKBy0b802oC0td977YDjz/EvStw3dbquw165D650ibi213a41W5TGoE3cYrRhqOqdEe+HnXbfPz1mtkEDwx3XX95oW9DCts0x++Bw05UXF11RLE4ebrbdrukqVbHEQOh5p59QtFkv/ve1sNf/HZG+FrdY+9u9Nzc6Lsv7o3DSudiqdLUXj6vgHXnCaek/55xjtnDbNX8qWv9yJzjjynRD96gJFC65+CJh+PlntrSbMzv+4KNPrNs6bpMkEBvDkMXKq2+8GXbb96dVGpsKtpVTubgl7d8efSI9tNTnbbme5Vyv9pjmrptV3/xmq6F1wb2rLzknLLLQgkWrWRhoiYHVm5Ofo4bFhHFLetixBEoLdNTx5y133RvOvejytOLFntvl9ml7jz8bBtu22nTDcPB+exatbuHzPR7w0B3Xh7hSZWFpzRg0yz7N+nmYZbCt8Nn1q2Ssf0qJsX70jL8oEFeeLlbKDbZl9Sws995t6ris+6XcOjU3XojnMU6p0TROKfeuchwBAgQIECBAgACB1gkItrXOzbsIECBAgAABAgQItEngwWQrzxNPOyc9x8+WXCz86dzTS54vrvK18141WyDG7XT+cucN9QI2WQbbzr7gT3XbvcUVz+LKZ60p7T2xuNXQPepWUiq2TWJhGw479uTw+NPPpt86cK9dw7ZbblqviYWTiuusuVq97UZLWbyXbJu4w241VjGo+Pf7b01XWitWPh/7Rdh4213qXioWbNt8+9+GuCpeLDHk0dTqZDEMFlcviaXY1rCtaU9r+rzUewqvH7dk/OMffl/y9Pf9+eFwarLSRiwxcBiDh60psX9jP8dSakW2PZOta1/+39a1Jxx1SFjvV6vXu1Ttlqfxm8VWYovfL2xbUyu/xWO32eV36ZaasTS1GmJcbWSNDbZMg36x3J9sUdlw1a8s74/CSediq5/UohTet3G70n/++faiIb5yJzgnTPgyrL/ljunpY6gwruYVV66cFmWDLXcK4ydMSC9dbGW+wjoV9mNbg23nXXpFuPn2e9LTl7Iv17Mlbs1dN4u+KQxaxLBtDN2WKvFeX3PDrdIgQiwP331Tsg1ur3qHmzBuSQ87lkBpgY46/vxHsoXkUSfWjIUXnG/eMDxZqXaGHj1a3JXtPf5sGGwbfsGZYcnFFilZ702HDAuj/7dCZbGV3VozZsuyT7N+HmYZbIu/EBSfLbHEXw4otWp0czdNucG2LJ6FzdWl3Nez7pdyr9vceCGexzilRtM4pdy7ynEECBAgQIAAAQIEWicg2NY6N+8iQIAAAQIECBAg0CaBq66/JVx29Q3pOTbbaP1w+IE1q0cVKzHosvr6P20J+vBdN6YBt9qSZbDtr/94LBx3yk9horjCzuqrrBDmn3fuMGjWgWFQsnJVOdsBtvfE4i/X2yzEVdNiKRYEKnS99MrrwjU33pZ+a9vNNwkH7rNbPfbCScXtkpXS9k9WTGuuPP/Sf8M+Bx+dHhbDObdcVbNaWKmyziZD6lZ3axhsiyGP2J7aYNP1wy8IvXrVD3kUnve8Sy4PcTWtWA7Ye7cwZItN2tye5trbktcLPbdN6nZgUsdSJQbNYuAsltkGDwp3Xj+82UvFrSzHTxifbO9a0/+x/Ou5/4TT/nhR+vffrPercOxhNdviFpa4NegpZ52ffqth4C7ab5FMoI4aNTp9Pa5OFlcpa1gK29bclrX7H3ZsshrdS+kp4oqCcWXBUiUGH2OQLJZbr740zDXn7HWHZn1/FE46X/LH08IySy1etFrxuvFzqHbVuWLho/jGlkxwbjtsr2RL40/S68Vw2zprrRYWT7Zfje3tP0u/MMccg4uG50rCteKF2K5V1v0p3Nrc50dhMLYlwbYY2hqX3KdTp3apq+UV195Yt0XtMcl2uBsm2+I2LC3xLNb81l63rX3zwkuvhL0PPiqt0nxzzxXOSVYAbarssf+hdduRXvOncxttvWzCuBU3t7cQKCLQUcefcSy77c571m3VPnBA/zRwvuAC8yWrpg4Ksw7ol44LmivtPf5sGGwr9WysrXfhVulxbBLHKIWlNWPQrPq0Es/DLINtq/56s3T78ljuu+XqMKB/8a2+m7tHyg22xfO09VnYXF3Keb0S/ZLleME4pUbTOKWcu9kxBAgQIECAAAECBFovINjWejvvJECAAAECBAgQINBqgQv+dGW48ba70/fvsM3mYd89hjV5rjV+s2XdajZ33nBFujVibcky2FazHeRxdQGcYpUaPHjWsOySi4ff7rRd0bBPfE97Tix++93EsPbG29RVNa6W1nBbycJ2XHfzHSGuxhVLDJLEQElhKZxU3HPYTmGXHbZutp8LVwhbLAnmXHnR2U2+pzC41DDY1rA9zV684IDdhm4fdh06pM3tack1mzu20HPYDtuEPYbVrNJVrLw74oOw4+77pS/F7bniNl3FyiuvvRFuTFa6ej3ZGnJMEgCrnegsdmypYFt03njbnUOclI4rkN17y1V127gWBuyWTlZUvLTEioqFbfvdb3cKO29f+l456KgTwtPP/iet4mknHBXW+OVKJR222GHXEH+uY2kYbMv6/ih30jnWJa6qNWnS92m9sgi2xfDTPoccXRfibAgStwBeNNmied1frRE2TwLAsZ+yLt98+22IQdPa0tznx/GnnhUe/vtj6eFNBdviPfmPJ54Kd97zQPjgw09C3Da4qZJVsC2r67a1b5585rlwyDEntaq7Lj771LDs0kvWe68J41ZRehOBRgIddfwZK1oY0CrWddDrGaQAACAASURBVHF7+Lga2pBkpd1fLLd00d5tz/FnrEDDYNsTf7k7dOtW+lkVt/Su/WWEuGVp3Lq0sLRmDJpVn1bieVjuGOPLL78Kv95ih5Qiblv/yH231nP5buLE8KuNfhrrx9fjca0pLQm2tfVZ2Jr6NXxPJfolXiOr8UJLg21ZXbetfWOcksXd6RwECBAgQIAAAQIE2k9AsK39rF2JAAECBAgQIECAQJ1A4ZafMTgVA1RNlcJJmIZbU2YZbIt1iJNHV153c7pFXu3qTMXqNv303cNxh/1fWHvNVRu93J4Ti4VbBcWKPP6Xu9LtQEuVwoBEsa1GWxJWqr3G3x99Ihx90hnpP5vbWjYes8WOu4eRo2q2U2oYbGvYnpb82BQLjrWmPS25ZnPHtmRVs7hVZ9zqMZaePWcMj9x7S6PT/yHZqvTeZMvSckupYFt8f9z2NG5/GssBycp8Q5IV+mIp/PmM2/HGbXmLlZbYZhVsy/r+KHfSObY/62BbPOdLySp9Z553cYihxqbKUkssGi444+QQw25ZlvHjJ4QNtvrp87e5z4+TzzwvPPCXR9IqlAq2xaDDXgcdmQZ8yy1ZBNuyvG5b+6ZwW8FyDWqPO/+MkxqFVgTbWqroeALFBTry+DP+ckX8fL1w+NUhPuuaKkO22jR5bu/a6JD2HH/GixcG22L4+smHa35ppVQpDEfHFYHjysCFpSXjitr3ZdWnlXgeljvGaC7Y1tKxflN90JJgW1ufhVl8DlWiX7IcL7Qk2JblddvaN8YpWdydzkGAAAECBAgQIECg/QQE29rP2pUIECBAgAABAgQI1AnEFcPiymGxlJqcK+Ra7deb14XM7r35qhC3aKotWQfbas8bJx9efeOt8Pqbb4fRoz8PI0ePDu++9374bMznddeeaaZe4eYrLwr9+9XfDqg9JxbjVntxRbva8rd7bw69evYsebddfcNt4U9XXZe+vkkSWDoyCS4VltZMKj717L/DwUedmJ5m4WSFqWsu+WOTd/uGWw2tW8GpYbCt4dazpxx7WBLm6VHWT89iiy7UaKvY1rSnrIuVeVDh9Ydut1XYa9ehJd/51rvvhZ33rNk2tP8ss4T7b6tZWa+23J6sfhUncGOJK6KsssLPw/LL/Sw9tnCVvpdffT1ce9Pt6XFNBdviym+7739YTb8tOH+45tJz0xUs4op645IVtmZI3O+79ZowU6/i91NLbLMKtmV9f5Q76RyNKhFsq+3bGGp86ZXXwgcffRzGJqvwjfjw4/De+x/UrVQZj9tpyJZh7912LvPOK++wiZMmhbU2/GmlveY+P45NAqx/S4KssZQKth114ukhTpjGEj+LYvh3kQUXCP1m6RO6d+9eV7G77n8oxBVDYski2JbldQv1WtM3z/7nhWT1z+PT08RtfA/cq/QWxIXX6tKlS1jh58s2CicLtpV3PzuKQHMCeRh/xl+qeDsJBr/82uvJLwGMDmPGjA3vffBBuvpl7TbtsZ1//MPv063EC0t7jj/jdRuu2PbYg3fU+5xv2B+HH39qeOzJZ9JvH3bA3mHzjdevd0hLxhW1b8yqTyvxPCx3jNFcsO2HH34Iq2/w01j/r/fcXHJs1tzPQEuDbbXna82zsLm6lPN6Jfoly/FCS4JtWV7XOKWcu8cxBAgQIECAAAECBKpHQLCtevpSSwgQIECAAAECBHIkEEM3l1xxbVrjpoI38fWGW9DEVaziala1pVLBtlKcceuXI088rW41jaMP2T9stP469Q5v74nFONkVJ71iufP64WG2wYNK3g3nXXpFuhpdLHGljLhiRmFpzaTiCy+/GvZOVmiKJW7Vetf1l5e8fpyUXWujreu2dGwYbItvjEGbOJEVS9yOM27L2drSmva09lrF3ld4/S022SAcuv9eJU//nxdfDvseckz6egzD3HZNTYittuyw677J5PaH6T9PO/7IsMZqKxc911P/SoKGR9cEDZv7+dr+t/skIaqP0mNvuPyCMObzL8KBR9QEcn699hrh90ceXLK+LbHNKtgWK5Pl/VHupHO8biWDbcWQv/r6m3DhZVfVrdA3eNYB4a4br8zy9kzPtcq6m9aFJe684fJkq+dZS14j3hv/+vcL6evFgm2FK6vEbfMuv+DMMNccsxc9X2zbDbfelb7W1mBb1tdtDrm5vnktCUXvuu8h6Wnmn3ee9GerLUWwrS163kvgJ4E8jz8//mRkOOG0s8Mrr7+VNmiDddcKxx3+f/W6t73Hnw2DbQ/cfm2jXzAorGAcK8YxYyzHH3lQWH/tNevVvyXjito3ZtmnWT4PY/0Kxxjnn3FishrnMkV/HEd//nnYdEjNeLzYVqTx+/GXWOIvs8Ryx3XDw+yzlR7rN/Uz39pgW7FzNvcszOqzJ8t+yXq8UG6wLevrNmfbXN8YpzQn6HUCBAgQIECAAAECHUtAsK1j9YfaECBAgAABAgQIdBKBx576V4gTAbEsMN884frhpSf9n0+CZPscfFR6bLFgR3sH22I9rrj25nD5tTemddpx2y3CPrvvUq/n2nticeffHVi37d8fjj8irLnaKiXvpL0TyxjOi6VYKK81k4ojPxsdttjhpxWJHr7rxtC790xF6/D+Bx+H7Xbdu+61YsG2YXsfFN546530mNNOOCqs8cuVWv2T0Zr2tPpiRd5YeP0lF18kDD//zJKnLwyvLL/Mz8KFZ51cd2wM+q298bZhypQpzYYHC7cXai7YdtPtd4dYx9p7+Ytx48OfH/57+u/zTj8hrLD8siXr2xLbLINtWd4fHTnYFuHjCnVrb7RN+jWWv99/a73V+bK4VzffcbcwKlkVqJyft8LVFosF22LorTYY+Ztfrx2OPfSAklUs3D6urcG2rK9bjmtTffP1N9+G9TbbLg0Mxq2h77vl6tC3b59yTlv0GMG2VtN5I4F6Ankff8bxWxzHxbL4oguHKy48q1772nv82TDYdu5pJ4QVk1Uni5X4ebje5tuHr5PQdiwXn/OHsOzPlqh3aEvGFbVvzLJPs3wexvrFXzKIv2wQS1whOa6UXKwU/mJDqWDb0D0OCG+/NyJ9+6nHHR7WWv2XrfrpzjLYFitgnHJKiPdgLCclq0yvs8aqRfvFOKVVt6s3ESBAgAABAgQIECDwPwHBNrcCAQIECBAgQIAAgWkgEH9rfcNtdk5DOulEwDGHhnXWXK1RTeLr+x5ydN3qDsVWkPpszJiw2Xa7pu+NWyY+fPdNIW7n1rAUTr51n2668NhDdzY65ruJE8OI9z9MJwubKoXBtgOSFc+GJCufFZbC8NZsgwaGO2+4oqLKf7xweLj17vvSayw0/3zh8mSic/rpf9ryr/bihdvjxe/des2ljVZTas2kYjzXRtvsEsZ+8UV6qWJhv9o6/P4PZ4e/PPJonUexYNu5l1webrnj3vSYGGa85tLzQlz9qVj59ruJ4flkpbNVV16h6OutbU9WHVZ4/XjOUit2xJUJh+55QPh05GfppXfZYeuw57Cd6qoRbaNxLPPOM2e46YqLS1YxroZYzlak8QTjkiDbJkOGpVv9DujfL3yXeMa6DBo4ILlvLw9du3YteZ2W2GYZbMvy/sg62Fa4VWepsFYtaJygHjxwYMkQaDwursS49iZD0q9Nfb615X497pSzwl//8Vh6iqWWWDRccs5p6Va3Dcu9f344/OGcC+u+XSzYFs8TzxdLcysU7r7/oeGV195Mjy1lVa5n1tfNom8KA8fx8+nMk2pWYyxWRo76LPn8HBeWXHzRoq/fee+D4czzL0lfay6s2pZ7wXsJVLtARx1/RveXXnk9LLnYIkU/f2v7pTDYtlryuXJGg8+V9h5/Ngy2Lbv0kuHCM08uOna4I9lO/az/baceA79/vffmdMvzwtKScUXt+7Ls0yyfh7F+heOVpp4DZ5x3cbjrvofSJpUKtp1+7sXh7mQL71gWWmD+JNR4ZtFtX2Ow+qOPPwmLLbJQ0R/nwoB6c6s8Z/EszOIzJct+yXq8YJxS08PGKVnc6c5BgAABAgQIECBAoLSAYJu7gwABAgQIECBAgMA0EjjhD+eEhx75Z3r1GNi48uJz6oWs4soOV1x3U7o6Wm0ZnmxrFyf9CksMfMStOGvL1ZecExZZaMFGrWou2BZXHDjs2JPDM889H1ZPVgg7cK9di27pGYNAv93vkLoVji4++9QQJ/IKS+G1YjDo5isvDnPNWXw7viz4P/zok2QVtH3qgoJbbbph+L99dq83sTjm87Fh2F4HhbHjxqWXXHmF5cM5p9ZsOVlYWjOpGN8fAy8x+BJLDBbG1b4abrkUVwI76Yxz612vWLDto08+DUOG7V3XntgfJxx1cKMJ0Pfe/yAcfdLpIU7kbr7x+snWiL9rNJna2vZk0S/xHA2Dbf379QvXXnZuva26YoDz5MTlwb/V/DzEMvz8MxqFXH6z1dAwbvz41Hf4BWeEJRat/7MQ3/fOiPfDnvsfFmLgL5ZyQjBHnnBa+OfjT9Vr8tDttgp77Tq0SYaW2GYZbMvy/sg62FZoUmybuFrQ555/MRx81ImhV69eYe9ddwobbbBu0UBu3KozbtkZy3JLLxUuOrtmpcssSwyaxsBpbRm247Zhj112qHeJER98FHbd5+AQw7+1pViwLR63ffJZFEsMR177p+Kh1Psf+ls45azz685VKthWrmeW182qbxq2Ma7suf3WmzX6jHr08afDyWedl9oedfD+6c9sw/LE08+GQ5PnUyxxa9e4ymmx8HKW94VzEahWgY42/ozOV153cxh+zY1hwfnmDQftt2ejlcziMXGscMTxp4bHk8+DWHYbun3YdeiQet3U3uPPhsG2WJn4/IjPkcISxya7JdszT5r0ffrtuKpbXN2tYWnJuKLwvVn1aZbPw1i/B//6j3Di6X+sq2rc3j3+kk5hieOvo086o27MWyrYFg132n3/urcO2WrTcMDvan6xp7bEsf5BR54Q3k3Gx3sO2zHsvP3WjYwLxz3FVm6ufUNWz8JGFWjFN7LslyzHC7Epxik1HWqc0oob21sIECBAgAABAgQItEBAsK0FWA4lQIAAAQIECBAgkKXARx9/Gnbac/+6Sa4Y1ll8kYXDCj9fJsSJmaeffb5uBbB43RhuOj3ZlrJY2Xz734ZRoz9PX5pxhhmSQNXSYc1ki54N1lmz7vDmgm133PvncNb5l9YdH0MDSyQhuoWTVREWWnC+MGXylPD+hx+F+//ySPjyy6/S42Kw6JJz/xDiCnANS+F2RnH1o7gK3LzzzB0OTCahevacMUvK9Fynnn1BuO/Bv9adt2+fPmGlZOJwjjlmC/954aXw39feCJOTNsQS6xO3xCy2mkNrJxUbho3ideIE7UorLBe+n/RDeOY/z4cYwGtYigXbirUn9sfSSy6RhgjHfP55eO2Nd8K7yYpXcaWxWGafbVC6slsMSRaW1rYnqw5qGGyL5433y8+WXDwJKi0ZPkxW1Xgm2b5xwoQv6y5ZKsB0/KlnhYf/XrOy1kwz9QpbbvKbsFSywlPvmWYKoxOTF15+JbkH/pau7lVbygm2PfXsv9OQVWG55apLwtxzzdEkQ0tsswy2ZXl/ZB1se+DhR5KQ4nl1bjHIuPSSiyVbhq1Sb1XK2pBi7YGzDR6UfJ4snIRyFwiDk1UeP08+A59Mti/79wsv153r9BOPDquvsmJWt2bdeeLnwrbDfhc++XRU3fdmHdA/rJiEXwf0myXEye3X3ni7btK99qBiwbYYvIjbEn82pubzeM7k82erzTYM888zT/K50y2M/Oyz8PdHn6zbmq32XKWCbeV6ZnndrPomfjbtsNu+9T734sqTv1j2Z2HhBRcIMZj72ptvJyvrfFrnHreWi1vMNSxxJcethu6Rbm0aSww+LLPUkmGxRRdKwi3bZX5POCGBahboaOPP95KVguNnRWFZOHkWxOfBIgvMlzzvZwqfJqs6PvS3f9R9nsTt3q+59Nww26BZG3VVe44/iwXbYoXiasW/SLYy7588Q579d/IMefOtus+v+HqxXwqJ32/JuKKw4Vn1aZbPw1i/+BzYcff9wgcfflxX3Rjqi/8niL/48koyNo9bVBaWUsG2eEzhODD+O44xVvzFsmHO2WcLb7z1Tnjxv6/W/R8l/j8grszcOxkvFpaTzjwv/Dn5v0xtiasAL7rggmG7bTZL/89TW7J6FmbxWZJlv2Q5XohtM06p6WHjlCzudOcgQIAAAQIECBAgUFpAsM3dQYAAAQIECBAgQGAaCvwn2ULy0GNOrrcKULHqLL/Mz9LtluJkT7Fy0+13p5NhhWWN1VYOpx1/ZN23mgu2xYmOu+57MFx65XUhbuPTXOnTZ+ZwVbLKXLFJxfje+5LVy04t2Lav9ny3Xp1s/1mB1dtimOmYk88Mjz35TJNVj6Gqk449LKyRBAWLldZOKsZzFW4zVaoS226+SXjiX8/WhWhKBdvS9iQrWDz21L+a64p0G9LjDjuw6JaObWlPsxcu44DC62+58W/Ccy++VDTgV3uqGCi6MFmVK67K1LDE8Nsuex1YF+Isdvnu3buHLTbeINxyZ81WruUE2+KE4RY77JqE48am71ly8UXS4GNzpSW2WQfbsro/sg62xZUfhwzbq25L2VrD9X61erLq4CF1pB9/MjLZWvLSELcHLqfssM3mYd89hpVzaKuOiZPrBx7x+3Qb2lIlBvTidrWPJMG0WIoF2+L3//vqG2Gvg46oC9IWO1+8z2NItXZb4lLBtnI9s7xuln0Tt8re75BjQwz+NlfiCkcxpFZq+9/CFYlqzxX7475brm7u1F4nQKCBQEcaf8aqPff8S+l2w4VB11KdFn854ZTjjig5jmvP8WfDsfWev92pbpXRUvXfaciWYe/ddi76ckvGFQ1PkFWfZvk8rO3bQ489qe4XeRrWO37mxxVyLxpe81neVLBt4qRJ4cjf/yFdXbqpEseQcVXmGC5vWGLIbvskSBn/31NYjvi/fcKmG/667ltZPguz+ADKsl+MU37qEeOULO5O5yBAgAABAgQIECBQeQHBtsobuwIBAgQIECBAgACBJgXiShXX3nRb+Ns/H28UhIjhh+2SrXY2TwJBPXpMX/I8cUWE6266PVx/650hTrLFsvYavwwnH/vTyjdx+6PfbLVjukXjLH37hj/ffm3R84394otw5fW3hEcff6Zu287CA2fo0SNsvflGYadttywapKo9Nq6sE7eii1tLxRXoassd1w1PVxerRIkO9z7wcLjx9rvqrb4UrxVXxFt91ZXCsGRbomJbtdbW56obbg2XXXV9+s9D9v9duipYS8rfH30iXH7NTWFEsrpdQ7cdtt0iDW4M2/ugdGWJODl727XD05U9ipUYaonbm958xz0hTrA1LHHCbsskxLXtlpsW3cYxHt/W9rSk7cWObThJu9EG64RjkwDiCy+9Uu/wOLG5VhLG3Hu3XZq8P0Z+NjoMT/rnoWT7yNrVm+KJ4vvnT1YEPDjpsz7JqlBx9Zf4+rZbbBIO3Hu3ZpsRQ5hxMjyWww7YO93atbnSEtvCVUYuSrbvjavVlSpD9zwwvP3ue2G6ZIWvO24YHmYdMKBi98f+hx2bBgriz8f1w88P8887T8l6bbztLuHzsV+kq0I+kHx+xK/FysjPxoRzLx4enk5WXIv3cCyltiX9W/Lzcsfd94eXkzBYw0nm+L64qsvvkqBAXIWy0uWtt98NF11+baOwXbRZY9WVw7FJePSKa28MN952d1qVGNSLgb1i5aVXXg+XXH51iF8LS/z8XGqJxZJzHZBsW/VcOOO8i9OXT0tW4ywVtm2JZ5bXzapvxo+fEG5KPsPuTILTX3/9TSOuGCSNobZVVvh5k10cn11XJttz33X/Q3XPucGzDgh33Vg/1F3p+8T5CVSLQEcbf37//Q8h/qLGQ4/8I91ivVhZZ41Vwx7JFpNN/YJEe44/i/3SyF33PRQuvuKaRp93cay305CtmxxftGRcUcwniz6N583yeRjPF7e/jFuSxrFvYYmrte63xy7J1qzLhQ23HhpicC3+3+eem2u2IC9WYrD/juR5cmvyXInPx8ISx02rJb+4cvgBe4X4Czilyov/fS38MRmnvP3Oe3VjyVLbkmb1LMzicyPLfslyvGCcUtO7xilZ3OXOQYAAAQIECBAgQKC4gGCbO4MAAQIECBAgQIBABxGI23vGbRk/HTU6Xa1g9tkGp1shxkmalpQYTBuXrGw1a//+IW771toSJwZHfPBh+CzZ4nR8cr5Z+vYJc8w+ONkmcNaiW482dZ24ClI8T9cuXZPtSOdsbZXKfl9cgevjZIWgT0aOCl9+/XUSHBsU5k5CYLPM0rfsc7TlwGgXJxfj9b9JgoYDk1WFFl9koVZvwRoDP3EVkxjqGpeERPomk3WxTe1h2RaH+N5Sq4/EoF7c2varJOgy68D+YZ655kxXwyq3fDF+fLLy26fJfTUmzJ5MjMbtcmNoqDUl9tcWO+0eRiU/e3HL1/tvuabJ0GZrrlHJ93TU+yPW67MxY5MVIL8Og5JwXlOfR3E1vveTrXrHjh0bJifvi+HXOWebrcmJ6UqZxp+zuG3w2C/Ghb59Zw4Lzj9vyXBhc3WIW1N9/OmnYULy+R5Dg/POPVcaaG1NaYlnltfNqm9iYCE+40YmJt8lfx+QbCE3T/KMG5iEGFpaxo0bH8YmnwFxi7lBA4sHg1t6TscT6KwCHW38Gfshfg5/moyhPh87Lnm2T59uKz/74MElVy4u1XeVHn+WWg05hvReff3NdCXYHsm4Io5T5k+eJS0d07f2nsyqT7N8Hsa2xLHbO++OCN8lQeUYao5biba2xF9mic/qeJ98law0HcfaCydb17bk/z4xJDcqCcdN/H5S+nyOqzqXKlk9C1vb3sL3ZdkvWY4XjFN+6iXjlCzudOcgQIAAAQIECBAg8JOAYJu7gQABAgQIECBAgAABAgQqJtCWbbUqVqkGJ37q2X+Hg486Mf3u+muvGY4/8qD2urTrECBAgAABAjkVKBVsy2lzVJsAAQIECBAgQIAAAQIECHRIAcG2DtktKkWAAAECBAgQIECgugW++urr8Eay7V9byvTTTx+WXnKxtpzCe4sIvPn2O+HLrxpvF9gSrHnnnrNuFaaOHmyLq6rsccDhIbY7lqsvOafJrWpb4uDYygnE7VPbWpZaYtFWr/LX1mt7PwECBAhMG4Esnx+CbdOmD/Nw1Szvszy0Vx0JECBAgAABAgQIECBQSQHBtkrqOjcBAgQIECBAgAABAkUFnn/pv2Gfg49uk86ggQPC3Tdd2aZzeHNjgb0PPiq88NIrbaI56uD9wsYbrJueo6MG2557/sXw8itvhEf++XgYkWyJGsuySy8ZLj771Da13ZvbR2DldTZp84Vuv/aydHtlhQABAgQ6j0CWzw/Bts5z37S0pVneZy29tuMJECBAgAABAgQIECBQbQKCbdXWo9pDgAABAgQIECBAIAcCb73zXjj3ksvbVNNZ+vQJpxx3eJvO4c2NBc696PLw1nvvtYlmx222CKus+PP0HB0x2DZ58pSw6q83q9fGnjPOEK686JwwT7LanNLxBWIAs63lhCMPrltZsK3n8n4CBAgQyIdAls8PwbZ89Pm0qGWW99m0qL9rEiBAgAABAgQIECBAoCMJCLZ1pN5QFwIECBAgQIAAAQIECFSZQB6Cbf369g1HH7p/XRivyrpAcwgQIECAAIEKCAi2VQDVKQkQIECAAAECBAgQIECAQAMBwTa3BAECBAgQIECAAAECBAhUTODNt98JTz/7Qnr+NVZdKcw3z1wVu1ZLTnz7PQ+EH3/4Icw2aFBYfrmlw0y9erbk7Y4lQIAAAQIEOrnA1KlTw6133xe++3ZS6DNz77D5xut3chHNJ0CAAAECBAgQIECAAAEC2QsItmVv6owECBAgQIAAAQIECBAgQIAAAQIECBAgQIAAAQIECBAgQIAAAQIECBAg0AYBwbY24HkrAQIECBAgQIAAAQIECBAgQIAAAQIECBAgQIAAAQIECBAgQIAAAQIECGQvINiWvakzEiBAgAABAgQIECBAgAABAgQIECBAgAABAgQIECBAgAABAgQIECBAgEAbBATb2oDnrQQIECBAgAABAgQIECBAgAABAgQIECBAgAABAgQIECBAgAABAgQIECCQvYBgW/amzkiAAAECBAgQIECAAAECBAgQIECAAAECBAgQIECAAAECBAgQIECAAAECbRAQbGsDnrcSIECAAAECBAgQIECAAAECBAgQIECAAAECBAgQIECAAAECBAgQIECAQPYCgm3ZmzojAQIECBAgQIAAAQIECBAgQIAAAQIECBAgQIAAAQIECBAgQIAAAQIECLRBQLCtDXjeSoAAAQIECBAgQIAAAQIECBAgQIAAAQIECBAgQIAAAQIECBAgQIAAAQLZCwi2ZW/qjAQIECBAgAABAgQIECBAgAABAgQIECBAgAABAgQIECBAgAABAgQIECDQBgHBtjbgeSsBAgQIECBAgAABAgQIECBAgAABAgQIECBAgAABAgQIECBAgAABAgQIZC8g2Ja9qTMSIECAAAECBAgQIECAAAECBAgQIECAAAECBAgQIECAAAECBAgQIECAQBsEBNvagOetBAgQIECAAAECBAgQIECAAAECBAgQIECAAAECBAgQIECAAAECBAgQIJC9gGBb9qbOSIAAAQIECBAgQIAAAQIECBAgQIAAAQIECBAgQIAAAQIECBAgQIAAAQJtEBBsawOetxIgQIAAAQIECBAgQIAAAQIECBAgQIAAAQIECBAgQIAAAQIECBAgQIBA9gKCbdmbOiMBAgQIECBAgAABAgQIECBAgAABAgQIECBAgAABAgQIECBAgAABAgQItEFAsK0NeN5KgAABAgQIECBAgAABAgQIECBAgAABAgQIECBAgAABAgQIECBAgAABAtkLCLZlb+qMBAgQIECAAAECBAgQddgGOwAAIABJREFUIECAAAECBAgQIECAAAECBAgQIECAAAECBAgQINAGAcG2NuB5KwECBAgQIECAAAECBAgQIECAAAECBAgQIECAAAECBAgQIECAAAECBAhkLyDYlr2pMxIgQIAAAQIECBAgQIAAAQIECBAgQIAAAQIECBAgQIAAAQIECBAgQIBAGwQE29qA560ECBAgQIAAAQIECBAgUH0CIz78JPzl0adDr54zhtVXWi7MM8ds1ddILSJAgAABAgQI5EDAuCwHnaSKBAgQIECAAAECBAgQqKCAYFsFcZ2aAAECBAgQIECAAAECBPIlMPrzL8I1t90XJk+ekla8W7euYeetNw6zDuiXr4aoLQECBAgQIEAg5wLGZTnvQNUnQIAAAQIECBAgQIBABgKCbRkgOgUBAgQIECBAgAABAgQI5F9g4qRJ4aqb7wkTvvqmXmP69O4Vhg3ZNMzQo0f+G6kFBAgQIECAAIEcCBiX5aCTVJEAAQIECBAgQIAAAQLtICDY1g7ILkGAAAECBAgQIECAAAECHVtgalK9W+/5Sxjx0adFKzrfXLOHbTb9dejSsZuhdgQIECBAgACB3AsYl+W+CzWAAAECBAgQIECAAAECmQkItmVG6UQECBAgQIAAAQIECBAgkFeBJ559MTzx7AtNVn+1FZYNv1xhmbw2Ub0JECBAgAABArkQMC7LRTepJAECBAgQIECAAAECBNpFQLCtXZhdhAABAgQIECBAgAABAgQ6qsCIDz8Jt9z7cP3qxaVCYmmwRNv2m28Q5p5jcEdtinoRIECAAAECBHItYFyW6+5TeQIECBAgQIAAAQIECGQuINiWOakTEiBAgAABAgQIECBAgEBeBCZ89XW48uZ7wqRJ3/9U5akx1ZYk2rpMDTV/+yndNuMMPcJvh2waes/UKy9NVE8CBAgQIECAQC4EjMty0U0qSYAAAQIECBAgQIAAgXYVEGxrV24XI0CAAAECBAgQIECAAIGOIvDj5Mnh2lvvD6PHflFXpf9F2n6qYhJym9qlMNoWwuCBA8JOW28YunXt2lGaoh4ECBAgQIAAgVwLGJfluvtUngABAgQIECBAgAABAhUTEGyrGK0TEyBAgAABAgQIECBAgEBHFrjvr4+FV998t14VGwXbSjRgmSUWCeuvtUpHbp66ESBAgAABAgRyI2BclpuuUlECBAgQIECAAAECBAi0q4BgW7tyuxgBAgQIECBAgAABAgQIdASBl157Kzz49yfrV6XI6mzxgDTsFrcnTVZuKywbrbt6WHKRBTpCc9SBAAECBAgQIJBbAeOy3HadihMgQIAAAQIECBAgQKDiAoJtFSd2AQIECBAgQIAAAQIECBDoSAKjP/8iXHPbfWHy5CkF1Uq2HE3+VX/T0Z9ejq/WxNp+Crd169Y17Lz1xmHWAf06UvPUhQABAgQIECCQGwHjstx0lYoSIECAAAECBAgQIEBgmggItk0TdhclQIAAAQIECBAgQIAAgWkhMHHSpHDVzfeECV99U3f5NLQ2NQms1V+QrXH1kuTb1C4x4PbTgX169wrDhmwaZujRY1o0xzUJECBAgAABArkVMC7LbdepOAECBAgQIECAAAECBNpNQLCt3ahdiAABAgQIECBAgAABAgSmpUBcke3We/4SRnz0ab1q1KzUVl4pdux8c80ettn012Wfo7wrOYoAAQIECBAgUL0CxmXV27daRoAAAQIECBAgQIAAgSwFBNuy1HQuAgQIECBAgAABAgQIEOiwAo8/+0J48tkX69WvZovRcmNtNW8t9p7VVlwu/PIXS3fYtqsYAQIECBAgQKAjCRiXdaTeUBcCBAgQIECAAAECBAh0XAHBto7bN2pGgAABAgQIECBAgAABAhkJjPjwk3DLvQ83OltLVmurfXOp92y/+QZh7jkGZ1RjpyFAgAABAgQIVKeAcVl19qtWESBAgAABAgQIECBAoBICgm2VUHVOAgQIECBAgAABAgQIEOhQAudfcXP49rvvKlqnAf36ht2237yi13ByAgQIECBAgEDeBYzL8t6D6k+AAAECBAgQIECAAIH2ExBsaz9rVyJAgAABAgQIECBAgACBaSAwecqU8MfLrg8//ji5olfv2qVLOGD3HUKP6btX9DpOToAAAQIECBDIq4BxWV57Tr0JECBAgAABAgQIECAwbQQE26aNu6sSIECAAAECBAgQIECAQDsKPPzoM+H5/75esSvGUNuaq/w8rLDskhW7hhMTIECAAAECBKpBwLisGnpRGwgQIECAAAECBAgQINA+AoJt7ePsKgQIECBAgAABAgQIECAwjQW+/OqbMP7Lr0rW4sa7HmyyhttvvkHJ12fp2zv07tVrGrfQ5QkQIECAAAEC+RAwLstHP6klAQIECBAgQIAAAQIEprWAYNu07gHXJ0CAAAECBAgQIECAAIEOIXDahVc1WY8j9h3WIeqpEgQIECBAgACBahcwLqv2HtY+AgQIECBAgAABAgQIlCcg2Faek6MIECBAgAABAgQIECBAoMoFTKBWeQdrHgECBAgQIJAbAeOy3HSVihIgQIAAAQIECBAgQKCiAoJtFeV1cgIECBAgQIAAAQIECBDIi4AJ1Lz0lHoSIECAAAEC1S5gXFbtPax9BAgQIECAAAECBAgQKE9AsK08J0cRIECAAAECBAgQIECAQJULmECt8g7WPAIECBAgQCA3AsZluekqFSVAgAABAgQIECBAgEBFBQTbKsrr5AQIECBAgAABAgQIECCQFwETqHnpKfUkQIAAAQIEql3AuKzae1j7CBAgQIAAAQIECBAgUJ6AYFt5To4iQIAAAQIECBAgQIAAgSoXMIFa5R2seQQIECBAgEBuBIzLctNVKkqAAAECBAgQIECAAIGKCgi2VZTXyQkQIECAAAECBAgQIEAgLwImUPPSU+pJgAABAgQIVLuAcVm197D2ESBAgAABAgQIECBAoDwBwbbynBxFgAABAgQIECBAgAABAlUuYAK1yjtY8wgQIECAAIHcCBiX5aarVJQAAQIECBAgQIAAAQIVFRBsqyivkxMgQIAAAQIECBAgQIBAXgRMoOalp9STAAECBAgQqHYB47Jq72HtI0CAAAECBAgQIECAQHkCgm3lOTmKAAECBAgQIECAAAECBKpcwARqlXew5hEgQIAAAQK5ETAuy01XqSgBAgQIECBAgAABAgQqKiDYVlFeJydAgAABAgQIECBAgACBvAiYQM1LT6knAQIECBAgUO0CxmXV3sPaR4AAAQIECBAgQIAAgfIEBNvKc3IUAQIECBAgQIAAAQIECFS5gAnUKu9gzSNAgAABAgRyI2BclpuuUlECBAgQIECAAAECBAhUVECwraK8Tk6AAAECBAgQIECAAAECeREwgZqXnlJPAgQIECBAoNoFjMuqvYe1jwABAgQIECBAgAABAuUJCLaV5+QoAgQIECBAgAABAgQIEKhyAROoVd7BmkeAAAECBAjkRsC4LDddpaIECBAgQIAAAQIECBCoqIBgW0V5nZwAAQIECBAgQIAAAQIE8iJgAjUvPaWeBAgQIECAQLULGJdVew9rHwECBAgQIECAAAECBMoTEGwrz8lRBAgQIECAAAECBAgQIFDlAiZQq7yDNY8AAQIECBDIjYBxWW66SkUJECBAgAABAgQIECBQUQHBtoryOjkBAgQIECBAgAABAgQI5EXABGpeeko9CRAgQIAAgWoXMC6r9h7WPgIECBAgQIAAAQIECJQnINhWnpOjCBAgQIAAAQIECBAgQKDKBUygVnkHax4BAgQIECCQGwHjstx0lYoSIECAAAECBAgQIECgogKCbRXldXICBAgQIECAAAECBAgQyIuACdS89JR6EiBAgAABAtUuYFxW7T2sfQQIECBAgAABAgQIEChPQLCtPCdHESBAgAABAgQIECBAgECVC5hArfIO1jwCBAgQIEAgNwLGZbnpKhUlQIAAAQIECBAgQIBARQUE2yrK6+QECBAgQIAAAQIECBAgkBcBE6h56Sn1JECAAAECBKpdwLis2ntY+wgQIECAAAECBAgQIFCegGBbeU6OIkCAAAECBAgQIECAAIEqFzCBWuUdrHkECBAgQIBAbgSMy3LTVSpKgAABAgQIECBAgACBigoItlWU18kJECBAgAABAgQIECBAIC8CJlDz0lPqSYAAAQIECFS7gHFZtfew9hEgQIAAAQIECBAgQKA8AcG28pwcRYAAAQIECBAgQIAAAQJVLmACtco7WPMIECBAgACB3AgYl+Wmq1SUAAECBAgQIECAAAECFRUQbKsor5MTIECAAAECBAgQIECAQF4ETKDmpafUkwABAgQIEKh2AeOyau9h7SNAgAABAgQIECBAgEB5AoJt5Tk5igABAgQIECBAgAABAgSqXMAEapV3sOYRIECAAAECuREwLstNV6koAQIECBAgQIAAAQIEKiog2FZRXicnQIAAAQIECBAgQIAAgbwImEDNS0+pJwECBAgQIFDtAsZl1d7D2keAAAECBAgQIECAAIHyBATbynNyFAECBAgQIECAAAECBAhUuYAJ1CrvYM0jQIAAAQIEciNgXJabrlJRAgQIECBAgAABAgQIVFRAsK2ivE5OgAABAgQIECBAgAABAnkRMIGal55STwIECBAgQKDaBYzLqr2HtY8AAQIECBAgQIAAAQLlCQi2lefkKAIECBAgQIAAAQIECBCocgETqFXewZpHgAABAgQI5EbAuCw3XaWiBAgQIECAAAECBAgQqKiAYFtFeZ2cAAECBAgQIECAAAECBPIiYAI1Lz2lngQIECBAgEC1CxiXVXsPax8BAgQIECBAgAABAgTKExBsK8/JUQQIECBAgAABAgQIECBQ5QImUKu8gzWPAAECBAgQyI2AcVluukpFCRAgQIAAAQIECBAgUFEBwbaK8jo5AQIECBAgQIAAAQIECORFwARqXnpKPQkQIECAAIFqFzAuq/Ye1j4CBAgQIECAAAECBAiUJyDYVp6TowgQIECAAAECBAgQIECgygVMoFZ5B2seAQIECBAgkBsB47LcdJWKEiBAgAABAgQIECBAoKICgm0V5XVyAgQIECBAgAABAgQIEMiLgAnUvPSUehIgQIAAAQLVLmBcVu09rH0ECBAgQIAAAQIECBAoT0CwrTwnRxEgQIAAAQIECBAgQIBAlQuYQK3yDtY8AgQIECBAIDcCxmW56SoVJUCAAAECBAgQIECAQEUFBNsqyuvkBAgQIECAAAECBAgQIJAXAROoeekp9SRAgAABAgSqXcC4rNp7WPsIECBAgAABAgQIECBQnoBgW3lOjiJAgAABAgQIECBAgACBKhcwgVrlHax5BAgQIECAQG4EjMty01UqSoAAAQIECBAgQIAAgYoKCLZVlNfJCRAgQIAAAQIECBAgQCAvAiZQ89JT6kmAAAECBAhUu4BxWbX3sPYRIECAAAECBAgQIECgPAHBtvKcHEWAAAECBAgQIECAAAECVS5gArXKO1jzCBAgQIAAgdwIGJflpqtUlAABAgQIECBAgAABAhUVEGyrKK+TEyBAgAABAgQIECBAgEBeBEyg5qWn1JMAAQIECBCodgHjsmrvYe0jQIAAAQIECBAgQIBAeQKCbeU5OYoAAQIECBAgQIAAAQIEqlzABGqVd7DmESBAgAABArkRMC7LTVepKAECBAgQIECAAAECBCoqINhWUV4nJ0CAAAECBAgQIECAAIG8CJhAzUtPqScBAgQIECBQ7QLGZdXew9pHgAABAgQIECBAgACB8gQE28pzchQBAgQIECBAgAABAgQIVLmACdQq72DNI0CAAAECBHIjYFyWm65SUQIECBAgQIAAAQIECFRUQLCtorxOToAAAQIECBAgQIAAAQJ5ETCBmpeeUk8CBAgQIECg2gWMy6q9h7WPAAECBAgQIECAAAEC5QkItpXn5CgCBAgQIECAAAECBAgQqHIBE6hV3sGaR4AAAQIECORGwLgsN12logQIECBAgAABAgQIEKiogGBbRXmdnAABAgQIECBAgAABAgTyImACNS89pZ4ECBAgQIBAtQsYl1V7D2sfAQIECBAgQIAAAQIEyhMQbCvPyVEECBAgQIAAAQIECBAgUOUCJlCrvIM1jwABAgQIEMiNgHFZbrpKRQkQIECAAAECBAgQIFBRAcG2ivI6OQECBAgQIECAAAECBAjkRcAEal56Sj0JECBAgACBahcwLqv2HtY+AgQIECBAgAABAgQIlCcg2Faek6MIECBAgAABAgQIECBAoMoFTKBWeQdrHgECBAgQIJAbAeOy3HSVihIgQIAAAQIECBAgQKCiAoJtFeV1cgIECBAgQIAAAQIECBDIi4AJ1Lz0lHoSIECAAAEC1S5gXFbtPax9BAgQIECAAAECBAgQKE9AsK08J0cRIECAAAECBAgQIECAQJULmECt8g7WPAIECBAgQCA3AsZluekqFSVAgAABAgQIECBAgEBFBQTbKsrr5AQIECBAgAABAgQIECCQFwETqHnpKfUkQIAAAQIEql3AuKzae1j7CBAgQIAAAQIECBAgUJ6AYFt5To4iQIAAAQIECBAgQIAAgSoXMIFa5R2seQQIECBAgEBuBIzLctNVKkqAAAECBAgQIECAAIGKCgi2VZTXyQkQIECAAAECBAgQIEAgLwImUPPSU+pJgAABAgQIVLuAcVm197D2ESBAgAABAgQIECBAoDwBwbbynBxFgAABAgQIECBAgAABAlUuYAK1yjtY8wgQIECAAIHcCBiX5aarVJQAAQIECBAgQIAAAQIVFRBsqyivkxMgQIAAAQIECBAgQIBAXgRMoOalp9STAAECBAgQqHYB47Jq72HtI0CAAAECBAgQIECAQHkCgm3lOTmKAAECBAgQIECAAAECBKpcwARqlXew5hEgQIAAAQK5ETAuy01XqSgBAgQIECBAgAABAgQqKiDYVlFeJydAgAABAgQIECBAgACBvAiYQM1LT6knAQIECBAgUO0CxmXV3sPaR4AAAQIECBAgQIAAgfIEBNvKc3IUAQIECBAgQIAAAQIECFS5gAnUKu9gzSNAgAABAgRyI2BclpuuUlECBAgQIECAAAECBAhUVECwraK8Tk6AAAECBAgQIECAAAECeREwgZqXnlJPAgQIECBAoNoFjMuqvYe1jwABAgQIECBAgAABAuUJCLaV5+QoAgQIECBAgAABAgQIEKhyAROoVd7BmkeAAAECBAjkRsC4LDddpaIECBAgQIAAAQIECBCoqIBgW0V5nZwAAQIECBAgQIAAAQIE8iJgAjUvPaWeBAgQIECAQLULGJdVew9rHwECBAgQIECAAAECBMoTEGwrz8lRBAgQIECAAAECBAgQIFDlAiZQq7yDNY8AAQIECBDIjYBxWW66SkUJECBAgAABAgQIECBQUQHBtoryOjkBAgQIECBAgAABAgQI5EXABGpeeko9CRAgQIAAgWoXMC6r9h7WPgIECBAgQIAAAQIECJQnINhWnpOjCBAgQIAAAQIECBAgQKDKBUygVnkHax4BAgQIECCQGwHjstx0lYoSIECAAAECBAgQIECgogKCbRXldXICBAgQIECAAAECBAgQyIuACdS89JR6EiBAgAABAtUuYFxW7T2sfQQIECBAgAABAgQIEChPQLCtPCdHESBAgAABAgQIECBAgECVC5hArfIO1jwCBAgQIEAgNwLGZbnpKhUlQIAAAQIECBAgQIBARQUE2yrK6+QECBAgQIAAAQIECBAgkBcBE6h56Sn1JECAAAECBKpdwLis2ntY+wgQIECAAAECBAgQIFCegGBbeU6OIkCAAAECBAgQIECAAIEqFzCBWuUdrHkECBAgQIBAbgSMy3LTVSpKgAABAgQIECBAgACBigoItlWU18kJECBAgAABAgQIECBAIC8CJlDz0lPqSYAAAQIECFS7gHFZtfew9hEgQIAAAQIECBAgQKA8AcG28pwcRYAAAQIECBAgQIAAAQJVLmACtco7WPMIECBAgACB3AgYl+Wmq1SUAAECBAgQIECAAAECFRUQbKsor5MTIECAAAECBAgQIECAQF4ETKDmpafUkwABAgQIEKh2AeOyau9h7SNAgAABAgQIECBAgEB5AoJt5Tk5igABAgQIECBAgAABAgSqXMAEapV3sOYRIECAAAECuREwLstNV6koAQIECBAgQIAAAQIEKiog2FZRXicnQIAAAQIECBAgQIAAgbwImEDNS0+pJwECBAgQIFDtAsZl1d7D2keAAAECBAgQIECAAIHyBATbynNyFAECBAgQIECAAAECBAhUuYAJ1CrvYM0jQIAAAQIEciNgXJabrlJRAgQIECBAgAABAgQIVFRAsK2ivE5OgAABAgQIECBAgAABAnkRMIGal55STwIECBAgQKDaBYzLqr2HtY8AAQIECBAgQIAAAQLlCQi2lefkKAIECBAgQIAAAQIECBCocgETqFXewZpHgAABAgQI5EbAuCw3XaWiBAgQIECAAAECBAgQqKiAYFtFeZ2cAAECBAgQIECAAAECBPIiYAI1Lz2lngQIECBAgEC1CxiXVXsPax8BAgQIECBAgAABAgTKExBsK8/JUQQIECBAgAABAgQIECBQ5QImUKu8gzWPAAECBAgQyI2AcVluukpFCRAgQIAAAQIECBAgUFEBwbaK8jo5AQIECBAgQIAAAQIECORFwARqXnpKPQkQIECAAIFqFzAuq/Ye1j4CBAgQIECAAAECBAiUJyDYVp6TowgQIECAAAECBAgQIECgygVMoFZ5B/8/e/cBZVdVPQ54z0x6TwghIXRCE6RIUUDA8hdUpFj4gSBNQQSp0gREKYJIk6IggnSlqxRFig1BEKRK7xBSCel9MjP/e1/IOElmMncmbybv3nx3rVlvZt655+7z7claZ+Xsd47hESBAgAABArkRMC/LTaoESoAAAQIECBAgQIAAgQ4VUNjWobw6J0CAAAECBAgQIECAAIG8CFhAzUumxEmAAAECBAgUXcC8rOgZNj4CBAgQIECAAAECBAhkE1DYls1JKwIECBAgQIAAAQIECBAouIAF1IIn2PAIECBAgACB3AiYl+UmVQIlQIAAAQIECBAgQIBAhwoobOtQXp0TIECAAAECBAgQIECAQF4ELKDmJVPiJECAAAECBIouYF5W9AwbHwECBAgQIECAAAECBLIJKGzL5qQVAQIECBAgQIAAAQIECBRcwAJqwRNseAQIECBAgEBuBMzLcpMqgRIgQIAAAQIECBAgQKBDBRS2dSivzgkQIECAAAECBAgQIEAgLwIWUPOSKXESIECAAAECRRcwLyt6ho2PAAECBAgQIECAAAEC2QQUtmVz0ooAAQIECBAgQIAAAQIECi5gAbXgCTY8AgQIECBAIDcC5mW5SZVACRAgQIAAAQIECBAg0KECCts6lFfnBAgQIECAAAECBAgQIJAXAQuoecmUOAkQIECAAIGiC5iXFT3DxkeAAAECBAgQIECAAIFsAgrbsjlpRYAAAQIECBAgQIAAAQIFF7CAWvAEGx4BAgQIECCQGwHzstykSqAECBAgQIAAAQIECBDoUAGFbR3Kq3MCBAgQIECAAAECBAgQyIuABdS8ZEqcBAgQIECAQNEFzMuKnmHjI0CAAAECBAgQIECAQDYBhW3ZnLQiQIAAAQIECBAgQIAAgYILWEAteIINjwABAgQIEMiNgHlZblIlUAIECBAgQIAAAQIECHSogMK2DuXVOQECBAgQIECAAAECBAjkRcACal4yJU4CBAgQIECg6ALmZUXPsPERIECAAAECBAgQIEAgm4DCtmxOWhEgQIAAAQIECBAgQIBAwQUsoBY8wYZHgAABAgQI5EbAvCw3qRIoAQIECBAgQIAAAQIEOlRAYVuH8uqcAAECBAgQIECAAAECBPIiYAE1L5kSJwECBAgQIFB0AfOyomfY+AgQIECAAAECBAgQIJBNQGFbNietCBAgQIAAAQIECBAgQKDgAhZQC55gwyNAgAABAgRyI2BelptUCZQAAQIECBAgQIAAAQIdKqCwrUN5dU6AAAECBAgQIECAAAECeRGwgJqXTImTAAECBAgQKLqAeVnRM2x8BAgQIECAAAECBAgQyCagsC2bk1YECBAgQIAAAQIECBAgUHABC6gFT7DhESBAgAABArkRMC/LTaoESoAAAQIECBAgQIAAgQ4VUNjWobw6J0CAAAECBAgQIECAAIG8CFhAzUumxEmAAAECBAgUXcC8rOgZNj4CBAgQIECAAAECBAhkE1DYls1JKwIECBAgQIAAAQIECBAouIAF1IIn2PAIECBAgACB3AiYl+UmVQIlQIAAAQIECBAgQIBAhwoobOtQXp0TIECAAAECBAgQIECAQF4ELKDmJVPiJECAAAECBIouYF5W9AwbHwECBAgQIECAAAECBLIJKGzL5qQVAQIECBAgQIAAAQIECBRcwAJqwRNseAQIECBAgEBuBC666rcxe/acZuPt0aN7HH3Q3rkZi0AJECBAgAABAgQIECBAoP0CCtvab+dOAgQIECBAgAABAgQIECiQgMK2AiXTUAgQIECAAIFcC9xw+x9j1NjxzY5h+NAhse/Xds71+ARPgAABAgQIECBAgAABAtkEFLZlc9KKAAECBAgQIECAAAECBAouYGeQgifY8AgQIECAAIHcCLz+1si4/Y8PNhvvHrt8LtZefZXcjEWgBAgQIECAAAECBAgQINB+AYVt7bdzJwECBAgQIECAAAECBAgUSMDOIAVKpqEQIECAAAECuRd44+334pEnnokJEydHdVVVrDBoQGy7xSax1hqK2nKfXAMgQIAAAQIECBAgQIBARgGFbRmhNCNAgAABAgQIECBAgACBYgvYGaTY+TU6AgQIECBAgAABAgQIECBAgAABAgQIEMiXgMK2fOVLtAQIECBAgAABAgQIECDQgQJ2BunIqgrDAAAgAElEQVRAXF0TIECAAAECBAgQIECAAAECBAgQIECAAIE2CChsawOWpgQIECBAgAABAgQIECBAgAABAgQIECBAgAABAgQIECBAgAABAgQIECDQ8QIK2zre2BMIECBAgAABAgQIECBAgAABAgQIECBAgAABAgQIECBAgAABAgQIECBAoA0CCtvagKUpAQIECBAgQIAAAQIECBAgQIAAAQIECBAgQIAAAQIECBAgQIAAAQIECHS8gMK2jjf2BAIECBAgQIAAAQIECBAgQIAAAQIECBAgQIAAAQIECBAgQIAAAQIECBBog4DCtjZgaUqAAAECBAgQIECAAAECBAgQIECAAAECBAgQIECAAAECBAgQIECAAAECHS+gsK3jjT2BAAECBAgQIECAAAECBAgQIECAAAECBAgQIECAAAECBAgQIECAAAECBNogoLCtDViaEiBAgAABAgQIECBAgAABAgQIECBAgAABAgQIECBAgAABAgQIECBAgEDHCyhs63hjTyBAgAABAgQIECBAgAABAgQIECBAgAABAgQIECBAgAABAgQIECBAgACBNggobGsDlqYECBAgQIAAAQIECBAgQIAAAQIECBAgQIAAAQIECBAgQIAAAQIECBAg0PECCts63tgTCBAgQIAAAQIECBAgQIAAAQIECBAgQIDAcivwwN8eilGjx0WXLjWxx+5fiu7duy23Fi0NvHbevLjt9/fE3Lm10bNX9/i/3XeJqqqqdjs99/xL8dSzz5fu/9ynt4vhKw9td19uJECAAAECBAgQIECAwLISUNi2rOQ9lwABAgQIECBAgAABAgQIECBAgAABAgQILAcCe+x/SLw3akxppL+56uex1hqrLQejbtsQx4x7P76yz7cab/rLXbdEr14929ZJk9ZnX/jzuPtP95d+c9wRh8RXd9u53X25kQABAgQIECBAgAABAstKQGHbspL3XAIECBAgQIAAAQIECBAoq8D4CRPiT/f9rdTnRzdcLzbfdOOy9l9JndnRo5KyIRYCBAgQIECgNYE8FrZNnjwlzrvkl1FXXx8j1lo9Dtpv79aGuVTvK2xbKj43EyBAgAABAgQIECBQUAGFbQVNrGERIECAAAECBAgQIEBgeRP481/+Hqf/5MLSsD+z/bZx1g9PLCyBhc/CptbACBAgQIBAIQXyWNj26utvxv7fObqUjzVWXyVu+vVlHZqbqVOnxSHHnBhz5tRG75494+rLLoiuXbu2+5l2bGs3nRsJECBAgAABAgQIEKggAYVtFZQMoRAgQIAAAQIECBAgQIBA+wUUtjmqqv1/Pe4kQIAAAQIEOlJAYVtH6jbft8K2zjf3RAIECBAgQIAAAQIEyi+gsK38pnokQIAAAQIECBAgQIAAgWUgsDwVttnRYxn8gXkkAQIECBAg0G4BhW3tpmv3jQrb2k3nRgIECBAgQIAAAQIEKkhAYVsFJUMoBAgQIECAAAECBAgQINB+geWpsK39Ss3faeGz3KL6I0CAAAECBJoKKGzr/L8H87vON/dEAgQIECBAgAABAgTKL6CwrfymeiRAgAABAgQIECBAgACBZSCgsK396BY+22/nTgIECBAgkFVgXl1d/PeFlyMaGmLo0JVi2EorRu28efGvf/8nXnrltZg4aXL079c3Vh2+cnzqk1tHv+T7JV2vvPZ6zJw5O/r07R3rrLVmqemYsePiqeeej5deei1WXHGF+OiG68fHNvloi91MmzY9Hn7siRg1ZkyMnzAxBg8cEMNXHhbbbLV5DEy+z3qNnzAhHnrk3zF6zLiYMXNmDF5hUGz60Q1j800/GtXV1dFaYVtzNi09e/LkKfHWOyNLb6+7zlrRu1evJYZZMk7G+Pa778WYceOjR/fuMWzYkNh+m08kORiy2L0NSX6eS/L0xptvx3mXXF56Px3PGScfV/q+a9cusdFH1s9K06Z2zeW0pQ5mzZ4df//no/Hue+/FBxPn/+2ss/Zasd02W0XPHj3C/K5N9BoTIECAAAECBAgQIFChAgrbKjQxwiJAgAABAgQIECBAgACBtgkobGubV9PWFj7bb+dOAgQIECCQVSAtYDv2lDNKzT++xWZxynFHxpEnnhpvv/PeYl306tkj9vv6HrH/3ns02/3MWbPjs7v8X+m9rl27xt/uuS1OPeu8+NtDjyzWfuukSO3MHxy/UAFYWuz1q2tujN/dfW9SHDdrsXu6d+8Wu3z+c3HYwfuXiqRauurq6uOSy38dv7/n3lKR3qLXZhtvGOf9+NQ44NBj4r1RY0pv/+aqn8daa6y2UNNHksKz435wZul3n9jyY/Gzn5zW4jMv+sVVccvv7yq9f+R3vhlf/9ruLba984/3xdU33JwU7X3QbJvdv/T5OPaIQ6JLTU3j+2lx2QGHfm+Jab31ul+WChDLeS2a04fuvaPF7u++94H4+ZXXRno8/aJXWoR3yblnxk133Bl3/+n+0tvHJWP86m47lzNcfREgQIAAAQIECBAgQKBTBBS2dQqzhxAgQIAAAQIECBAgQKAYAukuIy+88mqMGT0u6urrkx09Vor11ll7iTuBLBh5upj5frKoWJXs2rHJRhtEVVVVaTHu6f++EM8kX927dYt1114zttv2E9G1S5fFwNLdMx59/Ml45bU3Yuz490uLrKsOHxaf2m7rWGHQoGhPYdvTz70QL7/6Wml3keqq6hiWjGejDdYrfbV2Le14Wuu/tfft6NGakPcJECBAgEBlCTz86ONx/Kk/LgW11hqrx+w5s0tzkCVd39pvrzhov70Xa5IWo3121z1Lv0+Lsnb87A7xp/v/2mxXKw9bKW644pLo1atn6f25c2vjlDN/Gmk8rV2bbbJRnH/mqY33Ltr+jHMujHsf/PsSu/nI+uvGuPETkl3FJpbaNVfY1tRmq803i4t/enqLfV7481/FbX+4p/T+EYd8M/beo/nCtiuv+22pqK21Ky2kO+vUExvH+Goy19w/KcRb0nX79b9K5sFDW+u6Te83zWk6F37oz79r9v60WC39UMKSrgH9+8eqqwybv0Ngcilsa1MqNCZAgAABAgQIECBAoIIEFLZVUDKEQoAAAQIECBAgQIAAgUoVSBfFLvnlVfH8S682G2J67NERhxwQW35s0xaH8M3vHls6Ziu9rrzk3HjhpVfiomSHj0WvNVZfJX78gxNj7TVXb3zrhZdfiTN+elG8O3LUYu3TxdzTTz425ia7hJz+kwtL739m+23jrB+e2GIsTz/7fFz8y6uTIrnXm22TFt4dfdjBsf66IzpkPEubZzt6LK2g+wkQIECAQOcLNC3eWvD0oUOHxA5JUf9Wm28ac+fMjcf+83T8/eFHY8qUqaUmNTXVceu1V0RanNb0aloEteD36dGmeyVFXuuPGBFTp02LR594Mh78+8Nx8TmnLzSnSXdqu+Y3tzZ2t+lHPxLbfHzL0vGaryQF//9KPkjwxFPPNr7/lV2/EMcfeehiYOl86rBjT278/dAhg5OxbBNbbTl/LI8/9UxyVOZjMWny5IXu7YzCtqa746UPTwsJt992q9his01Kts+9+HL84Z4/x5wkzvT6xp5fie8efEBjnGlx22vJUaQ/Pu/i0u9WHLxC/PT0+WPtkhxFuuDo13L+FWUpbJs2fUZ85RsHxfTkNb3SYsUdtvl4Yv6xWGHgwHjymefioYcfi7fenX9U64JLYVs5M6UvAgQIECBAgAABAgQ6U0BhW2dqexYBAgQIECBAgAABAgRyKPBEsih5wqlnJbuKzFli9GmB2RmnHBefTorKmrvSI50WFJLt8sUdG49GWrRtukPFVZeeF+smO8GlV7qw+N3jTonpM2a2+PzqZBe49Jit9Bir9FpSYVu60HnS6T8p7VaypCtdKLzgrB9FuthbzvGU408gy8Jn+hw7epRDWx8ECBAgQKA8AosWtvXr1zdu+NXFMWTw4IUe8OLLr8YhR50Y8+rqSr/f88u7xtHfPWihNosWtq204uC4Mpk/pQVYS7rS3XK/8o2DY8bM+fOqz3/2U/GjkxY/drPpcZ/p3OzWZIeytHCt6ZXuPrdg17c+fXrH9VdcHMNWGrJQm3Qed9ARxy90TGlnFLYdeNj3kl1553+AIf3QxDWX/Sx6dO++UGzpBzeOO/XM2DaZQ554zOGRHr/a9Hr19Tdj/+8c3djHTb++rDx/CC30kmV+d9Ptf0g+bHJ1Yw/nJMV2aWFk0yvNbRr3qNFjG3+tsK1DU6dzAgQIECBAgAABAgQ6UEBhWwfi6poAAQIECBAgQIAAAQJ5F1h08bN//36xfbIrxDbJAmBNssj5WLITyEOP/DsmfDD/aKmWFj7T95oWtqU/d+vWNfbd66vJsaQblo4l/e8LL8Xv7r43Dth7j/jqbjs30n332FPiqWf/2/jzNh/fItIjo9Jd4tJd39LjSdPdKZpeLRW2TZo0Ob6677dj1uzZpeYbrLdO6eiurbf4WGnx+LEnnoo/P/C3eP2tt0vvp+P93Q1XNnv8VnvHU46/iSwLn3b0KIe0PggQIECAQPkEFi1sOzvZXbalDwRcc+Mt8atrf1N6eLqL7Y1XXrpQIIsWtqW7jaW7jrV23fPnB+Os8y8pNRs2NDmiNCms692r12K3pR8A+Fay2+6COdGi/dcnR9LvuPvejQVyp510bOyUzKmau2685XfxiyuvbXyrowvb3n7nvfj6tw4rPS/94MWvf3FBrDtirWZjS3dsW7SgbUHDSixsO/aUMyL9kEZ67Zp8UOSk7x3e7LjS3Y4POvz4xvcUtrX2L8P7BAgQIECAAAECBAhUqoDCtkrNjLgIECBAgAABAgQIECBQAQJNj6pKC9Gu/sWFCx0RmoY4Zuy42O+Qoxp3VGvpuKqmhWBpIdsvzj8rNttkoyWOMt3hLb1vwbXnV5MdSw5deMeS9L1Tzvhp/PWhRxrbtVTYdukVV8dvb/tDqd2qw1eOay//2WJFa5MnT4n9kl0u3p/wQandIQfuGwfss8dicbZnPOVKaZbCNjt6lEtbPwQIECBAoDwCTQvbevboEQ/ceXPpqNHmrvdGjYk99j+k9FY6b3rwrluiV88ejU0XLWy7+erLYvXVVmk10LMvuDTuvveBUrt0fpPOc1q6bk52B0uPbk+v9IMNPz3jlMamb779buxz0PyiqrR47K/33Bpdu3Zttqv0AxC77HlA43sdXdh2b/IhhTN++rPS8z664frxq4vPbdWluQaVWNj2ha/uG5OnTCmF+/Pzfxybb7pxi2P7vwO+EyPfG116X2Fbu/4E3ESAAAECBAgQIECAQAUIKGyrgCQIgQABAgQIECBAgAABApUq8OW9vxljx08ohXfsEYfE15rspNY05gf+9lD88KzzS79Kj/B84A83RXo8aNOraSHYNlttERec/cNWh/2bW38fP//VNaV2a62xelKIdmGzi6bTpk2PfQ4+orEYraXCti9+bb+YNHlyqb+0r/XWGdFsDE889WwcecKppffSReJ0sXjRqz3jaXXAGRtkKWyzo0dGTM0IECBAgEAnCTQtbEt3nr3+iotafHJDQ0Ps8MWvRW3t/KPTf/ebXyfHfK7Y2H7Rwra/pIVvyRysteuI438Q/3l6/k636RHyn/v09i3e8viTT8dRJ/6o9P46a60Z1ye7uy240t10011102u1VYfHLddcvsRH/79d92rc3a2jC9uu+c2tkX44I71223mn+P4x322Npdn3K62wLf2b2OZzuzXGes+t18YKgwa1OLYTkqNi//no46X3Fba160/ATQQIECBAgAABAgQIVICAwrYKSIIQCBAgQIAAAQIECBAgUIkC495/P3b/+rdKoaW7iaQ7hfTo3r3ZUNOFth13/3rjrm3X/fKixY58aloIdsJRh8WXd/l8q8NuuhPbN/fdKw7ef+8W7znnZ7+IO/94X+n95grbRo8ZlxxDenDp/RUGDox7bruuxb7S8Xxq569FegxXet2fFOr17dN7ofbtGU+rA87YIEthmx09MmJqRoAAAQIEOkmgaWHbJhttEL+86KdLfPJOX9kn0mPh0+s3V11aKvJfcDWdC6Q7pv3zvt9nGsWBh30vXn719VLbC876YaRHvLd0PZ8c+X7wEfOPs0yPLf3djVc2Nk0LptLCqfRKj3a/Ojnuc0lXumPbgqPrO7qwLf1QRPrhiPTae4/d44hDvpnJZtFGlVbYNmPmzEgLBBdc6S556c5/LV0/Ovv8uP+vD5XeVtjWrj8BNxEgQIAAAQIECBAgUAECCtsqIAlCIECAAAECBAgQIECAQCUKPPPfF+PQY75fCi3LThzfPuqE+O8LL5fan3PaSbHDJ7deaFhNC8HOO/MH8cmtt2p12Icde3I8/ezzpXat7SrS9Lis5grb0n7S/tJrzdVWjQvPOX2Jz//2kcc37gB3XbKjyrrJzipNr/aMp9UBZ2zQWmGbHT0yQmpGgAABAgQ6UaBpYdsWm20cl543vzCspatpMdiiO822Nhdoqc99Djoi3nz7ndLbl5x7Rmz5sU1bfH7Twq5FPxTw1388HKecOf+Iz42TIr0rWinS+8o3Di4dX59eHV3YdsGlV8Ttd/6x9KzWjltdkn+lFbZNnjwlvvC1/x0dmxYzpkWNLV0/Pu/i+ON9fym9rbCtE/+hexQBAgQIECBAgAABAmUVUNhWVk6dESBAgAABAgQIECBAoDgCjzz2RBz3gzNLA8qyE8cxJ50Wjz3xVKn9qSccHV/c8TMLYTQtBEsXP9NF0Nau/Q89Jl597Y1Ss9Z2FUl3a0t3bUuv5grbmo6ntecu+v5lF5wdm22y0VKPp63Pbal9a4vZdvQol7R+CBAgQIBA+QSaFrZt9JH14spLzlti559Ld8OdPqPUJj0WPT0efcHV2lygpY4PPuK4eP6lV0tvn5t80GC7JXzQ4LnnX4pDjj6x1HbV4SvHrdf9srHbfz3+nzj25DNKP6+7ztpx3eU/W+JYdk6Og5/44XHwHV3Ydvmvr4/rb7q9FM+eX901jj70oHYlsdIK22bPmROf3nmPxrE8eNfN0btXrxbHdmpSePhgUoCYXgrb2vUn4CYCBAgQIECAAAECBCpAQGFbBSRBCAQIECBAgAABAgQIEKhEgb899EicfMb8I7Ky7MRx4g/Piof+9e9S++aOGm1a2Pari8+Nj264fqvD3udbh8eb77xbatfariJ/uv+vcea5F5XaNlfY1nQ8rT54kQaXnHtmsqPJJgv9tj3jaetzW2rf2mK2HT3KJa0fAgQIECBQPoGmhW1rrL5K3PTry1rsvHbevPjUF78W9fX1pTZ33nx1DBk8uLF9a3OBljo++vs/in//5+nS2z84/qjYeafPthhD0+NG11tnRKS7xi24nn7uhTjseyeVfhw6dEj8/sarWuwn3Un201/aI+bMmVtq01phW2vzzrMv/Hnc/af7S32lx4ymx402vW64+Y647Kr5R85/4XOfjh+eeEy7klhphW3pILb53G6ReqbX735zVQxbaUiLY2uaa4Vt7foTcBMBAgQIECBAgAABAhUgoLCtApIgBAIECBAgQIAAAQIECFSiQLr7WroLW3pl2YnjyBN+GE889Uyp/WknHRs7fXaHhYbVnkKwbx1+XLz4crZdRX53171x3iWXl57ZXGHb408+HUed+KPS+6sMH5Z5946qqqrYaovNFjvqqT3jKVeeW1vMtqNHuaT1Q4AAAQIEyifQtLCturo60h23evbo0ewDmhZVdevWNWl7S3Tt0qWxbWtzgZaivujyq+KWO+4qvb3H7l+K7x3+7RYHeNX1N8Wvk6/0WrRAbMy48fGVff63E9r9v/9t9O3bp9m+3n7nvfj6tw5rfK+5wraXXnktvvndY0ttVhy8Qtx18zUtxpUW1KWFdenVXGHbPx5+NL5/2k9K76+1xupJId2l7UpiJRa2ffkbB8XYseNL4znn9JNjh20/0eLYmu6Sp7CtXX8CbiJAgAABAgQIECBAoAIEFLZVQBKEQIAAAQIECBAgQIAAgUoUeP7Fl+PgI08ohTZspRWTXSF+vcQwmx4bel5ytNUnFznaqj2FYIcf94N48pnnSs/9wQnJriI7tryrSHrkVHr0VHo1V9iWFsilhXLptTSLnAsQ2jOecuU5y2K2HT3Kpa0fAgQIECBQHoGmhW1pjwd+Y8/49gH7NNv5KcmuuX9Nds9Nr+Z2MMsyF2iu43/8Myn6On1+0Vevnj3i2l9eVDpmdNFrwgcTY99vHxWTp0wpvXXS9w6PXb+440LNvvR/B8QHEyeWfveNPb8S3z34gGbHctpPLoj7/vKPxveaK2ybPmNmfG63vRrbXHPZhbH+uiMW6y8tqNvrwENj7tza0nvNFba9P+GD2HWvAxvv/fEPTojPfuqTzcaWzg/TI16bO9KzaUFelrnw0v6VZMnpD886Px7420OlR6W7H19+4TlRU1O92KPvSna0+0mys92CS2Hb0mbH/QQIECBAgAABAgQILCsBhW3LSt5zCRAgQIAAAQIECBAgUOEC06ZNjx2/vHdjlH++48bo379fs1HX1tbGZ3fdK9LX9Lrjhitj5WErLdS2PYVgZ553cfzpvr+U+tnzK7vG0Yf9b2eQRQM59cxz48F/PFz6dXOFbemC6Y67f710fFOXmpq4+5ZrY8CA/u3OQnvG0+6HLXJjloVPO3qUS1s/BAgQIECgPAKLFralu7Zdet6P42ObbLTQAxYtSjr0W/vFfl//2kJtsswFmos6PeJ0zwMOjTFjx5XeTovHLrvw7IV2jkvnc8eeckayE++zpTYD+vePO268slQI1/RKC6fSWNMr3eH24p+enhzdvulCbZoeFb/gjeYK29L3vrrvwTF6zPy4NvrIenH+macuNPecOnVanJwU/C340EParrnCtvT3J51+Tvz9n/8q9ZXuJHddUsC36LGdt/z+rrj4sl/HmqutGucmH8oYvvLQFo3TXN189WWx6iqLFwGW568jIktO0wLBtFBwwdVcceRb74yMbyW7382aPbuxncK2cmVJPwQIECBAgAABAgQIdLaAwrbOFvc8AgQIECBAgAABAgQI5Ehg34OPjNffersU8Zd3+XyccNT/jpFqOowrrrkhrv3NbaVftXR8VHsKwf5wz5/jpxddVuq3X7++ccOvLo4hgwcvJvjGW+8kx1d9r3H3juYK29Kb9v/O0ZEeK5Ve6Y5y6c5yLV3pgu8HEyclC6vrN9ukPeMpV+qzLHza0aNc2vohQIAAAQLlEVi0sG1Br+usvVZ8fItNY86cufHoE0/Ge6PGND6wT5/e8ftk19w+vXstFESWuUBLUd/74N/jjHMubHy7e/dusfkmG5eKyV5+9fX4z9PPxsxZ/yuKOir5YMFeyQcMFr1Gjhqd7J52WNTX1ze+NWLNNeITW30s5s6pjceefCreHTlqsftaKmxbNK4VBg2K7bbZKoYPGxqjx46Nhx55vHGHuAWdtlTYls4NDzz0mEgL+dIr3dVsow3Wiy2SwrspU6bGf198JV557fXG2A45cN84YJ89Fou16QcF0j4+sv66scbqq8XR3/lW9OrVszx/GB/2kiWndXX1seeB34lRo8c2PntIcnTrx7faPAYPGpgUIz4TL7782kI5SRsqbCtrqnRGgAABAgQIECBAgEAnCihs60RsjyJAgAABAgQIECBAgEDeBO5OduE4u8kxRs0d5ZQuoB114o9KO6GlV3oMVXoc1aJXewrB0uOm9tjv25Eu4qXX5ptuHD8757To2qVLY/fpbhQHHX58vPn2O42/a6mw7Z4/PxhnnX9JY7s01r332D3SXTiaXukxXT8+/+LSThcnH3tkfHHHz5RlPOXKf5aFTzt6lEtbPwQIECBAoDwCTQvbNkt2aUuL9tM5R0tXOt8560ffj+0WOd49bZ9lLrCkqG+85XfxiyuvbXVgSzpiNL35jjv/GOdfesUS+9nzy7vGw/9+vLEYq6XCtnQuecxJp8W///N0i/2lO8ylR6cuOI6zpcK2tIN/Pf6fOOm0nzR+8KGlTg/ef+/45r7/Owa1abtF58IL3rv12l+Wffe2rDl9/sWX4+jvnxYzZs5s0WmTjTaIwSsMir/8Y/5xtgrbWv1T14AAAQIECBAgQIAAgQoVUNhWoYkRFgECBAgQIECAAAECBCpBYF5dXXzj4CPinXffawwnXUzcesvNo0vXmnj030/GW++ObHwv3a3t5msuX+yoqrRBewrb0vvOPPeiSI+xWnD17tUrtth8k1hvxNrx/Asvx1PP/jdmz5mzEFdLhW3pePY56PCFdg9JF5W33GzjWDfpLy2Oe/GV12Lke6Mb+/v09tvG2T88cbF0tHc85chrloVPO3qUQ1ofBAgQIECgfAJNC9u22nyzuODsH8YFSVHYPfc+EOkcpem10QbrxqEH7Z8cU/rRZgNId3f74te+UdpZbeCAAfGn269vc6CPPfFUXH/TbfH0cy8sdu8G660T++311fjUdtu02u9fk6Pgr7rupoXmhOlNPbp3j32SDzsctN/X48DDvlfaDS7d9ey2669MjgVdsdl+093fbrj5jrj6xpsXKkhLd5X7RLIr2anHHxW/ve0PcfUNN5fuP/l7h8cuX9yxxRhffePNuC7ZVfjvDz+62C5mw4auFN8+cJ/4/Gc/1eL9abFd+sGIK6/7bbw/4YPGdnfccGWsPGylVm3a0qAtOX31tTfiF1ddH48/uXARYHok7A6f3DpOPeHo+PX1vy1ZpdfpJx8XO35m+7aEoy0BAgQIECBAgAABAgQqQkBhW0WkQRAECBAgQIAAAQIECBCoXIFx778fRxx/6kLFXs1Fmx6D9PPzz2px94r2FoJNmjQ5Dk+e33RHtkWfv8LAgbHz5z+bLM7eXnqrpcK29L3SeI5LxpMcn9XadeA39iwtxi66o1t6X3vH09ozs7yfpbAt7ceOHlk0tSFAgAABAp0jsGhh28U/Pb304MmTp0RagPXBxB+nDH0AACAASURBVMnRPym4X2XlYbHaqsM7J6jkKWPHT0h2Uxsd4ydMTI6zHJAc/TmszUVbaQHYm2+/G6PGjE12EpsVKya7hX0kKY5r73Gd6RGi74x8L95+Z2SsnBSgrTNirYV27G0rTjqffDc54nVsshtwj6RIblhSlLZucgRsW650h7RxiVV1VXVyHOkqbbm1w9qmuxunx71+MHFSDBjQL0astUYMGTy4w56nYwIECBAgQIAAAQIECHS2gMK2zhb3PAIECBAgQIAAAQIECORQYMqUqfHb2/8Qv7v73pg+fcZCI+jZo0fsmuyUkR5VlR551NJ15AmnxhNPPRvpThI3XnlJrLXG6pkl0sXIy6+5Mf78wN+itrZ2ofvWSRYlzzr1hHj3vVFx3A/OLL232847xfeP+W6L/acLyDfdcWez40lv2ugj60Va1LbNVlt0yHgyD7yFhnb0WFpB9xMgQIAAgc4XaKmwrfMj8UQCBAgQIECAAAECBAgQIJAPAYVt+ciTKAkQIECAAAECBAgQIFARAumRn+muEKOT3TjSoy6Hrzw0VltleLt342jroNICu3Q3kLHvT4hePbonu8MNTwrkVmtrN43tS+NJCuLGjBkXs5LvBw8aFKsnO6SkR6oW7bKjR9EyajwECBAgkDcBhW15y1jr8aYf2lja66Mbrl86ttVFgAABAgQIECBAgAABAosLKGzzV0GAAAECBAgQIECAAAECBAgQIECAAAECBDpYQGFbBwMvg+63/n+7LvVTb7/+V6UPi7gIECBAgAABAgQIECBAYHEBhW3+KggQIECAAAECBAgQIECAQCcI2NGjE5A9ggABAgQIVLCAwrYKTk47Qzvs2JPbeef/bjv9pGMLuVvwUsPogAABAgQIECBAgAABAomAwjZ/BgQIECBAgAABAgQIECBAoBME7OjRCcgeQYAAAQIEKlhAYVsFJ0doBAgQIECAAAECBAgQIFCRAgrbKjItgiJAgAABAgQIECBAgACBognY0aNoGTUeAgQIECDQNoHJk6fEH/54f+mm9dZZK7beavO2daA1AQIECBAgQIAAAQIECBBYzgQUti1nCTdcAgQIECBAgAABAgQIECBAgAABAgQIECBAgAABAgQIECBAgAABAgQIVLqAwrZKz5D4CBAgQIAAAQIECBAgQIAAAQIECBAgQIAAAQIECBAgQIAAAQIECBAgsJwJKGxbzhJuuAQIECBAgAABAgQIECBAgAABAgQIECBAgAABAgQIECBAgAABAgQIEKh0AYVtlZ4h8REgQIAAAQIECBAgQIAAAQIECBAgQIAAAQIECBAgQIAAAQIECBAgQGA5E1DYtpwl3HAJECBAgAABAgQIECBAgAABAgQIECBAgAABAgQIECBAgAABAgQIECBQ6QIK2yo9Q+IjQIAAAQIECBAgQIAAAQIECBAgQIAAAQLLqcBrb70bjz7535gwcVJJYPCggbHtlpvE2quvspyKGDYBAgQIECBAgAABAgSWHwGFbctPro2UAAECBAgQIECAAAECBAgQIECAAAECBAjkRuD1t0bG7X98sNl49/jS/4u111g1N2MRKAECBAgQIECAAAECBAi0XUBhW9vN3EGAAAECBAgQIECAAAECBRWwI0hBE2tYBAgQIECAQC4Frr/9jzF67PhmY1956JDY72s753JcgiZAgAABAgQIECBAgACBbAIK27I5aUWAAAECBAgQIECAAAECBRewI0jBE2x4BAgQIECAQO4ELrjihqitndds3D16dI+jD9o7d2MSMAECBAgQIECAAAECBAhkF1DYlt1KSwIECBAgQIAAAQIECBAosIAdQQqcXEMjQIAAAQIEcilwzs+vWWLc3z/8wFyOS9AECBAgQIAAAQIECBAgkE1AYVs2J60IECBAgAABAgQIECBAoOACdgQpeIINjwABAgQIEMidgMK23KVMwAQIECBAgAABAgQIECirgMK2snLqjAABAgQIECBAgAABAgTyKmDhNK+ZEzcBAgQIECBQVAHzs6Jm1rgIECBAgAABAgQIECCQTUBhWzYnrQgQIECAAAECBAgQIECg4AIWTgueYMMjQIAAAQIEcidgfpa7lAmYAAECBAgQIECAAAECZRVQ2FZWTp0RIECAAAECBAgQIECAQF4FLJzmNXPiJkCAAAECBIoqYH5W1MwaFwECBAgQIECAAAECBLIJKGzL5qQVAQIECBAgQIAAAQIECBRcwMJpwRNseAQIECBAgEDuBMzPcpcyARMgQIAAAQIECBAgQKCsAgrbysqpMwIECBAgQIAAAQIECBDIq4CF07xmTtwECBAgQIBAUQXMz4qaWeMiQIAAAQIECBAgQIBANgGFbdmctCJAgAABAgQIECBAgACBggtYOC14gg2PAAECBAgQyJ2A+VnuUiZgAgQIECBAgAABAgQIlFVAYVtZOXVGgAABAgQIECBAgAABAnkVsHCa18yJmwABAgQIECiqgPlZUTNrXAQIECBAgAABAgQIEMgmoLAtm5NWBAgQIECAAAECBAgQIFBwAQunBU+w4REgQIAAAQK5EzA/y13KBEyAAAECBAgQIECAAIGyCihsKyunzggQIECAAAECBAgQIEAgrwIWTvOaOXETIECAAAECRRUwPytqZo2LAAECBAgQIECAAAEC2QQUtmVz0ooAAQIECBAgQIAAAQIECi5g4bTgCTY8AgQIECBAIHcC5me5S5mACRAgQIAAAQIECBAgUFYBhW1l5dQZAQIECBAgQIAAAQIECORVwMJpXjMnbgIECBAgQKCoAuZnRc2scREgQIAAAQIECBAgQCCbgMK2bE5aESBAgAABAgQIECBAgEDBBSycFjzBhkeAAAECBAjkTsD8LHcpEzABAgQIECBAgAABAgTKKqCwraycOiNAgAABAgQIECBAgACBvApYOM1r5sRNgAABAgQIFFXA/KyomTUuAgQIECBAgAABAgQIZBNQ2JbNSSsCBAgQIECAAAECBAgQKLiAhdOCJ9jwCBAgQIAAgdwJmJ/lLmUCJkCAAAECBAgQIECAQFkFFLaVlVNnBAgQIECAAAECBAgQIJBXAQunec2cuAkQIECAAIGiCpifFTWzxkWAAAECBAgQIECAAIFsAgrbsjlpRYAAAQIECBAgQIAAAQIFF7BwWvAEGx4BAgQIECCQOwHzs9ylTMAECBAgQIAAAQIECBAoq4DCtrJy6owAAQIECBAgQIAAAQIE8ipg4TSvmRM3AQIECBAgUFQB87OiZta4CBAgQIAAAQIECBAgkE1AYVs2J60IECBAgAABAgQIECBAoOACFk4LnmDDI0CAAAECBHInYH6Wu5QJmAABAgQIECBAgAABAmUVUNhWVk6dESBAgAABAgQIECBAgEBeBSyc5jVz4iZAgAABAgSKKmB+VtTMGhcBAgQIECBAgAABAgSyCShsy+akFQECBAgQIECAAAECBAgUXMDCacETbHgECBAgQIBA7gTMz3KXMgETIECAAAECBAgQIECgrAIK28rKqTMCBAgQIECAAAECBAgQyKuAhdO8Zk7cBAgQIECAQFEFzM+KmlnjIkCAAAECBAgQIECAQDYBhW3ZnLQiQIAAAQIECBAgQIAAgYILWDgteIINjwABAgQIEMidgPlZ7lImYAIECBAgQIAAAQIECJRVQGFbWTl1RoAAAQIECBAgQIAAAQJ5FbBwmtfMiZsAAQIECBAoqoD5WVEza1wECBAgQIAAAQIECBDIJqCwLZuTVgQIECBAgAABAgQIECBQcAELpwVPsOERIECAAAECuRMwP8tdygRMgAABAgQIECBAgACBsgoobCsrp84IECBAgAABAgQIECBAIK8CFk7zmjlxEyBAgAABAkUVMD8ramaNiwABAgQIECBAgAABAtkEFLZlc9KKAAECBAgQIECAAAECBAouYOG04Ak2PAIECBAgQCB3AuZnuUuZgAkQIECAAAECBAgQIFBWAYVtZeXUGQECBAgQIECAAAECBAjkVcDCaV4zJ24CBAgQIECgqALmZ0XNrHERIECAAAECBAgQIEAgm4DCtmxOWhEgQIAAAQIECBAgQIBAwQUsnBY8wYZHgAABAgQI5E7A/Cx3KRMwAQIECBAgQIAAAQIEyiqgsK2snDojQIAAAQIECBAgQIAAgbwKWDjNa+bETYAAAQIECBRVwPysqJk1LgIECBAgQIAAAQIECGQTUNiWzUkrAgQIECBAgAABAgQIECi4gIXTgifY8AgQIECAAIHcCZif5S5lAiZAgAABAgQIECBAgEBZBRS2lZVTZwQIECBAgAABAgQIECCQVwELp3nNnLgJECBAgACBogqYnxU1s8ZFgAABAgQIECBAgACBbAIK27I5aUWAAAECBAgQIECAAAECBRewcFrwBBseAQIECBAgkDsB87PcpUzABAgQIECAAAECBAgQKKuAwraycuqMAAECBAgQIECAAAECBPIqYOE0r5kTNwECBAgQIFBUAfOzombWuAgQIECAAAECBAgQIJBNQGFbNietCBAgQIAAAQIECBAgQKDgAhZOC55gwyNAgAABAgRyJ2B+lruUCZgAAQIECBAgQIAAAQJlFVDYVlZOnREgQIAAAQIECBAgQIBAXgUsnOY1c+ImQIAAAQIEiipgflbUzBoXAQIECBAgQIAAAQIEsgkobMvmpBUBAgQIECBAgAABAgQIFFzAwmnBE2x4BAgQIECAQO4EzM9ylzIBEyBAgAABAgQIECBAoKwCCtvKyqkzAgQIECBAgAABAgQIEMirgIXTvGZO3AQIECBAgEBRBczPippZ4yJAgAABAgQIECBAgEA2AYVt2Zy0IkCAAAECBAgQIECAAIGCC1g4LXiCDY8AAQIECBDInYD5We5SJmACBAgQIECAAAECBAiUVUBhW1k5dUaAAAECBAgQIECAAAECeRWwcJrXzImbAAECBAgQKKqA+VlRM2tcBAgQIECAAAECBAgQyCagsC2bk1YECBAgQIAAAQIECBAgUHABC6cFT7DhESBAgAABArkTMD/LXcoETIAAAQIECBAgQIAAgbIKKGwrK6fOCBAgQIAAAQIECBAgQCCvAhZO85o5cRMgQIAAAQJFFTA/K2pmjYsAAQIECBAgQIAAAQLZBBS2ZXPSigABAgQIECBAgAABAgQKLmDhtOAJNjwCBAgQIEAgdwLmZ7lLmYAJECBAgAABAgQIECBQVgGFbWXl1BkBAgQIECBAgAABAgQI5FXAwmleMyduAgQIECBAoKgC5mdFzaxxESBAgAABAgQIECBAIJuAwrZsTloRIECAAAECBAgQIECAQMEFLJwWPMGGR4AAAQIECOROwPwsdykTMAECBAgQIECAAAECBMoqoLCtrJw6I0CAAAECBAgQIECAAIG8Clg4zWvmxE2AAAECBAgUVcD8rKiZNS4CBAgQIECAAAECBAhkE1DYls1JKwIECBAgQIAAAQIECBAouICF04In2PAIECBAgACB3AmYn+UuZQImQIAAAQIECBAgQIBAWQUUtpWVU2cECBAgQIAAAQIECBAgkFcBC6d5zZy4CRAgQIAAgaIKmJ8VNbPGRYAAAQIECBAgQIAAgWwCCtuyOWlFgAABAgQIECBAgAABAgUXsHBa8AQbHgECBAgQIJA7AfOz3KVMwAQIECBAgAABAgQIECirgMK2snLqjAABAgQIECBAgAABAgTyKmDhNK+ZEzcBAgQIECBQVAHzs6Jm1rgIECBAgAABAgQIECCQTUBhWzYnrQgQIECAAAECBAgQIECg4AIWTgueYMMjQIAAAQIEcidgfpa7lAmYAAECBAgQIECAAAECZRVQ2FZWTp0RIECAAAECBAgQIECAQF4FLJzmNXPiJkCAAAECBIoqYH5W1MwaFwECBAgQIECAAAECBLIJKGzL5qQVAQIECBAgQIAAAQIECBRcwMJpwRNseAQIECBAgEDuBMzPcpcyARMgQIAAAQIECBAgQKCsAgrbysqpMwIECBAgQIAAAQIECBDIq4CF07xmTtwECBAgQIBAUQXMz4qaWeMiQIAAAQIECBAgQIBANgGFbdmctCJAgAABAgQIECBAgACBggtYOC14gg2PAAECBAgQyJ2A+VnuUiZgAgQIECBAgAABAgQIlFVAYVtZOXVGgAABAgQIECBAgAABAnkVsHCa18yJmwABAgQIECiqgPlZUTNrXAQIECBAgAABAgQIEMgmoLAtm5NWBAgQIECAAAECBAgQIFBwAQunBU+w4REgQIAAAQK5EzA/y13KBEyAAAECBAgQIECAAIGyCihsKyunzggQIECAAAECBAgQIEAgrwIWTvOaOXETIECAAAECRRUwPytqZo2LAAECBAgQIECAAAEC2QQUtmVz0ooAAQIECBAgQIAAAQIECi5g4bTgCTY8AgQIECBAIHcC5me5S5mACRAgQIAAAQIECBAgUFYBhW1l5dQZAQIECBAgQIAAAQIECORVwMJpXjMnbgIECBAgQKCoAuZnRc2scREgQIAAAQIECBAgQCCbgMK2bE5aESBAgAABAgQIECBAgEDBBSycFjzBhkeAAAECBAjkTsD8LHcpEzABAgQIECBAgAABAgTKKqCwraycOiNAgAABAgQIECBAgACBvApYOM1r5sRNgAABAgQIFFXA/KyomTUuAgQIECBAgAABAgQIZBNQ2JbNSSsCBAgQIECAAAECBAgQKLiAhdOCJ9jwCBAgQIAAgdwJmJ/lLmUCJkCAAAECBAgQIECAQFkFFLaVlVNnBAgQIECAAAECBAgQIJBXAQunec2cuAkQIECAAIGiCpifFTWzxkWAAAECBAgQIECAAIFsAgrbsjlpRYAAAQIECBAgQIAAAQIFF7BwWvAEGx4BAgQIECCQOwHzs9ylTMAECBAgQIAAAQIECBAoq4DCtrJy6owAAQIECBAgQIAAAQIE8ipg4TSvmRM3AQIECBAgUFQB87OiZta4CBAgQIAAAQIECBAgkE1AYVs2J60IECBAgAABAgQIECBAoOACFk4LnmDDI0CAAAECBHInYH6Wu5QJmAABAgQIECBAgAABAmUVUNhWVk6dESBAgAABAgQIECBAgEBeBSyc5jVz4iZAgAABAgSKKmB+VtTMGhcBAgQIECBAgAABAgSyCShsy+akFQECBAgQIECAAAECBAgUXMDCacETbHgECBAgQIBA7gTMz3KXMgETIECAAAECBAgQIECgrAIK28rKqTMCBAgQIECAAAECBAgQyKuAhdO8Zk7cBAgQIECAQFEFzM+KmlnjIkCAAAECBAgQIECAQDYBhW3ZnLQiQIAAAQIECBAgQIAAgYILWDgteIINjwABAgQIEMidgPlZ7lImYAIECBAgQIAAAQIECJRVQGFbWTl1RoAAAQIECBAgQIAAAQJ5FbBwmtfMiZsAAQIECBAoqoD5WVEza1wECBAgQIAAAQIECBDIJqCwLZuTVgQIECBAgAABAgQIECBQcAELpwVPsOERIECAAAECuRMwP8tdygRMgAABAgQIECBAgACBsgoobCsrp84IECBAgAABAgQIECBAIK8CFk7zmjlxEyBAgAABAkUVMD8ramaNiwABAgQIECBAgAABAtkEFLZlc9KKAAECBAgQIECAAAECBAouYOG04Ak2PAIECBAgQCB3AuZnuUuZgAkQIECAAAECBAgQIFBWAYVtZeXUGQECBAgQIECAAAECBAjkVcDCaV4zJ24CBAgQIECgqALmZ0XNrHERIECAAAECBAgQIEAgm4DCtmxOWhEgQIAAAQIECBAgQIBAwQUsnBY8wYZHgAABAgQI5E7A/Cx3KRMwAQIECBAgQIAAAQIEyiqgsK2snDojQIAAAQIECBAgQIAAgbwKWDjNa+bETYAAAQIECBRVwPysqJk1LgIECBAgQIAAAQIECGQTUNiWzUkrAgQIECBAgAABAgQIECi4gIXTgifY8AgQIECAAIHcCZif5S5lAiZAgAABAgQIECBAgEBZBRS2lZVTZwQIECBAgAABAgQIECCQVwELp3nNnLgJECBAgACBogqYnxU1s8ZFgAABAgQIECBAgACBbAIK27I5aUWAAAECBAgQIECAAAECBRewcFrwBBseAQIECBAgkDsB87PcpUzABAgQIECAAAECBAgQKKuAwraycuqMAAECBAgQIECAAAECBPIqYOE0r5kTNwECBAgQIFBUAfOzombWuAgQIECAAAECBAgQIJBNQGFbNietCBAgQIAAAQIECBAgQKDgAhZOC55gwyNAgAABAgRyJ2B+lruUCZgAAQIECBAgQIAAAQJlFVDYVlZOnREgQIAAAQIECBAgQIBAXgUsnOY1c+ImQIAAAQIEiipgflbUzBoXAQIECBAgQIAAAQIEsgkobMvmpBUBAgQIECBAgAABAgQIFFzAwmnBE2x4BAgQIECAQO4EzM9ylzIBEyBAgAABAgQIECBAoKwCCtvKyqkzAgQIECBAgAABAgQIEMirgIXTvGZO3AQIECBAgEBRBczPippZ4yJAgAABAgQIECBAgEA2AYVt2Zy0IkCAAAECBAgQIECAAIGCC1g4LXiCDY8AAQIECBDInYD5We5SJmACBAgQIECAAAECBAiUVUBhW1k5dUaAAAECBAgQIECAAAECeRWwcJrXzImbAAECBAgQKKqA+VlRM2tcBAgQIECAAAECBAgQyCagsC2bk1YECBAgQIAAAQIECBAgUHABC6cFT7DhESBAgAABArkTMD/LXcoETIAAAQIECBAgQIAAgbIKKGwrK6fOCBAgQIAAAQIECBAgQCCvAhZO85o5cRMgQIAAAQJFFTA/K2pmjYsAAQIECBAgQIAAAQLZBBS2ZXPSigABAgQIECBAgAABAgQKLmDhtOAJNjwCBAgQIEAgdwLmZ7lLmYAJECBAgAABAgQIECBQVgGFbWXl1BkBAgQIECBAgAABAgQI5FXAwmleMyduAgQIECBAoKgC5mdFzaxxESBAgAABAgQIECBAIJuAwrZsTloRIECAAAECBAgQIECAQMEFLJwWPMGGR4AAAQIECOROwPwsdykTMAECBAgQIECAAAECBMoqoLCtrJw6I0CAAAECBAgQIECAAIG8Clg4zWvmxE2AAAECBAgUVcD8rKiZNS4CBAgQIECAAAECBAhkE1DYls1JKwIECBAgQIAAAQIECBAouICF04In2PAIECBAgACB3AmYn+UuZQImQIAAAQIECBAgQIBAWQUUtpWVU2cECBAgQIAAAQIECBAgkFcBC6d5zZy4CRAgQIAAgaIKmJ8VNbPGRYAAAQIECBAgQIAAgWwCCtuyOWlFgAABAgQIECBAgAABAgUXsHBa8AQbHgECBAgQIJA7AfOz3KVMwAQIECBAgAABAgQIECirgMK2snLqjAABAgQIECBAgAABAgTyKmDhNK+ZEzcBAgQIECBQVAHzs6Jm1rgIECBAgAABAgQIECCQTUBhWzYnrQgQIECAAAECBAgQIECg4AIWTgueYMMjQIAAAQIEcidgfpa7lAmYAAECBAgQIECAAAECZRVQ2FZWTp0RIECAAAECBAgQIECAQF4FLJzmNXPiJkCAAAECBIoqYH5W1MwaFwECBAgQIECAAAECBLIJKGzL5qQVAQIECBAgQIAAAQIECBRcwMJpwRNseAQIECBAgEDuBMzPcpcyARMgQIAAAQIECBAgQKCsAgrbysqpMwIECBAgQIAAAQIECBDIq4CF07xmTtwECBAgQIBAUQXMz4qaWeMiQIAAAQIECBAgQIBANgGFbdmctCJAgAABAgQIECBAgACBggtYOC14gg2PAAECBAgQyJ2A+VnuUiZgAgQIECBAgAABAgQIlFVAYVtZOXVGgAABAgQIECBAgAABAnkVsHCa18yJmwABAgQIECiqgPlZUTNrXAQIECBAgAABAgQIEMgmoLAtm5NWBAgQIECAAAECBAgQIJBzgekzZsbEyVNbHMVvf3/vEke495e/0OL7A/r1jX59e+dcSPgECBAgQIAAgc4VMD/rXG9PI0CAAAECBAgQIECAQN4EFLblLWPiJUCAAAECBAgQIECAAIE2Czz+9PPxt3/9JxoaGtp8b9YbNv/oBvG5HT6Rtbl2BAgQIECAAIHlWsD8bLlOv8ETIECAAAECBAgQIEAgk4DCtkxMGhEgQIAAAQIECBAgQIBAXgVmzZodl159c9R3YFFbatOlS00c8+1vRE11dV6pxE2AAAECBAgQ6BQB87NOYfYQAgQIECBAgAABAgQI5F5AYVvuU2gABAgQIECAAAECBAgQINCawBU33hGTlnAMaWv3Z3m/T69ecfg398zSVBsCBAgQIECAwHIvYH623P8JACBAgAABAgQIECBAgECrAgrbWiXSgAABAgQIECBAgAABAgTyLvDWu6PilrvuX2wY6cGkVW0cXEv37LnrjrHmasPb2JvmBAgQIECAAIHlU8D8bPnMu1ETIECAAAECBAgQIECgLQIK29qipS0BAgQIECBAgAABAgQI5Fbg4cefiYcff3qh+BuiISlsa1tpW3P3bLfVZrHtVpvm1kbgBAgQIECAAIFlIWB+tizUPZMAAQIECBAgQIAAAQL5EVDYlp9ciZQAAQIECBAgQIAAAQIElkIg3Wnt1jvvi7dGjl6ol7bs2tZc2zVXXTn+b7ed2lgetxQDcSsBAgQIECBAoCAC5mcFSaRhECBAgAABAgQIECBAoIMEFLZ1EKxuCRAgQIAAAQIECBAgQKDyBGbPmRPX3HxnTJk2ozG40g5sDcmuba1t3JasvDZULbzDW/++vePAvXaLHt27V95gRUSAAAECBAgQyIGA+VkOkiREAgQIECBAgAABAgQILCMBhW3LCN5jCRAgQIAAAQIECBAgQGDZCIyfMDGuu+3uqKurbxJAWt6W1rY1X902//jR9Prf+zU11bH/HrvEkMGDls1APJUAAQIECBAgUBABt0jlZwAAIABJREFU87OCJNIwCBAgQIAAAQIECBAgUGYBhW1lBtUdAQIECBAgQIAAAQIECFS+wPOvvBH3PPDQwoE2JOVrVYuXtpUK3pL3Inmv6fWlz20fG623duUPVoQECBAgQIAAgRwImJ/lIElCJECAAAECBAgQIECAQCcLKGzrZHCPI0CAAAECBAgQIECAAIHKELj3r4/Esy++unAwzRSwNRftphutF5//1DaVMRBRECBAgAABAgQKImB+VpBEGgYBAgQIECBAgAABAgTKJKCwrUyQuiFAgAABAgQIECBAgACBfAnU1dfHdbfcHeM/mNgY+PzjSJtczeziNnTFwbHvHjtHTXV1vgYsWgIECBAgQIBAhQuYn1V4goRHgAABAgQIECBAgACBThZQ2NbJ4B5HgAABAgQIECBAgAABApUjMGXa9Lj65jtjzpy5/wsq3bUtLW+rSo4mLX33v1K3nj26xzf32i369uldOYMQCQECBAgQIECgQALmZwVKpqEQIECAAAECBAgQIEBgKQUUti0loNsJECBAgAABAgQIECBAIN8Cb707Km656/6FB5FWtKVXk+3b0m+//uUvxGrDh+Z7wKInQIAAAQIECFS4gPlZhSdIeAQIECBAgAABAgQIEOgkAYVtnQTtMQQIECBAgAABAgQIECBQuQIPP/5MPPz400sMcPuPfyy22XKTyh2EyAgQIECAAAECBRIwPytQMg2FAAECBAgQIECAAAEC7RRQ2NZOOLcRIECAAAECBAgQIECAQHEE0g3abr3zvnhr5OhmB7XmqivHnrvtVJwBGwkBAgQIECBAoMIFzM8qPEHCI0CAAAECBAgQIECAQCcIKGzrBGSPIECAAAECBAgQIECAAIHKF5g9Z05cc/OdMWXajIWC7d+3dxy4127Ro3v3yh+ECAkQIECAAAECBRIwPytQMg2FAAECBAgQIECAAAEC7RBQ2NYONLcQIECAAAECBAgQIECAQDEFxk+YGNfddnfU1dWXBlhTUx3777FLDBk8qJgDNioCBAgQIECAQIULmJ9VeIKER4AAAQIECBAgQIAAgQ4UUNjWgbi6JkCAAAECBAgQIECAAIH8Cbz65jvxp788EnOSHdx2+/ynYv0Ra+ZvECImQIAAAQIECBRIwPysQMk0FAIECBAgQIAAAQIECLRBQGFbG7A0JUCAAAECBAgQIECAAAECBAgQIECAAAECBAgQIECAAAECBAgQIECAAIGOF1DY1vHGnkCAAAECBAgQIECAAAECBAgQIECAAAECBAgQIECAAAECBAgQIECAAAECbRBQ2NYGLE0JECBAgAABAgQIECBAgAABAgQIECBAgAABAgQIECBAgAABAgQIECBAoOMFFLZ1vLEnECBAgAABAgQIECBAgAABAgQIECBAgAABAgQIECBAgAABAgQIECBAgEAbBBS2tQFLUwIECBAgQIAAAQIECBAgQIAAAQIECBAgQIAAAQIECBAgQIAAAQIECBDoeAGFbR1v7AkECBAgQIAAAQIECBAgQIAAAQIECBAgQIAAAQIECBAgQIAAAQIECBAg0AYBhW1twNKUAAECBAgQIECAAAECBAgQIECAAAECBAgQIECAAAECBAgQIECAAAECBDpeQGFbxxt7AgECBAgQIECAAAECBAgQIECAAAECBAgQIECAAAECBAgQIECAAAECBAi0QUBhWxuwNCVAgAABAgQIECBAgAABAgQIECBAgAABAgQIECBAgAABAgQIECBAgACBjhdQ2Nbxxp5AgAABAgQIECBAgAABAgQIECBAgAABAgQIECBAgAABAgQIECBAgAABAm0QUNjWBixNCRAgQIAAAQIECBAgQIAAAQIECBAgQIAAAQIECBAgQIAAAQIECBAgQKDjBRS2dbyxJxAgQIAAAQIECBAgQIAAAQIECBAgQIAAAQIECBAgQIAAAQIECBAgQIBAGwQUtrUBS1MCBAgQIECAAAECBAgQIECAAAECBAgQIECAAAECBAgQIECAAAECBAgQ6HgBhW0db+wJBAgQIECAAAECBAgQIECAAAECBAgQIECAAAECBAgQIECAAAECBAgQINAGAYVtbcDSlAABAgQIECBAgAABAgQIECBAgAABAgQIECBAgAABAgQIECBAgAABAgQ6XkBhW8cbewIBAgQIECBAgAABAgQIECBAgAABAgQIECBAgAABAgQIECBAgAABAgQItEFAYVsbsDQlQIAAAQIECBAgQIAAAQIECBAgQIAAAQIECBAgQIAAAQIECBAgQIAAgY4XUNjW8caeQKDTBRpm18e8qcnX9Pqom1YX86alr/Pm/y79eWpd6fd1ye/nTU9ep3z4mvy8NFdN3+ro0qcmavp/+Jr8XNO3Jrr0S75Kr+nPXZLvP/x9n6Rd8ruqHtVL81j3EiBAgAABAgQILO8Cs+dE3fSZUT8j+Zo+PflKX2eUXuumpa/To6Hx/eTn9Hcz5r+/NFd1n15R3bt3VPdNvvokX717RVX6uz59knlv+rv0+wWvfUrv1yS/ix7dl+ax7iVAgAABAgQIVL5A7eyI2dOiYc705HVq6bUheY3ZyVwt/X3yfdWH7y/4fek1bb80V/c+yf819kvmW/Nfq5KfG3r0LX1fnbw2/X18+H6kv+/aY2me6l4CBAgQIECAAIE2CsyumxeTa2tj6ry5MaV2TvJaW3qdMvfD1/R3tcl7ye9Lr8nX1PT95Oelufp36Rr9unaP/l27Ja/dYv7PyWvpd8lXt66l137J7+e/dosBXbtGj5ouS/NY9xIgsBQCCtuWAs+tBJaFQF1SrDZ75NyofX9ezC191UbtB/Pm/zwh/bku+Y+ipStQ6+xxVXWvjm4r1kS3wV2i64pdotsKydeQrtH1w597rNotWQBU/NbZefE8AgQIECBAgEAlCDTMmBW1o8dE3YRJUffB5Jj3QfI6aXLy/Yc/T5ycLIDOqYRQs8fQvXt0GTQgalZIvwZGzcAB0WXwoKgZ1D9qBg+MrisPi6rePbP3pyUBAgQIECBAoDMFkuKz+kkjI6ZNSD48kHxNez/50MAHEen3H37FvKSwLU9Xlx7JBxQGl74i+apOv++bfPVOfk5eqweuGpEUybkIECBAgAABAgRaF0iL1N6aOTXGzZ4V42fPjHGzkq+56ffJ15xZMTZ5nV0/r/WOKqhFj+ouMbRHzxjSPflKXlfq3iv5uVesmH6ffK3Zq1+pGM5FgED5BRS2ld9UjwTKIjDzlTkxJylgmz1qbsxKXue+V1v6Pt1lbXm80t3gegzvFt1XTSriV+n24ffdotd6drtYHv8ejJkAAQIECBAonsDcN96JulFjo3bMuJg7elzUjRkf85Lvl3ZXtbxKpbu9dRm2UnRZeaXoOmxI8rVS1AwfGt3WXj2vQxI3AQIECBAgkDOBhnGvRkNSwNYweVTywYL3IiaNivrJyevS7qqWM4fGcJPCtuoBq0QMXCX5YMLwqBqQfCUFb1UrrZvXEYmbAAECBAgQILBUAi9MnRRvz5ga78yaFm/NmBYjk693Zk5b6l3VliqoZXhzuvvb6r36xmq9+8YaydfqPdPXfrFhv4HLMCqPJpB/AYVt+c+hEeRcoG5GQ8x4eVbMem1OzHxjdsx8PSloe3duNNTlfGCdFH5VTfJhydWSArcR3ZOvHvNf1+8ZNb2rOikCjyFAgAABAgQIEGiLQMPMWTHntbei9q2RMfft5Outd2Pee2Mj6pfPD3C0xa7Utro6uqySFLitudqHX6tGtxFrRFUvO7y12dINBAgQIECAwHyBuckR7WNfjobxb0Td+29Ew/uvR8PEZEc2/0GZ7S8k+Q/KqkFJgduKI6JmyIjkde2oHrpeRLfe2e7XigABAgQIECBQ4QLTkh3Ynp/yQbw0bXK8PG1S6SstZKtraKjwyCsjvJqqqlgzKXRbv+/A2KDvoFi/34DYqN+g6GuHt8pIkCgqXkBhW8WnSIBFEpg3sS5mvpoUsL02O2a8Mit5nRNzx+Vrm9W85KPbSl2i1zrdo3dS5NZrnaTgLfm+y6CkCs5FgAABAgQIECDQaQL1k6bE3Dffjdo334k5yY5sc5PXuvcndtrzl6cH1aw4KLqttXp0T4rcuq65evL9qsmRWf2XJwJjJUCAAAECBLIIzJgY9eNfS4rYXou6ZEe2+vdfi5g6Psud2rRVoN+QqF5xnahJitzS16qk6C16D2prL9oTIECAAAECBDpVYMKc2fFishPbi9MmxgtTJiavk2JMcpyoq/wCw5KjTD+SFLttNGCF0usGydfg7j3K/yA9Esi5gMK2nCdQ+JUrkBaspYVrpQK2V5Od2JLv08I217ITSAvb0gK3Xuv1jD7rzS926zqky7ILyJMJECBAgAABAgUSSAvW0sK1tICtNi1iS3ZiSwvbXMtOIC1sK+3slhS7pUeYdltrtagZbDF12WXEkwkQIECAQCcLJAVraeFaWsDWMO61+UVsSWGbaxkKJIVtpSK35PjSmuSrOi126ztkGQbk0QQIECBAgMDyLJAWrKWFa6UCtqnzi9jSwjbXshNIC9vSIrcNkx3dNuw/qPT90KQAzkVgeRZQ2LY8Z9/Yyy+QnJ40Iylim/yvGTH1seml3dlclSvQa93u0e8TfWLANr2j97pJ9Xt15cYqMgIECBAgQIBARQrUN8TcN96OWf95LmY9+WxS0PZuRYYpqPkCXddeLXpuvkn03GLjpNBtjWT+W4WGAAECBAgQKJpAQ32yI9urUffGY1H/1mOlndlclStQNWSdqF7zE1Gz9ieSIrd1I6r8B2XlZktkBAgQIECgGAL10RDPJzuy/WP8qPjHhNGl3dlclSvwkX4DY4fBK8cOQ4Ynx5cOTJaz/X9e5WZLZB0loLCto2T1u9wINMxriGlPzopJD02NyY/MiHmT7cqWx+R3GVATA7btHQO37xd9N+8ZVV1MCvKYRzETIECAAAECHS/QMK8u5jz7Usx87MmY9cQzUT9lWsc/1BPKLlDdv2/03HLT6L315tFt4w2S+W9N2Z+hQwIECBAgQKCTBOrnRcM7T8W81/8Z9W/8KxpmTe6kB3tMOQWqeg6I6rW3iS7rbB9Vq22WfAjBSRPl9NUXAQIECBBYngVqkw8/PPbBuHhg3Mj46/ujYuJcm7Pk8e9hULfu8ZkVh8eOK60WH19hSHT1oYg8plHM7RBQ2NYONLcQqJ9VH1OfmBkTH5oWU/41PepnNkApkEB1r6rov02fGLR93+i/Va+o6uGTkgVKr6EQIECAAAEC7RBomD07Zj/9Qsx47KmY/cSzyWKpIwnawVixt1T17BE9ttykVOTWc9MNI3p0r9hYBUaAAAECBAh8KFA7M+rffnJ+Mdubj0bMnYmmSALdekX1WlsnRW7bRfXqWyZb7yanTbgIECBAgAABAm0QmFk3Lx7+YGypmC3dnW168rOrOAJ9arqUdnHbcaVVY7sVhkaP5GcXgaIKKGwramaNq0ME5oyqjffvnBwT/jwl6qYm5466Ci/QpV91rPD5/rHibgOi+/CuhR+vARIgQIAAAQIEmgrMGzM+pt/395jxl0eifvoMOMuBQHXf3tH7M9tGn50+FV2GDVkORmyIBAgQIEAgXwINk0fFvOfuiroX7ouYbefcfGWvndH26Bc1G+4YXTbeNaoGDG9nJ24jQIAAAQIElheBd2ZNi1vefT3+MPqtmFw7d3kZ9nI9zgFdu8XuK68Ze642Ilbv2Xe5tjD4YgoobCtmXo2qjAINtQ0x+aHpMf6uyTH92Vll7FlXeRPos2nPGLLrgBiwXZ+o6uqo0rzlT7wECBAgQIBANoGG2nkxOzlmdNp9/4g5L7ya7SatCinQfcP1ou9OO0SPT3wsmf/61Gchk2xQBAgQIJAPgbraqE92Zqt99u5oGPVcPmIWZYcIVK+ySVLgtktUj/hkRI0P4XYIsk4JECBAgEAOBebW18eD40fGzSNfj/9Mej+HIxByuQS2HDgk9lp1RHx2yCrRrdqpZOVy1c+yFVDYtmz9Pb2SBZIN2SY+ODVGX/tBzBldW8mRiq2TBdKd24YfODgGfiapeDcf6GR9jyNAgAABAgQ6TKC+IWY+9FhMueXumDd2fIc9Rsf5E0h3bhuw127R85NbJfNfH/DIXwZFTIAAAQK5FWioj/qX/xK1j14fDVNG53YYAi+/QLpzW9et94/q9T4dUeU/KMsvrEcCBAgQIJAPgfpoiHtGvxOXvfF8vDtrej6CFmWnCKQ7tx0+YqP4wrDVkuVs/5/XKege0mECCts6jFbHuRVoiJj0j+kx6poJMecd27PmNo+dEHiPNZICt2+uWNrBzXygE8A9ggABAgQIEOgYgYakoO3RJ2PKTXfFvPcsmHYMcjF67bLqsBiw95ej58c3S+a//kOsGFk1CgIECBCoTIGGqHvtoaj913XJJ2/fqcwQRVURAlWDVo+u2x44fwc3/0FZETkRBAECBAgQ6AyBZDk77hs3Mn7++n/jzRlTO+ORnpFTgbV794sj19k4/l+yg5v/zctpEoUdCtv8ERBoIjBnbG28fc7YmP6MI0f9YWQXSI8oXeP7Q6P7UNv/Z1fTkgABAgQIEKgEgXnjJ8TES65Jjhx9pRLCEUNOBNIjSgcdeWB0GTI4JxELkwABAgQI5EegYcrYqL3/3Kh/79n8BC3SZS6QHlHadccToqr/0GUeiwAIECBAgACBjhUYNWtGnPz8v+OJSU5c6FjpYvWeHlF69kYfj+E9exdrYEazXAgobFsu0myQrQokZe3v3zklRl7+fjTMSc4gdRFoo0B1j+pY9dAVY/Cu/X04so12mhMgQIAAAQLLQCDZpW3Gn/8RE6+7LWLOnGUQgEfmXaCqe/cYeMAe0XunHezelvdkip8AAQIEKkQg2aXt2buj9qErIubNrpCYhJErgS49o9sOh0T1xl9KwrYfR65yJ1gCBAgQIJBBIN2l7eaRr8d5rzwTs+vnZbhDEwILC/Ss7hLHr79p7LnKCLNFfxy5ElDYlqt0CbYjBOzS1hGqy2+fdm9bfnNv5AQIECBAIC8CdmnLS6byEafd2/KRJ1ESIECAQGUL2KWtsvOTt+js3pa3jImXAAECBAi0LmCXttaNtMguYPe27FZaVoaAwrbKyIMolpHAzNdmx+vfHxW1H9Qtowg8togCXVeoiRHn/H/2zgNMqiJrw193T/f05DwMM+QogoCCJBV0UXTNrrrqmnZV1px+FXMWdc26a3bNOa05gKggCqiAJMmZYXKOnf+6DTNO6uk73be7b/jK5z63Q9Wpc95TSFH93aoCJA616zE8xkQCJEACJEACJKBhAs4tO1B2z+PwVtVoOAq6rjYC5ow05NxyJWyD+qnNNfpDAiRAAiRAAqon4C3dCOdHNwMNFar3lQ5qiEBSFmwnzoY5d6iGnKarJEACJEACJEACXRFYW1uFi5bPR5mDu/pyhChHICfejmf2n4YRqRnKGaUlEogQAQrbIgSWZtVPoHphPbbcXSSOHpU2bmUhAWUJmOJNGHRrb6QfnKysYVojARIgARIgARIggRAJNC1ZjopHnofP6QzRApuRQGACJpsNWf83EwkT9ycmEiABEiABEiABmQQ8m3+E64vZ4uhRHg0vExmr9YRAXDysR98My+CDetKKdUmABEiABEiABFREYF7pLly3cpE4epSbtKgoLbpxxW624MHRkzE9t49uYmIg+iRAYZs+88qoghCo+bkBm64vBKhp41iJJAET/Du3pU1MimQvtE0CJEACJEACJEACQQk0LV+N8rsfF/NfToCDwmKF0AmYTMi+5QokHLBf6DbYkgRIgARIgAQMQsCz7Re4/nejiJbzM4OkPEZhmmA98V5YBk6IUf/slgRIgARIgARIIFQCC8uLcOGy+ZwthgqQ7WQRED9n4+kDpmJqdr6s+qxEArEgQGFbLKizz5gSaN7pxNoLd8Db6I2pH+zcGATMSWaMeLof7P1sxgiYUZIACZAACZAACaiOgGt3MUquvQe+Jh5XoLrk6NAhU2ICej1wM6wFeTqMjiGRAAmQAAmQgDIEvFU74XzzEsDZqIxBWiGB7gjYkmA740mYM/uSEwmQAAmQAAmQgEYIbGuoxamL56DB49aIx3RTywSS46x4Z+IRGJiUquUw6LuOCVDYpuPkMrTOBCQx2+//3A7HLhfxkEDUCNj72jDi2X4wJ5qj1ic7IgESIAESIAESIAGJgK+pCcXX3AN3UQmBkEDUCMTl5yHvoZthSkiIWp/siARIgARIgAQ0Q8DZAMcbl8BXvUszLtNR7RMwZfRF/N+eBITIjYUESIAESIAESEDdBOo9Lvx10Rxsa6xTt6P0TlcEBiam4J3JM5BsseoqLgajDwIUtukjj4xCJoHiNypR+Hy5zNqsRgLKESiYmY28MzOVM0hLJEACJEACJEACJCCDQO0HX6Lm9Q9k1GQVElCWQNpZJyP15D8ra5TWSIAESIAESEAHBNw/vwX3jy/oIBKGoDUCcQddgLgJZ2jNbfpLAiRAAiRAAoYj8PzWtXh04wrDxc2AY0/g6qFjMHPgiNg7Qg9IoAMBCts4JAxDwOvwYvXftsJV4TFMzAxUPQSs2XEY9cYAmOO5a5t6skJPSIAESIAESEDfBLwOJ4ouvhHeqhp9B8roVEnAkpmOvKfuFfNfmyr9o1MkQAIkQAIkEAsCPrcDjhfPBhoqYtE9+zQ6gaQsxJ/3Gkxx8UYnwfhJgARIgARIQLUEmsXRo0cu/AxljmbV+kjH9EsgNz4BXx18DOyWOP0Gycg0SYDCNk2mjU6HQqD84xpsf5RHMIXCjm2UIdB/Vi9kH52mjDFaIQESIAESIAESIIEgBBq++h6Vz75OTiQQMwKZl56LpMMPiVn/7JgESIAESIAE1EbAu/JTOOc9pja36I+BCFhnXAPLyKMNFDFDJQESIAESIAFtEXh71ybc9fuv2nKa3uqKwN0jJ+DkgkG6ionBaJ8AhW3azyEjkElg233FqPi6VmZtViMB5QlkHZmKATfmKW+YFkmABEiABEiABEigCwKVT7yIhu9+IhsSiBmBpMOmIPOK82LWPzsmARIgARIgAbURcH39L3h+n6M2t+iPgQhY9p0B65HXGyhihkoCJEACJEAC2iJw0+rF+Gj3Nm05TW91ReDE/AG4d9QkXcXEYLRPgMI27eeQEcgksO7inWhY2ySzNquRgPIEkkYkYJ+n+ypvmBZJgARIgARIgARIoAsCJdffC+eGLWRDAjEjYBs2CL3+dVPM+mfHJEACJEACJKA2As63LoO3eK3a3KI/BiJgzhsB2xn/MVDEDJUESIAESIAEtEXg9CVzsbKGx9ZrK2v68nZ0WhbenniEvoJiNJonQGGb5lPIAOQS+O2YTfA0eOVWZz0SUJyAJcmMsZ8PUdwuDZIACZAACZAACZBAVwQKz7wc3kY+2MHRETsC5sQEFLzx79g5wJ5JgARIgARIQGUEHE8dD5+jQWVe0R0jETDFJyH+kk+MFDJjJQESIAESIAFNEZj47Qeoc7s05TOd1ReBlDgrlvzpZH0FxWg0T4DCNs2nkAHIJUBhm1xSrBcpAhS2RYos7ZIACZAACZAACXRFgMI2jotYE6CwLdYZYP8kQAIkQAJqI0Bhm9oyYjx/KGwzXs4ZMQmQAAmQgLYIUNimrXzp0VsK2/SYVe3HRGGb9nPICGQS4FGkMkGxWsQI8CjSiKGlYRIgARIgARIggS4I8ChSDotYE+BRpLHOAPsnARIgARJQGwEeRaq2jBjPHx5FarycM2ISIAESIAFtEeBRpNrKlx695VGkesyq9mOisE37OWQEMglsu68YFV/XyqzNaiSgPIGsI1Mx4MY85Q3TIgmQAAmQAAmQAAl0QaDyiRfR8N1PZEMCMSOQdNgUZF5xXsz6Z8ckQAIkQAIkoDYCrq//Bc/vc9TmFv0xEAHLvjNgPfJ6A0XMUEmABEiABEhAWwRuWr0YH+3epi2n6a2uCJyYPwD3jpqkq5gYjPYJUNim/RwyApkEyj+rxfaHimXWZjUSUJ5A/1m9kH10mvKGaZEESIAESIAESIAEuiDQMPcHVD71CtmQQMwIZF56LpIOPyRm/bNjEiABEiABElAbAc/qL+Ca+7Da3KI/BiJgnXENLCOPNlDEDJUESIAESIAEtEXgvcItuH3Nz9pymt7qisDdIyfg5IJBuoqJwWifAIVt2s8hI5BJwOvwYuXJW+Cp98pswWokoBwBa5YFo94cCHO8WTmjtEQCJEACJEACJEAC3RDwOpzYff618DU0khMJRJ2AOSMNvZ++T8x/bVHvmx2SAAmQAAmQgFoJ+NwOOJ77K+CoV6uL9EvPBJKyEH/eazDFxes5SsZGAiRAAiRAApom0Oxx49D5H6PW7dJ0HHRemwRy4u34+uBjYbfEaTMAeq1bAhS26Ta1DKwrAkUvV2C3uFhIINoECmZmI+/MzGh3y/5IgARIgARIgAQMTqD27Y9R886nBqfA8GNBIO2sk5F68p9j0TX7JAESIAESIAFVE3AvfgXuRa+q2kc6p08CcQddgLgJZ+gzOEZFAiRAAiRAAjoi8OTm1ZAuFhKINoGrh47BzIEjot0t+yOBoAQobAuKiBX0RMDb6MXaC3egeadTT2ExFpUTiO9jxb7P9Yc5kbu1qTxVdI8ESIAESIAEdEfA19SE4mtnw727WHexMSD1Eojr3Qt5D98CU0KCep2kZyRAAiRAAiQQKwLOBjjevBS+qp2x8oD9GpCAKb0P4s98CrAlGTB6hkwCJEACJEAC2iJQ73HhtEVzsLWxTluO01tNExiQmIJ3J89AssWq6TjovD4JUNimz7wyqm4INO9wYu3FO+Bt4JGkHCiRJyCJ2UY82w/2vjyCKfK02QMJkAAJkAAJkEBXBFyFxSiZNRu+xiYCIoGIEzAl2NHroVtgzc+LeF/sgARIgARIgAS0SsBbuRPOty4FhMiNhQRWHkZXAAAgAElEQVQiTsCWCNvfnoI5o2/Eu2IHJEACJEACJEACyhDY2lCL05bMRT2PJFUGKK10SyBJHD363qQZGJCUSlIkoEoCFLapMi10KtIEapY0YNMNhYAv0j3RvqEJmIAh/ypA2gQ+CWnoccDgSYAESIAESEAFBJqWrUL5PU+I+S8nwCpIh35dMJmQfeuVSNh/lH5jZGQkQAIkQAIkoBABz9af4froJmGN8zOFkNJMlwRMsJ50HywDDiQfEiABEiABEiABjRFYUL4bFy9bwNmixvKmNXfFz9l49oBpODi7t9Zcp78GIkBhm4GSzVDbE6heWI8tdxfB5+DiEceG8gRM8SYMurU30g9OVt44LZIACZAACZAACZBACASalixHxSPPw+d0htCaTUigewImmw1Z/zcTCRP3JyoSIAESIAESIAGZBDybf4Tri9mA2yGzBauRQA8IxMXDevTNsAw+qAeNWJUESIAESIAESEBNBOaV7sJ1Kxeh2etRk1v0RScE7GYLHhw9GdNz++gkIoahVwIUtuk1s4xLFoHGjc3+ndtcFZwMyALGSrII2PLiMPjufCQOtcuqz0okQAIkQAIkQAIkEC0Czi07UHbP4/BW1USrS/ZjAAKWnCxk33ApbIP6GSBahkgCJEACJEACyhLwlm6E86ObgYYKZQ3TmqEJmFJ7wXrcnTDnDjU0BwZPAiRAAiRAAnogsLa2Chctn48yR7MewmEMKiGQb0/Cv8cejBGpGSrxiG6QQGACFLZxdBiegKvcgy337Eb9b02GZ0EA4RNIHpuAwXcVIC7VHL4xWiABEiABEiABEiCBCBDwVlajXOzc5lizPgLWadJoBOJHDkf29ZfAnJJktNAZLwmQAAmQAAkoR6C+As4vZ8O7a4VyNmnJsATMfcbAdtwdgD3VsAwYOAmQAAmQAAnojUCpo8m/c9svVaV6C43xxIDAgRm5eFyI2tKtthj0zi5JoOcEKGzrOTO20CMBcRpp+Sc12Pl0GbzNXj1GyJgiTMAUb0bfi3OQc0IaIB1GzkICJEACJEACJEACaibg86Hh6/moevk9+Bw8+krNqVKtb/HxyDz3VCQdNU3MfzkBVm2e6BgJkAAJkICGCPjgXfkZnPOfFUeT8gFcDSVOPa7G2WGdeiEsY44TPnF+pp7E0BMSIAESIAESUIaA+Dkb7+zahAfX/YYmr1sZo7RiKAJ2cxyuGz4Wp/cdwtmioTKv/WApbNN+DhmBTAK1ixuROimx29qOYhe23V/M3dtkMmW1PQSkXdoG3JCH+Dxrt0jkjEEyJQESIAESIAESIAGlCDQvXQX7uP26NecuLUflEy9x9zaloBvEjrRLW+YV/0Bcbna3EcsZgwZBxjBJgARIgARIwE/Au3UJzAMndkvDV1MM15wHuHsbx0yPCEi7tFlnzIIpLa/bdnLGYI86ZmUSIAESIAESIAFFCSwoK8LUnN7d2ixsasBNq5dw9zZFyevfmLRL272jJqIgoftTF+aXF2FadvdjUP+0GKHaCFDYpraM0J+IEVg6fQOG3JOPtMnJ3fch5O7VP9Sj8MUyNG9zRcwfGtY+gfj+NhT8IxsZ08SYCvIQZPXCemy+fTfGzRum/cAZAQmQAAmQAAmQgCYI7DzlQmTfcCkSxo8OMv/1oWnJclS/+T+4dxZpIjY6GRsCcX3Ev6fOOB6Jk8cF3aVNGlPlDzyNvh88Fxtn2SsJkAAJkAAJqJBA8+MzYD3uLlgGTQrindi9bdNCuH58Cb7K7SqMhC6phkBmf1innAvL0KnCpe4XKD2bf4Tr0ztgv2quatynIyRAAiRAAiRAAu0JjJ77Dv499hBMy8nvFo20e9s3pbvwxMaV2NxQS4wkEJDAoKRUXDZkPxzZq2+wn7MxT4ypq1b8iFVHnEaiJKAqAhS2qSoddCaSBJYeugEwA3lnZSH/3CyYLEF6EyeSVn1bh8KXyuEopMAtkrnRmu1WQdtUIWgTY6q74nP7UPh8OUrerQLELHPc9xS2aS3f9JcESIAESIAEtEpg50kXiLmKCamnHIu008RxROYgExevELgt/BnVb38Md1GpVsOm3xEg0CpomyQEbWJMdT//9aDm9Q9Q94n4wVQcedv3fy9EwCOaJAESIAESIAFtEmh+dLrQHplhmXAmrJPPFq+DLFD6vPCu/w6uRa/AV12ozaDpdWQItAjahhziH1PdFnFUmWvhC/AsfV9U88F+9bzI+ESrJEACJEACJEACYRPYd87b4qdHEy4ctC8uGTwKFlP36zBe8Xf7l0U78J9Nq7G9qS7s/mlAPwRaBG0zevXxj6nuikv8u+OxjSvw8rb10s/Z+H3G6foBwUh0QYDCNl2kkUHIIeAXtu0tSSPsGHxnPqy5cXKaolII3Mo+qeYRpbJo6bdS8pgE5JyQjsw/pcgK0rHLJXZpK0TTZmdrfQrbZKFjJRIgARIgARIgAQUI+IVte4tt6CBkz7oIluxMWZYbF/6C+q++5xGlsmjpt1L8yGFIPuowJB58oKwg3UUl/l3aXNt2tdansE0WOlYiARIgARIwCAG/sG1vMeeNgO3Y24CUXFnRezZ8B8+KT3lEqSxa+q1kKhiNuLHHwzLsMFlB+qp3wfnpnfCVb2mtT2GbLHSsRAIkQAIkQAIxISAJ21rKmNQsPDr2IOTZE2X58kXxDryzcxOPKJVFS7+Vxmfk4PS+Q3F0Xj9ZQW5rrMPVKxZifV1Na30K22ShY6UoEqCwLYqw2VVsCbQVtkmemJPMGHhjHtIPDnI0aRu3pZ3byj6uRsVXNXDXii3dWHRPwJJqRvZRaX5BW3yBVXa8Zf+rwc5nSuFzSLr2PwqFbbIRsiIJkAAJkAAJkECYBNoK2yRTpsQEZF5xHhIn7i/bsrRzW/3X36Ph2x/hrWuQ3Y4VtUvAnJyEpOkHIfnIQxHXW94P7VK0DV9+h8qX3wWc7Xe7prBNu2OBnpMACZAACShPoK2wzW/dlgTrkbNgGXKw7M6kndvcKz+BZ80coJnHTskGp+WK9hRYRh6JuNHHw5ReIDsSz4qP4VzwDEzuPx66lRpT2CYbISuSAAmQAAmQQNQJtBW2SZ0nx1lx36iJmJ7bR7Yv0s5t7+zYhI92b0W1q/08QLYRVtQUgXSrDSfmD8Rp/Yagf4K8DVqkAN8UQsgH1y+Hw+tpFy+FbZpKvyGcpbDNEGlmkBKBjsK2FiqZM1LR7/JcWFKCbNneAWP1gnpULqhDzU/18Da2Fy+RuLYJmBNNSJuSjMypKUiXjhvtQXEWu7H9kWLU/tzYZSsK23oAk1VJgARIgARIgATCItBR2NZiLPHQycg4/wyYk+U97dnSrmnRUjQsXobmX1bA19Qclm9srC4CpgQ77AeOQdKkA5AwWRw32oPiKa1A5TOvonn5mi5bUdjWA5isSgIkQAIkoHsCnYRteyM2jzgCtsMuA+J7tg7l3fgD3Jt+gHfLIiEu73otSvdQ9RqgLRHmQZMRJ44aNQ8Vx432pNSWwDnvEXi3/dplKwrbegKTdUmABEiABEggugQ6Cttaej8+fwBu3Gcc0oTQrSdlTukuzC3Zifmlhaj3uHvSlHVVTiDZEodpuQU4oldfzOiB8FEKa3dTA+5Y+wsWlhd3GSWFbSpPvgHdo7DNgEk3asiBhG0Sj7g0M/pd0QsZ0+UrmFs4+tw+1C1tQtWCWlT/2AB3dXtFs1F5ay3uuHQL0g9KQsbUVKSMS4AprvuzxjvFJzbwK3m3CoUvVYhd2gLv5kdhm9ZGBv0lARIgARIgAe0SCCRskyIypwoR/wVnIOGQiT0O0Of2wLlyLRqE0K3pl9/granrsQ02iD0Bc1oKEg4ci8RJ4xA/ZoSY/1p65pRX/DvokzmofvsTwOEI2JbCtp5hZW0SIAESIAF9EwgkbPNHnZDmF7eZh/+p5xC8bvh2LId74wJ4N/8kHkKo7rkNtog5AVNCOsyDp/jFbKb+B4hJe1zPfPJ54Vn6PlyLXgHcgR9EobCtZ1hZmwRIgARIgASiSSCQsE3yIUPsynXziHHiiMn+PXbJJeYJSypKMadkB74tK0SlM/BaTo+Ns0HUCGTa4vGnnD1itklZvWA19WzjHi98eHnbevxn02o0i39DBCoUtkUtpexIJgEK22SCYjXtE+hO2NYSXdIIO/LPzUbqpJ7tXtFKR+iZGjY0o/qnBtQurkfjBk4K1DxyEofFi1wnI32KOG5pmF0sFvXcW5/QMVZ8XYPiNyohHVUbrFDYFowQvycBEiABEiABElCKQHfCtpY+bEMHIe2042Aft19o3Qpxk3PzNjT9uhJNS1fAtXlHaHbYKioErIP7IWHcGCSMHw3b4AFi/tvDhzkkLz0eNHz3E2o//BLSUbXBCoVtwQjxexIgARIgASMR6FbYtheEOW8E4iadDfPAnj+A4DchfrT0lm6AZ/NieLcuhq90o5EQay5WU+5QketJsAyeBHPuMKCHP076AxZHR3nWfg33z29DOqo2WKGwLRghfk8CJEACJEACsSPQnbCtxasxqVm4aMgoTMvuHZKjkrhpdW2Vfxe3+eW78bt4zaJeAvumZohc5/t3ZxslXpvR8/U8t8+Hj8XRtC9sWQvpqNpghcK2YIT4fbQJUNgWbeLsL2YE5AjbWpyzD7Sh99+ykHlEz3dwaxugq9KD2iX1qF7UgIbVTZDes8SOgDXTgqRRCUifnITUicmQ3odavI1elH1ag5L3KuEql59XCttCJc52JEACJEACJEACPSUgR9jWYjOuXz7S/nI0EqdN6mk37ep7qmvRvFQSua2Cc+1GSO9ZYkfAkp4K24ihQsy2nxAvjob0PtTia2pC/ZwfUCt2afNWyt8FhsK2UImzHQmQAAmQgB4JyBG2tcRtyhoA6wRxfPw+h4eFwtdY5Re4ebYuga9wNaT3LLEjYErMgKlgFCxCuCgJ2qT3IRdXIzwrP4dr2XtAfYVsMxS2yUbFiiRAAiRAAiQQdQJyhG0tTg1JTsU/B47Esb17voNb28DKnc1YIARuC0p3Y1l1OaT3LLEjkG2z44D0bEzNzcdUIWiT3odaGjwuvLtzC17Zvg6ljibZZihsk42KFaNEgMK2KIFmN7En0BNhW4u3cUL4lHtCOnJOzPAfVxpucQthW8P6ZrGTW/Oe+0YHXGU8zzxcrl21t/WKQ+LQeCQNTxB3O6Td2aR8hlscu1wofrcSlXPq4G0OfORooH4obAs3A2xPAiRAAiRAAiQgl0BPhG0tNs0ZaUg56lAkH3WY/7jScIu3qkbs6LYdzi3b4di4Dc6tO+Ct4I+p4XLtqr0lJxO2Qf0RP7g/rOJuG9QPUj7DLe6iEtR+PAeN34sdX7o5cjRQPxS2hZsBticBEiABEtATgZ4I21rjTsqEdfRxsIw5wX9cadilodK/o5uvROzqJi6vtKNbfXnYZmmgCwKpuTDnDIWl1zD4d2YTF0Q+wy2+6l1wiSNHvb9/I44clf8DZUu/FLaFmwG2JwESIAESIIHIEeiJsK3Fi+x4O07vOwRn9B3mP6403FLuaMbqukqxk1sl1lSLe10VSnogigq3fyO1721PxL4pGRiZlinu4hI7skn5DLdsa6zDK9vW4ZPd29HUzZGjgfqhsC3cDLC90gQobFOaKO2plkAowraWYExCD5U2JRk5x6Qj5cBESO+VKp4GHxrXNaFxk0NcQuwm7o4dTkhHXLIEJyDlIr6fDYlD4pE42I4EScy2TwIsST3fhjVQbz6HD5Xf1aHs8xo0rOr5YlFbuxS2Bc8pa5AACZAACZAACShDIBRhW2vPFov/uMrkI6bCvv9IcWRl+A95tNj2NTbBuUkSue30C92ky72rWByh1POHBpQhpTErIhdxffJgG9gPtgF9YR3YF/FDB4rdPhKUC8ThROOPv6Lumx/8O++FUyhsC4ce25IACZAACeiNQEjCthYIZgvMgyYjbtTRMA8YL46sVHCB0tkAb/F6+Mo2w1O6SdzFVblTHGvKBUpZY1DkwpTZF6acIbDkDBYitsEw5+0D2JJkNZdTyeR2wLPhe7hWfQnf7lVymgSsQ2FbWPjYmARIgARIgAQiSiAUYVuLQ3EmEw7NKcDJfQbj4Kw8WMR7pUqd2yWOL63EutpqrBWit3VC7La1oQ4eccQlS3ACUi4GJqVgHyFik64RKekYlZaFlDhr8MYyazg8HnxZsgPv79oidt4rk9mq62oUtoWFj40jQIDCtghApUl1EghH2NY2ImuGBZlHporjLJORPEbBH486YGtcLwRuO51oLhTXLqd47fK/9tQZ8wc/S4oZ9gIbbH2sSOhr87+OF/fE4fERG3C1SxpR9UMtKr+pD2l3tq4co7AtYumiYRIgARIgARIggQ4EwhK2tbFlSUtB4mEH+YVu8SOHRYyztLObp7AYLrFDmKuoFO7dJZB2C/PWN0asTzUbNicnIq53L1h658KW3wtW6XWBELSJHdkiVZqXrkbjkqVoXPBzSLuzdeUXhW2RyhbtkgAJkAAJaJFAWMK2NgGbEtNhGXEkLIPFUZYFoyOGQtrVzVe1E77qQniqCoGqXfCK3cLgqI9Yn6o2HJ8Mc3ofIKMAlow+MKUXwJQhBG1iR7ZIFd/Wn+He9AM8674LaXe2rvyisC1S2aJdEiABEiABEgifQDjCtra9Z9nicWLvgZiWW4DxGTnhOxbAwpraKmxrqMX2pjpxr8MOcW0Xu4XVCCGcEUuaEKr1T0xBXyFik4Rs/RNSMCApFSPFTmyRKj+UF+Gbkp34rGhHSLuzdeUXhW2RyhbthkqAwrZQybGd5ggoJWxrG7g5wYzU8YlIF7u5peyfCFteXMS5eOq9aBaCN+kIU1e5G85SF5wV4rV475Tel3nEj1DaEr+Z4s2w5Vhgy46DNUdcWXHivVVce97bhYDNkqzcLiGBkuQsdqPmlwbU/FSP2mWNgqPyTxlQ2BbxPyLsgARIgARIgARIYC8BpYRtbYGa7HbYx4xAwoQxsI8aAUtuVsR5+xqa4NpdBE95FTyVNXCXV4ofVqvhEUeaeiqq4a6sFj+uOiLuh6IdxMcjLlP8IJ0lXRnih9F0xEl36X12Bqz5vWFKitxDNC2xeEor0PTbajT9sgLNK9cCTuUXHSlsU3Tk0BgJkAAJkIDGCSglbGuHwZoIc/8DhMhtMix99gdSe0WekhC2eYXgDXXl8DWIS9y90nGm4vLtveBujrwfSvYQZ4cpOdt/QVzmpCyYUnL2vE8R74WADULYFvFSWwLP9l/g2bwInp3LYHI7Fe+SwjbFkdIgCZAACZAACShGQClhW1uHEi1xmCJ2cDs0Nx+TMnohP0G5XWUDBV4rhG1bG2tR0tyEMnEVNzeK40wbUSpel4pjTYvFvTmEIzIVAx2CIbs5Dnn2BOTGi0vce9nElZAoXieil3g/MDEVqQruwBbIxd1NDfihohjzSwuxqLIEDq/yuyxT2BbCAGGTiBKgsC2ieGlcTQQiIWzrGJ8kbEsZm4hUIXJLFndbr8gL3bpi7Gv2wl0rLiGC89R54Ba7vHnq3Hs+k97XevyfS7u/uevFvWbvPczd4KRd1eKSLbCk7b2L95YUC+JSxeW/S+/jxOu9nwuxmvSZyR550VpXnJwlbtQtb0Tdb3suSdgW6UJhW6QJ0z4JkAAJkAAJkEALgUgI2zrSlYRt9pH7wL7fcMSP2kccvZQZmwQ0i6OZxM5u3gZx1YsfWqXX9eJILXH31En3evEja8v34r30WcOe78Mp0q5q5qQkmFPElSyupETx46f4LDlZzHulz6TXLXexw4f43iI+gz1yuw53F4+nrBKOVevQtGYdHKvXi6PGKsIJX1ZbCttkYWIlEiABEiABgxCIiLCtAzuTELaZhcDN0neMuI8VQrfc2NB1CWFbc514cFTs7tZc67/7xB3N0skI4nPx2rT3+5bP/fdwd4MT4jOTPVXMt/bcTeK9z57if20W97afY+/3kD632mPDqbYU3l3LhYhthbj/Bp8QtkW6UNgWacK0TwIkQAIkQAKhE4iEsK2jN5KwbWJGLiZk9hJXLnoLYVYsSrPHjWqXC7VCyF/jcoi7y3+vEQ9e+u/SZy7xnfjcfxdXrfR5mLvBSbuqpVrjkWa1ibsNe96Lu/8zcdms/rskUttztyHdaoVdCARjUYqEKHCJELD9XFmKn6tKIQnbIl0obIs0YdrvKQEK23pKjPU1SyAawraOcOJ7W5G0XwJSRiciZT874vvbNMtPD443b3WifnUz6lY1on5lkxCyKb8jRTBOFLYFI8TvSYAESIAESIAElCIQDWFbR1/jeuXANmII7PsOQ/yIwYjrk69UOLQTAgH3jt1oXrcJjt83wLF2kxCyiZ1UolwobIsycHZHAiRAAiSgagLRELZ1BGBKy4cpf6TYzW00LOKOzMgda65q+CpxzlexDd7da+ApXAlf4WohZCuOumcUtkUdOTskARIgARIgAdkEoiFs6+hM34Rk7J+RjXFC7DYuPRuDxNGZLLEjsKm+FstqyrC0sgzLqspQ2Bx5IVvHaClsi13+2XPXBChs48gwDIFYCNs6wpWO00wenSAuIXQbaUfC0HjxpGBsdivTe+K9TV40bnCgYU2TELI1CSGb2K2jQfmjRXvKkcK2nhJjfRIgARIgARIggVAJxELY1tFX6TjN+BHDxK5uQxE/fDCsg/qJXTNis1tZqBy10s7X3Azn5h1wrt+M5rUbhZhtI3yNTTF3n8K2mKeADpAACZAACaiIQCyEbZ3CFzuYmQv2E9cov9DNlDsEiIv8EegqSkP0XHE1wle6aa+QbTW8havE0e/R/2GyY8AUtkVvCLAnEiABEiABEugpgVgI2zr6KO1UNi49Bwdk5mB/IXQbkZqBBHEMJ4vyBBrFrnW/11bht5pyLBNCtqXVZagLc0c6JbyksE0JirShJAEK25SkSVuqJqAGYVtXgKRd3RKGxCPRfwmx22AbbHlWVbNUlXNCq+YocqFpkxCxiatpc7O4nDHZjU0OFwrb5FBiHRIgARIgARIgASUIqEHY1lUc0q5u1gF9YBMiN+uAvrCJ15bcbCVCNoYNnw/ukjK4tu2Cc+tOcd8Jp3gdi93Y5ACnsE0OJdYhARIgARIwCgFVCNu6gO3f1S1nkDhWfrC4D/G/NqXmGSUtCsTpg6+mCL6yzWJOthm+cnGVbYnJbmxygqGwTQ4l1iEBEiABEiCB2BBQg7Ctq8ilXd2Gp6Rjn1RxpWT4XxfYk2IDSYO9Sluv7Gyqx/q6aqwTQjbpLl2x2I1NDj4K2+RQYp1oEqCwLZq02VdMCahV2NYVFFO8GfaCOMQX2MQlzuzuE4/4/D3vbblCEW+KKcrod+4VDzOWutBc6IJjt7h2OdEsLv9rcfkcsd+JTS4UCtvkkmI9EiABEiABEiCBcAmoVdjWZVxiFzdrXjbi8nIR17sXrPm9xGvpfS9YsjPE/NdgE2CvD57yCriKSv0iNvfuErjFa1ex9F4cJ+pwhjs8otaewraooWZHJEACJEACGiCgVmFbl+ji7DCl9xZXAcxpBTBl9oEprbf/NVJzRBODzc98XvjqSuGrLvSL2LxVu/a8rt4Nr3hvcjs0MAL3uEhhm2ZSRUdJgARIgAQMSECtwrauUmEXu7j1S0wSVwr6C+Fbv+RU9E1IQn/xPs+eaLTZIsRsEUXNjdjRUIcdTQ3Y0ViL7Q314nWdELU1wOHxaGZEU9immVQZxlEK2wyTagaqJWFbsGxZc+Jgy45DXKYFVnGPz7HCmhUnXov3meK19F2aNo44dVV54C73wFXlgrPcLV674SwTV4V4XSnu4r1LfK+XQmGbXjLJOEiABEiABEhA/QQ0JWwLgtOclSHmvhmwZKTCnJku5r4Z4p4Gi/RZunRPhzk1Wf1JER56aurgrayGp7oGnooqeKTXFdVwV1WLH0hrxBxY3MWll0Jhm14yyThIgARIgASUIKApYVuwgJOzYU4WArck8RBCUhYsKeJ1chZMSdniyhRXFpCQFsyKKr73NYq5V0MFfA2V4ioD6ivgrSv3v5c+9zaIBwvEZ3opFLbpJZOMgwRIgARIQI8EtCRsC8a/V3wC8uITkRVvR6543SshETnidS/xWbYtAbn2BGRYbcHMqOL7CqcDpY4mVIirRFzS61IhYpPu5Y7m1s9U4awCTlDYpgBEmlCUAIVtiuKkMTUT0JOwTS5nq9jdzSbEb3GS6E26MuJgtptgtpphijfBYjPBZDPDLF6bxOmnZrFTnEl8J703i++ky7T3bk7cI5TzNnrhdYrt9cXlcQjtudgswusSd7Frmte55/2ez8V7l6jXLC7xvVvc3ZUuuCqEiE0I1lxCuKYnwZrcnFDYJpcU65EACZAACZAACYRLQE/CNrkspN3dWoVuGULwlpYKk90m5r9ismuz/nG3iUUzq5gb++9WMeeVrjgxFxZ3/3vxOiHB362vqUnMbd1iTit2CnY627wW7/2f7bkgLq9b3B17PveKXdU8QqzmEWI1v2BNuutIsCY3JxS2ySXFeiRAAiRAAkYgoCthm9yECcGbOTHTL3qTBHCmxAwx34qHySLmYXE2/90n3cUlFivFPR4+/136XszL2n5vTdzTq6sRPrdT7JIm5mbSTmkeMf/ytLwXi5PS5x7Hnu/Fd3BJdZxirVLcWwRsjZKITYjVdCRYk5sSCtvkkmI9EiABEiABEog+AT0J2+TSyxMCtxwhdMsR4jdJ+JYlXtvjLIg3W2ATl126W/bezeLUM/HaZhLfS3fp/d568RYzkixiDVCUBjEHdHi8cHo9aBKXU7x2+KS7Bw7xXrqaxWvpe4dXfCe9Ft83ud1CqNaEMiFWK3PuuUviNaMVCtuMlnH1x0thm/pzRA8VImBEYZtC6GhGQQIUtikIk6ZIgARIgARIgAS6JWBEYRuHhPoIUNimvpzQIxIgARIggdgRMKSwLXa42XMAAhS2cWiQAAmQAAmQgHoJGHznZcgAACAASURBVFHYpt5sGNczCtuMm3u1Rk5hm1ozQ78UJ0Bhm+JIaTAEAhS2hQCNTUiABEiABEiABEIiQGFbSNjYSGECFLYpDJTmSIAESIAENE2AwjZNp083zlPYpptUMhASIAESIAEdEqCwTYdJ1WBIFLZpMGk6d5nCNp0nmOH9QYDCNo4GNRCgsE0NWaAPJEACJEACJGAMAhS2GSPPao+Swja1Z4j+kQAJkAAJRJMAhW3RpM2+AhGgsI1jgwRIgARIgATUS4DCNvXmxkieUdhmpGxrI1YK27SRJ3qpAAEK2xSASBNhE6CwLWyENEACJEACJEACJCCTAIVtMkGxWkQJUNgWUbw0TgIkQAIkoDECFLZpLGE6dZfCNp0mlmGRAAmQAAnoggCFbbpIo+aDoLBN8ynUXQAUtukupQwoEAEK2zg21ECAwjY1ZIE+kAAJkAAJkIAxCFDYZow8qz1KCtvUniH6RwIkQAIkEE0CFLZFkzb7CkSAwjaODRIgARIgARJQLwEK29SbGyN5RmGbkbKtjVgpbNNGnuilAgQobFMAIk2ETYDCtrAR0gAJkAAJkAAJkIBMAhS2yQTFahElQGFbRPHSOAmQAAmQgMYIUNimsYTp1F0K23SaWIZFAiRAAiSgCwIUtukijZoPgsI2zadQdwFQ2Ka7lDKgQAQobOPYUAMBCtvUkAX6QAIkQAIkQALGIEBhmzHyrPYoKWxTe4boHwmQAAmQQDQJUNgWTdrsKxABCts4NkiABEiABEhAvQQobFNvbozkGYVtRsq2NmKlsE0beaKXChCgsE0BiDQRNgEK28JGSAMkQAIkQAIkQAIyCVDYJhMUq0WUAIVtEcVL4yRAAiRAAhojQGGbxhKmU3cpbNNpYhkWCZAACZCALghQ2KaLNGo+CArbNJ9C3QVAYZvuUsqAAhGgsI1jQw0EKGxTQxboAwmQAAmQAAkYgwCFbcbIs9qjpLBN7RmifyRAAiRAAtEkQGFbNGmzr0AEKGzj2CABEiABEiAB9RKgsE29uTGSZxS2GSnb2oiVwjZt5IleKkCAwjYFINJE2AQobAsbIQ2QAAmQAAmQAAnIJEBhm0xQrBZRAhS2RRQvjZMACZAACWiMAIVtGkuYTt2lsE2niWVYJEACJEACuiBAYZsu0qj5IChs03wKdRcAhW26SykDCkSAwjaODTUQoLBNDVmgDyRAAiRAAiRgDAIUthkjz2qPksI2tWeI/pEACZAACUSTAIVt0aTNvgIRoLCNY4MESIAESIAE1EuAwjb15sZInlHYZqRsayNWCtu0kSd6qQABCtsUgEgTYROgsC1shDRAAiRAAiRAAiQgkwCFbTJBsVpECVDYFlG8NE4CJEACJKAxAhS2aSxhOnWXwjadJpZhkQAJkAAJ6IIAhW26SKPmg6CwTfMp1F0AFLbpLqUMKBABCts4NtRAgMI2NWSBPpAACZAACZCAMQhQ2GaMPKs9Sgrb1J4h+kcCJEACJBBNAhS2RZM2+wpEgMI2jg0SIAESIAESUC8BCtvUmxsjeUZhm5GyrY1YKWzTRp7opQIEKGxTACJNhE2AwrawEdIACZAACZAACZCATAIUtskExWoRJUBhW0Tx0jgJkAAJkIDGCFDYprGE6dRdCtt0mliGRQIkQAIkoAsCFLbpIo2aD4LCNs2nUHcBUNimu5QyoEAEKGzj2FADAQrb1JAF+kACJEACJEACxiBAYZsx8qz2KClsU3uG6B8JkAAJkEA0CVDYFk3a7CsQAQrbODZIgARIgARIQL0EKGxTb26M5BmFbUbKtjZipbBNG3milwoQoLBNAYg0ETYBCtvCRkgDJEACJEACJEACMglQ2CYTFKtFlACFbRHFS+MkQAIkQAIaI0Bhm8YSplN3KWzTaWIZFgmQAAmQgC4IUNimizRqPggK2zSfQt0FQGGb7lLKgAIRoLCNY0MNBChsU0MW6AMJkAAJkAAJGIMAhW3GyLPao6SwTe0Zon8kQAIkQALRJEBhWzRps69ABChs49ggARIgARIgAfUSoLBNvbkxkmcUthkp29qIlcI2beSJXipAgMI2BSDSRNgEKGwLGyENkAAJkAAJkAAJyCRAYZtMUKwWUQIUtkUUL42TAAmQAAlojACFbRpLmE7dpbBNp4llWCRAAiRAArogQGGbLtKo+SAobNN8CnUXAIVtukspAwpEgMI2jg01EKCwTQ1ZoA8kQAIkQAIkYAwCFLYZI89qj5LCNrVniP6RAAmQAAlEkwCFbdGkzb4CEaCwjWODBEiABEiABNRLgMI29ebGSJ5R2GakbGsjVgrbtJEneqkAAQrbFIBIE2ET0JqwzePxorqmDlmZaWHHTgMkQAIkQAIkQALRJUBhW3R5s7euCWhN2Mb5L0cyCZAACZBAJAlQ2BZJurQtl4DWhG2cn8nNLOuRAAmQAAnogQCFbXrIovZjoLBN+znUWwQUtukto4wnIAEK2zg41EBAS8K2FWs24NuffoHD4cRBB47BIRMPUANC+kACmiBQWl6OL77+zu/rfiOHY9zY0ZrwOxQnXW433vvfZ3A6XUhIjMdfTzwOJpMpFFP+NitXr8WyFav9r4847BAU5OeFbIsNSUAJAkuWrcavK36HJc6MyeNGY8y+w5QwGxUbFLZFBTM7CUJAS8I2zn85nNVEgPNJzifVNB7V5ouW52cUtqltNBnTHy0J2zg/M+YY1XLUxaXl+GrunjXB0aNG4IAxo7oMR249LbNo6zvXD/WSSe3EoeX5IoVt2hlnevaUwjY9Z1ebsVHYps280esQCFDYFgI0NlGcgBaEbdJTkHN/WIzfVq9vF/9l552G5MRExZnQIAnokcBX877Hnfc94g/tT1MPwuzbrtdjmP6YikrK8Jczz2+Nb94n7yAxMSHkeO995D/49Is5/vbXXn4hTj7hmJBtsSEJhEvAIQSbj7/wJrxeb6upsaOG44hDJsFiMYdrPuLtKWyLOGJ2IIOAFoRtnP/KSCSrRJ0A55OcT0Z90GmkQ63Pzyhs08hA07mbWhC2cX6m80Go4/C+mPMt7n7gMX+Ehx96CO6+5bouo5VbTy+ouH6ol0xqIw6tzxcpbNPGONO7lxS26T3D2ouPwjbt5Yweh0iAwrYQwbGZogTULmyrb2jE+5/NQ3FZeae4/3H6CeiVnakoDxojAb0S4A+R/CFSr2PbaHGVlFfgpbc/6RR2Xk42Tjl2OpKT1C34prDNaCNWnfGqXdjG+a86xw29Ajif5HySfw66JqD1+RmFbRzZaiCgdmEb52dqGCX0IVQCcgVrcuuF6ofa2lHYpraM6Nsfrc8XKWzT9/jUSnQUtmklU8bxk8I24+Ta8JFS2Gb4IaAKAGoWthUWl+IDIWprbG7ukhWFbaoYQnRCIwSM9ENkbW0dLrz6enFssQtJCQl48amHYbVaQ84Ud2wLGR0bRoBAoIUwqatEux0nC3FbQV5uBHpWxiSFbcpwpJXwCKhZ2Mb5b3i5ZevIEuB8kvPJyI4w7VrX+vyMwjbtjj09ea5mYRvnZ3oaacaMRa5gTW49vVDk+qFeMqmNOLQ+X6SwTRvjTO9eUtim9wxrLz4K27SXM3ocIgEK20IEx2aKElCrsO3Xlb/j2x9+htfnCxgvhW2KDgUa0zkBI/0QqXQqKWxTmijthUOgu4Uwya7ZbMb0gw/EuNH7htNNxNpS2BYxtDTcAwJqFbZx/tuDJLJqTAhwPhk6ds4nQ2enhZZan59R2KaFUaZ/H9UqbOP8TP9jzwgRyhWsya1nBGahxMj5XijUjNNG6/NFCtuMM1bVHCmFbWrOjjF9o7DNmHk3ZNQUthky7aoLWm3CNrfHg8/n/oC1m7YGZUVhW1BErEACrQT4Q2Tog4ELU6GzY0vlCQRbCGvpcdTwwTjqTwchzmJR3okwLFLYFgY8NlWMgNqEbZz/KpZaGoowAc4nQwfM+WTo7LTQUuvzMwrbtDDK9O+j2oRtnJ/pf8wZKUK5gjW59YzEriexcr7XE1rGq6v1+SKFbcYbs2qMmMI2NWbF2D5R2Gbs/BsqegrbDJVu1QarJmFbTV09Pvh8HkrLKzvx8mHPzm0m8V9LobBNtcOKjqmQAH+IDD0pXJgKnR1bKk+g00JYy8amf/z12NppbnYmThFHk6YmJyvvSIgWKWwLERybKUpATcI2zn8VTS2NRZgA55OhA+Z8MnR2Wmip9fkZhW1aGGX691FNwjbOz/Q/3owWoVzBmtx6RuMnN17O9+SSMmY9rc8XKWwz5rhVW9QUtqktI/SHwjaOAcMQoLDNMKlWdaBqEbZt31WED7/8Fg6Hsx2vdr/XS2/a/HBPYZuqh5YhnVu1Zh3WrN+Aot0l8Hi9KMjvheFDB+OAMfsF5bGrsAhl5RUwiWMEx4waAZPJhNraOixftQa/iSveZsOwwQNxyEGTYI2L62TPJ47tXfTzUqzfuBnFpWVIsNvRt6A3Dj1kMrIyMxHKD5HLV67Bug0bsbuoBGaTGb1FPKNGDPdfwUq48QSzH+z79Rs3obGxGckpSRg6aGC31Zuam/H9D4uwY9cuVFRWIy01BUMHD8IhUyb4OXJhKhhtfh9NAh0Xwlr/ahQvfOLvyI76tgR7PP7y5+ni/we9oulmwL4obFNFGgzvhFqEbZz/Gn4odgmA88k/sHA+yT8jWiGg9fkZhW1aGWn69lMtwjbOz/Q9zmIRXWV1NX5dthKFRcUoEet1mRnp6N+3Dwb2E9eAfrBarbLcktYIf1j8MwrF+mF5VTWkB9kK8vNxyOQJSE5K7NaGXMGa3HodOwtn/bCr9bui4hIsW7kaa9duRE5OFvYbuY+stVVZIDtU4vphKNTYJhQCWp8vUtgWStbZRmkCFLYpTZT2wiVAYVu4BNleMwQobNNMqnTtqBqEbYuXrcL8n37duyfbH7g77dJGYZuux6KWg5N+gHzimReweu2GLsOQRFKXX/h3HHjA2IBhnnfpNVi7fqP/++efeABr1q7HY0//t1P9Af374J5brsfggf1bv1uzbj3u+tdj2LGzsFN96RjCO2+6Bk63G3fe94j/+z9NPQizb7s+oC/LV6zG48+8KERym7qsIwnvrrpkJvYZNiQi8YQ7FhqbmjH9uL/6zUgLhAu+/CCgyU+/nIv/PP+yX0TYsWRnZeKJB+7GWx98jE+/mOP/+trLL8TJJxwTrotsTwIhEwi4ECYsdrW7qdSRJJQ9dMp4TNx/VMj9KtWQwjalSNJOOATUIGzj/DecDOqzLeeTnfMazvw43FHC+WS4BI3VXuvzMwrbjDVe1RqtGoRtnJ+pdXRo069mhwMvvf4O3vvfZ5AeqOyq5OVm4+9nnoajj5ze5UOsUhun04Wn/vsKPvl8Tpd2JFHbqScei/PP+RssFnOX/cgVrMmt19JJuOuHHedb3332Hm6d/SC+W/BjpzgmTxiHu2+5DkmJ3Yv4ejJaON/rCS3WDZeA1ueLFLaFOwLYXgkCFLYpQZE2lCRAYZuSNGlL1QQobFN1egzjXCyFbU6XG599swAbNm/vxLvLH+c7CNs6vDVMzhhoZAnYbFbkZGbgoAljMahfQdDOfln2G2bdOhvSglV3RRKY3XXztThMiMq6Kn+/+P9ahWTHHT2jVUjVsa60W9sL/34Qw8ROcFLZIHZou/Tam1Hf0Biwe7PYBU5aAPpx8S/+Ot0J235a8ituvPM+/8JZdyUxMQEPz74dY/fbV9F4ggKXUaGxsQnTjz/NX1PiteCrD7tsJYnVpN3YuivpaWno26c3pB+bpSJH2LZ52y789OsKlFVWBeUoIxxWIYF2BKS/H9sey93x78JA4jbJyLDB/XHcEVMDLphHAzWFbdGgzD6CEYilsI3z32DZ0cf30nwyW5pPHjgGg8VDCcEK55OcT3YcIxu37sCipatQzvlksD8+qvhe6/MzCttUMYwM70QshW2cnxl++MkC0NP1wnsf/jekhynlFOmkhycfnt2pqrTWeMPt92LJr8uDmpk+7SDccdO1kNYfOxa5gjW59ST7Sqwftl2/k/yeMX0aJB+6Kvm9e+G1Z5+AtB6pVOH6oVIkaUcOAa3PFylsk5Nl1ok0AQrbIk2Y9ntKgMK2nhJjfc0SoLBNs6nTleOxErZV1dThvc/morKqpj3PAEep+StR2KarsaeFYE499ggMHhD4x0hpl6+/nDUTDY17RGVpaamYOmUipggRmUUIqhb/shQLflyC8opK//eSyOrdV5+D9ERmx9JW2CZ9Jy2YnX36yeJY0pH+3ZZWrVmLDz/9En//26ntdgy79JqbsWzFqlZzUyaOx6QDD/AfpSnt+iYdT7r0t5XtugskbKsSRxmcfPY/W58AHTF8qH9RafL4A+D2eEQ8y/DV3O+waeu21ng/fO35LheVQo1HiXEhZ2Gqrr5B5O4C1Iu7VKSFsWkidxMEu6yMDD+zBQsXY+uOne1cCiZsk0Rt0v/bWEggUgSCLYS19Ov/K1McUSz+B9LOlezMdJx63BFIS0mOlIvd2qWwLSbY2WkHArEStnH+a8yheOqxh4v5ZN+AwXM+mQrOJ9sPj01bd+L9z78x5h8YjUat9fkZhW0aHXg6cztWwjbOz3Q2kKIUTrD1wp+XLseV19/u90Za37v4gnNx2CGTkZmejsLdJdi6fTsWigdL53zzvX+97YG7b/EfKdqx/Oe5l/DGu/9rtXP8n2f41/z2GTYYq38Xa35ine6zr+bC4/H661x8/jk454xTOtmRK1iTW0+p9cO263ctTvfulYPTTz0R+wwZgtq6OhHjUnzz/UI8fv+d3Z4cEUrquX4YCjW2CZWA1ueLFLaFmnm2U5IAhW1K0qQtJQhQ2KYERdrQBAEK2zSRJt07GQth2/bCInz4+Tw4Ou4IJf0KL5X2v8H/kQMK23Q/HtUWYH5eLs45JfCxk8+99DpeeuPd1gWmF598pN0RodIXRcUlOOfCK1t3VPvL8X/GdVdc3CnUtkIwScj25EOzsf+Y7o8NlI4Kldq1lNNOPh5XXXxBJ9s33/UvfNtmG/9AwrZ/P/si3nzvI3/7vgX5ePnpRzuJ1qqra3DORVehrLzCX+/Cf5wtjk04VZF4lMq/nIWpt97/SBwf+2Jrl/ffeROmHTSpnQuSYPFcEWvh7uLWz4MJ2157/3MUFpcqFQrtkEAnAnIXwqSGe8Rtnf9ejY+34TQhbpP+HxftQmFbtImzv64IxELYxvmvccci55OcT/Z0PvmqmE/u5nxSU//T0Pr8jMI2TQ033TobC2Eb52e6HU4RD6wn87tLZ/4dZ532ly59Ki4tx46dOzFh3P6dvq+sFg+fnjmz9YSIWVdegpOOO6pTvVfefA/PvPia//PU1BR8+PrznY7rlCtYk1tPqfXDjsK2XjnZeF6cUpGTnRXxHEodcP0wKpjZyV4CWp8vUtjGoawGAhS2qSEL9KEtAQrbOB4MQ4DCNsOkWtWBxkLY9syr76Na7HTVrnS3U1tLRQrbVD2W9OicXYg/rpp5ZsDQTvrbeZAWoaRyzeUX4pQTuhbBzf1uAW6b/ZC/nrQz2NyP3oJ0PGjb0lbYNmXCeDx8721BkUpPbUpPb0pl0ID+Qoj2CKxWa6d2dXX1OHPm5a1itEDCtqNPOQdVYuFMKpKt4UOHdOnDL8tW4IpZt/q/69+vD95+8alO9UKJJ2jAMivIWZi65ua7/McmSOV4cfTrjf93WZfW16xbjwsuu671u2DCtoefeQ0ut1ump6xGAj0n0JOFMMn6Hs14++NLpU/SUpJw4dmndPp/Uc896lkLCtt6xou1I0MgFsI2zn8jk0stWLXb43HVBX8L6Crnk5xPdhwcDz8r5pMuzie18Oe7xUetz88obNPSaNOvr7EQtnF+pt/xFOnIgq0X3nDHfZi/cJHfjcfETmMTx3cWrgXz8YNPvsBDTzzjrybt5ibt6tZV8Xq9uOzam7F85Rr/13ffch0OP/SQdlXlCtbk1lNq/bCjsK07EWAwXqF8z/XDUKixTagEtD5fpLAt1MyznZIEKGxTkiZtKUGAwjYlKNKGJgj8dvxmeGo9mvCVTuqTgCXNgrEfD45qcB7xj+3nXnsfNXV7jv9rLRS2RTUP7Ewege4WqkrKynDiGef7DVksZnzzyTuwx8d3adgnjgOcceIZrbu2vfLMYxg2ZFC7um2FYIGewuxovO1ObOedfTpmnhv4R9P7H30SH3/+td9EV8K23UUl4hjSmf7vpaM4P3vvlYCQpHgOPeYUOPfuujhHCPVSkpPCjkdeVoLXkrMw9eeTz0Z1zZ6jkP/z0D0YN3Z0QMN//ftF2Llrt//7YMK2x55/QzxN6wzuJGuQQIgElFoISxdPcl90TucjSkJ0S3azwnOuhLfjHEB2a1YkgfAJmMUxvAWvPha+oR5Y4Py3B7B0WLU7YRvnk5xPdjXkH3vhTTQ3O3T4p0G/IWl9ftb89IlAc4eHD/WbLkamRgIJqbBftOe4xWgVzs+iRVqf/QQTtj3872fx/sef+4M/TjxMeVOAhym7o3PXvx7Fl3O/81cJtk7Ydte20085AVdetGe9sqXIFazJqafk+mFHYZv04Kz0AG20CtcPo0Wa/UgEtD5fnPzdh6hxcc2bozl2BNJt8fjp0JNi5wB7JoEuCFDYxmFhGALrLt6JhrVNhomXgaqPQNJIO/Z5sl/UHdtVVIr3Pp3Do0ijTp4d9pRAd0cL/Lbqd1x89Q1+k/36FuCdl57u1vw/r5yFVWvW+evcf8eNmHbw5Hb12wrbHhRPYR4snsYMVi655iYsX7HaX+2um6/FEYdNDdjkbXH05uN7j97sStgm2ZHsSWVgv754RDxR2l355xXXte4A98qzQqg3OLBQT248weKV+32whSlJmDfliBNazX327svIyswMaH7Wrffgh0U/+78PJmzjUaRys8R6oRLo0UJYgCO+421WHDdjGoYM6BuqGyG3K7n+Xjg3bAm5PRuSQLgE4ocPQu79e/6+i2bh/DeatNXVV4E49vnsAEfbcz7J+WRXo5XzSXX9GZbjjdbnZ863LoO3eK2cUFmHBCJCwNx7X9hO/3dEbHdnlPOzqCPXTYfBjiJte3KDFLR0IsLUKRPEaQv90Cs3B7165SAzPb1bHpdeczOWrVjlryOdMjBh/AEB68/7/ofWEx2mHjQJ/7qz/b935AjWJONy6im5fthR2DZPPDQsnXQRrcL1w2iRZj8SAa3PF09fMhcrayqYTBKIGYGx6Vl4c8IRMeufHZNAVwQobOO4MAyBbbOLUDGXT0QaJuEqDDTryFQMuDEvJp5V1dThvc/morJqz45JraW7ndt4FGlMcmXkTk899ggMHtD1k4I/Lv4F195ytx/PiOFD8eKTD3eL6uob78DiX5b569w66yocPeNP7eq3FbY9+9i/MHrUiKDoz734amzYuNlf7+HZt2HKxPEB20i7tUm7tkmlK2Fb23iCdtyhwlMP34v9x4wKO56e9huofrCFqYbGRhx+/Omtzb/97F0k2O0Bu7/93ocw59sF/u+DCds2b9vl/38bCwlEioDshTAh4PSZTDB1cCQ7Mx0nH3M4MtJSIuVit3YrH3sBDfMXx6RvdkoCEoGkw6Yg84rzYgKD89+YYI95p6ceJ+aT/TmfDJYIzif/ILRp6068//k3wZDxexUR0Pr8zPXlffCs45hT0ZAynCuWfWfAeuT1MYmb87OYYNd8p92tF0rBSQ9UXnn9bfhl2YqAseaJhx/2H7Uvzjv7DPQp6N2p3j8u+T+s27Cpx6wOGLMfnnx4drt2cgRrUgM59ZRcP2y7fhdnseCHr6O7cyPXD3s8vNggDAJany9ev2oRPi3aHgYBNiWB8AicmD8A946aFJ4RtiYBhQlQ2KYwUJpTL4GyT2uw4+ES9TpIz3RPoP+sXsg+Oi1mcTpdbnz2zQJs2Nx5Qrxnkxmf+EG+zU/yFLbFLFdG6tgmdjLKyczAlPFjAoraJB7fLfgRN931Lz8aSYQmidG6K9ffNhsLflrir9LVEQJthW3PPf4A9hu5T1DsZ55/GbZs3+Gv98QDd+HAA8YGbNN2caorYVvbeIJ23KHCEw/cLfoe0+7TUOLpab+B6gdbmKqursGfTzm7tbm0cCYtoAUq9zz4OD7/ep7/62DCNqmOJG778dcVKK+saj2uVanYaIcEgi2ESd9LpbOkDWJnxf447oipsMbFxQxk/Zz5qHr6tZj1z45JIPPSc5F0+CExA8H5b8zQR7Vju80mdoNNx0FiPjkowEMSkkOcT/6RFs4n2w9R/3zyl9/EfLIaTpcrquOXnfWcgNbnZ55Vn8H1zaM9D5wtSEAhAtYZ18Ay8miFrPXcDOdnPWdmxBZy1wtb2DQ1N+PF197G2+9/DLfHExCZZPe2WVdj+qEHt6tz5gWXY8u2notIxog1ymc6rFHKEaxJncupp+T6YbD1u0iPs2D9c/0w0hkwln2tzxff2bUZd/7+i7GSxmhVReDukRNwckH7U4NU5SCdMSQBCtsMmXZjBu11eLHy5C3w1HuNCYBRx5RAXJoF+70/CGZrx71cou/W4mWrMP+nX/f+FP9H/51+nO8gbPvH6SegV3bg4wOjHwl7NBIBafc1aRc2qQwbOhivPN39DwFXzJKe1PzNX/+OG6/BkdOntcMVihDs/Muuxe/rNvjtPCCOLz2km+NLP/zkSzz4xJ7jUrsStv28dLl4mvR2//fSk6JXXXyBrHSaxI5QE8bv30kYFko8sjqUUSnYwlSzw4HDjjm11dI3n7yNpMTEgJZvvfsBfDN/of97OcI2GS6yCgmETKCkvAIvvf1Ja/u2fzUGErVJf06nTR6HSQfsF3K/SjX0OpzYff618DU0KmWSdkhANgFzajLyX3gIJmvsxJ0tznL+Kzttuq7I+eSe9HI+qethbojgtD4/87kdcDz3V8BRb4h8MUiVEUhIQ/zMd2CyWGPuGOdnMU+BLh2Q1qjWiLW7tes3orS0jlkmJQAAIABJREFUHEWlpdi8ZRtKyspb401OTsLbLz4pHoz4Y537n1fOwqo16/x1zjv7dOwrTouQU/J752Fg/77tqsoRrEkN5NRTcv0w2PqdnHjDqROsf64fhkOXbTsS0Pp8sdnjxqHzP0atmw/dcHRHn0CGNR7fTTseNnPgzQmi7xV7JAGxnlVd37RnmwEWEjAAgaKXK7BbXCwkEG0CBRfmIO+MjGh3G7C/7buK8OGX38IhfvBuW1r+QvDL7yhsU02+6Aiw+vd1mHnFLD+K3r1y8OEb/+0WS9tjQx8UIrSDO4jQQhGCXXbtLVj620p/v7fMuhLHzJge0IdX33ofT//3Vf/3XQnbJIGcJJSTyqAB/fHGC/8OK82hxBNWh20aB1uYkqpOOeIE/9EQUvnwjRdEDnMDdn/VDbdjya/L/d9T2KZUlmgnVAIBF8ICHOWdYI/HiUcdhv59Oh9tEqoP4barfftj1Lzzabhm2J4Eekwg/ZxTkHLSUT1uF6kGnP9Giqx27HI+2X2uOJ/Uzlg2uqd6mJ+5F78C96I9/15kIYFoEog7eCbiDjw9ml122xfnZ6pJhe4dWb5iNW68637U1NT6Y7352itw7FGHt8Z9zU134aeff/W/v/e263HY1INCZiJHsCYZl1NPyfVDOet3IQcto6Gc/rl+KAMkq8gioIf54pObV0O6WEgg2gSuGToG5w8cEe1u2R8JBCVAYVtQRKygJwLSbm2/n78NzhK3nsJiLConYO9rw4jn+8FsN6vK05q6enzw+TyUlle286v1WFKfkLe12WCOO7apKn2Gc6ZOjNcZJ/2tNe6vPngdaWmpXXJwieODph9/OqS7VD547Xnk9+7Vrm4oP9zdLY7I/GLvEZmn/eV4XHVJ4F3W2u461pWwrV7snjTjxDP8Yi/pWM5P33kZ6emhH1UcSjxKDSI5C1MnnXUBiotL/V3ef+dNmHbQpIDdH3PKOaisrvZ/T2GbUlminVAJdFwIk0TfPlOHo7v3Gs8Vu5qecux0pCYnh9pdRNr5GppQdPXt8JS1//s+Ip3RKAnsJRCXn4e8R26FKT5eVUw4/1VVOqLuDOeT3SPnfDLqQ5IdhkhAD/Mzabe25tdnArV7/o3EQgLRIGDK6Iv4s8TO8nEJ0ehOdh+cn8lGxYphEvjvq2/jhVff9Fs567S/4NKZf2+1+O9nX8Sb733kfx9szS+YG3IEa5INOfWUXD+Us34XLLZwvpfTP9cPwyHMtm0J6GG+KO3WdtJPX6KomacwcHRHj8DAxBS8P+VIJJhjf/pC9KJmT1ohQGGbVjJFPxUj0LTVgbUX7oDPyc0KFYNKQwEJmBPN2Pe//RHfO/Zb/HflpNvjwedzf8DaTVuDZpHCtqCIWCHCBM6eeQU2bd3m7+Wk447CrCsv6bLHZ196DS+/8Z7/u5zsLHzy9kud6oXyw91Hn32Ffz32lN9WamoKXnvuceRmZ3eyvXnrdpx36f/B6dwjrOtK2CZ9fu5FV2HDpi3+OtKOctLOcoFKUXEJKiqrMGrffbqsEko8SqVLzsLUbbMfwtzvFvi73G/kPnj6kfthsXQW+37yxRzc98h/Wl2jsE2pLNFOqAQ6LYQFMDRiyEAcc8QhnY4JDrVfpdu5theiZNY9Yv7LIwyUZkt7nQmYEuzIe/R2xIkdVtVYOP9VY1ai5xPnk5xPRm+0sadIEdDL/MxbvhXON8W/aT3td9KPFDfaNTgBWyJsZz0Hc5p6dpZumxHOzww+PsMMv6m5GVu37cC++wzr1lJbYduVF52H0085sbX+gp+W4PrbZvvfS+tVzzx6f8A1OKnOD4t+xvj9RyPBbu/U55fffI+77n/E//khYr3vgQDrfXLrKbV+KGf9LsxUdNtcTv9cP4xkBoxlWy/zxY111fjrkrlweD3GSiCjjQmBJEsc/jf5KPRJVNdD2zGBwU5VSYDCNlWmhU5FmkD1wnpsvmV3pLuhfaMTELudDXukD1L2T1Q9iV9X/I55C39uPSqwK4cpbFN9GnXv4KdC9HRvG9HTPbfMwvRDD24X9y/LfsOV19/eOpalpy+lpzA7llCEYEUlpTj1nH/C4/H6zY0bOxqP3n8HrHF/PL0iLaZdcNl12LJte2uXgYRtn331DWY/9ERrPcnXv516Iszm9oKv+T8swj0PPQ7J9k3XXIGjZ/xJkXiUGjByFqa+njcfd9z3cGuX/zjrNPzz72e2c2Hr9p04/9Jr/HG2FArblMoS7YRKINhCmPTndfrBB2Lc6H1D7SJq7RqXLEfF/U9GrT92ZFACJhNy7rwG9v26FmKriQrnv2rKRvR84XyS88nojTb2FCkCepqfeTYthOvT2yOFinZJYC8BE6ynPARL37GqJ8L5mepTpDoHXW43Zt16Dxb/sgxTxekAV118PnrntT+1QXK6qqoa511+betpAk89fC/2HzOqNR5JXHn6Py5G4e5i/2d5ebl4/vEHkJ2V2S5maQfge8SJDpIQbtSIYXh49u3+h1/blp+XLvevTUolJSUZX77/epcPd8qtp9T6oZz1u0gmWE7/XD+MZAaMZVtP88V5pbtw+W8LjZVARht1AtLhXS+OPwwTMzv/HRp1Z9ghCQQgQGEbh4ZhCVR9X4et9xZz5zbDjoDIBm5OMGHQ7flIm5QU2Y4UtL6zsAT/+/JbNLYRlbQ1T2GbgrBpKiQC0iLTWTMvx/Ydu1rb9y3Ix+QDxyHOasGiJUuxdcfO1u+k3drefulpJIqdYzqWUIRtko27H3jMf1RAS0lKTMT4cWMwfMhgrF6zDstWrEKzw9Guu0DCNimeMy+4DDt2FrbWlxbDDhRPfA4T9iRx3O/rN2Lnrj+E2IdNPQj33na9YvGElIgOjeQsTEliwNP+cVHrAqFkIlfkZ+KEccjOzIAkSPx93UZ4vXtEgy2FwjYlMkQb4RDobiEsUTyZfbI4erRALHhrpTT++CsqHn8BcLm14jL91BABkz0eWddeiIRxozXjNee/mkmVYo5yPglwPqnYcKKhGBHQ2/zMs2E+XF/dJ3Zu4866MRpS+u7Waof1mNtgGThRM3FyfqaZVKnC0Q8++QIPPfFMqy82mxUjRwzHsMGDMFTsrO4V61HbxFrhZ1/PQ21tnb/eyH2G4+nH7mv3oKr0edsd1FoMDh86BBPHj/WvV61ZtwHrN26GtA4mFWm3ticevFsI3Ia3YyGJ404RD8a2lKzMTBwgRHTSw6z7DBvS+rncekqtH8pZv4tkUuX0z/XDSGbAWLb1Nl/8qngHbli9GM4Oa+fGyiqjjRSBRLFT2yOjp2BqTn6kuqBdElCEAIVtimCkEa0SaNzYjI3XFcJdzW1ctZpDNfpty4vD0Af6wN7Ppkb3uvWpvqER7382D8Vl5Z3qUdimuXTq0uGSsjJcft2t7cReXQUqiab+89Bs9O3T9WQ8VGGb9ITnZaL/tjuydew/KyMDxxw1Ha++9b7/q0DCNuk7fzzXingKg+8iKu1ydsE5Z3Ta0U2yE2o8SgwSOQtTUj+rf1+Hq264Aw2NjQG7HTNqhP9p2Hnzf/TXobBNiQzRRjgEAi2E5eVk4xQhaktOUv+urB3jd27ZgbK7HoW3Zs+iPgsJKEHAkpOFnNuugrWPOo+36i5Gzn+VGAHassH5JOeT2hqx9LYjAT3Oz7ylG+H88AagqZoJJwHFCJhSe8F60v0wZ/ZTzGa0DHF+Fi3S2u9HEpz979Mv8cyLr0EaN8FKWloqXnrqEfTu1fUDaq+9/QGeeuGVYGbQr28B7rv9Bgwa0L/LuteJXeQWiuNK25arL5uJv554XLvP5NZTYv1Q7vpd0OBDrCC3f64fhgiYzdoR0ON8cW1tFWYu+x6VzvYP1TP1JBAOgXx7Ep4bNw2DklLDMcO2JBAVAhS2RQUzO1EzAVe5B5vvKETD6j+OPlOzv/RN3QRSD0zCoNt6w5LS/ihBdXvd3jvpyagvv12I1es3t34hHbV29T/P7PQkm5bioq/6IVBTU4s33/8IH4qFq/r6hnaBSU9LHn/0DP/xox2PC2hb8YpZt4pdwlbAJI5Me/35JwIuRHVFTRK3Pf3S6/hq7ndwudo/VT9UPBE6+9ZZ2LGrENfecre/+QnHHIkbrr40YAKqq2vw1gcfdxmP1GjUvsMhidqmTBgf0EY48YQ7MhwOJ44+5Sw0NjUjIz0dX7z/akCTG8STrU++8Cqk4xbaFikP0w6ejFtnXYX/vvom3nzvI//Xd950LWb8aWq4LrI9CYRMoE78P+bJl99t137sqOE44pBJXR4lEnJHUW7oraxG2YPPwLluU5R7Znd6JGAfOxJZ11wIc7L2hJ4t+eD8V48js/uYOJ/szIfzSeP9OdBqxHqdn6G+Ao7P7oSvaI1WU0O/VUTA3H88bMfcCsQnq8irnrnC+VnPeBm9dkVlJV58/R3M/2ExKqqqOuGwx8fj1JOOxdmnnew/HrS78tPPv+J1IXBbvrLz/4+lkxaOmHYILp55DqRTHAIVaa3vsadfwLzvF0LacU0q115xEU4+/uh2TeTWkxqFu37Yk/W7SIynnvTP9cNIZMBYNvU6Xyx1NOHq337E8prOG1MYK8OMVgkCB2Xl4aExByEtzqqEOdoggYgToLAt4ojZgSYIiJPPSj+oxq4XyuBz+DThMp1UFwFzogn9Ls9F1p/T1OVYGN78uvJ3LFi0FDabDRPED5YT9h8VhjU2JQHlCUhHfkrHeO4uKoa04FmQn4d+fQqQmJigfGddWJR+EN2ybYd/h8NEcfxaX9H3oAGhPwntj0cI4oqKStAkXmeLowr6iydApSNV9VaKSkr9uauorEJ6eiqGDBogjibN1luYjEcnBBYsWYafflnhF7LNmDYZY/Ydpo/IvD7Ufz4PVa9/ADh59JU+khrdKEziqO+M809H0vSDo9txBHvj/DeCcFVqmvNJlSZGhlucT8qApOMqup2f+bzwLP8fnD++AJPbqeMMMrSIEbAlwnroJbCM/HPEuoi2Yc7Pok1c2/35fD5s3b4DJaXlqBbrdhnpaf71wjyxQ5s1Lq5HwUm7pBXuLhGnLYh1P/Fvn15i5/YhgwcizmKRbUdarywpLUNDUyP69+kj1tm7Fg/IrSd1zPVDrh/KHoAGr6jX+aIXPry+fSMe3bgCDi9PIzP4MA8p/GRx9OgNIw7AX/IHhdSejUggVgQobIsVefYbdQK1ixuROqn7XQSaC53Yek8xGtdy97aoJ0jDHaaMS8SAG/Ngy+7+H8dyxqCGMdB1EiABEiABEtAtgTIhwrSKf/Snp6VoKsbmpatgH7dftz67ikpR+ejzcG7cqqnY6GxsCcSPHoGsK8+HJTO9W0fkjMHYRsLeSYAESIAEtEpAq/Mz79YlMA+c2C12b3UhXF/eC1/xOq2mh37HgIC53wGwHnk9TMndiz7kjMEYuM8uSYAESIAESEBxAlqdLy4oK8LUnN7d8tjeWIdZqxZhVU2l4txoUL8EJmX2wv2jJiHX3v3mEPPLizAtu/sxqF9KjEytBChsU2tm6JfiBJZO34Ah9+QjbXKQLdjFhm1V39dj94vlaN7JpyMVT4SODCYOjUf+edliTCUFjap6YT02374b4+bpZJeXoBGzAgmQgJoJSMewhlv2G7kPpKMcWEiABNRLYOcpFyL7hkuRMH50906Kp9obf/oVtW99DFdhsXoDomcxJ2Ad1A/pZ5wIe7AxJTxtWrIc5Q88jb4fPBdzv+kACZCA8gQ4n1SeKS0ag0Dz4zNgPe4uWAZNChKwD54N8+H+6WX4qnYaAw6jDImAKXcIrFP+IQSTwcYU4Nn8I1yf3gH7VXND6ouNSIAEjEOgrq4e6zZuDitg6SSYMaNGhGWDjUnAiARGz30H/x57CKbl5HcbvnT+2FclO/GfjauwtbHWiKgYs0wCI1LTcfmQ0Tg0u/sxJZmbV7oLV634EauOOE2mdVYjgegQoLAtOpzZiwoILD10A2AG8s7KQv65WTAF2THaJ3ZwrZpXi90vVcBRxOOZVJBC1bhgH2hDgRC0pR8SRCQpPPa5fSh8vhwl71aJN8C47ylsU00i6QgJGJjA5MOPDzv69199zn+cAwsJkIB6Cew86QIx/zUh9ZRjkXbaceK1mAx3V7xeNC5Ygpq3P4G7pEy9gdGzqBOI61eA9L+diISJ+wft2+f2oEYccVv3ifjBVIgm+/7vhaBtWIEESEB7BDif1F7O6LE6CDQ/Oh0wmWGZcCask88Wr4MvUHrXfQvXolfhq9mtjiDohSoImLIG7BG0DZFxLLzXDdfCF+BZ+r60Wgn71fNUEQOdIAESUC+BZStW4dJrbg7LQen41o/eejEsG2xMAkYksO+ct8XP2SZcOGhfXDJ4FCwmU7cYPGLt5fOi7Xhy82rsbKo3IjLGHIDA0OQ0IWjbD4fn9gnKyOXz4jFxxO3L29ZLP2fj9xmnB23DCiQQTQIUtkWTNvuKKQG/sG1vSRphx+A782HN7f7oyJb6lXNqUfpJNRpW84jSmCYxxp2njk9EzgnpsgRtkquOXS6xS1shmjb/sfMfhW0xTiK7JwES8BO45JqbwiZx543XICc7K2w7NEACJBA5An5h295iGzoI2bMugiU7U1aHjd8vQt3X8+Fct0lWfVbSJwH72JFIPupQWYI2iYC7qMS/S5tr265WIBS26XNsMCoS4HySY4AEQiPgF7btLea8EbAdexuQkivLmHftXLhWfApf0RpZ9VlJnwTM/ccjbvRx8gRtAoGvehec/8/efYC5Udx9HP9LOl3vvuLeKcZgagCbXkMg9CS0BPJSQkmAJBAIIUCAQEgg9BZ67yW00EMNpoMBF9y7fWdf70XSO7OHDvks3amspN3Vd59Hj3Sn1e7MZ1Z3q9FvZ164VALrF/eDEGxz5rFBrRAwU2D+wsVy/W2JXaRUVlIiV1x8vpnFYlsIZISADrYFl62Lh8l12+wiw3Pzo6r786uXyuMrFsoXTeujWp+VnCkwY9hwOXrM5KgCbVpgqZra9nez3pdvW5r6QQi2OfPYsHOtCLbZufUoe0wCocE2/UJ3gVsmXDBcSncdetSt4I701KTr/t0oda82i6/VH9P+WdmeAlnlHqk4sESqDimNOgipa7ru2SZZcXutBLp0rv37hWCbPY8DSo0AAggggIAdBUKDbbr8rvw8KT/rRMmPYtStYH311KStr7wlbW99IIG2DjsyUOYYBdxlJVKw965SdMAeUQch9S7aXn5L6u97QqR7w9GuCbbF2ACsjgACCCDgaIHQYJtR0ewC8f7wPPFEM+rWdzJ6atLeWc+Jb44aHbWLUTkcfcAEK1dQLp6pPxLvtB9HHYTUL/Wp46T73dvF1fv9Rbf69wTbMuKooZIIIIAAAjYVCA226SoUZnnlb1vuJPtEMepWsMp6atJHly+U51cvkeZeZiWz6aEQU7ErcnLliJETjUBbtEFIvYNHVBDy6m+/kC6/msouZCHYFhM/K6dAgGBbCpDZhTUEBgbbgqUq379Yxp5ZJZ6iIaZmGlCNhv+2SMM7LdL4YbsKLxFys0Yrm1MKT6HbCDyW7V4kJTMKYtpo99peWXbtWmn+uD3s6wi2xcTJyggggAACCCCQgMDAYFtwU/l7Tpeyk44Rd2F0V3sGX9fx3sfS9uFn0vHZN+pL1K4ESsZLrSbgKsiT/B23k/wZ20nuDlvHVDxfbZ3U3/6AdH4RfvQYgm0xcbIyAggggIDDBTYKtn1XX/eU/SR7r9+I5ER/Aa5+qf/bt6R3wbviX/KxGjqVmSYcdfioY8EzaVfxbLKruCdOj61qzTXS/ea14l/6adjXEWyLjZO1EUAAAQQQSKXAwGBbcN+HjBwvF2y+vZSooFssy8trl8trNSvknXVrpFNNT87iHIFidSzowOO+w8fIXhUjY6rY6o42+cvcT+T99WvDvo5gW0ycrJwCAYJtKUBmF9YQiBRs06XLKnHL2LOqpWyfopgL6+8OSMtn7dLwbos0/a9VepsJucWMaIEXeCuzVJitwAizFU7LF5cnxkKpZq95okFW3Vs3aNCRYFuMrqyOAAIIIIAAAnELRAq26Q26iwul/ORjJG+3nWLefqCnR7pmzZX2mZ9LxydfiL+lLeZt8IL0C7iHlUnejttIwfTtJWfqpuqgiO1CH/Grz0HPvyaNjz0/aNCRYFv625oSIIAAAghYRyBSsM0oYV6JEW5zb7Z37AX2dYt/+efim/+e+BZ/INLZHPs2eEX6BQorVJhtFxVm203co6epIZdj7KAM+MX32VPSM/P+QYOOBNvS39SUAAEEEEAAgUgCkYJtev0yb7ZcOGV7OXD4uJgB9YhcM+tr5I21K+W/61ZKY8+GI7rGvEFekBaB6pw8FWYbJftVj5EdytTAPS5XTOXwS0DuW/qt3Lzwm0GDjgTbYmJl5RQIEGxLATK7sIbAYMG2YAkLpuTKyBMqpHjn2Eav6K+hCje1zemQhg/apPnDVulYzEmBNVo/TCnU//l81d5l0wtVexdI/iY5cRU1oEZmrXu1SdY+XC9dq4YezpdgW1zMvAgBBBBAAAEE4hAYLNgW3Fz2JhOl5KiDJXf7reLYg3qJCjd1z18k7Z/Mks7PvpKeZavi2w6vSr6A6ujK3mSC5O8wTbX3NPFOHBvfPn0+Y2ra5mdelt41tUNug2DbkESsgAACCCCQQQKDBtu+c3APnyJZO/9C3BNivwDB2IQKNwXWzJHexR+qkdw+lMD6JRkkbLequsSl23viTqq9dxZX1eT4KqC+qPbNfVV6P35MAo1Dn48TbIuPmVchgAACCCCQCoHBgm3B/W9dPExOm7yl7FExIq4i6XDTrMY6eat2lby7frXMb22Kazu8KPkCOrY2rWSY7FE5UrX3KJlSXBrXTnsDAXlOTU171+K5sqyjZchtEGwbkogVUixAsC3F4OwufQLRBNuCpcudkC0jjh0m5fvFPoJbaA17anul6cM2aZzZKm2zOxjNLX3Nb+zZW5UlhVvkSukuaorRnQrEUxzjqBQh5fe3+2XdC01S82S99KzfcN7xwapJsC3NBwG7RwABBBBAIIMEogm2BTmyxo6UkiMOlPw9dk5IyLe+XgXcvpb2T2dJ97eLGM0tIc3EX+ypKJOcTScZI7Pp8KK7sCDujQY6OqT1tfekWY3S5q9vjHo7BNuipmJFBBBAAIEMEIgm2BZkcA0bL94d1fTxm++bmExLrQq4fdQXdFOBN0ZzS4wz4VcXVYpn+BbimTxD3ONVeDE3gf7nnnbxffWS9Hz+pEhrXdRFI9gWNRUrIoAAAgggkHKBaIJtwUJNLiyWX02YKj8eEfsIbqEVW9vZLu+sXyPvqKDbl03rGc0t5a2+4Q6H5+bJNiUVsreaZnRXFV4sVSP1xbu0+XrkiRWL5f5l86S2qyPqzRBsi5qKFVMkQLAtRdDsJv0CsQTbgqXNKvdI1aGlUnlYmTFdaaJLz7peaV/QJW3fdkr7/E5pU7feuuhDUYnuP5NenzPCK/mb5kjBZrmSp0ZjK9gsL6EgW9Cua2WPrH2iXupfaxF/Z+zTzhJsy6SjkLoigAACCCCQXoFYgm3BkrrLSqTogD2l8IC9jOlKE138dQ3SvWS5dC1YKt2Ll0n3omXib+Aq0ERdw70+q7pSvJPGSs4k9SW4Go0te/L4hIJswX30rqmR5udek/a31YgvXV0xF51gW8xkvAABBBBAwMECsQTb+hkKysU77WDxbH2oMV1pwkvrevHXLhBfzXwJqJt+LG3Rh6IS3n8GbcBVMtIYhc1Tvam630Tc1ZslFmT7zi7QuFJ61JSj/jlvqClHo/+CMkhPsC2DDkKqigACCCBgO4FYgm3BylXk5MrRYybLMWM2NaYrTXSpUQGoOS0NMruxXuY018vslnpZ19WZ6GZ5fRiBMXmFskVxmUwtKZcpReq+uDyhIFtwF0vbW+T+pfPk+dXLpMPfG7M9wbaYyXhBkgUItiUZmM1bRyCeYFuw9C6PSMmMQqk8qFSKfpAv+mezFl+zXwXdOqRjYbe0LVSBt4Vd0rVCTWEae2bKrCLZajsur0vyxmdL3uQcyZ+cq27qXgXa3HmJBxGDEIGugNS/1SLrXmqStq9j7ywKBSXYZqvDi8IigAACCCBga4F4gm39FfZ4JE9NWVm43+6Su+1UEbd551b+1jbpXrhUepaskC510/e9q9cY05qyDC3g8mZJ1piRkj1ehdcmjBGvumWrQJsrN3foF0e7Rle3tP/vU2l54z3pnqu+7E5gIdiWAB4vRQABBBBwnEBcwbaggtsj7onTJWvLA9VIXzuIqR2UneoCzppvxb9Ojbhbu9C4l4YVxrSmLFEIeLziGjZO3BWTxa2CbO6qSX3Tinrzo3hxdKu4ervEN/9t6fn6ZQms/jq6F0VYi2BbQny8GAEEEEAAgaQKxBNsCxYoy+WSPStHyZGjJ8muw4aLR/1s1tLY0y2zVchtXkujzG1uUPcNsrRNnUOqaU1ZhhbIVn2rk9QIe1MKy2VzNZ3o5irEpgNt+Z6soV8c5RpdPp+8XLNcnlq5WD5vXBflq8KvRrAtIT5enAQBgm1JQGWT1hRIJNgWWiNvmUfKf1gspdMLpXDrvKRVtn1Op3Su7JYONUJYt7rXj/XN356ZJwhZpR7JGeWVnNEqxDYmWz1Wt9FqVDY1GluyluaP2qXhvWapf6M1rtHZwpWLYFuyWovtIoAAAggggMBAgYSCbSEb85QUSf5euxhBt5ypmyYNunv+YhVwq5GeNbXqfq26r1H3tRLoyMwrQt3KPWt4lWSNrJbsUdVqyqoq8Y6oNkZjS9bS+dk30v7RZ9L+7sdxjc4WrlwE25LVWmwXAQQQQMCOAgkF20Iq7MovFc+UH4pn0s7iGjUtaRSBtXMk0LBKfOomDSvFr0YKCzSqx93tSdunlTfsyisVKVWjsJWNFo+6SekocZeO7guxJWkJLPlYehe+J755b8U1Olu4YhFsS1LwP0v0AAAgAElEQVRjsVkEEEAAAQRMEEgk2Ba6+2HZOXLYiAmyR9Uo2aGs0oSShd/ErKY6WaYCbsvUCGH6pkcKW65+bvXFPkpY0gqZwg2XK/exahS2cQVFMqGgWMbkF8n4vCKZosJsyVreU9PIvlGzQl5cszyu0dnClYtgW7Jai+3GK0CwLV45Xmc7AbOCbaEV16OCFe+QL6VqNLeibfMle7h5qepIwL2NPula1SNdNT3Ss75XeurVrbZXutQ0p/rn3rpe8XfbK/ymHbMrssRbqW76Xt1y+h97JW+CV9y55o0SEsm2e22vNH3SJk0ftErz5+3qyzzzHQm22e5PBwVGAAEEEEDAtgJmBdtCAfSoYLlbT5G8HbeW3C2niKdqWNJ9/E0t0rtWhd3W1YtPTW3qa2wS3/p6dd7baPyspzYN9PQkvRxm7kA7Zg0rFXd5mXjKS8QzrEz9rB7rm/qdd+wIceUk7wKOYF18tXXS8eU30vHJLOn8aq76ktp8R4JtZh45bAsBBBBAwO4CZgXbNnBQo4K5x22nQm7TxTN6W5Hi6qQzBToaRRpXi7+lRqSlTl2Iq6YybV4nfjXNqahbQE9t6lMzUthpUY6uwmHqViFi3Feqad0rvvtZPa5QFxdkJe8i536q5hrxLftEfItmim/F5+LqNd+RYJudDkzKigACCCCQaQJmBdtC3fSoYDPUCG57Vo2UncuqZWReQdJZ67u7ZHlHq6zuaJNaNbXpenVb29mubh1Sq+7XdXdKl9+X9HKYuQPtWJ2TL9W5eVKZk6ce58nwvHypMh7ny+SiYslzJz8roE3fq1sr79Sukpn1NUlxJNhm5pHDtswQINhmhiLbsIVAMoJtAyuug21F2+RLsQq5Far77Ork//MKh+/v8EuvmuLU16LuW3q/u9ePfer3PvWz+p16vrdVr6N/p+/V79oSC3JlFbvFU+SRrGKPulePC/Xjvt95i7OM3xnPFap79Tvj9xUmzusa45HYXdMrLV+0S8uXfTcdbEv2QrAt2cJsHwEEEEAAAQSCAskItg3U1cG23KmbS+5Wm0nOlpuLp7I8LQ0Q6OxUX6y2qy9T9U2Nttum79uMm6+lTQL63vhZ/b5N3Rvrqt+3JzbNvLuoQH3hqW+F6panvvjUj9WXy+pnj35clK/u1XMF+nffPVeevCs0h8L3qXBg19fzpGP2POn65lvRwbZkLwTbki3M9hFAAAEE7CSQlGDbAACXCra5VcDNM2Zrdb+NCrpVpYeoR43qpr7MDHS1SKCzWaRLPVZTnurHgc5WEeO+pf/3Yjynfu5uS6y8ucVqivYidSsWyVVf2ubox0XqcbG6cFbfFxrPudTvRa+n71WQLW1Lc634V36hQmyz1P2XElDBtmQvBNuSLcz2EUAAAQQQiF8gGcG2gaXRwbadyqpkx/JqdauSEbnmTZ8eS83b1ahuTWqK075blzT39vQ/burulmb9exXyD94bv1M/t6j1EllKvdlSkpUj+r4o2ytFWdnG4xJvjrplS7G6larHxV6vsZ6+1+G1dC1rVBDwIxVg+7i+Vj5uqDXCgsleCLYlW5jtxypAsC1WMda3rUAqgm0DcXJGeKVgqzwpmpYvRVvlSs64bNv6OaHgnUu6pfWbTmn5ul1av+pQQbbETnziMSHYFo8ar0EAAQQQQACBeARSEWwbWK6s6krJnjJZcrfYVHKmTJKs0SPjKTqvMUmgd/lq6Zy3ULrmzJeuuQtVkE2NopLihWBbisHZHQIIIICApQVSEWwbCOAqUVNnjpyqRnObJh51L+XjLG3k9MIF6paKf/Vs8a36SgKrvlFBtrUprzLBtpSTs0MEEEAAAQSiFkhFsG1gYcaoqTO3LauQ7VXYbfvSCpmoptBkSZ/AwtZm+bxpnXxWv04+b1gnqzqTH2QbWFuCbelrf/YcXoBgG0dGxgikI9g2EFePVFY4LU/dVNBtaq7kbZKTkik2M6aRQyqqR61rn98lbbM7VJCtQwXZ2hMekc4MR4JtZiiyDQQQQAABBBCIRiAdwbaB5XIV5KmA26ZqVLdNJGezSeKdODYlU2xG4+O0dfSodd2Llkv3t4ukc+4CFWZbkPCIdGYYEWwzQ5FtIIAAAgg4RSAdwbaN7HLUaLKjtlK3LY2gm6tqcmqm2HRKI8ZSDzVqXaB24XdBtm/Ev+rrxEeki2X/EdYl2GYCIptAAAEEEEAgSQLpCLYNrEpxllcF3Cplu/JK2VYF3aYUl6Vkis0kkVp6s3rUujnNDfJl03r5XAXZPmtcl/CIdGZUmGCbGYpsw0wBgm1marItSwtYIdgWDkiP6pY3OUfyjZsKu03KluzhXktbWqpwavbUrjU90rFQhdjUrWNRp7p1p2U0tmhcCLZFo8Q6CCCAAAIIIGCGgBWCbeHqoUd1844fLdkq5OYdP0ay1WNPVYUZVc6MbQQC0luzTnqWrpTuJSvU/QrpVo/TMRpbNOAE26JRYh0EEEAAgUwRsESwLQy2Mapb5UQ1rfwkdT/ZeOwqHp4pzWJCPQMSaFojgXWL1DnZIgmsV7d1i9MyGls0lSHYFo0S6yCAAAIIIJAeASsE28LVXI/qtllRqWxerG5FZcbjUXrad5aoBNTX2bKio1W+bWmUeSrIpu/1LR2jsUVTYIJt0SixTioFCLalUpt9pVXAqsG2cCiuHLfkjsqSnFHZ6uaV3NE5kjOy7+fsqiwRV1opU79zv7qYsbZHOlf1SNdqdVvZLZ3qZjxWt0CXPh2wx0KwzR7tRCkRQAABBBBwgoBVg21hbXNyxDu8QrKGV0nWiGrxjqxWj/XP1eKpKFPnvxl2AuwPiG99nfSsqTVCbL2ra6RXPe5Zq39W04l2ddvmECXYZpumoqAIIIAAAikQsGqwLWzVs3LFVTpC3UaJu2SUuMpHi6tkhPFYiivVSzLs/Czgl0BLrQQaVxkhNn/Dyr7HjavFr3529Xal4AgyZxcE28xxZCsIIIAAAggkQ8CqwbZwdc11Z8nY/AJ1K5JxKvg2trBYxuQVyDj18/Dc/Ew7WxR1tihrOttleVuLLO9ok+XtzbKsrVU9blGhtjbp8vmSccgkZZsE25LCykYTECDYlgAeL7WXgJ2CbUPJeiuzJLsiS7LKPeJV9zmVXvEOy1KP1c/l6rF+rsQ91GYs8XxPg0961/ukp6FHutf3qse90r1O3erU43p1r37uUc87ZSHY5pSWpB4IIIAAAghYX8BWwbYhON3DytS5b5l4yorFXV6qzn3L1H2JePTvSvV9qbiLC63fKKqEvqYW8dc3iq+xSXx1DeLTj+sapbehUX1B2qTOgdW9ujllIdjmlJakHggggAACZgjYKtg2VIULK8RdqAJuBeoihIJh4ilSjwuHiaugQt3K1W2YSF7JUFuxxPOBdnXu1VYngbZ6dVsn0lon/pb1xs/69/42dWGB+p1TFoJtTmlJ6oEAAggg4EQBOwXbhvKvzsmT4Tn5MiwnV6rU4+q8fKlUj6vV7yqy86QqN0/KvNlDbcYSz9d1d0ltV4fUqVuNuunHtSrEpu/Xd3X2/84ShTWhEATbTEBkE6YKEGwzlZONWVnAScG2aJ29anS3bBV+y9KhN30ryxJ3rkvcXre4clziyXaJK9stbvXYpWY/dauR4lzqOf2zWz2nb67v7t35fUE5f7tf/N1qeH1183Wp7LkaLMLfo+7VqGn+7r6f+36vfu5R63Wqm3q+V9331vdIT50KsanAWo8KrjkpsBZtmxBsi1aK9RBAAAEEEEAgUQEnBduitdCju/UH3cpU4K2kWFy52er8V53sZnu/v89WnWZedW5s3HvVOa++ZalzYXVv/Kwe5+UZuw10dKhz2151TqtGCu7uDnmsfjZ+13cTdfP3qvuuvt/71ahqPhVW86mwmhFY0/cOCqxF2yYE26KVYj0EEEAAgUwQcFSwLdoGU4E3d365EXrTAThXfpk638oRl0edh2VlG/cBfa9uqrNS3edIwLjXz6vzstDnvfl9e+1pl0BvtxolTZ2b6ZHSfOr8yxf8WXVO6t/7uvqeV89Jj16nW/VVqvtggK1dh9hUWM1BgbVom4RgW7RSrIcAAggggEDqBZwUbItWb7gKuFWqoFulCr/p4Nsw9Tg3yyM5bo9kq1uuvvd8d+9Ws56px9ku9by+1z9/t16Oxy0FHtUHqJY2dQ7Y5fNLt98nHerWrR53BfS9T7rUz/rWqR7r57v86jn9WD3f0durgmodsk6F1dZ1993r8FqmLQTbMq3FrV9fgm3WbyNKaJJAJgbbTKJjMyYKEGwzEZNNIYAAAggggMCgApkYbOOQsJ4AwTbrtQklQgABBBBIn0BGBtvSx82eIwgQbOPQQAABBBBAwLoCmRhss25rZG7JCLZlbttbteYE26zaMpTLdAGCbaaTssE4BAi2xYHGSxBAAAEEEEAgLgGCbXGx8SKTBQi2mQzK5hBAAAEEbC1AsM3WzeeYwhNsc0xTUhEEEEAAAQcKEGxzYKPasEoE22zYaA4vMsE2hzcw1ftegGAbR4MVBAi2WaEVKAMCCCCAAAKZIUCwLTPa2eq1JNhm9RaifAgggAACqRQg2JZKbfYVSYBgG8cGAggggAAC1hUg2GbdtsmkkhFsy6TWtkddCbbZo50opQkCBNtMQGQTCQsQbEuYkA0ggAACCCCAQJQCBNuihGK1pAoQbEsqLxtHAAEEELCZAME2mzWYQ4tLsM2hDUu1EEAAAQQcIUCwzRHNaPtKEGyzfRM6rgIE2xzXpFQokgDBNo4NKwgQbLNCK1AGBBBAAAEEMkOAYFtmtLPVa0mwzeotRPkQQAABBFIpQLAtldrsK5IAwTaODQQQQAABBKwrQLDNum2TSSUj2JZJrW2PuhJss0c7UUoTBAi2mYDIJhIWINiWMCEbQAABBBBAAIEoBQi2RQnFakkVINiWVF42jgACCCBgMwGCbTZrMIcWl2CbQxuWaiGAAAIIOEKAYJsjmtH2lSDYZvsmdFwFCLY5rkmpUCQBgm0cG1YQINhmhVagDAgggAACCGSGAMG2zGhnq9eSYJvVW4jyIYAAAgikUoBgWyq12VckAYJtHBsIIIAAAghYV4Bgm3XbJpNKRrAtk1rbHnUl2GaPdqKUJggQbDMBkU0kLECwLWFCNoAAAggggAACUQoQbIsSitWSKkCwLam8bBwBBBBAwGYCBNts1mAOLS7BNoc2LNVCAAEEEHCEAME2RzSj7StBsM32Tei4ChBsc1yTUqFIAgTbODasIECwzQqtQBkQQAABBBDIDAGCbZnRzlavJcE2q7cQ5UMAAQQQSKUAwbZUarOvSAIE2zg2EEAAAQQQsK4AwTbrtk0mlYxgWya1tj3qSrDNHu1EKU0QINhmAiKbSFiAYFvChGwAAQQQQAABBKIUINgWJRSrJVWAYFtSedk4AggggIDNBAi22azBHFpcgm0ObViqhQACCCDgCAGCbY5oRttXgmCb7ZvQcRUg2Oa4JqVCkQQItnFsWEGAYJsVWoEyIIAAAgggkBkCBNsyo52tXkuCbVZvIcqHAAIIIJBKAYJtqdRmX5EECLZxbCCAAAIIIGBdAYJt1m2bTCoZwbZMam171JVgmz3aiVKaIECwzQRENpGwAMG2hAnZAAIIIIAAAghEKUCwLUooVkuqAMG2pPKycQQQQAABmwkQbLNZgzm0uATbHNqwVAsBBBBAwBECBNsc0Yy2rwTBNts3oeMqQLDNcU1KhSIJEGzj2LCCAME2K7QCZUAAAQQQQCAzBAi2ZUY7W72WBNus3kKUDwEEEEAglQIE21Kpzb4iCRBs49hAAAEEEEDAugIE26zbNplUMoJtmdTa9qgrwTZ7tBOlNEGAYJsJiGwiYQGCbQkTsgEEEEAAAQQQiFKAYFuUUKyWVAGCbUnlZeMIIIAAAjYTINhmswZzaHEJtjm0YakWAggggIAjBAi2OaIZbV8Jgm22b0LHVYBgm+OalApFEiDYxrFhBQGCbVZoBcqAAAIIIIBAZggQbMuMdrZ6LQm2Wb2FKB8CCCCAQCoFCLalUpt9RRIg2MaxgQACCCCAgHUFCLZZt20yqWQE2zKpte1RV4Jt9mgnSmmCAME2ExDZRMICBNsSJmQDCCCAAAIIIBClAMG2KKFYLakCBNuSysvGEUAAAQRsJkCwzWYN5tDiEmxzaMNSLQQQQAABRwgQbHNEM9q+EgTbbN+EjqsAwTbHNSkViiRAsI1jwwoCBNus0AqUAQEEEEAAgcwQINiWGe1s9VoSbLN6C1E+BBBAAIFUChBsS6U2+4okQLCNYwMBBBBAAAHrChBss27bZFLJCLZlUmvbo64E2+zRTpTSBAGCbSYgsomEBQi2JUzIBhBAAAEEEEAgSgGCbVFCsVpSBQi2JZWXjSOAAAII2EyAYJvNGsyhxSXY5tCGpVoIIIAAAo4QINjmiGa0fSUIttm+CR1XAYJtjmtSKhRJgGAbx4YVBAi2WaEVKAMCCCCAAAKZIUCwLTPa2eq1JNhm9RaifAgggAACqRQg2JZKbfYVSYBgG8cGAggggAAC1hUg2GbdtsmkkhFsy6TWtkddCbbZo50opQkCBNtMQGQTCQsQbEuYkA0ggAACCCCAQJQCBNuihGK1pAoQbEsqLxtHAAEEELCZAME2mzWYQ4tLsM2hDUu1EEAAAQQcIUCwzRHNaPtKEGyzfRM6rgIE2xzXpFQokgDBNo4NKwgQbLNCK1AGBBBAAAEEMkOAYFtmtLPVa0mwzeotRPkQQAABBFIpQLAtldrsK5IAwTaODQQQQAABBKwrQLDNum2TSSUj2JZJrW2PuhJss0c7UUoTBAi2mYDIJhIWINiWMCEbQAABBBBAAIEoBQi2RQnFakkVINiWVF42jgACCCBgMwGCbTZrMIcWl2CbQxuWaiGAAAIIOEKAYJsjmtH2lSDYZvsmdFwFCLY5rkmpUCQBgm0cG1YQINhmhVagDAgggAACCGSGAMG2zGhnq9eSYJvVW4jyIYAAAgikUoBgWyq12VckAYJtHBsIIIAAAghYV4Bgm3XbJpNKRrAtk1rbHnUl2GaPdqKUJggQbDMBkU0kLECwLWFCNoAAAggggAACUQoQbIsSitWSKkCwLam8bBwBBBBAwGYCBNts1mAOLS7BNoc2LNVCAAEEEHCEAME2RzSj7StBsM32Tei4ChBsc1yTUqFIAgTbODasIECwzQqtQBkQQAABBBDIDAGCbZnRzlavJcE2q7cQ5UMAAQQQSKUAwbZUarOvSAIE2zg2EEAAAQQQsK4AwTbrtk0mlYxgWya1tj3qSrDNHu1EKU0QINhmAiKbSFiAYFvChGwAAQQQQAABBKIUINgWJRSrJVWAYFtSedk4AggggIDNBAi22azBHFpcgm0ObViqhQACCCDgCAGCbY5oRttXgmCb7ZvQcRUg2Oa4JqVCkQQItnFsWEGAYJsVWoEyIIAAAgggkBkCBNsyo52tXkuCbVZvIcqHAAIIIJBKAYJtqdRmX5EECLZxbCCAAAIIIGBdAYJt1m2bTCoZwbZMam171JVgmz3aiVKaIECwzQRENpGwAMG2hAnZAAIIIIAAAghEKUCwLUooVkuqAMG2pPKycQQQQAABmwkQbLNZgzm0uATbHNqwVAsBBBBAwBECBNsc0Yy2rwTBNts3oeMqQLDNcU1KhSIJEGzj2LCCAME2K7QCZUAAAQQQQCAzBAi2ZUY7W72WBNus3kKUDwEEEEAglQIE21Kpzb4iCRBs49hAAAEEEEDAugIE26zbNplUMoJtmdTa9qgrwTZ7tBOlNEGAYJsJiGwiYQGCbQkTsgEEEEAAAQQQiFKAYFuUUKyWVAGCbUnlZeMIIIAAAjYTINhmswZzaHEJtjm0YakWAggggIAjBAi2OaIZbV8Jgm22b0LHVYBgm+OalApFEiDYxrFhBQGCbVZoBcqAAAIIIIBAZggQbMuMdrZ6LQm2Wb2FKB8CCCCAQCoFCLalUpt9RRIg2MaxgQACCCCAgHUFCLZZt20yqWQE2zKpte1RV4Jt9mgnSmmCAME2ExDZRMICBNsSJmQDCCCAAAIIIBClAMG2KKFYLakCBNuSysvGEUAAAQRsJkCwzWYN5tDiEmxzaMNSLQQQQAABRwgQbHNEM9q+EgTbbN+EjqsAwTbHNSkViiRAsI1jwwoCBNus0AqUAQEEEEAAgcwQINiWGe1s9VoSbLN6C1E+BBBAAIFUChBsS6U2+4okQLCNYwMBBBBAAAHrChBss27bZFLJCLZlUmvbo64E2+zRTpTSBIEvD1kkvmafCVtiEwjEJ+Ap8cg2z02K78W8CgEEEEAAAQQQiFFg1fFni7+lLcZXsToC5gm4iwpl1APXm7dBtoQAAggggIDNBTpvO0yks8XmtaD4thbIK5bc0561dRUoPAIIIIAAAk4WmP7WM9LU0+3kKlI3iwuUZufIB3sebvFSUrxMEyDYlmktnsH1nXf6Cmmb25HBAlQ93QIFU3Nl81vGprsY7B8BBBBAAAEEMkSg5vwrpXv+4gypLdW0okDOZhOl6qo/WbFolAkBBBBAAIG0CHQ/+hvxr52bln2zUwS0gHvEFpJ99E1gIIAAAggggIBFBY7+6HX5qqnOoqWjWJkgsE3pMHlkx/0yoarU0UYCBNts1FgUNTGBpVeskbrXuSIyMUVenYjAsB8Wy/gLhieyCV6LAAIIIIAAAghELVB//V3S9s6HUa/PigiYLVCw1wwpP+tEszfL9hBAAAEEELCtQM/LfxPfvDdsW34Kbn8Bzxb7i/eH59u/ItQAAQQQQAABhwqc//VMeWHNMofWjmrZQeCwkePlyi13tkNRKWMGCRBsy6DGzvSqrnuhSZb/sybTGah/GgXGnVctFQeWpLEE7BoBBBBAAAEEMkmg9bV3pOG2BzOpytTVYgLlvz5BCvbdzWKlojgIIIAAAgikT8D39YvS88Z16SsAe854Ae/+54hn6oEZ7wAAAggggAACVhV4fOUiuXTOJ1YtHuXKAIHLp+4oR46amAE1pYp2EiDYZqfWoqwJCfi7/PLVkYvF1+pPaDu8GIF4BLJKPLLVUxPF7XXF83JegwACCCCAAAIIxCzg7+qW1SedK4G29phfywsQSFTAXVwoI++6RlzerEQ3xesRQAABBBBwjECgt0u67viZSFerY+pERWwkkFciOac8Li6P10aFpqgIIIAAAghklkCnr1f2fOc5ae7tyayKU1tLCJR5c+StPQ6RbLfHEuWhEAgEBQi2cSxklMCa++pktbqxIJBqgVGnVsrwY8pSvVv2hwACCCCAAAIZLtD82HPS9PgLGa5A9dMhUHr8T6To8APSsWv2iQACCCCAgKUFej+8X3pnPmDpMlI4Zwpk7XqKZP3gaGdWjlohgAACCCDgIIFbFn0j+saCQKoFztlkazlpwpRU75b9ITCkAMG2IYlYwUkCerS2OSctle6aXidVi7pYXCB3TLZMuXOsuHPdFi8pxUMAAQQQQAABpwkE2jpkze8uEd+6eqdVjfpYWCBr5HAZfu1F4srJsXApKRoCCCCAAAJpElCjtXU+dIpIc22aCsBuM1HAVTZGcn5+m0hWXiZWnzojgAACCCBgKwE9WtvhH7wsazqZhcFWDWfzwk7IL5KnZvxQ8tzMvmDzpnRk8Qm2ObJZqdRgAh1LumTuqcsl0B0ACoGkC7jz3bLF3eMkZwRD/Ccdmx0ggAACCCCAQFiBnmWrpOa8v6rzX6Yw4BBJvoArL1eGX3eJZFVXJn9n7AEBBBBAAAGbCvjXL5HuR84Q8XXbtAYU21YC2fmS/fM7xF0ywlbFprAIIIAAAghkssCClkb52UevS5ffl8kM1D1FAgWeLHl2+gEyOr8wRXtkNwjEJkCwLTYv1naIQOP7rbLoz6sdUhuqYVkBl8im146Wom3zLVtECoYAAggggAACmSHQ/tEXUnfVLZlRWWqZPgGXSyovPUdyt9o8fWVgzwgggAACCNhEwLfwfel54RKblJZi2lfAJd6fXCOeMdvYtwqUHAEEEEAAgQwVeLN2pZz55fsZWnuqnSoB9XW23LPDXrJTeXWqdsl+EIhZgGBbzGS8wCkCDW+3yJIr1zJym1Ma1GL1cOe5ZOIlI6Vk5wKLlYziIIAAAggggECmCrT/71Opu+EukZ7eTCWg3kkUcOXmyLBzT5W87aclcS9sGgEEEEAAAWcJ+Oa/Iz2v/E2N3MbIus5qWYvUxpsr3oMuFs+EnSxSIIqBAAIIIIAAArEKvLJ2ufzxmw+l2++P9aWsj8CQAvlqpLZrp82Q3StHDrkuKyCQTgGCbenUZ99pF2hf0CkL/rBKehsZxjXtjeGgAmQPz5JN/jFacsdmO6hWVAUBBBBAAAEEnCDQvXi5rLvsOvE3tTihOtTBIgKeymFSefFvxTua6a0s0iQUAwEEEEDARgL+2gXS/cwfRToabVRqimp1AVdxtXgPv0rc5WOtXlTKhwACCCCAAAJDCMxtbpBTPn9b6ru7sELANIGRuQVyx/Z7yMSCYtO2yYYQSJYAwbZkybJd2wj0rPfJor+skrZvOm1TZgpqXYHiHxTIxItHiKfIbd1CUjIEEEAAAQQQyGgBf32jrLv6dumetzCjHai8OQK520yVYeecKu7CfHM2yFYQQAABBBDIRIHWOul68VIJrJmdibWnziYLuMftINkHXSSSU2jyltkcAggggAACCKRLoLarQ3735f/ki6b16SoC+3WQwC7Dhss1W+8iJVleB9WKqjhZgGCbk1uXukUvoEZvrX26UVbetU4CXYHoX8eaCHwn4M53ydgzq2TYj0owQQABBBBAAAEErC/gD0jrS29Kw0NPi3Qz9ZX1G8x6JXTl5UrZSUdLwT67Wq9wlAgBBBBAAAE7CgT84vviWen+313i6u22Yw0oc7oFsvPFu+cZ4pn6o3SXhP0jgAACCCCAQBIE/BKQh5YtkOsWzJIuP7ORJYHY8ZssVAaIosEAACAASURBVFOP/nHKdnLEyImOrysVdJYAwTZntSe1SVCgc1W3LPnrWmmfy+htCVJm1MuLts+X8RcMl+yKrIyqN5VFAAEEEEAAAfsL9Kyplfrr7pTuBUvsXxlqkDKBnGlTZNjZJ4mnvDRl+2RHCCCAAAIIZIqAv3GV9Lx8pQTWzsuUKlNPEwTcY7cT7w/PF1dhhQlbYxMIIIAAAgggYGWBZe0tct7XM+XrpnorF5OyWUxg5/JquWrLnaUqN89iJaM4CAwtQLBtaCPWyDQBNWBbw9utsvqe9dK5gqsjM635Y6lv/iY5MvLECimZXhDLy1gXAQQQQAABBBCwlkAgIO0ffCrNjz4nPavWWqtslMZSAt6JY6X0mMMkd4dplioXhUEAAQQQQMB5AgHxzX9Hej+4TwINK5xXPWpkmoCrarJ4Z/yfuCfsbNo22RACCCCAAAIIWF9Azz/2Ss0KuXnB17Kkvdn6BaaEaROYUlwqZ06eJntWjExbGdgxAokKEGxLVJDXO1YgoEZwbXizWVbfWydda5ieybENHUfFcidkyygVaCvdrTCOV/MSBBBAAAEEEEDAogJ+v7S/+5E0Pfa89Nass2ghKVY6BLLGjpLSYw+TvJ22Tcfu2ScCCCCAAAKZK6A6KP3z/is9Mx+QQNPqzHWg5hsJuIaN7wu0TWZaeA4PBBBAAAEEMlnApy5YfWnNMrll0TeyoqM1kymo+wCBTQpLVKBtK9m3ajQ2CNhegGCb7ZuQCqRCoP61Zql9vlHavmGK0lR4W3UfxTvkS+WhpQTarNpAlAsBBBBAAAEETBNof3umtLz6jnTPW2jaNtmQ/QRyt5kqhQfsSaDNfk1HiRFAAAEEHCjgn/u69Mx6QQJrZjuwdlQpWgH3uB0ka9rBBNqiBWM9BBBAAAEEMkjg+dVL5fEVC+WLpvUZVGuqOlBgxrDhcvSYyQTaODQcJUCwzVHNSWWSLaCnJl3370ape7VZfK3+ZO+O7VtAIKvcIxUHlkjVIaXircqyQIkoAgIIIIAAAgggkDoBPTVp6ytvSdtbH0igrSN1O2ZPaRNwl5VIwd67StEBe4inojxt5WDHCCCAAAIIIBBeQE9N2jvrOfHNeV2ki1E5MuI4KSgXz9QfiXfaj0WKqjKiylQSAQQQQAABBOIX0FOTPrp8oTy/eok09zIrWfyS9nllRU6uHDFyohFoG56bb5+CU1IEohQg2BYlFKshMFCg4b8t0vBOizR+2C6BLkJuTjpCPIVuKd21UMp2L5KSGQVOqhp1QQABBBBAAAEE4hboeO9jafvwM+n47Bv1JWpX3NvhhdYTcBXkSf6O20n+jO0kd4etrVdASoQAAggggAACYQX8374lvQveFf+Sj0V6mWnCUYdJTqF4Ju0qnk12FffE6Y6qGpVBAAEEEEAAgdQJvLx2ubxWs0LeWbdGOv29qdsxe0q6QHGWV/ZR04zuO3yM7FUxMun7YwcIpFOAYFs69dm3IwT83QFp+axdGt5tkab/tUpvMyE3OzastzJLhdkKjDBb4bR8cXnsWAvKjAACCCCAAAIIJF8g0NMjXbPmSvvMz6Xjky/E39KW/J2yB9MF3MPKJG/HbaRg+vaSM3VTEbfb9H2wQQQQQAABBBBIkYCvW/zLPxff/PfEt/gDkc7mFO2Y3ZgqUFihwmy7qDDbbuIePU3ooDRVl40hgAACCCCQ0QJdfp/MrK+RN9aulP+uWymNPd0Z7WHXylfn5Kkw2yjZr3qM7FBWJR6Xy65VodwIxCRAsC0mLlZGYAgBlWlrm9MhDR+0SfOHrdKxmJMCyx4z6v98/pRcKZteKMU7F0j+JjmWLSoFQwABBBBAAAEELCvgD0j3/EXS/sks6fzsK+lZtsqyRc34gqmOruxNJkj+DtMkd/tp4p04NuNJAEAAAQQQQMCRAgG/BNbMkd7FH6qR3D6UwPoljqymMyrlEtfwKZI1cSdxT9hZXFWTnVEtaoEAAggggAAClhZQZ4syq7FO3qpdJe+uXy3zW5ssXd5MLpyOrU0rGSZ7VI6UPSpGyZTi0kzmoO4ZLECwLYMbn6onX6CntleaPmyTxpmt0ja7g9Hckk8+6B68VVlSuEWulO6iphjdqUA8xYxKkeYmYfcIIIAAAggg4DAB3/p6FXD7Wto/nSXd3y5iNLc0t6+nokxyNp1kjMyWu/1W4i4sSHOJ2D0CCCCAAAIIpFygpVYF3D7qC7qpwBujuaW8BTbcYVGleIZvIZ7JM8Q9fieR3KI0F4jdI4AAAggggECmC6ztbJd31q+Rd1TQ7cum9YzmluYDYnhunmxTUiF7q2lGd60YIaXe7DSXiN0jkH4Bgm3pbwNKkEECPet6pX1Bl7R92ynt8zulTd1663wZJJC6quaM8Er+pjlSsFmu5KnR2Ao2yyPIljp+9oQAAggggAACCBgC/roG6V6yXLoWLJXuxcuke9Ey8TdwFWgyDo+s6krxThorOZPGG6OxZU8eT5AtGdBsEwEEEEAAAbsLtK4Xf+0C8dXMl4C66cfSVmf3Wlmy/K6SkcYobJ7qTdX9JuKu3owgmyVbikIhgAACCCCAQKhATVeHzGlpkNmN9TKnuV5mt9TLuq5OkJIgMCavULYoLpOpJeUypUjdF5cTZEuCM5u0vwDBNvu3ITWwuYCv2a+Cbh3SsbBb2haqwNvCLulaoaYwVdOasgwt4PK6JG98tuRNzpH8ybnqpu5VoM2dx2hsQ+uxBgIIIIAAAgggkHoBf2ubdC9cKj1LVkiXuun73tVr1PlvIPWFseEeXd4syRozUrLHq/DahDHiVbdsFWhz5ebasDYUGQEEEEAAAQQsIdDZIv6ab8W/To24W7vQuJeGFSJqWlOWKAQ8XnENGyfuisniVkE2d9WkvmlFvflRvJhVEEAAAQQQQAAB6ws09nTLbBVym9fSKHObG9R9gyxtU+eQalpTlqEFst1umVRYLFMKy2VzNZ3o5irEpgNt+Z6soV/MGgggIATbOAgQsKhA+5xO6VzZLR0re6Rb3evH+uZvz8wThKxSj+SM8krOaBViG5OtHqvbaDUqmxqNjQUBBBBAAAEEEEDA/gLd8xergFuN9KypVfdr1X2Nuq+VQEdmXhHqLimSrOFVkjWyWrJHVaspq6rEO6LaGI2NBQEEEEAAAQQQSIVAYO0cCTSsEp+6ScNK8TeulECjetzdnordW24frrxSkVI1ClvZaPGom5SOEnfp6L4QGwsCCCCAAAIIIJCBArOa6mSZCrgta++7LVW35ernVl9vBmqIlGfnyFg1Ctu4giKZUFAsY/KLZHxekUxRYTYWBBCIX4BgW/x2vBKBtAj0Nvqka1WPdNX0SM/6XumpV7faXulS05zqn3vresXfba/wmx5dLbsiS7yV6qbv1S2n/7FX8iZ4xZ3LCGxpOeDYKQIIIIAAAgggkGYBf1OL9K5VYbd19eJTU5v6GpvEt75enfc2Gj/rqU0DPT1pLmVsu9ejq2UNKxV3eZl4ykvEM6xM/awe65v6nXfsCHHlcAFHbKqsjQACCCCAAAKpEgh0NIo0rhZ/S41IS526EFdNZdq8TvxqmlNRt4Ce2tSnZqSw06JGV3MVDlO3ChHjvlJN617x3c/qcYW6uCArz041oqwIIIAAAggggEDaBOq7u2R5R6us7miTWjW16Xp1W9vZrm4dUqvu13V3Spffl7byxbNjPbpadU6+VOfmSWVOnnqcJ8Pz8qXKeJwvk4uKJc/NCGzx2PIaBIYSINg2lBDPI2BDAX+HX3rVFKe+FnXf0vvdvX7sU7/3qZ/V79Tzva16Hf07fa9+15ZYIC6r2C2eIo9kFXvUvXpcqB/3/c5bnGX8zniuUN2r3xm/r/DYUJgiI4AAAggggAACCFhJINDZqb5YbVdfpupbq/jb9H2bcfO1tElA3xs/q9+3qXtjXfX79o6EquEuKlBfeOpbobrlqS8+9eN842ePflyUr+7VcwX6d989V84Vmgmh82IEEEAAAQQQsIdAjxrVTX2ZGehqkUBns0iXeqymPNWPA52tIsZ9S//vxXhO/dzdllj9covVFO1F6lYsklsgkqMfF6nHxerCWX1faDznUr8XvZ6+V0E2FgQQQAABBBBAAIHUCrSrUd2a1BSnfbcuae7t6X/c1N0tzfr3vd/fG79TP7eo9RJZSr3ZUpKVI/q+KNsrRVnZxuMSb466ZUuxupWqx8Ver7GevtfhNRYEEEifAMG29NmzZwQQQAABBBBAAAEEEEAAAQQQQAABBBBAAAEEEEAAAQQQQAABBBBAAAEEEEAAgTACBNs4LBBAAAEEEEAAAQQQQAABBBBAAAEEEEAAAQQQQAABBBBAAAEEEEAAAQQQQAABBCwlQLDNUs1BYRBAAAEEEEAAAQQQQAABBBBAAAEEEEAAAQQQQAABBBBAAAEEEEAAAQQQQAABBAi2cQwggAACCCCAAAIIIIAAAggggAACCCCAAAIIIIAAAggggAACCCCAAAIIIIAAAghYSoBgm6Wag8IggAACCCCAAAIIIIAAAggggAACCCCAAAIIIIAAAggggAACCCCAAAIIIIAAAggQbOMYQAABBBBAAAEEEEAAAQQQQAABBBBAAAEEEEAAAQQQQAABBBBAAAEEEEAAAQQQsJQAwTZLNQeFQQABBBBAAAEEEEAAAQQQQAABBBBAAAEEEEAAAQQQQAABBBBAAAEEEEAAAQQQINjGMYAAAggggAACCCCAAAIIIIAAAggggAACCCCAAAIIIIAAAggggAACCCCAAAIIIGApAYJtlmoOCoMAAggggAACCCCAAAIIIIAAAggggAACCCCAAAIIIIAAAggggAACCCCAAAIIIECwjWMAAQQQQAABBBBAAAEEEEAAAQQQQAABBBBAAAEEEEAAAQQQQAABBBBAAAEEEEDAUgIE2yzVHBQGAQQQQAABBBBAAAEEEEAAAQQQQAABBBBAAAEEEEAAAQQQQAABBBBAAAEEEECAYBvHAAIIIIAAAggggAACCCCAAAIIIIAAAggggAACCCCAAAIIIIAAAggggAACCCCAgKUECLZZqjkoDAIIIIAAAggggAACCCCAAAIIIIAAAggggAACCCCAAAIIIIAAAggggAACCCCAAME2jgEEEEAAAQQQQAABBBBAAAEEEEAAAQQQQAABBBBAAAEEEEAAAQQQQAABBBBAAAFLCRBss1RzUBgEEEAAAQQQQAABBBBAAAEEEEAAAQQQQAABBBBAAAEEEEAAAQQQQAABBBBAAAGCbRwDCCCAAAIIIIAAAggggAACCCCAAAIIIIAAAggggAACCCCAAAIIIIAAAggggAAClhIg2Gap5qAwCCCAAAIIIIAAAggggAACCCCAAAIIIIAAAggggAACCCCAAAIIIIAAAggggAACBNs4BhBAAAEEEEAAAQQQQAABBBBAAAEEEEAAAQQQQAABBBBAAAEEEEAAAQQQQAABBCwlQLDNUs1BYRBAAAEEEEAAAQQQQAABBBBAAAEEEEAAAQQQQAABBBBAAAEEEEAAAQQQQAABBAi2cQwggAACCCCAAAIIIIAAAggggAACCCCAAAIIIIAAAggggAACCCCAAAIIIIAAAghYSoBgm6Wag8IggAACCCCAAAIIIIAAAggggAACCCCAAAIIIIAAAggggAACCCCAAAIIIIAAAggQbOMYQAABBBBAAAEEEEAAAQQQQAABBBBAAAEEEEAAAQQQQAABBBBAAAEEEEAAAQQQsJQAwbYwzTHrm7nyxaxvjGf233t3GTmiOmyjha43fcdtZbNNJluqcTOlMLXr18t/Xn3LqO5WUzeT7beZlilVt20919aul1de72uzCWNHyx67TbdtXexe8F6fT5589gXp6uqRyopyOeiH+9i9SpQfAQQQQACBIQV6envV/78Xpbu7R6oqh8mB++8d9jWh6+Xl58jPDjtYXC7XkNtnBfMFXn/rXVm1ukaysjzy08N+LDk52ebvJEO3+JX6/Pv5d59/99trNxk1cniGSlBtBBBAwFkCoX0v07acItttvWXYCtJHY412z7T+mVfffEfWrK018A87aH8pLS2xRkNQipgE6JePiYuVEUAAAQQSEAieO+h+oZ8dfrBkZ3vDbo1zjASQY3xprG0yVNvFuHtW/06APlMOhUwRINgWpqX/evUN8tKrbxrPnHf2GXL4wQeEPR5C1zvmJ4fJWaedmCnHjaXq+cqbb8ulf7vWKNPeu+8iV1x8vqXKR2E2FvjPa/+Vy/9xvfGEDoTed1tf+7GkXkB3QB16dN/frtKSEnn56QdTXwj2iAACCCCAQIoF1tSskyOOO8nY67CyMnnxyfvDliB0Pb3Cm88/Lvn5eSkuLbvTAj894VRZuWqNgfHwXTfLxPFjgTFJ4Mprb5YX/vOasbVzzzxVjjz0IJO2zGYQQAABBNIpENr3su+eu8nlf/5D2OLQR5POVvp+35nWP3PEz09RwbYaA+Dqy/8su07f0RoNQSliEqBfPiYuVkYAAQQQSEAg9NzhsXtulXFq0IxwC+cYCSDH+NJ42mSwtotx96z+nQB9phwKmSJAsC1MS1sx2KZHh3v0qX8bpd1PdUbts+eumXKMDllPPkAPSWS5Feg0tU6TpLrjtLGxSa6+8Xbx+f0yeeI4Ofn4Y62DkcKS4JBCbHaFAAIIhBGwarDt2pvvkNr1dZKrRiO74PdnMipZSNvRSZO8t3Kqg23PvvCKfPTZF0aFfvXL4zI2pIhD8o5ptowAAn0CVgy20b8Z+ehMdf9Mut8n0XzpzPGS7lYaev+p7pfnmOhrE/oVhz42WQMBBJwnEE+IKtnh+Uzvx4unTQi2mf/eTHWfKf1ZfW2Ig/nH8lBbJNgWRijaYNv9jzwpz313ZftxPztcjjzkwKG8437+8aefk+tvu9t4/RGH/Ej+cNbpcW/LaS9M9Qdop/mloz6fffmVXHHNTcaut502VS4677fpKAb7VAKp7jidv3CxnHBaX3uPHzdaHr371oxsBxwystmpNAIIWEgg2mBbc3OLnPq7840puwvy8uSeW/8pXm/4qQ7MqN5+hx4trW3txqZeeuoBKS8tNWOzjthGqjtpHIEWZSVSHWw7/+Ir5N0PPjJKd/lF58m+e2TmRVs4RHmAshoCCMQtEG2wLZV9NPRvRm7OVPfPxH1gmfRC/X9wweKl4nKJXKlm39AzOgxcOF5Mwk7iZlLdL88x0deY9Csm8aBm0wggYFmBaENU0ZxjmFXJTO/Hi7ZNol3PrHbJtO2kus+U/qy+IwyH1L/TCLaFMY822JbK5uJDW2TtVH+ATmW7sy8Eki2Q6o5TOl7ogEr2Mc32EUAAgWgEog22RbMtM9fJ9A6xwSxT3UljZrtafVsE29LTQnSApcedvSKQSQLRBttSaUL/ZmTtVPfPpLLd490Xx0u8cql7Xar75Tkm6FdM3dHNnhBAwGoCVgxHZXo/XrRtEu16Vjvm7FKeVPeZ0p/Vd2TgkPp3CMG2MOYE21J/ICayx1R/gE6krLwWAasJpLrjlGAbHVBWew9QHgQQyEwBgm32a/dUd9LYTyj+EhNsi98ukVfSAZaIHq9FAIFoBAi2RaNknXVS3T9jnZpHLgkhJuu3Uqr75Tkm6Fe0/ruCEiKAQLIErBiOIth2iqxZW2M0+WBTjFqx7ZJ1nKZju6nuM6U/q6+VcUj90U6wLYw5wbbUH4iJ7DHVH6ATKSuvRcBqAqnuOCXYRgeU1d4DlAcBBDJTgGCb/do91Z009hOKv8QE2+K3S+SVdIAlosdrEUAgGgGCbdEoWWedVPfPWKfmkUtCiMn6rZTqfnmOCfoVrf+uoIQIIJAsASuGowi2EWxL1vEey3ZT3WdKf1Zf6+AQy1FqzrqODbatXLVGPvl8lqxeu1ZaWttkeFWVjBszUnbZeUfJzvYOqhdtsK2pqVkWL11ubGuTyROlsCB/0O0uWbZCvpkzzyhTfUOTjBoxXMaNHS0Txo6RsWNGhX1tW3u7zF+wWF797zvy3EuvGuvM2HEH+flRRxiPS0tLZMK4MeYcDYNs5evZ82T2t/Nlzeoa8fn9MmpktWy2ySTZbuuthty3bot16+vE5XbL1ltOEZfLJc3NLfLF17PlS3XLyc6WTSdNkN122Vm8WVkbbS8QCMjMjz+TbxcskrW16yQvN1fGjBohe+42XYaVl0s8H6C/+Gq2zJu/QFavqRG3yy0jVH22nLKZcRtqSbQ+Q21/qOe/XbBQ2ts7pbCoQDaZOMFYXSfiP//qG5k7d4FUVg6TraZuPmjbaP/3PvxYVqm2Wd/QKFUV5apNR8pu03eMeBzXNTTI8uWrjP2NGzdayktLBy1qZ1eXzJ23wFinqrJCbX94//q9Pp/oY0pU2w4fXi0jqiuHqrbE02Zra9fLmjVro3qPrq+rlxUrV0uBeh9vqt7Pgy36fdzT0ysF+XmyqXofhFvieb8PiRDnCvqY+fSLr9VxUmuYV1VVqL+FP5BJE8ZJrB2n2mjx0mWycvVa42+Zfv9UVgyTimHlsuP22xj34Rb9Pv5KtfmixUvl6htvM1bR6172p3ONx15vlmy5xeYRaxjvfpPZNvG8jxJ1iPMQ4GUIIICAIwX0+YQ+R1yizsfX1NRKfl6ujFTn1/r8dKjz41iCbeHOvSKBdnf3yMxPPpNV+v+kumXnZMt4db4/Tp3v6/+7kT4vLFqyTBqbmuScCy+Trq5uY/N//fN5Ul7Wd761+WaTjXPgZC4tLa3y/oefyKo1a9T5Qb1UqH2PGjlCffbYXsq+K0ek/Yc7t/OrzwwL1f99fY66YuUq4/POjtttG7Ft9DnJu//7yDg/15+B9HnCNltNle232Urc6nNErJ008fyfDtbPjProbX0x6xvjvGmVqlO3atcxY0can/0mjh8X8ZwpGW3c0dkpb783U5avXCl19Y1SUlwkm0yaKLvN2NE4rmIJtulz/DnqHH/V6jWqXvpzbaOUqc+k+nxwnGrjHbbd2vi8F24JnpvffOd9ahvzjVVOOPanstP22xqPx4weGdElkf0OLEu879NwdUrkM0o8Dsk4PtgmAghYWyCR/8/RBtti7aOpb2yUTz//yvg/UKP66fT5yrgxun9T3caPVZ/vN+53tUr/ZiL9xeH6gfV522z1P+3zWV9La0ubTJo4zuhb0/214RYz+2f09pevWCWffKH6v1VbtHd0ykjVx6bPg6ervmOPxz3owZ3u/s1w+w8WONHjpae3Vz6Y+YksWb5S9SXXSlFhgdEPv9MO28oIZTTUEu78X5/HfDN3ntG3X1JUJNNUH/cWm2+60Tm63vfCRUvUut/KkmXLVZ9ntfE5YOuttlD9iIN/dxBaLqv0K5rZL6+3NW/+Qlmh+qP1ueQa9fejUJlUqn7patV3PEP1Vebm5IRtnkSOiUT2G/b8z6Rz/Hjev/QrDvXu5XkEELCyQCL9eLpe0QbbBjvHMKt/wAr9eGb1OcXTrxF0jLZNol0vtH0S6dcz47zdzL6jRN+XZvaZJtK/5rR+vXg/MyTikOixkOmvd1ywTQeorr/1Lnn7/Zmiv0wZuOgg1PHHHik/O+zgiG0fbbDt5jvulYefeNbYzuknHS/HH/OTsNvUX5zdqjrv33j7vYj73HLKpvKr//u5/GC7bTZY59Gn/i033n5PxNfpLxCef+zepB3HOnx04+13qQ/jfV88DFz0FyJnnvrLjcodut6Jvz5H5n7bF3C688Z/yGz1wf762+7eaFvjVVjqr38+3/iwH1xmz/tWLvv79UZHzcAly+ORS/90jnSrDoNL/3at8fTeu+8iV1x8fkQP/Y/+BuWpOyjCLTp499szTpHNN50ccRuJ1CfRhtKdVPsc/DNjM7qj8K0Xn5SLrrha3nr3fxtterr6EvLyP/9hg04T/Y/41rvvl+dfek30F1wDF/1l608P+7GcdPyxG3WAPf38f+SaG283XqLb/YF/XT9oda6/5S55/NnnjXWOPPhAOffs0/rX/+CjT40vbvWiO5Wuv+rSpLTZXQ88Inc/8Jix7f333l0dL30hqnDLCaf9VvRoYnq577ZrVXAz/DHw9nsfyAWXXmWsN3nCeHnwzhs32Fwi7/dBQeN4skF90XiJem988vmXYV999E8OlaOPPEQOO+Yk4/nSkhJ5+ekHw66r38N3P/iY/E994R1p0aHhgw/YX04/+Rcbddbp99wvT//9oLV44v7bVWh15AbrJLrf0I2Z1TaJvI/idYij+XkJAggg4GiBl159U/2Pf0QF2taFracOcP9OndOFBusH/k844ri+/3/DysrkxSfvD7udgede7778dETXF195Q+66/xGpWbc+7Do6QPTTw38sx/30cClWwaLQZZ9DjlIXLnRE3PYFv/+NHHLg/klpU/0h/o57H5JnXng5bBlyVDjv4AP2kzNOOSFiuG7gud1F5/9Wzvj9nzY6h9dfsB6r6n/GySf018Xn88uN6rPBsy++LLosA5dtp02Vq/96kTqP+J3ozkm9PHzXzSocNjasRyL/p4MbTKQ+ehuzvpkrN6nPHPqzTLhFB7/22WNXOfn4Y4wLnZK5vPDy66IDVLpDcOCiw4M3/uNyefTp5+SF/7xmPH3umafKkYcetNG6+rPDsy+8Ig8//ozoQEOkRZ8f62NFfxYZuPzhor/K+zM/jvjaH+6zh/zlgnM2eN6M/YZuMJH3aeh2EvlcGY9DMo8Rto0AAtYUMOP/c7TBtmj7aPSXIPc+9Lg8+eyLYfuUtORwdSHdL487Sg784T4bXLya7v5NM/qLB/YDb60C+L+/4BIjUBa6FBUVyh9/e4bsrf7XBxcz+2f0NvWXKdfdcoe898FH6vrFwEYH8cgR1XLq//3C6AuLtKSzf1OXaeD+Qy92TOR4+feLr8g96jjVbT5w0RdL7LvnrvLb00+OeOHGwPP/N194XK68+kbjwuqBi75AW/dN76X6o/XyxjvvG+uG63PV740/nXu2aXQvZAAAIABJREFU6kPfetA/Omb1XZnxl82sfnl9jOr+1HsefFwWLlkasWj6IupfHH2EHP2TwzZaJ55jwoz9hhbErHP8RN6/9CuacWSzDQQQSIdAov14uszRhqMGO8cIrXsi/QPp7Mcz6/9RIv0aQcdo2yTa9fR2zejXS+S8XZchkWPDzPeXmX2mZvSvxdOfZcZ+zXrfhm4nkc8M8TiYeVxk8rYcFWzTH/zOOu/P/V94DNawx6gPSGeddmLYVaINtunAmf5QpZfTTvyFcbX5wEV3+pz8m3NFp7ejWU5WgaKTjj+6f9XH1PZ1ECvSoq9m+vejkZ+PZp+R1tFhmPMuukJ0HQZbdMDssgvP7f8QP3BdHWYJBskOVl/IBb80Gbie7gy466ar+0fAmq9GaPv1uRdKa1t7xN3rDgn9pUkwbDNYsE131F1w6d+Mf4qDLflqFK5/XnGJGiFii7CrxVufRNoi+Fr9hac+YdKLdt9fffmjOyrDLboT68F/3Si6PnrR7fjHS66Ujz79Ysii7LPHLvIXFQLT+wgu+suwHx/1SzVSWZ/fQ3fetEEIMXSj+p/tIWrd4JdeOtAY2kGlv9DSf/j1sqMaoeGGv4cPtiXaZgsWL5Hjf3W2sR8d2vvP0w+FHRVQj3inT6yCyy+P+6nRARhuufwf1/ebn6S+jNRfSAaXRN/vQzZMDCvokSpP/90fh/zbs/uMneRd1RGql0jBNv2e2ffQo/vbfqhiHPbjA+R81Ykbuuj38wnqC+nBlqceuGODAIIZ+zW7bRJ9H8XjMJQ3zyOAAAKZJnDfw0/Kv+4NH8QOtdChnZv+8VfRF08MXKIdsS303Eufq777yjNhuV9+42257Kq+Cy2GWvQ5iT5/Dx2xYd9DjjZGKYu0/OmcM+XgH+031KZjfl7/r73w8r8PGjYKbnTbrbeUay6/qP/cMnRnoed2UzbbRHrVyLb6PCzcMvB8Xbtpv8EWPRpGjfoCt66+3lgtUrAt0f/TwTIkUp+ly1bKSb/5/UZfcoern/4sc+M/LlOj0k2Lue2ieYH+3KVHYxts0ed/Y0aP6BtNWS2Rgm13PfCoCpM+Gs1ujZE29GeFgcHS89T5/3uDBNt+tO+ecvEfN7wQwoz9Bgud6Ps0uJ1EP6PE4xAVPCshgIBjBMz6/xxtsC3aPpor/3mT6MB0NIseQfeWf17Rv2o6+zfN6i8O7QfW5zMff/ZFxD7L0P+nZvbPaFA9MvBvVP/3Wj0q/xDL2WecLEcfcUjYtdLZv6kLFLr/O274hzH7RHCJ93i5U11kco+6KHOoRY+ge9M1lxszgQxcQs//9UUZejTawfpS9Tp6NgJ9nOkvUYdarvvbX2TnH2wXdjUr9Sua2S//ubrQ/Nfn/Gkomv7n9fcM++21YSgznmPCjP0GC2XWOX6i71/6FaM+jFgRAQQsJGBGP56uTrThqMHOMYIsifYPpKsfz6z/R4n2awQdo22TaNczq18v3vN2Xa9Ejw0z33pm9pma0b8WT3+WGfs1630b3E6inxnicTDzuMjkbTkq2Hbab883ro7Xix7NasZOO8h09UFRT2miQ1rvffDxBiGPyy86T/YNuXoueCCYGWy7/Z4H5f5HnjQ2rYc6P+vU/zOm1MnJzVEjGKxUVyktk5dfe0s++/IrY+SG+267Tg1RXtV/TOok61I1hanujHrquZeM3+sh7f/v533hppLiYjXl0tBDqMd6kOsQk/5HE/yCraSkWHQARk9F5FFf6n2opljSUwXp6RsNb/W7J1QoRV99NnAJPYnQz+lRnX5x9JFqWtKpxjQ1X8+ea4wQ8UsVDAwdHeDX51xoDOUfXHR76g/+erQwPeqbnnpKu4UukYJt+srII3/xq/4r5vQXbjoUNn2H7UQPf/vhJ5/LK6+/1X/VmK7vMw/eGfaLu3jrE2sbhFs/tHMl+LyexvPonx4mm0+eLM0tLcb0V2+8/b7coEZBCx15LjShrtvgkB/tb3huvukkNYy+8lQGL77yuuhQml7CjUL4p8v+3j86nJ4O99en/DJstXTn3tnnX2I8p0eheOyeWzdYL5pOU7Pa7GcnnKaGuF9t7F+PSBHuysjHnnleblAjPQYX3cH1yD23bFQ3PQrkQT89wZgqTC8P33WTMZVUcEn0/W7GMRLchh6pTo9YF1z0CHT6b8d26kvplcrj48++lHdUoC0YVNTrDTZi26133S8PPva07K6mDD5w371ktPq7Wl1VaXTi6ikvnvz3i8bVl8Hl/tuv32hKV935skBNSab/xupFjzj590v7Oray1FSkwal1Qx3M2K/enlltY8b7KB4HM48NtoUAAgjYWeCTz2epC1ku6q+Cnt5Sn6PqoLweln2mupDhg48+6z/nmzhurDG6qg4QhS5mBtv0FGGHHnNi/z6POORH8tNDDzbO0esbm9RUqcvUZ5Q5akSyV4xRs45V521nnrrhBTb6XKVJPfcbdVFHcCrSa9QoZcGpSCdNGG+cQ5u96JHa7n34if7N6gs7Zuz0A+OChG/nL5AP1Pm2Ng8uum5/OOv0jYoRem4XfFKPtHbQAfsaU7Hq6dD1Z55VahrzO2+82pgOSi/66tAzQr7k0p8l9thlhuz4g22MqTs/Vp/h3n7vQ2kYMEJYpGCbGf+ndbnirY9+7a/OPq8/JKa/1D9Vjco9eeJ46VWj0S1S0+bOV6PYPq0+++hp1vUXuLf888qwF14k2tb6S/Qjfn6ytKp7veiLXfbQ7xV1/q9HKdSfo959/0M1RdeKDXYVKdimL1g5Sp1X52TnqFE0DpWpKmw4etQI9XO21KnPWp+qadDuV6HTuoYGY3v6nDF4nhfcgX6uVgUUr1UjzOjPH3rRF3bN2KlvdDf9OXjg1G1m7Fdv24z3qd6OGZ9R4nFI9Hjg9QggYC8Bs/4/mxlsC+3n0eckp6vRV/fabbroEZZWra5RUy4uk/fVedhrKqyu+9n+cfmfjT6I4JKu/k29f7P6i0O/IAvW6yA1Mt1uO+8o5eVlxhTsTz//kpoKdKwxg0JwMbt/5iR1AXVwSm99wbM+39pZ9W9WqD6WT41zp5nqHO7T/v0PvNg0+EQ6+zd1GQb70jme4yV05EG9/T13m2F8Tth+261k1aq18uGnqt/z5Tf6L8KNNINEuL5X3Wf/i6OONKYe9fl6Vb/0Annw8afCjnas+2mP+9kRRv91S2ur0bf9uOp3DPa36n5SfQFA6MXEwTYxq+/KjL94ZvbL65HT9Dmyninj8B//yOiPHj1yhBo1r0SdWzWp984SuVd9f6L7y/Si+ydfeOK+DYziOSbM2G/Q0qxzfDPev/QrmnGEsw0EEEiVgFn9eLq80Yajhgq2mdE/kK5+PDP+H5nRrxE8fqJtk2jXM6tfL97zdjOODbPeW2b3mZrRvxZPf5YZ+9WmZrWNGZ8Z4nEw67jI9O04Jtg28J/jn9R0PXp0sNBFD+N/6tnn90+LGemLLjODbaGdJ3fffI3xATjcoqfb86qOIT11S7jlcTU9THD6zkhfKJl5MId2oukOq3tuuXaj0bn0KFfHn3p2/9WJkcoVehKhg2y3XHOF6BEfBlsGDqt9lJouUQ8TP3C5UAWt/hsyDWekYNtN/7pHHnmyb3Q9PdWhDhAGRzILbrNRffF4vJqOMjhUvR6xS4/cNXCJpz5mtc3AzhXdgXWnGuVOB4QGW/Q/jiOPO6V/9L3zzj5DDj/4gI1eokOYuhNFL7rT5pmH7txgNBE9Mt65f77ceL5K7fPZR+7e6Iti/dzlKrj0HzVFmF7CjWYYTbDNrDYLBqN0WfQ0q7//za82qrf+QlWfJIQuj997m+gvy0OXb+bMk1POOs/4lR795dG7NwzsmfV+T/R40Z3IB/30+P4pp/Tfnduvv2qjL02fVmHZa276V//uBgu26SslatTVp4NNl3XWeRf3T3saaco03Ymlp32NZDiw7mbt14y2Met9pOsYq0OixwSvRwABBJwiEPr3XP+fvvdWdU6Xl7tB9d55f6b88S9/6/9duItZzAy2hX4OmbHjDvLPKy8Oy63P4/SXwrvN2HmjKd+DL9hPjZAaHK34paceML4sTtYy8EKWA/bZUy65YONpw0Onl490McvAIJgeUfnvl104ZGArdOj2QhV2e+BfN2xwkY/xP1N9wXXymX/YYJrScME2M/9Px1sfHUrc55CfGV9c6vOqZx6+M+z0rfpiCf3lqr4IJVltPHC6pqvUxQR7qLBZ6KIvYtLnZXrkiOASKdimn1+2fKVUqy9r9Yhs4RZ9kZl+j+pFfz55/rHwo5acf/EV/SMGR7rYLHT7ZuzXrPepWZ9RdP1idUjW3wK2iwAC1hIw8/+zmcG20H5CfZGjvtgx3KKn2Fu+YoVx0UG4JdX9m2b2Fw/8guxXvzyu/8LjSEeR2f0zof1y+qLuu25WM1+oAFXoosM8v//TpcZFvHr5wXbbGCPEDlzS2b+pyzLUl856nViOl/874/cyb/5Co5r77rnbBuHCYN2//HqOMXKYPhfTy7+u/7tM23LKBjQD+171BQH33nbtRn2v+vzk+NPO3mBmkE03mSS3qpEKQ0dm1hvXQcNz/vR9G/zziouNC/IHLmb0XZnxF83sfnldpuDIy+FGydPP6799R5/46/4LWp64/3ajD3/gEssxYdZ+zTrHN/P9S7+iGUc620AAgVQImNWPp8sabThqqHMMs/oHdJlS2Y9n1v8jM/s1om2TaNYzs18vnvN23Z5mHhuJvr/M7DMNlsWM/jW9rVj7s8zYr1ltY9ZnhngcEj0meL2IY4Jtl/39OnlZjbill73UcPBXXtzXoT5w0SnqE079bf+ICuHCZmYG2/Y//FgjRaqXd/7zdNwjLcT6oS3Rg/vwY08U3Rmll3POPFV+cuhBYTf5+lvvysVXXGM8p4Nir//70Y2CTqEnEYN92Re6g4efeLZ/+HY9ItZ9qgNBd9gMXLTtcaec2R9GixRsO/Anx/d/MNbb0qNXhVtC/zCGG2lMvyae+iTaHsHXD+xcGawzMXSfTz//H7nmxtuNX+krZvWVs+EW3bGjRwr54qvZxtP6ClPdGRRcdIfcYUef2D8Sw83X/HWjqZP0yZUOVekvynSQ8dlH7pLqysoNdhdNsM2sNtOdWvoflV6GD6+SZx/6fmQ2/bumpmY5UJVX112P5KdDpnoJZxt65aQeNVF3YoYuZr3fEz1edB1O/PU5xmZycrLloTtuMkbUCLecc+FlamSbvit5Bwu2RVOmZ55/Wa6+8TZj1eOP+Ykx6t/AJRkdL9Hs14y2Met9pE2S4RBNG7EOAgggYGeB1Wtq1Ai8fVOH6xEO9Hm8/vIo3PL362+Vf6sR0vQS7vzTzGDb488+Lzr8Ndj/v2jdU9kh9uIrb8gV19xoFE2PLP3gHTds9CWcfk5Ph3aSOq9YuGSpsW64c6SBQbDBLugJWuhzr/0PO7Z/hOi/XHCO/FCNqBxueejxZ+SWO+/rfypcsM3M/9Px1EcXTk+/evyvzjbKueUWmxmj06VrCT3HO0Rd8KUvOgi3zJ73rZz8m+9HlRks2BZNXQ5Sn7t0Z6Re3n7pKeNcdOASaweYGfs1631q1mcUXadkOERjxToIIGBtATP/P5sZbNMXDeiLB/RyvZohQI92Fc+S6v5NM/uLQ78g0xeDPv/ovWH/z4W6mN0/82c1hfyb7/zP2MXZp52oRlE9LGwz6P/Fx6iQkA4L6eXFJ+83RmwNXdLZv6nLMdSXznqdaI+XJWq2k2NP+rVRPX0h7sN33yKFBflhbUJDmvqiX33xb+gysO/1wnPPkh+rUfHCLdfefIcxg0FwGTilauhrzvzDn9UIt30zj5yl2u6YMG1nRt9VPO/Lga8xu18+2jJddPk/5I133jdWj/R3JtpjItp96vWG2q9Z5/hmvn/pV4ylhVkXAQTSJWBmP56uQzThKL3eUOcYZvUP6H2lsh/PrP9HZvZrRNsm0axnZr9ePOftuj3NPDYSed+Z3WcaS1mc3K9n5mcGbUq/XixHljnrOibY9pPjf9V/pbm+Ck1fjRZpCZ379rennyRHHXnoBquaGWw77uQzZbGafkgvegQEPRJCPEsyPrRFKkfNunVy2DEnGU97PG554/nHI16Vr68C3P+wY/pHlgg3/WDoSUSkkcIGliV0JLYTf3G0nHLCsRHZrrruFnnupVeN58MF20JPnnQnju7MibTo+ux50E/6r7Z7TQX1glMlBV8TT33iafNwrxnYuaKn+BxsBK3gNkI78oZqg9BR2/Q0Q2ef1ncsBJfQNL/u2NEdPKHLW2oEPT1lqV4iXRU6VLDN7DY7XE3DtFZNgaWX+/+lpsgMuZo1tKNXT1V66VXXGVcRbjllUzUaXl9oM7j84pSz+r/UfUB9+Ttw6kyz3u+JHi+hI7HpacBuvfb7UWsGbvu1/74rl1zZV89Eg23vzfxY9N9XvRyopuO46A99X+yGLsnoeIlmv2a0jZnvo2Q4JHrc8HoEEEDA6gIvq6mtLrvqWqOYemQFPcJCpEWP8nXC6b8zni4qKpRXn3nYCNwHFzODbaHnPnr05TvVyBmRRrQayjiVHWJX/vMmeeHl140i6VGK9WjFkZbHnvq33HD7PcbTekonPRpb6BJ6bjfU+XbwdYvVtJzHndwXttJBxf+++ETYC1n08+vr6uXgo37Zv8twwTYz/0/HUx9dOH3BxAFH/twoZ15urjFK9MARgIc6Bsx6/kdH/kIam5qMzYW7GCV0Pz/75WnG1Kh6STTYpt93wWmknnn4ro1G4NP7SEbHz1D7NeN9avZnlGQ4mHX8sB0EEEifgJn/n80Mtv1Tjfb+lBr1XS96hgw9U0Y8Syr7N3X5zOwvDv2CLNKIYANNzO6fCb0Qeag+wbPPv8QYLVgvA6eG1b9LZ//mwP1HCoRFe7yEBkKHapuvZ88zpsXUi75I5n51vha6DOx7jXQ+o18T2qemz/3efOHxDT5zhG73jvselnsfetz41WE/PkDO/+2GgTr9ezP6ruJ5Xw58jZn98rGU54bb75bHnnrOeMmfzztbDtp/n41eHu0xYeZ+zTrHN/P9S79iLC3MugggkC4BM/vxdB2iCUdFc45hRv9A0DSV/Xhm/D8yu18j2jaJZj0z+/XiOW/XbWrmsZHI+87sPtNYyjJU/5reVjL6s4barxltY+ZnhmQ5xNJWmbiuY4Jtu+x/WP8w4i8+cZ9EGtZaN3LoqEtHHa6muPz1hlNcmhls+8cNt8qzL/SNFqG/TNtl5x/IdmoaTh1G0tOzjBo+fKMpMcMdiMn40BbpgNfDsp/+uz8aT+svYvSUjIMtoXN6X/WXC2SPXadvsHpoR8nVaqSwXdWIYUMtoVNDXnbhubLfXrtHfEnoF23hgm2h81BPGDtGrlVXlg5an7P+0D8C3MAQ1MCTomjrM1R9o31+YOfKmyp0OHBK1XDb+vU5F8rns742ntKjNey4w3YRd/nm2+/1j5a3u5qu6O9q2qLQZdGSZfJzNUqeXvTQ+i89+cAGV6j+8VJ1Fe97fVfxRgpzDhVsM7vNQk9idEhShyWDS/CqY3217X+efFD+efPt/e/ZFx6/TyqGlRurhn4BrofC10PiD1zMer9HezxEWu+uBx6Rux94zHg6UmdZ8LWhX/zHEmzTU2w1NjWqacH6pm/Qy0effCY6aKqXA/ffWy46r2/K0dAl0Y6XePdrRtuY+T5K1CHRY4TXI4AAAnYU0F8E6S+Eovn/1tPbK7sf8P0UWa89+4gRcAsuZgbb9LaOOuHU/qky9Tn+/nvvLpMnTVChnmo1akS5MSJaNEsqO8RCR40Y6nxbfymqvxzViw7264B/6BJ6bqdHRtYjJA+16HNT/b9VL9F85tj3kKP7R3cLF2wz8/90PPUJ1veo/ztdTcG2yvhRf8G57167yRZqVOAxo0eqkVLKZdSo4UNO0TqU3VDP64t1Zuz3/cVbQ30+Dr3wK5Zgmx6huaW1fYPi/O6Ci2XpspXG75556M6wx36iHWDx7NeM96nZn1ESdRjqOOB5BBCwp4CZ/5/NDLaFztigZfX/+91n7CgTx4+V6qpKY6rqaKbXTmX/pi6nmf3FoX1LerQtPerWUIuZ/TP6/7uuj77Xy0N33iQFBQURi3DDbXfJ2+99YDx/9v+zdx9gkhTl44ALlAySM5IkCoggIEFARVEk5wySMxxBQKLknKNw5JyzAj9QMaGgoEhGQVByFpQk+O+v7z/L7N7Mzuxu3YTbt56HB7juqfBWz03PN19X7bh12mCt1XqdO5h4baPxDuR4o9VUoq5mr5eIgYV1lHgId6vN6j8g/fIrr/ZsnT7ppJOUu49Ul+rYazzw/avbb6ibrFa9DXvsOHLZyNPqEsRD2ZWYWXxXOGS/vUY7N0fsaiBzUO/cnHH5em3EqtBvFnHF//3v04ePzivmMH5wjHJA8bDsysVDs31Ls9dE7naHeo+f+/0rrpjjSlcHAQJjWiBnHC/62kxyVJzX6B4jR3ygYtfKOF60OdTPo9xxjWbnpJnzcsb1BnPfHr45r42hvL9yx0zr9WUw8bWoa6jxrMG0m2Nucn5nyOEwlGtkuL52rEhs+89776cVVl2vZw7jaf/4EaFeueTK69KZI0et2hVfkOKLUnXJmdgWGdQbbbVzz3YsffsUyW5fKL74LrnEomnzjdaru0z6UL+0DeQC/83v7k97HXBY+ZLYmvH8M07o9+W7//BH6Xf3P1CeE4kskdBSXapvImJljVhho1Gpzsw94YiD0tJfXazuS6oDA7US26rH06jdvsfPPOHItEiRiDjU8Qy03XrnVwdXYmWLX91xQ1NVV+8Z3dQL/v9Jiy68UDrjhCNGe0n1nB524N7pW8t/rTznnXf/XW5D+tFHH5VJb7cUSaa13ouNEttyz9nDjz6ettl11NOY880zV7rgzFE/tr7/wQdppbU2Kf9dWWHs9394MI3Yd9QPtz/YdYe01morlf9dvQxuvW02c73fBzJHtc6tfsJx4/XWTDtvu0XdKmN1jlilI0qjxLZwvLx4cvKxYsuqV4uVUyLJrF7JmdiWo90cc5PzfSQANdSr3OsJEBiOAtWrxjb6fAuf5b+3ds8qvNdfdl6RZPbp1ug5E9uirepgXa25iQT6BeefN21QrBS9+KIL152+VgbEqj/XGt1vP/zYE2mbXUZtVxlJepGwVF2q7+3qrdjbd9DVK642850jVmyLldui1Epsy/k5PZjxVMYXQcKd9tq/50fnvuOOrTnnK1YH+fY3l09rFqt1jDvuuNnfzhEgikTASmn0/ThW740VR6L0l9gW9d50253p9v/7eRHse7ln1e56A8iV2Jar3aG+T3N/RxlqIDD7haNCAgQ6QiDn53POxLZIythtn4PS/Q/8ua7TDDNMlxZZ8IvFw4QbpllmnrHmea2Mb+aOF1f/QBYr3caKt41KzvhM3/E0arv6+NZFotdWm316bxDHBhOvHUibjc5t9KNzvL7Z66X6e0Kjdvsev/eum3v9UXXsdbzPfjb98vbr61ZZvaX73MXuEBcXu0TUK7fdcXeK3xyi1EtsyxG7Guj4a52fMy5fqT9iiD//9W/T9cXKj88+93zd30oq5+dKbMvV7lDv8XO/f8UVc1zp6iBAYEwL5IzjRV+bSY7qe49Tb1XYocYHKnatjONFm0P9PMod12h2Tpo5L2dcbzD37ZU5zXVtDOX9lTtmWulLrvjaQONZudod6tzk/M4QpgN1GMo14bWjBMaKxLbq5TdjUJHsE0k/9Ur1l+Jay5PnTGyLPsQPZyefcU765W9/3+91FytDnX7c4TW3lmz2i3yOC7t6OcdG2zz1fePW2uaymUBF335vXCQDPv3sc+UfN9patjpQVyuxrXo8A/WJrSn7/vg4mPEMtN165w8kuFJdR/VS9gPpy8JFEuLZNbb5uubGW9OJp59TVhUr8MXKdVGql/FcdaVvp/32HLWyW9/SKLEt95xFAHaNDbdMr7z2etmVm648v1g9ZZryPRkfPFEq2zLECi/fK7aQevff/0lLfGWRdMoxo1b423O/Q9Nv7/tD+d+xCkk8nVyr5Hi/D2SOap17/Kk/LhLxRm0R0mhrseof9vtLbDvqxNPTzT+5s+mu5Upsy9VudHyoc5PzfSQA1fSl5EQCBAj0CFRvgdXo8y1eVB1c6rtVU+7EtrjXiB+rTj/3wnI7yv5Kra3eK+e3MiBW/bnW6H67+nOr1lajje7tann87J5fp/0PO7Y81Mx3juogWK3Etpyf04MZT/UYY/WO44qVu2Ol4/7KQgvMl0479vBeqx/neMu/9dbbaaV1Pt1attH34+rvv/US22IsO+zxw/TOO+823cUciW052x3q+zT3dxQBsKYvJScSGFYCOT+fcya2xSS89/776fxLriy3Cvzvxx/XnZfxxx8vHbT37mmFr496CLK6tDK+mTteXP0D2fZbblo8oNw4sS1nfKbveAbyxthi4/XStluM2i69UtoZ34w+NNN+s9dL9feEgbjEub++48YUK7NVykBir7kT26IPQ41dDXT8tc7PGZeP+sM07iPjO0WzJUdiW852o99DucfP/f4VV2z2SnIeAQLtFMgZx4txNJMc1ew9xlDjAxXXVsbxKm0O5fMod1yj2Tlp5ryccb3B3LdXfHNdG0N57+WOmUZfcsbXBhLPytnuUOcm53eGMB2Iw1CuB6/9VGCsSGyLpatjRYZKuevmK8vVouqVCy+7Jv34gkvKw6t9b8Vya8bqkjuxrVL362++mf5S/Mjx1NN/L1c7+ufzL6S/Fv9d/ePAgl+cN0UGeazkVl2a/SKf4+KO1ddiFbYo8xSrCVx01kn9Vrvr3vHE5p/Kc370wz3Td1ZYvtf5zQQq+jaw1c57pUcff7L840rCUb1OXH/zT9Nxp47aLrVWYlv11knxxOiIHXpvPVuv3piDJRZbZLQkycGMJ8e8RB0DCa5Ut1m9XWxswxnbITV/usccAAAgAElEQVRTZppxhjTHbJ8f7dT4Mh6rZkQSWCSRxpadU0wxedp17wN7nt4988Sj0iJfWqBmM41+LMw9Z9GJk04/N1194y1lfyorsVXe6xNPNGH6ybWX9vyoWFm1Isb2k+suTZ/97GfSd9fauFz1ZaYZp0/XXdJ7lZJagxzK+72ZuenvnDOKH9UvvWrUE6X9/Xgex2OrqA232rE8t15i27XF05TxgR8lgn1LL7FY+sqiXyq205qy14p8Dz3yWLr4imvL83IktuVst9prsHOT830kADXUq9zrCRAYjgKx4nKsvNzM51ucs+x31uz50fXmKy9IsUVopeRObKvUGz/yPlX8YPPQo4+lF196Jb366uvFwxrPlqsSVLaNinNPOupHacnFR98avpUBsW122Ss9/Fhz99sPFd9hthuxTznMWluyN7q3q3W9xgMD8eBAlGa+c6y8zmY9KzvUSmzL+Tk9mPHUGmOsjPvnhx9Nz/7jn+n14vvfM8/9Mz3992d7VhKM12y6wdppx603z/qWjtWIv7Hypz+2N/p+fGCRYHhXkWgYpVZiW6zKvMWOu6fnX3ipPCdWP4wV52aZacYUqxFWP1R2wmlnlz/IRhlqYlvudof6Ps39HUUALOtlrzICY41Azs/n3IltFeSITT1SxOwee+Kp9Morr6UXX3kl/a2Ib7786ms98xBbPF55/hlp6qmm6jU3rYxv5o4XD+YHspzxmYjBLffdtXo8jyh2UJhgggmauvbnn2/u0baKbWd8MzrdTPvNXi9nn39Juujya0qL5b+2VFq12I60mTLppJOmeKi3ugwk9jomEtsqfRls7KqZcTc6J2dcPtra79BjUvyQHiV+s4mk13nn+kKaasrJ03jjjdfTnRtuvT3FSjJRciS25Wy32mww9/i537/iio2uYscJEOgEgZxxvBhPM8lRzd5jVHy6KY7Xd04H83mUO67R7Jw0c17OuN5g7tv7+g712hjKezB3zDR3fK3ZeFbudof6vs35nSH60qzDUK4Fr+0tMFYktsWQlltp7XL7wyj1AuiVoVcvA7/hOmukXbffspfKmEpsq3XxxV+MNxfbuVQSs+KcSJqJ5Jnq0uwX+RwXePW2jfGjRWzd1F+pXp48Vu6KFbyqSzOBir7177zXAemPf3qo/OMD9t4trbziCnW7EIk0Z513cXm8VmJbJMjFF/Iocxbbvl428rQhMQ1mPENqsOrFAwmuVLdZvdrYkQftk76x3DJD7tIPDzk6/eJXvy3r2XOX7dI3ll0qrbbBlumTTz5JM880Q7rmoh+PlqBZabTRj4W55yzaffChR9KOxdOBUZZa4ivFKnMHppXX26xcVSU8wqVSqrPhI1lzoiLxrbKy2ybrr5V22ub7g/Jr9v0+qMqrXhRPUJ970eXln1S2WK1XZ/X7vV5iW/WTmkcf/MO0fDHXtcpvf1/8QL3/qB+ocyS25Wy3kWkzc5PzfSQA1WhGHCdAgMDoAtX3fPU+Zyqv6rsV4903X5UmnniinkrHVGJbvXn75/MvpkOOPqEnkWylb38jHbTP7qOd3srEtth6PbZgj1Lvh6NKB6uXwI9Va2P12urS6N6ulkv1vVlsXXbDpSPrXvaRFPiNVdZNH3zwYXlOrcS2nJ/TgxlPs+/ZCOqcfs4FPSvhzjDdNOmGy89v9uVNn7f0t1fvSaa8/rKRRTLadHVfW30t1Epsq743XmC+edPpJxyeJqzzQ/qWO+1ZJjpEGWpiW+52G+E1ep/m/o4iANZoRhwnMDwFcn4+j6nEtnozE1sj/fDQo3tWr91/r13TKn0SjFoZ34x+5owXD+YHstzxmUhcjwT2KLcXD2JOPvnnBv1GaWd8MzrdTPvNXi/xcGckEUZZZ/WVyzjlYMtAYq9jMrGtVv+biV0NdtzVr8sZl69eSTgeiBh52nHlgzK1StwjX3b1DeWhoSa25W63kWsz9/g537/iio1mxHECBDpBIGccL8bTTHJUs/cYjXwaxQcqr29lHK9Rn+N4o8+j3HGNZuekmfNyxvUGc9/ejG+c0+y10Wx9tc7LHTPNHV9rNp6Vu91Gpo3mJud3huhLsw6N+u148wJjTWLb5tuP6FnO+qiD901fX3bpugo77rlfuQ91lFpBllYmtlU6udOe+6cH/vyX8n9POPKgckWk6tLsF/nmp77+mbGC3IprbtRzQn+BkkgmXGG1DXqSCmsl5TUTqOjbm8OOOyX9pNjOKcr6a62WRuxYf5W16hUGaiW2xZaSK66xYfnDTvXqYoO1Gsx4BttW39cNJLhS/drqfaMbeTbb1+of/Bacf560wjeWS6ecOeoHya032yhttdkGdatq9GNh7jmLjkTC3Wrrb5Hiicd4GvDoH/2wJwmr70qD4bzSOpuUq2lE0ttkxZPGlW04zzv9+PTF+eZplqnmeY3e70OqvHjxbXfenQ4/9pSymrm/MGe6+Mcn162yesXDWoltETBdYdX1S79GPzpXL2M81MS23O02a9rf3OR8HwlANTsjziNAgMCnAtVbiH9hjtnSpefWf1jhgeJef6finj9KrcShVie2RT/i+0d8D4kS9xJxT9G3tDIgdvJZI9NV191cdmHdNVZJe+y8bd3LbeTFV6Tzin+i1ErKa3RvV6viF19+Ja218af3+HfecHmabLJJa/aheoXZOKFWYlvOz+nBjGcg79VYsWGFVdYrVz+O8rNbr+61Cu5A6qp37pqbbJ1eKlYNjHL0Iful5ZdZsm611avh1Upsi4eIKqvyNnroqHrriKEmtuVutxnX/t6nub+jCIA1MyPOITD8BHJ+Prc6sS1m67yLr0wjLx71oF2tBwNbGd+MPuSMFw/mB7Kc8ZkYzxY77pEef/KvTX2+N3r3tDO+GX1rpv1mr5dY5WuvAw4rhxwrAV945ol1H7Zt5DKQ2GurE9sqfR/TccWccfl4kCYSdqM0evi2enuooSa25W630XUTxxvd4+d8/4orNjMjziFAoN0COeN4MZZmkqOavcdoxqbT4njN9LnR51HuuEazc9LMeTnjeoO5b2/WN85r5toYSH19z80dM80dX2s2npW73WZM+5ubnN8Zoi/NOjTTb+c0JzDWJLZVbzM495xzpJHFD0Xjj//pUtYVjuplNuPPrr7o7NGeEjryhNPSLT/9v/IluxWruW1QrOpWqzTzF+PLr76aPvrwvym2wOyvVH8hja0/40t4dalOPmm0QkVzU9//WZtus2v66zN/L09ac9Xvpr13G7VVYd8SW7rG1q5RYnun2Oapb2kmUNH3NTcWS48fc/KZ5R/H01yXnHNKmm6aaUarO/Zm3nKnPXq286mV2BYvqg5kxYpysbJcvfLiSy+n1994My34xflqnjKY8eSYk6hjIMGV6jarbyBjK8mzTzq67vjidbEqx2KLfKnfH9jiKcHVi0SxN956q2wqVvdrtO1QpU/N/FiYc84q7cbKiPFeihLvycjeHu+zny23G510kt7bF0dALD7kYpvSCSeYsBxnoxUMc73fh3q9PPeP59P6W+zQU02tZNnyenrv/SKQOCLFksVRaiW2vf7GG2mV9b5fHp99tlnSFeeNel/WKtU3KfX+nqr+Ybo/z9zt5pibnO+jZh2Gei14PQECBMYmgXjqfuX1Ni+TraMcdsAP0re+vuxoQ4zjO++1f7laa5TvrLB8iiT26hKfC2tsuFX5R3EPcOeNV9T88avZe68/F1t1Ljj/vOWW3fVK9RfrZYv70WNr3I9WJxg1WoV6qHN7z6/uTfseclRZTdzvXHj2yTVXT3it2EJz0213S2+9/XZ57g/32Dmt9r0VezXfzL1drf7GPUZ85kfpb1XcHx11Qrrj7nt6qqiV2Jbzc3qw44kOPvX0M2mGaaetm6QX51Q/HNTf9TeUOT7oiOPT//38l2UVCy0wXzrrxKNrXp/x8MZRJ57e01StxLb4Xhbfz6IcVmx79q3lv1aza3FvueIaG6SPPx71Hq13DVc/mNTfaoG5283xPs35HaVZh6FcB15LgED3CeT8fP7pXb9Ihx49apXVevcecayZz7333n8/PfP35xo+6Fed2FYrptrq+GbOeHEzceC+V1zO+EzUXZ34GA9vXHT2KWXctFaJz+UHit0w+u6sUTm3nfHN6EMz7Td7vfzrX+8UD6hu2vM9YZfttkwbrVs7nh9tP/zYE+XWrH13TIljzd7/x7m5E9tyxK5y/K2XMy4f96NxXxplrdVWSj/Y9dN4Zd++brPrD9LDjz5R/nG9e8Rmr4nc7ea4x8/5/hVXzHGlq4MAgTEtkDOOF31dZ7Nt0/MvvFR2u9bv6AO5x8kRH4j2WhnHi/ZyfB7ljGs0OyfNnJczrjeY+/bK9ZPr2hjq+ytnzDR3fK3ZeFbudoc6Nzm/M8T8Nusw1GvB6z8VGGsS2yJQsOFWO/V8gY1lx3ffaZs07rif/rj06muvpy122KNcsSlKbEd44pGjnhiqLtV77PaXBNXoL8b4MrrDiH3Tq6+9USTHrZ622Hj9XlsgVdp8qPghLH58i6d6Isnm7uKJ/fh3dakOMsVy3bFCRa3EvVwX9y3FDxxHVv3AcfgBe6cVvt77B4z7H/hT2m2fg3u2uIntGeMHqb6lmUBF39dENvK6xU1K5UeRr3z5S+mko3/UyyWCalvv/IP09N+f7Xl5vcS2W2+/Kx1x/Kk950VfI8BRfX3EwQggHn78KSnq3m/PXcvtFHOMJ9e8DCS4Ut1mJKFtUCQ6VW76YuWtc085Nk0z9VS9uhar9cWKhXEDEauwnXDEwXUDZPHC6vdApaJFFl4wnXnCkf0OuZmgac45q3TmDw8+lHb5Qe+kxiUXXzSddNSPRutv3/dAnBDv4922H/UjeN+S8/2e43pZ7/vb9ySsTVkE62LVtur5jhUM40fMShJvtFlvK9LvrbNZerNI7BtnnHHSuacdm2ILqr4lEmG323XvMlkuSr3EtuprON5/V55/Zvr8LLW3IMjVbq65yfk+GohDjutBHQQIEBhbBA456sR0+92/KIcTCUHnF6sxVG9lE59v510Sq4td2TPkc4vtbiLprLpEYlFsTVUpsbVmbLHZtzRz71XZYmquOWZPexTbHi3ypQVGqyeS7fY9+Mjy4YEo9Va3rb5vrrWydM55jO8e639/hxQPdUSZb5650pknHtnrwYZwim3G73/gz+U5ca9w3aXnlolw1aWZe7tafY97kcqquHGfccoxh6TFF/1yr1OrV5upHKiV2Jbzc3qw44nvR7F1wiSTTJJ23GrTtMpK366ZMBlbLMVWS1EWXXihdMYJR+Sc2rKuSASMhMBK2WKT9dO239+4VzvPPPuPtFWxdWh896mUWolt1938k3T8qWeXpyyz5OLlQ0IxX9Ul3nuHF9+3Kqtux7F6iW3V3yHqbcsbr8/Zbq73ac7vKM06ZL84VEiAQEcL5Px8rn64N1ZF/em1l9ZMcm70uRd92vvAw9Pv7n8gLVesADpih63SjDNMP5rjm2++lbbcZa+eFUMjNhQxonr3DK2Ib+aMFzeKA9e7sHLGZ/7x/AtFfG/Hnvh3zMch++052hbhESvd/7BjUiS/xAPLe+2y/Wgx0MHEa3O+eZppfyDx8EOPOSn99P9+XnYxduw49djDRrv+4p78vEuuTBdcelWasrivPemog0d7uLyZ+/+KQ87EtlyxqxxzlDMuH/ebGxW/2USZftppivhk7WTMvvdY9RLbmr0mcrab6x4/5/tXXDHHla4OAgRaIZArjhd93Xa3vdNfHnm87PauxaI0G9ZZlKbRPUau+ED0o5VxvFyfRznjGs3OSTPn5YzrDfa+Pee1MdT3V86Yac74Woyr2XhWznZzzU2u7wwDcRjqteD1nwqMNYltMaTqldbi/+OHlyUXWyTNXKzM9McH/5z+8ujjPYlSsZrCuacel+afd+7Rroe+f6nPOftsxROJc6ddi6e9qrfHafQX4wFFAOHue37TU388QRc/qs1brMY2x2yfT/8qkogeKZ4Qu+vnv+rZhqZe4swLL75cZqPHDwZR4sekLy+0YJq/6NfWm22Y/ZqOD5BNttklPfvcP3vqjoDTUot/JX12vM+ke3//x/TMc//oORartV15wVmj/cjV94P9nCKZKlYMaKYcduzJKX7IqpRJJp44LfaVhdO8c30hPVzcvMTWrbFdYXWpl9gW49l4651TBLQqJeZj8WJVsnmK+iLg8+gTT/UkAsU5sQXlkQftM1pXG90UNTO2wZ4zkOBK3zaqn9StHIsfcL+62JfLgNgjjz+Znnjqb+WTiVEmmnDCdOpxh432Q3B1vZHMFKv7VZf+Vl2onNcoaBrn5ZyzSruRKLnyepult9/+V0+X9xmxY1pjle+ONiURkI1VYSrvuTihv+s35/t9sNdH9etuK7byjSTFSomg3kILzp++svCXipXqXkj3/fFPPavtVc6pl9h28JHHpzt/NmrFj0mLbVnXXu17aaFiRcPJJp00vfLaa8WKOA8XCXJ39WxJHOf1t7Jk9dZY8XdxbMc2+2yzphFF0uDEE0/U0+dc7eacm5zvo2YdclwP6iBAgMDYIhCrjG663a7pgw8+LIcUyTVfnHeetERxPxMPsdx73wM9K4DF8fix75hiG8ZaZc2NtkwvvfJaeSjuexZfdOH09eL+b6Vvfb3n9Eb3Xk8XK5fEPWZ1iZWX435/3i/MUXxuTppeKBLHbr/r5z33ofF94qJidbQZp59utG5Vb/sTB2O11PnmmittuN4aaZ5ie/Hcpe/n2gQTjF/eKyz4xXnLba7+UHyHqiStR9u77bh12mCt1UbrRjP3drX63vfHnTgnEgSXXGLR9OEHH6Xf/fGBXvfvlTpqJbbFsVyf04MdTyUpv9LP+NF/geI+J66HGYrVjV8rrtHf/P4PhetDPRzHHLp/Wm7pr+ae2vJ77/pbbN/zYEs0MF3xne2rxcNd00w1ZZGs+Kf06ONP9fwwXulArcS2+GFw02136fkuHUkKq37328WYpiveix+kmMebbrsjxWra1aVeYlv1tmxx/tRTTZUWLu5Tv7Hc0r1WYczVbs73ac7vKM06ZL84VEiAQMcL5Pp8jocbI5ZYKfH37aLF3+HxoGcktFdKo8+96h8k4jXxoO0CRXwz7k3mnmuO9EnxmfP3IkZ4axGHiKfgo8QDcWedfNRoD+62Or4ZfckVL24UB653YeWMz9QaT8zHwgsuUCZxvVrEaB59/K/pb8UKsvGZFSVWJYuV3fruVNDO+Gb0q5n2B3K9xPeETYr7lQ8//KhnKuJebMnFFynufaYq723j3qfywHuctMfO26Z111il19Q1uv+vPjlnYlvO2FWOv+RyxeUj5rzWxlunl18d9b0rdtBYZ42V05yzzVYk2n6m2P3j5fSz4veT3xb3yNWlXny52WsiZ7s57/H7/n002PdvWIkr5rjS1UGAwJgWyBnHq05IiUUTFl7oi2UsYbstNu01jP7uMXLGB6LRVsbxcn0e5YxrNDsnzZ6XK643mPv23NfGUN9bOWOmueJrlTE1G8/K1W7Oucn1nSEsmnUY6rXg9Z8KjFWJbbGiwAGHH5d++Zvf9TvHsRpabKGyfPFDV60ST6yvu+l2vb7oxnmXnHtq+UNLpTT6izH2qj73gsvStTffNtoPBrXajYSvM4qnGfuu1lY5tzqzvfJnsQLTLVddOEau6XhSbJcfHNgr2atWQ/EDyenHH1F31aVmAhW16o3Eop2L9qtXZOt73tRTTplW/u4K6eIrri0P1Utsi2PlePYqxlP88NKoxIoGkTDYd0W3eN1gx9OozWaODyS4Uqu+S668Lp058qKGTc36+ZnTUQfvmyKps1HZfIfd05NFQlyU+FH41qsvqrkyYXU9jYKmlXNzzVl127ESYazGFiV+DL/l6gtTXEe1yg6775v+9JdHy0Nxnd94xfk1V92I47nf743cGx2PHzMPKbYcqWxBVev8SCqL1Qvj77Io9RLbIhEwtiyt/Phfq67xxhsvrbXqSumq628uD/eX2FZrNbx4zdUXFltDV63elqvd3HOT633UrEOjuXacAAECw03gj8WWSj844PBeq0zVMogVf2O7z76ri1XOveLaG3s+Ayt/tvyyS6WjD/5hT3XN3HvFamax3Xlla+/+5iM+e484aN+630PioZKNikS5ynarlbr23X2ntPrK3xkjU33pVdenM869sGHd/W0V2uy9Xa1GrrvptnT8aT/ut/3111wt/fr39/UkadVLbItKcnxOD3Y8sc39ccXKZrFCTjNl4/XWTDtvu0Uzpw7qnIeLB7tG7Puj9O///Kfu6yMIHN8pKw9k1UpsixdXrzJXr7L4Qf2jDz8stvd6sjylXmJbrPwTq0nHD5PVZcVvLlesOrNXrz/L1W7O92mu7ygDcRjUBeBFBAh0tUCOz+cA+EGx0lp8rlWX3XfeJq23xqo9f9Tocy/uS2645acpdriI79eNyuSTfy5dUKyqWyuJP17b6vhmrnhxozhwPZec8ZlooxzPYceWuy00KrETyUF7j6i5RXo745vR72bbH8j1Eg8PxOqC1avR1jKKh6cP/MFuKe79+5Zm7v8rr8mZ2JY7dtXo2mh0PGdcPlbX2WGPfXsekqjVdsRd414yVh2O0t+D081eE7nazXmPn+v9G0biio2uYscJEOgUgVxxvEhS32LHPXoNKxYwueP6y3r9WaN7jJzxgVbG8XJ+HuWKazQ7J82eFxOZI6432Pv2nNdGjvdfzphprvha+X2ky+N6Ob4zDNQhx/WgjiKv46133xu1BNhYUiLT+Obb7kyXX3tDr6fTY3iRxLLc15ZMW2y0bs2thqoJYp/qY08+Mz386BM9f3z5eWeUK61VygWXXZ3OueDS8n/32nX7chWjWiX+wr7w8mvSfX94sOYX6/jituWmGxQJWt8ql0qvV2K1hPOLrZVuuPX2nlW1ZphumnTD5aOSUsZEicSSy4sf/a4vAljvvvvvXk1EEtNq31ux3H6075aW1SfuuveB5fZF4X9pkRzYTLJU5fXxJfqswvj2Yin5+OJXXeYungw9okhQfO6fz6e9DjisPBQ/+MUPf/VK7Ol+xXU31RxPvCZWp4iktqWXWKxuHUMZz1DnKFYn+d46m5QrZ8T2kj+59uIBV/nb+/6QLi0S3B586JHRXhs3gd9eftm0wzabpQjyNFOqM5LjKcd42rFRiWSxSBqLssLyy6TDDxx9ZbxKHTnmrLo/Me5dfrB/GUxZ+quLFdutHlS3u7FNZzxJF6XW9k21Xpjr/d7IsJnjMcaLr7w2XX39Lemtt9/u9ZJ4UnvvETukhReYP6224RblE62RVBbJZbVKbENwbrwXiwBT9Sp2kfw5Z7Ha2p7F34GTF9dPrFoTx9cvVnMZUazqUqvE8VgZ89yLLi9X16mU6y45t3ySuLrkbDfn3OR4Hw3EoZn5dg4BAgSGk0A8qXXxFdeku37xq9F+IIl76w2L7cPXXPV7KVYgq1fie8MlxcMRl159fc+9dd/7kmbvveJzNBLlbr/75+WWT7XKt5b/Wtp2i03qPgxSeU3cJ5105rnpqb8+3fOZO6a3JY2txcKz1v1hrHC92QZrp68vu3Rdy4Hc29Wq5Gf3/DqNvOiKXitCx3kTTjBB2rj4rhEPnETwMj7LIznwmovPLX4sn7Zuf4b6OT3U8dxVjOe6G29NDxU/4vVNUoxOx2q122+5ablK4Jgu8QDKGSMvHi3ZLr6bLf+1pdKBxY/d5118ebr8mhvLrkRiWSSY9S1x3/KT//tZGnnxFT1bzFXOie8Q8YDRHjttkw495uTyfRkPPdx4xXlpquI7S63y4suvppOL6/zeYnWOCIhFqbUtac52c75Pc31HadZhTF8n6idAoDMFhvr5HKOKv69OPmtkuvsXv+5ZwatvDLPZz73X33gjnV9s4XjPr3432sPAlc/tdddcJW26/to1E6kqyu2Ib+aIFzcbB651NeWMz0T98dkZ27lfWcQ440fOviVWxVq7ePhw/bVXr/uAZjvjm9HfZtsf6PUSD0jHA9C1vifE/clSiy9aPlhQ/WBltV+z9//xmrjv32jrncp79kjKiu1365V7igfx9z141PG1i+8pe+22fc1Tc8auhvo3W864/J8ffiydNfLCFP+uLnG/v1ARmzxw792KJNz707GnnFkePrpYdbveogQDuSZytpvrHj/H+zeMxBWHeoV7PQECrRTIEceL/v78l79Jp/34/GLFz1fL7kfM4bY+v5M2c4+RMz7Q6jhers+jXHGNZuak2bmrXJNDjesN5b4957WR4z2WK2aaM74W42o2npWz3ZxzM9TvDJW5bdYhx7WgjrEwsa0yqREwiO32nn/xpfSvd98tfviYPs1afKmfcsragfV6F0N8mX2pSOj4pPiCWp3UNpiLJ+qKN8qrr79RPDX/Xpph2mmKbVJnSNNOPXXdIEO9duKL5etvvVVsBThJmn7a+j/qDKaftV4TW37GNp4vFJ5hO/NMM6RZZ5m54cpcudqPBLu48XmpWLZ84gknKIIPMxcJcrMOuvpyPEVC3IvFKgHvFf8dS9LPVqxSFluqDpcSGfnPv/ByuRR8rGQyfXE9zlVsmdVfcmU7bbptznK+34fqHn35W7Ft7AvF32VR4u+e+Ytt2+KH4YGWN4q/d577xwvp5VdeTTMVWzrEtiMRhBpsiRVEXi62gRt3nHHL7dbqlZzt5pybXO+jZh0G6+x1BAgQGFsFYruruKd74aVXyvuZmWYs7lGLe7qB3s/ED7VvFveb0xX35ZGkM5QSSdlxz/za628Wn5HjF/f7MxafmTPUXTmuXlvxUMdLRaDu/Q8/SLPP+vm6qzoPpa99Xxursz7/wgvFVuNvFPfHU6SZZyz63ifpPGd71XVFoCPu9+P7W3xXmrZYReyLRVJd9TblA2071+f0QNutnB/fYf5efId6/fXX08fFajdhOUthGivZtLrEdRnf52gAzwsAACAASURBVF5/4800xRSfS3PNOXuxIvE0A+5GJAY8949/pn8W29v9r/heOM88X6i7Ik8zlUfi38uvvl6sAPRumr7oT733X+52c71Pc31HadahGVPnECAw9gnk+HyOWF58j//3e/9Js80yS7md6GBLfGY/8+xz5Xf5t4rPuimnmLyME8YW1fV2oajXVqvjm7nixYO1yxmfiT7E50esGhyfa28WSYxTFPcYEQPvL74y2L53wusGcr2U3xOK3wZefOnlMuY0TRHznWvO2Zp+kLfd480ZuxrqWHLG5WPF3n8W3zfeLuYnHn6P7zmDiU9WxtTsNZGz3Vz3+Dnfv+KKQ73KvZ4AgVYJ5IrjvVMsxBJbsE800cT9PvjYzLhyxQdaHcfL9XmUK67R7Jw0e17MXbvjermujWauw/7OyRkzzR1fazaelbvdXHOT6ztDsw5DvRaG++vHuhXbhvuEGj8BAgQIECBAgAABAgQIECBAgAABAgQIECBAgAABAgQIECBAgAABAgS6XUBiW7fP4P/vfzx1FKsbDKVMXazKMJBtQofS1nB6bWzDOtSy0ALzDWlVrKG27/VjXuCJp/6a/vVO7+1+B9rq7LPOMqxWHRyoj/MJECBAgEC3C7iv7PYZrN//d955Nz1ebBs6lDL++OOnhRecfyhVeC0BAgQIEGirgM/DtvL327j70M6dm+iZ+ens+dE7AgQIEBieAj6fh8+8+x4zfObaSNsnILGtffZZWx558eXpvIuvHFKdK33r6+mgffcYUh1ePLrAUt9abcgs1158TrmtgzL2Cuy4537pwT8/PKQB7rfnLmnVlb49pDq8mAABAgQIEOhcAfeVnTs3Q+3ZA3/+S9ppz/2HVM30xXbzN15x/pDq8GICBAgQINBOAZ+H7dTvv233oZ07N9Ez89PZ86N3BAgQIDA8BXw+D5959z1m+My1kbZPQGJb++yztnzbHXen2+68e0h1LrHoIun7G687pDq8eHSBSFgaajnkh3taiWuoiB3++pPPGJmefPrpIfVyk/XWSkt/dbEh1eHFBAgQIECAQOcKuK/s3LkZas+e/OvT6eSzRg6pmiknnzwdcdA+Q6rDiwkQIECAQDsFfB62U7//tt2Hdu7cRM/MT2fPj94RIECAwPAU8Pk8fObd95jhM9dG2j4BiW3ts9cyAQIECBAgQIAAAQIECBAgQIAAAQIECBAgQIAAAQIECBAgQIAAAQIECNQQkNjmsiBAgAABAgQIECBAgAABAgQIECBAgAABAgQIECBAgAABAgQIECBAgACBjhKQ2NZR06EzBAgQIECAAAECBAgQIECAAAECBAgQIECAAAECBAgQIECAAAECBAgQICCxzTVAgAABAgQIECBAgAABAgQIECBAgAABAgQIECBAgAABAgQIECBAgAABAh0lILGto6ZDZwgQIECAAAECBAgQIECAAAECBAgQIECAAAECBAgQIECAAAECBAgQIEBAYptrgAABAgQIECBAgAABAgQIECBAgAABAgQIECBAgAABAgQIECBAgAABAgQ6SkBiW0dNh84QIECAAAECBAgQIECAAAECBAgQIECAAAECBAgQIECAAAECBAgQIECAgMQ21wABAgQIECBAgAABAgQIECBAgAABAgQIECBAgAABAgQIECBAgAABAgQIdJSAxLaOmg6dIUCAAAECBAgQIECAAAECBAgQIECAAAECBAgQIECAAAECBAgQIECAAAGJba4BAgQIECBAgAABAgQIECBAgAABAgQIECBAgAABAgQIECBAgAABAgQIEOgoAYltHTUdOkOAAAECBAgQIECAAAECBAgQIECAAAECBAgQIECAAAECBAgQIECAAAECEttcAwQIECBAgAABAgQIECBAgAABAgQIECBAgAABAgQIECBAgAABAgQIECDQUQIS2zpqOnSGAAECBAgQIECAAAECBAgQIECAAAECBAgQIECAAAECBAgQIECAAAECBCS2uQYIECBAgAABAgQIECBAgAABAgQIECBAgAABAgQIECBAgAABAgQIECBAoKMEJLZ11HToDAECBAgQIECAAAECBAgQIECAAAECBAgQIECAAAECBAgQIECAAAECBAhIbHMNECBAgAABAgQIECBAgAABAgQIECBAgAABAgQIECBAgAABAgQIECBAgEBHCUhs66jp0BkCBAgQIECAAAECBAgQIECAAAECBAgQIECAAAECBAgQIECAAAECBAgQkNjmGiBAgAABAgQIECBAgAABAgQIECBAgAABAgQIECBAgAABAgQIECBAgACBjhKQ2NZR06EzBAgQIECAAAECBAgQIECAAAECBAgQIECAAAECBAgQIECAAAECBAgQICCxzTVAgAABAgQIECBAgAABAgQIECBAgAABAgQIECBAgAABAgQIECBAgAABAh0lILGto6ZDZwgQIECAAAECBAgQIECAAAECBAgQIECAAAECBAgQIECAAAECBAgQIEBAYptrgAABAgQIECBAgAABAgQIVAk889zz6Y577k2TTDxRWm7JRdNsM8/IhwABAgQIECBAgAABAgQIECBAgACBDhUQz+vQidEtAhkEJLZlQFQFAQIECBAgQIAAAQIECIwdAq+89ka66Jpb0scff1IO6DOfGTdtvu6qabpppho7BmgUBAgQIECAAAECBAgQIECAAAECBMYiAfG8sWgyDYVADQGJbS4LAgQIECBAgAABAgQIECBQCLz/wQfpgitvSm+/8+9eHpNPNknaYoPV04QTTMCJAAECBAgQIECAAAECBAgQIECAAIEOERDP65CJ0A0CY1BAYtsYxFU1AQIECBAgQIAAAQIECHSHwP+Kbl590x3pmX+8ULPDc3x+prTe6t9J43THcPSSAAECBAgQIECAAAECBAgQIECAwFgtIJ43Vk+vwRHoEZDY5mIgQIAAAQIECBAgQIAAgWEv8Ov7/pR+fd+D/Tosu8QiaZklvjzsrQAQIECAAAECBAgQIECAAAECBAgQaLeAeF67Z0D7BFojILGtNc5aIUCAAAECBAgQIECAAIEOFXjmuefTVTff2bt38chnlD5LtG205kpp1pln6NCR6BYBAgQIECBAgAABAgQIECBAgACBsV9APG/sn2MjJFARkNjmWiBAgAABAgQIECBAgACBYSvw9jvvpvOvvCl98MGHnxr8L7Laioy2cf6XRv3Xp9ltE004Qdpyg9XTZJNOMmzNDJwAAQIECBAgQIAAAQIECBAgQIBAuwTE89olr10C7RGQ2NYed60SIECAAAECBAgQIECAQJsF/vvxx+niq29Nr7z+Rk9P/n9K26c9K5Lc/jdOdWpbSjNMO03adN2V02fGHbfNI9A8AQIECBAgQIAAAQIECBAgQIAAgeEjIJ43fObaSAlUBCS2uRYIECBAgAABAgQIECBAYFgK3PJ/v0yPPPG3XmMfLbGtjsyXF5g3ffcbSw9LN4MmQIAAAQIECBAgQIAAAQIECBAg0A4B8bx2qGuTQHsFJLa111/rBAgQIECAAAECBAgQINAGgT8/+mT66c9+07vlGquzxQllsltsT1qs3FZdVvn2cmnBeb/Qht5rkgABAgQIECBAgAABAgQIECBAgMDwEhDPG17zbbQEKgIS21wLBAgQIECAAAECBAgQIDCsBF557Y100TW3pI8//qRq3MWWo8X/9d509NPDcXRUWtunyW2f+cy4afN1V03TTTPVsPIzWAIECBAgQIAAAQIECBAgQIAAAQKtFBDPa6W2tgh0loDEts6aD70hQIAAAQIECBAgQIAAgTEo8P4HH6QLrrwpvf3Ov3taKZPW/lckrPVekG30XhSZb/8bJxLcPj1x8skmSVtssHqacIIJxmCvVU2AAAECBAgQIECAAAECBAgQIEBgeAqI5w3PeTdqAhUBiW2uBQIECBAgQIAAAQIECBAYFgKxItvVN92RnvnHC73GO2qltuZKrXPn+PxMab3Vv9N0Hc215CwCBAgQIECAAAECBAgQIECAAAECw1tAPG94z7/REwgBiW2uAwIECBAgQIAAAQIECBAYFgK/uu/B9Jv7/tRrrKO2GG02rW3US2u9ZtmvLpqWWXzhYeFokAQIECBAgAABAgQIECBAgAABAgRaISCe1wplbRDobAGJbZ09P3pHgAABAgQIECBAgAABAhkEnnnu+XTVzXeOVtNAVmurvLjeazZac6U068wzZOitKggQIECAAAECBAgQIECAAAECBAgMbwHxvOE9/0ZPoCIgsc21QIAAAQIECBAgQIAAAQJjvcCp512Z/vPee2N0nNNMNUXaeqM1x2gbKidAgAABAgQIECBAgAABAgQIECAwHATE84bDLBsjgcYCEtsaGzmDAAECBAgQIECAAAECBLpY4ONPPkknnXNp+u9/Px6joxh3nHHSbttsnCYYf7wx2o7KCRAgQIAAAQIECBAgQIAAAQIECIzNAuJ5Y/PsGhuBgQlIbBuYl7MJECBAgAABAgQIECBAoAsF7rznd+mBvzw2xnoeSW1fX3qxtMQiC46xNlRMgAABAgQIECBAgAABAgQIECBAYLgIiOcNl5k2TgL9C0hsc4UQIECAAAECBAgQIECAwLAQ+Nc7/05v/eudumO9/Iaf9uuw0Zor1T0+5RSTpckmmWRYOBokAQIECBAgQIAAAQIECBAgQIAAgVYIiOe1QlkbBDpbQGJbZ8+P3hEgQIAAAQIECBAgQIBAiwSOPv2Cflvad+ctWtQTzRAgQIAAAQIECBAgQIAAAQIECBAg0EhAPK+RkOMEul9AYlv3z6ERECBAgAABAgQIECBAgEAGAYGwDIiqIECAAAECBAgQIECAAAECBAgQINAiAfG8FkFrhkAbBSS2tRFf0wQIECBAgAABAgQIECDQOQICYZ0zF3pCgAABAgQIECBAgAABAgQIECBAoJGAeF4jIccJdL+AxLbun0MjIECAAAECBAgQIECAAIEMAgJhGRBVQYAAAQIECBAgQIAAAQIECBAgQKBFAuJ5LYLWDIE2CkhsayO+pgkQIECAAAECBAgQIECgcwQEwjpnLvSEAAECBAgQIECAAAECBAgQIECAQCMB8bxGQo4T6H4BiW3dP4dGQIAAAQIECBAgQIAAAQIZBATCMiCqggABAgQIECBAgAABAgQIECBAgECLBMTzWgStGQJtFJDY1kZ8TRMgQIAAAQIECBAgQIBA5wgIhHXOXOgJAQIECBAgQIAAAQIECBAgQIAAgUYC4nmNhBwn0P0CEtu6fw6NgAABAgQIECBAgAABAgQyCAiEZUBUBQECBAgQIECAAAECBAgQIECAAIEWCYjntQhaMwTaKCCxrY34miZAgAABAgQIECBAgACBzhEQCOucudATAgQIECBAgAABAgQIECBAgAABAo0ExPMaCTlOoPsFJLZ1/xwaAQECBAgQIECAAAECBAhkEBAIy4CoCgIECBAgQIAAAQIECBAgQIAAAQItEhDPaxG0Zgi0UUBiWxvxNU2AAAECBAgQIECAAAECnSMgENY5c6EnBAgQIECAAAECBAgQIECAAAECBBoJiOc1EnKcQPcLSGzr/jk0AgIECBAgQIAAAQIECBDIICAQlgFRFQQIECBAgAABAgQIECBAgAABAgRaJCCe1yJozRBoo4DEtjbia5oAAQIECBAgQIAAAQIEOkdAIKxz5kJPCBAgQIAAAQIECBAgQIAAAQIECDQSEM9rJOQ4ge4XkNjW/XNoBAQIECBAgAABAgQIECCQQUAgLAOiKggQIECAAAECBAgQIECAAAECBAi0SEA8r0XQmiHQRgGJbW3E1zQBAgQIECBAgAABAgQIdI6AQFjnzIWeECBAgAABAgQIECBAgAABAgQIEGgkIJ7XSMhxAt0vILGt++fQCAgQIECAAAECBAgQIEAgg4BAWAZEVRAgQIAAAQIECBAgQIAAAQIECBBokYB4XougNUOgjQIS29qIr2kCBAgQIECAAAECBAgQ6BwBgbDOmQs9IUCAAAECBAgQIECAAAECBAgQINBIQDyvkZDjBLpfQGJb98+hERAgQIAAAQIECBAgQIBABgGBsAyIqiBAgAABAgQIECBAgAABAgQIECDQIgHxvBZBa4ZAGwUktrURX9MECBAgQIAAAQIECBAg0DkCAmGdMxd6QoAAAQIECBAgQIAAAQIECBAgQKCRgHheIyHHCXS/gMS27p9DIyBAgAABAgQIECBAgACBDAICYRkQVUGAAAECBAgQIECAAAECBAgQIECgRQLieS2C1gyBNgpIbGsjvqYJECBAgAABAgQIECBAoHMEBMI6Zy70hAABAgQIECBAgAABAgQIECBAgEAjAfG8RkKOE+h+AYlt3T+HRkCAAAECBAgQIECAAAECGQQEwjIgqoIAAQIECBAgQIAAAQIECBAgQIBAiwTE81oErRkCbRSQ2NZGfE0TIECAAAECBAgQIECAQOcICIR1zlzoCQECBAgQIECAAAECBAgQIECAAIFGAuJ5jYQcJ9D9AhLbun8OjYAAAQIECBAgQIAAAQIEMggIhGVAVAUBAgQIECBAgAABAgQIECBAgACBFgmI57UIWjME2iggsa2N+JomQIAAAQIECBAgQIAAgc4REAjrnLnQEwIECBAgQIAAAQIECBAgQIAAAQKNBMTzGgk5TqD7BSS2df8cGgEBAgQIECBAgAABAgQIZBAQCMuAqAoCBAgQIECAAAECBAgQIECAAAECLRIQz2sRtGYItFFAYlsb8TVNgAABAgQIECBAgAABAp0jIBDWOXOhJwQIECBAgAABAgQIECBAgAABAgQaCYjnNRJynED3C0hs6/45NAICBAgQIECAAAECBAgQyCAgEJYBURUECBAgQIAAAQIECBAgQIAAAQIEWiQgntciaM0QaKOAxLY24muaAAECBAgQIECAAAECBDpHQCCsc+ZCTwgQIECAAAECBAgQIECAAAECBAg0EhDPayTkOIHuF5DY1v1zaAQECBAgQIAAAQIECBAgkEFAICwDoioIECBAgAABAgQIECBAgAABAgQItEhAPK9F0Joh0EYBiW1txNc0AQIECBAgQIAAAQIECHSOgEBY58yFnhAgQIAAAQIECBAgQIAAAQIECBBoJCCe10jIcQLdLyCxrfvn0AgIECBAgAABAgQIECBAIIOAQFgGRFUQIECAAAECBAgQIECAAAECBAgQaJGAeF6LoDVDoI0CEtvaiK9pAgQIECBAgAABAgQIEOgcAYGwzpkLPSFAgAABAgQIECBAgAABAgQIECDQSEA8r5GQ4wS6X0BiW/fPoREQIECAAAECBAgQIECAQAYBgbAMiKogQIAAAQIECBAgQIAAAQIECBAg0CIB8bwWQWuGQBsFJLa1EV/TBAgQIECAAAECBAgQINA5AgJhnTMXekKAAAECBAgQIECAAAECBAgQIECgkYB4XiMhxwl0v4DEtu6fQyMgQIAAAQIECBAgQIAAgQwCAmEZEFVBgAABAgQIECBAgAABAgQIECBAoEUC4nktgtYMgTYKSGxrI76mCRAgQIAAAQIECBAgQKBzBATCOmcu9IQAAQIECBAgQIAAAQIECBAgQIBAIwHxvEZCjhPofgGJbd0/h0ZAgAABAgQIECBAgAABAhkEBMIyIKqCAAECBAgQIECAAAECBAgQIECAQIsExPNaBK0ZAm0UkNjWRnxNEyBAgAABAgQIECBAgEDnCAiEdc5c6AkBAgQIECBAgAABAgQIECBAgACBRgLieY2EHCfQ/QIS27p/Do2AAAECBAgQIECAAAECBDIICIRlQFQFAQIECBAgQIAAAQIECBAgQIAAgRYJiOe1CFozBNooILGtjfiaJkCAAAECBAgQIECAAIHOERAI65y50BMCBAgQIECAAAECBAgQIECAAAECjQTE8xoJOU6g+wUktnX/HBoBAQIECBAgQIAAAQIECGQQEAjLgKgKAgQIECBAgAABAgQIECBAgAABAi0SEM9rEbRmCLRRQGJbG/E1TYAAAQIECBAgQIAAAQKdIyAQ1jlzoScECBAgQIAAAQIECBAgQIAAAQIEGgmI5zUScpxA9wtIbOv+OTQCAgQIECBAgAABAgQIEMggIBCWAVEVBAgQIECAAAECBAgQIECAAAECBFokIJ7XImjNEGijgMS2NuJrmgABAgQIECBAgAABAgQ6R0AgrHPmQk8IECBAgAABAgQIECBAgAABAgQINBIQz2sk5DiB7heQ2Nb9c2gEBAgQIECAAAECBAgQIJBBQCAsA6IqCBAgQIAAAQIECBAgQIAAAQIECLRIQDyvRdCaIdBGAYltbcTXNAECBAgQIECAAAECBAh0joBAWOfMhZ4QIECAAAECBAgQIECAAAECBAgQaCQgntdIyHEC3S8gsa3759AICBAgQIAAAQIECBAgQCCDgEBYBkRVECBAgAABAgQIECBAgAABAgQIEGiRgHhei6A1Q6CNAhLb2oivaQIECBAgQIAAAQIECBDoHAGBsM6ZCz0hQIAAAQIECBAgQIAAAQIECBAg0EhAPK+RkOMEul9AYlv3z6ERECBAgAABAgQIECBAgEAGAYGwDIiqIECAAAECBAgQIECAAAECBAgQINAiAfG8FkFrhkAbBSS2tRFf0wQIECBAgAABAgQIECDQOQICYZ0zF3pCgAABAgQIECBAgAABAgQIECBAoJGAeF4jIccJdL+AxLbun0MjIECAAAECBAgQIECAAIEMAgJhGRBVQYAAAQIECBAgQIAAAQIECBAgQKBFAuJ5LYLWDIE2CkhsayO+pgkQIECAAAECBAgQIECgcwQEwjpnLvSEAAECBAgQIECAAAECBAgQIECAQCMB8bxGQo4T6H4BiW3dP4dGQIAAAQIECBAgQIAAAQIZBATCMiCqggABAgQIECBAgAABAgQIECBAgECLBMTzWgStGQJtFJDY1kZ8TRMgQIAAAQIECBAgQIBA5wgIhHXOXOgJAQIECBAgQIAAAQIECBAgQIAAgUYC4nmNhBwn0P0CEtu6fw6NgAABAgQIECBAgAABAgQyCAiEZUBUBQECBAgQIECAAAECBAgQIECAAIEWCYjntQhaMwTaKCCxrY34miZAgAABAgQIECBAgACBzhEQCOucudATAgQIECBAgAABAgQIECBAgAABAo0ExPMaCTlOoPsFJLZ1/xwaAQECBAgQIECAAAECBAhkEBAIy4CoCgIECBAgQIAAAQIECBAgQIAAAQItEhDPaxG0Zgi0UUBiWxvxNU2AAAECBAgQIECAAAECnSMgENY5c6EnBAgQIECAAAECBAgQIECAAAECBBoJiOc1EnKcQPcLSGzr/jk0AgIECBAgQIAAAQIECBDIICAQlgFRFQQIECBAgAABAgQIECBAgAABAgRaJCCe1yJozRBoo4DEtjbia5oAAQIECBAgQIAAAQIEOkdAIKxz5kJPCBAgQIAAAQIECBAgQIAAAQIECDQSEM9rJOQ4ge4XkNjW/XNoBAQIECBAgAABAgQIECCQQUAgLAOiKggQIECAAAECBAgQIECAAAECBAi0SEA8r0XQmiHQRgGJbW3E1zQBAgQIECBAgAABAgQIdI6AQFjnzIWeECBAgAABAgQIECBAgAABAgQIEGgkIJ7XSMhxAt0vILGt++fQCAgQIECAAAECBAgQIEAgg4BAWAZEVRAgQIAAAQIECBAgQIAAAQIECBBokYB4XougNUOgjQIS29qIr2kCBAgQIECAAAECBAgQ6BwBgbDOmQs9IUCAAAECBAgQIECAAAECBAgQINBIQDyvkZDjBLpfQGJb98+hERAgQIAAAQIECBAgQIBABgGBsAyIqiBAgAABAgQIECBAgAABAgQIECDQIgHxvBZBa4ZAGwUktrURX9MECBAgQIAAAQIECBAg0DkCAmGdMxd6QoAAAQIECBAgQIAAAQIECBAgQKCRgHheIyHHCXS/gMS27p9DIyBAgAABAgQIECBAgACBDAICYRkQVUGAAAECBAgQIECAAAECBAgQIECgRQLieS2C1gyBNgpIbGsjvqYJECBAgAABAgQIECBAoHMEBMI6Zy70hAABAgQIECBAgAABAgQIECBAgEAjAfG8RkKOE+h+AYlt3T+HRkCAAAECBAgQIECAAAECGQQEwjIgqoIAAQIECBAgQIAAAQIECBAgQIBAiwTE81oErRkCbRSQ2NZGfE0TIECAAAECBAgQIECAQOcICIR1zlzoCQECBAgQIECAAAECBAgQIECAAIFGAuJ5jYQcJ9D9AhLbun8OjYAAAQIECBAgQIAAAQIEMggIhGVAVAUBAgQIECBAgAABAgQIECBAgACBFgmI57UIWjME2iggsa2N+JomQIAAAQIECBAgQIAAgc4REAjrnLnQEwIECBAgQIAAAQIECBAgQIAAAQKNBMTzGgk5TqD7BSS2df8cGgEBAgQIECBAgAABAgQIZBAQCMuAqAoCBAgQIECAAAECBAgQIECAAAECLRIQz2sRtGYItFFAYlsb8TVNgAABAgQIECBAgAABAp0jIBDWOXOhJwQIECBAgAABAgQIECBAgAABAgQaCYjnNRJynED3C0hs6/45NAICBAgQIECAAAECBAgQyCAgEJYBURUECBAgQIAAAQIECBAgQIAAAQIEWiQgntciaM0QaKOAxLY24muaAAECBAgQIECAAAECBDpHQCCsc+ZCTwgQIECAAAECBAgQIECAAAECBAg0EhDPayTkOIHuF5DY1v1zaAQECBAgQIAAAQIECBAgkEFAICwDoioIECBAgAABAgQIECBAgAABAgQItEhAPK9F0Joh0EYBiW1txNc0AQIECBAgQIAAAQIECHSOgEBY58yFnhAgQIAAAQIECBAgQIAAAQIECBBoJCCe10jIcQLdLyCxrfvn0AgIECBAgAABAgQIECBAIIOAQFgGRFUQIECAAAECBAgQIECAAAECBAgQaJGAtcfbowAAIABJREFUeF6LoDVDoI0CEtvaiK9pAgQIECBAgAABAgQIEOgcAYGwzpkLPSFAgAABAgQIECBAgAABAgQIECDQSEA8r5GQ4wS6X0BiW/fPoREQIECAAAECBAgQIECAQAYBgbAMiKogQIAAAQIECBAgQIAAAQIECBAg0CIB8bwWQWuGQBsFJLa1EV/TBAgQIECAAAECBAgQINA5AgJhnTMXekKAAAECBAgQIECAAAECBAgQIECgkYB4XiMhxwl0v4DEtu6fQyMgQIAAAQIECBAgQIAAgQwCAmEZEFVBgAABAgQIECBAgAABAgQIECBAoEUC4nktgtYMgTYKSGxrI76mCRAgQIAAAQIECBAgQKBzBATCOmcu9IQAAQIECBAgQIAAAQIECBAgQIBAIwHxvEZCjhPofgGJbd0/h0ZAgAABAgQIECBAgAABAhkEBMIyIKqCAAECBAgQIECAAAECBAgQIECAQIsExPNaBK0ZAm0UkNjWRnxNEyBAgAABAgQIECBAgEDnCAiEdc5c6AkBAgQIECBAgAABAgQIECBAgACBRgLieY2EHCfQ/QIS27p/Do2AAAECBAgQIECAAAECBDIICIRlQFQFAQIECBAgQIAAAQIECBAgQIAAgRYJiOe1CFozBNooILGtjfiaJkCAAAECBAgQIECAAIHOERAI65y50BMCBAgQIECAAAECBAgQIECAAAECjQTE8xoJOU6g+wUktnX/HBoBAQIECBAgQIAAAQIECGQQEAjLgKgKAgQIECBAgAABAgQIECBAgAABAi0SEM9rEbRmCLRRQGJbG/E1TYAAAQIECBAgQIAAAQKdIyAQ1jlzoScECBAgQIAAAQIECBAgQIAAAQIEGgmI5zUScpxA9wtIbOv+OTQCAgQIECBAgAABAgQIEMggIBCWAVEVBAgQIECAAAECBAgQIECAAAECBFokIJ7XImjNEGijgMS2NuJrmgABAgQIECBAgAABAgQ6R0AgrHPmQk8IECBAgAABAgQIECBAgAABAgQINBIQz2sk5DiB7heQ2Nb9c2gEBAgQIECAAAECBAgQIJBBQCAsA6IqCBAgQIAAAQIECBAgQIAAAQIECLRIQDyvRdCaIdBGAYltbcTXNAECBAgQIECAAAECBAh0joBAWOfMhZ4QIECAAAECBAgQIECAAAECBAgQaCQgntdIyHEC3S8gsa3759AICBAgQIAAAQIECBAgQCCDgEBYBkRVECBAgAABAgQIECBAgAABAgQIEGiRgHhei6A1Q6CNAhLb2oivaQIECBAgQIAAAQIECBDoHAGBsM6ZCz0hQIAAAQIECBAgQIAAAQIECBAg0EhAPK+RkOMEul9AYlv3z6ERECBAgAABAgQIECBAgEAGAYGwDIiqIECAAAECBAgQIECAAAECBAgQINAiAfG8FkFrhkAbBSS2tRFf0wQIECBAgAABAgQIECDQOQICYZ0zF3pCgAABAgQIECBAgAABAgQIECBAoJGAeF4jIccJdL+AxLbun0MjIECAAAECBAgQIECAAIEMAgJhGRBVQYAAAQIECBAgQIAAAQIECBAgQKBFAuJ5LYLWDIE2CkhsayO+pgkQIECAAAECBAgQIECgcwQEwjpnLvSEAAECBAgQIECAAAECBAgQIECAQCMB8bxGQo4T6H4BiW3dP4dGQIAAAQIECBAgQIAAAQIZBATCMiCqggABAgQIECBAgAABAgQIECBAgECLBMTzWgStGQJtFJDY1kZ8TRMgQIAAAQIECBAgQIBA5wgIhHXOXOgJAQIECBAgQIAAAQIECBAgQIAAgUYC4nmNhBwn0P0CEtu6fw6NgAABAgQIECBAgAABAgQyCJw88vL0/vsf1KxpwgknSCO23ihDK6ogQIAAAQIECBAgQIAAAQIECBAgQCCHgHheDkV1EOhsAYltnT0/ekeAAAECBAgQIECAAAECLRK45Nrb0vMvvVKztZlnmC5tus7KLeqJZggQIECAAAECBAgQIECAAAECBAgQaCQgntdIyHEC3S8gsa3759AICBAgQIAAAQIECBAgQCCDwF+f+Ue69ra7ata07qrfTl+YbZYMraiCAAECBAgQIECAAAECBAgQIECAAIEcAuJ5ORTVQaCzBSS2dfb86B0BAgQIECBAgAABAgQItFDgb3//Z/rN/X9Kr73xVhp3nHHS1FNNkZZZbOE05+yS2lo4DZoiQIAAAQIECBAgQIAAAQIECBAg0JSAeF5TTE4i0LUCEtu6dup0nAABAgQIECBAgAABAgQIECBAgAABAgQIECBAgAABAgQIECBAgAABAmOngMS2sXNejYoAAQIECBAgQIAAAQIECBAgQIAAAQIECBAgQIAAAQIECBAgQIAAAQJdKyCxrWunTscJECBAgAABAgQIECBAgAABAgQIECBAgAABAgQIECBAgAABAgQIECAwdgpIbBs759WoCBAgQIAAAQIECBAgQIAAAQIECBAgQIAAAQIECBAgQIAAAQIECBAg0LUCEtu6dup0nAABAgQIECBAgAABAgQIECBAgAABAgQIECBAgAABAgQIECBAgAABAmOngMS2sXNejYoAAQIECBAgQIAAAQIECBAgQIAAAQIECBAgQIAAAQIECBAgQIAAAQJdKyCxrWunTscJECBAgAABAgQIECBAgAABAgQIECBAgAABAgQIECBAgAABAgQIECAwdgpIbBs759WoCBAgQIAAAQIECBAgQIAAAQIECBAgQIAAAQIECBAgQIAAAQIECBAg0LUCEtu6dup0nAABAgQIECBAgAABAgQIECBAgAABAgQIECBAgAABAgQIECBAgAABAmOngMS2sXNejYoAAQIECBAgQIAAAQIECBAgQIAAAQIECBAgQIAAAQIECBAgQIAAAQJdKyCxrWunTscJECBAgAABAgQIECBAgAABAgQIECBAgAABAgQIECBAgAABAgQIECAwdgpIbBs759WoCBAgQIAAAQIECBAgQIDAGBG44+570osvvVLWvcbKK6Yppph80O288tpr6Sd3/Lx8/UILzJu+8uUvDbouLyRAgAABAgQIECBAgAABAgQItErgo//+N11zw63pww8/ShNNPEFab41V0zjjjNOq5odVO//9+OPC+pb0wQcfpWmnmSqt/J0VhtX4O22w773/fnr08SfL+ODrb7yZPjfZZGnNVb/b0833P/ggXXvjbem///04TTbZJGnt1b7XaUPQny4TkNjWZROmuwQIECBAgAABAgQIECBAoJ0Ca22yTRG4ernswnGHHZC+ttQSg+7O7Xf/Ih1y1Inl67+53DLpiIP2GXRdXkiAAAECBAgQIECAAAECBAgQaJXAiy+/mtbaeKue5u6++ao08cQTtar5YdVOPBi5+gZblmOeYvLJ00+vu2RYjb+TBnvPr+5NJ515bnr51dd6ujXeZz+bfnn79T3//7dnnk2bbLNLz//fe9fNnTQEfelCAYltXThpukyAAAECBAgQIECAAIFuF3jrrbfTcaeenT7+5JM015yzpa0326jbhzRs+i+xbdhMtYESIECAAAECBAgQIECAAAECdQQktrXu0pDY1jrr/lp6/oWX0oZb7phitcLqIrGtM+ZnbO6FxLaxeXaNjQABAgQIECBAgAABAh0q8ORfn06bbz+i7N3ss82SrjjvzA7tqW71FdjnoCPSU0//vdheI6UjixXW5p17rkEjWbFt0HReSIAAAQIECBAgQIAAAQIECLRR4F//eidtt/s+5faYk0w0UTr/zBPSeOON18Yejb1NS2zrjLk98sTT0y0/ubPszMwzzVBuMTrN1FOlqaacIn3ly1/q6eSrr72edtpr/3Ir0tim9MKzRu3WoBAYrIDEtsHKeR0BAgQIECBAgAABAgQIDFpAYtug6caqF0psG6um02AIECBAgAABAgQIECBAgAABAtkFJLZlJx1UhVvv/IP0yONPlK8984Qj0yILLzioeryIwEAFJLYNVMz5BAgQIECAAAECBAgQIDBkAYltQyYcKyqQ2DZWTKNBECBAgAABAgQIECBAgAABAgTGmIDEtjFGO6CKV1l38/T6m2+Wr/nJNRenKYuV2hQCrRCQ2NYKZW0QIECAAAECBAgQIECAQC8BiW0uiBCQ2OY6IECAAAECBAgQIECAAAECBAgQ6E9AYltnXB/LrbR2+uijj8rO3HXzlWmSiSfujI7pxVgvILFtrJ9iAyRAgAABAgQIECBAYGwR+Oi//02//d396e/P/TO9+PIracIJJkgzzjhdWm7pJdOM009Xd5j/fP7F9Oprr6dxxh03Lbzg/Gmcccape+5jTzyV3n//g/S5z02WvjDHbP3SffjhR+ne+/+Ynn/hpfRC8c/4E4yfZp91ljTbrJ8vXzvpJKMHN/73v/+lhx55PP3t6b+n4049q6x/mqmnSofut1f53+ON99m04Bfn67fdGM/9D/w5vfDSS+mdd/+dZphuujTb52dKyyy5RBp//PH6fe3bb/8rPf3358pz5p5rzrKPMY7Hn/xrevixJ9KLL72c5pt3rrTwAl9Ms8w842h1vf7GG+nhR58oz/3vxx+nueaYPc03z1wNrfpW9Nw/nk/3P1iM4cWX0n/eez/NNMP0aY7ZPp+WWmKx9JnPjNtw/H3n81//eic9+JdH0p+KfyYYf/w0zxfmSMsus2Qa77OfzX75D+R6ivm+974/piee+lt66ZVX00QTTpg+X7h+fdml0tRTTSWxLfvsqJAAAQIECBAgQIAAAQIECBBoJFAdH2p0bhz/zGc+k75UxNT6liee+mv6z3/eT5NONkmae845alZV65yHH3083ffHP6VXX38jTTDe+GnGGaZNS3918fT5WWZqpjvZzhlsrLG6A0OJ01XXE05/ePAvRWzulZSKeNJ0001TxPoWL2Nug0lsG0rsLQdwrRhkxO/u+c3v0jPP/iO9++9/p+mmnTrNOdusTcXwal1HEcd84KGH02OPPZWmLepaaIH50qILL1S3+4M1ebKI6739zrtp9x8enD7++JOy/mMO3T9NNskk5X/Xuv4fffzJ9MEHH6bJJ/9cmnP2WXv1KeLaL8U8F2XWWWdOU085Zd0+/+P5F9Jrr71RHo9rIWLWyvATkNg2/ObciAkQIECAAAECBAgQ6EKBm267I51/yZVFIOf1mr1fY5Xvpj132S59tgi09S1b7LhHmbgV5dzTjksLzj9vzToiuPKdtTYuj0088UTp7puvqit16+13pZEXXZ5efvW1mudEAtO6a66SNl53zV4BhwjCfH+HPfqdgasvOrtIfho9kBfJXCefOTL94tf3pk8+GRVEqS6RKLXZRmun9dZYtW79p59zQbrs6hvK4ztstVlaeKEF0t4HHZ5i7H3LIl9aIB1/+EGlxTtF8Gb/w44pE+pqlfDfZdstynP7Ky+98lo66Yxz0q9++/siRve/0U6dacbp03ZbbJpW/OZydavZcqc9UyQglvN56rHpkSLJ7uSzzhvt/NlnmyUdfsA+A06663cAxcG+7ddLRHzk8SfSocecnCJo1rfEdXrIfnumD4tkzUOOOrE8/M3llklHHLRPo+YdJ0CAAAECBAgQIECAAAECBAgMSeC0H5+fLr/mxgHVcdGPTy4eJJyz5zXxoOIKq65X/v94442XfvnT60arr+85d99yVfrRkSekn/3yN6OdGw+ifvsby6Yf7rlL+TDrmC5DiTVG33LE6aKeN998Kx1cxIbuf+BPNYe8wTqrpw3WXi2tseFW5fEpJp88/fS6S+ry5Ii95bDvG4NcqHiQd68DDysSId8brfrpp50m7T1ixyK5cbGaTfe9jn5+6zXpwCOOSz+vcR0ttcRX0mEH/KDXampDMYnkx+W+u1a/JH2v/3gweJX1vl93vuLaO/qkM8rjU04xRbp05KlpquLffUskx2232z7lw8XxIPD5p5+Q5pn7CzmmRx1dJiCxrcsmTHcJECBAgAABAgQIEBh+AucWCWSR1NaoLLn4oumIA/cZLbkqEskioSzKOaccWz69V6v0SmybaMJ09y1X1zzvp3f9Ih169KhkpEYlVkS78Yrze4Ip8YTf5jvs3u/Lrr34nDTzTDP0OufFl19Nu+59QIqnQBuVDddZI+26/ZY1Tzv17PPTFdeOClx+5ctfKlZee7x8erBeiRXu9h6xUzrwsGPT08+OWumtXgnXH598TN0V8WJlu52LMVSeSOyvrt123DptsNZqNU+pns9Vv7diuuUnd9Y8L1ZrG1kkMuYO+DRzPcU877TX/sXTp/+pO8xxixUEI9j2m2IVwigS2xpd2Y4TIECAAAECBAgQIECAAAECOQROOfu8dOW1Nw2oqovOOqlXjCUSlFZYbf2yjojB/PL260err/qcSMz56mKLpt/+/g/9trvYIl9KJx99aMMV/QfU+T4nDzXWmCtOFzsx7LD7vulvzzzb73CWW/qr6ZfFQ6JR+ktsyxV7G4pt5bXVMcjFF/1ysYPFo/3GIOMaOvawA1LEd/uW6usoHhZdcYXl00/u/FnNbsZDs5f8+NSe+PBQTSKxbfliC9JaD+hWOjBBsYvHL267tqc/rxUrEa66/vfL/48V1u64/rLR+jpi34PT7//wYPnny39tqXT0j37Y65z3P/ggbb79iJ4HZrfabMO0dfGPMjwFJLYNz3k3agIECBAgQIAAAQIEukQggl177n9oT2/nnH22tNwyS6TFFlk4xZL2DxVbF9x46+09gZFN1l8r7bTNqMBBpTSTiBTnNpPYFiuXrb7hlum9998vq19rtZXSuquvmiJo8sZbb6dn/v5s+vPDj6Ybij5FfRutu0baZbveSWaR9PRUsRXp4cedUtYx7TRTp2MO2a/8788WW5HW2rph+xH7FPU+Vp4TTwHGE4xLFYGe2KIhnuj81W/v6xUEO+zAvdO3lv/aaLNcHVSqHPzaUkuk7xQBoRlnmK5InHsp3XbH3XWfEl3lu99KXyu2QZh6qinLbQOuueHWYizP9LRz0L57pJW+9fWaV9dWO++V4knDKPEk5spFXUsWAc1pivH/oRjDL351b/rtfZ8GN2M1tlqroVXPZ9QV269uusHaxTazC5RJdX955LF0/S0/Td/faN209uor1+zLUP6wmetppz33Tw/8+S89zcR8RWBu7uLJ5lhhLrYn/eOfHurVDYltQ5kVryVAgAABAgQIECBAgAABAgSaFYj4zO/uf6Df0++9/4/p4UefKM+ZbLJJ0zUXnl1uq1gpA01sq7wuHgJdrkjkWaJIdppqyinKGFRsT1m94v1B++yeVvr2N5odzoDOyxFrzBWnO+/iK9PIiy/v6f+8c8+Vli3idIsuvGARo3uh3K71niKh7aOPPuo5p7/EtlyxtwGB1jm5Vgzyi/PNU8YVv1zsIBFbbP6uSOz6dYyvSB6LEjtYXHnBmSkeBq0u1dda5c9nnH7atEERd51vrrnSv955J8X1etcvfp1OOfqQNN88c/W8PIfJ35/9Z/Hw6rtp+yIJsbIV6anHHpomrWxFWvy7ehvdZhLbYnvZjbfeJb1bJDdGOfiHe6TvrvD1nn6fcNqP07U33Vb+f4wndiGptVNJjrlSR+cLSGzr/DnSQwIECBAgQIAAAQIEhrFA9TaisbXkBWeeNNp2BH955PFyKftlitWv9tl95xRPyVWXZhKR4vxmEttiK85d9z6wrH7pJRZLJxx5UM3ZiYDLfX98MC279JI1nzB98q9Pl0/dRYlxXXHemXVnubrNOGm/PXZOsVJZdYkAUCxNX9mic87ZZk2XnHvqaIGgvkGlLTZZP237/VHbr1ZKPIF45Amnpdhutbr0DbDEsQ8//CiN2Peg9OBDj5Snzj/v3On8M04YbSyxKtleBxxW/nkk5o08vVhJrWr7ivjzaHeP/Q7pCazG05wRJOpbquczEtnOOP6ItEgR8GtVaXQ99d1udv1iu4gRO2w9Wvf2P/SYXltvSGxr1QxqhwABAgQIECBAgAABAgQIEOhPIGIb243Yt3yQNJKMTjzy4GK1tUV6vWSwiW0RS4uYWnWJlcs2327XFCuhRYmHPi8+Z9QDobnLUGONueJ0sb3kyutuVsYjo0TS19knH12uflddriuSm44vkpwqpV5iW87YWw7zvjHI2OnhrBOPHi1OetV1N6WTzzqvp8lYuSxWMKsufRPb4oHZSPSKh4X7K7lNlitWbqskGd5185W9tjut7kcziW1x/k//7+fp0GNOKl8ayaOXnXtaOaaIKe+2z8Hln8cDvReedXKaY7bP55gWdXSpgMS2Lp043SZAgAABAgQIECBAYOwXiKfhNtxqx3Kg8UTaeUXC1DxzzVlz4BFo65vQVjmxUSJS5bxmEtuuuuHmdPIZI8uXbLbhOmmHrTYb1EQMJLEtAhwR6IjyjeWWSUcetE/NNuNJx823G9Gzmtx5px9fBsWqS3VQKbY7veL8M0cLmMX5r7/xRlpjw61SBNmiLPGVRdIpxxxSs90//eXRctuEKJNMPHGKwE7fcsBhx6S77/lN+ce7FdukblBsl1qrvPHWW2nDLXfqCerdes1Faeopp+x1avV89pdcOKiJaeJFja6ny66+IZ1+zgVlTbHC4IVnnVgm8/Utsfrfxtvskl597fXykMS2JvCdQoAAAQIECBAgQIAAAQIECIxRgTfffCttudMe6aVXXivbiZ0RYoeEvmUwiW3rFCvr77nLdjX7Xx1fihNuv+7SXivE5Rh0jlhjrjhdPJy65U57lsOKmOal55yWZpl5xprDjN0sKlu41ktsyxl7y2FdHYOceKIJ06UjT08zTj/daFXHg66RxBUr90VZd41V0h47b9vrvL6JbfWuyb6V5zbJndgW/d33R0ele359b9n1pYqHtn9U7Iaxyba79sQL+4uj5pgndXSHgMS27pgnvSRAgAABAgQIECBAYBgKVD+1Fk/1nXPKsYNSaJSIVKm0mcS2n//yN2m/YqWtKHPNMXs6t1h5bMIJJhhwvwaS2LbOZtum5194qWwjVjCLlczqlb0PPDz96t77ysMjdtgqrb/26r1OrQ4qfe87K6QDf7Bb3brW+/726R//fKE83l/AKFaLW754YjECUVFuvfrCYqvSqXrVu+ZGW/YERK8skulmm3WWuu1GMCueTIxy7GEHlFswVJfq+dx7tx3Tmqt+d8D+Q3lBo+upeiW2LTfdIG2z+UZ1mzv6pDPSTbfdUR6X2DaUWfFaAgQIECBAgAABAgQIECBAYKgC8YBj7FTw4J8fLqv69jeWS4fuv1fNageT2BarbC04/7x1u7n6BlukV/7/A4C1VnYb6vhyxBpzxemqV2Jb5EsLpDNPPKru8O782S/TwUceXx6vl9iWM/Y2VOd4fXUMcsnFF00nHfWjutXe8pM705Ennl4ej4d042Hd6tI3sa1RbLHy2twmYyKxLR7y3XirXdJbb79ddju2NK3EY2OHitipInasUIa3gMS24T3/Rk+AAAECBAgQIECAQAcLXHDZ1emcCy4te7j6yt9J++6+06B62ygRqVJpM4ltsSXC+ptvlyKZK0osD7/iN5dLc31hjuKpw+nTdNNMlWacYfqG/RxIYtsyK66RPvnkk7LOWklj1Y2dff4l6aLLryn/aP01iy0wd+q9BWZ1UCm2II2tSOuVCGTG9gpRYpW4WC2uXll1/e+nWGY/ytUXnl0GYSolEt5iDJXEt0uLZfUnmWSSunWdctbI9Itf/bY8vtuOW6cN1lqt17nV83lckfj2tT6Jbw3xh3hCo+tpxz336wkAR/A3gsD1ypXX3phOOfv88rDEtiFOjJcTIECAAAECBAgQIECAAAECQxI48fRz0jU33lrWMfcX5kw/PuXoNNGEE9asczCJbXfeeEWabNL6MaFd9z6oZ+WuA/cekb634jeHNJ6+L84Ra8wVpxt58eXpvItH7XqwxirfTfuMGLVrRa3y5FN/S5vvsHt5qFZiW+7YWw706hjk+kVsb0QR46tXHnr4sWLr21E7VERc9fpLz+11at/EtrtvvipNPPFE/XZzTJiMicS2GET1g9SVQcX4Lj3n1KbizDnmSx2dLSCxrbPnR+8IECBAgAABAgQIEBjGArGdY2zrGGWjdddIu2y35aA0GiUiVSptJrEtzr3g0qvSORdeVrcvn/vcZOXTpxsUq6UtvujCNc9rNrHtP++9n1ZYdb2eOn5269V1A4px0iVXXpfOHHlRef7KxYpsB/RZka06qLT9lpumzTdat+449tjvkHTvfX8sjx99yH5p+WWWrHvuWhtvlSLpL0rfxLa+YxjIJG692UZpq8026PWS6vn88cnHpC8tOP9AqhzyuY2upwg0RsAxyglHHPT/2LvzKLmqanHAOz2kO/M8kAEIg4BEUVAZROA9EEFF5CmCE4qIIyoO+BT1KU9FnzigIg6ICg4/QPQxqAiCCqIIT0U0QhhDEhIyz0N3Op387q2YmITupDp9u27dqu+uVas6VbfO2efbxR/steucOOLQ53Q7Z7pbW7prW3ppbOt1agxAgAABAgQIECBAgAABAgQI7KLAz355a3z6818pfXrYsKHx3Uu/2OXRkZuH35XGtjtvvi4aGxu6jfDDF3x2y48d0yNL06NLs7x6W2vMsk735W9cHldde31pea991SlxzlvO7Hap6Q5e6ckK6dVVY1vWtbcszLeuQZ752lfFW858XbfDPjpjZrzu7Hdt+e6lx9BufW39XWtqbIzf3bypXryjqy9M+qqxLV3HJz7zhbj5ttu3LOn8950TJ734+J0t0/t1IqCxrU4SbZkECBAgQIAAAQIECBRP4Atf/WZce/3PS4G/8bWnxlvPfP0uLWJnjUibBy23sS39xd/Pb74tLrnse7F8+YodxnT6K0+O97ztrKfcU25jWzr+Ca/4V+EnLdykBZzurqt/cn1c/PXLS28fd8wL4pMfPW+bW/NobNt+DT1JYleFr3Lz2ZN5enLvzuZ/7Vmd2/nXAAAgAElEQVTnxGMzZ5WG3NnRsb+45dfxyc9dXLpXY1tPsuBeAgQIECBAgAABAgQIECBAICuBf0x/MN7+3vOjo6Oj1Hj25f/57zjkWc/c4fA9bWxraGiI399y3Q7HTI/bTI/dTK93v+1N8epXvjyrJZbG6W2tMcs63ee/8s34yQ3l1T3TH5OmPypNr64a27KuvWWB3pNTI7Zu3Et3Kkt3ZNv6Kue7tn3MfWGisS2Lb4YxdkVAY9uuqPkMAQIECBAgQIAAAQIEKiDw9cuvjCv/37WlmU57RbJl/du737J+R+HsrBFp82fLbWzbfP/6zs54+JHH4m/3PxBPzlsQCxcuThqaZsbMWXO2HLuZ3vulz3wiDnvuwduEWG5j27p1HXH0i1+x5bO33nBVDBo4sNvlfu+HP45vfvf7pfdflvyq78PJr/u2vvJobEuPbT3qhP/YEsanP/bBaGlpKesbdMD++8bI4cO3ubfcfJY1wS7ctLP5zzrnA3H/9IdKI38uOSr1BTs4KvWnN9wUF33l66V7NbbtQjJ8hAABAgQIECBAgAABAgQIEOiVwOIlS+LMd7w/Fi5aXBrn3He+OU475WU7HbOcZqPtj5C846afRHNzc7dj/+fHL4w7fv/H0vsffM874pSTTthpHD25obe1xizrdF9LfjD7g6t/Wgq/ux/Gbl7b4zOfiFeftemo0q4a27KuvfXEtLt7t65BnvHqV8bbzzqj22EfevSxeMNbzy29P2rEiPjZjzedRrH5Kue7tv3gfWHSV41tv/3dHyLdrXDrq3QU6WVf3eGuiVnkyRjFENDYVow8iZIAAQIECBAgQIAAgToU2PpYzRNf+G/xX//53l1S2LoRaUc7aC1YtChOPn3TcacDB7TGbTdes0vzPTHnybjgs1+IaQ9sam7qKvZyG9vSz29dNPnpDy6L3caP6zaurY8xSH/Vmv66desrj8a2dP5/e8mp0dbeXgolPU4gPdJiV6+dNZbt6rjlfm5n85/zgY/Gn//6t9JwH/3ge+Ilxx/b7dBp42ZaVE0vjW3lZsB9BAgQIECAAAECBAgQIECAQBYC6Q5t55z30fjbtAdKw734+H+Pj31wU4PRzq5ymo22b2z7+bVXPuUHjFvP8473fTju/ds/Si99/MPvixOOPWZnYfTo/SxqjVnV6b7z/avisit+tMn9RcfGx857T7drmXb/9Dj73R8svd9VY1v6epa1tx6hdnPz1jXI/3jZiXHeu9/e7bBpHS2tp6XXpIm7xY+v+OY295bzXetq8KxN+qKxbenSZfGaN78rli1fXlrC+PFjY17yA+r0evZBU+Nrn/909OvXL4uUGKPAAhrbCpw8oRMgQIAAAQIECBAgUNsCt995V3zoE58pLXKvPfeIH377q7u04Pd/5L/jD3f/qfTZdAezdCezrq6tiyi9aWxLx773vmnxjvefX5rm6fs/LS6/5PPbTNmTxrY3vO3cSO9Pr898/ENxzAuO6NYhnTOdO70+8oF3x0tPOG6be/NqbDvzHe+L6Q89UorlsxecH0c//7BdymX6oZ01lu3ywGV+cGfzf/KiL8cvkqNq0+u0/0h2GnxH9zsNfuyTn4tbb7+zdK/GtjIT4DYCBAgQIECAAAECBAgQIEAgE4H/ufjSuO5nvyyNdcB++8Y3vvTZ6N+/+x3Vtp60nGaj7RvbLv7sBXHoc57dZewbN26M4095Taxatbr0/qVf/Ew8+5kHZrLOzYNkUWvMqk7381tui0997sul0Pbde6+48psXd7vWrXf8766xLcvaWxboW9cgpz59v7jsKxd1O+zVP7k+Lv765aX30yNwL/n8p7a5t5zvWleDZ23SF41tH7rgM3H77+4qhf/cg58VFyQNna87+92xZNmy0mvnvv2s5CSTk7NIiTEKLKCxrcDJEzoBAgQIECBAgAABArUtkB6B8LLTz9yyyE999INx7DFHdrno9OjHPXaf1OUxnRd//dtx9U9uKH3uyORYyIuS4yG7uj735Uvjf2/cVMzbUWPbfcmvWKcesF80NjZ0m4CtG9vSoyjTIym3vrY+QmC3cWPipz/cVLzp6vrSJZfFNdfdWHpr372mxLeTJrmuioz3/PneeM9/fnzLENdc8Y2YPHHCNkPm1di2dQ7Gjx0dV3zjyzF06JAu17tmbVv8JfmlZpqrrq6dNZb19X8VO5s/LQinheH0Stf4/W99OcaOHv2UsB6dMTPe9M73RXqMRXppbOvrzBmfAAECBAgQIECAAAECBAgQ2Cywdf1i5PDh8d1vfLHL+kV3YuU0G23f2JbuQHXJRZ+Khoan1tR+cv3P4/Nf3bRTV1NjY/zqhquitaUl04RlUWvMqk43a/acOO3Mf+1i9oUL/yuOeN5znrLetE72xrefG7OfmFt6r7vGtixrb1mgb12DTMfr7hSN1WvWxBlvfU/MfXJ+ado3vvbUeOuZr98mhHK+a13FnLVJ1o1tv7ztt3HBZ75YCn3w4EGlH3WnNcTf3XVPfPBjm5r7Wlr6x/cuvTj23GNSFmkxRkEFNLYVNHHCJkCAAAECBAgQIECgPgQ+fMFn47e/+0NpsUOGDE4aoi6O3caN3WbxV//vDfHlSy+PKbtPLjWQTZwwfpv3b/rVb+K//+dLW177xIffHy869uht7knn+Eiye9aGDRtKr3fX2Lb5mIB9puwZ73vXW7v85Wg6xoc+fmGpCJFebz7jNXHWGadvM9/WBZm0mHfVdy6NyZO2bULb/IG00PXqs965JbZXnvySeO87z96mCJgW5s58+/ti8dKlpY8d/rxD4osX/qvJbfNYeTW2zZ4zN04/8x1b1nBUsmPbBee//ykFyscen5nk4X8ibfw75aQT4gPvettTip07ayzr6/8ydjb/k/MXxKlnvCU6Ozd9l9Jfmn7ps5+I5qamLaGtbWuLN59zXqTr3XxpbOvrzBmfAAECBAgQIECAAAECBAgQSAXSo0fP+cBHomP9+lIT2SVfuDAOmnpAj3DKaTbavrEtneAtb3xtnPm607aZ65EZjyd1kg9Ee/u60uvprm7p7m59cfW21phlne5Vb3zbloa1EUlzYbpr2+hRI7csO93F7jNfvCRuvOlXW17rrrEty9pbFu7bN7aNGjkyrvzWxdscRZvWUD/1uYvjplt/u2XKy77yuZj69P23CaGc71pXMWdtkmVjW1rLfe3Z74qVK1eVQt/+6N1Pf/4r8bNf3lp6Lz0N5Ftf/twOf2SdRc6MUb0CGtuqNzciI0CAAAECBAgQIECAQKS7Wp359veWCm3ple6Slu6W9pxka/bly1fE3+9/MB58eNMRl+mV/qIv/WXf1tf6zs5kC/d3xcxZT2x5OS2QpUWBtKls2v3T4+4/3bvNZ7pqbHvs8Vnx2jefs819T9t379gvfew9Jfll3eCYO29+/PLW30Ra5Eqv7prx0vdOed2bY968BVvWlcaz5x67x7lvOysGDhywzTwXfuGrTyliHZasYeLE3eLP996XOEzf0kiVGqXb+6dHSGx/5dXYlsax/RrSXecOmnpgpL/WXbhoUdw//ZF49LEZkeYrvSbsNq60s9vgQQO3WcbOGsv6+j+bcub/ZFKU+8Utv94SyqCBA+M5hxwU++2zd0z7x/T4y31/j7b29m1C1djW15kzPgECBAgQIECAAAECBAgQIJA2S5386jcltZjFJYx0t/mnJXWtHV2NSfPbx/7z3Bg1YsSW28ppNuqqsS0dID294LmHPDtGjRwR9/zpr3H/gw9FGtfm69Kk0S6tF/XFlUWtMas63c9vTo4jvWjTcaTplTYZPiNpMDzkoGfGE8mPRO/581+3HEm5+Z7uGtvS97OqvWXhvn1jWzpm+qPPZ059ehyc5HbWE3Pij0k9Nq3vbr4OPugZ8bUvfPop05fzXesu5ixNsmxse9/5F8Rd9/y5FPa/HfX8uPC//nObJaQ72b3uLe/eUjvuqiE0izwZoxgCGtuKkSdREiBAgAABAgQIECBQxwJ/uOdP8eFPfGbLkY3dUZz9htfEm16/7c5om+/9v7/cF+d97JNbfvm5/Rhpg9vbzzojvnbZ90pvdbdjWzrORV/5+pZfU+4oLWmD2af/60NxdLI7WVfXjb+4JS5MfnW5/XXN95IjRLfbva2joyM++qmL4o7f/3GH34S0QPTJj32w2znzbGwrrSHZFe+OP9y9029zegzpf33w3FJj4PZXOY1lO52gFzeUM//SpcvinPM+ts2ObNtPmRaDX3LCsXHl/7u29JbGtl4kxUcJECBAgAABAgQIECBAgACBsgTSH48edcJ/lHXv1jdd8fUvRfoDz81XOc1G29/z1je9Pi751nd3OPfrT39FvOPNb+hxfD35QG9rjVnV6dLd/i/47BfjV7+5o9vw0/riO89+Y6Q1vfTaUWNbVrW3nlh2d+/WNchXnPTi+L+/3rflh8BdfWbs6FHJzoGfjskTn3qiRTnfte7iyNIkq8a2639+c3z2S18rhZweA5weQTp8+LCnLOEv902Ld77//NLradPj5Zd8fpv/BrPIkzGKIaCxrRh5EiUBAgQIECBAgAABAnUu8NCjj8UVP/xx/PbOu7YcZ7mZZLfx4+ItZ742Tjj2mB0qzZg5u3Qk6fSH/rXDW/qB9PPvessbk2MODo6XnHpGaSettJhy/VVdF9rWreuI/3ftdfHL235TOjKzq+u4o49MYnpdt8eLpp9Jf4mabil/2RU/2vIr2fT1n3z/stJuZdtf6U5mN/z8lvjRtf8bc+bO2+btfv36xVFHHhZnvubUZAe5fbp1+O4Pr4lvffcHpfc/8O63xSte9uJu7/34hZ+PW369qbD2teSXsumvKbu7znjrufFwkqO0yPKTH16W+I3u8ta0eHpD0tB31U+uT355+uRT7pmU7ED3ipNOjNNecXKka+rqevcHPxZpg2H6/g8u+0rsteceFf2vo9z50+a2ryfWv0yOwk2LaFtf++69V3w6aUBMf536gY9+svTWyS95UXzove+s6FpMRoAAAQIECBAgQIAAAQIECNSXQNpM9aJTXhPpjlDlXukPQq/67qXbNB2lx4a++JWvizVr2yI9RvMX1175lOG6akj63xt/GZdefkWsWrV6m/vTXdxef/qpccpJJ5QbVq/u622tMYs6XbqANB9XXnVtXPPTG2PZ8uXbrCk9vvOD5749DjrwgHjZq88s/eg3/TFs+qPY7q4sam+9gv3nh7f/ce1LTzwuPpb8aPfepFlr6yv9bv3bCw5Pmhnf2GU9NL23nO/ajmLOyuQlrzyjtINe+oPoX1z7g2hp6d/ltCtWrIyTTn9jKV8TJ4yPa6/81pb71ra1xUmvemPpv7/08xd+/ENxxPOe0234ad34O9+/qvR+elzwNy7+nyzSY4yCCWhsK1jChEuAAAECBAgQIECAQH0LpM1Cs5KGqHnzF0Rr8j//uyUNYE9LmoR6cqUFiEcenRFrk8Lb1Kfvlxx7MLInH9/m3ieTOOY+OS8WLV5aiic9GnTC+PGlAkdPrrSYMX/Bomjo15AcRzpphx9NC17pcQRzknlXrFqVHN8wLnZP5h0xYnhPpsz13g0bNpR2vUv9li5bnvzadGhpHTtbe65B7+Lk6ZEK6TG28xYuioGtLUkBcmLSjLf7Lo7mYwQIECBAgAABAgQIECBAgACBYgh0t9NW2vDzjwcejAXJcagt/ZuTWtq42GuvPUs/mKz01dtaY1Z1urR569EZj8fcpFaWXuPHjI4D9ntapDu27cqVd+2tu1Mj0h+6Pj5rdqxMGhvHjhkVe0yeFKNH7Xpttic2eZv0JFb3EthaQGOb7wMBAgQIECBAgAABAgQIECBAgAABAgQIECBAgAABAgQIECBAIEOB3hwhmWEYhspBoLvGthxCMSWBwgtobCt8Ci2AAAECBAgQIECAAAECBAh0L5AeW9rb6xkH7p/syNfS22F8ngABAgQIECBAgAABAgQIECBQNwJZNLY9+PAjsWLltseW9hRwz90nxZjRo3r6sbq6f+6T80unQ/TmGjVyeHJKwR6lITS29UbSZwlsK6CxzTeCAAECBAgQIECAAAECBAjUsMDhx72s16u79spvxcQJ43s9jgEIECBAgAABAgQIECBAgAABAvUikEVj2zvef37ce9+0XpGd//53xUknvrBXY9T6h7995Y/i8iuv6tUyTzzumPivD72vNIbGtl5R+jCBbQQ0tvlCECBAgAABAgQIECBAgACBGhZIC6C9vS748Pv9sre3iD5PgAABAgQIECBAgAABAgQI1JVAFo1tF3/t2/HQY4/1yu11r/qPOOLQ5/RqjFr/8M9vvi1+fsttvVrm8w5+drzxtaeWxtDY1itKHyawjYDGNl8IAgQIECBAgAABAgQIECBAgAABAgQIECBAgAABAgQIECBAgECGAlk0tmUYjqEqKKCxrYLYpqp5AY1tNZ9iCyRAgAABAgQIECBAgAABAgQIECBAgAABAgQIECBAgAABAgQqKbBx48a45robY+2a9hg2dEicctIJlZzeXDkKPPjwI3HXPfeWIjj6yMNiyh6Tc4zG1ASKLaCxrdj5Ez0BAgQIECBAgAABAgQIECBAgAABAgQIECBAgAABAgQIECBAgAABAgRqTkBjW82l1IIIECBAgAABAgQIECBAgAABAgQIECBAgAABAgQIECBAgAABAgQIECBQbAGNbcXOn+gJECBAgAABAgQIECBAgAABAgQIECBAgAABAgQIECBAgAABAgQIECBQcwIa22oupRZEgAABAgQIECBAgAABAgQIECBAgAABAgQIECBAgAABAgQIECBAgACBYgtobCt2/kRPgAABAgQIECBAgAABAgQIECBAgAABAgQIECBAgAABAgQIECBAgACBmhPQ2FZzKbUgAgQIECBAgAABAgQIENhVgYdnzIq7/vz3WLRkaWmI0SNHxPOfe1DsvcekXR3S5wgQIECAAAECBAgQIECAAAECBAgQ6CMB9bw+gjUsgSoR0NhWJYkQBgECBAgQIECAAAECBAjkK/DIjNlx7c9v7TKIU196XOy95+R8AzQ7AQIECBAgQIAAAQIECBAgQIAAAQJbBNTzfBkI1L6Axrbaz7EVEiBAgAABAgQIECBAgEAZAlde+/OYO29Bl3dOGD82znjlS8oYxS0ECBAgQIAAAQIECBAgQIAAAQIECFRCQD2vEsrmIJCvgMa2fP3NToAAAQIECBAgQIAAAQJVIvCFb34/OjrWdxlNa2tLnPvm11RJpMIgQIAAAQIECBAgQIAAAQIECBAgQEA9z3eAQO0LaGyr/RxbIQECBAgQIECAAAECBAiUIfDZS767w7s+dM6ZZYziFgIECBAgQIAAAQIECBAgQIAAAQIEKiGgnlcJZXMQyFdAY1u+/mYnQIAAAQIECBAgQIAAgSoRUAirkkQIgwABAgQIECBAgAABAgQIECBAgEAZAup5ZSC5hUDBBTS2FTyBwidAgAABAgQIECBAgACBbAQUwrJxNAoBAgQIECBAgAABAgQIECBAgACBSgio51VC2RwE8hXQ2Javv9kJECBAgAABAgQIECBAoEoEFMKqJBHCIECAAAECBAgQIECAAAECBAgQIFCGgHpeGUhuIVBwAY1tBU+g8AkQIECAAAECBAgQIEAgGwGFsGwcjUKAAAECBAgQIECAAAECBAgQIECgEgLqeZVQNgeBfAU0tuXrb3YCBAgQIECAAAECBAgQqBIBhbAqSYQwCBAgQIAAAQIECBAgQIAAAQIECJQhoJ5XBpJbCBRcQGNbwRMofAIECBAgQIAAAQIECBDIRkAhLBtHoxAgQIAAAQIECBAgQIAAAQIECBCohIB6XiWUzUEgXwGNbfn6m50AAQIECBAgQIAAAQIEqkRAIaxKEiEMAgQIECBAgAABAgQIECBAgAABAmUIqOeVgeQWAgUX0NhW8AQKnwABAgQIECBAgAABAgSyEVAIy8bRKAQIECBAgAABAgQIECBAgAABAgQqIaCeVwllcxDIV0BjW77+ZidAgAABAgQIECBAgACBKhFQCKuSRAiDAAECBAgQIECAAAECBAgQIECAQBkC6nllILmFQMEFNLYVPIHCJ0CAAAECBAgQIECAAIFsBBTCsnE0CgECBAgQIECAAAECBAgQIECAAIFKCKjnVULZHATyFdDYlq+/2QkQIECAAAECBAgQIECgSgQUwqokEcIgQIAAAQIECBAgQIAAAQIECBAgUIaAel4ZSG4hUHABjW0FT6DwCRAgQIAAAQIECBAgQCAbAYWwbByNQoAAAQIECBAgQIAAAQIECBAgQKASAup5lVA2B4F8BTS25etvdgIECBAgQIAAAQIECBCoEgGFsCpJhDAIECBAgAABAgQIECBAgAABAgQIlCGgnlcGklsIFFxAY1vBEyh8AgQIECBAgAABAgQIEMhGQCEsG0ejECBAgAABAgQIECBAgAABAgQIEKiEgHpeJZTNQSBfAY1t+fqbnQABAgQIECBAgAABAgSqREAhrEoSIQwCBAgQIECAAAECBAgQIECAAAECZQio55WB5BYCBRfQ2FbwBAqfAAECBAgQIECAAAECBLIRUAjLxtEoBAgQIECAAAECBAgQIECAAAECBCohoJ5XCWVzEMhXQGNbvv5mJ0CAAAECBAgQIECAAIEqEVAIq5JECIMAAQIECBAgQIAAAQIECBAgQIBAGQLqeWUguYVAwQU0thU8gcInQIAAAQIECBAgQIAAgWwEFMKycTQKAQIECBAgQIAAAQIECBAgQIAAgUoIqOdVQtkcBPIV0NiWr7/ZCRAgQIAAAQIECBAgQKBKBBTCqiQRwiBAgAABAgQIECBAgAABAgQIECBQhoB6XhlIbiFQcAGNbQVPoPAJECBAgAABAgQIECBAIBsBhbBsHI1CgAABAgQIECBAgAABAgQIECBAoBIC6nmVUDYHgXwFNLbl6292AgQIECBAgAABAgQIEKgSAYWwKkmEMAgQIECAAAECBAgQIECAAAECBAiUIaCeVwaSWwgUXEBjW8ETKHwCBAgQIECAAAECBAgQyEZAISwbR6MQIECAAAECBAgQIECAAAECBAgQqISAel4llM1BIF8BjW35+pudAAECBAgQIECAAAECBKpEQCGsShIhDAIECBAgQIAAAQIECBAgQIAAAQJlCKjnlYHkFgIFF9DYVvAECp8AAQIECBAgQIAAAQIEshFQCMvG0SgECBAgQIAAAQIECBAgQIAAAQIEKiGgnlcJZXMQyFdAY1u+/mYnQIAAAQIECBAgQIAAgSoRUAirkkQIgwABAgQIECBAgAABAgQIECBAgEAZAup5ZSC5hUDBBTS2FTyBwidAgAABAgQIECBAgACBbAQUwrJxNAoBAgQIECBAgAABAgQIECBAgACBSgio51VC2RwE8hXQ2Javv9kJECBAgAABAgQIECBAoEoEFMKqJBHCIECAAAECBAgQIECAAAECBAgQIFCGgHpeGUhuIVBwAY1tBU+g8AkQIECAAAECBAgQIEAgGwGFsGwcjUKAAAECBAgQIECAAAECBAgQIECgEgLqeZVQNgeBfAU0tuXrb3YCBAgQIECAAAECBAgQqBIBhbAqSYQwCBAgQIAAAQIECBAgQIAAAQIECJQhoJ5XBpJbCBRcQGNbwRMofAIECBAgQIAAAQIECBDIRkAhLBtHoxAgQIAAAQIECBAgQIAAAQIECBCohIB6XiWUzUEgXwGNbfn6m50AAQIECBAgQIAAAQIEqkRAIaxKEiEMAgQIECBAgAABAgQIECBAgAABAmUIqOeVgeQWAgUX0NhW8AQKnwABAgQIECBAgAABAgSyEVAIy8bRKAQIECBAgAABAgQIECBAgAABAgQqIaCeVwllcxDIV0BjW77+ZidAgAABAgQIECBAgACBKhFQCKuSRAiDAAECBAgQIECAAAECBAgQIECAQBkC6nllILmFQMEFNLYVPIHCJ0CAAAECBAgQIECAAIFsBBTCsnE0CgECBAgQIECAAAECBAgQIECAAIFKCKjnVULZHATyFdDYlq+/2QkQIECAAAECBAgQIECgSgQUwqokEcIgQIAAAQIECBAgQIAAAQIECBAgUIaAel4ZSG4hUHABjW0FT6DwCRAgQIAAAQIECBAgQCAbAYWwbByNQoAAAQIECBAgQIAAAQIECBAgQKASAup5lVA2B4F8BTS25etvdgIECBAgQIAAAQIECBCoEgGFsCpJhDAIECBAgAABAgQIECBAgAABAgQIlCGgnlcGklsIFFxAY1vBEyh8AgQIECBAgAABAgQIEMhGQCEsG0ejECBAgAABAgQIECBAgAABAgQIEKiEgHpeJZTNQSBfAY1t+fqbnQABAgQIECBAgAABAgSqREAhrEoSIQwCBAgQIECAAAECBAgQIECAAAECZQio55WB5BYCBRfQ2FbwBAqfAAECBAgQIECAAAECBLIRUAjLxtEoBAgQIECAAAECBAgQIECAAAECBCohoJ5XCWVzEMhXQGNbvv5mJ0CAAAECBAgQIECAAIEqEVAIq5JECIMAAQIECBAgQIAAAQIECBAgQIBAGQLqeWUguYVAwQU0thU8gcInQIAAAQIECBAgQIAAgWwEFMKycTQKAQIECBAgQIAAAQIECBAgQIAAgUoIqOdVQtkcBPIV0NiWr7/ZCRAgQIAAAQIECBAgQKBKBBTCqiQRwiBAgAABAgQIECBAgAABAgQIECBQhoB6XhlIbiFQcAGNbQVPoPAJECBAgAABAgQIECBAIBsBhbBsHI1CgAABAgQIECBAgAABAgQIECBAoBIC6nmVUDYHgXwFNLbl6292AgQIECBAgAABAgQIEKgSAYWwKkmEMAgQIECAAAECBAgQIECAAAECBAiUIaCeVwaSWwgUXEBjW8ETKHwCBAgQIECAAAECBAgQyEZAISwbR6MQIECAAAECBAgQIECAAAECBA8ADEkAACAASURBVAgQqISAel4llM1BIF8BjW35+pudAAECBAgQIECAAAECBKpEQCGsShIhDAIECBAgQIAAAQIECBAgQIAAAQJlCKjnlYHkFgIFF9DYVvAECp8AAQIECBAgQIAAAQIEshFQCMvG0SgECBAgQIAAAQIECBAgQIAAAQIEKiGgnlcJZXMQyFdAY1u+/mYnQIAAAQIECBAgQIAAgSoRUAirkkQIgwABAgQIECBAgAABAgQIECBAgEAZAup5ZSC5hUDBBTS2FTyBwidAgAABAgQIECBAgACBbAQUwrJxNAoBAgQIECBAgAABAgQIECBAgACBSgio51VC2RwE8hXQ2Javv9kJECBAgAABAgQIECBAoEoEFMKqJBHCIECAAAECBAgQIECAAAECBAgQIFCGgHpeGUhuIVBwAY1tBU+g8AkQIECAAAECBAgQIEAgGwGFsGwcjUKAAAECBAgQIECAAAECBAgQIECgEgLqeZVQNgeBfAU0tuXrb3YCBAgQIECAAAECBAgQqBIBhbAqSYQwCBAgQIAAAQIECBAgQIAAAQIECJQhoJ5XBpJbCBRcQGNbwRMofAIECBAgQIAAAQIECBDIRkAhLBtHoxAgQIAAAQIECBAgQIAAAQIECBCohIB6XiWUzUEgXwGNbfn6m50AAQIECBAgQIAAAQIEqkRAIaxKEiEMAgQIECBAgAABAgQIECBAgAABAmUIqOeVgeQWAgUX0NhW8AQKnwABAgQIECBAgAABAgSyEVAIy8bRKAQIECBAgAABAgQIECBAgAABAgQqIaCeVwllcxDIV0BjW77+ZidAgAABAgQIECBAgACBKhFQCKuSRAiDAAECBAgQIECAAAECBAgQIECAQBkC6nllILmFQMEFNLYVPIHCJ0CAAAECBAgQIECAAIFsBBTCsnE0CgECBAgQIECAAAECBAgQIECAAIFKCKjnVULZHATyFdDYlq+/2QkQIECAAAECBAgQIECgSgQUwqokEcIgQIAAAQIECBAgQIAAAQIECBAgUIaAel4ZSG4hUHABjW0FT6DwCRAgQIAAAQIECBAgQCAbAYWwbByNQoAAAQIECBAgQIAAAQIECBAgQKASAup5lVA2B4F8BTS25etvdgIECBAgQIAAAQIECBCoEgGFsCpJhDAIECBAgAABAgQIECBAgAABAgQIlCGgnlcGklsIFFxAY1vBEyh8AgQIECBAgAABAgQIEMhGQCEsG0ejECBAgAABAgQIECBAgAABAgQIEKiEgHpeJZTNQSBfAY1t+fqbnQABAgQIECBAgAABAgSqREAhrEoSIQwCBAgQIECAAAECBAgQIECAAAECZQio55WB5BYCBRfQ2FbwBAqfAAECBAgQIECAAAECBLIRUAjLxtEoBAgQIECAAAECBAgQIECAAAECBCohoJ5XCWVzEMhXQGNbvv5mJ0CAAAECBAgQIECAAIEqEVAIq5JECIMAAQIECBAgQIAAAQIECBAgQIBAGQLqeWUguYVAwQU0thU8gcInQIAAAQIECBAgQIAAgWwEFMKycTQKAQIECBAgQIAAAQIECBAgQIAAgUoIqOdVQtkcBPIV0NiWr7/ZCRAgQIAAAQIECBAgQKBKBBTCqiQRwiBAgAABAgQIECBAgAABAgQIECBQhoB6XhlIbiFQcAGNbQVPoPAJECBAgAABAgQIECBAIBsBhbBsHI1CgAABAgQIECBAgAABAgQIECBAoBIC6nmVUDYHgXwFNLbl6292AgQIECBAgAABAgQIEKgSAYWwKkmEMAgQIECAAAECBAgQIECAAAECBAiUIaCeVwaSWwgUXEBjW8ETKHwCBAgQIECAAAECBAgQyEZAISwbR6MQIECAAAECBAgQIECAAAECBAgQqISAel4llM1BIF8BjW35+pudAAECBAgQIECAAAECBKpEQCGsShIhDAIECBAgQIAAAQIECBAgQIAAAQJlCKjnlYHkFgIFF9DYVvAECp8AAQIECBAgQIAAAQIEshFQCMvG0SgECBAgQIAAAQIECBAgQIAAAQIEKiGgnlcJZXMQyFdAY1u+/mYnQIAAAQIECBAgQIAAgSoRUAirkkQIgwABAgQIECBAgAABAgQIECBAgEAZAup5ZSC5hUDBBTS2FTyBwidAgAABAgQIECBAgACBbAQUwrJxNAoBAgQIECBAgAABAgQIECBAgACBSgio51VC2RwE8hXQ2Javv9kJECBAgAABAgQIECBAoEoEFMKqJBHCIECAAAECBAgQIECAAAECBAgQIFCGgHpeGUhuIVBwAY1tBU+g8AkQIECAAAECBAgQIEAgGwGFsGwcjUKAAAECBAgQIECAAAECBAgQIECgEgLqeZVQNgeBfAU0tuXrb3YCBAgQIECAAAECBAgQqBIBhbAqSYQwCBAgQIAAAQIECBAgQIAAAQIECJQhoJ5XBpJbCBRcQGNbwRMofAIECBAgQIAAAQIECBDIRkAhLBtHoxAgQIAAAQIECBAgQIAAAQIECBCohIB6XiWUzUEgXwGNbfn6m50AAQIECBAgQIAAAQIEqkRAIaxKEiEMAgQIECBAgAABAgQIECBAgAABAmUIqOeVgeQWAgUX0NhW8AQKnwABAgQIECBAgAABAgSyEVAIy8bRKAQIECBAgAABAgQIECBAgAABAgQqIaCeVwllcxDIV0BjW77+ZidAgAABAgQIECBAgACBKhFQCKuSRAiDAAECBAgQIECAAAECBAgQIECAQBkC6nllILmFQMEFNLYVPIHCJ0CAAAECBAgQIECAAIFsBBTCsnE0CgECBAgQIECAAAECBAgQIECAAIFKCKjnVULZHATyFdDYlq+/2QkQIECAAAECBAgQIECgSgQUwqokEcIgQIAAAQIECBAgQIAAAQIECBAgUIaAel4ZSG4hUHABjW0FT6DwCRAgQIAAAQIECBAgQCAbAYWwbByNQoAAAQIECBAgQIAAAQIECBAgQKASAup5lVA2B4F8BTS25etvdgIECBAgQIAAAQIECBCoEgGFsCpJhDAIECBAgAABAgQIECBAgAABAgQIlCGgnlcGklsIFFxAY1vBEyh8AgQIECBAgAABAgQIEMhGQCEsG0ejECBAgAABAgQIECBAgAABAgQIEKiEgHpeJZTNQSBfAY1t+fqbnQABAgQIECBAgAABAgSqREAhrEoSIQwCBAgQIECAAAECBAgQIECAAAECZQio55WB5BYCBRfQ2FbwBAqfAAECBAgQIECAAAECBLIRUAjLxtEoBAgQIECAAAECBAgQIECAAAECBCohoJ5XCWVzEMhXQGNbvv5mJ0CAAAECBAgQIECAAIEqEVAIq5JECIMAAQIECBAgQIAAAQIECBAgQIBAGQLqeWUguYVAwQU0thU8gcInQIAAAQIECBAgQIAAgWwEFMKycTQKAQIECBAgQIAAAQIECBAgQIAAgUoIqOdVQtkcBPIV0NiWr7/ZCRAgQIAAAQIECBAgQKBKBBTCqiQRwiBAgAABAgQIECBAgAABAgQIECBQhoB6XhlIbiFQcAGNbQVPoPAJECBAgAABAgQIECBAIBsBhbBsHI1CgAABAgQIECBAgAABAgQIECBAoBIC6nmVUDYHgXwFNLbl6292AgQIECBAgAABAgQIEKgSAYWwKkmEMAgQIECAAAECBAgQIECAAAECBAiUIaCeVwaSWwgUXEBjW8ETKHwCBAgQIECAAAECBAgQyEZAISwbR6MQIECAAAECBAgQIECAAAECBAgQqISAel4llM1BIF8BjW35+pudAAECBAgQIECAAAECBKpEQCGsShIhDAIECBAgQIAAAQIECBAgQIAAAQJlCKjnlYHkFgIFF9DYVvAECp8AAQIECBAgQIAAAQIEshFQCMvG0SgECBAgQIAAAQIECBAgQIAAAQIEKiGgnlcJZXMQyFdAY1u+/mYnQIAAAQIECBAgQIAAgSoRUAirkkQIgwABAgQIECBAgAABAgQIECBAgEAZAup5ZSC5hUDBBTS2FTyBwidAgAABAgQIECBAgACBbAQUwrJxNAoBAgQIECBAgAABAgQIECBAgACBSgio51VC2RwE8hXQ2Javv9kJECBAgAABAgQIECBAoEoEFMKqJBHCIECAAAECBAgQIECAAAECBAgQIFCGgHpeGUhuIVBwAY1tBU+g8AkQIECAAAECBAgQIEAgGwGFsGwcjUKAAAECBAgQIECAAAECBAgQIECgEgLqeZVQNgeBfAU0tuXrb3YCBAgQIECAAAECBAgQqBIBhbAqSYQwCBAgQIAAAQIECBAgQIAAAQIECJQhoJ5XBpJbCBRcQGNbwRMofAIECBAgQIAAAQIECBDIRkAhLBtHoxAgQIAAAQIECBAgQIAAAQIECBCohIB6XiWUzUEgXwGNbfn6m50AAQIECBAgQIAAAQIEKiSwavWaWLJsRbez/eh/b9phJK855cRu3x8+dEgMHTKoQisxDQECBAgQIECAAAECBAgQIECAAIHaF1DPq/0cWyGBnQlobNuZkPcJECBAgAABAgQIECBAoPAC99w7LX7zhz/Fxo0b+2wthzzjgHjh0Yf12fgGJkCAAAECBAgQIECAAAECBAgQIFAvApWo5x2c1POOV8+rl6+UdRZUQGNbQRMnbAIECBAgQIAAAQIECBAoT2Dt2rb46neuig192NSWRtLU1BjvfcvrorGhobzA3EWAAAECBAgQIECAAAECBAgQIECAwFME1PN8KQgQ2Cygsc13gQABAgQIECBAgAABAgRqXuCbP/hJLN3BMaRZAAweODDOedNpWQxlDAIECBAgQIAAAQIECBAgQIAAAQJ1LVCJet6gAQPiXWedXtfOFk+g2gU0tlV7hsRHgAABAgQIECBAgAABAr0WmDFrTlx9wy1PGSc9mLRfD0fv7jOnvez4mLL7xB6O5nYCBAgQIECAAAECBAgQIECAAAECBLYXUM/znSBAIBXQ2OZ7QIAAAQIECBAgQIAAAQJ1IXDnPX+NO++5d5u1boyNSWNbz1rbuvrMC5737Hj+855VF44WSYAAAQIECBAgQIAAAQIECBAgQKASAup5lVA2B4HqFtDYVt35ER0BAgQIECBAgAABAgQIZCSQ7rR2zfU3x4zZc7cZsSe7tnV175TJE+JVJ7+oh+1xGS3KMAQIECBAgAABAgQIECBAgAABAgRqVEA9r0YTa1kEeiCgsa0HWG4lQIAAAQIECBAgQIAAgWILtLW3x3evuj6Wr1y9ZSGlHdg2Jru27WzjtqSStrHftju8DRsyKM48/eRobWkpNozoCRAgQIAAAQIECBAgQIAAAQIECFShgHpeFSZFSAQqKKCxrYLYpiJAgAABAgQIECBAgACB/AUWLFoSV/z4xujs3LBVMGl7W9rb1nV326bjR9PrX+83NjbEG049KcaOHpn/okRAgAABAgQIECBAgAABAgQIECBAoEYF1PNqNLGWRaAMAY1tZSC5hQABAgQIECBAgAABAgRqS2Dag4/Gz351x7aL2pi0r/V7amtbqeEteS+S97a+XvrCo2LqfnvXFozVECBAgAABAgQIECBAgAABAgQIEKhCAfW8KkyKkAhUQEBjWwWQTUGAAAECBAgQIECAAAEC1Sdw069/H/fd/9C2gXXRwNZV5M+aul+ccMwR1bcoEREgQIAAAQIECBAgQIAAAQIECBCoUQH1vBpNrGUR2IGAxjZfDwIECBAgQIAAAQIECBCoS4HODRviiqtvjAWLl2xZ/6bjSLe6utjFbfyY0fH6U18SjQ0Ndelm0QQIECBAgAABAgQIECBAgAABAgTyEFDPy0PdnATyFdDYlq+/2QkQIECAAAECBAgQIEAgR4HlK1fFd666Ptrb1/0rinTXtrS9rV9yNGnpr3+1ug1obYk3nX5yDBk8KMeoTU2AAAECBAgQIECAAAECBAgQIECgPgXU8+oz71ZdvwIa2+o391ZOgAABAgQIECBAgAABAonAjFlz4uobbtnWIu1oS6+ttm9L/3z1KSfG7hPHcyNAgAABAgQIECBAgAABAgQIECBAICcB9byc4E1LIAcBjW05oJuSAAECBAgQIECAAAECBKpL4M57/hp33nPvDoM66tCD44jnHlRdgYuGAAECBAgQIECAAAECBAgQIECAQB0KqOfVYdItuS4FNLbVZdotmgABAgQIECBAgAABAgS2Fkg3aLvm+ptjxuy5XcJMmTwhTjv5RdAIECBAgAABAgQIECBAgAABAgQIEKgCAfW8KkiCEAhUQEBjWwWQTUGAAAECBAgQIECAAAEC1S/Q1t4e373q+li+cvU2wQ4bMijOPP3kaG1pqf5FiJAAAQIECBAgQIAAAQIECBAgQIBAnQio59VJoi2zrgU0ttV1+i2eAAECBAgQIECAAAECBLYWWLBoSVzx4xujs3ND6eXGxoZ4w6knxdjRI0ERIECAAAECBAgQIECAAAECBAgQIFBlAup5VZYQ4RDIWEBjW8aghiNAgAABAgQIECBAgACBYgs89NjM+MVtv4/2ZAe3k084JvbfZ0qxFyR6AgQIECBAgAABAgQIECBAgAABAjUsoJ5Xw8m1tLoX0NhW918BAAQIECBAgAABAgQIECBAgAABAgQIECBAgAABAgQIECBAgAABAgQIEKguAY1t1ZUP0RAgQIAAAQIECBAgQIAAAQIECBAgQIAAAQIECBAgQIAAAQIECBAgQKDuBTS21f1XAAABAgQIECBAgAABAgQIECBAgAABAgQIECBAgAABAgQIECBAgAABAgSqS0BjW3XlQzQECBAgQIAAAQIECBAgQIAAAQIECBAgQIAAAQIECBAgQIAAAQIECBCoewGNbXX/FQBAgAABAgQIECBAgAABAgQIECBAgAABAgQIECBAgAABAgQIECBAgACB6hLQ2FZd+RANAQIECBAgQIAAAQIECBAgQIAAAQIECBAgQIAAAQIECBAgQIAAAQIE6l5AY1vdfwUAECBAgAABAgQIECBAgAABAgQIECBAgAABAgQIECBAgAABAgQIECBAoLoENLZVVz5EQ4AAAQIECBAgQIAAAQIECBAgQIAAAQIECBAgQIAAAQIECBAgQIAAgboX0NhW918BAAQIECBAgAABAgQIECBAgAABAgQIECBAgAABAgQIECBAgAABAgQIEKguAY1t1ZUP0RAgQIAAAQIECBAgQIAAAQIECBAgQIAAAQIECBAgQIAAAQIECBAgQKDuBTS21f1XAAABAgQIECBAgAABAgQIECBAgAABAgQIECBAgAABAgQIECBAgAABAgSqS0BjW3XlQzQECBAgQIAAAQIECBAgQIAAAQIECBAgQIAAAQIECBAgQIAAAQIECBCoewGNbXX/FQBAgAABAgQIECBAgAABAgQIECBAgAABAgQIECBAgAABAgQIECBAgACB6hLQ2FZd+RANAQIECBAgQIAAAQIECBAgQIAAAQIECBAgQIAAAQIECBAgQIAAAQIE6l5AY1vdfwUAECBAgAABAgQIECBAgAABAgQIECBAgAABAgQIECBAgAABAgQIECBAoLoENLZVVz5EQ4AAAQIECBAgQIAAAQIECBAgQIAAAQIECBAgQIAAAQIECBAgQIAAgboX0NhW918BAAQIECBAgAABAgQIECBAgAABAgQIECBAgAABAgQIECBAgAABAgQIEKguAY1t1ZUP0RAgQIAAAQIECBAgQIBADwXaOtfHso6OWLF+XSzvaE+eO0rPy9f98zl9rSN5L3m99Jw8VqTvJ//uzTWsqTmGNrfEsOb+yXP/2PTv5Ln0WvLo31x6Hpq8vum5fwxvbo7WxqbeTOuzBAgQIECAAAECBAgQIECAAAECBAot0NaxMVa0b4iV/3yU/m7rjBVtyevpc3tnrEr/3vx+W3pvZ/LY2Kt1D2npF0NaGmNoa0Py3BBDk8fg1n7Jc/pa+kjeT5+T19P3N9/T2tyvV/P6MAECuy6gsW3X7XySAAECBAgQIECAAAECBPpYIG1Sm7FmRcxvWxsL2tbE/LXJY136d/JoXxvzkue2Dev7OIpsh29taIrxrQNibEvySJ7HtQxM/j0wxqR/J48pA4eWmuFcBAgQIECAAAECBAgQIECAAAECBIomsHLdxpi1tCMWruqMRcljwaqOWLRmQ/Lv9aV/L1zdGW3re9egVmmT1qZ+MWZQY4we3BhjBjfFmIHJ85CmGJ28NiZ5bfcRzTGkv+a3SufFfPUhoLGtPvJslQQIECBAgAABAgQIEKhqgX+sWBqPr14RM9eujBmrV8bs5DFzzcpe76pW1YveQXDp7m97DBwSuw8aEnsmjz0GpM9D48ChI4q6JHETIECAAAECBAgQIECAAAECBAjUkMD0BR0xe1lHPLG8o9TINmfZ+pid/N3bXdWKSpTuBjd5WHNMSprcJg9viknJ35OHN8f+Y/2Atag5FXd1CGhsq448iIIAAQIECBAgQIAAAQJ1IbAy2YFt2vLF8cDKZTF95dLSI21k69xYrF9p5pWsxn79YkrS6Lb/kBFxwJCRsf/Q4TF16MgYYoe3vFJiXgIECBAgQIAAAQIECBAgQIBATQusSnZge2B+ezyyqCMeXrQuHl7YnjSyrU/qeTW97MwW15hs5Lb7iKbYd0xL7Du6f/KcNru1xGA7vGVmbKDaFtDYVtv5tToCBAgQIECAAAECBAjkJrCovS3uT3Ziu3/lkvjH8iXJ89J4MjlO1JW9wG7JUaZPT5rdpg4fVXo+IHmMbmnNfiIjEiBAgAABAgQIECBAgAABAgQI1KzAkuTI0AcXrIuHFrXHg/PXxYNJI9v8lZ01u948FzZuSGPslzS67T+uJZ42pn/pMXJgQ54hmZtAVQpobKvKtAiKAAECBAgQIECAAAECxRJIG9bSxrVSA9uKTU1saWObKz+BtLEtbXI7MNnR7cBhI0t/j08a4FwECBAgQIAAAQIECBAgQIAAAQIE0oa1tHEtbWB7KNmF7cGF6yJtbHPlJ5A2tu2XNLjtl+zott/Y5DlpfBubNMC5CNSzgMa2es6+tRMgQIAAAQIECBAgQKAXAhtiY0xLdmS7fcGcuH3R3NLubK7qFXj60BFx9OgJcfTYicnxpSOiIZJzEFwECBAgQIAAAQIECBAgQIAAAQJ1I7AhOT50etLA9ocZa+Oux9ckzWwddbP2Ii50v+TY0sP3HBhHTBkQ+ycNbw3KeUVMo5h7KaCxrZeAPk6AAAECBAgQIECAAIF6EujYuCH+uHh+/Gr+7Pj1wjmxZF17PS2/ZtY6sn9L/PuYiXH8uN3j0FFjo7mfYw5qJrkWQoAAAQIECBAgQIAAAQIECBDYSmB9sgnbn2a3xe2Pro47k4a2pWvtylbEL8iIAQ1xZNLgdszeg+KQya3RpJxXxDSKeRcENLbtApqPECBAgAABAgQIECBAoJ4E1nSujzsXzys1s6W7s61K/u2qHYHBjU2lXdyOHzc5XjBqfLQm/3YRIECAAAECBAgQIECAAAECBAgUV2Btx8a4e9amZrY/PL42Vq9Ltmpz1YzAoP794og9kya3fQbFoUmTW2uzrdxqJrkW8hQBjW2+FAQIECBAgAABAgQIECDQpcDMtSvj6lmPxHVzZ8SyjnWU6kBgeHP/ePmEKXHa7vvEHgOG1MGKLZEAAQIECBAgQIAAAQIECBAgUDsCTyxfH9f9fWX84oFVsaJdM1vtZLb7lQxrbYgT9x8UL3/GkJg0zA9W6yHn9bZGjW31lnHrJUCAAAECBAgQIECAwA4E1m3YELcumB1XzX4k/rR0Ias6FnjuiLFx+uR94tixk6J/g7MN6virYOkECBAgQIAAAQIECBAgQIBAFQt0dG5MdmZbG9dNWxl/ndtexZEKra8Fnj2xJV4+dUgctdeAaG60i1tfexu/MgIa2yrjbBYCBAgQIECAAAECBAhUtcCG2Bg/mzszLn10Wsxau6qqYxVcZQXSndvO2WdqnLjb7tEQCmKV1TcbAQIECBAgQIAAAQIECBAgQKBrgQ3Jhmy/enB1fOee5TFnxXpMBLYIpDu3nXXo8Dh234HRoJznm1FwAY1tBU+g8AkQIECAAAECBAgQINAbgfRAgpvnz45LHvl7PLZ6RW+G8tkaF9h70NB4977PjOOSHdzUw2o82ZZHgAABAgQIECBAgAABAgQIVK1AWs/7zSNr4vK7l8fMpR1VG6fA8hfYc2RTnH3YiNIObup5+edDBLsmoLFt19x8igABAgQIECBAgAABAoUXmLN2dZw/7e74v6ULCr8WC6icQHpE6YVTD42JAwZVblIzESBAgAABAgQIECBAgAABAgQIxJPJzmwX3rY47p3jyFFfh/IF0iNKzz92VOw2tKn8D7mTQJUIaGyrkkQIgwABAgQIECBAgAABApUSSH/VedXsR+KiB/8abRscU1Ap91qaZ0BDU5y3/7PitEn7+LVnLSXWWggQIECAAAECBAgQIECAAIGqFEjredf9fVV87fdLo219+i8XgZ4JtDb1i3OOHBEnTx2sntczOnfnLKCxLecEmJ4AAQIECBAgQIAAAQKVFLBLWyW1a38uu7fVfo6tkAABAgQIECBAgAABAgQIEMhXwC5t+frX2ux2b6u1jNb+ejS21X6OrZAAAQIECBAgQIAAAQIlgQdWLI233Xt7LGxvI0IgM4ExLa3xjWcfHQcMHZHZmAYiQIAAAQIECBAgQIAAAQIECBCIeGjhujjvxoWxeE0nDgKZCYwa2BgXnTQmnjamf2ZjGohAXwlobOsrWeMSIECAAAECBAgQIECgigRuW/BEnPe3u5KjRxXBqigtNRNKa0NSDHvm4XHs2Ek1syYLIUCAAAECBAgQIECAAAECBAjkKfC7x9bEJ25ZHO2OHs0zDTU7d0tyNOknjh8VL9hrYM2u0cJqQ0BjW23k0SoIECBAgAABAgQIECDQrcCdi56Mt/7l9tjIiEAfCvRLxv76wUfFUaMnrQnCrwAAIABJREFU9OEshiZAgAABAgQIECBAgAABAgQI1L7A3bPWxgduWKieV/upznWFaT0v3bntsD0G5BqHyQnsSEBjm+8HAQIECBAgQIAAAQIEaljg8dUr4tQ/3hKrO9fX8CotrVoEBjc1x9WHvjCmDBpaLSGJgwABAgQIECBAgAABAgQIECBQKIFZSzvizdfMizUdfqZaqMQVNNhB/fvFZaeOj91HNBd0BcKudQGNbbWeYesjQIAAAQIECBAgQKBuBVZ1dsSr7rolHl+zsm4NLLzyAlMGDomrDz8+BjcqhlVe34wECBAgQIAAAQIECBAgQIBAkQVWr9sQb756Xsxe7keqRc5j0WLffXhTXPaq8TGof0PRQhdvHQhobKuDJFsiAQIECBAgQIAAAQL1KXDZjAfiSw/fV5+Lt+pcBd6770Fx9pQDco3B5AQIECBAgAABAgQIECBAgACBogl8/88r4pt3LSta2OKtAYG3Hj48Xn+IUxhqIJU1twSNbTWXUgsiQIAAAQIECBAgQIBARFty9OiL7vxZLGxvw0Gg4gJjWwbEL498SbQ2NlV8bhMSIECAAAECBAgQIECAAAECBIoo0L5+Q7zqyidj8ZrOIoYv5oILjB7UGFe/frdoabJrW8FTWXPha2yruZRaEAECBAgQIECAAAECBCKueuKR+O/7/4SCQG4CnzzwefGKiXvlNr+JCRAgQIAAAQIECBAgQIAAAQJFErhu2qr4/G+XFClksdaYwIeOHRkvPWBwja3KcoouoLGt6BkUPwECBAgQIECAAAECBLoQOH/aH+O6uY+zIZCbwMsn7BkXTj0st/lNTIAAAQIECBAgQIAAAQIECBAoksCnb10cN01fXaSQxVpjAifuPyg+ctyoGluV5RRdQGNb0TMofgIECBAgQIAAAQIECHQhcPrdv4q/LV/MhkBuAs8cNiquOvSFuc1vYgIECBAgQIAAAQIECBAgQIBAkQTe8uP5cf/89iKFLNYaE3j6uJb41qnjamxVllN0AY1tRc+g+AkQIECAAAECBAgQINCFwKG//kmsXN/BhkBuAkOamuPuf39FbvObmAABAgQIECBAgAABAgQIECBQJIETLnsiVrVvKFLIYq0xgcEtDfHLsyfV2Kosp+gCGtuKnkHxEyBAgAABAgQIECBAoAsBjW2+FnkLaGzLOwPmJ0CAAAECBAgQIECAAAECBIokoLGtSNmqzVg1ttVmXou+Ko1tRc+g+AkQIECAAAECBAgQINCFgKNIfS3yFnAUad4ZMD8BAgQIECBAgAABAgQIECBQJAFHkRYpW7UZq6NIazOvRV+VxraiZ1D8BAgQIECAAAECBAgQ6ELg/Gl/jOvmPs6GQG4CL5+wZ1w49bDc5jcxAQIECBAgQIAAAQIECBAgQKBIAp++dXHcNH11kUIWa40JnLj/oPjIcaNqbFWWU3QBjW1Fz6D4CRAgQIAAAQIECBAg0IXAj+c8Fh//xz1sCOQm8MkDnxevmLhXbvObmAABAgQIECBAgAABAgQIECBQJIEb7l8dn/v14iKFLNYaE/jQsSPjpQcMrrFVWU7RBTS2FT2D4idAgAABAgQIECBAgEAXAm2d6+OY26+PFes7+BCouMCYlta4+ciXRmtjU8XnNiEBAgQIECBAgAABAgQIECBAoIgC7es3xMu/OydWtm8sYvhiLrjAqIGNcc0Zu0VLU0PBVyL8WhPQ2FZrGbUeAgQIECBAgAABAgQI/FPga49Oi/ThIlBpgffue1CcPeWASk9rPgIECBAgQIAAAQIECBAgQIBAoQW+c8/ySB8uApUWeOvhw+P1hwyt9LTmI7BTAY1tOyVyAwECBAgQIECAAAECBIopsKqzI06765aYsWZlMRcg6kIK7DlwSFxz+PExuLG5kPELmgABAgQIECBAgAABAgQIECCQl8DqdRvi7Gvmxaxl6/MKwbx1KDB5WFN8+7TxMai/3drqMP1Vv2SNbVWfIgESIECAAAECBAgQIEBg1wVmrF4Rp939q1jlSNJdR/TJsgUGJUeP/viw42PPQX7dWTaaGwkQIECAAAECBAgQIECAAAECWwnMWtoRZ/94Xqxe50hSX4y+FxjY3C++/arxsfsIP1Lte20z7IqAxrZdUfMZAgQIECBAgAABAgQIFEjgjkVz4+1/uSOUwgqUtAKG2i+J+ZsHHx1Hjt6tgNELmQABAgQIECBAgAABAgQIECBQPQJ/nLk2zrtxoXpe9aSkJiNJ63mff9mYOHT3ATW5PouqDQGNbbWRR6sgQIAAAQIECBAgQIDADgVuW/BEnPe3u6JtQycpApkLtDY0xkXPPDyOHTsp87ENSIAAAQIECBAgQIAAAQIECBCoR4HfPbYmPnHL4mhf7+eq9Zj/vl5zS1O/+MTxo+IFew3s66mMT6BXAhrbesXnwwQIECBAgAABAgQIECiOwAMrlsbb7r09Fra3FSdokVa9wITWQfHVZx0ZBwwdUfWxCpAAAQIECBAgQIAAAQIECBAgUCSBhxauK+3ctniNH6sWKW/VHuv4IY1x4YvHxNPG9K/2UMVHIDS2+RIQIECAAAECBAgQIECgjgQWtCfHGCQ7t/3f0gV1tGpL7SuB544YG19OmtqGNyuC9ZWxcQkQIECAAAECBAgQIECAAIH6Fli0ujMuuGVR3Dunvb4hrD4TgWdPbIlPnTgmhrU2ZDKeQQj0tYDGtr4WNj4BAgQIECBAgAABAgSqTCA9vODqJx6Ji6b/NdZuWF9l0QmnCAKtDU1x3n7PitMn7xP9ihCwGAkQIECAAAECBAgQIECAAAECBRZI63nXT1sVl9y5NNocTVrgTOYXemty9Og7nz8iXv6Mwep5+aXBzLsgoLFtF9B8hAABAgQIECBAgAABAtUucMfCJ+OoMbvtMMw5a1fH+dPutntbtSezyuJLd2m7cOqhMXHAoB1GdvuiJ+Po0Tv+DlbZ0oRDgAABAgQIECBAgAABAgQIEMhN4K7H2+LwPVt3OP+TK9bHhbcttntbblkq5sTpLm3nHzsqdhvatMMF3DUz+Q7usePvYDEFRF1kAY1tRc6e2AkQIECAAAECBAgQINCNwDN/dXV89VkviKPHTNihUfprz1sXPBFfefhv8ejqFTwJdCuw16Chcc4+z4gXjZu801913pZ8p8697/fx9xeeRpQAAQIECBAgQIAAAQIECBAgQKAMgaMvnRWfefGYOGLPATut593x2Nq47I9L4/ElTmMog7Zub9ljRHOcdeiw+Ld9Bu60nve7x9bER29aFLe/c/e69bLw6hTQ2FadeREVAQIECBAgQIAAAQIEeiXw9FuuioakXPHWvZ4e79h7ajT22/GBkRtiY9z05Ky45JFpMXPtyl7N7cO1JbC5oe34cZNK36kdXR0bN8TFD98X33v8weQbFXH/8afXFobVECBAgAABAgQIECBAgAABAgT6SODIS2ZFQ1J6OeM5w+LM5w1L6nk7nmhDUny57eE1cfndy+KJ5Rrc+igthRx2c0PbMXsPLH2ndnSt3xDxzbuWxlX3rizV8+48R2NbIZNew0FrbKvh5FoaAQIECBAgQIAAAQL1K5A2tm2+Dho6Kr70rOfH+NaBZYH8Yt6suHr2I44oLUurdm96zogxcfrkfePF48srZj2+ZmW8974748GVy7egaGyr3e+HlREgQIAAAQIECBAgQIAAAQLZCqSNbZuvA8f1j0+eMCbGDmksa5K0we26aSsdUVqWVu3e9KwJLXHKM4bEsfuWVweenTREfvSmhfHooo4tKBrbavf7UdSVaWwraubETYAAAQIECBAgQIAAgR0IbN3Ylt42uKk5PjP10Dh27KSy3dKd266e9UhcN3dGLOtYV/bn3FhcgeHN/ePlE6bEabvvE3sMGFL2Qn6UNEJe9OC90b6hc5vPaGwrm9CNBAgQIECAAAECBAgQIECAQJ0LbN3YllIM6t8vPnLcqDhqr/KalNLPpDu3Xff3lXHT9NWxvC3ZistV8wJDW/rFiw8YHC9PGtomDWsqe70//fuquOT3S2Pd+nSftn9dGtvKJnRjhQQ0tlUI2jQECBAgQIAAAQIECBCopMD2jW2b537ZhD3jw/sfEsOSRreeXLcseCJ+NX923L5gTqzqdLRBT+yq/d7BjU1x9NiJ8cJxk+P4HjQ+puuau3Z1fOKB/4s7F83rcpka26o9++IjQIAAAQIECBAgQIAAAQIEqkVg+8a2zXG9aP9Bce4LRsaQpIGpJ9dvH10btz+6Ov7w+NpYvW7b5qWejOPe6hNImx6P2HNAHL33oDhm7wE9CnDeys646DeL4u5Z7V1+TmNbjzjdXAEBjW0VQDYFAQIECBAgQIAAAQIEKi3QXWNbGseIZFeujxxwSHLE5B49Dqtj44a4e/GCuGX+rPj1wjmxZF3XBZAeD+wDFRUY2b8l/n3Mpma2w0aNi+Z+DT2af0NsjO89/mBc8si0aNvQfaOjxrYesbqZAAECBAgQIECAAAECBAgQqGOB7hrbUpLhrQ1x7lEj47inlb9722bK9cnGbX+e3Ra/TZrc7pyxNpautZNbEb9mIwY0xJFTNjWzPWdyazT1rJwXG5Lexqv/ujIuv3tZtG23S9vWHhrbivjtqO2YNbbVdn6tjgABAgQIECBAgACBOhXYUWPbZpKDho6Kt+0zNY4evdsuKaXNTdNWLC3t4nb7orlxf/K3q3oFnj50RJLrCaXd2aYmfzdEz37lm65s/caNcX1yNO23H3sg0qNqd3ZpbNuZkPcJECBAgAABAgQIECBAgAABApsEdtTYttnowHH9443PGx6H79G6S2xpc9P0heviD0mD212Pr4kHF3bs0jg+VBmB/cY0x+F7Dowjkoa2/cf0j4ael/MibWz85YOr4gd/WlE6qnZnl8a2nQl5v9ICGtsqLW4+AgQIECBAgAABAgQIVECgnMa2zWHsM3hovGXKgfHS3Xq+g9vWS1m0ri3uSBrc7lgwN/6ybFGk/3blJzC6f2scPHx0HDV2QhyVNLSl/97Va3VnR1wz+7G4Yub0WNC+tuxhNLaVTeVGAgQIECBAgAABAgQIECBAoM4Fymls20w0ZWRTvP6QYXH8foN6pbZkzYa4a+aapMltbfztyfZI/+3KT2DkwIZ45m4tSTPbgKR5cWCk/97Va03Hhrh+2upkl7YVsWh1Z9nDaGwrm8qNFRLQ2FYhaNMQIECAAAECBAgQIECgkgI9aWzbHNfoltY4ffI+8erJTysdV9rba1F7W0xbuSTZyW1J/GNZ8rxyaczvQVNUb+evp8/v1jownj5kRBw4bGTynDySHdnSfPb2enzNyrji8elxw9yZsXYHR452N4/Gtt5mwOcJECBAgAABAgQIECBAgACBehHoSWPbZpO08emUZwwpPdLjSnt7pY1t0xesS3Zya4/p89vjoUUdsXBV+U1RvZ2/nj4/bkhj7De6f+yX7ML3tNEtsd/Y/r1qZNtsNzvZle2qe5fHzdPX7PDI0e6sNbbV07ewGGvV2FaMPImSAAECBAgQIECAAAECPRLYlca2zRM09esXx4yZGK+YtHccOWp8NCb/zupaub4jOb50SUxfsSweSJrepifNbjNWr4zO5IhL184F0lxMGTQk9k+a2NLHAUOGx9Rho2JIU/POP1zmHe2dnXHT/Flx7ROPJTvvLSzzU13fprGtV3w+TIAAAQIECBAgQIAAAQIECNSRwK40tm2p5yU9bUcku3yddOCQeN7urUk9Lzu4Ves2Js1u7fFwcmzpw4vWJc/tMWvp+qSel90ctTxSmovdRzTFvmNaYt+kkW2f0c1xwLiWGNw/uyS1r98Yv35kTdz4j1Wlnfd6c2ls642ez/aFgMa2vlA1JgECBAgQIECAAAECBHIW6E1j29ahj+rfEi/fbUocPXZiPGfEmD5b1T9WLI3HV6+ImWtXJs8rY1bymJnsFrY8aYSrx2tY0qi2x8AhMTlpYksb2fYYMCT2HDQ0Dkx2Yuur63eLnoxb58+Onz05a5d2Z+sqLo1tfZUt4xIgQIAAAQIECBAgQIAAAQK1JtCbxratLUYOaIgT9h8UR0wZGM+a0NJnTNMXdMTsZR3xxPL0eX08sTR5Tv5e2V6fHW9DWvrF5GHNMXF4U9LI1hyTkr8nD2+O/cdm94PU7ZP5x5ltccejq+OWh3Ztd7auvhwa2/rsPxkD76KAxrZdhPMxAgQIECBAgAABAgQIVLNAVo1tW69xYGNTHJHs4HbM2Alx2IhxMWHAoD4nWJE0ts1YsyLmt62NhcljXtua5DjTNbEg+XtBcqzpvOS5bReOyOzzwHcwQWtDU4xvHRBjW5JH8jyuf/IYMDD5e2CMS/49ZeDQGJrhDmzdhTJ37er43eJ5cfuCOXHXkvnRviH7YyU0tuX5TTM3AQIECBAgQIAAAQIECBAgUCSBrBrbtl7zgOZ+8dzJrfH8vQbGIRNbY3xy/GVfXyuTHd5mJU1u6RGmi1Z3xsKV62PhmuR51fpYlLy2MHmtLdlhrEhXa1O/GDOoMUYPbowxg5tidHIE7NjBzf/8d2OpkW1IhjuwdWczb2Vn/HFWW/xhxur40xPtsa4PHDW2FembWR+xamyrjzxbJQECBAgQIECAAAECdSbQF41t2xOmjW2Hjhgbzxs5LnmMjd2Sxqw8rrbO9bGsoyNWrF8Xyzvak+eO0vPydf98Tl/rSN5LXi89J48V6fu93A0u3VVtaHNLDGvunzz3j03/Tp5LryWP/s2l57RJbdNz/xje3BytSYNgHteTSVPg3UkD2z1LFsQ9SxdE2tjW15fGtr4WNj4BAgQIECBAgAABAgQIECBQKwJ90di2vc34oY1x8ITWOHhSazw7aXQbV4FGt67y09axMVa0b0h2d9v0KP3d1hkr2pLX0+f2zliV/r35/bb0vs5e7waX7qo2pKUxhrY2JM8NMTR5DG7tlzynr6WP5P30OXk9fX/zPa1Jg2Ae1/ykke0vc9pKj3uTx7wV2f8wdft1aWzLI9Pm3JGAxjbfDwIECBAgQIAAAQIECNSgQCUa27ZnmzxgcDx7xOg4JGl2O2T46NgrOTrTlZ/AI6tWxF+WL4w/L1kYf1m6MOa09X0j2/ar1diWX/7NTIAAAQIECBAgQIAAAQIECBRLoBKNbduLTBjaFM9Ijis9KGl2O2i3/rFHsvOYKz+BGUvWx9+ebI+/zW1LHu3xZLLbXaUvjW2VFjffzgQ0tu1MyPsECBAgQIAAAQIECBAooEAejW3bM6U7lR0yfEwcPHJMPDtpdDtg6IgYkBzD6cpeYE2ya939K5bGX5cvir8kjWx/XrYwVvZyR7osotTYloWiMQgQIECAAAECBAgQIECAAIF6EMijsW171/Q4zWcmjW7PTHZze8b4lnjamP6RHsPpyl5gbbJr3YML18W0ef9qZFuVHOOa96WxLe8MmH97AY1tvhMECBAgQIAAAQIECBCoQYFqaGzrijXd1W2/IcNj/6HJY8iI0t8TWwfVYAb6ZklpaWv22lXx4MplMT1pZEuf00ceu7GVs0KNbeUouYcAAQIECBAgQIAAAQIECBAgEFENjW1d5SHd1W2f0c2xb9Lkts/o9NEcuw3x49Vyv7NpPW/uivXxyKKOeDhpZHt00brS33nsxlZOzBrbylFyTyUFNLZVUttcBAgQIECAAAECBAgQqJBAtTa2dbX81mQXt90HDkoeQ2KPpPFt98FDY/KAQbFH8u/xrQOj3n4TuiE2xpNta2LW6pUxa+3qmLVmRcxcvSr5e2XS1LY62js7K/Qt6v00Gtt6b2gEAgQIECBAgAABAgQIECBAoD4EqrWxrct6XrKL28RhTaXHpPQxon9MHNqY/N0cY4c01l89L+lem79qfTyxbH3MWdEZc5atK/39xPKOpKmtM9rX578TW7n/FWlsK1fKfZUS0NhWKWnzECBAgAABAgQIECBAoIICRWps2xnLuJYBMb5lYIxqaY2xyd/jBgyMMcnf45LXRvcfEGNbB8SI5v47G6Yq3l+8rj0WtK+NxcljfvJI/16QNLGlz4va27a8VhXBZhCExrYMEA1BgAABAgQIECBAgAABAgQI1IVAkRrbdpaQMYMbY+ygxhg5sDFGJc9jBzfFqOS1Mem/00fy9/DWhp0NUxXvL1m7IRav7owlazpj4er1sWhVZ/JIntdsen1h8liUPGrl0thWK5msnXVobKudXFoJAQIECBAgQIAAAQIEtgjUUmNbuWkdnzS4jUka3cYkzW9p49uo5O/WpsZoaWiM/smjNX1u/OdzQ0O0Jn/375e8nz6n//7nfS2NDTGosbk07erOjmSHtA2xbkNnrE0e65K/2zemz8kvLZN/p4+25O/0/fYNyXvp38n7a9cnxa2kWW1h0qy2cN2m57R5rd4ujW31lnHrJUCAAAECBAgQIECAAAECBHZVoJYa28o1GJs0uKWNbqPTJrhBDTFyQFO0NPdL6nX9orkprd9F8rzp3/2TR0vyd/rcP31OX29I70tfjxjY/P/Zuw/4qKq0j+NPeu+V0DsoggIiRYqLKBYUrLi6KvYu6r72snbXrou9l3VRsYuoiAoqKKKI9CYtkAqkkN7ec25MTELKTGYmc+/c393PfNLuPfc53+fCwvjnnNqgXHGFeo+uUqRCrZJWWlVjfCyrrpFy9VG/ytT3jM/VxzKVRyuvVO/9qc9LK2pkjw6uqQCbDrHlFlX7VGDN0Z4QbHNUivM6SoBgW0dJcx8EEEAAAQQQQAABBBBAoAMF7Bhs60BebuWgAME2B6E4DQEEEEAAAQQQQAABBBBAAAEEbC9gx2Cb7ZtuQgCCbSZsis1LIthm8weA6SOAAAIIIIAAAggggIBvChBs882+Wm1WBNus1jHqRQABBBBAAAEEEEAAAQQQQAABbwkQbPOWPPdtKECwjefBbAIE28zWEepBAAEEEEAAAQQQQAABBNwgQLDNDYgM4bIAwTaXCRkAAQQQQAABBBBAAAEEEEAAAQRsIkCwzSaNNvk0CbaZvEE2LI9gmw2bzpQRQAABBBBAAAEEEEDA9wUItvl+j60wQ4JtVugSNSKAAAIIIIAAAggggAACCCCAgBkECLaZoQvUQLCNZ8BsAgTbzNYR6kEAAQQQQAABBBBAAAEE3CBAsM0NiAzhsgDBNpcJGQABBBBAAAEEEEAAAQQQQAABBGwiQLDNJo02+TQJtpm8QTYsj2CbDZvOlBFAAAEEEEAAAQQQQMD3BQi2+X6PrTBDgm1W6BI1IoAAAggggAACCCCAAAIIIICAGQQItpmhC9RAsI1nwGwCBNvM1hHqQQABBBBAAAEEEEAAAQTcIECwzQ2IDOGyAME2lwkZAAEEEEAAAQQQQAABBBBAAAEEbCJAsM0mjTb5NAm2mbxBNiyPYJsNm86UEUAAAQQQQAABBBBAwPcFCLb5fo+tMEOCbVboEjUigAACCCCAAAIIIIAAAggggIAZBAi2maEL1ECwjWfAbAIE28zWEepBAAEEEEAAAQQQQAABBNwgQLDNDYgM4bIAwTaXCRkAAQQQQAABBBBAAAEEEEAAAQRsIkCwzSaNNvk0CbaZvEE2LI9gmw2bzpQRQAABBBBAAAEEEEDA9wUItvl+j60wQ4JtVugSNSKAAAIIIIAAAggggAACCCCAgBkECLaZoQvUQLCNZ8BsAgTbzNYR6kEAAQQQQAABBBBAAAEE3CBAsM0NiAzhsgDBNpcJGQABBBBAAAEEEEAAAQQQQAABBGwiQLDNJo02+TQJtpm8QTYsj2CbDZvOlBFAAAEEEEAAAQQQQMD3BQi2+X6PrTBDgm1W6BI1IoAAAggggAACCCCAAAIIIICAGQQItpmhC9RAsI1nwGwCBNvM1hHqQQABBBBAAAEEEEAAAQTcIECwzQ2IDOGyAME2lwkZAAEEEEAAAQQQQAABBBBAAAEEbCJAsM0mjTb5NAm2mbxBNiyPYJsNm86UEUAAAQQQQAABBBBAwPcFCLb5fo+tMEOCbVboEjUigAACCCCAAAIIIIAAAggggIAZBAi2maEL1ECwjWfAbAIE28zWEepBAAEEEEAAAQQQQAABBNwgQLDNDYgM4bIAwTaXCRkAAQQQQAABBBBAAAEEEEAAAQRsIkCwzSaNNvk0CbaZvEE2LI9gmw2bzpQRQAABBBBAAAEEEEDA9wUItvl+j60wQ4JtVugSNSKAAAIIIIAAAggggAACCCCAgBkECLaZoQvUQLCNZ8BsAgTbzNYR6kEAAQQQQAABBBBAAAEE3CBAsM0NiAzhsgDBNpcJGQABBBBAAAEEEEAAAQQQQAABBGwiQLDNJo02+TQJtpm8QTYsj2CbDZvOlBFAAAEEEEAAAQQQQMD3BQi2+X6PrTBDgm1W6BI1IoAAAggggAACCCCAAAIIIICAGQQItpmhC9RAsI1nwGwCBNvM1hHqQQABBBBAAAEEEEAAAQTcIECwzQ2IDOGyAME2lwkZAAEEEEAAAQQQQAABBBBAAAEEbCJAsM0mjTb5NAm2mbxBNiyPYJsNm86UEUAAAQQQQAABBBBAwPcFCLb5fo+tMEOrBduqqqolL79QEuJjrMBLjQgggAACCCCAAAIIIIAAAggg4EMCBNt8qJkWngrBNgs3z0dLJ9jmo41lWggggAACCCCAAAIIIGBvAYJt9u6/WWZvpWDbitUb5OvFP0tZWbmMOXSIjD1sqFkYqQMBBBBAwMICFZWV8u4Hn0p5eYWEhYfIaVOniJ+fn4VnZN7SK6uqlPUn6v/LKyQpMV6OO3qieYu1QWUlpaWyZt0GycjMlt179kp0VJRMmzK5fualZWUy58O5UllZJVFREXLyCcfaQIUpIoAAAgh0hMBPv66SZSvWSECgv4waNliGHNCvI27rlnsQbHMLI4O4KECwzUVALne7AME2t5MyIAIIIIAAAggggAACCCDgfQGCbd7vARWIWCHYpldpm//dj/LbqvWNWnbFeadCBQJ8AAAgAElEQVRLZHg4bUQAAQQQQMAlgYysHDnpzPPrx1jw8dsSHh7m0phc3LxAdm6unDj9POOHsTExMu+9N6DyksDC75bIY0+/IFk5ufUVBAUGyqLP36//evOWbXLWhVfWf73kq4+9VC23RQABBBDwJYEy9Y8JnnjxLamurq6f1sGD+suksSMlIMDf9FMl2Gb6FtmiQIJttmizpSZJsM1S7aJYBBBAAAEEEEAAAQQQQMAxAYJtjjlxlmcFzB5s21dULHM+XSCZDf6ja53IjOknSopa7YUDAQQQQAABVwQItrmi59y1BNuc8/LU2Tt3ZcoZ510merXChgfBNk+JMy4CCCCAQEOBrNzd8srs/cPSqUmJcsrxEyUywtz/gI1gG8+zGQQItpmhC9TQUIBgG88DAggggAACCCCAAAIIIOCDAgTbfLCpFpySmYNtO9W2WO+pUFux2iaruYNgmwUfOEpGAAEETChQUFAoF19zg7E9ZkRYmLz89CMSFBRkwkqtXxLBNnP08L5HZ8knn31pFNM5LdXYYjQxIV7i42Jl2MGD64vMUcGDy/95i7EVqd6m9NVnHjXHBKgCAQQQQMDSAi0F2/SkwkND5WQVbuucmmzaORJsM21rbFUYwTZbtdsSkyXYZok2USQCCCCAAAIIIIAAAggg4JwAwTbnvDjbMwJmDbYt+32NfP3dUqmuqWlx4gTbPPNMMCoCCCCAAAKeEiDY5ilZ58a94Ir/k9Xrard4f/qR++SQIYOcG4CzEUAAAQQQcEGgtWCbHtbf318mHn6oDBt8gAt38dylBNs8Z8vIjgsQbHPcijM7RoBgW8c4cxcEEEAAAQQQQAABBBBAoEMFCLZ1KDc3a0HAbMG2yqoqmTv/O1m7aUubPSPY1iYRJyCAAAIIIGAqAYJt5mjH8aeeI7v37jWK+ezd1yVOrdTGgQACCCCAQEcJtBVsq6tjUP/eMvlvYyQwIKCjSnPoPgTbHGLiJA8LEGzzMDDDOy1AsM1pMi5AAAEEEEAAAQQQQAABBMwvQLDN/D2yQ4VmCrblF+6T9+YukOzcPfvR10jtym1+6n91B8E2OzyhzBEBBBBAwJcECLaZo5vjjjlZKioqjGK++ni2RISHm6MwqkAAAQQQsIXAfsG2uoXa//rrfr1DcmK8nKK2Jo2OjDSNDcE207TC1oUQbLN1+005eYJtpmwLRSGAAAIIIIAAAggggAACrgkQbHPNj6vdI2CWYNu29Ax5f97XUlZW3mhijd7f1l80eKObYJt7ngFGQQABBKwskJ9fIH9s3e7wFALUih+DBw3c7/z1GzdJcXGpREZFSN9ePZsdr7lzVq1ZJ0t/+U1ydu+RkKBg6ZSaJKMPO1S6dklzuCZ3nFhRWSmLf/xZtm5Pl4ysbAkNCZFOnZJl3OiR0ikl2aFbpO/MkJ9/XSG7MjOlcF+RpCYnS/euaTJm5AgJDg5yaAx9knZatnylZGRmi6gtxZOTE9UYh0rvnt1VeD1XTpx+njFWbEyMzHvvjTbH3b5jp/y8XNWVkSnFJaWSlpoiPbt3lVEjhktAgH+b17t6QsNnrG+fXhIZES4FBYWy8IcfZcu2HbKvqEiSkxKkV/duMnbMSAkKDGz1ls09RxmZWfLr76tk7dqNkqTGOujAATJ0yEEtjtNekw0bN4v+hwTX3HSHVFVVG+P/+65bJCoiwvi8ued/zboNxp/PYmKipVePbo1q0s9apu6zOrp16ywJcXEt1rxj5y7J/fMfL+hnITo6ytXWcD0CCCCAgEUFmgbb6v+qrz6pUX/nb5pvCwsNkZOOmShdO6eYYsYE20zRBtsXQbDN9o+A6QAItpmuJRSEAAIIIIAAAggggAACCLguQLDNdUNGcF3ADMG2H39dKQsXL/tzTba/5rTfKm0E21xvOCMggAACPibwn+delrfe/dCpWb323OPSr3ev+mt0WGrilNOMr4OCgmTRvPf2G6/pOQs+eVv+dd8j8vWiH/Y718/PTyYdMVZuuu5KI2Dm6eOjuV/Iy2/MVqGx3c3eaurxk+W6Ky9ucRuvHHXd40+/KN9+v0Sqq2vDTg2PhPh4OfvvJ8tpU6e0OpW9e/PkjvsfVeG435o9b/opJ8r0k0+QqWecb/y8rWBbZnauPPbU8/Ld4p9UPq4u6v7X0GmdUuTiGf+Qo/42zqPEs55/Rf77zgfGPS49/2w56IAB8s/b7lZByJL97puSlCjXz7xMhRuHN1tT0+fom0/fldvufUi+aeY5GjVimNx96/81Wk3NFRMdfhw3+aRWrZo+/7v37JHjTzu3xX7pZ++Bx54yfh4XGytvvvikxKuPTQ8djrv46htEbzmvw4gvz3pE+vXt7dG+MTgCCCCAgHkFWgy2qZKbW61dz0T/+WrC6OFy2CGDvD4xgm1ebwEFKAGCbTwGZhMg2Ga2jlAPAggggAACCCCAAAIIIOAGAYJtbkBkCJcFvBlsK6+olE+/WiQbNm/bbx7NvpndJNjW5EuXLRgAAQQQQMAcAnp1sKT4OBkz4mDppVaBau144tmXZPacj5wq/LVnHmsUqtEBpYknnG6MoVfbWvT5+/uN1/AcHcw5bPhQWfzTslbvO/yQwfL4A3d5dFWxF157ywi1tXWMPHSo3HvbDRIeHtbo1IysHLnq+ltFr9bW1nHGKVPlqktqV1treugV3i695kbZvGX//09veO640YfJIhVU00drwbaduzLlClVX3WpgrdV29WUXyPSTTmir/Hb//MlnX5b/zakNTx469GD5ffWa/VaYbTi4foYevPtW0eZNj4bPUaBaPfCoiePlsy+/brY2Hdx747kn63vmqokOto1XW5A2FxKsKyAkJFi+nTunvp5ctRLhlNPPNb7WK6x98f5/96t15o13yE/LlhvfH3/4KHngXzc1Oqe0rEzOuWSm6FXm9HH+2WfIBerV2rF5a7osXrZCcvbslfLy2i1TORBAAAEEfEdA/33fr8G6bE3/bt9SuE0L9OvdXaZMGtfmCqme1CLY5kldxnZUgGCbo1Kc11ECBNs6Spr7IIAAAggggAACCCCAAAIdKECwrQOxuVWLAt4Ktu3NL5R3P50ve/bmN66tha1HjJMItvEkI4AAArYTOPX4SdK7R5eW/39MrQT148+/tuqy5OdfZNWa9cY5UVGR8u6rzxrbKtYdzgbb6q7TW1KOU0GeESrsFB8Xa6xUprenrAvw6PNuv+EaOWbSER7pmw7WXXfLXfVj9+rRXcaNGSHDDxkievvM39U2qR9++nl9COus00+Syy88t1Etl8y8QVasWmt8T6/WpVcaG6UCWXorVT2f7xYvbRRWu/u26+XI8YfvN5+XXp8tL77+Vv33+/ftI2NHjVDbaQ5SobldxnatC1WgraLir5BSa8G286/4p+hVvvShV0E7bvKRMlKFCRMTE2SZquvb75bI4qV/BQtfePJBGaRWUvPE0TDYVjf+AQP6yeFqe9WDDzpQ9BabP6pg1/d6fio8po+undNk9itPi79/461SGz5rdWN1SkmS6adOlQF9+khBYaHo5/Wrb7+XJx64Uwb061M/JXeYbN2WrrZO3SeXqBBi3VakTz54l9pe9c+tSNXHhtvoOhJs09vLnnnBlbJPhRv1ccdN18rkiRPq637kP8/JnI/mGl/r+bzwn4daXD1Qn6NDbfrPiBwIIIAAAr4r0FawrW7mxlsAetVWtVpbwyMxPlZOnTJJYtSf67xxEGzzhjr3bCpAsI1nwmwCBNvM1hHqQQABBBBAAAEEEEAAAQTcIECwzQ2IDOGygDeCbdvUqjDvz10gZU1X4KjbZazxe9Z/zZFgm8v9ZgAEEEDAagJpqcly9inHtbvs9Rs3ycUzbzTCXTpk9Oh9d6jV1g5pNF57g22P3He7jB7ReMtJvXLZORdfJXolNH307dVTXn/+iXbX39qFMy67VtZt2GSc0qN7F3nl6cf22/p05ep1xraZY9S2ljdcc4XoFbnqjp9/XaFWa7ut/uubr71Cphx7VKNb6qCW3kJy7fqNxvd7de8mb7zwZKPAlt5e8rhTz5aCgkLjHB36evbxB/ZbSeU9FW56WIWc6o6Wgm0//Piz/PPWu43TdNjuxVkPNdo6Vn9frzp27c131oca9UpqOqDliaNpsO2gAwfIM48+sN9KfG+/95E8/sxL9SXolcv0CmYNj6bBNh3a00GvJBXYa+1wt8k4tXJbXcjwq49nN9rutGEdjgTb9Pnz5n8jd/37MeNSHR797wv/Mea09JflcvUNdxjf1ysxvvrM49Kze9dW5/rGnLmyMzPbE61kTAQQQAABkwg4Gmwz/j9fvfyaWa5d/5nmdBVu039W7OiDYFtHi3O/5gQItvFcmE2AYJvZOkI9CCCAAAIIIIAAAggggIAbBAi2uQGRIVwW8Eaw7dnX50jen//xu34Cra3UVncSwTaX+80ACCCAgNUEQtV/tJx54ZntKnvv3jw57/JrJTM717her1amVy1rerQn2HbKicfJdVde3Gxdv61cY2zLWXd8/t6bjVaIa9dkmlykV9464/zLjO/qLS1feuoR6denV7ND61Bfw0Bb3Uk6iKQDSfo4YtwYue/2G5q9Xq9Ids7FM6WktNT4+UuzHjbCa3WHDr2dd/l1xpf6Pm8+/x/p0rlTs2PpFebqtnBtKdh2693/lgULfzCuv1ptfTpdbYHa3LEnL0/OOO/y+kDdp+++Jglxce7gbTRGw2BbeFiovPniLOmUsv9/RNdhOx3i0ivd6ePUqcfLtVdc1GispsG2lp7JppNwt4m7g2263hv/db8s/H6JUfooFaT8143XylkXXSU5ubvb7GXD+T7y7Bv1K9+5vZkMiAACCCBgCgFngm264Np/A9d4+1L9nZioCLn4H6fst0KqpydJsM3TwozviADBNkeUOKcjBQi2daQ290IAAQQQQAABBBBAAAEEOkhg1DfvS35FeQfdjdsgsL9AbHCILJ4wrUNpqqqr5fk35kh+Ye12VfUHwbYO7QM3QwABBKwi0N5gm15FTK9GtnzFKmOqk44YJ3fd8s9mp92eYJteZWvQwP4tMp44fYZk/xnoaW5lN1f9G66QpVcQe/6JB50e8pSzL5KduzKN6/RqZ3rVs5aO62+7R75bstT48cxLz5fTTz6x/tSGK7EdMvhAefrR+1sc58uvF8kd9z1s/LylYNu0v59XH0ac/fLT0r1by1vR6iCZXhVMHw/efaux/am7j4bBtpFqm9bH7v9Xi7f45LMv5b5HZxk/1+E/HQJseDQNtrU1v7pr3W3iiWCbDhqeef6Vkpdfu8283tJ0R/ou4/ND1Ja0Tz18r9pJrqVlef9SevyF/0qpCmNyIIAAAgj4roC7gm2x0VFyydmndDjUMS+mS2FpdYfflxsiUCcQHeovn13Q8p+RkULAGwIE27yhzj0RQAABBBBAAAEEEEAAAQ8LTP9pvvyeX7uCAQcC3hA4ODZB3hoxqcNvnZ6RLe9+8iVbkXa4PDdEAAEErCfQ3q1IH531vLz74afGhPv27iXPPfGAhIWGNgvQnmDblx/+T6IiI1oEver62+tX7rrt+ply7FF/cyv+K/99R55/5U1jzBOPO1puvOZyp8cfc9RUqVaBc318+s6rkhAf3+IYz778hrz21rvGz0+fdoLMvPyC+nNffP0teen12cbXU4+fLDfMrF1Jrrljw8bNcs6l1xg/ai7Yplc903Xpj/p4U21pGRHRsvMTz7wo33632Dj36ssukOknneC0Q1sXNAy2na7Gn6nu09Lx+6q1auvb2pXvOqWmyPtvvtDo1KbBtgUfvy3h4WGtluAJE08E2/Qkvln0g9x8178bzUfP783nnzQ8HDnYitQRJc5BAAEErC3gVLCt9o8Eaj/SxnMOUVtcTzlqvPTp0foW156QuujdLFmTVeaJoRkTAYcEBqUGy7OnpDp0Lich0FECBNs6Spr7IIAAAggggAACCCCAAAIdKHDDyiXySca2Drwjt0KgscDUtB5y36CRXmHZm18o7346X/bsrV3Vo/5obeU2tiL1Sq+4KQIIIOBNgVOPnyS9ezi3GsGnn38l9z78pFF2TEy0vPL0o81uHVk3r/YE277/4kMJCPBvkeamOx+oD1zpLUv11qXuPGY9/4r8950PjCH/fupUufLi85wavrikVCZOOa3+mq8/fafF4J8+6Y3Z78nTL75mnH/c0RPl1v+7uv7aJ559SWbP+cj4+szTpskVF81osRa9gtdp515i/Ly5YFvTupyZ1AVn/13OP3u6M5c4dG7DYNuMM0+Ti2ac1eJ1m7dsk7MuvLL+2dPb0DY8Gj5regvZ776o7WFrhydMPBVs0/P41/2PyBcLFtZP6eZrr5Apxx7V1jTrf755a7rxZ0QOBBBAAAHfFXA42KaC7jVqtc+m630mxsfKyccdKXExUV5Bunv+bvlifZNV6L1SCTe1q8AxAyLkliMT7Dp95m1SAYJtJm0MZSGAAAIIIIAAAggggAACrgi8nb5Z7lzzsytDcC0CLgncfeAIOblzL5fGcOXi8opK+fSrRbJh8/4Bz9p/lF2j3sBu8BY2wTZXuLkWAQQQsIxAsFqBIyk+TkYPH+J0qG31uvVy6TU3S0VFhRE8e+Lfd8mwgwe3Ondng23+/v7yw5cftjqm3m5Tb7upj6suOU/OOGWqW/0f+c9zMuejucaY5555qlw84x9OjZ+fXyCTT/4roKUDVjpo1dLx9nsfyePPvGT8+MgJY+XuW/+v/tSHn3xO3vvYsVoysnLkpDPPN65tLtjWtC5nJtVW6MyZsRqe2zDYdtG5Z8qMs05vcaiGwT29Upleka3h4ciz1nRwT5iYOdim56/DbT8sWyG5e/ZKeXlFe1vHdQgggAACJhVoK9imf66P/SNtIv16d5cpk8ZJUGCg12b34eoiefgbdmDwWgO4sdw4MV6OHxiJBAKmEiDYZqp2UAwCCCCAAAIIIIAAAggg4B6B0qpKmbDwIymo5D/WuEeUUZwRiAsKkW/GnyDB/i3/R2xnxnPl3B9/XSkLFy/7863rv0ba783sJsG2GdNPlJTElrdNc6UmrkUAAQQQsJ7A7j17ZMZl10lObu1/aNTbZeptM9s6HAkbNd1CctG89yQoKKjFoW+44z5Z9MOPxs+vv/oymTZlcltlOPXzZ156XV7/3xzjmtNPVttjXtry9pjNDazDQuOPPbn+R199PFsiwsNbrOHV/74rz73yhvHzE9TqWzepVbjqjqdeeFXefPt948vpp5woV19SG1xr7ti6LV3OOL92q9Lmgm0VlZUybvJJ9Zfee9v1EhIS4pDNwAF9JT421qFznTmpYbDt7DNOkUvPP7vFyzds/kPOuXim8fOEuDj59N3aVe7qDkeetaaDe8LEU8E2vS2sXq2w4WFsRaq2lO2UkuwMO+cigAACCPiwQJb6s9orsz+un2HDv+q3FGrzUyu3jR81TEYOPcjrMmWV1TL1lZ1SWFa3T6rXS6IAGwnEhvrLBzM6S1BA07UMbYTAVE0pQLDNlG2hKAQQQAABBBBAAAEEEEDAdYGnNq8S/eJAoKMFrus7RM7vObCjb9vi/balZ8j7876WsrLyRufUvU1svF1HsM00/aIQBBBAwGwCeoW2K/7vVvl91VqjtGOP+pvcdn1twKitw5GwUdNg29w5r7caorrs2ptk+e+rjVvfcdO1MnnihLbKcOrnDbcGPWbSEXL7Ddc4db0+uWG46f03X5BOqSktjtFwu1G9+pxeha7uePmN2fLCa2/VuqttSm9rsE1p0wFXrVknF151vfHt5oJt+vtHHHeqlJaVGeforTz1drLePBoG20464Rj5v6subbGcX377Xa74563Gz7t07iTvvvZco3MdedaaG9zdJp4Itu3dmyd/v+BKycuv3WY+NTVZMjOzjc8PGTJInnr4XtGhBA4EEEAAAQRaDLapv/PXqP+raPr/FmGhITJ18hHSvUsn0+C9vDRf9IsDgY4WuHR0rJw51Lt/Pu7oOXM/awgQbLNGn6gSAQQQQAABBBBAAAEEEHBaQK/WNm3xPMkoLXb6Wi5AoL0CPcOjZM7ooyXM33tbdzRXe37hPnlv7gLJzt3T6Mf125I2eYebFdva+wRwHQIIIOB7Av9+/Gn58NPPjYkN7N9Xnn3sAdFbmjpyOBI2ahpse/yBO+Ww4Yc0O3xNTY0cNe3vsm9fkfHzpx+9Xw4ZfKAjpTh8zsLvl8iN/7rfOL9Xj+7y3xf/4/C1dSeec8lM2bDpD+PL+++4USaMHd3iGJddd7MsX1H7jzFu+edVcvzkI+vPnfvlArnnwSeMr/v27iWvP/d4i+O8//E8eejJZ4yftxRsm3HZtbJuwybjnAfuvFnGjxnp9NzceUHDYNugA/rLC08+1OLwDbds1Vvgznr4nkbnOvKsNTe4u008EWy78c77ZeF3S4zyDx16sNypAp1nXXiV7MnLM74389Lz1eqCJ7qzNYyFAAIIIGBRgabBNv2P2Gr8aprdejRZrdJ+yvETJTrSXNsuFpbXyLn/2yVZhVUW7QJlW1GgW2ygvDy9k4QG8o8FrNg/X6+ZYJuvd5j5IYAAAggggAACCCCAgK0FNhbmyWk/zZeyat4Ms/WD0EGTjwgIlA9GTZYu4eZ6U7hu+pVVVTJ3/neydtOWNkUItrVJxAkIIICALQR0oE0H2/Sht6J85dlHJTkx0eG5OxI2ahps0ytQzXroHvH399/vPu99NFce/k/tSl2BAQEyX23zGergdpqOFq23Wz1h+oz60++59XqZOOHwZi9fs26DdO/WZb+tRh+b9YK88+EnxjV9e/WUF2c93GwYcOkvy+XqG+6oH/ud156Vrp3T6r/evmOnnD7jr1XMHrnvdhk9Yvh+tRSXlMq5l86UHem7jJ+1FGx7/JkX5e33arcnS01OlNeefUKio6OanZse81e1Strho0Y4Suf0eQ2DbfriJx+8ywhuNT2Kiovl7Iuvll0ZWcaPzj3zVLl4xj8anebIs9Zcge42cXew7fMF38qd9z9qlB4ZGWEELfWvwe+WLJXrb6sN94WEBMurTz8uPbp3cboHXIAAAggg4FsC+wXbWpjewD495bhJY40/T5nx+GN3uVzwTpaUV7ElqRn742s1hQf5yatndJK0aHP9I1Vfc2Y+7Rcg2NZ+O65EAAEEEEAAAQQQQAABBCwhsCA7Xa787XtL1EqR1hXQ/57z5eFHyGHxLW81ZpbZLVuxRhZ8v1T0qjctHQTbzNIt6kAAAQS8J6C3Hr3in7dIRWWl8R89Zz1ynwwZ5NxW246EjZoG2/SMLzr3TJlx1umNJr9py1a54Ip/1m+trVd106u7eeK46c4H5NvvFhtDR0VFqgDY49IpJbnRrd7+4GN54umXpGe3rvLg3bdK57TU+p/rQNoZ518u1dXVxvdOOfE4uebyCxuF9XSAbsal18ruvXuNc0aNGCaP3vdXyK1usNPOvaQ+sBanwoV61bbEhPj6e+n/P7//0Vnyybz59d9rKdi2Y+cumT7jsvq6xqkV2+68+br9woF/bN0mt9z9b9m6LV2mTZks/7zykmaDhq7aNw22JcTHy+vPP95oK1pteM+Dj8u8r76tv90LTz4ogw4Y0Oj2jjxrzdXrbhN3Btv0M3LmhVdKoVp5Vx9Nt9699+En5dPPvzJ+dsCAfvL8Ew9KQMD+gVBX+8T1CCCAAALWEWgr2Kb/4cDEww+VYYMPMP2kFv1RLDd/lmv6OinQ2gL6/bwnpibL0C6h1p4I1fu0AME2n24vk0MAAQQQQAABBBBAAAEEagU+z9wuN676Ucr//I+LuCDgToFwtVLbo4NHy7ikv1ZYcef4nhhrx84s+WDe11JcWtrs8ATbPKHOmAgggIB1BHRY6sQzzhMdrNGHXtWrX++erU4gQIXfbrthpiTExdWf50jYqLlgmx6gU0qSHDrsEEmIj5Oly36TNes3NAplP62Cdnp1N08cm7dsU6Gza4xQnz50WGjQwP4yXK0mlp9fICvXrJf1G2u39NSHXj1MryLW8Ljvkf/sFzYbqcJ4nTt3kl+Wr1BjrJOqqtrgmx5fb8Opt3ptesz9Qm1H+lDtdqT60CHDg1TAcNiQwZKugmpLf/mtfkvKunNaCrbpnzetS28rO2TQgYZlTm6urFm3STb/sUX0Sq/6SOuUYqzsFhkR7nbqpsE2fYOgwEAZPOgAGarq2Z6+U35cttwwrzuGDjlInnrk3v1qceRZa2kC7jRxZ7Dt2pvvlCVLfzHKPmLcGLnv9hsaTUGvZHfWRVdJZma28f3mAqFubxoDIoAAAgiYWqC1YFt4aKicrLYe7ZzaOKxv5gl9valY7pmfq1ZuM3OV1GZVgTC1UttdRyfKqB5hVp0CddtEgGCbTRrNNBFAAAEEEEAAAQQQQACBtQV75cJfv5U95WVgIOA2gbTQCHl+2HjpFRHttjE7aqB9RcUy59MFkpmz/7+AJtjWUV3gPggggIA5BXSga9zkk5wu7rVnHpN+fXvXX+dI2KjpORef9w+Z9fwrrd77H9NPlssuOMfp+py5YPHSZXLTv+6X8vKKVi+78Jy/y3n/mL7fORUVFXLrPQ/Joh9+bPV6HeS6+7brZbxaPa25Q4ff7nzgUZn/zaIWx9HBuMsvPFd0UEwfrQXbjLruflAWLf6pTQ69Dent1880Vq3zxNEw2HbylGPl599WiF7trqUjOTFBrRx4b6PtWuvOdeRZa2lcd5q4K9j20dwv5IHHnjJK1tsA6y1IY2Nj9pvCrytWyeXX3Wx8X4ceX1Lb3jb8NeiJvjEmAggggIB5BVoKtqUmJcopKtTmiaC6pzU25JTLtR9nS15J7T8I4EDAHQKpUQHyyAnJ0j0uyB3DMQYCHhUg2OZRXgZHAAEEEEAAAQQQQAABBMwlkF1WItf89oMsz2crA3N1xprVjElIlYeHjJGYQOu+Cab/Y/m8r7+XVes31zdBb3dEUHgAACAASURBVE1yzUVnGiumcCCAAAII2FNA///D0dP+LnpFKEcP/f8fs195ulHoqKysXI495SwpLikVvY3mZ3Ne32+45gJJH3zyuTz90muyb19Ro/P1Km7/mH6qsT1mRxwbNv8hr/33Xfn2+yX123fW3bdTaopcNONMmTxxQoul6FXPPp77pbw15wPZuSuz0Xl+fn4y7vCRMuPvp0r/vn1anY7ux+uz58g7738iefn5jc7V23deP/NSGXLgQDnhjBlGEK9rlzR559VnWxxTBxc//uxLmf3eR2rVt4z9zuuiVpU7ecoxcvrJJ4qu01NHw2DbJSrQePwxR8ptKgy4XIW1Gh762Tpi7CgVZjzXWEGuucORZ621ebjL5LhTzjZW0AsPC1XP+5sSEhLc7G0LCgplyvRzjX7pbWznvP58/XklakXdKaeda/z609ffd8eNMnrE8BbLf+G1t+TlN2YbP9fbBT/7+L891TLGRQABBBAwuUCh+rPTU6++06jKgwf1l0ljR1p6u+rcoiq5dV6OrMosN3kHKM8KAiO6hcqdRydJVIjn/pxrBQdqtI4AwTbr9IpKEUAAAQQQQAABBBBAAAG3CFRLjby5baM8tnGFlFWzl4FbUG02SKTaevTGgUPlpLRePjPzZb+vkUVLfpHg4GAZcfCBMuIQz2zt5jNgTAQBBBBAwG0CLa20pQM/q9eul2y1HWqI2i4zTQXJevXqYaxK1dHH3r15sl0FwDKzsiVUBY06qXBVv96O/zlAB9P0tqE7MzKlYN8+tc1qinRT4bG4uFinpqLDW5u3bJVdqg596NVXBvbv1+7/UF1dXS070ndJhhpvb16+Wukt2qitR/cuTtXV3pObBtvOUSE/feiw3dbtO0T/x/nkpATp3rWLJCbEt/c2Tl3nbROniuVkBBBAAAEEmhFY9NOvsvjnFcafD44aP0qGHNDPJ5yqa0Tm/F4ozy7Jk/JK9QUHAk4KRAT7yVVj4+S4gZ5ZjdjJcjgdAYcFCLY5TMWJCCCAAAIIIIAAAggggIB1BBblZMi4pE6tFrytuFCuX7lEVubvsc7EqNTrAiPjU+SBQSMlOTSs1VoW5mbI+MTWn0GvT4YCEEAAAQQQMIGAK1tImqB8SnBBoKVgmwtDcikCCCCAAAIIKIGcPXslSP2jvNiYKEt5LNlaKqN6hLZac3pehdw1f7esyWL1Nks118vFDu8SIrdOSpDEiNZ3J1iyTT2D3Vt/Br08FW5vQwGCbTZsOlNGAAEEEEAAAQQQQAAB3xcYPP9t+c/BY2V8Ulqrk9X/vvPzrB0ya+NK2VJc4PswzLDdAgOjY+XKPoNlQmLrz5S+wYLsdJm54gdZOen0dt+PCxFAAAEEELCLgDuCbes3bpKCwsbbljrr16NbF0lKTHD2Mludvysjy1h1zpUjIT5WevXobgxBsM0VSa5FAAEEEEDA9wTGP71d7j82SUb3aP0fE+r3877eVCwv/5gv21TQjQOBlgT6JQXJBYfFqWeq7bDad38Uqy1vc2Xh5d0ARcBUAgTbTNUOikEAAQQQQAABBBBAAAEE3CNwwJezxV/85OJeB8hlvQdJgJ9fqwNX1dTI3Ixt8tTmVbKjZJ97imAUnxDoGxmjAm0HyZHJbW/JVVFTLY+rLW5f3bpebXgrsuao6T5hwCQQQAABBBDwpIA7gm2XXXezLF+xyqUyb77uSplyzCSXxvD1i198/S156fXZLk3zmCMnyO03XmuMQbDNJUouRgABBBBAwOcEDp+1XfzVW3hnD4+RGSNi1Pt5rU+xSr358tX6Inlpab7sKqj0OQ8m1H6BXgmBRqBtXK/WQ5L6DpXVIs8t2Suzlxca7+d9fwXBtvbLc6UnBAi2eUKVMRFAAAEEEEAAAQQQQAABLwvoYFvdMSQ6QR47eIykhoY7VNXHu7bK2zs2yfL8XIfO5yTfFBidkCrTu/ZxKNCmBbaqrW2vWfG9rC/Mrwch2OabzwazQgABBBBwr4A7gm2PP/WibPjjD5cKO+u0k2T0YcNdGsPXL577xQKZ++UCl6Y5Yughcu6ZpxpjEGxziZKLEUAAAQQQ8DkBHWyrOw5MCZa7JydJclSAQ/P8Yl2RfLCqUFZlskWpQ2A+etKhXUNl2kFRDgXaNMGO/Eq1SluObM79a+U/gm0++nBYeFoE2yzcPEpHAAEEEEAAAQQQQAABBFoSaBhs0+dEBgbJ/YMOk4kOrLpVN6bemvR/2zfJx7u2SEEl2xrY4WlLDAmVk9J6GYE2R4OQ2uUtFYR8aP1yKauuasREsM0OTw1zRAABBBBwVcAdwTZXa+B67wgQbPOOO3dFAAEEEEDArAINg226xohgP7nlyAQVUnLsH6vqa/TWpB+sLJQv1hZJYblef4vD1wXiw/3luIGRMm1QlMNBSG3y/sp9MuuHvVJe2fg5Idjm60+M9eZHsM16PaNiBBBAAAEEEEAAAQQQQKBNgabBtroLTkjrITcNGCYxKujmzDEvc7t8mbVDFuZkSGk1Wxs4Y2f2c6PVs6ADj0emdpUjEtOcKndXSZH8a+3P8n1uZrPXEWxzipOTEUAAAQRsKlCjtoR/58NPpKS4TGKio2TalMk2lbDftNdv3CRLli43Jj7+8JHSs3tX+yEwYwQQQAABBBCoF2gabKv7wdEDImTm2HiJCmljb9Imlgs2Fsu3m4pkybZSKW0SXoLd2gJRKvQ4VgUex/eJkDE9Qp2aTGZhlTz0Ta78tL2s2esItjnFyckdIECwrQOQuQUCCCCAAAIIIIAAAggg0NECLQXbdB1xQcFyy8Bhcmxqd6fL0ityLdmTJV9lpsvXOemSV8H2Bk4jmuCClJAwFWbrLJNSusrwuGQJ8HPujdFqqZFXt66XWZtWtRp0JNhmgmZTAgIIIIAAAggggAACCCCAAAIIWEKgpWCbLj421F9mjouXI/s5vnpb3aTLq2pk2Y4yWahCbt9vLZH80mpLeFBkY4GkyAAZ2zNMJvQJlyFpoer9POeEqtXCbG//Vigv/ZTXatCRYJtzrpzteQGCbZ435g4IIIAAAggggAACCCCAQIcLtBZsqytmSHSCXNJnkIxP7NSu+nS4aUXebvkme6csyt0lG/blt2scLvK8gH6fa3BMgoxPSlP97iwDo2PbddNKtaLMR2pr2hf/WCvbSgrbHINgW5tEnIAAAggggAACCCCAAAIIIIAAAggYAq0F2+qIDkwJlnNHxMqo7s6t0lV3vQ43rc4skx+2lKiV3Epk8+4K9E0qoN/PO0D1e7QKs43qHi79kpzbgaNuWpUqx/j5+n3y5rICSc9veycOgm0mfSBsXBbBNhs3n6kjgAACCCCAAAIIIICA7wo4Emyrm32fyGi5qOeBcnwn51dwayiYWVosC3MzZKEKuv2Wn8tqbl5+vFJDw+TgmET5m9pm9HAVXoxVK/W19yiqqpB3dvwhr21bJ9llJQ4PQ7DNYSpORAABBBBAAAEEEEAAAQQQQAABmws4EmyrI+oZHyj/GBYjR/WPcEktW21Lqbcq/WFrkQq8lbOam0uarl+crFZlG5QaIoerMNvIHuES7eT2sw0rKK6olo9WFalV2gokt6jK4eIItjlMxYkdJECwrYOguQ0CCCCAAAIIIIAAAggg0JECzgTb6upKDAmV6V37yBld+xnblbp6ZKkA1JrCvbI6b4+sKdgjqwv3SE5ZqavDcn0zAl3DIuWA6Dg5MCZeBkapj9HxLgXZ6m6xtbhQXtu6Tj7etU1Kqtv+F51NSyPYxuOKAAIIIIAAAggggAACCCCAAAIIOCbgTLCtbsT4cH+ZdlCU8dLblbp65Oyrkg25FbIuq0zW5+hXuewuYutSV12buz4tOlD6q1XY+qeESL/EYBmgProSZKu7xw61Ktvs5fnyxbriVrccbWlOBNs80W3GdEWAYJsrelyLAAIIIIAAAggggAACCJhUoD3BtrqpBPr5yYSkznJyl95yeEKqBKiv3XXkVZTLahVyW1eYJ2sL9qqPe2VrUaHobU052hYI9veX3mqFvYGR8TJAbSc6QIXYdKAtPCCw7YsdPKOsqkrmZW2XOel/yK95OQ5e1fxpBNtc4uNiBBBAAAEEEEAAAQQQQAABBBCwkUB7gm317+epTNvoHmEy5cAoGdEtVL2f5z64grIaI+i2SQXeNuSWycacCtmRVyF6W1OOtgWCVDP0Cnt9E4Klb1KI9NFhtqRgCQtyX5PKKmvk603F8snqffJ7RlnbRbVyBsE2l/i42AMCBNs8gMqQCCCAAAIIIIAAAggggIC3BVwJtjWsPSE4RKZ26injkzvL8Lgkj01rRf5u2aYCbtvUCmH6pVcK266+3lfl/CphHiuyAweOV+7d1Cps3SOipGdEtHQNj5IeYVEyUIXZPHV8p7aR/Sprh3yasb1dq7M1VxfBNk91i3ERQAABBBBAAAEEEEAAAQQQQMDXBFwJtjW0iA/zl8kDImR0z3A5OC3EY0yrs8olfa8KuakVwnTQLV2/1OdF5fZMvMUp984xgdIlNki6xwVJmvq8a0yQ9FNBNk8dP6ptZBdtLpIvN7Rvdbbm6iLY5qluMW57BQi2tVeO6xBAAAEEEEAAAQQQQAABEwu4K9jWcIp6VbDRagW3CclpMjIuRdLCIjwusKe8TLaX7JNdJUWSrbY2zVWvzNJi9SqRbPUxp7xUyqqrPF6HO2+gHVNCwiUlNEySQsLU52GSGhYuycbn4dInKlrC/N23AltLtWvT73ZnysLsnbJkT5ZHHAm2ufPJYSwEEEAAAQQQQAABBBBAAAEEEPBlAXcF2xoa6VXBDu0aKmN6hcuwzqGSGhXgccK9JdWyUwXcsgorJaeoSm1lWinZaotTvc1prn4VV0l5lbXCb9oxOSJQEiMDJDEiQJL0KzJQvWo/75kQJKGB7luBraUmZRZWyY/bS2XxliJZll4m5WqlNncfBNvcLcp4rgoQbHNVkOsRQAABBBBAAAEEEEAAARMKeCLY1nSaOth2WFyyjIhPUa9k6RQa7hWJYrWqW77a4rT2VSYFlRX1n+eXl0uB/n7lXx+N76mvC9V5rhyxQcESExgi+mNUcJBEBQYbn8cEhahXsESrV6z6PDooyDhPf9ThNW8dGSoI+JMKsC3dky1L92YbYUFPHwTbPC3M+AgggAACCCCAAAIIIIAAAggg4CsCngi2NbVJjQ6QoWmhMrRLqByigm4pHRB0a64/JRU1UlBaLYVl1VJQVqU+1n5tfK6CcYXqY+3Pa/78vPbjPhdXg4sJ9ZeoEH/RHyND/NQrQKLV59F/fowyPq89Jzo0QH30M4Js3jqyVJDt152lxmu5emUWeP4f+BJs81a3uW9LAgTbeDYQQAABBBBAAAEEEEAAAR8U6IhgW1O2rmrrzEPiEmWYCrsNi02UXmoLTQ7vCWzaVyC/5ufIL3ty5Ne9ObKz1PNBtqazJdjmvf5zZwQQQAABBBBAAAEEEEAAAQQQsJZARwTbmoqkRQfKQWq70iEq7DakU7CxhSaH9wS27KmU3zPK5PddpepVJhlq1buOPgi2dbQ492tLgGBbW0L8HAEEEEAAAQQQQAABBBCwoIA3gm1NmaIDg1TALUmGxifJISroNjA6rkO22LRgu1wuWa9at6Zgr/yWnyu/qiDbL3k5Lq9I53JRagCCbe5QZAwEEEAAAQQQQAABBBBAAAEEELCDgDeCbU1do4L9ZLAKug1Wq7kdlBoi/ZKCO2SLTTv0t+kc9ap163PKZVXmX0E2V1ekc4cjwTZ3KDKGOwUItrlTk7EQQAABBBBAAAEEEEAAAZMImCHY1hyFXtWtf1SsDIhWr6g44/POoREmUTN/GTWqxB0l+2R9YZ6sU0E2/VG/vLEamyNaBNscUeIcBBBAAAEEEEAAAQQQQAABBBBAQMQMwbbm+qBXdeuTGCR9VcitT6J+BUmnqEBa5qCAfj9vV0GlbMqtkI0qyLY5t9z43BursTlSMsE2R5Q4pyMFCLZ1pDb3QgABBBBAAAEEEEAAAQQ6SMCswbbmph/qHyjdwiPUK0q6q+Bbt8ho6RoWId3V16mh4eLXQWZmuU211EhGabFsLyqU7SVFsr24QLYV7VOfF6pQW5GUVVWZpdQ26yDY1iYRJyCAAAIIIIAAAggggAACCCCAAAKGgFmDbc2+nxfoJ51jAo1XF/2KC5bO0QHq8yBJjgqw3/t5Kr2Wta9S0vMqZWdBlezMKzc+T8+vUKG2Kimr1PE2axwE26zRJztVSbDNTt1mrggggAACCCCAAAIIIGAbASsF29pqSkpImKSGhEtCSKgkq89TwsIlSX2eor6XGBwmyaFhEhcU3NYwpvj57vIyyS4rkd3qlaVe+vNsFWLTH3PLSuu/Z4pi3VAEwTY3IDIEAggggAACCCCAAAIIIIAAAgjYQsBKwba2GpIUGSDJEQESHx4gCepjcmSgJKjvJemv9Ut9Hhvq39Ywpvj5npJq2V1UJXuKqySnqFJy91Wpl/pYXPv9HPXKVS9fOQi2+UonfWceBNt8p5fMBAEEEEAAAQQQQAABBBCoF/ClYJujbU1VAbckFXRLUuE3HXxLUJ+HBgZIiH+ABKtXqP4Y8OdHf38JVZ8H+6mf64/66z/PCwnwl4iAIOO2RVUVaoW0aimvrpIS9SpXn5fV6I/qX1qqr/WrVH2uf15WrX6mP1c/L6lUb26psFqOCqvllNd+1OE1ux0E2+zWceaLAAIIIIAAAggggAACCCCAAALtFfClYJujBskq4KaDbok6BBfhL/FhgRIS5Kfer/OToED9/p2oj7VfB6tXiPpcfwzWH/X3/fV5+vsi4UG1QbniCvUeXaVIhVolrbSqxvhYVl0j5eqjfpWp7xmfq49lKo9WXqne+1Ofl1bUyB4dXFMBNh1iyy2q9qnAmqM9IdjmqBTndZQAwbaOkuY+CCCAAAIIIIAAAggggEAHCtgx2NaBvNzKQQGCbQ5CcRoCCCCAAAIIIIAAAggggAACCNhewI7BNts33YQABNtM2BSbl0SwzeYPANNHAAEEEEAAAQQQQAAB3xQg2OabfbXarAi2Wa1j1IsAAggggAACCCCAAAIIIIAAAt4SINjmLXnu21CAYBvPg9kECLaZrSPUgwACCCCAAAIIIIAAAgi4QYBgmxsQGcJlAYJtLhMyAAIIIIAAAggggAACCCCAAAII2ESAYJtNGm3yaRJsM3mDbFgewTYbNp0pI4AAAggggAACCCCAgO8LEGzz/R5bYYYE26zQJWpEAAEEEEAAAQQQQAABBBBAAAEzCBBsM0MXqIFgG8+A2QQItpmtI9SDAAIIIIAAAggggAACCLhBgGCbGxAZwmUBgm0uEzIAAggggAACCCCAAAIIIIAAAgjYRIBgm00abfJpEmwzeYNsWB7BNhs2nSkjgAACCCCAAAIIIICA7wsQbPP9HlthhgTbrNAlakQAAQQQQAABBBBAAAEEEEAAATMIEGwzQxeogWAbz4DZBAi2ma0j1IMAAggggAACCCCAAAIIuEGAYJsbEBnCZQGCbS4TMgACCCCAAAIIIIAAAggggAACCNhEgGCbTRpt8mkSbDN5g2xYHsE2GzadKSOAAAIIIIAAAggggIDvCxBs8/0eW2GGBNus0CVqRAABBBBAAAEEEEAAAQQQQAABMwgQbDNDF6iBYBvPgNkECLaZrSPUgwACCCCAAAIIIIAAAgi4QYBgmxsQGcJlAYJtLhMyAAIIIIAAAggggAACCCCAAAII2ESAYJtNGm3yaRJsM3mDbFgewTYbNp0pI4AAAggggAACCCCAgO8LEGzz/R5bYYYE26zQJWpEAAEEEEAAAQQQQAABBBBAAAEzCBBsM0MXqIFgG8+A2QQItpmtI9SDAAIIIIAAAggggAACCLhBgGCbGxAZwmUBgm0uEzIAAggggAACCCCAAAIIIIAAAgjYRIBgm00abfJpEmwzeYNsWB7BNhs2nSkjgAACCCCAAAIIIICA7wsQbPP9HlthhgTbrNAlakQAAQQQQAABBBBAAAEEEEAAATMIEGwzQxeogWAbz4DZBAi2ma0j1IMAAggggAACCCCAAAIIuEGAYJsbEBnCZQGCbS4TMgACCCCAAAIIIIAAAggggAACCNhEgGCbTRpt8mkSbDN5g2xYHsE2GzadKSOAAAIIIIAAAggggIDvCxBs8/0eW2GGBNus0CVqRAABBBBAAAEEEEAAAQQQQAABMwgQbDNDF6iBYBvPgNkECLaZrSPUgwACCCCAAAIIIIAAAgi4QYBgmxsQGcJlAYJtLhMyAAIIIIAAAggggAACCCCAAAII2ESAYJtNGm3yaRJsM3mDbFgewTYbNp0pI4AAAggggAACCCCAgO8LEGzz/R5bYYYE26zQJWpEAAEEEEAAAQQQQAABBBBAAAEzCBBsM0MXqIFgG8+A2QQItpmtI9SDAAIIIIAAAggggAACCLhBgGCbGxAZwmUBgm0uEzIAAggggAACCCCAAAIIIIAAAgjYRIBgm00abfJpEmwzeYNsWB7BNhs2nSkjgAACCCCAAAIIIICA7wsQbPP9HlthhgTbrNAlakQAAQQQQAABBBBAAAEEEEAAATMIEGwzQxeogWAbz4DZBAi2ma0j1IMAAggggAACCCCAAAIIuEGAYJsbEBnCZQGCbS4TMgACCCCAAAIIIIAAAggggAACCNhEgGCbTRpt8mkSbDN5g2xYHsE2GzadKSOAAAIIIIAAAggggIDvCxBs8/0eW2GGBNus0CVqRAABBBBAAAEEEEAAAQQQQAABMwgQbDNDF6iBYBvPgNkECLaZrSPUgwACCCCAAAIIIIAAAgi4QYBgmxsQGcJlAYJtLhMyAAIIIIAAAggggAACCCCAAAII2ESAYJtNGm3yaRJsM3mDbFgewTYbNp0pI4AAAggggAACCCCAgO8LEGzz/R5bYYYE26zQJWpEAAEEEEAAAQQQQAABBBBAAAEzCBBsM0MXqIFgG8+A2QQItpmtI9SDAAIIIIAAAggggAACCLhBgGCbGxAZwmUBgm0uEzIAAggggAACCCCAAAIIIIAAAgjYRIBgm00abfJpEmwzeYNsWB7BNhs2nSkjgAACCCCAAAIIIICA7wsQbPP9HlthhgTbrNAlakQAAQQQQAABBBBAAAEEEEAAATMIEGwzQxeogWAbz4DZBAi2ma0j1IMAAggggAACCCCAAAIIuEGAYJsbEBnCZQGCbS4TMgACCCCAAAIIIIAAAggggAACCNhEgGCbTRpt8mkSbDN5g2xYHsE2GzadKSOAAAIIIIAAAggggIDvCxBs8/0eW2GGBNus0CVqRAABBBBAAAEEEEAAAQQQQAABMwgQbDNDF6iBYBvPgNkECLaZrSPUgwACCCCAAAIIIIAAAgi4QYBgmxsQGcJlAYJtLhMyAAIIIIAAAggggAACCCCAAAII2ESAYJtNGm3yaRJsM3mDbFgewTYbNp0pI4AAAggggAACCCCAgO8LEGzz/R5bYYYE26zQJWpEAAEEEEAAAQQQQAABBBBAAAEzCBBsM0MXqIFgG8+A2QQItpmtI9SDAAIIIIAAAggggAACCLhBgGCbGxAZwmUBgm0uEzIAAggggAACCCCAAAIIIIAAAgjYRIBgm00abfJpEmwzeYNsWB7BNhs2nSkjgAACCCCAAAIIIICA7wsQbPP9HlthhgTbrNAlakQAAQQQQAABBBBAAAEEEEAAATMIEGwzQxeogWAbz4DZBAi2ma0j1IMAAggggAACCCCAAAIIuEGAYJsbEBnCZQGCbS4TMgACCCCAAAIIIIAAAggggAACCNhEgGCbTRpt8mkSbDN5g2xYHsE2GzadKSOAAAIIIIAAAggggIDvCxBs8/0eW2GGBNus0CVqRAABBBBAAAEEEEAAAQQQQAABMwgQbDNDF6iBYBvPgNkECLaZrSPUgwACCCCAAAIIIIAAAgi4QYBgmxsQGcJlAYJtLhMyAAIIIIAAAggggAACCCCAAAII2ESAYJtNGm3yaRJsM3mDbFgewTYbNp0pI4AAAggggAACCCCAgO8LjPrmfcmvKPf9iTJD0wrEBofI4gnTTFsfhSGAAAIIIIAAAggggAACCCCAAAJmEjjmxXQpLK02U0nUYjOB6FB/+eyCLjabNdM1uwDBNrN3iPoQQAABBBBAAAEEEEAAgXYITP9pvvyev7sdV3IJAu4RODg2Qd4aMck9gzEKAggggAACCCCAAAIIIIAAAggg4OMCF72bJWuyynx8lkzPzAKDUoPl2VNSzVwitdlQgGCbDZvOlBFAAAEEEEAAAQQQQMD3BW5YuUQ+ydjm+xNlhqYVmJrWQ+4bNNK09VEYAggggAACCCCAAAIIIIAAAgggYCaBu+fvli/WF5mpJGqxmcAxAyLkliMTbDZrpmt2AYJtZu8Q9SGAAAIIIIAAAggggAAC7RB4O32z3Lnm53ZcySUIuEfg7gNHyMmde7lnMEZBAAEEEEAAAQQQQAABBBBAAAEEfFzgw9VF8vA37MDg42029fRunBgvxw+MNHWNFGc/AYJt9us5M0YAAQQQQAABBBBAAAEbCJRWVcqEhR9JQWWFDWbLFM0mEBcUIt+MP0GC/QPMVhr1IIAAAggggAACCCCAAAIIIIAAAqYUKKuslqmv7JTCshpT1kdRvi0QG+ovH8zoLEEBfr49UWZnOQGCbZZrGQUjgAACCCCAAAIIIIAAAo4JPLV5legXBwIdLXBd3yFyfs+BHX1b7ocAAggggAACCCCAAAIIIIAAAghYWuDlpfmiXxwIdLTApaNj5cyh0R19W+6HQJsCBNvaJOIEBBBAAAEEEEAAAQQQQMCaAnq1tmmL50lGabE1J0DVlhToGR4lc0YfLWH+gZasn6IRQAABBBBAAAEEEEAAAQQQQAABbwkUltfIuf/bJVmFVd4qgfvaUKBbbKC8PL2ThAayWpsN22/6KRNsM32LKBABBBBAAAEEAHkSYgAAIABJREFUEEAAAQQQaL/AxsI8Oe2n+VJWzZth7VfkSkcFIgIC5YNRk6VLeKSjl3AeAggggAACCCCAAAIIIIAAAggggEADgT92l8sF72RJeRVbkvJgeF4gPMhPXj2jk6RF849UPa/NHdojQLCtPWpcgwACCCCAAAIIIIAAAghYSGBBdrpc+dv3FqqYUq0ooP8958vDj5DD4lOsWD41I4AAAggggAACCCCAAAIIIIAAAqYRWPRHsdz8Wa5p6qEQ3xTQ7+c9MTVZhnYJ9c0JMiufECDY5hNtZBIIIIAAAggggAACCCCAQOsCn2dulxtX/Sjl1dVQIeB2gXC1Utujg0fLuKQ0t4/NgAgggAACCCCAAAIIIIAAAggggIAdBb7eVCz3zM9VK7fZcfbM2dMCYWqltruOTpRRPcI8fSvGR8AlAYJtLvFxMQIIIIAAAggggAACCCBgHYG1BXvlwl+/lT3lZdYpmkpNL5AWGiHPDxsvvSKiTV8rBSKAAAIIIIAAAggggAACCCCAAAJWEtiQUy7XfpwteSX8Y1Ur9c3staZGBcgjJyRL97ggs5dKfQgIwTYeAgQQQAABBBBAAAEEEEDARgLZZSVyzW8/yPJ8tjKwUds9NtUxCany8JAxEhPIm2AeQ2ZgBBBAAAEEEEAAAQQQQAABBBCwtUBuUZXcOi9HVmWW29qBybtHYES3ULnz6CSJCtEbkXIgYH4Bgm3m7xEVIoAAAggggAACCCCAAAJuFaiWGnlz20Z5bOMKKatmLwO34tpksEi19eiNA4fKSWm9bDJjpokAAggggAACCCCAAAIIIIAAAgh4T6C6RmTO74Xy7JI8Ka9UX3Ag4KRARLCfXDU2To4bGOnklZyOgHcFCLZ515+7I4AAAggggAACCCCAAAJeE9hWXCjXr1wiK/P3eK0Gbmw9gZHxKfLAoJGSHBpmveKpGAEEEEAAAQQQQAABBBBAAAEEELCwQHpehdw1f7esyWL1Ngu3scNLH94lRG6dlCCJEYEdfm9uiICrAgTbXBXkegQQQAABBBBAAAEEEEDAwgL633d+nrVDZm1cKVuKCyw8E0r3tMDA6Fi5ss9gmZCY5ulbMT4CCCCAAAIIIIAAAggggAACCCCAQAsC+v28rzcVy8s/5ss2FXTjQKAlgX5JQXLBYXEyukcoSAhYVoBgm2VbR+EIIIAAAggggAACCCCAgPsEqmpqZG7GNnlq8yrZUbLPfQMzkuUF+kbGqEDbQXJkchfLz4UJIIAAAggggAACCCCAAAIIIIAAAr4iUKUSbl+tL5KXlubLroJKX5kW83CDQK+EQCPQNq4XOy64gZMhvCxAsM3LDeD2CCCAAAIIIIAAAggggIDZBD7etVXe3rFJlufnmq006ulAgdEJqTK9ax8CbR1ozq0QQAABBBBAAAEEEEAAAQQQQACB9gh8sa5IPlhVKKsy2aK0PX6+cs2hXUNl2kFRBNp8paHMwxAg2MaDgAACCCCAAAIIIIAAAggg0KyA3pr0f9s3yce7tkhBJdsa2OExSQwJlZPSehmBttTQcDtMmTkigAACCCCAAAIIIIAAAggggAACPiOgtyb9YGWhfLG2SArL9aalHL4uEB/uL8cNjJRpg6IkOSrA16fL/GwoQLDNhk1nyggggAACCCCAAAIIIICAswLzMrfLl1k7ZGFOhpRWs7WBs35mPj86MEgmqm1Gj0ztKkckppm5VGpDAAEEEEAAAQQQQAABBBBAAAEEEHBQYMHGYvl2U5Es2VYqpZWE3Bxks8RpUcF+MrZXuIzvEyFjeoRaomaKRKC9AgTb2ivHdQgggAACCCCAAAIIIICADQXKqqtkyZ4s+SozXb7OSZe8CrY3sOJjkBISpsJsnWVSSlcZHpcsAX5+VpwGNSOAAAIIIIAAAggggAACCCCAAAIItCFQXlUjy3aUyUIVcvt+a4nkl1ZjZkGBpMgAGdszTCb0CZchaaHq/TwLToKSEWiHAMG2dqBxCQIIIIAAAggggAACCCCAgEi11MiKvN3yTfZOWZS7Szbsy4fFpAL6fa7BMQkyPilNxid2loHRsSatlLIQQAABBBBAAAEEEEAAAQQQQAABBDwlUK0WbludWSY/bClRK7mVyObdFZ66FeO6KKDfzzsgJVhGqzDbqO7h0i8pyMURuRwBawoQbLNm36gaAQQQQAABBBBAAAEEEDCdQGZpsSzMzZCFKuj2W34uq7l5uUOpoWFycEyi/E1tM3p4YieJDQr2ckXcHgEEEEAAAQQQQAABBBBAAAEEEEDATALZhWp3BrVV6Q9bi1TgrZzV3LzcnGS1Ktug1BA5XIXZRvYIl+gQlmXzcku4vQkECLaZoAmUgAACCCCAAAIIIIAAAgj4okBWWYmsKdwrq/P2yJqCPbK6cI/klJX64lS9PqeuYZFyQHScHBgTLwOj1MfoeIJsXu8KBSCAAAIIIIAAAggggAACCCCAAALWEsjZVyUbcitkXVaZrM/Rr3LZXcTWpZ7oYlp0oPRXq7D1TwmRfonBMkB9JMjmCWnGtLoAwTard5D6EUAAAQQQQAABBBBAAAELCeRVlMtqFXJbV5gnawv2qo97ZWtRobGtKUfbAsH+/tI7MloGRsbLALWd6AAVYtOBtvCAwLYv5gwEEEAAAQQQQAABBBBAAAEEEEAAAQScFCgoqzGCbptU4G1DbplszKmQHXkVorc15WhbICjAT3rGB0rfhGDpmxQifXSYLSlYwoJYja1tPc5AQIRgG08BAggggAACCCCAAAIIIICA1wVW5O+WbSrgtq249rVVvbarr/dVVXq9Nm8UEB8cIt3UKmzdI6KkZ0S0dA2Pkh5hUTJQhdk4EEAAAQQQQAABBBBAAAEEEEAAAQQQ8LbA6qxySd+rQm75lUbQLV2/1OdF5fZMvMWF+UvnmEDpEhsk3eOCJE193jUmSPqpIBsHAgi0X4BgW/vtuBIBBBBAAAEEEEAAAQQQQMDDAnvKy2R7yT7ZVVIk2Wpr01z1yiwtVq8SyVYfc8pLpay6ysNVuHd4vbpaSki4pISGSVJImPo8TFLDwiXZ+Dxc+kRFS5g/K7C5V53REEAAAQQQQAABBBBAAAEEEEAAAQQ6QmBvSbXsVAG3rMJKySmqUluZVkq22uJUb3Oaq1/FVVJeZa3wm15dLTkiUBIjAyQxIkCS9CsyUL1qP++ZECShgazA1hHPF/ewnwDBNvv1nBkjgAACCCCAAAIIIIAAAj4lUKxWdctXW5zWvsqkoLKi/vP88nIp0N+v/Ouj8T31daE6z5UjNihYYgJDRH+MCg6SqMBg4/OYoBD1CpZo9YpVn0cHBRnn6Y86vMaBAAIIIIAAAggggAACCCCAAAIIIICAnQVKKmqkoLRaCsuqpaCsSn2s/dr4XAXjCtXH2p/X/Pl57cd9Lq4GFxPqL1Eh/qI/Rob4qVeARKvPo//8GGV8XntOdGiA+uhnBNk4EEDAewIE27xnz50RQAABBBBAAAEEEEAAAQQQQAABBBBAAAEEEEAAAQQQQAABBBBAAAEEEEAAAQSaESDYxmOBAAIIIIAAAggggAACCCCAAAIIIIAAAggggAACCCCAAAIIIIAAAggggAACCCBgKgGCbaZqB8UggAACCCCAAAIIIIAAAggggAACCCCAAAIIIIAAAggggAACCCCAAAIIIIAAAggQbOMZQAABBBBAAAEEEEAAAQQQQAABBBBAAAEEEEAAAQQQQAABBBBAAAEEEEAAAQQQMJUAwTZTtYNiEEAAAQQQQAABBBBAAAEEEEAAAQQQQAABBBBAAAEEEEAAAQQQQAABBBBAAAEECLbxDCCAAAIIIIAAAggggAACCCCAAAIIIIAAAggggAACCCCAAAIIIIAAAggggAACCJhKgGCbqdpBMQgggAACCCCAAAIIIIAAAggggAACCCCAAAIIIIAAAggggAACCCCAAAIIIIAAAgTbeAYQQAABBBBAAAEEEEAAAQQQQAABBBBAAAEEEEAAAQQQQAABBBBAAAEEEEAAAQRMJUCwzVTtoBgEEEAAAQQQQAABBBBAAAEEEEAAAQQQQAABBBBAAAEEEEAAAQQQQAABBBBAAAGCbTwDCCCAAAIIIIAAAggggAACCCCAAAIIIIAAAggggAACCCCAAAIIIIAAAggggAACphIg2GaqdlAMAggggAACCCCAAAIIIIAAAggggAACCCCAAAIIIIAAAggggAACCCCAAAIIIIAAwTaeAQQQQAABBBBAAAEEEEAAAQQQQAABBBBAAAEEEEAAAQQQQAABBBBAAAEEEEAAAVMJEGwzVTsoBgEEEEAAAQQQQAABBBBAAAEEEEAAAQQQQAABBBBAAAEEEEAAAQQQQAABBBBAgGAbzwACCCCAAAIIIIAAAggggAACCCCAAAIIIIAAAggggAACCCCAAAIIIIAAAggggICpBAi2maodFIMAAggggAACCCCAAAIIIIAAAggggAACCCCAAAIIIIAAAggggAACCCCAAAIIIECwjWcAAQQQQAABBBBAAAEEEEAAAQQQQAABBBBAAAEEEEAAAQQQQAABBBBAAAEEEEDAVAIE20zVDopBAAEEEEAAAQQQQAABBBBAAAEEEEAAAQQQQAABBBBAAAEEEEAAAQQQQAABBBAg2MYzgAACCCCAAAIIIIAAAggggAACCCCAAAIIIIAAAggggAACCCCAAAIIIIAAAgggYCoBgm2magfFIIAAAggggAACCCCAAAIIIIAAAggggAACCCCAAAIIIIAAAggggAACCCCAAAIIEGzjGUAAAQQQQAABBBBAAAEEEEAAAQQQQAABBBBAAAEEEEAAAQQQQAABBBBAAAEEEDCVAME2U7WDYhBAAAEEEEAAAQQQQAABBBBAAAEEEEAAAQQQQAABBBBAAAEEEEAAAQQQQAABBAi28QwggAACCCCAAAIIIIAAAggggAACCCCAAAIIIIAAAggggAACCCCAAAIIIIAAAgiYSoBgm6naQTEIIIAAAggggAACCLgmsGLVWlm+YpUxyFF/GydpnVKaHbDheaNGHCL9+/Zx7cZc3S6B7Nxc+eyLb4xrDzqwvww7eHC7xuEiBBDwnEBlVZW8+8EnUlZWIUmJ8XLc0RM9dzNGRgABBBBAAAEEEEAAAQQQQMDLAl8sWCgZmdkSGBggp02bIsHBQc1WVHee/uHU446S2NgYL1fO7R0VcLTHjo7ny+fxPrrj3Z3/zSLZuSvL+L3j1KnHS0hIsOMXcyYCrQgQbOPxQAABBBBAAAEEEEDAhwTueegJmfvFAmNG1199mUybMrnZ2TU874xTpspVl5znQwrWmcrnC76VO+9/1Cj4b+PGyL2332Cd4qkUAZsI6ADqidNrf4+MjYmRee+9YZOZM00EEEAAAQQQQAABBBBAAAE7Cpx01oUq2JZlTH32y09L925dmmVoeN5Dd98qh48aYUcuS87Z0R5bcnJuLpr30R0HPfWciyV9Z4ZxwX9fnCW9enRz/GLORKAVAYJtPB4IIIAAAggggAACCPiQgBmDbR988rn89MtyQ/mic8/kL7QNnjeCbb7xi49n3Df62NIsvBFse3TW85Kdu1tC1b9svenaK237L1xx8O1fW8wOAQQQQAABBBBAAAEEzCngaOipI4Nt/P3Qvc+Koz12713NM5pehe1/cz40Cpo0YaxMnHB4i8URbHO8bx0dbOP3hdre2OG9aYJtjv865EwEEEAAAQQQQAABBEwv4Giw7bW33pWPPvvSmM+Zp02Tk0841mNzu+H2e2XR4p+M8e++7Xo5cnzLbxR4rAiTDkywzaSNcbIsnnEnwSx2ujeCbZNOnC77iooNqblzXpf42FiLqbmnXBzc48goCCCAAAIIIIAAAggggIAzAo6GnvT7IRv/2Cp+fiL3qV0I+vft48xtnDqXvx86xdXmyY72uM2BLHrC2+99JI8/85JR/UknHCP/d9WlLc6kI99HtyhnfdkdHWzj94Vaeju8N02wzeq/O1A/AggggAACCCCAAAINBBwNtnUkmh3+YtVeT4Jt7ZUz13U84+bqh7urIdjmblHHx+MNSsetOBMBBBBAAAEEEEAAAQQQcJeAGUNP/P3QXd2tHceMPXbvDFsfzZlgW0fWZfV7EWzzTgft8N40wTbvPFvcFQEEEEAAAQQQQAABjwgQbPMIq8cGJdjmMdoOHdgObx50KKjJbkawzXsN4T9ceM+eOyOAAAIIIIAAAggggIB9BcwYeuLvh+59Hs3YY/fOsPXRCLZ5Rptgm2dc2xrVDu9NE2xr6yng5wgggAACCCCAAAIIWEiAYJuFmqVKJdhmrX61VK0d3jzwjU61bxYE29rn5o6r+A8X7lBkDAQQQAABBBBAAAEEEEDAOQEzhp74+6FzPWzrbDP2uK2a3flzgm3u1PxrLIJtnnFta1Q7vDdNsK2tp4CfI4AAAggggAACCCDQwQIrV6+T1es3SMauLKmqrpbOaSnSv29vGTrkoDYrcTTYlp9fIH9s3W6M17dPL4mMCG917OUrVqnzt8nOjCwpLyuXrt3SpGe3rtKrR3dJTIhv9trM7FzJyMiUWS+8KmvWbTDOOefvp8phww4xPu/aJa3Fa9ucqIMnVFZVyZKlv8gWNdeMrGwJDwuVtE6phmXP7l3bHGX9xk1SXFwqkVER0rdXT+P8jMws+fX3VbJ27UZJSkqQgw4c0GJvampqjPuv37hZMrNzJCw0VLp27iQTxo6ShPh4p4NtFZWVsnjJz7Jle7oaL1uiIiOks5rPYcMPkU6pKR6fT5s3cOKE31aukXXqOd+VmS3VVdWG5YhhB8vA/n1bHMWZ53bHzl2Sm7tH/AMCZMiggW1W5o1nvLBwn3z/48/q11WGZKtaE+Ni1a/3TjJ6xDCJU5+3duhnW/9eIeoZS1W975SSpD6tkS3bthvf37h5q3RTv06HHDhQ+vTqJQEB/o2GKyoulrXrN8mqNeuV027p0aOr9Fa/noccdID4+zc+t7U6CgoK5bsfl8rOnRmSuzdPkhPj1RzSZOyoEW3+vtLcHKrV73mb/thq/Brbkb5TunXtLCOGHuLQr9c2m9zKCfrX+rLlK9Wv72zDNDk5UcaMPFR69+yuepMrJ04/z7g6NiZG5r33Rqu32pOXJ+s3bFZ9zZT0XRlSWlpm/F6XpF4HDOxX/3tJc4Ns3rJN8vLz5bpb7pIy9XutPu659XqJ//N5GNC/j/H7SHOHK/dtOp4ea9mvvxtzyFK/d+n7d+/aRf2+r149uklQUJBD3O19PlxxcKgwTkIAAQQQQAABBBBAAAEEfFzAlfcXHQ09pav3AnLUewp+6n0E/d6Ln59fq6rtee/F238/1O9dLPp+iWxW7y3uUe979FTvnxw4oJ/0693L+Luxfs9g587/b+8+wKSosgWOn1UBxYABFRTFQDZgRBcDuiAiSXIQQbLkIeecJOecc85BgoABFRUEUVQEJGdEcdVdxbDvnprXbXVP1XT3TE2Pbf/v973vrdPVVXV/93bz1elzzz1t9fveAnlDPi+n9DnZCTYaY2y/bmriWMH3f+z4Sdm+c7eJC56WH378yYqbFDAxwccefUguM7G85JrGv/buOyDHzPw7YeIup0zc4qrMmeVGE5O6+casUtjEcy7PlMnxFBoP27f/oGzY8rasXLvBOqZwoUfk5aoVrP997bVZksSgIolH6jnSIh6tcfY9X+41cby9Ji6USXLdeac8cH8BK74czabz/Z33PpST5jcCtdRxe+C+e+ThB+6z4omRJLalJo6Vmu+Fn3/5xfxWsd+aOxr30s/1dWbcb8x6g4l93SqPPFgw5HeZz9yr+FlKY/5/hd9fojX/SGyLljTXQQABBBBAAAEEEEAghIAGI0ZNmGIeUhOTwIJbbhMwaf5qbXn0oQdczxRuYtuYSdNl7qLl1nka16sltapXcjzn7j1fyugJ0+TzvV85vq4Bq6JFnpT6tapLTpPwYG/tuvWVd7d95HqvzxctIj07tUmzebF2w2aZOmueSWg753gNTVpp1aSBScLJ5vj6f/77sxQtU8V6TQNVb65ZLN36DZY333kvyfH/NIlIfbq2kytNEMXX1Kz3wBFy9NiJJMdrgKZX5zZy0SSq9XptmPX6v55+Qvp17+DqsWLNepk2Z6EVMAxuGjgo9syT0rJxfdeEqNT2x6uB2vXp52aeT7UCUE5NEwUH9Oos11+bNLFr9MRpMm/xCuttTeq/IjWrVXS9rVoNE2T/wUPW6zPGDzPJobn+MnNcgxWTps+RZavXmcTJ/ya5r0yZMkqZEs9JkwavuCYxvf/hDiv5SZsmNnZtlyCtO/Xy99l+Ug0yjR7UV+7ImcNKfhs9cbosWLrS+t/B7cH775EubRNcPxe+4y9e/FXGTZ0pq9ZulP/+/HOS82iybOVypaVerZeSJNX5Dg7uQ7cOLaVJ685JPjOalPdS5fLWmHvdvjPBqx7mM7h95yeOp65W6UWpVrGslKtez3o9ucQ2De7Nnr9UVr6+UX799VfXW9XvnuYN6yT5ztQ3FC1b1XFO+E7WqXUzKVuyeMC5vbiu74Qa3JtuvmcWL1/jOK56XDaT9Fe7RlUp+XxRyXDZZY79TO38SImD13OD8yGAAAIIIIAAAggggAACsSjgRXwx3MS2uk3bmEVz+y2myaMGmcSufI5kqYkvpufz4Y5dn0q/oaPktC6CC2o3mSSYMUP7ybgps+Stre9br+rCtKImPufUUvucbD9nNMdYr+tFHMt3/2fOnZPhY6eY5KgPHONSGsMa0KuTSR7Mm4RR41hqPW32Qjlw6LDrx1NjijWrVZBqlcolOWb+khUmLjnN9b2a3LRqwfSA18ONo+ubvI5Hb169UPoPHmUtjg5umTNfIa2bNpRSJj6T1u13syh51PipsnzNOms+BDeNJw7u201qN24lmvCqbe6UMWZR/O1JjvUijpWS7wWNXy5fvV7mLlwmmpDm1nLdeYcVk9V4v1vzKn6m509NzD+9f39J63lnPz+JbdHU5loIIIAAAggggAACCLgIaFJF+279RB+KkmuaENW7S1t51iRBObVwE9v0AV4f5LU1qlvTqqQW3A4fOS71mrUWTYgK1TSxatSg3mZ11v3+Q9ubxLatySS2vVDsGenesXWoU6fo9RlzF8vE6clXVdIT2xN+gi+kCUf6kKxN3YubRLzXN25xvJ9bst8ssyeOEg0oaNtnKrQ1bdtFfvzpP673r2b6gPyeqdilLbnEtskz55mgzYKQFlpFb/SQPo6r9VLTn5AXDvMATWTq1Os10WBeck09h/XrkSTxJ5x56zvvyw2ai67e0zZ93DDJlydpYlt6zHHte5c+A5NN+vT14cGC98qQPt3888pupkmjGrzQpuP+88WLVjVBt3bDddfJsNd6yMx5i2WLQ3Km/X1XmUqAC2eMd0wu1OP0e6pjj/7y4Y5dIUe+aJEnpGfnto6rbe190Ep9v/36m2NiXqjPR8ibcDlAVwQ3btXRP0/czvN04cfknfc/tF5OLrGtSZvOoqvPw2laCW76+OFJEsOKla1mrXh1a53bNJcyLzwX8LIX1/WdsP/Q0bJ63RvhdMGqVDnWBPGDmxfzIyUOYd00ByGAAAIIIIAAAggggAACf2MBr+KL4Sa21W7c2uxSkLhwcdLIQdauBsEttbGX9Ho+/NQs9k3o0D3ZWK3GFbXC+b4DB61u66LXYs88lSbPyb6TRnuMvYpj6f2fOHlamrXv6pgoaEfTams9zYLgIk88HmC508RcmprYS7hNY+jPPft0wOELTDx8ZDKJbVrxbcX8wMS3cOORXsejdaGnVg8LFX9LaFJfqlUoGy5Lio7rPWCYrNv0VrLvLWAqGZ4xleXOf/utdZxbYpsXcayUfC9MmTXfLIKfH1b/dQ7OmTzadeGvF/EzvZHUxvzT8/eXsCA9PIjENg8xORUCCCCAAAIIIIAAAikR0BL0GjDyJTNkyXKNaCKFbkd4qamG88H2j60S39+cT3wo1Ao5i2ZNsqrmBDcvE9saJrRP3OrQNE1geLXOy2ZLwzvkN7MqS8vv7zOBq6Wm4pSWjtfA1dih/QOSNM5/952cNQ+zw8ZOsrY71FbfVG8q/FjiaqfsN99klXf3umkZ+xbtu/lPq1sZqmchswWqrgjbZpKr3v/wY381orty3i6zJ49Ksv2iPRHMdzLd7rFa5XKSL1cu+fcPP8g2Mzab3npXRg7oFZA41bRNF9m5+zP/PRR+7BF53JTS16p7n3/5lbU96ceffBrQdbfENntVK33DM08Vtvrz8IP3WVsdfLBjp6xZt8m/0kyrd40w9xPcUtMfL8ZIK2NVrNnQ766JVkWeetwaFw0W6BxZu+ENf4U9XZk5ZczggEuHG0jSN4WT2JYec1wrtU2fu8jfrwfM1p+FH3vUWtX81b798r6ZGzqHfa1C2RekXYvGSYbAnhTme1HnslYX060izxvvjz7eJctWrXMcPk2aK/NCcbk9R3bLfNNbW+Xtrdv8x2rylCZROTX7StWMGTNIWXMend/58txtjeO27WZOrn9DdDWnNreqkE590BWepUoUkztMBUjdFnTdxjflhNmWYvKowdbWu162qbMWyBRT1dHXtKqfbqH6kLE5bray/ejjT+Rtk9Bmr76WXGLbB6bfrTr1tD7nVSuUsbauyGG2lv3199/kvNlqVre5WLxirf98ToFH3UL3e/NvQjOTGOvbinSIWfHq24r07jvvEDW3Ny+uq+fT+ZLQoYd1ar1GY1Mh71mzbbKudD5htsY+dOSIvGu+PzeaQKZuqzGoT1fLK7h5MT9S4uDl3OBcCCCAAAIIIIAAAggggECsCXgZX/QysS21sZf0ej58xVSe0oWr2nTB69MmyUoXqGbPdpOJ+e2Rt955Xw4eORowTdwS27x4TtYLpccYexXH0vuv16yt2QIycacS3a3gqccLyePG9Jbs2aw482azENMXi9Zo54MFAAAgAElEQVTdM9YumilXX32V31grtul80kTC8qVfsGJRGne57ros8t1338sBs3PDdLOg0zduGsNZvWhGwGJLrdp1+Mgxa/HykpVrrXNrbKPOy4mLm7Ncc425n5sDxjWceGRaxqOvueZqqVm1omji2O8mxvT5l/tl9sIl/or/ukB18YwJaRJnVwhdxKnJaL6mv0kUeaKwFHr0Abn4y0X5yCzYf2vrB/JdUBU0t8Q2L+JYKfle0CptVV9pJJkyZjLV/F60thTOcWt2898ZrTjqjl27ZaZZLK+/aWjTz/xAs6tIcPMqfuZFzD+9fn9Jj38fSWxLD3WuiQACCCCAAAIIIICATcAeINBkgmljh4lW87E3rcRU69UEfwUwt2QXrxLbNKGiaNkqVmKKBgGWzZ3suCXiH3/8YSVWaTUsp60jtQ8duvfzVzvq0629FDNbl6Zla9Syg+gWB9o0qW36uOGS+YrLAy759rvbpGPP1/x/c7qv4EQwXbE3efRg0ZL0yTVdqaorVn2tqkk00i1Cg1uX3gMDKme5JbbVadLav22nrvrUIFlw++SzL6wVizoe2iaOGCj335s/4LCU9sersbJvI6rBKx0XTfyxN13R17pLH+tPA3t1SZK8GU4gyXe+UIlt6THHgwOQJYo+Iz06Ja1aOMJsybBw+SqrK26JrMFJYbpFsSZABSc9rd24WfoOGhng/GKp56VDyyaiWwnb29jJM2SOKcevTV/btHJBkmpxGgSqWKOBf8Vy+4QmUr5MiSTTRCvDTZiWWDVRA3DL5kwO2KpX/x7cBw0QD+zdxXV7S6/mop5HE7NKVa5lBYW1aXBwwogBSa691AQ5h4ye6L90coltetC+rw9K7rvuTGLrO4EmNep3vrbktmN+7sVq/u/7tUtmuX6/+s7rxXXt/xY1bVBbXq5awZH8tElYPnrsmJWUGty8nB967kgdvJwjnAsBBBBAAAEEEEAAAQQQiCUBL+OLXiW2eRl7iebzoS5Gbda2q3/4nRbsaTyhZsMWZhHtef9xToltXj4nR3uMvYxj6Y4Vbbsmxvy0dW2fIKWKB26hqVtcDhg2Rt4zi+r6d+9oLTwMbr5qYDdcf73jx1PvuVrdpv4kq0UzJ8htt96S5NiFS1fKCLO1pja3OLvvTeHEI9MqHq0Lg6ePH5YkHn3k6HGp1SjBvytGi0Z1pbrD1qtefIfZt7vUJLpZE0daC9btTZMJ6zdvF7BNqVtim77PiziWnifS7wV1u9ksXNdF1k5Nf1PQsdTmtC2t/t2L+Jmex6uYv54r2r+/eDGvIj0HiW2RinE8AggggAACCCCAAAIeC5R/qa5oooC2Ns1flUovlnK8whtvviPd+w2xXtMtL99YMT9JlTGvEtv2mxVutRomWNe6t0Beq1pSSls0H6xOnjpjqoI1sG5VV1NOHTNE8uS+2/HWB44YJyvWrLdeK1zoERnav3vAccGJYMkletjfOHfRctGVmNruuiOnzDDBB11lGNx++OFHqWG2yzz3/wEwp8S2Q2YF4Uv1mlpvvckk1M2dOlauujKzY3/sD9WaaKQJR/aW0v6kdNyD31eqUi1/Vbm2Zp5XdJnnmnDkG7/gc4QTSPK9J1RiW3rM8TXrN0m/IaOsW8yezWxfO2lkkmQvfU23eajXtI0cOHTYOtZp7gUnhS2eOdFaZRjcdDWrfpZ959KKkEtnT3K8rs6RF8330Y9mi05tOne1ipm9LV31ugwZNcH6k65o1apdTk2TLLXq2K5PP7dedgruBvdBP6+aYBaN9uVX+6WuMdamiZZzJo129NPX23Tpbao87rCODZXYFuredQuW6vUSP5vJfbdGGpjz4rqa7KtJv9q06qNWf4y0eTk/9NpeO0TaH45HAAEEEEAAAQQQQAABBGJFwMv4oleJbV7GXqL5fDhx+mzRbSWtZ/f8eWSi2Wb1kksuSTIVduz6VJq3+zMu4hT78PI5Odpj7GUcq1ufQbLp7XctQ7fFvT5gjYsFL9yM5HNov5ZbfMPLxLa0jEd3adtCSpudDZzasDGTzM4Aa6yXypQsLp1bN4uEKaxjNb5XvNxL/p1menZqYy3UdGq6WFYXzfpacoltoS6eXvEzvS97DPuttUusuKG9eRE/8zLmr/cWzd9fQo1dWr1OYltayXJeBBBAAAEEEEAAAQTCEDhz7pyUq17POvLSSy+RTasWuq4Y0gSV4uWq+6v4zJwwQvLkuivgKl4ltn3//b+lRMWXrXNfcfnlJsFluFX9LCUtmg9W68wWeb0HDLNuUyuWaeUyt6YryXRbAW1a1n7DsrkBVZaCE8EWTBsnOc32iKGavRJb3ZrVpMErL7m+ZcDwsbJy7Qbrdaegjj2A5FatzXdyLdWv5fi1aTLfTDNm9pbS/oTqbziva+KmBt+0aSBw82r3eZ7c+bxMbEuPOd5/6GhZve4Nq4u1a1Q22/vWdO3ugiUrZOSEadbruvWsVjKzN3tSWDazDcbyOVPCmmdaFW1Y/8TtJp1a41YdRSsAauvdpa089+zTAYf1Hjhc1r3xpvU3t2ptvjfYq7Zpif+ERonfdb5m74OuQF2zeGZyw+/pa/ZKbLr96bhhf1ZwDL7Qxi3vSI/+iUnFqU1s0y2ni5WtZp0ruXHzOmAfznWHmsp0vm04UhoQ9XJ+qJHXDp5OIk6GAAIIIIAAAggggAACCPxFBLyOL3qV2OZl7CWaz4cJHXqIbjeoLcFUwqqWTCWsFyrWlAvff28d65TY5tVzcnqMsZdxLF2IrAlg2kYO7OVYBd6rj9PICVNlwZKV1umcKsPp371MbEvLePSyuVOSVEfzOdnjVQ/cV0DGDx/gFaH/PAcPH5Ua9RMT5nQR+ZY1ixwXcOvr35z/VspUre1/b2oS28KJY+mF0uJ7wb4NsZO/F/EzL2P+6hDN3188n2RhnpDEtjChOAwBBBBAAAEEEEAAgbQQ0AQSTSTRpoljC6ePT/YymrikCUzaBvTsJEWe/GfA8V4ltulJq9ZpbLabO2GdX5Pbij37lBTIm1tuy3GL3HDd9XLrrdnC2jIwmg9W0+cslEkz5lr3XK50CWu7Rbem5e2fLvHnVnsbl8+zEtx8LTgRbLNJOtRKeaFaE7Ml6K7de6zDnBKD7O+3Jy85JbZNnbVApsyaZ71FV+fVq+WeJHfm7Dl/qXQtC68V/ewtpf0J1d9wXreXcdf5s2hGYsWvSJuXiW3pMcd1Fa+u5g1nbmgAVQOp2nRry1mmupu92ZPCHnnwfhk9uK8rp337S60IqZUh3ZomcGlgTFvHVk1Fty21t6ZtusjO3Z9Zf+pkVoIWeuQh13Ntfmurv3rh0088braX7ezaB60MpxXiotX0c6WfL22hvivsSbCRJrZpEP+/ZmtnX/vpp59Eqwlqy262Plg2N3Hbi+CW2sBcSq5rrwqq96Nj8nThQqby5O1y8003Wls1uG057bt/L+eHnjO1DtGaT1wHAQQQQAABBBBAAAEEEEhPAa/ji14ltqmJV/HFaD4f1m7cWr7af8Aa0lAVze0LBJ0S27x6Tk6PMfYyjvXk8+Xk99//sExXL5whWW9w3ko00s+RVnf77vsL8r///cP/1qkm5qOJQ9q6tjNbnj4fuOWp/t3LxLa0ikfrIvit65cHLMS2+9jjrbnvvstsEToiUr6Qx2sMUOewtnB+u9DFnJqUpi2SxLaUxLH0Gqn9XtB7/eHHxPv1tVaduotWjNO2bM5ka9cNe/MifuZlzF/vLZq/v4ScNGl0AIltaQTLaRFAAAEEEEAAAQQQCEfgvQ+2S9uufaxD85uksWljhyb7tladesoH23dax3Rr31JKFv9XwPFeJrZpclZTs5WgVopzalqGO5+pDPbcv4pIeZNE5lSSP9oPVqMnTpN5i1dYt1ujSnlp1rBOsp5FSla0tn3Upgkmmmjia/ZEMF2RtnXD8nCG1KoCp4kw2ob26y6FH3vE9X1arU2rtmlzSmyz9yesi9sO2rZpVcBbUtqfSK/rdLxu46jbOWrLlyeXTB+XsgQmrxPboj3H6zRpLXv3JQZGQ82NPV9+JQ2at7OO1QCKBlLszZ7YVujhB63Vrm7NvhVA1QplpWWT+q7H9hk0Ql7fuMV63Smxzd6HSObGQwXvk7FD+7n24dGHHpBRgxLnSDSaffVuqO+KY8dPSpXajazbCpXYdurMWVmweKVs2/6xnP3mG/nFltQW3C8vE9u8uK5+1yd06C7bd+52HQKtMvfgvQWkbs3qjlu3ejk/9CZSG6CMxlziGggggAACCCCAAAIIIIBAegt4HV/0MrHNq9hLNJ8PNQagsQBtk0cPNtuR5nUd4jade8v7H+2wXndKbPPqOTk9xtirONZ/f/5Z/lW6it9w8+pFkvmKy1P0sdHkuDfffV+WrVwrR46ekG8vXEj2PNFIbEureHSGyy6Td9Yvc+3f53u/kvrNEmOHaZXYtnXbR9K+W+Ji2nB+u9CKbVq5TVtyiW1exLH0GpF+L2gi28q1G2W92Y3i1Jkz/p1x3JCdEtu8iJ95GfPXeyexLUVfJ7wJAQQQQAABBBBAAAEEwhV48533pHPvxO0yQ22dGfyQ4rQNoJeJbXo9Xfk1eOQ4+frQkWS7dN89+WT0oL6iyW7BLZoPVvZS4KG2egx++A3eatSeCBYqkGDvc416zeTgkaPWnzRRRxN23JomEGkikTanxDZ7f8KdU77j3t2wwtre1tdS2p9Ir+t0fKTz3O2aXie2RXuO16jfXA4eTvwshZob+w4clFcatbSOddqmM70S2+x9iGRuFDRbA08I2ho4kj5Ecq1wjh0yaqIsXbXWOjTUd8WpM+ekQo3EbVSTS2xbu3GzvGa2m/WtQA51H14ltnl5XQ02T5u9wNqy47fff3ftQsaMGaR7+1ZS9JknA47xcn7oiSMNUIYy53UEEEAAAQQQQAABBBBA4O8oEGncxR6rc4ovepnYpt5exBej+XxY+ZVX5fiJU9ZUmTpmiBTIl8d12uiCZU060+aU2ObVc3J6jLFXcSz7lrTqpIuHdRFxpE1jm41bdxKNmYXbopHYll7x6Ggktm15+13p0meQxR3Obxf27w63xDYv41iRfC/o7xs6f3744cdwp49jxTZ9c2rjZ17G/PV+ovn7S9h4Hh9IxTaPQTkdAggggAACCCCAAAKRCGj1Na3Cpi2PqX42c/zwZN/eor1W0/nEOqZnpzbyfNEiAcd7ndjmO7muUty95ws5cuy4nDerrg4dPW4l6PiqnelxNatVlCb1X0ly/9F8sBo3ZabMXrDUuodqlV6UhEaJyShu7anny/uTN1YtmC43Zr3Bf2hKE8HqNWsrX+zdZ51nUJ+u8tQ/C7lef9mqdTJ4VOL2s06JbROmzZaZ8xZbr+u2s2XMdqThtKuuuko0kcjeUtqfcK4X6pgPd+ySlh0Tt9XMk+sumTkhZaXx0yKxzXfv0ZjjDZq3lT1fhjc3PjVJpa+27GDd3m23mu1bZwZu3xpJUpiXFdvs2yHXrVnN2p44nHZL9mxyZ87bAg6NpA/hXCOSY8ZOniHqoi3Ud4VuP1C9XuK2xm6JbVqJr2FCB/n118QKkLqK9dmnCltba1xttgb+xz8St8T4yQRhdbtXbV4ktnl9XZ+hfl98br7Hvvxqv5w9+42cOntWvj54WM6c+8bPrFseL5g2Vm64/s/tQ7ycH3qhSAKUkYw/xyKAAAIIIIAAAggggAACfycBr+OLXie2+axTE3uJ5vOhLjT0JU+NGtTHLFot6DpdmrTpLFqVTptTYptXz8npMcZexbE0VvL0CxX9hm+sXCBXXZk54o+gLg7XBD9tV2bObC22y5vrbrn+uiySIUMG//mWr1nvTzaMRmJbesWjo5HYptUItSqhtnB+uyhVqZa/ip5TYpvXcaxwvxd++PEnqdOklZw4edrqi8bkdBeaHLdkl2uuuTog0XLo6Ammmts56zinim32iZvS+JmXMX+9n2j+/hLxB9ejN5DY5hEkp0EAAQQQQAABBBBAICUCe77YKw1atPc/UOl2mMk1+zaXg03S1JNBSVNpldjmdE/6QDhm0nRZ9fpG6+VsN2WV5fOmJTk0mg9Ws+YvkfFTZ1n3oNu06natbk1LjxcrW83/8uZVCyVz5iv8/53SRLBmbbvKx598ap2na/sEKVW8qOs92O/XKbHNnpBU6cVS0qb5qymZZtZ7UtqfFF/Q9kb7tppu8ySc69gT20JV2bKvrtWtT3UL1Eib13Nck/s0yc+aG+3M3HjefW7YS/3nzZ1LZowP3L41kqQwLxPb7Fts9O/eQZ59+olIWf3HR9KHFF/E5Y1alWzyzHmJ3xVmHLqZ8XBr9u9pt8Q2ewW4KuXKSKtmDRxPZ99+w4vENq+vG8pZg/Wdeg8QXW2trUvbFlLalnDr5fzQ84cboAx137yOAAIIIIAAAggggAACCPydBbyOL6ZVYpvTGIQbe4nm82HTNl1k5+7PrNtt26KRVCxb0nX6lKte178IzCmxzavn5PQYYy/jWEVKVvQvkF46e7Lckv3miD6SFy58Ly9Uqmm9RxORppgtYnUhqFPTePXcRcutl6KR2JZe8ehoJLbt+vRzaWKqnGnLlu0mWT5niuu46Radz5auLL/8ctE6ximxzes4VrjfC/bKc/fkyytjhvaVyzNlcuxL3aZtrIWe2kIltrlhhIqfeRnz13uI5u8vEX1wPTyYxDYPMTkVAggggAACCCCAAAKRCmjp6+LlX/K/bf3SOZIlyzWOp9HVbUVNIpavIpBTECCaiW16k7/+9psULV3F+v/atqxZJFdcfnnA/Ufzweqd9z+0HuS03X1nTpkzebTrkOw0CRpNzapKbU7JVilNBOszeKS8vmGzdd6qFcpKyyb1Xe+hmynlvsmUdNfmlNimWxnolgbadFXcDJOg5av8FOlcS2l/Ir2O0/H//vcP8nyFGmHN8+Sup0EpDU5p02qFWrXQqel8fLZUJf+WkClNbNNzeznHR4yfIguXrrJuuXK50tK6WUPX7k6ZNV+mmv/T9sJzz0r3Dq0Cjo0kKczLxLbRE6fJvMUrwprfoeZOJH0Ida5IX9dtD/oOGmm9Lffdd8msie5VBO2VFd0S2xq0aCd7vvjKOt+yuVPMys+bHG/Jvv2GF4ltXl83HMepsxbIlFmJSYEvV60gTRvU9r/Ny/mhJw03QBnOfXMMAggggAACCCCAAAIIIPB3FfA6vhjNxDYdk3BiL9F8PrQvrCxc6BEZ2r+749Q5cOiw1GzQwv+aU2KbV8/J6THGXsaxajVMkP0HD1lWKVkoad8NItQCRfs2j9FIbEuveHQ0EttOnTkrFWr8GdveuHyeXH31VY6fB/uOB3qAU2Kb13GscL8XdCG8JiBqC7UQ3b4Fb0oT2/Q6ycXPvIz567Wi+ftLev07SmJbeslzXQQQQAABBBBAAAEE/l9AAyAaCNFWvkwJaZ+QuOVdcJs4fbbMmJu4LaVumalbZwa3/kNHy+p1b1h/TmhU12yxV87xXOFs6ajBhmw33uj6sKontifbaQn5jSvmJ0m8sidvhapSldpJoav3SlV5Rf744w/rVE4BJf27vt6sbRfRVWfanJKkUpoItsKUux84Ypx1Xl1BOHvSSLkpa9YkXfv60BGp27S1f7WiU2KbJoTpakRff5q/Wldequw8pnoBrYx2/bXXOq56TGl/UjsmvvdXrdNYjh47Yf1nxTIlpW1CI8dTnzx1xvq708pNe6BI+7lkzqQkiZT63k1vbZVufQf7z++W2BbtOf721m3Ssddr1n1lvuJymWG2ZHVaXfqN2e63pgn4Xfj+e+vYTq2bSdmSxQO8IkkK8zKxzT4Gl156iUwYPkDuLZDPdZpo5blHHrzfcZwi6YNX89B3Hp2LOid9TYPUGqwObv/5789Su3FL0e1StLklttnn99ols6zPoVOzB2KTS2yzb92QXBDNy+tqNblDh49KgXx5kuW2B+aC/53xcn7oTYTr4PX84HwIIIAAAggggAACCCCAQKwJeBlfrFSroX/Lvpnjh1uLLZ1a7cat5av9B6yXJo0cJPfdkzQ+4FXsJZrPh/ZnW+1bj06tpUTRZwIILl78VeqZyk6+mK6+6BSH9PI5Odpj7GUcS2OlGjPVpgsMp44ZHLB9qA/3x5/+Y2IwJyR/3twB3m+8+Y507zfE+luFsi9IuxZ/xnSC56Y9ecotFm1fxBhq149QcfT0ikdHI7FNbUtXqS3nv/3WYg5e4Gi37/naUNmw+W3/n5wS27yMY+mFwv1esM+/Pt3aS7EiTzp+p2kcsHi5av7F0k4xOS/iZ17G/LUj0fz9xREuCn8ksS0KyFwCAQQQQAABBBBAAIHkBFabrTz7DxvjP6Rv1/ZS9JnAh6vtOz+RhA49REt6a9MKOfogGdwmTJstM+clJr/pNqW6XalTC/VArtfTUvlXXnmlNKlXU0q/8JxjpTB7Ba2HCt4nY4cmVkuzN/u1nCpPeT07er02TNZvfss6rSbbTTNVzuzJQ2o4dbZWw1rgv/RkU77+3vx5A24lpYlgupKtsgkA/v57YnLdww/cL8MH9JQMl13mP78+ANdv1k4OHj7i/5tTYpu+2HvgcFn3xpvWcZddeqmMGtRHHix4b8C9auLbVLO14vQ5C+W6LFlk+Gs9kgQdU9ofr8Zn8Yo1MmzMJP/pBvTqLEWeeDzg9Jpo2KFHP2ue9+nSTh5/9KGA19W24ssN/J8DDWS1atrQcvE1NW3Zsaec++a8/29OiW3pMcd1BXLV2o3l1OnE5D3dHnXcsP4BSV+aLNqmS2/ZvnO3dYwmUi2dM9lKhLO3SJLCvExs++3336WaSQg7cfK0dTu6DcFkE7zOesP1AfenK4m1gqQGcO/Nn0eG9uthJXqmtA9ezUP7earUbuRPWLvOJKJp1TZ7P3Qevma+m33Jwr7xWLd0dpLb6dpnoGx++z3r780a1pEaVconOUa3P27YooP/c59cYpv9x4Hg7T7tJ/bqujo323frKx9s3ylPm89ly8b1JHu2pNuCfPfdBanbvK2cPn3Wuo1xQ/sHfB95OT/0/OE6pMX84JwIIIAAAggggAACCCCAQCwJeBlfbJjQXj77fK/V/RZm4Wx1l4WzoRLbvIy9RPP5UGN6Ves08sc+NL6oBv8s9LDcYp6Vt3/yqazbsEXe/2hHwBRxSmzz8jk52mPsZRwruLpdtUovmkXZ9QL8NJbXulMv+drE9l6t87K88lJl/+uHjhyTl+o1tf775huzmhjOyCRxJn1tzfpN0m/IKP/73BLb7HE1jRvrrh8ZM2Zw/MiHiqPrm9IjHh2txDaNja0yv19o051ERg7sJY8+9ECA1esbt0ifQYG7ITgltnkVx/JdPNzvhaWrXpchoyZYb3vi8Uet30yCd0XROGBfM3d8O7HoscGJbV7Fz/TcXsX89VzR/v0lPf5tJLEtPdS5JgIIIIAAAggggAACNgENcLzcoLkcOXrc/1d9oP7now/LZRkulW0ffiyHjh7zv6bV2hZMH58k0UUPCH54v+uOnKb6Tm5pYSp92cuEh3ogL1mplnx34YL/mprgcI+p4pPXrNDMdvON8o0JNLz34Q7ZsetT/zEDe3eRpws/lmRs7Vv+6Ys3XH+9FLw3vzz7dGEp9sxTns8FraxU89UW8ssvF61z60Nqgbx5pNAjD1jJTts+2ulfZaavaxLHQJNkFdxSkwimD/L6QO9rV2bOLI88XFDy5rpb9pjA4M7dn8nPv/wScEm3xDbtz8sNm/sru+mbdDwef/RByWos9+47IF/s3S/nv/vOfz7d4lK3urS31PTHi0HSlazV6jbxJ3XpOe+8/TZ5rNBDkiljRmsbx0/3fOHf1lYDJKMG9U5yaXtVQn0x1513WLZaIetrU/nwza3vB1jpMU6Jbek1x9dtekt6Dxjm71emTBnl4YL3m6pnea2x3LFrt+jqQF9LMFvZVjNb2ga39Eps0/sI7oP+LW/uXPKY+YxpkuXne/eZFdtfi845bbo98ajBfZIkj0bSBy/mYPA51potgzX5ztc0QfI+892k43H8xEn56ONP5Fvb96Ae51axbeXaDTJg+FjrVJdccolVBVK/D6+/7jr5zlTeO/D1YdEgWsD3qvkuXTZ3qmPX7Fsa6wF35Mwh+XLlkupVykkes7LZ17y6rj3Ap+fWYO49JtlXr5U7153yhwnqHzb/Dq0xZrqqVNs9+fLK+BGvBSTtejk/9FzhOqTF/OCcCCCAAAIIIIAAAggggEAsCXgZX7QnXOgzbsH7ClixvFfr1AwgCZXY5mXsJdrPh2+/u0069RrgX1zpNBd0EeINZqGfr8q7284RXsVR0mOMvYpjqV+P/kNk45Z3/JQaI37MxDdz3JLdiol98tnn/piDxl8WzZwgV191pXW8xpt0S8wz576x/jvHrdmlUrlSclfOnHKpieecOnNGtpgFh++beLW9uSW26Y4RWpnQt4hcx/KB++6V/CaOXr9W9YBzhIqj68HpEY+OVmLbMRMjq1aniX9HEe2vxmMfNzHdi7/8Kh98vNO/S4cdzimxzas4lu864X4vaGJkTRNf9y1E10XjZUo8Z37nuMn8hvCLaB/13nSHFXsLTmzzMn7mVcxf7zfav7+kx7+NJLalhzrXRAABBBBAAAEEEEAgSODMuXPSvF03fyDEDegmk9Q2Zkg/uS3HLY6HaCWwyjVfDUhy0gNnTx5lPXD6WqgH8uMnTslgs4rpo493hTVWWp1IqxQ5NV3JpBWefFtM+o4p/q+npVfntmGdP9KDPjYrJ9t17SvqkVzTamqDzAqt4GpY+p7UJIJpVaNmZjztFdmC7+MGk/BSqkRRmTV/ifWSW2KbvqYJhFpNKVR/NIGuW7sEKfLUP5N0OzX9idTf7XidA83adQ1IbnM6VqsN9u7S1nH7Sk3gq9ekjT+Q5fT+0iWKyecmUc6XEOqU2Jaec9xeQS052+TK+0eSFOZlxbiQG8QAABUtSURBVDbf/c5esFTGTZkZcmrcftut8lqPjqJJtsEtkj6EvFAKDtBgVi+TZKjbWbg13W5VK2Tqd6Y2t8Q2DYS2M5/R9z7YnuydVK1YVnS7C63Ml1zFNk10fql+s4CgoZ64Y6um8mKp5/3X8Oq6GiBevnqdaNVP3fYjVMuS5RorYTS7CQA6NS/mh543XIdQ98vrCCCAAAIIIIAAAggggEA8CHgVX9QkozpNWgeQaRX2DcvmBvwtVGKbl7GX9Hg+1GSRoaMmOsbjMme+Qob17ynzl6wQTYLT5pbYpq959Zwc7THWe/cijqXn0UW+nXq+ZlWLT67pgu9h/XtYyWv2plUEG7fu6E9OcjqHxs41acm3JaZbYpu+115lzXcureS/euGMgFOHiqP7Do52PDpaiW3av6Ur18qQ0ROTHbeq5cvKux9+5K906JTY5lUcy3cjkXwv2HeeceuIzp1fL16UPV/usw4JTmzzOn7mRcxf7zM9fn9JdjKkwYsktqUBKqdEAAEEEEAAAQQQQCAlAt9//2+ZZ4Ihy0xywY8//hRwCq14VLZkcWv70eAt/4Kvtf/gIRk0YpxVAcvX5k0dK3fmvM3/39PnLpJJ0+dY/922RSOpWLak4y1vevtdWWq2kPzUBA70wS24FTBV3BrVrWnKjxdMtsunzpyTEeMmm+pzO/wVudJ6W9KDh4+apLHFsumtrUkCHhrkqG5K3pcvU1K0YpZT04pvJSu9bFXP0m0KX18yK6Jh1eS28cZ4vdlGVJNY7C23qYLUr1t7OXr8hLTt2sd6SZNVNGnFrWmSnCbBOfUnQ4YMpsLfQ1ZyoVvSY2r7E1HnkzlYE9M0IKYl7H0VvXyHX2VWYZYvXcJaAawJRW5Nt7kcMnpCwCpPPVaDrBXKJL6/SetOolub6sri+Wb+a4KVU0uvOa5BPJ2feo/BLX/e3FKrWkV55qnCrgaffPaFNG7V0Xq9aJEnpG+3Dq7H2ldD1jOrToNXntrfOGLcFFm4bJX1J6dtke3H6pYbc0yCm1MfdCyeK/KUNG5QSzTh0qlF0gev5l/weTS5bdaCJbJo2Wq5YCqr2ZuuHG7fsrEUvCe/lK1ex6oEqJ+vRTMSty4Ibjqf5y1ZboLaK5PMbd2ytUbl8lLpxVJSuvIrVvKxfg/o9qduTX2Gm+/N/QcO+lcQO21L6uV1z3/7rUwzWxq/vfWDJAnSep+XZ8oklcuXlppVKwZUAXXqQ2rnh++c4Tqk1RzhvAgggAACCCCAAAIIIIBALAl4FV988533ZPTEaaYS1jmr+1opf21QbKxF+26yfedua7eEOWZRrdOiNn2vV7GX9Hg+vHDhe1lpYlhayelbE+u72yzcy58/tzx4/z1mS8wbpU2X3v4qYbq9oS7WdGtePSdHc4x9fUltHMt3Ho2RLjWx70VLV/rnlu81raT/lNlZo0NCY9EFdU5t954vZfyUGaL/3940XnGfid90a58g727bLoNGjrNeHmB26ShizunUNOY7bfZ8Wb5mvT+Ok+2mrLJ8XuLiRl8LN46ux0czHn34iC6KbGrFjDQha9zQ/mn6VbXF/E4wZeb8gJ1l9IJqX8P8ZqHxRk2I1cRYjesunjXZWtQZ3LyMY+m5w/1eUKfX39giU2bNl9OnzwbclsYxddF566YNzBahI6z4u8bbV8yfan33BTcv42epjfn77i09fn9J0wkXdHIS26KpzbUQQAABBBBAAAEEEAhDQFevHT12wlQ4O20lZN16Sza5PcetoisBI2mayHT6zFn5wzy02ZPaIjmH71gNmBw293T+/Hn53SS43ZL9ZsmRPbtrkMHtGpocd+bceVMR6Ee5OWtWKxEprZtum6cJZCfNA6tWZrslu/E0SU4aLIlGUzsNapw2pfIzX57JJMbcagJ9t6f40lZ/THn0U6fPyCX/uESymiS9XHfldE0eSvGF0viNGjw6dvy4tYpP5+hNZj7ky5PL2gIx3KaBEA0s6mrV3HfdKTlvzxHuW5Mcl15z/PTZb4zBSTn7zbdma9lr5VbzudLPVyw19T9x8oxVRU8/YzffmFVy3X1n1D5jXljp96VuZXvSfGdqy2b6kN9sYZxcgqXbdXVe6nfO8ZOn5Jqrr7K2IHYLyIZz7xr0PW1+SPj54i9yh9m+N8Nllzm+zcvrarDv0JGjcsbMzwvmO+y6a7NY/xbpFg1u13fri1fzI1yHcEw5BgEEEEAAAQQQQAABBBD4uwt4FV/8wSy+PffNN3LFFZkdk1QicfQq9vJXej6sUa+ZHDTPz9oWTh/vurDS7uTVc3J6jLFXcSzdVtUX//7BVI6/0VRKy2NiSeHGinVXiOMmnva9iZNqQqXGS1ISw/GNiy5QPn/hgrX1qSYspraldzw6tffv9n6NF2mc+4T53eInE//ScStgFuhG+ruFnt/LOJaeL9zvhcS5d9zMn9PyP/PbS548d7vuSBDK0cv4mVcx//T4/SWUkxevk9jmhSLnQAABBBBAAAEEEEAAAQQQQAABBBBAAAEEEEAAAQQQQAABBBBAAIG4EPjRJGSVrlJLdLGcJlW99frSmFrkFxeDRCcRQOBvIUBi299iGOkEAggggAACCCCAAAKxK/DV/gPy7x8Ct16NtDd3mEpdN5rKZTTvBHS7z737v07VCTNmzCgF782fqnPwZgR8AroaV1eEpqbdYKriuW2Nkprz8l4EEEAAAQQQQAABBBBAAAEEEEg/Aa/ji1pNavSk6fLcs0/JQwXvc+zYqAnTZP6SFdZrugvB9HHD0g+AKyPw/wLEz5gKf0cBEtv+jqNKnxBAAAEEEEAAAQQQiCGBJm06y67de1J1x53bNJcyLzyXqnPw5kCBnbs/k6ZtuqSKRbekXDF/WqrOwZsR8AlMmTVPps5akCqQF4o9I907tk7VOXgzAggggAACCCCAAAIIIIAAAgj8tQS8jC9qBbaWHbvLJ599YXWyYtlSUswkuOXNfZdVke3YiVMyd/FyeX3DZj/C2KH9TQLcvX8tFO4mLgWIn8XlsP/tO01i299+iOkgAggggAACCCCAAAJ/bYERY6fIvoMHU3WTL1epIIUfeyRV5+DNgQL7DhyUEeOnpIrluixZpF/3Dqk6B29GwCew1gSM1278M2icEplCDz0otWtUTslbeQ8CCCCAAAIIIIAAAggggAACCPxFBbyML/7w409Sr2kbk8B2MqC3l1xyifXff/zxR8DfSxR9Rnp0YhHdX3RqxN1tET+LuyGPiw6T2BYXw0wnEUAAAQQQQAABBBBAAAEEEEAAAQQQQAABBBBAAAEEEEAAAQQQQCCUwPlvv5XBoybK2+9ucz308kyZpF6t6lKt0otWJTcaAggggEDaCJDYljaunBUBBBBAAAEEEEAAAQQQQAABBBBAAAEEEEAAAQQQQAABBBBAAAEEYlTg60NH5LPPv5Qv9x2Qvfu/lkwZM0jO23JY/1e0yBOSPdvNMdozbhsBBBCIHQES22JnrLhTBBBAAAEEEEAAAQQQQAABBBBAAAEEEEAAAQQQQAABBBBAAAEEEEAAAQQQQCAuBEhsi4thppMIIIAAAggggAACCCCAAAIIIIAAAggggAACCCCAAAIIIIAAAggggAACCCCAQOwIkNgWO2PFnSKAAAIIIIAAAggggAACCCCAAAIIIIAAAggggAACCCCAAAIIIIAAAggggAACcSFAYltcDDOdRAABBBBAAAEEEEAAAQQQQAABBBBAAAEEEEAAAQQQQAABBBBAAAEEEEAAAQRiR4DEttgZK+4UAQQQQAABBBBAAAEEEEAAAQQQQAABBBBAAAEEEEAAAQQQQAABBBBAAAEEEIgLARLb4mKY6SQCCCCAAAIIIIAAAggggAACCCCAAAIIIIAAAggggAACCCCAAAIIIIAAAgggEDsCJLbFzlhxpwgggAACCCCAAAIIIIAAAggggAACCCCAAAIIIIAAAggggAACCCCAAAIIIIBAXAiQ2BYXw0wnEUAAAQQQQAABBBBAAAEEEEAAAQQQQAABBBBAAAEEEEAAAQQQQAABBBBAAIHYESCxLXbGijtFAAEEEEAAAQQQQAABBBBAAAEEEEAAAQQQQAABBBBAAAEEEEAAAQQQQAABBOJCgMS2uBhmOokAAggggAACCCCAAAIIIIAAAggggAACCCCAAAIIIIAAAggggAACCCCAAAIIxI4AiW2xM1bcKQIIIIAAAggggAACCCCAAAIIIIAAAggggAACCCCAAAIIIIAAAggggAACCCAQFwIktsXFMNNJBBBAAAEEEEAAAQQQQAABBBBAAAEEEEAAAQQQQAABBBBAAAEEEEAAAQQQQCB2BEhsi52x4k4RQAABBBBAAAEEEEAAAQQQQAABBBBAAAEEEEAAAQQQQAABBBBAAAEEEEAAgbgQILEtLoaZTiKAAAIIIIAAAggggAACCCCAAAIIIIAAAggggAACCCCAAAIIIIAAAggggAACsSNAYlvsjBV3igACCCCAAAIIIIAAAggggAACCCCAAAIIIIAAAggggAACCCCAAAIIIIAAAgjEhQCJbXExzHQSAQQQQAABBBBAAAEEEEAAAQQQQAABBBBAAAEEEEAAAQQQQAABBBBAAAEEEIgdARLbYmesuFMEEEAAAQQQQAABBBBAAAEEEEAAAQQQQAABBBBAAAEEEEAAAQQQQAABBBBAIC4ESGyLi2GmkwgggAACCCCAAAIIIIAAAggggAACCCCAAAIIIIAAAggggAACCCCAAAIIIIBA7AiQ2BY7Y8WdIoAAAggggAACCCCAAAIIIIAAAggggAACCCCAAAIIIIAAAggggAACCCCAAAJxIUBiW1wMM51EAAEEEEAAAQQQQAABBBBAAAEEEEAAAQQQQAABBBBAAAEEEEAAAQQQQAABBGJHgMS22Bkr7hQBBBBAAAEEEEAAAQQQQAABBBBAAAEEEEAAAQQQQAABBBBAAAEEEEAAAQQQiAsBEtviYpjpJAIIIIAAAggggAACCCCAAAIIIIAAAggggAACCCCAAAIIIIAAAggggAACCCAQOwIktsXOWHGnCCCAAAIIIIAAAggggAACCCCAAAIIIIAAAggggAACCCCAAAIIIIAAAggggEBcCJDYFhfDTCcRQAABBBBAAAEEEEAAAQQQQAABBBBAAAEEEEAAAQQQQAABBBBAAAEEEEAAgdgRILEtdsaKO0UAAQQQQAABBBBAAAEEEEAAAQQQQAABBBBAAAEEEEAAAQQQQAABBBBAAAEE4kKAxLa4GGY6iQACCCCAAAIIIIAAAggggAACCCCAAAIIIIAAAggggAACCCCAAAIIIIAAAgjEjgCJbbEzVtwpAggggAACCCCAAAIIIIAAAggggAACCCCAAAIIIIAAAggggAACCCCAAAIIIBAXAiS2xcUw00kEEEAAAQQQQAABBBBAAAEEEEAAAQQQQAABBBBAAAEEEEAAAQQQQAABBBBAIHYESGyLnbHiThFAAAEEEEAAAQQQQAABBBBAAAEEEEAAAQQQQAABBBBAAAEEEEAAAQQQQACBuBAgsS0uhplOIoAAAggggAACCCCAAAIIIIAAAggggAACCCCAAAIIIIAAAggggAACCCCAAAKxI0BiW+yMFXeKAAIIIIAAAggggAACCCCAAAIIIIAAAggggAACCCCAAAIIIIAAAggggAACCMSFAIltcTHMdBIBBBBAAAEEEEAAAQQQQAABBBBAAAEEEEAAAQQQQAABBBBAAAEEEEAAAQQQiB0BEttiZ6y4UwQQQAABBBBAAAEEEEAAAQQQQAABBBBAAAEEEEAAAQQQQAABBBBAAAEEEEAgLgRIbIuLYaaTCCCAAAIIIIAAAggggAACCCCAAAIIIIAAAggggAACCCCAAAIIIIAAAggggEDsCJDYFjtjxZ0igAACCCCAAAIIIIAAAggggAACCCCAAAIIIIAAAggggAACCCCAAAIIIIAAAnEhQGJbXAwznUQAAQQQQAABBBBAAAEEEEAAAQQQQAABBBBAAAEEEEAAAQQQQAABBBBAAAEEYkeAxLbYGSvuFAEEEEAAAQQQQAABBBBAAAEEEEAAAQQQQAABBBBAAAEEEEAAAQQQQAABBBCICwES2+JimOkkAggggAACCCCAAAIIIIAAAggggAACCCCAAAIIIIAAAggggAACCCCAAAIIIBA7AiS2xc5YcacIIIAAAggggAACCCCAAAIIIIAAAggggAACCCCAAAIIIIAAAggggAACCCCAQFwIkNgWF8NMJxFAAAEEEEAAAQQQQAABBBBAAAEEEEAAAQQQQAABBBBAAAEEEEAAAQQQQACB2BEgsS12xoo7RQABBBBAAAEEEEAAAQQQQAABBBBAAAEEEEAAAQQQQAABBBBAAAEEEEAAAQTiQoDEtrgYZjqJAAIIIIAAAggggAACCCCAAAIIIIAAAggggAACCCCAAAIIIIAAAggggAACCMSOAIltsTNW3CkCCCCAAAIIIIAAAggggAACCCCAAAIIIIAAAggggAACCCCAAAIIIIAAAgggEBcCJLbFxTDTSQQQQAABBBBAAAEEEEAAAQQQQAABBBBAAAEEEEAAAQQQQAABBBBAAAEEEEAgdgRIbIudseJOEUAAAQQQQAABBBBAAAEEEEAAAQQQQAABBBBAAAEEEEAAAQQQQAABBBBAAIG4ECCxLS6GmU4igAACCCCAAAIIIIAAAggggAACCCCAAAIIIIAAAggggAACCCCAAAIIIIAAArEjQGJb7IwVd4oAAggggAACCCCAAAIIIIAAAggggAACCCCAAAIIIIAAAggggAACCCCAAAIIxIUAiW1xMcx0EgEEEEAAAQQQQAABBBBAAAEEEEAAAQQQQAABBBBAAAEEEEAAAQQQQAABBBCIHQES22JnrLhTBBBAAAEEEEAAAQQQQAABBBBAAAEEEEAAAQQQQAABBBBAAAEEEEAAAQQQQCAuBEhsi4thppMIIIAAAggggAACCCCAAAIIIIAAAggggAACCCCAAAIIIIAAAggggAACCCCAQOwIkNgWO2PFnSKAAAIIIIAAAggggAACCCCAAAIIIIAAAggggAACCCCAAAIIIIAAAggggAACcSFAYltcDDOdRAABBBBAAAEEEEAAAQQQQAABBBBAAAEEEEAAAQQQQAABBBBAAAEEEEAAAQRiR4DEttgZK+4UAQQQQAABBBBAAAEEEEAAAQQQQAABBBBAAAEEEEAAAQQQQAABBBBAAAEEEIgLgf8DJmxHpxXbPmkAAAAASUVORK5CYII=)"
      ],
      "metadata": {
        "id": "VRjL75FyKL9a"
      }
    },
    {
      "cell_type": "markdown",
      "source": [
        "9 - Quantos Ceps únicos temos no banco de dados?"
      ],
      "metadata": {
        "id": "eL1UQG1ODQoY"
      }
    },
    {
      "cell_type": "code",
      "source": [
        "df_geolocation.head()"
      ],
      "metadata": {
        "colab": {
          "base_uri": "https://localhost:8080/",
          "height": 206
        },
        "id": "u-I7waMYC7fM",
        "outputId": "5859ba88-e8e8-4c62-9544-63e2d3a43c04"
      },
      "execution_count": null,
      "outputs": [
        {
          "output_type": "execute_result",
          "data": {
            "text/plain": [
              "   geolocation_zip_code_prefix  geolocation_lat  geolocation_lng  \\\n",
              "0                         1037       -23.545621       -46.639292   \n",
              "1                         1046       -23.546081       -46.644820   \n",
              "2                         1046       -23.546129       -46.642951   \n",
              "3                         1041       -23.544392       -46.639499   \n",
              "4                         1035       -23.541578       -46.641607   \n",
              "\n",
              "  geolocation_city geolocation_state  \n",
              "0        sao paulo                SP  \n",
              "1        sao paulo                SP  \n",
              "2        sao paulo                SP  \n",
              "3        sao paulo                SP  \n",
              "4        sao paulo                SP  "
            ],
            "text/html": [
              "\n",
              "  <div id=\"df-5453089b-92ce-4996-98d3-1e3cc5cd964c\">\n",
              "    <div class=\"colab-df-container\">\n",
              "      <div>\n",
              "<style scoped>\n",
              "    .dataframe tbody tr th:only-of-type {\n",
              "        vertical-align: middle;\n",
              "    }\n",
              "\n",
              "    .dataframe tbody tr th {\n",
              "        vertical-align: top;\n",
              "    }\n",
              "\n",
              "    .dataframe thead th {\n",
              "        text-align: right;\n",
              "    }\n",
              "</style>\n",
              "<table border=\"1\" class=\"dataframe\">\n",
              "  <thead>\n",
              "    <tr style=\"text-align: right;\">\n",
              "      <th></th>\n",
              "      <th>geolocation_zip_code_prefix</th>\n",
              "      <th>geolocation_lat</th>\n",
              "      <th>geolocation_lng</th>\n",
              "      <th>geolocation_city</th>\n",
              "      <th>geolocation_state</th>\n",
              "    </tr>\n",
              "  </thead>\n",
              "  <tbody>\n",
              "    <tr>\n",
              "      <th>0</th>\n",
              "      <td>1037</td>\n",
              "      <td>-23.545621</td>\n",
              "      <td>-46.639292</td>\n",
              "      <td>sao paulo</td>\n",
              "      <td>SP</td>\n",
              "    </tr>\n",
              "    <tr>\n",
              "      <th>1</th>\n",
              "      <td>1046</td>\n",
              "      <td>-23.546081</td>\n",
              "      <td>-46.644820</td>\n",
              "      <td>sao paulo</td>\n",
              "      <td>SP</td>\n",
              "    </tr>\n",
              "    <tr>\n",
              "      <th>2</th>\n",
              "      <td>1046</td>\n",
              "      <td>-23.546129</td>\n",
              "      <td>-46.642951</td>\n",
              "      <td>sao paulo</td>\n",
              "      <td>SP</td>\n",
              "    </tr>\n",
              "    <tr>\n",
              "      <th>3</th>\n",
              "      <td>1041</td>\n",
              "      <td>-23.544392</td>\n",
              "      <td>-46.639499</td>\n",
              "      <td>sao paulo</td>\n",
              "      <td>SP</td>\n",
              "    </tr>\n",
              "    <tr>\n",
              "      <th>4</th>\n",
              "      <td>1035</td>\n",
              "      <td>-23.541578</td>\n",
              "      <td>-46.641607</td>\n",
              "      <td>sao paulo</td>\n",
              "      <td>SP</td>\n",
              "    </tr>\n",
              "  </tbody>\n",
              "</table>\n",
              "</div>\n",
              "      <button class=\"colab-df-convert\" onclick=\"convertToInteractive('df-5453089b-92ce-4996-98d3-1e3cc5cd964c')\"\n",
              "              title=\"Convert this dataframe to an interactive table.\"\n",
              "              style=\"display:none;\">\n",
              "        \n",
              "  <svg xmlns=\"http://www.w3.org/2000/svg\" height=\"24px\"viewBox=\"0 0 24 24\"\n",
              "       width=\"24px\">\n",
              "    <path d=\"M0 0h24v24H0V0z\" fill=\"none\"/>\n",
              "    <path d=\"M18.56 5.44l.94 2.06.94-2.06 2.06-.94-2.06-.94-.94-2.06-.94 2.06-2.06.94zm-11 1L8.5 8.5l.94-2.06 2.06-.94-2.06-.94L8.5 2.5l-.94 2.06-2.06.94zm10 10l.94 2.06.94-2.06 2.06-.94-2.06-.94-.94-2.06-.94 2.06-2.06.94z\"/><path d=\"M17.41 7.96l-1.37-1.37c-.4-.4-.92-.59-1.43-.59-.52 0-1.04.2-1.43.59L10.3 9.45l-7.72 7.72c-.78.78-.78 2.05 0 2.83L4 21.41c.39.39.9.59 1.41.59.51 0 1.02-.2 1.41-.59l7.78-7.78 2.81-2.81c.8-.78.8-2.07 0-2.86zM5.41 20L4 18.59l7.72-7.72 1.47 1.35L5.41 20z\"/>\n",
              "  </svg>\n",
              "      </button>\n",
              "      \n",
              "  <style>\n",
              "    .colab-df-container {\n",
              "      display:flex;\n",
              "      flex-wrap:wrap;\n",
              "      gap: 12px;\n",
              "    }\n",
              "\n",
              "    .colab-df-convert {\n",
              "      background-color: #E8F0FE;\n",
              "      border: none;\n",
              "      border-radius: 50%;\n",
              "      cursor: pointer;\n",
              "      display: none;\n",
              "      fill: #1967D2;\n",
              "      height: 32px;\n",
              "      padding: 0 0 0 0;\n",
              "      width: 32px;\n",
              "    }\n",
              "\n",
              "    .colab-df-convert:hover {\n",
              "      background-color: #E2EBFA;\n",
              "      box-shadow: 0px 1px 2px rgba(60, 64, 67, 0.3), 0px 1px 3px 1px rgba(60, 64, 67, 0.15);\n",
              "      fill: #174EA6;\n",
              "    }\n",
              "\n",
              "    [theme=dark] .colab-df-convert {\n",
              "      background-color: #3B4455;\n",
              "      fill: #D2E3FC;\n",
              "    }\n",
              "\n",
              "    [theme=dark] .colab-df-convert:hover {\n",
              "      background-color: #434B5C;\n",
              "      box-shadow: 0px 1px 3px 1px rgba(0, 0, 0, 0.15);\n",
              "      filter: drop-shadow(0px 1px 2px rgba(0, 0, 0, 0.3));\n",
              "      fill: #FFFFFF;\n",
              "    }\n",
              "  </style>\n",
              "\n",
              "      <script>\n",
              "        const buttonEl =\n",
              "          document.querySelector('#df-5453089b-92ce-4996-98d3-1e3cc5cd964c button.colab-df-convert');\n",
              "        buttonEl.style.display =\n",
              "          google.colab.kernel.accessAllowed ? 'block' : 'none';\n",
              "\n",
              "        async function convertToInteractive(key) {\n",
              "          const element = document.querySelector('#df-5453089b-92ce-4996-98d3-1e3cc5cd964c');\n",
              "          const dataTable =\n",
              "            await google.colab.kernel.invokeFunction('convertToInteractive',\n",
              "                                                     [key], {});\n",
              "          if (!dataTable) return;\n",
              "\n",
              "          const docLinkHtml = 'Like what you see? Visit the ' +\n",
              "            '<a target=\"_blank\" href=https://colab.research.google.com/notebooks/data_table.ipynb>data table notebook</a>'\n",
              "            + ' to learn more about interactive tables.';\n",
              "          element.innerHTML = '';\n",
              "          dataTable['output_type'] = 'display_data';\n",
              "          await google.colab.output.renderOutput(dataTable, element);\n",
              "          const docLink = document.createElement('div');\n",
              "          docLink.innerHTML = docLinkHtml;\n",
              "          element.appendChild(docLink);\n",
              "        }\n",
              "      </script>\n",
              "    </div>\n",
              "  </div>\n",
              "  "
            ]
          },
          "metadata": {},
          "execution_count": 10
        }
      ]
    },
    {
      "cell_type": "code",
      "source": [
        "df_geolocation.geolocation_zip_code_prefix.nunique()"
      ],
      "metadata": {
        "id": "y7gfqkZcAHAn",
        "outputId": "f0063217-dafc-4494-a070-2e33b468d4d0",
        "colab": {
          "base_uri": "https://localhost:8080/"
        }
      },
      "execution_count": null,
      "outputs": [
        {
          "output_type": "execute_result",
          "data": {
            "text/plain": [
              "19015"
            ]
          },
          "metadata": {},
          "execution_count": 11
        }
      ]
    },
    {
      "cell_type": "markdown",
      "source": [
        "10 - Quantas latitudes e longitudes estão expressas na base de dados?"
      ],
      "metadata": {
        "id": "6b3nd8WHDdOf"
      }
    },
    {
      "cell_type": "code",
      "source": [
        "df_geolocation.geolocation_lat.value_counts().sum()"
      ],
      "metadata": {
        "colab": {
          "base_uri": "https://localhost:8080/"
        },
        "id": "P_41I_GqDlcG",
        "outputId": "93b5643e-8271-4299-d6ce-0ad7fe25ae2a"
      },
      "execution_count": null,
      "outputs": [
        {
          "output_type": "execute_result",
          "data": {
            "text/plain": [
              "1000163"
            ]
          },
          "metadata": {},
          "execution_count": 12
        }
      ]
    },
    {
      "cell_type": "code",
      "source": [
        "df_geolocation.geolocation_lng.value_counts().sum()"
      ],
      "metadata": {
        "colab": {
          "base_uri": "https://localhost:8080/"
        },
        "id": "0BEa3nSUDx8Q",
        "outputId": "5b6a1f03-920f-4e72-e17a-4117e4920b44"
      },
      "execution_count": null,
      "outputs": [
        {
          "output_type": "execute_result",
          "data": {
            "text/plain": [
              "1000163"
            ]
          },
          "metadata": {},
          "execution_count": 13
        }
      ]
    },
    {
      "cell_type": "markdown",
      "source": [
        "11 - Crie um método para agrupar todas as diferentes latitudes e longitudes que um determinado CEP possui\n",
        "para um valor único por CEP. Dica Use a função **group_by** e **aggregate**"
      ],
      "metadata": {
        "id": "oQ17Dc2EELFO"
      }
    },
    {
      "cell_type": "code",
      "source": [
        "df_geolocation = df_geolocation.rename(columns={\"geolocation_zip_code_prefix\":\"zip_code\"})"
      ],
      "metadata": {
        "id": "fMnNf1dL8BVn"
      },
      "execution_count": 8,
      "outputs": []
    },
    {
      "cell_type": "code",
      "source": [
        "df_geolocation.groupby(\"zip_code\").head()"
      ],
      "metadata": {
        "colab": {
          "base_uri": "https://localhost:8080/",
          "height": 424
        },
        "id": "Q9LdiGXXEEFY",
        "outputId": "beb10422-9b58-4fb8-cd72-05e58034c912"
      },
      "execution_count": null,
      "outputs": [
        {
          "output_type": "execute_result",
          "data": {
            "text/plain": [
              "         zip_code  geolocation_lat  geolocation_lng      geolocation_city  \\\n",
              "0            1037       -23.545621       -46.639292             sao paulo   \n",
              "1            1046       -23.546081       -46.644820             sao paulo   \n",
              "2            1046       -23.546129       -46.642951             sao paulo   \n",
              "3            1041       -23.544392       -46.639499             sao paulo   \n",
              "4            1035       -23.541578       -46.641607             sao paulo   \n",
              "...           ...              ...              ...                   ...   \n",
              "999961      99960       -27.953858       -52.031943               charrua   \n",
              "999996      99952       -28.182027       -51.880215  santa cecilia do sul   \n",
              "1000008     99925       -27.936330       -52.425730       ipiranga do sul   \n",
              "1000067     99965       -28.174697       -52.035508            agua santa   \n",
              "1000085     99960       -27.954114       -52.016483               charrua   \n",
              "\n",
              "        geolocation_state  \n",
              "0                      SP  \n",
              "1                      SP  \n",
              "2                      SP  \n",
              "3                      SP  \n",
              "4                      SP  \n",
              "...                   ...  \n",
              "999961                 RS  \n",
              "999996                 RS  \n",
              "1000008                RS  \n",
              "1000067                RS  \n",
              "1000085                RS  \n",
              "\n",
              "[87507 rows x 5 columns]"
            ],
            "text/html": [
              "\n",
              "  <div id=\"df-d7b95b0f-73d8-4006-97a9-87f9807bd401\">\n",
              "    <div class=\"colab-df-container\">\n",
              "      <div>\n",
              "<style scoped>\n",
              "    .dataframe tbody tr th:only-of-type {\n",
              "        vertical-align: middle;\n",
              "    }\n",
              "\n",
              "    .dataframe tbody tr th {\n",
              "        vertical-align: top;\n",
              "    }\n",
              "\n",
              "    .dataframe thead th {\n",
              "        text-align: right;\n",
              "    }\n",
              "</style>\n",
              "<table border=\"1\" class=\"dataframe\">\n",
              "  <thead>\n",
              "    <tr style=\"text-align: right;\">\n",
              "      <th></th>\n",
              "      <th>zip_code</th>\n",
              "      <th>geolocation_lat</th>\n",
              "      <th>geolocation_lng</th>\n",
              "      <th>geolocation_city</th>\n",
              "      <th>geolocation_state</th>\n",
              "    </tr>\n",
              "  </thead>\n",
              "  <tbody>\n",
              "    <tr>\n",
              "      <th>0</th>\n",
              "      <td>1037</td>\n",
              "      <td>-23.545621</td>\n",
              "      <td>-46.639292</td>\n",
              "      <td>sao paulo</td>\n",
              "      <td>SP</td>\n",
              "    </tr>\n",
              "    <tr>\n",
              "      <th>1</th>\n",
              "      <td>1046</td>\n",
              "      <td>-23.546081</td>\n",
              "      <td>-46.644820</td>\n",
              "      <td>sao paulo</td>\n",
              "      <td>SP</td>\n",
              "    </tr>\n",
              "    <tr>\n",
              "      <th>2</th>\n",
              "      <td>1046</td>\n",
              "      <td>-23.546129</td>\n",
              "      <td>-46.642951</td>\n",
              "      <td>sao paulo</td>\n",
              "      <td>SP</td>\n",
              "    </tr>\n",
              "    <tr>\n",
              "      <th>3</th>\n",
              "      <td>1041</td>\n",
              "      <td>-23.544392</td>\n",
              "      <td>-46.639499</td>\n",
              "      <td>sao paulo</td>\n",
              "      <td>SP</td>\n",
              "    </tr>\n",
              "    <tr>\n",
              "      <th>4</th>\n",
              "      <td>1035</td>\n",
              "      <td>-23.541578</td>\n",
              "      <td>-46.641607</td>\n",
              "      <td>sao paulo</td>\n",
              "      <td>SP</td>\n",
              "    </tr>\n",
              "    <tr>\n",
              "      <th>...</th>\n",
              "      <td>...</td>\n",
              "      <td>...</td>\n",
              "      <td>...</td>\n",
              "      <td>...</td>\n",
              "      <td>...</td>\n",
              "    </tr>\n",
              "    <tr>\n",
              "      <th>999961</th>\n",
              "      <td>99960</td>\n",
              "      <td>-27.953858</td>\n",
              "      <td>-52.031943</td>\n",
              "      <td>charrua</td>\n",
              "      <td>RS</td>\n",
              "    </tr>\n",
              "    <tr>\n",
              "      <th>999996</th>\n",
              "      <td>99952</td>\n",
              "      <td>-28.182027</td>\n",
              "      <td>-51.880215</td>\n",
              "      <td>santa cecilia do sul</td>\n",
              "      <td>RS</td>\n",
              "    </tr>\n",
              "    <tr>\n",
              "      <th>1000008</th>\n",
              "      <td>99925</td>\n",
              "      <td>-27.936330</td>\n",
              "      <td>-52.425730</td>\n",
              "      <td>ipiranga do sul</td>\n",
              "      <td>RS</td>\n",
              "    </tr>\n",
              "    <tr>\n",
              "      <th>1000067</th>\n",
              "      <td>99965</td>\n",
              "      <td>-28.174697</td>\n",
              "      <td>-52.035508</td>\n",
              "      <td>agua santa</td>\n",
              "      <td>RS</td>\n",
              "    </tr>\n",
              "    <tr>\n",
              "      <th>1000085</th>\n",
              "      <td>99960</td>\n",
              "      <td>-27.954114</td>\n",
              "      <td>-52.016483</td>\n",
              "      <td>charrua</td>\n",
              "      <td>RS</td>\n",
              "    </tr>\n",
              "  </tbody>\n",
              "</table>\n",
              "<p>87507 rows × 5 columns</p>\n",
              "</div>\n",
              "      <button class=\"colab-df-convert\" onclick=\"convertToInteractive('df-d7b95b0f-73d8-4006-97a9-87f9807bd401')\"\n",
              "              title=\"Convert this dataframe to an interactive table.\"\n",
              "              style=\"display:none;\">\n",
              "        \n",
              "  <svg xmlns=\"http://www.w3.org/2000/svg\" height=\"24px\"viewBox=\"0 0 24 24\"\n",
              "       width=\"24px\">\n",
              "    <path d=\"M0 0h24v24H0V0z\" fill=\"none\"/>\n",
              "    <path d=\"M18.56 5.44l.94 2.06.94-2.06 2.06-.94-2.06-.94-.94-2.06-.94 2.06-2.06.94zm-11 1L8.5 8.5l.94-2.06 2.06-.94-2.06-.94L8.5 2.5l-.94 2.06-2.06.94zm10 10l.94 2.06.94-2.06 2.06-.94-2.06-.94-.94-2.06-.94 2.06-2.06.94z\"/><path d=\"M17.41 7.96l-1.37-1.37c-.4-.4-.92-.59-1.43-.59-.52 0-1.04.2-1.43.59L10.3 9.45l-7.72 7.72c-.78.78-.78 2.05 0 2.83L4 21.41c.39.39.9.59 1.41.59.51 0 1.02-.2 1.41-.59l7.78-7.78 2.81-2.81c.8-.78.8-2.07 0-2.86zM5.41 20L4 18.59l7.72-7.72 1.47 1.35L5.41 20z\"/>\n",
              "  </svg>\n",
              "      </button>\n",
              "      \n",
              "  <style>\n",
              "    .colab-df-container {\n",
              "      display:flex;\n",
              "      flex-wrap:wrap;\n",
              "      gap: 12px;\n",
              "    }\n",
              "\n",
              "    .colab-df-convert {\n",
              "      background-color: #E8F0FE;\n",
              "      border: none;\n",
              "      border-radius: 50%;\n",
              "      cursor: pointer;\n",
              "      display: none;\n",
              "      fill: #1967D2;\n",
              "      height: 32px;\n",
              "      padding: 0 0 0 0;\n",
              "      width: 32px;\n",
              "    }\n",
              "\n",
              "    .colab-df-convert:hover {\n",
              "      background-color: #E2EBFA;\n",
              "      box-shadow: 0px 1px 2px rgba(60, 64, 67, 0.3), 0px 1px 3px 1px rgba(60, 64, 67, 0.15);\n",
              "      fill: #174EA6;\n",
              "    }\n",
              "\n",
              "    [theme=dark] .colab-df-convert {\n",
              "      background-color: #3B4455;\n",
              "      fill: #D2E3FC;\n",
              "    }\n",
              "\n",
              "    [theme=dark] .colab-df-convert:hover {\n",
              "      background-color: #434B5C;\n",
              "      box-shadow: 0px 1px 3px 1px rgba(0, 0, 0, 0.15);\n",
              "      filter: drop-shadow(0px 1px 2px rgba(0, 0, 0, 0.3));\n",
              "      fill: #FFFFFF;\n",
              "    }\n",
              "  </style>\n",
              "\n",
              "      <script>\n",
              "        const buttonEl =\n",
              "          document.querySelector('#df-d7b95b0f-73d8-4006-97a9-87f9807bd401 button.colab-df-convert');\n",
              "        buttonEl.style.display =\n",
              "          google.colab.kernel.accessAllowed ? 'block' : 'none';\n",
              "\n",
              "        async function convertToInteractive(key) {\n",
              "          const element = document.querySelector('#df-d7b95b0f-73d8-4006-97a9-87f9807bd401');\n",
              "          const dataTable =\n",
              "            await google.colab.kernel.invokeFunction('convertToInteractive',\n",
              "                                                     [key], {});\n",
              "          if (!dataTable) return;\n",
              "\n",
              "          const docLinkHtml = 'Like what you see? Visit the ' +\n",
              "            '<a target=\"_blank\" href=https://colab.research.google.com/notebooks/data_table.ipynb>data table notebook</a>'\n",
              "            + ' to learn more about interactive tables.';\n",
              "          element.innerHTML = '';\n",
              "          dataTable['output_type'] = 'display_data';\n",
              "          await google.colab.output.renderOutput(dataTable, element);\n",
              "          const docLink = document.createElement('div');\n",
              "          docLink.innerHTML = docLinkHtml;\n",
              "          element.appendChild(docLink);\n",
              "        }\n",
              "      </script>\n",
              "    </div>\n",
              "  </div>\n",
              "  "
            ]
          },
          "metadata": {},
          "execution_count": 15
        }
      ]
    },
    {
      "cell_type": "code",
      "source": [
        "df_geolocation.groupby(\"zip_code\").agg({\"geolocation_lat\":[\"mean\"],\"geolocation_lng\":[\"mean\"]})\n",
        "                                                           "
      ],
      "metadata": {
        "id": "U2mVsLLUE3OY",
        "colab": {
          "base_uri": "https://localhost:8080/",
          "height": 487
        },
        "outputId": "426bf726-c40d-4c89-95f3-758d056287a2"
      },
      "execution_count": null,
      "outputs": [
        {
          "output_type": "execute_result",
          "data": {
            "text/plain": [
              "         geolocation_lat geolocation_lng\n",
              "                    mean            mean\n",
              "zip_code                                \n",
              "1001          -23.550190      -46.634024\n",
              "1002          -23.548146      -46.634979\n",
              "1003          -23.548994      -46.635731\n",
              "1004          -23.549799      -46.634757\n",
              "1005          -23.549456      -46.636733\n",
              "...                  ...             ...\n",
              "99960         -27.953722      -52.025511\n",
              "99965         -28.183372      -52.039850\n",
              "99970         -28.343766      -51.874689\n",
              "99980         -28.389129      -51.843836\n",
              "99990         -28.329595      -51.769362\n",
              "\n",
              "[19015 rows x 2 columns]"
            ],
            "text/html": [
              "\n",
              "  <div id=\"df-d520a8a3-33a5-40a0-8b9d-636487a52107\">\n",
              "    <div class=\"colab-df-container\">\n",
              "      <div>\n",
              "<style scoped>\n",
              "    .dataframe tbody tr th:only-of-type {\n",
              "        vertical-align: middle;\n",
              "    }\n",
              "\n",
              "    .dataframe tbody tr th {\n",
              "        vertical-align: top;\n",
              "    }\n",
              "\n",
              "    .dataframe thead tr th {\n",
              "        text-align: left;\n",
              "    }\n",
              "\n",
              "    .dataframe thead tr:last-of-type th {\n",
              "        text-align: right;\n",
              "    }\n",
              "</style>\n",
              "<table border=\"1\" class=\"dataframe\">\n",
              "  <thead>\n",
              "    <tr>\n",
              "      <th></th>\n",
              "      <th>geolocation_lat</th>\n",
              "      <th>geolocation_lng</th>\n",
              "    </tr>\n",
              "    <tr>\n",
              "      <th></th>\n",
              "      <th>mean</th>\n",
              "      <th>mean</th>\n",
              "    </tr>\n",
              "    <tr>\n",
              "      <th>zip_code</th>\n",
              "      <th></th>\n",
              "      <th></th>\n",
              "    </tr>\n",
              "  </thead>\n",
              "  <tbody>\n",
              "    <tr>\n",
              "      <th>1001</th>\n",
              "      <td>-23.550190</td>\n",
              "      <td>-46.634024</td>\n",
              "    </tr>\n",
              "    <tr>\n",
              "      <th>1002</th>\n",
              "      <td>-23.548146</td>\n",
              "      <td>-46.634979</td>\n",
              "    </tr>\n",
              "    <tr>\n",
              "      <th>1003</th>\n",
              "      <td>-23.548994</td>\n",
              "      <td>-46.635731</td>\n",
              "    </tr>\n",
              "    <tr>\n",
              "      <th>1004</th>\n",
              "      <td>-23.549799</td>\n",
              "      <td>-46.634757</td>\n",
              "    </tr>\n",
              "    <tr>\n",
              "      <th>1005</th>\n",
              "      <td>-23.549456</td>\n",
              "      <td>-46.636733</td>\n",
              "    </tr>\n",
              "    <tr>\n",
              "      <th>...</th>\n",
              "      <td>...</td>\n",
              "      <td>...</td>\n",
              "    </tr>\n",
              "    <tr>\n",
              "      <th>99960</th>\n",
              "      <td>-27.953722</td>\n",
              "      <td>-52.025511</td>\n",
              "    </tr>\n",
              "    <tr>\n",
              "      <th>99965</th>\n",
              "      <td>-28.183372</td>\n",
              "      <td>-52.039850</td>\n",
              "    </tr>\n",
              "    <tr>\n",
              "      <th>99970</th>\n",
              "      <td>-28.343766</td>\n",
              "      <td>-51.874689</td>\n",
              "    </tr>\n",
              "    <tr>\n",
              "      <th>99980</th>\n",
              "      <td>-28.389129</td>\n",
              "      <td>-51.843836</td>\n",
              "    </tr>\n",
              "    <tr>\n",
              "      <th>99990</th>\n",
              "      <td>-28.329595</td>\n",
              "      <td>-51.769362</td>\n",
              "    </tr>\n",
              "  </tbody>\n",
              "</table>\n",
              "<p>19015 rows × 2 columns</p>\n",
              "</div>\n",
              "      <button class=\"colab-df-convert\" onclick=\"convertToInteractive('df-d520a8a3-33a5-40a0-8b9d-636487a52107')\"\n",
              "              title=\"Convert this dataframe to an interactive table.\"\n",
              "              style=\"display:none;\">\n",
              "        \n",
              "  <svg xmlns=\"http://www.w3.org/2000/svg\" height=\"24px\"viewBox=\"0 0 24 24\"\n",
              "       width=\"24px\">\n",
              "    <path d=\"M0 0h24v24H0V0z\" fill=\"none\"/>\n",
              "    <path d=\"M18.56 5.44l.94 2.06.94-2.06 2.06-.94-2.06-.94-.94-2.06-.94 2.06-2.06.94zm-11 1L8.5 8.5l.94-2.06 2.06-.94-2.06-.94L8.5 2.5l-.94 2.06-2.06.94zm10 10l.94 2.06.94-2.06 2.06-.94-2.06-.94-.94-2.06-.94 2.06-2.06.94z\"/><path d=\"M17.41 7.96l-1.37-1.37c-.4-.4-.92-.59-1.43-.59-.52 0-1.04.2-1.43.59L10.3 9.45l-7.72 7.72c-.78.78-.78 2.05 0 2.83L4 21.41c.39.39.9.59 1.41.59.51 0 1.02-.2 1.41-.59l7.78-7.78 2.81-2.81c.8-.78.8-2.07 0-2.86zM5.41 20L4 18.59l7.72-7.72 1.47 1.35L5.41 20z\"/>\n",
              "  </svg>\n",
              "      </button>\n",
              "      \n",
              "  <style>\n",
              "    .colab-df-container {\n",
              "      display:flex;\n",
              "      flex-wrap:wrap;\n",
              "      gap: 12px;\n",
              "    }\n",
              "\n",
              "    .colab-df-convert {\n",
              "      background-color: #E8F0FE;\n",
              "      border: none;\n",
              "      border-radius: 50%;\n",
              "      cursor: pointer;\n",
              "      display: none;\n",
              "      fill: #1967D2;\n",
              "      height: 32px;\n",
              "      padding: 0 0 0 0;\n",
              "      width: 32px;\n",
              "    }\n",
              "\n",
              "    .colab-df-convert:hover {\n",
              "      background-color: #E2EBFA;\n",
              "      box-shadow: 0px 1px 2px rgba(60, 64, 67, 0.3), 0px 1px 3px 1px rgba(60, 64, 67, 0.15);\n",
              "      fill: #174EA6;\n",
              "    }\n",
              "\n",
              "    [theme=dark] .colab-df-convert {\n",
              "      background-color: #3B4455;\n",
              "      fill: #D2E3FC;\n",
              "    }\n",
              "\n",
              "    [theme=dark] .colab-df-convert:hover {\n",
              "      background-color: #434B5C;\n",
              "      box-shadow: 0px 1px 3px 1px rgba(0, 0, 0, 0.15);\n",
              "      filter: drop-shadow(0px 1px 2px rgba(0, 0, 0, 0.3));\n",
              "      fill: #FFFFFF;\n",
              "    }\n",
              "  </style>\n",
              "\n",
              "      <script>\n",
              "        const buttonEl =\n",
              "          document.querySelector('#df-d520a8a3-33a5-40a0-8b9d-636487a52107 button.colab-df-convert');\n",
              "        buttonEl.style.display =\n",
              "          google.colab.kernel.accessAllowed ? 'block' : 'none';\n",
              "\n",
              "        async function convertToInteractive(key) {\n",
              "          const element = document.querySelector('#df-d520a8a3-33a5-40a0-8b9d-636487a52107');\n",
              "          const dataTable =\n",
              "            await google.colab.kernel.invokeFunction('convertToInteractive',\n",
              "                                                     [key], {});\n",
              "          if (!dataTable) return;\n",
              "\n",
              "          const docLinkHtml = 'Like what you see? Visit the ' +\n",
              "            '<a target=\"_blank\" href=https://colab.research.google.com/notebooks/data_table.ipynb>data table notebook</a>'\n",
              "            + ' to learn more about interactive tables.';\n",
              "          element.innerHTML = '';\n",
              "          dataTable['output_type'] = 'display_data';\n",
              "          await google.colab.output.renderOutput(dataTable, element);\n",
              "          const docLink = document.createElement('div');\n",
              "          docLink.innerHTML = docLinkHtml;\n",
              "          element.appendChild(docLink);\n",
              "        }\n",
              "      </script>\n",
              "    </div>\n",
              "  </div>\n",
              "  "
            ]
          },
          "metadata": {},
          "execution_count": 16
        }
      ]
    },
    {
      "cell_type": "code",
      "source": [
        "df_geolocation = df_geolocation.groupby(\"zip_code\").agg({\"geolocation_lat\":[\"mean\"],\"geolocation_lng\":[\"mean\"]}).drop_duplicates()\n",
        "                                                          "
      ],
      "metadata": {
        "id": "4ArN3Z9vHpTB"
      },
      "execution_count": 9,
      "outputs": []
    },
    {
      "cell_type": "code",
      "source": [
        "print(df_geolocation.duplicated(keep=False).sum())"
      ],
      "metadata": {
        "colab": {
          "base_uri": "https://localhost:8080/"
        },
        "id": "_chRB412XLp1",
        "outputId": "5110d69b-274f-4738-db99-de1a8e4362c9"
      },
      "execution_count": 10,
      "outputs": [
        {
          "output_type": "stream",
          "name": "stdout",
          "text": [
            "0\n"
          ]
        }
      ]
    },
    {
      "cell_type": "markdown",
      "source": [
        "12 - Crie um método para agregar todas as tabelas disponíveis em uma única tabela"
      ],
      "metadata": {
        "id": "f1e99XrPRNfN"
      }
    },
    {
      "cell_type": "code",
      "source": [
        "df_customers.rename(columns={\"customer_zip_code_prefix\": \"zip_code\"}, inplace=True)\n"
      ],
      "metadata": {
        "id": "V53GjzxrMEB4"
      },
      "execution_count": 11,
      "outputs": []
    },
    {
      "cell_type": "code",
      "source": [
        "olist = df_orders.merge(df_customers, on=\"customer_id\").merge(df_geolocation, on=\"zip_code\").merge(df_order_items, on=\"order_id\").merge(df_products, on=\"product_id\").merge\\\n",
        "      (df_order_payments, on=\"order_id\").merge(df_sellers, on=\"seller_id\").merge(df_order_reviews, on=\"order_id\")\n",
        "      \n",
        "      "
      ],
      "metadata": {
        "id": "1owa-eacN4sb",
        "colab": {
          "base_uri": "https://localhost:8080/"
        },
        "outputId": "6386b609-c6d8-4498-fc62-96a7d2ae9f08"
      },
      "execution_count": 12,
      "outputs": [
        {
          "output_type": "stream",
          "name": "stderr",
          "text": [
            "/usr/local/lib/python3.7/dist-packages/pandas/core/frame.py:9203: FutureWarning: merging between different levels is deprecated and will be removed in a future version. (1 levels on the left,2 on the right)\n",
            "  validate=validate,\n"
          ]
        }
      ]
    },
    {
      "cell_type": "code",
      "source": [
        "olist.head()"
      ],
      "metadata": {
        "colab": {
          "base_uri": "https://localhost:8080/",
          "height": 369
        },
        "id": "88jtafCHQQYl",
        "outputId": "8f6424d8-2f47-490b-cfbb-a8870a9cee09"
      },
      "execution_count": null,
      "outputs": [
        {
          "output_type": "execute_result",
          "data": {
            "text/plain": [
              "                           order_id                       customer_id  \\\n",
              "0  e481f51cbdc54678b7cc49136f2d6af7  9ef432eb6251297304e76186b10a928d   \n",
              "1  e481f51cbdc54678b7cc49136f2d6af7  9ef432eb6251297304e76186b10a928d   \n",
              "2  e481f51cbdc54678b7cc49136f2d6af7  9ef432eb6251297304e76186b10a928d   \n",
              "3  bfc39df4f36c3693ff3b63fcbea9e90a  53904ddbea91e1e92b2b3f1d09a7af86   \n",
              "4  128e10d95713541c87cd1a2e48201934  a20e8105f23924cd00833fd87daa0831   \n",
              "\n",
              "  order_status order_purchase_timestamp    order_approved_at  \\\n",
              "0    delivered      2017-10-02 10:56:33  2017-10-02 11:07:15   \n",
              "1    delivered      2017-10-02 10:56:33  2017-10-02 11:07:15   \n",
              "2    delivered      2017-10-02 10:56:33  2017-10-02 11:07:15   \n",
              "3    delivered      2017-10-23 23:26:46  2017-10-25 02:14:11   \n",
              "4    delivered      2017-08-15 18:29:31  2017-08-15 20:05:16   \n",
              "\n",
              "  order_delivered_carrier_date order_delivered_customer_date  \\\n",
              "0          2017-10-04 19:55:00           2017-10-10 21:25:13   \n",
              "1          2017-10-04 19:55:00           2017-10-10 21:25:13   \n",
              "2          2017-10-04 19:55:00           2017-10-10 21:25:13   \n",
              "3          2017-10-27 16:48:46           2017-11-07 18:04:59   \n",
              "4          2017-08-17 15:28:33           2017-08-18 14:44:43   \n",
              "\n",
              "  order_estimated_delivery_date                customer_unique_id  zip_code  \\\n",
              "0           2017-10-18 00:00:00  7c396fd4830fd04220f754e42b4e5bff      3149   \n",
              "1           2017-10-18 00:00:00  7c396fd4830fd04220f754e42b4e5bff      3149   \n",
              "2           2017-10-18 00:00:00  7c396fd4830fd04220f754e42b4e5bff      3149   \n",
              "3           2017-11-13 00:00:00  e781fdcc107d13d865fc7698711cc572     88032   \n",
              "4           2017-08-28 00:00:00  3a51803cc0d012c3b5dc8b7528cb05f7      3366   \n",
              "\n",
              "   ... payment_value seller_zip_code_prefix  seller_city  seller_state  \\\n",
              "0  ...         18.12                   9350         maua            SP   \n",
              "1  ...          2.00                   9350         maua            SP   \n",
              "2  ...         18.59                   9350         maua            SP   \n",
              "3  ...         44.09                   9350         maua            SP   \n",
              "4  ...         37.77                   9350         maua            SP   \n",
              "\n",
              "                          review_id review_score review_comment_title  \\\n",
              "0  a54f0611adc9ed256b57ede6b6eb5114            4                  NaN   \n",
              "1  a54f0611adc9ed256b57ede6b6eb5114            4                  NaN   \n",
              "2  a54f0611adc9ed256b57ede6b6eb5114            4                  NaN   \n",
              "3  1bafb430e498b939f258b9c9dbdff9b1            3                  NaN   \n",
              "4  b46f1e34512b0f4c74a72398b03ca788            4                  NaN   \n",
              "\n",
              "                              review_comment_message  review_creation_date  \\\n",
              "0  Não testei o produto ainda, mas ele veio corre...   2017-10-11 00:00:00   \n",
              "1  Não testei o produto ainda, mas ele veio corre...   2017-10-11 00:00:00   \n",
              "2  Não testei o produto ainda, mas ele veio corre...   2017-10-11 00:00:00   \n",
              "3                                                NaN   2017-11-08 00:00:00   \n",
              "4  Deveriam embalar melhor o produto. A caixa vei...   2017-08-19 00:00:00   \n",
              "\n",
              "   review_answer_timestamp  \n",
              "0      2017-10-12 03:43:48  \n",
              "1      2017-10-12 03:43:48  \n",
              "2      2017-10-12 03:43:48  \n",
              "3      2017-11-10 19:52:38  \n",
              "4      2017-08-20 15:16:36  \n",
              "\n",
              "[5 rows x 41 columns]"
            ],
            "text/html": [
              "\n",
              "  <div id=\"df-6867c82a-4bab-45f2-b646-9a8d551731bd\">\n",
              "    <div class=\"colab-df-container\">\n",
              "      <div>\n",
              "<style scoped>\n",
              "    .dataframe tbody tr th:only-of-type {\n",
              "        vertical-align: middle;\n",
              "    }\n",
              "\n",
              "    .dataframe tbody tr th {\n",
              "        vertical-align: top;\n",
              "    }\n",
              "\n",
              "    .dataframe thead th {\n",
              "        text-align: right;\n",
              "    }\n",
              "</style>\n",
              "<table border=\"1\" class=\"dataframe\">\n",
              "  <thead>\n",
              "    <tr style=\"text-align: right;\">\n",
              "      <th></th>\n",
              "      <th>order_id</th>\n",
              "      <th>customer_id</th>\n",
              "      <th>order_status</th>\n",
              "      <th>order_purchase_timestamp</th>\n",
              "      <th>order_approved_at</th>\n",
              "      <th>order_delivered_carrier_date</th>\n",
              "      <th>order_delivered_customer_date</th>\n",
              "      <th>order_estimated_delivery_date</th>\n",
              "      <th>customer_unique_id</th>\n",
              "      <th>zip_code</th>\n",
              "      <th>...</th>\n",
              "      <th>payment_value</th>\n",
              "      <th>seller_zip_code_prefix</th>\n",
              "      <th>seller_city</th>\n",
              "      <th>seller_state</th>\n",
              "      <th>review_id</th>\n",
              "      <th>review_score</th>\n",
              "      <th>review_comment_title</th>\n",
              "      <th>review_comment_message</th>\n",
              "      <th>review_creation_date</th>\n",
              "      <th>review_answer_timestamp</th>\n",
              "    </tr>\n",
              "  </thead>\n",
              "  <tbody>\n",
              "    <tr>\n",
              "      <th>0</th>\n",
              "      <td>e481f51cbdc54678b7cc49136f2d6af7</td>\n",
              "      <td>9ef432eb6251297304e76186b10a928d</td>\n",
              "      <td>delivered</td>\n",
              "      <td>2017-10-02 10:56:33</td>\n",
              "      <td>2017-10-02 11:07:15</td>\n",
              "      <td>2017-10-04 19:55:00</td>\n",
              "      <td>2017-10-10 21:25:13</td>\n",
              "      <td>2017-10-18 00:00:00</td>\n",
              "      <td>7c396fd4830fd04220f754e42b4e5bff</td>\n",
              "      <td>3149</td>\n",
              "      <td>...</td>\n",
              "      <td>18.12</td>\n",
              "      <td>9350</td>\n",
              "      <td>maua</td>\n",
              "      <td>SP</td>\n",
              "      <td>a54f0611adc9ed256b57ede6b6eb5114</td>\n",
              "      <td>4</td>\n",
              "      <td>NaN</td>\n",
              "      <td>Não testei o produto ainda, mas ele veio corre...</td>\n",
              "      <td>2017-10-11 00:00:00</td>\n",
              "      <td>2017-10-12 03:43:48</td>\n",
              "    </tr>\n",
              "    <tr>\n",
              "      <th>1</th>\n",
              "      <td>e481f51cbdc54678b7cc49136f2d6af7</td>\n",
              "      <td>9ef432eb6251297304e76186b10a928d</td>\n",
              "      <td>delivered</td>\n",
              "      <td>2017-10-02 10:56:33</td>\n",
              "      <td>2017-10-02 11:07:15</td>\n",
              "      <td>2017-10-04 19:55:00</td>\n",
              "      <td>2017-10-10 21:25:13</td>\n",
              "      <td>2017-10-18 00:00:00</td>\n",
              "      <td>7c396fd4830fd04220f754e42b4e5bff</td>\n",
              "      <td>3149</td>\n",
              "      <td>...</td>\n",
              "      <td>2.00</td>\n",
              "      <td>9350</td>\n",
              "      <td>maua</td>\n",
              "      <td>SP</td>\n",
              "      <td>a54f0611adc9ed256b57ede6b6eb5114</td>\n",
              "      <td>4</td>\n",
              "      <td>NaN</td>\n",
              "      <td>Não testei o produto ainda, mas ele veio corre...</td>\n",
              "      <td>2017-10-11 00:00:00</td>\n",
              "      <td>2017-10-12 03:43:48</td>\n",
              "    </tr>\n",
              "    <tr>\n",
              "      <th>2</th>\n",
              "      <td>e481f51cbdc54678b7cc49136f2d6af7</td>\n",
              "      <td>9ef432eb6251297304e76186b10a928d</td>\n",
              "      <td>delivered</td>\n",
              "      <td>2017-10-02 10:56:33</td>\n",
              "      <td>2017-10-02 11:07:15</td>\n",
              "      <td>2017-10-04 19:55:00</td>\n",
              "      <td>2017-10-10 21:25:13</td>\n",
              "      <td>2017-10-18 00:00:00</td>\n",
              "      <td>7c396fd4830fd04220f754e42b4e5bff</td>\n",
              "      <td>3149</td>\n",
              "      <td>...</td>\n",
              "      <td>18.59</td>\n",
              "      <td>9350</td>\n",
              "      <td>maua</td>\n",
              "      <td>SP</td>\n",
              "      <td>a54f0611adc9ed256b57ede6b6eb5114</td>\n",
              "      <td>4</td>\n",
              "      <td>NaN</td>\n",
              "      <td>Não testei o produto ainda, mas ele veio corre...</td>\n",
              "      <td>2017-10-11 00:00:00</td>\n",
              "      <td>2017-10-12 03:43:48</td>\n",
              "    </tr>\n",
              "    <tr>\n",
              "      <th>3</th>\n",
              "      <td>bfc39df4f36c3693ff3b63fcbea9e90a</td>\n",
              "      <td>53904ddbea91e1e92b2b3f1d09a7af86</td>\n",
              "      <td>delivered</td>\n",
              "      <td>2017-10-23 23:26:46</td>\n",
              "      <td>2017-10-25 02:14:11</td>\n",
              "      <td>2017-10-27 16:48:46</td>\n",
              "      <td>2017-11-07 18:04:59</td>\n",
              "      <td>2017-11-13 00:00:00</td>\n",
              "      <td>e781fdcc107d13d865fc7698711cc572</td>\n",
              "      <td>88032</td>\n",
              "      <td>...</td>\n",
              "      <td>44.09</td>\n",
              "      <td>9350</td>\n",
              "      <td>maua</td>\n",
              "      <td>SP</td>\n",
              "      <td>1bafb430e498b939f258b9c9dbdff9b1</td>\n",
              "      <td>3</td>\n",
              "      <td>NaN</td>\n",
              "      <td>NaN</td>\n",
              "      <td>2017-11-08 00:00:00</td>\n",
              "      <td>2017-11-10 19:52:38</td>\n",
              "    </tr>\n",
              "    <tr>\n",
              "      <th>4</th>\n",
              "      <td>128e10d95713541c87cd1a2e48201934</td>\n",
              "      <td>a20e8105f23924cd00833fd87daa0831</td>\n",
              "      <td>delivered</td>\n",
              "      <td>2017-08-15 18:29:31</td>\n",
              "      <td>2017-08-15 20:05:16</td>\n",
              "      <td>2017-08-17 15:28:33</td>\n",
              "      <td>2017-08-18 14:44:43</td>\n",
              "      <td>2017-08-28 00:00:00</td>\n",
              "      <td>3a51803cc0d012c3b5dc8b7528cb05f7</td>\n",
              "      <td>3366</td>\n",
              "      <td>...</td>\n",
              "      <td>37.77</td>\n",
              "      <td>9350</td>\n",
              "      <td>maua</td>\n",
              "      <td>SP</td>\n",
              "      <td>b46f1e34512b0f4c74a72398b03ca788</td>\n",
              "      <td>4</td>\n",
              "      <td>NaN</td>\n",
              "      <td>Deveriam embalar melhor o produto. A caixa vei...</td>\n",
              "      <td>2017-08-19 00:00:00</td>\n",
              "      <td>2017-08-20 15:16:36</td>\n",
              "    </tr>\n",
              "  </tbody>\n",
              "</table>\n",
              "<p>5 rows × 41 columns</p>\n",
              "</div>\n",
              "      <button class=\"colab-df-convert\" onclick=\"convertToInteractive('df-6867c82a-4bab-45f2-b646-9a8d551731bd')\"\n",
              "              title=\"Convert this dataframe to an interactive table.\"\n",
              "              style=\"display:none;\">\n",
              "        \n",
              "  <svg xmlns=\"http://www.w3.org/2000/svg\" height=\"24px\"viewBox=\"0 0 24 24\"\n",
              "       width=\"24px\">\n",
              "    <path d=\"M0 0h24v24H0V0z\" fill=\"none\"/>\n",
              "    <path d=\"M18.56 5.44l.94 2.06.94-2.06 2.06-.94-2.06-.94-.94-2.06-.94 2.06-2.06.94zm-11 1L8.5 8.5l.94-2.06 2.06-.94-2.06-.94L8.5 2.5l-.94 2.06-2.06.94zm10 10l.94 2.06.94-2.06 2.06-.94-2.06-.94-.94-2.06-.94 2.06-2.06.94z\"/><path d=\"M17.41 7.96l-1.37-1.37c-.4-.4-.92-.59-1.43-.59-.52 0-1.04.2-1.43.59L10.3 9.45l-7.72 7.72c-.78.78-.78 2.05 0 2.83L4 21.41c.39.39.9.59 1.41.59.51 0 1.02-.2 1.41-.59l7.78-7.78 2.81-2.81c.8-.78.8-2.07 0-2.86zM5.41 20L4 18.59l7.72-7.72 1.47 1.35L5.41 20z\"/>\n",
              "  </svg>\n",
              "      </button>\n",
              "      \n",
              "  <style>\n",
              "    .colab-df-container {\n",
              "      display:flex;\n",
              "      flex-wrap:wrap;\n",
              "      gap: 12px;\n",
              "    }\n",
              "\n",
              "    .colab-df-convert {\n",
              "      background-color: #E8F0FE;\n",
              "      border: none;\n",
              "      border-radius: 50%;\n",
              "      cursor: pointer;\n",
              "      display: none;\n",
              "      fill: #1967D2;\n",
              "      height: 32px;\n",
              "      padding: 0 0 0 0;\n",
              "      width: 32px;\n",
              "    }\n",
              "\n",
              "    .colab-df-convert:hover {\n",
              "      background-color: #E2EBFA;\n",
              "      box-shadow: 0px 1px 2px rgba(60, 64, 67, 0.3), 0px 1px 3px 1px rgba(60, 64, 67, 0.15);\n",
              "      fill: #174EA6;\n",
              "    }\n",
              "\n",
              "    [theme=dark] .colab-df-convert {\n",
              "      background-color: #3B4455;\n",
              "      fill: #D2E3FC;\n",
              "    }\n",
              "\n",
              "    [theme=dark] .colab-df-convert:hover {\n",
              "      background-color: #434B5C;\n",
              "      box-shadow: 0px 1px 3px 1px rgba(0, 0, 0, 0.15);\n",
              "      filter: drop-shadow(0px 1px 2px rgba(0, 0, 0, 0.3));\n",
              "      fill: #FFFFFF;\n",
              "    }\n",
              "  </style>\n",
              "\n",
              "      <script>\n",
              "        const buttonEl =\n",
              "          document.querySelector('#df-6867c82a-4bab-45f2-b646-9a8d551731bd button.colab-df-convert');\n",
              "        buttonEl.style.display =\n",
              "          google.colab.kernel.accessAllowed ? 'block' : 'none';\n",
              "\n",
              "        async function convertToInteractive(key) {\n",
              "          const element = document.querySelector('#df-6867c82a-4bab-45f2-b646-9a8d551731bd');\n",
              "          const dataTable =\n",
              "            await google.colab.kernel.invokeFunction('convertToInteractive',\n",
              "                                                     [key], {});\n",
              "          if (!dataTable) return;\n",
              "\n",
              "          const docLinkHtml = 'Like what you see? Visit the ' +\n",
              "            '<a target=\"_blank\" href=https://colab.research.google.com/notebooks/data_table.ipynb>data table notebook</a>'\n",
              "            + ' to learn more about interactive tables.';\n",
              "          element.innerHTML = '';\n",
              "          dataTable['output_type'] = 'display_data';\n",
              "          await google.colab.output.renderOutput(dataTable, element);\n",
              "          const docLink = document.createElement('div');\n",
              "          docLink.innerHTML = docLinkHtml;\n",
              "          element.appendChild(docLink);\n",
              "        }\n",
              "      </script>\n",
              "    </div>\n",
              "  </div>\n",
              "  "
            ]
          },
          "metadata": {},
          "execution_count": 11
        }
      ]
    },
    {
      "cell_type": "markdown",
      "source": [
        "13 -  Quantas ordens distintas temos em nosso banco de dados?"
      ],
      "metadata": {
        "id": "84zMQoH0AEVL"
      }
    },
    {
      "cell_type": "code",
      "source": [
        "olist.order_id.nunique()"
      ],
      "metadata": {
        "colab": {
          "base_uri": "https://localhost:8080/"
        },
        "id": "hSZGiH2lAKEE",
        "outputId": "4a1c64d7-9db7-4ba2-a723-bc51c279b81a"
      },
      "execution_count": null,
      "outputs": [
        {
          "output_type": "execute_result",
          "data": {
            "text/plain": [
              "97642"
            ]
          },
          "metadata": {},
          "execution_count": 22
        }
      ]
    },
    {
      "cell_type": "markdown",
      "source": [
        "14 - Quantos clientes distintos existem em nosso banco de dados?"
      ],
      "metadata": {
        "id": "3uzgg_VvAq-H"
      }
    },
    {
      "cell_type": "code",
      "source": [
        "olist.customer_id.nunique()"
      ],
      "metadata": {
        "colab": {
          "base_uri": "https://localhost:8080/"
        },
        "id": "bI0Z7qXwAipL",
        "outputId": "6d0a819e-4b36-4df1-8395-0720d8c9318c"
      },
      "execution_count": null,
      "outputs": [
        {
          "output_type": "execute_result",
          "data": {
            "text/plain": [
              "97642"
            ]
          },
          "metadata": {},
          "execution_count": 23
        }
      ]
    },
    {
      "cell_type": "markdown",
      "source": [
        "15 - Quantos vendedores distintos existem em nosso bando de dados?"
      ],
      "metadata": {
        "id": "1_Y4EKtyBkiS"
      }
    },
    {
      "cell_type": "code",
      "source": [
        "olist.seller_id.nunique()"
      ],
      "metadata": {
        "colab": {
          "base_uri": "https://localhost:8080/"
        },
        "id": "4QuNYh7wBSWt",
        "outputId": "f509553b-7744-4fd1-9b5c-f0cb6076b45d"
      },
      "execution_count": null,
      "outputs": [
        {
          "output_type": "execute_result",
          "data": {
            "text/plain": [
              "3090"
            ]
          },
          "metadata": {},
          "execution_count": 24
        }
      ]
    },
    {
      "cell_type": "markdown",
      "source": [
        "16 - Qual a porcentagem de vendas feitas com cartão de crédito?"
      ],
      "metadata": {
        "id": "QLl0-FtgCAPP"
      }
    },
    {
      "cell_type": "code",
      "source": [
        "olist.payment_type.value_counts()"
      ],
      "metadata": {
        "outputId": "57022380-7f3b-4e39-d3b6-f1fa787b8839",
        "colab": {
          "base_uri": "https://localhost:8080/"
        },
        "id": "pjxXf6adFAEY"
      },
      "execution_count": null,
      "outputs": [
        {
          "output_type": "execute_result",
          "data": {
            "text/plain": [
              "credit_card    86281\n",
              "boleto         22770\n",
              "voucher         6267\n",
              "debit_card      1691\n",
              "Name: payment_type, dtype: int64"
            ]
          },
          "metadata": {},
          "execution_count": 25
        }
      ]
    },
    {
      "cell_type": "code",
      "source": [
        "olist.payment_type.value_counts().loc[\"credit_card\"]/olist.payment_type.value_counts().sum()"
      ],
      "metadata": {
        "colab": {
          "base_uri": "https://localhost:8080/"
        },
        "id": "esEotkceBxIk",
        "outputId": "a346d1e7-c4c5-4c6e-a953-d42d29027b20"
      },
      "execution_count": null,
      "outputs": [
        {
          "output_type": "execute_result",
          "data": {
            "text/plain": [
              "0.7373877223119589"
            ]
          },
          "metadata": {},
          "execution_count": 26
        }
      ]
    },
    {
      "cell_type": "markdown",
      "source": [
        "17 - Qual a porcentagem de vendas feitas com cartão de débito?"
      ],
      "metadata": {
        "id": "yNA3vb5CFK0b"
      }
    },
    {
      "cell_type": "code",
      "source": [
        "olist.payment_type.value_counts().loc[\"debit_card\"]/olist.payment_type.value_counts().sum()"
      ],
      "metadata": {
        "colab": {
          "base_uri": "https://localhost:8080/"
        },
        "id": "-8befdJwDkgr",
        "outputId": "0d801d57-307a-4054-f04b-4c59286d9b36"
      },
      "execution_count": 13,
      "outputs": [
        {
          "output_type": "execute_result",
          "data": {
            "text/plain": [
              "0.014451879769932228"
            ]
          },
          "metadata": {},
          "execution_count": 13
        }
      ]
    },
    {
      "cell_type": "markdown",
      "source": [
        "18 - Qual a porcentagem de reviews menor do que 2 estrelas temos em nossa base?"
      ],
      "metadata": {
        "id": "711qCkwNFXS0"
      }
    },
    {
      "cell_type": "code",
      "source": [
        "olist.review_score.value_counts()"
      ],
      "metadata": {
        "colab": {
          "base_uri": "https://localhost:8080/"
        },
        "id": "SJlKPKRPFU-8",
        "outputId": "367e7d9d-ff61-416f-8362-ad7c2e54e893"
      },
      "execution_count": 14,
      "outputs": [
        {
          "output_type": "execute_result",
          "data": {
            "text/plain": [
              "5    66085\n",
              "4    22224\n",
              "1    14809\n",
              "3     9818\n",
              "2     4073\n",
              "Name: review_score, dtype: int64"
            ]
          },
          "metadata": {},
          "execution_count": 14
        }
      ]
    },
    {
      "cell_type": "code",
      "source": [
        "olist.review_score.value_counts().loc[1]/olist.review_score.value_counts().sum()"
      ],
      "metadata": {
        "colab": {
          "base_uri": "https://localhost:8080/"
        },
        "id": "fhuutqSbFwkO",
        "outputId": "36b0c277-cf46-440d-90fb-e273c056254c"
      },
      "execution_count": null,
      "outputs": [
        {
          "output_type": "execute_result",
          "data": {
            "text/plain": [
              "0.1265629139638831"
            ]
          },
          "metadata": {},
          "execution_count": 29
        }
      ]
    },
    {
      "cell_type": "markdown",
      "source": [
        "19 - Quantas categorias de produto distintas existem em nossa base?"
      ],
      "metadata": {
        "id": "S1HZHuNzGfT9"
      }
    },
    {
      "cell_type": "code",
      "source": [
        "olist.product_category_name.nunique()"
      ],
      "metadata": {
        "colab": {
          "base_uri": "https://localhost:8080/"
        },
        "id": "U53Pg5XHF_HO",
        "outputId": "076c19ef-b96f-493d-efb7-babe60efaeb1"
      },
      "execution_count": null,
      "outputs": [
        {
          "output_type": "execute_result",
          "data": {
            "text/plain": [
              "73"
            ]
          },
          "metadata": {},
          "execution_count": 30
        }
      ]
    },
    {
      "cell_type": "markdown",
      "source": [
        "20 - Qual a média de scores por categoria de produto?"
      ],
      "metadata": {
        "id": "aBQ62rbPMDq-"
      }
    },
    {
      "cell_type": "code",
      "source": [
        "olist.groupby(\"product_category_name\").agg({\"review_score\":[\"mean\"]})"
      ],
      "metadata": {
        "colab": {
          "base_uri": "https://localhost:8080/",
          "height": 487
        },
        "id": "qqWuYXpNHMvc",
        "outputId": "b3e011a8-3179-4425-a623-b9aa6c528f79"
      },
      "execution_count": null,
      "outputs": [
        {
          "output_type": "execute_result",
          "data": {
            "text/plain": [
              "                          review_score\n",
              "                                  mean\n",
              "product_category_name                 \n",
              "agro_industria_e_comercio     4.150794\n",
              "alimentos                     4.228346\n",
              "alimentos_bebidas             4.324138\n",
              "artes                         3.935484\n",
              "artes_e_artesanato            4.125000\n",
              "...                                ...\n",
              "sinalizacao_e_seguranca       4.040816\n",
              "tablets_impressao_imagem      4.117647\n",
              "telefonia                     3.946108\n",
              "telefonia_fixa                3.671642\n",
              "utilidades_domesticas         4.060374\n",
              "\n",
              "[73 rows x 1 columns]"
            ],
            "text/html": [
              "\n",
              "  <div id=\"df-2e663348-001d-4cd4-a75b-3a52e5b62ed6\">\n",
              "    <div class=\"colab-df-container\">\n",
              "      <div>\n",
              "<style scoped>\n",
              "    .dataframe tbody tr th:only-of-type {\n",
              "        vertical-align: middle;\n",
              "    }\n",
              "\n",
              "    .dataframe tbody tr th {\n",
              "        vertical-align: top;\n",
              "    }\n",
              "\n",
              "    .dataframe thead tr th {\n",
              "        text-align: left;\n",
              "    }\n",
              "\n",
              "    .dataframe thead tr:last-of-type th {\n",
              "        text-align: right;\n",
              "    }\n",
              "</style>\n",
              "<table border=\"1\" class=\"dataframe\">\n",
              "  <thead>\n",
              "    <tr>\n",
              "      <th></th>\n",
              "      <th>review_score</th>\n",
              "    </tr>\n",
              "    <tr>\n",
              "      <th></th>\n",
              "      <th>mean</th>\n",
              "    </tr>\n",
              "    <tr>\n",
              "      <th>product_category_name</th>\n",
              "      <th></th>\n",
              "    </tr>\n",
              "  </thead>\n",
              "  <tbody>\n",
              "    <tr>\n",
              "      <th>agro_industria_e_comercio</th>\n",
              "      <td>4.150794</td>\n",
              "    </tr>\n",
              "    <tr>\n",
              "      <th>alimentos</th>\n",
              "      <td>4.228346</td>\n",
              "    </tr>\n",
              "    <tr>\n",
              "      <th>alimentos_bebidas</th>\n",
              "      <td>4.324138</td>\n",
              "    </tr>\n",
              "    <tr>\n",
              "      <th>artes</th>\n",
              "      <td>3.935484</td>\n",
              "    </tr>\n",
              "    <tr>\n",
              "      <th>artes_e_artesanato</th>\n",
              "      <td>4.125000</td>\n",
              "    </tr>\n",
              "    <tr>\n",
              "      <th>...</th>\n",
              "      <td>...</td>\n",
              "    </tr>\n",
              "    <tr>\n",
              "      <th>sinalizacao_e_seguranca</th>\n",
              "      <td>4.040816</td>\n",
              "    </tr>\n",
              "    <tr>\n",
              "      <th>tablets_impressao_imagem</th>\n",
              "      <td>4.117647</td>\n",
              "    </tr>\n",
              "    <tr>\n",
              "      <th>telefonia</th>\n",
              "      <td>3.946108</td>\n",
              "    </tr>\n",
              "    <tr>\n",
              "      <th>telefonia_fixa</th>\n",
              "      <td>3.671642</td>\n",
              "    </tr>\n",
              "    <tr>\n",
              "      <th>utilidades_domesticas</th>\n",
              "      <td>4.060374</td>\n",
              "    </tr>\n",
              "  </tbody>\n",
              "</table>\n",
              "<p>73 rows × 1 columns</p>\n",
              "</div>\n",
              "      <button class=\"colab-df-convert\" onclick=\"convertToInteractive('df-2e663348-001d-4cd4-a75b-3a52e5b62ed6')\"\n",
              "              title=\"Convert this dataframe to an interactive table.\"\n",
              "              style=\"display:none;\">\n",
              "        \n",
              "  <svg xmlns=\"http://www.w3.org/2000/svg\" height=\"24px\"viewBox=\"0 0 24 24\"\n",
              "       width=\"24px\">\n",
              "    <path d=\"M0 0h24v24H0V0z\" fill=\"none\"/>\n",
              "    <path d=\"M18.56 5.44l.94 2.06.94-2.06 2.06-.94-2.06-.94-.94-2.06-.94 2.06-2.06.94zm-11 1L8.5 8.5l.94-2.06 2.06-.94-2.06-.94L8.5 2.5l-.94 2.06-2.06.94zm10 10l.94 2.06.94-2.06 2.06-.94-2.06-.94-.94-2.06-.94 2.06-2.06.94z\"/><path d=\"M17.41 7.96l-1.37-1.37c-.4-.4-.92-.59-1.43-.59-.52 0-1.04.2-1.43.59L10.3 9.45l-7.72 7.72c-.78.78-.78 2.05 0 2.83L4 21.41c.39.39.9.59 1.41.59.51 0 1.02-.2 1.41-.59l7.78-7.78 2.81-2.81c.8-.78.8-2.07 0-2.86zM5.41 20L4 18.59l7.72-7.72 1.47 1.35L5.41 20z\"/>\n",
              "  </svg>\n",
              "      </button>\n",
              "      \n",
              "  <style>\n",
              "    .colab-df-container {\n",
              "      display:flex;\n",
              "      flex-wrap:wrap;\n",
              "      gap: 12px;\n",
              "    }\n",
              "\n",
              "    .colab-df-convert {\n",
              "      background-color: #E8F0FE;\n",
              "      border: none;\n",
              "      border-radius: 50%;\n",
              "      cursor: pointer;\n",
              "      display: none;\n",
              "      fill: #1967D2;\n",
              "      height: 32px;\n",
              "      padding: 0 0 0 0;\n",
              "      width: 32px;\n",
              "    }\n",
              "\n",
              "    .colab-df-convert:hover {\n",
              "      background-color: #E2EBFA;\n",
              "      box-shadow: 0px 1px 2px rgba(60, 64, 67, 0.3), 0px 1px 3px 1px rgba(60, 64, 67, 0.15);\n",
              "      fill: #174EA6;\n",
              "    }\n",
              "\n",
              "    [theme=dark] .colab-df-convert {\n",
              "      background-color: #3B4455;\n",
              "      fill: #D2E3FC;\n",
              "    }\n",
              "\n",
              "    [theme=dark] .colab-df-convert:hover {\n",
              "      background-color: #434B5C;\n",
              "      box-shadow: 0px 1px 3px 1px rgba(0, 0, 0, 0.15);\n",
              "      filter: drop-shadow(0px 1px 2px rgba(0, 0, 0, 0.3));\n",
              "      fill: #FFFFFF;\n",
              "    }\n",
              "  </style>\n",
              "\n",
              "      <script>\n",
              "        const buttonEl =\n",
              "          document.querySelector('#df-2e663348-001d-4cd4-a75b-3a52e5b62ed6 button.colab-df-convert');\n",
              "        buttonEl.style.display =\n",
              "          google.colab.kernel.accessAllowed ? 'block' : 'none';\n",
              "\n",
              "        async function convertToInteractive(key) {\n",
              "          const element = document.querySelector('#df-2e663348-001d-4cd4-a75b-3a52e5b62ed6');\n",
              "          const dataTable =\n",
              "            await google.colab.kernel.invokeFunction('convertToInteractive',\n",
              "                                                     [key], {});\n",
              "          if (!dataTable) return;\n",
              "\n",
              "          const docLinkHtml = 'Like what you see? Visit the ' +\n",
              "            '<a target=\"_blank\" href=https://colab.research.google.com/notebooks/data_table.ipynb>data table notebook</a>'\n",
              "            + ' to learn more about interactive tables.';\n",
              "          element.innerHTML = '';\n",
              "          dataTable['output_type'] = 'display_data';\n",
              "          await google.colab.output.renderOutput(dataTable, element);\n",
              "          const docLink = document.createElement('div');\n",
              "          docLink.innerHTML = docLinkHtml;\n",
              "          element.appendChild(docLink);\n",
              "        }\n",
              "      </script>\n",
              "    </div>\n",
              "  </div>\n",
              "  "
            ]
          },
          "metadata": {},
          "execution_count": 12
        }
      ]
    },
    {
      "cell_type": "markdown",
      "source": [
        "21 - Quais as 5 categorias que mais possuem produtos em nossa base?"
      ],
      "metadata": {
        "id": "tRr3afppNCTB"
      }
    },
    {
      "cell_type": "code",
      "source": [
        "olist.product_category_name.value_counts()"
      ],
      "metadata": {
        "colab": {
          "base_uri": "https://localhost:8080/"
        },
        "id": "L45eg-zRMpv1",
        "outputId": "be749755-13ac-4864-f426-e6a6636eca16"
      },
      "execution_count": 15,
      "outputs": [
        {
          "output_type": "execute_result",
          "data": {
            "text/plain": [
              "cama_mesa_banho                                  11819\n",
              "beleza_saude                                      9914\n",
              "esporte_lazer                                     8925\n",
              "moveis_decoracao                                  8725\n",
              "informatica_acessorios                            8071\n",
              "                                                 ...  \n",
              "portateis_cozinha_e_preparadores_de_alimentos       15\n",
              "cds_dvds_musicais                                   14\n",
              "pc_gamer                                            10\n",
              "fashion_roupa_infanto_juvenil                        8\n",
              "seguros_e_servicos                                   2\n",
              "Name: product_category_name, Length: 73, dtype: int64"
            ]
          },
          "metadata": {},
          "execution_count": 15
        }
      ]
    },
    {
      "cell_type": "markdown",
      "source": [
        "22 - Quantos comentários existem na base?"
      ],
      "metadata": {
        "id": "bx8DzZdONaNu"
      }
    },
    {
      "cell_type": "code",
      "source": [
        "olist.review_comment_message.count()"
      ],
      "metadata": {
        "colab": {
          "base_uri": "https://localhost:8080/"
        },
        "id": "1K-UIrgRNSaV",
        "outputId": "72fcc6e4-c470-41ac-c75a-ea809bbfb9ea"
      },
      "execution_count": 16,
      "outputs": [
        {
          "output_type": "execute_result",
          "data": {
            "text/plain": [
              "49549"
            ]
          },
          "metadata": {},
          "execution_count": 16
        }
      ]
    },
    {
      "cell_type": "code",
      "source": [
        "olist.review_comment_message.isna().sum()"
      ],
      "metadata": {
        "colab": {
          "base_uri": "https://localhost:8080/"
        },
        "id": "Itg9Y-PiNupF",
        "outputId": "63619ae8-32e8-4946-d579-918af56bbadd"
      },
      "execution_count": 17,
      "outputs": [
        {
          "output_type": "execute_result",
          "data": {
            "text/plain": [
              "67460"
            ]
          },
          "metadata": {},
          "execution_count": 17
        }
      ]
    },
    {
      "cell_type": "code",
      "source": [
        "olist.shape[0]"
      ],
      "metadata": {
        "colab": {
          "base_uri": "https://localhost:8080/"
        },
        "id": "BgpsEqYrPHBN",
        "outputId": "3ab2a13c-12f8-4a88-d9ac-8071a55b3df4"
      },
      "execution_count": 18,
      "outputs": [
        {
          "output_type": "execute_result",
          "data": {
            "text/plain": [
              "117009"
            ]
          },
          "metadata": {},
          "execution_count": 18
        }
      ]
    },
    {
      "cell_type": "markdown",
      "source": [
        "23 - Crie uma nuvem de palavras que mostre as principais informações contidas nos comentários."
      ],
      "metadata": {
        "id": "NvrFuSeIPh_j"
      }
    },
    {
      "cell_type": "code",
      "source": [
        "to_cloud = olist.copy()\n"
      ],
      "metadata": {
        "id": "R5Mx3KmHPRJV"
      },
      "execution_count": 19,
      "outputs": []
    },
    {
      "cell_type": "code",
      "source": [
        "to_cloud['review_comment_message'] = to_cloud['review_comment_message'].astype(str)\n",
        "to_cloud = to_cloud.dropna(subset=['review_comment_message'])\n",
        "to_cloud = to_cloud[to_cloud['review_comment_message'] != 'nan']"
      ],
      "metadata": {
        "id": "sNJanK3aWzu-"
      },
      "execution_count": 20,
      "outputs": []
    },
    {
      "cell_type": "code",
      "source": [
        "text = \" \".join(to_cloud['review_comment_message'])\n",
        "stopwords = set(STOPWORDS)\n",
        "wordcloud = WordCloud(stopwords=stopwords, background_color=\"white\").generate(text)\n",
        "plt.figure( figsize=(15,10))\n",
        "plt.imshow(wordcloud, interpolation='bilinear')\n",
        "plt.axis(\"off\")\n",
        "plt.show()"
      ],
      "metadata": {
        "id": "UxTKjb-MXUY3",
        "colab": {
          "base_uri": "https://localhost:8080/",
          "height": 449
        },
        "outputId": "55294207-ef9a-491b-8589-21aa4944bd4a"
      },
      "execution_count": 21,
      "outputs": [
        {
          "output_type": "display_data",
          "data": {
            "text/plain": [
              "<Figure size 1080x720 with 1 Axes>"
            ],
            "image/png": "[encoded data removed]"
          },
          "metadata": {
            "needs_background": "light"
          }
        }
      ]
    },
    {
      "cell_type": "markdown",
      "source": [
        "24 - Qual a porcentagem de ordens entregues?"
      ],
      "metadata": {
        "id": "nJRLsFDEoRuy"
      }
    },
    {
      "cell_type": "code",
      "source": [
        "olist.order_status.value_counts()"
      ],
      "metadata": {
        "colab": {
          "base_uri": "https://localhost:8080/"
        },
        "id": "l9huacu7oV5A",
        "outputId": "71f78b3d-341e-4e03-a924-d36a73c4af4a"
      },
      "execution_count": 22,
      "outputs": [
        {
          "output_type": "execute_result",
          "data": {
            "text/plain": [
              "delivered      114553\n",
              "shipped          1160\n",
              "canceled          548\n",
              "invoiced          369\n",
              "processing        369\n",
              "unavailable         7\n",
              "approved            3\n",
              "Name: order_status, dtype: int64"
            ]
          },
          "metadata": {},
          "execution_count": 22
        }
      ]
    },
    {
      "cell_type": "code",
      "source": [
        "olist.order_status.value_counts().loc[\"delivered\"]/olist.order_status.value_counts().sum()"
      ],
      "metadata": {
        "colab": {
          "base_uri": "https://localhost:8080/"
        },
        "id": "CwAMRwsNo59q",
        "outputId": "7a354733-29af-45bc-e19e-5c5daaac8d75"
      },
      "execution_count": null,
      "outputs": [
        {
          "output_type": "execute_result",
          "data": {
            "text/plain": [
              "0.9790101616115"
            ]
          },
          "metadata": {},
          "execution_count": 17
        }
      ]
    },
    {
      "cell_type": "markdown",
      "source": [
        "25 - Qual o tempo médio entre a compra e a aprovação da compra?"
      ],
      "metadata": {
        "id": "RKn-E6fh-Lk8"
      }
    },
    {
      "cell_type": "code",
      "source": [
        "olist.info()\n"
      ],
      "metadata": {
        "colab": {
          "base_uri": "https://localhost:8080/"
        },
        "id": "X5_pheVX7dj-",
        "outputId": "6a2ce53d-aee3-44e3-f931-ba51828ac30b"
      },
      "execution_count": null,
      "outputs": [
        {
          "output_type": "stream",
          "name": "stdout",
          "text": [
            "<class 'pandas.core.frame.DataFrame'>\n",
            "Int64Index: 117009 entries, 0 to 117008\n",
            "Data columns (total 41 columns):\n",
            " #   Column                         Non-Null Count   Dtype  \n",
            "---  ------                         --------------   -----  \n",
            " 0   order_id                       117009 non-null  object \n",
            " 1   customer_id                    117009 non-null  object \n",
            " 2   order_status                   117009 non-null  object \n",
            " 3   order_purchase_timestamp       117009 non-null  object \n",
            " 4   order_approved_at              116994 non-null  object \n",
            " 5   order_delivered_carrier_date   115781 non-null  object \n",
            " 6   order_delivered_customer_date  114552 non-null  object \n",
            " 7   order_estimated_delivery_date  117009 non-null  object \n",
            " 8   customer_unique_id             117009 non-null  object \n",
            " 9   zip_code                       117009 non-null  int64  \n",
            " 10  customer_city                  117009 non-null  object \n",
            " 11  customer_state                 117009 non-null  object \n",
            " 12  (geolocation_lat, mean)        117009 non-null  float64\n",
            " 13  (geolocation_lng, mean)        117009 non-null  float64\n",
            " 14  order_item_id                  117009 non-null  int64  \n",
            " 15  product_id                     117009 non-null  object \n",
            " 16  seller_id                      117009 non-null  object \n",
            " 17  shipping_limit_date            117009 non-null  object \n",
            " 18  price                          117009 non-null  float64\n",
            " 19  freight_value                  117009 non-null  float64\n",
            " 20  product_category_name          115320 non-null  object \n",
            " 21  product_name_lenght            115320 non-null  float64\n",
            " 22  product_description_lenght     115320 non-null  float64\n",
            " 23  product_photos_qty             115320 non-null  float64\n",
            " 24  product_weight_g               116989 non-null  float64\n",
            " 25  product_length_cm              116989 non-null  float64\n",
            " 26  product_height_cm              116989 non-null  float64\n",
            " 27  product_width_cm               116989 non-null  float64\n",
            " 28  payment_sequential             117009 non-null  int64  \n",
            " 29  payment_type                   117009 non-null  object \n",
            " 30  payment_installments           117009 non-null  int64  \n",
            " 31  payment_value                  117009 non-null  float64\n",
            " 32  seller_zip_code_prefix         117009 non-null  int64  \n",
            " 33  seller_city                    117009 non-null  object \n",
            " 34  seller_state                   117009 non-null  object \n",
            " 35  review_id                      117009 non-null  object \n",
            " 36  review_score                   117009 non-null  int64  \n",
            " 37  review_comment_title           13847 non-null   object \n",
            " 38  review_comment_message         49549 non-null   object \n",
            " 39  review_creation_date           117009 non-null  object \n",
            " 40  review_answer_timestamp        117009 non-null  object \n",
            "dtypes: float64(12), int64(6), object(23)\n",
            "memory usage: 37.5+ MB\n"
          ]
        }
      ]
    },
    {
      "cell_type": "code",
      "source": [
        "cols = olist.columns[3:8]"
      ],
      "metadata": {
        "id": "p55aqjDs-SZE"
      },
      "execution_count": 23,
      "outputs": []
    },
    {
      "cell_type": "code",
      "source": [
        "cols"
      ],
      "metadata": {
        "colab": {
          "base_uri": "https://localhost:8080/"
        },
        "id": "IyNwI0tM-uh0",
        "outputId": "5e5842b0-ea45-4e44-a5cc-2470c801237c"
      },
      "execution_count": 24,
      "outputs": [
        {
          "output_type": "execute_result",
          "data": {
            "text/plain": [
              "Index(['order_purchase_timestamp', 'order_approved_at',\n",
              "       'order_delivered_carrier_date', 'order_delivered_customer_date',\n",
              "       'order_estimated_delivery_date'],\n",
              "      dtype='object')"
            ]
          },
          "metadata": {},
          "execution_count": 24
        }
      ]
    },
    {
      "cell_type": "code",
      "source": [
        "olist[cols] = olist[cols].apply(pd.to_datetime, format='%Y-%m-%d %H:%M:%S', errors = \"coerce\")"
      ],
      "metadata": {
        "id": "sZD66ag3-vtE"
      },
      "execution_count": 25,
      "outputs": []
    },
    {
      "cell_type": "code",
      "source": [
        "olist.info()"
      ],
      "metadata": {
        "colab": {
          "base_uri": "https://localhost:8080/"
        },
        "id": "NzGEliKgAvKQ",
        "outputId": "570b5c6e-933c-4bef-e574-65c0e23722b5"
      },
      "execution_count": 26,
      "outputs": [
        {
          "output_type": "stream",
          "name": "stdout",
          "text": [
            "<class 'pandas.core.frame.DataFrame'>\n",
            "Int64Index: 117009 entries, 0 to 117008\n",
            "Data columns (total 41 columns):\n",
            " #   Column                         Non-Null Count   Dtype         \n",
            "---  ------                         --------------   -----         \n",
            " 0   order_id                       117009 non-null  object        \n",
            " 1   customer_id                    117009 non-null  object        \n",
            " 2   order_status                   117009 non-null  object        \n",
            " 3   order_purchase_timestamp       117009 non-null  datetime64[ns]\n",
            " 4   order_approved_at              116994 non-null  datetime64[ns]\n",
            " 5   order_delivered_carrier_date   115781 non-null  datetime64[ns]\n",
            " 6   order_delivered_customer_date  114552 non-null  datetime64[ns]\n",
            " 7   order_estimated_delivery_date  117009 non-null  datetime64[ns]\n",
            " 8   customer_unique_id             117009 non-null  object        \n",
            " 9   zip_code                       117009 non-null  int64         \n",
            " 10  customer_city                  117009 non-null  object        \n",
            " 11  customer_state                 117009 non-null  object        \n",
            " 12  (geolocation_lat, mean)        117009 non-null  float64       \n",
            " 13  (geolocation_lng, mean)        117009 non-null  float64       \n",
            " 14  order_item_id                  117009 non-null  int64         \n",
            " 15  product_id                     117009 non-null  object        \n",
            " 16  seller_id                      117009 non-null  object        \n",
            " 17  shipping_limit_date            117009 non-null  object        \n",
            " 18  price                          117009 non-null  float64       \n",
            " 19  freight_value                  117009 non-null  float64       \n",
            " 20  product_category_name          115320 non-null  object        \n",
            " 21  product_name_lenght            115320 non-null  float64       \n",
            " 22  product_description_lenght     115320 non-null  float64       \n",
            " 23  product_photos_qty             115320 non-null  float64       \n",
            " 24  product_weight_g               116989 non-null  float64       \n",
            " 25  product_length_cm              116989 non-null  float64       \n",
            " 26  product_height_cm              116989 non-null  float64       \n",
            " 27  product_width_cm               116989 non-null  float64       \n",
            " 28  payment_sequential             117009 non-null  int64         \n",
            " 29  payment_type                   117009 non-null  object        \n",
            " 30  payment_installments           117009 non-null  int64         \n",
            " 31  payment_value                  117009 non-null  float64       \n",
            " 32  seller_zip_code_prefix         117009 non-null  int64         \n",
            " 33  seller_city                    117009 non-null  object        \n",
            " 34  seller_state                   117009 non-null  object        \n",
            " 35  review_id                      117009 non-null  object        \n",
            " 36  review_score                   117009 non-null  int64         \n",
            " 37  review_comment_title           13847 non-null   object        \n",
            " 38  review_comment_message         49549 non-null   object        \n",
            " 39  review_creation_date           117009 non-null  object        \n",
            " 40  review_answer_timestamp        117009 non-null  object        \n",
            "dtypes: datetime64[ns](5), float64(12), int64(6), object(18)\n",
            "memory usage: 37.5+ MB\n"
          ]
        }
      ]
    },
    {
      "cell_type": "code",
      "source": [
        "(olist.isna().sum() / len(olist) ).sort_values(ascending=False)"
      ],
      "metadata": {
        "colab": {
          "base_uri": "https://localhost:8080/"
        },
        "id": "oWArkCUwcw49",
        "outputId": "f124cae4-e6c0-48ea-cc33-3292d40a9b33"
      },
      "execution_count": 27,
      "outputs": [
        {
          "output_type": "execute_result",
          "data": {
            "text/plain": [
              "review_comment_title             0.881659\n",
              "review_comment_message           0.576537\n",
              "order_delivered_customer_date    0.020998\n",
              "product_category_name            0.014435\n",
              "product_name_lenght              0.014435\n",
              "product_photos_qty               0.014435\n",
              "product_description_lenght       0.014435\n",
              "order_delivered_carrier_date     0.010495\n",
              "product_width_cm                 0.000171\n",
              "product_height_cm                0.000171\n",
              "product_length_cm                0.000171\n",
              "product_weight_g                 0.000171\n",
              "order_approved_at                0.000128\n",
              "review_score                     0.000000\n",
              "review_id                        0.000000\n",
              "seller_state                     0.000000\n",
              "seller_zip_code_prefix           0.000000\n",
              "payment_value                    0.000000\n",
              "payment_installments             0.000000\n",
              "payment_type                     0.000000\n",
              "payment_sequential               0.000000\n",
              "review_creation_date             0.000000\n",
              "seller_city                      0.000000\n",
              "order_id                         0.000000\n",
              "customer_id                      0.000000\n",
              "customer_state                   0.000000\n",
              "order_status                     0.000000\n",
              "order_purchase_timestamp         0.000000\n",
              "order_estimated_delivery_date    0.000000\n",
              "customer_unique_id               0.000000\n",
              "zip_code                         0.000000\n",
              "customer_city                    0.000000\n",
              "(geolocation_lat, mean)          0.000000\n",
              "freight_value                    0.000000\n",
              "(geolocation_lng, mean)          0.000000\n",
              "order_item_id                    0.000000\n",
              "product_id                       0.000000\n",
              "seller_id                        0.000000\n",
              "shipping_limit_date              0.000000\n",
              "price                            0.000000\n",
              "review_answer_timestamp          0.000000\n",
              "dtype: float64"
            ]
          },
          "metadata": {},
          "execution_count": 27
        }
      ]
    },
    {
      "cell_type": "code",
      "source": [
        "olist[\"delta_approval\"] = olist.order_approved_at - olist.order_purchase_timestamp"
      ],
      "metadata": {
        "id": "kXbLWbljA-mE"
      },
      "execution_count": 28,
      "outputs": []
    },
    {
      "cell_type": "code",
      "source": [
        "olist.delta_approval.mean()"
      ],
      "metadata": {
        "colab": {
          "base_uri": "https://localhost:8080/"
        },
        "id": "I50RL8vwBXxO",
        "outputId": "bba88c19-3364-40dd-f6f0-bc2e09dde3c0"
      },
      "execution_count": 29,
      "outputs": [
        {
          "output_type": "execute_result",
          "data": {
            "text/plain": [
              "Timedelta('0 days 10:29:48.026881720')"
            ]
          },
          "metadata": {},
          "execution_count": 29
        }
      ]
    },
    {
      "cell_type": "code",
      "source": [
        "olist.delta_approval.describe()"
      ],
      "metadata": {
        "colab": {
          "base_uri": "https://localhost:8080/"
        },
        "id": "OM3tXEhrBd-7",
        "outputId": "76194a45-4c82-41f5-d4c7-a10203b8746f"
      },
      "execution_count": 30,
      "outputs": [
        {
          "output_type": "execute_result",
          "data": {
            "text/plain": [
              "count                       116994\n",
              "mean     0 days 10:29:48.026881720\n",
              "std      0 days 22:13:52.682657296\n",
              "min                0 days 00:00:00\n",
              "25%                0 days 00:12:56\n",
              "50%                0 days 00:20:48\n",
              "75%         0 days 14:59:16.500000\n",
              "max               60 days 10:51:59\n",
              "Name: delta_approval, dtype: object"
            ]
          },
          "metadata": {},
          "execution_count": 30
        }
      ]
    },
    {
      "cell_type": "markdown",
      "source": [
        "26 - Qual o tempo médio entre a compra e a entrega?"
      ],
      "metadata": {
        "id": "iE2kJ__lCWln"
      }
    },
    {
      "cell_type": "code",
      "source": [
        "olist[\"delta_delivery\"] = olist.order_delivered_customer_date - olist.order_purchase_timestamp"
      ],
      "metadata": {
        "id": "cH9oOdxKBtgF"
      },
      "execution_count": 31,
      "outputs": []
    },
    {
      "cell_type": "code",
      "source": [
        "olist.delta_delivery.mean()"
      ],
      "metadata": {
        "colab": {
          "base_uri": "https://localhost:8080/"
        },
        "id": "eeOnCnucDGZN",
        "outputId": "db252a12-101c-48c5-f6c5-d4d1409b40d3"
      },
      "execution_count": 32,
      "outputs": [
        {
          "output_type": "execute_result",
          "data": {
            "text/plain": [
              "Timedelta('12 days 10:28:49.342988337')"
            ]
          },
          "metadata": {},
          "execution_count": 32
        }
      ]
    },
    {
      "cell_type": "markdown",
      "source": [
        "27 - Qual a diferença média entre a data prevista de entrega e a data efetiva de entrega?"
      ],
      "metadata": {
        "id": "5bqfEm8XDRSs"
      }
    },
    {
      "cell_type": "code",
      "source": [
        "olist[\"delta_forecast\"] = olist.order_delivered_customer_date - olist.order_estimated_delivery_date"
      ],
      "metadata": {
        "id": "z-XsLC9WDLaM"
      },
      "execution_count": 33,
      "outputs": []
    },
    {
      "cell_type": "code",
      "source": [
        "olist.delta_forecast.mean()"
      ],
      "metadata": {
        "id": "dbpUqdx2D001",
        "outputId": "404c618c-fb74-4656-a76f-e10511dc0e2f",
        "colab": {
          "base_uri": "https://localhost:8080/"
        }
      },
      "execution_count": 34,
      "outputs": [
        {
          "output_type": "execute_result",
          "data": {
            "text/plain": [
              "Timedelta('-12 days +14:37:09.768114045')"
            ]
          },
          "metadata": {},
          "execution_count": 34
        }
      ]
    },
    {
      "cell_type": "code",
      "source": [
        "olist.delta_forecast.describe()"
      ],
      "metadata": {
        "id": "Yy1Y1s-jD5F8",
        "outputId": "5e672aeb-00a8-4dfb-bff2-37217e05e475",
        "colab": {
          "base_uri": "https://localhost:8080/"
        }
      },
      "execution_count": 35,
      "outputs": [
        {
          "output_type": "execute_result",
          "data": {
            "text/plain": [
              "count                          114552\n",
              "mean     -12 days +14:37:09.768114045\n",
              "std        10 days 02:16:38.757732168\n",
              "min               -147 days +23:36:47\n",
              "25%                -17 days +16:18:26\n",
              "50%                -13 days +22:23:31\n",
              "75%                 -7 days +10:47:47\n",
              "max                 188 days 23:24:07\n",
              "Name: delta_forecast, dtype: object"
            ]
          },
          "metadata": {},
          "execution_count": 35
        }
      ]
    },
    {
      "cell_type": "markdown",
      "source": [
        "28 - Em qual período do dia as pessoas mais costumam fazer compras por estado? Divida entre manhã,\n",
        "tarde e noite."
      ],
      "metadata": {
        "id": "HKIX8MrfEuUB"
      }
    },
    {
      "cell_type": "code",
      "source": [
        "olist.order_purchase_timestamp.head(5)"
      ],
      "metadata": {
        "id": "BMlNrJKxE3jB",
        "outputId": "a177a99a-6704-49f0-bf05-146d17a70b62",
        "colab": {
          "base_uri": "https://localhost:8080/"
        }
      },
      "execution_count": 36,
      "outputs": [
        {
          "output_type": "execute_result",
          "data": {
            "text/plain": [
              "0   2017-10-02 10:56:33\n",
              "1   2017-10-02 10:56:33\n",
              "2   2017-10-02 10:56:33\n",
              "3   2017-10-23 23:26:46\n",
              "4   2017-08-15 18:29:31\n",
              "Name: order_purchase_timestamp, dtype: datetime64[ns]"
            ]
          },
          "metadata": {},
          "execution_count": 36
        }
      ]
    },
    {
      "cell_type": "code",
      "source": [
        "olist['period'] = (olist['order_purchase_timestamp'].dt.hour % 24 + 4) // 4\n",
        "olist['period'].replace({1: 'Late Night',\n",
        "                      2: 'Early Morning',\n",
        "                      3: 'Morning',\n",
        "                      4: 'Noon',\n",
        "                      5: 'Evening',\n",
        "                      6: 'Night'}, inplace=True)"
      ],
      "metadata": {
        "id": "mbioe3raMZqK"
      },
      "execution_count": 37,
      "outputs": []
    },
    {
      "cell_type": "code",
      "source": [
        "olist.iloc[:,[3,44]]"
      ],
      "metadata": {
        "id": "KbSOShyCMatS",
        "outputId": "f7d4bb2d-7da0-4b3a-958a-7f51cd12b5ba",
        "colab": {
          "base_uri": "https://localhost:8080/",
          "height": 424
        }
      },
      "execution_count": 38,
      "outputs": [
        {
          "output_type": "execute_result",
          "data": {
            "text/plain": [
              "       order_purchase_timestamp      period\n",
              "0           2017-10-02 10:56:33     Morning\n",
              "1           2017-10-02 10:56:33     Morning\n",
              "2           2017-10-02 10:56:33     Morning\n",
              "3           2017-10-23 23:26:46       Night\n",
              "4           2017-08-15 18:29:31     Evening\n",
              "...                         ...         ...\n",
              "117004      2017-02-17 03:09:22  Late Night\n",
              "117005      2017-07-02 13:10:36        Noon\n",
              "117006      2016-10-09 12:13:58        Noon\n",
              "117007      2018-02-25 17:37:45     Evening\n",
              "117008      2017-03-11 19:51:36     Evening\n",
              "\n",
              "[117009 rows x 2 columns]"
            ],
            "text/html": [
              "\n",
              "  <div id=\"df-7735f656-7779-4c1e-a920-3be72ecb7ba2\">\n",
              "    <div class=\"colab-df-container\">\n",
              "      <div>\n",
              "<style scoped>\n",
              "    .dataframe tbody tr th:only-of-type {\n",
              "        vertical-align: middle;\n",
              "    }\n",
              "\n",
              "    .dataframe tbody tr th {\n",
              "        vertical-align: top;\n",
              "    }\n",
              "\n",
              "    .dataframe thead th {\n",
              "        text-align: right;\n",
              "    }\n",
              "</style>\n",
              "<table border=\"1\" class=\"dataframe\">\n",
              "  <thead>\n",
              "    <tr style=\"text-align: right;\">\n",
              "      <th></th>\n",
              "      <th>order_purchase_timestamp</th>\n",
              "      <th>period</th>\n",
              "    </tr>\n",
              "  </thead>\n",
              "  <tbody>\n",
              "    <tr>\n",
              "      <th>0</th>\n",
              "      <td>2017-10-02 10:56:33</td>\n",
              "      <td>Morning</td>\n",
              "    </tr>\n",
              "    <tr>\n",
              "      <th>1</th>\n",
              "      <td>2017-10-02 10:56:33</td>\n",
              "      <td>Morning</td>\n",
              "    </tr>\n",
              "    <tr>\n",
              "      <th>2</th>\n",
              "      <td>2017-10-02 10:56:33</td>\n",
              "      <td>Morning</td>\n",
              "    </tr>\n",
              "    <tr>\n",
              "      <th>3</th>\n",
              "      <td>2017-10-23 23:26:46</td>\n",
              "      <td>Night</td>\n",
              "    </tr>\n",
              "    <tr>\n",
              "      <th>4</th>\n",
              "      <td>2017-08-15 18:29:31</td>\n",
              "      <td>Evening</td>\n",
              "    </tr>\n",
              "    <tr>\n",
              "      <th>...</th>\n",
              "      <td>...</td>\n",
              "      <td>...</td>\n",
              "    </tr>\n",
              "    <tr>\n",
              "      <th>117004</th>\n",
              "      <td>2017-02-17 03:09:22</td>\n",
              "      <td>Late Night</td>\n",
              "    </tr>\n",
              "    <tr>\n",
              "      <th>117005</th>\n",
              "      <td>2017-07-02 13:10:36</td>\n",
              "      <td>Noon</td>\n",
              "    </tr>\n",
              "    <tr>\n",
              "      <th>117006</th>\n",
              "      <td>2016-10-09 12:13:58</td>\n",
              "      <td>Noon</td>\n",
              "    </tr>\n",
              "    <tr>\n",
              "      <th>117007</th>\n",
              "      <td>2018-02-25 17:37:45</td>\n",
              "      <td>Evening</td>\n",
              "    </tr>\n",
              "    <tr>\n",
              "      <th>117008</th>\n",
              "      <td>2017-03-11 19:51:36</td>\n",
              "      <td>Evening</td>\n",
              "    </tr>\n",
              "  </tbody>\n",
              "</table>\n",
              "<p>117009 rows × 2 columns</p>\n",
              "</div>\n",
              "      <button class=\"colab-df-convert\" onclick=\"convertToInteractive('df-7735f656-7779-4c1e-a920-3be72ecb7ba2')\"\n",
              "              title=\"Convert this dataframe to an interactive table.\"\n",
              "              style=\"display:none;\">\n",
              "        \n",
              "  <svg xmlns=\"http://www.w3.org/2000/svg\" height=\"24px\"viewBox=\"0 0 24 24\"\n",
              "       width=\"24px\">\n",
              "    <path d=\"M0 0h24v24H0V0z\" fill=\"none\"/>\n",
              "    <path d=\"M18.56 5.44l.94 2.06.94-2.06 2.06-.94-2.06-.94-.94-2.06-.94 2.06-2.06.94zm-11 1L8.5 8.5l.94-2.06 2.06-.94-2.06-.94L8.5 2.5l-.94 2.06-2.06.94zm10 10l.94 2.06.94-2.06 2.06-.94-2.06-.94-.94-2.06-.94 2.06-2.06.94z\"/><path d=\"M17.41 7.96l-1.37-1.37c-.4-.4-.92-.59-1.43-.59-.52 0-1.04.2-1.43.59L10.3 9.45l-7.72 7.72c-.78.78-.78 2.05 0 2.83L4 21.41c.39.39.9.59 1.41.59.51 0 1.02-.2 1.41-.59l7.78-7.78 2.81-2.81c.8-.78.8-2.07 0-2.86zM5.41 20L4 18.59l7.72-7.72 1.47 1.35L5.41 20z\"/>\n",
              "  </svg>\n",
              "      </button>\n",
              "      \n",
              "  <style>\n",
              "    .colab-df-container {\n",
              "      display:flex;\n",
              "      flex-wrap:wrap;\n",
              "      gap: 12px;\n",
              "    }\n",
              "\n",
              "    .colab-df-convert {\n",
              "      background-color: #E8F0FE;\n",
              "      border: none;\n",
              "      border-radius: 50%;\n",
              "      cursor: pointer;\n",
              "      display: none;\n",
              "      fill: #1967D2;\n",
              "      height: 32px;\n",
              "      padding: 0 0 0 0;\n",
              "      width: 32px;\n",
              "    }\n",
              "\n",
              "    .colab-df-convert:hover {\n",
              "      background-color: #E2EBFA;\n",
              "      box-shadow: 0px 1px 2px rgba(60, 64, 67, 0.3), 0px 1px 3px 1px rgba(60, 64, 67, 0.15);\n",
              "      fill: #174EA6;\n",
              "    }\n",
              "\n",
              "    [theme=dark] .colab-df-convert {\n",
              "      background-color: #3B4455;\n",
              "      fill: #D2E3FC;\n",
              "    }\n",
              "\n",
              "    [theme=dark] .colab-df-convert:hover {\n",
              "      background-color: #434B5C;\n",
              "      box-shadow: 0px 1px 3px 1px rgba(0, 0, 0, 0.15);\n",
              "      filter: drop-shadow(0px 1px 2px rgba(0, 0, 0, 0.3));\n",
              "      fill: #FFFFFF;\n",
              "    }\n",
              "  </style>\n",
              "\n",
              "      <script>\n",
              "        const buttonEl =\n",
              "          document.querySelector('#df-7735f656-7779-4c1e-a920-3be72ecb7ba2 button.colab-df-convert');\n",
              "        buttonEl.style.display =\n",
              "          google.colab.kernel.accessAllowed ? 'block' : 'none';\n",
              "\n",
              "        async function convertToInteractive(key) {\n",
              "          const element = document.querySelector('#df-7735f656-7779-4c1e-a920-3be72ecb7ba2');\n",
              "          const dataTable =\n",
              "            await google.colab.kernel.invokeFunction('convertToInteractive',\n",
              "                                                     [key], {});\n",
              "          if (!dataTable) return;\n",
              "\n",
              "          const docLinkHtml = 'Like what you see? Visit the ' +\n",
              "            '<a target=\"_blank\" href=https://colab.research.google.com/notebooks/data_table.ipynb>data table notebook</a>'\n",
              "            + ' to learn more about interactive tables.';\n",
              "          element.innerHTML = '';\n",
              "          dataTable['output_type'] = 'display_data';\n",
              "          await google.colab.output.renderOutput(dataTable, element);\n",
              "          const docLink = document.createElement('div');\n",
              "          docLink.innerHTML = docLinkHtml;\n",
              "          element.appendChild(docLink);\n",
              "        }\n",
              "      </script>\n",
              "    </div>\n",
              "  </div>\n",
              "  "
            ]
          },
          "metadata": {},
          "execution_count": 38
        }
      ]
    },
    {
      "cell_type": "code",
      "source": [
        "olist.groupby(\"customer_state\").agg({\"period\":(pd.Series.mode)})"
      ],
      "metadata": {
        "colab": {
          "base_uri": "https://localhost:8080/",
          "height": 928
        },
        "outputId": "b4c9ec52-baee-4cfe-ca8c-9ee76873b797",
        "id": "AepMljEMIfc7"
      },
      "execution_count": 39,
      "outputs": [
        {
          "output_type": "execute_result",
          "data": {
            "text/plain": [
              "                 period\n",
              "customer_state         \n",
              "AC                 Noon\n",
              "AL                 Noon\n",
              "AM              Evening\n",
              "AP              Evening\n",
              "BA              Evening\n",
              "CE                 Noon\n",
              "DF              Evening\n",
              "ES              Evening\n",
              "GO                 Noon\n",
              "MA                 Noon\n",
              "MG                 Noon\n",
              "MS              Evening\n",
              "MT                 Noon\n",
              "PA              Evening\n",
              "PB                 Noon\n",
              "PE              Evening\n",
              "PI              Evening\n",
              "PR                 Noon\n",
              "RJ                 Noon\n",
              "RN              Evening\n",
              "RO                 Noon\n",
              "RR                 Noon\n",
              "RS                Night\n",
              "SC                 Noon\n",
              "SE                Night\n",
              "SP                 Noon\n",
              "TO                 Noon"
            ],
            "text/html": [
              "\n",
              "  <div id=\"df-9ff6a550-e3a6-438f-9ac5-4c460867c5a7\">\n",
              "    <div class=\"colab-df-container\">\n",
              "      <div>\n",
              "<style scoped>\n",
              "    .dataframe tbody tr th:only-of-type {\n",
              "        vertical-align: middle;\n",
              "    }\n",
              "\n",
              "    .dataframe tbody tr th {\n",
              "        vertical-align: top;\n",
              "    }\n",
              "\n",
              "    .dataframe thead th {\n",
              "        text-align: right;\n",
              "    }\n",
              "</style>\n",
              "<table border=\"1\" class=\"dataframe\">\n",
              "  <thead>\n",
              "    <tr style=\"text-align: right;\">\n",
              "      <th></th>\n",
              "      <th>period</th>\n",
              "    </tr>\n",
              "    <tr>\n",
              "      <th>customer_state</th>\n",
              "      <th></th>\n",
              "    </tr>\n",
              "  </thead>\n",
              "  <tbody>\n",
              "    <tr>\n",
              "      <th>AC</th>\n",
              "      <td>Noon</td>\n",
              "    </tr>\n",
              "    <tr>\n",
              "      <th>AL</th>\n",
              "      <td>Noon</td>\n",
              "    </tr>\n",
              "    <tr>\n",
              "      <th>AM</th>\n",
              "      <td>Evening</td>\n",
              "    </tr>\n",
              "    <tr>\n",
              "      <th>AP</th>\n",
              "      <td>Evening</td>\n",
              "    </tr>\n",
              "    <tr>\n",
              "      <th>BA</th>\n",
              "      <td>Evening</td>\n",
              "    </tr>\n",
              "    <tr>\n",
              "      <th>CE</th>\n",
              "      <td>Noon</td>\n",
              "    </tr>\n",
              "    <tr>\n",
              "      <th>DF</th>\n",
              "      <td>Evening</td>\n",
              "    </tr>\n",
              "    <tr>\n",
              "      <th>ES</th>\n",
              "      <td>Evening</td>\n",
              "    </tr>\n",
              "    <tr>\n",
              "      <th>GO</th>\n",
              "      <td>Noon</td>\n",
              "    </tr>\n",
              "    <tr>\n",
              "      <th>MA</th>\n",
              "      <td>Noon</td>\n",
              "    </tr>\n",
              "    <tr>\n",
              "      <th>MG</th>\n",
              "      <td>Noon</td>\n",
              "    </tr>\n",
              "    <tr>\n",
              "      <th>MS</th>\n",
              "      <td>Evening</td>\n",
              "    </tr>\n",
              "    <tr>\n",
              "      <th>MT</th>\n",
              "      <td>Noon</td>\n",
              "    </tr>\n",
              "    <tr>\n",
              "      <th>PA</th>\n",
              "      <td>Evening</td>\n",
              "    </tr>\n",
              "    <tr>\n",
              "      <th>PB</th>\n",
              "      <td>Noon</td>\n",
              "    </tr>\n",
              "    <tr>\n",
              "      <th>PE</th>\n",
              "      <td>Evening</td>\n",
              "    </tr>\n",
              "    <tr>\n",
              "      <th>PI</th>\n",
              "      <td>Evening</td>\n",
              "    </tr>\n",
              "    <tr>\n",
              "      <th>PR</th>\n",
              "      <td>Noon</td>\n",
              "    </tr>\n",
              "    <tr>\n",
              "      <th>RJ</th>\n",
              "      <td>Noon</td>\n",
              "    </tr>\n",
              "    <tr>\n",
              "      <th>RN</th>\n",
              "      <td>Evening</td>\n",
              "    </tr>\n",
              "    <tr>\n",
              "      <th>RO</th>\n",
              "      <td>Noon</td>\n",
              "    </tr>\n",
              "    <tr>\n",
              "      <th>RR</th>\n",
              "      <td>Noon</td>\n",
              "    </tr>\n",
              "    <tr>\n",
              "      <th>RS</th>\n",
              "      <td>Night</td>\n",
              "    </tr>\n",
              "    <tr>\n",
              "      <th>SC</th>\n",
              "      <td>Noon</td>\n",
              "    </tr>\n",
              "    <tr>\n",
              "      <th>SE</th>\n",
              "      <td>Night</td>\n",
              "    </tr>\n",
              "    <tr>\n",
              "      <th>SP</th>\n",
              "      <td>Noon</td>\n",
              "    </tr>\n",
              "    <tr>\n",
              "      <th>TO</th>\n",
              "      <td>Noon</td>\n",
              "    </tr>\n",
              "  </tbody>\n",
              "</table>\n",
              "</div>\n",
              "      <button class=\"colab-df-convert\" onclick=\"convertToInteractive('df-9ff6a550-e3a6-438f-9ac5-4c460867c5a7')\"\n",
              "              title=\"Convert this dataframe to an interactive table.\"\n",
              "              style=\"display:none;\">\n",
              "        \n",
              "  <svg xmlns=\"http://www.w3.org/2000/svg\" height=\"24px\"viewBox=\"0 0 24 24\"\n",
              "       width=\"24px\">\n",
              "    <path d=\"M0 0h24v24H0V0z\" fill=\"none\"/>\n",
              "    <path d=\"M18.56 5.44l.94 2.06.94-2.06 2.06-.94-2.06-.94-.94-2.06-.94 2.06-2.06.94zm-11 1L8.5 8.5l.94-2.06 2.06-.94-2.06-.94L8.5 2.5l-.94 2.06-2.06.94zm10 10l.94 2.06.94-2.06 2.06-.94-2.06-.94-.94-2.06-.94 2.06-2.06.94z\"/><path d=\"M17.41 7.96l-1.37-1.37c-.4-.4-.92-.59-1.43-.59-.52 0-1.04.2-1.43.59L10.3 9.45l-7.72 7.72c-.78.78-.78 2.05 0 2.83L4 21.41c.39.39.9.59 1.41.59.51 0 1.02-.2 1.41-.59l7.78-7.78 2.81-2.81c.8-.78.8-2.07 0-2.86zM5.41 20L4 18.59l7.72-7.72 1.47 1.35L5.41 20z\"/>\n",
              "  </svg>\n",
              "      </button>\n",
              "      \n",
              "  <style>\n",
              "    .colab-df-container {\n",
              "      display:flex;\n",
              "      flex-wrap:wrap;\n",
              "      gap: 12px;\n",
              "    }\n",
              "\n",
              "    .colab-df-convert {\n",
              "      background-color: #E8F0FE;\n",
              "      border: none;\n",
              "      border-radius: 50%;\n",
              "      cursor: pointer;\n",
              "      display: none;\n",
              "      fill: #1967D2;\n",
              "      height: 32px;\n",
              "      padding: 0 0 0 0;\n",
              "      width: 32px;\n",
              "    }\n",
              "\n",
              "    .colab-df-convert:hover {\n",
              "      background-color: #E2EBFA;\n",
              "      box-shadow: 0px 1px 2px rgba(60, 64, 67, 0.3), 0px 1px 3px 1px rgba(60, 64, 67, 0.15);\n",
              "      fill: #174EA6;\n",
              "    }\n",
              "\n",
              "    [theme=dark] .colab-df-convert {\n",
              "      background-color: #3B4455;\n",
              "      fill: #D2E3FC;\n",
              "    }\n",
              "\n",
              "    [theme=dark] .colab-df-convert:hover {\n",
              "      background-color: #434B5C;\n",
              "      box-shadow: 0px 1px 3px 1px rgba(0, 0, 0, 0.15);\n",
              "      filter: drop-shadow(0px 1px 2px rgba(0, 0, 0, 0.3));\n",
              "      fill: #FFFFFF;\n",
              "    }\n",
              "  </style>\n",
              "\n",
              "      <script>\n",
              "        const buttonEl =\n",
              "          document.querySelector('#df-9ff6a550-e3a6-438f-9ac5-4c460867c5a7 button.colab-df-convert');\n",
              "        buttonEl.style.display =\n",
              "          google.colab.kernel.accessAllowed ? 'block' : 'none';\n",
              "\n",
              "        async function convertToInteractive(key) {\n",
              "          const element = document.querySelector('#df-9ff6a550-e3a6-438f-9ac5-4c460867c5a7');\n",
              "          const dataTable =\n",
              "            await google.colab.kernel.invokeFunction('convertToInteractive',\n",
              "                                                     [key], {});\n",
              "          if (!dataTable) return;\n",
              "\n",
              "          const docLinkHtml = 'Like what you see? Visit the ' +\n",
              "            '<a target=\"_blank\" href=https://colab.research.google.com/notebooks/data_table.ipynb>data table notebook</a>'\n",
              "            + ' to learn more about interactive tables.';\n",
              "          element.innerHTML = '';\n",
              "          dataTable['output_type'] = 'display_data';\n",
              "          await google.colab.output.renderOutput(dataTable, element);\n",
              "          const docLink = document.createElement('div');\n",
              "          docLink.innerHTML = docLinkHtml;\n",
              "          element.appendChild(docLink);\n",
              "        }\n",
              "      </script>\n",
              "    </div>\n",
              "  </div>\n",
              "  "
            ]
          },
          "metadata": {},
          "execution_count": 39
        }
      ]
    },
    {
      "cell_type": "markdown",
      "source": [
        "29 - Quais os diferentes tipos de dados temos em nossa tabela?"
      ],
      "metadata": {
        "id": "-3QHfvQgEMYu"
      }
    },
    {
      "cell_type": "code",
      "source": [
        "olist.info()\n"
      ],
      "metadata": {
        "id": "7R71xRRqHskT",
        "colab": {
          "base_uri": "https://localhost:8080/"
        },
        "outputId": "f73c049f-a92a-4833-87d5-1c70e3b5b720"
      },
      "execution_count": 40,
      "outputs": [
        {
          "output_type": "stream",
          "name": "stdout",
          "text": [
            "<class 'pandas.core.frame.DataFrame'>\n",
            "Int64Index: 117009 entries, 0 to 117008\n",
            "Data columns (total 45 columns):\n",
            " #   Column                         Non-Null Count   Dtype          \n",
            "---  ------                         --------------   -----          \n",
            " 0   order_id                       117009 non-null  object         \n",
            " 1   customer_id                    117009 non-null  object         \n",
            " 2   order_status                   117009 non-null  object         \n",
            " 3   order_purchase_timestamp       117009 non-null  datetime64[ns] \n",
            " 4   order_approved_at              116994 non-null  datetime64[ns] \n",
            " 5   order_delivered_carrier_date   115781 non-null  datetime64[ns] \n",
            " 6   order_delivered_customer_date  114552 non-null  datetime64[ns] \n",
            " 7   order_estimated_delivery_date  117009 non-null  datetime64[ns] \n",
            " 8   customer_unique_id             117009 non-null  object         \n",
            " 9   zip_code                       117009 non-null  int64          \n",
            " 10  customer_city                  117009 non-null  object         \n",
            " 11  customer_state                 117009 non-null  object         \n",
            " 12  (geolocation_lat, mean)        117009 non-null  float64        \n",
            " 13  (geolocation_lng, mean)        117009 non-null  float64        \n",
            " 14  order_item_id                  117009 non-null  int64          \n",
            " 15  product_id                     117009 non-null  object         \n",
            " 16  seller_id                      117009 non-null  object         \n",
            " 17  shipping_limit_date            117009 non-null  object         \n",
            " 18  price                          117009 non-null  float64        \n",
            " 19  freight_value                  117009 non-null  float64        \n",
            " 20  product_category_name          115320 non-null  object         \n",
            " 21  product_name_lenght            115320 non-null  float64        \n",
            " 22  product_description_lenght     115320 non-null  float64        \n",
            " 23  product_photos_qty             115320 non-null  float64        \n",
            " 24  product_weight_g               116989 non-null  float64        \n",
            " 25  product_length_cm              116989 non-null  float64        \n",
            " 26  product_height_cm              116989 non-null  float64        \n",
            " 27  product_width_cm               116989 non-null  float64        \n",
            " 28  payment_sequential             117009 non-null  int64          \n",
            " 29  payment_type                   117009 non-null  object         \n",
            " 30  payment_installments           117009 non-null  int64          \n",
            " 31  payment_value                  117009 non-null  float64        \n",
            " 32  seller_zip_code_prefix         117009 non-null  int64          \n",
            " 33  seller_city                    117009 non-null  object         \n",
            " 34  seller_state                   117009 non-null  object         \n",
            " 35  review_id                      117009 non-null  object         \n",
            " 36  review_score                   117009 non-null  int64          \n",
            " 37  review_comment_title           13847 non-null   object         \n",
            " 38  review_comment_message         49549 non-null   object         \n",
            " 39  review_creation_date           117009 non-null  object         \n",
            " 40  review_answer_timestamp        117009 non-null  object         \n",
            " 41  delta_approval                 116994 non-null  timedelta64[ns]\n",
            " 42  delta_delivery                 114552 non-null  timedelta64[ns]\n",
            " 43  delta_forecast                 114552 non-null  timedelta64[ns]\n",
            " 44  period                         117009 non-null  object         \n",
            "dtypes: datetime64[ns](5), float64(12), int64(6), object(19), timedelta64[ns](3)\n",
            "memory usage: 41.1+ MB\n"
          ]
        }
      ]
    },
    {
      "cell_type": "markdown",
      "source": [
        "30 - Quantos clientes distintos temos por estado?"
      ],
      "metadata": {
        "id": "JPQuKOiUEfUx"
      }
    },
    {
      "cell_type": "code",
      "source": [
        "olist.groupby(\"customer_state\").agg({\"customer_unique_id\":(pd.Series.count)})"
      ],
      "metadata": {
        "colab": {
          "base_uri": "https://localhost:8080/",
          "height": 928
        },
        "id": "ymirZt-cEQBX",
        "outputId": "71318197-1a8c-4740-ca30-e1d0b3ae8b5d"
      },
      "execution_count": null,
      "outputs": [
        {
          "output_type": "execute_result",
          "data": {
            "text/plain": [
              "                customer_unique_id\n",
              "customer_state                    \n",
              "AC                              95\n",
              "AL                             458\n",
              "AM                             170\n",
              "AP                              83\n",
              "BA                            4002\n",
              "CE                            1535\n",
              "DF                            2286\n",
              "ES                            2313\n",
              "GO                            2407\n",
              "MA                             839\n",
              "MG                           13606\n",
              "MS                             854\n",
              "MT                            1114\n",
              "PA                            1099\n",
              "PB                             627\n",
              "PE                            1872\n",
              "PI                             565\n",
              "PR                            5947\n",
              "RJ                           15207\n",
              "RN                             564\n",
              "RO                             283\n",
              "RR                              52\n",
              "RS                            6507\n",
              "SC                            4283\n",
              "SE                             394\n",
              "SP                           49510\n",
              "TO                             337"
            ],
            "text/html": [
              "\n",
              "  <div id=\"df-e875d117-6e5a-4776-b6e1-de9b2d6a5d7e\">\n",
              "    <div class=\"colab-df-container\">\n",
              "      <div>\n",
              "<style scoped>\n",
              "    .dataframe tbody tr th:only-of-type {\n",
              "        vertical-align: middle;\n",
              "    }\n",
              "\n",
              "    .dataframe tbody tr th {\n",
              "        vertical-align: top;\n",
              "    }\n",
              "\n",
              "    .dataframe thead th {\n",
              "        text-align: right;\n",
              "    }\n",
              "</style>\n",
              "<table border=\"1\" class=\"dataframe\">\n",
              "  <thead>\n",
              "    <tr style=\"text-align: right;\">\n",
              "      <th></th>\n",
              "      <th>customer_unique_id</th>\n",
              "    </tr>\n",
              "    <tr>\n",
              "      <th>customer_state</th>\n",
              "      <th></th>\n",
              "    </tr>\n",
              "  </thead>\n",
              "  <tbody>\n",
              "    <tr>\n",
              "      <th>AC</th>\n",
              "      <td>95</td>\n",
              "    </tr>\n",
              "    <tr>\n",
              "      <th>AL</th>\n",
              "      <td>458</td>\n",
              "    </tr>\n",
              "    <tr>\n",
              "      <th>AM</th>\n",
              "      <td>170</td>\n",
              "    </tr>\n",
              "    <tr>\n",
              "      <th>AP</th>\n",
              "      <td>83</td>\n",
              "    </tr>\n",
              "    <tr>\n",
              "      <th>BA</th>\n",
              "      <td>4002</td>\n",
              "    </tr>\n",
              "    <tr>\n",
              "      <th>CE</th>\n",
              "      <td>1535</td>\n",
              "    </tr>\n",
              "    <tr>\n",
              "      <th>DF</th>\n",
              "      <td>2286</td>\n",
              "    </tr>\n",
              "    <tr>\n",
              "      <th>ES</th>\n",
              "      <td>2313</td>\n",
              "    </tr>\n",
              "    <tr>\n",
              "      <th>GO</th>\n",
              "      <td>2407</td>\n",
              "    </tr>\n",
              "    <tr>\n",
              "      <th>MA</th>\n",
              "      <td>839</td>\n",
              "    </tr>\n",
              "    <tr>\n",
              "      <th>MG</th>\n",
              "      <td>13606</td>\n",
              "    </tr>\n",
              "    <tr>\n",
              "      <th>MS</th>\n",
              "      <td>854</td>\n",
              "    </tr>\n",
              "    <tr>\n",
              "      <th>MT</th>\n",
              "      <td>1114</td>\n",
              "    </tr>\n",
              "    <tr>\n",
              "      <th>PA</th>\n",
              "      <td>1099</td>\n",
              "    </tr>\n",
              "    <tr>\n",
              "      <th>PB</th>\n",
              "      <td>627</td>\n",
              "    </tr>\n",
              "    <tr>\n",
              "      <th>PE</th>\n",
              "      <td>1872</td>\n",
              "    </tr>\n",
              "    <tr>\n",
              "      <th>PI</th>\n",
              "      <td>565</td>\n",
              "    </tr>\n",
              "    <tr>\n",
              "      <th>PR</th>\n",
              "      <td>5947</td>\n",
              "    </tr>\n",
              "    <tr>\n",
              "      <th>RJ</th>\n",
              "      <td>15207</td>\n",
              "    </tr>\n",
              "    <tr>\n",
              "      <th>RN</th>\n",
              "      <td>564</td>\n",
              "    </tr>\n",
              "    <tr>\n",
              "      <th>RO</th>\n",
              "      <td>283</td>\n",
              "    </tr>\n",
              "    <tr>\n",
              "      <th>RR</th>\n",
              "      <td>52</td>\n",
              "    </tr>\n",
              "    <tr>\n",
              "      <th>RS</th>\n",
              "      <td>6507</td>\n",
              "    </tr>\n",
              "    <tr>\n",
              "      <th>SC</th>\n",
              "      <td>4283</td>\n",
              "    </tr>\n",
              "    <tr>\n",
              "      <th>SE</th>\n",
              "      <td>394</td>\n",
              "    </tr>\n",
              "    <tr>\n",
              "      <th>SP</th>\n",
              "      <td>49510</td>\n",
              "    </tr>\n",
              "    <tr>\n",
              "      <th>TO</th>\n",
              "      <td>337</td>\n",
              "    </tr>\n",
              "  </tbody>\n",
              "</table>\n",
              "</div>\n",
              "      <button class=\"colab-df-convert\" onclick=\"convertToInteractive('df-e875d117-6e5a-4776-b6e1-de9b2d6a5d7e')\"\n",
              "              title=\"Convert this dataframe to an interactive table.\"\n",
              "              style=\"display:none;\">\n",
              "        \n",
              "  <svg xmlns=\"http://www.w3.org/2000/svg\" height=\"24px\"viewBox=\"0 0 24 24\"\n",
              "       width=\"24px\">\n",
              "    <path d=\"M0 0h24v24H0V0z\" fill=\"none\"/>\n",
              "    <path d=\"M18.56 5.44l.94 2.06.94-2.06 2.06-.94-2.06-.94-.94-2.06-.94 2.06-2.06.94zm-11 1L8.5 8.5l.94-2.06 2.06-.94-2.06-.94L8.5 2.5l-.94 2.06-2.06.94zm10 10l.94 2.06.94-2.06 2.06-.94-2.06-.94-.94-2.06-.94 2.06-2.06.94z\"/><path d=\"M17.41 7.96l-1.37-1.37c-.4-.4-.92-.59-1.43-.59-.52 0-1.04.2-1.43.59L10.3 9.45l-7.72 7.72c-.78.78-.78 2.05 0 2.83L4 21.41c.39.39.9.59 1.41.59.51 0 1.02-.2 1.41-.59l7.78-7.78 2.81-2.81c.8-.78.8-2.07 0-2.86zM5.41 20L4 18.59l7.72-7.72 1.47 1.35L5.41 20z\"/>\n",
              "  </svg>\n",
              "      </button>\n",
              "      \n",
              "  <style>\n",
              "    .colab-df-container {\n",
              "      display:flex;\n",
              "      flex-wrap:wrap;\n",
              "      gap: 12px;\n",
              "    }\n",
              "\n",
              "    .colab-df-convert {\n",
              "      background-color: #E8F0FE;\n",
              "      border: none;\n",
              "      border-radius: 50%;\n",
              "      cursor: pointer;\n",
              "      display: none;\n",
              "      fill: #1967D2;\n",
              "      height: 32px;\n",
              "      padding: 0 0 0 0;\n",
              "      width: 32px;\n",
              "    }\n",
              "\n",
              "    .colab-df-convert:hover {\n",
              "      background-color: #E2EBFA;\n",
              "      box-shadow: 0px 1px 2px rgba(60, 64, 67, 0.3), 0px 1px 3px 1px rgba(60, 64, 67, 0.15);\n",
              "      fill: #174EA6;\n",
              "    }\n",
              "\n",
              "    [theme=dark] .colab-df-convert {\n",
              "      background-color: #3B4455;\n",
              "      fill: #D2E3FC;\n",
              "    }\n",
              "\n",
              "    [theme=dark] .colab-df-convert:hover {\n",
              "      background-color: #434B5C;\n",
              "      box-shadow: 0px 1px 3px 1px rgba(0, 0, 0, 0.15);\n",
              "      filter: drop-shadow(0px 1px 2px rgba(0, 0, 0, 0.3));\n",
              "      fill: #FFFFFF;\n",
              "    }\n",
              "  </style>\n",
              "\n",
              "      <script>\n",
              "        const buttonEl =\n",
              "          document.querySelector('#df-e875d117-6e5a-4776-b6e1-de9b2d6a5d7e button.colab-df-convert');\n",
              "        buttonEl.style.display =\n",
              "          google.colab.kernel.accessAllowed ? 'block' : 'none';\n",
              "\n",
              "        async function convertToInteractive(key) {\n",
              "          const element = document.querySelector('#df-e875d117-6e5a-4776-b6e1-de9b2d6a5d7e');\n",
              "          const dataTable =\n",
              "            await google.colab.kernel.invokeFunction('convertToInteractive',\n",
              "                                                     [key], {});\n",
              "          if (!dataTable) return;\n",
              "\n",
              "          const docLinkHtml = 'Like what you see? Visit the ' +\n",
              "            '<a target=\"_blank\" href=https://colab.research.google.com/notebooks/data_table.ipynb>data table notebook</a>'\n",
              "            + ' to learn more about interactive tables.';\n",
              "          element.innerHTML = '';\n",
              "          dataTable['output_type'] = 'display_data';\n",
              "          await google.colab.output.renderOutput(dataTable, element);\n",
              "          const docLink = document.createElement('div');\n",
              "          docLink.innerHTML = docLinkHtml;\n",
              "          element.appendChild(docLink);\n",
              "        }\n",
              "      </script>\n",
              "    </div>\n",
              "  </div>\n",
              "  "
            ]
          },
          "metadata": {},
          "execution_count": 53
        }
      ]
    },
    {
      "cell_type": "markdown",
      "source": [
        "31 - Quantos vendedores distintos temos por estado?"
      ],
      "metadata": {
        "id": "eoqzieE1HFzl"
      }
    },
    {
      "cell_type": "code",
      "source": [
        "olist.groupby(\"seller_state\").agg({\"seller_id\":(pd.Series.count)})"
      ],
      "metadata": {
        "colab": {
          "base_uri": "https://localhost:8080/",
          "height": 802
        },
        "id": "u2xCVqzUF7y3",
        "outputId": "cbe26490-da77-4a13-9995-5fab052d8ee6"
      },
      "execution_count": null,
      "outputs": [
        {
          "output_type": "execute_result",
          "data": {
            "text/plain": [
              "              seller_id\n",
              "seller_state           \n",
              "AC                    1\n",
              "AM                    3\n",
              "BA                  693\n",
              "CE                  102\n",
              "DF                  946\n",
              "ES                  385\n",
              "GO                  545\n",
              "MA                  401\n",
              "MG                 9204\n",
              "MS                   58\n",
              "MT                  147\n",
              "PA                    8\n",
              "PB                   43\n",
              "PE                  460\n",
              "PI                   12\n",
              "PR                 9012\n",
              "RJ                 4976\n",
              "RN                   56\n",
              "RO                   14\n",
              "RS                 2266\n",
              "SC                 4236\n",
              "SE                   10\n",
              "SP                83431"
            ],
            "text/html": [
              "\n",
              "  <div id=\"df-15c768bb-05bd-442e-ab0d-8c65f98eabe6\">\n",
              "    <div class=\"colab-df-container\">\n",
              "      <div>\n",
              "<style scoped>\n",
              "    .dataframe tbody tr th:only-of-type {\n",
              "        vertical-align: middle;\n",
              "    }\n",
              "\n",
              "    .dataframe tbody tr th {\n",
              "        vertical-align: top;\n",
              "    }\n",
              "\n",
              "    .dataframe thead th {\n",
              "        text-align: right;\n",
              "    }\n",
              "</style>\n",
              "<table border=\"1\" class=\"dataframe\">\n",
              "  <thead>\n",
              "    <tr style=\"text-align: right;\">\n",
              "      <th></th>\n",
              "      <th>seller_id</th>\n",
              "    </tr>\n",
              "    <tr>\n",
              "      <th>seller_state</th>\n",
              "      <th></th>\n",
              "    </tr>\n",
              "  </thead>\n",
              "  <tbody>\n",
              "    <tr>\n",
              "      <th>AC</th>\n",
              "      <td>1</td>\n",
              "    </tr>\n",
              "    <tr>\n",
              "      <th>AM</th>\n",
              "      <td>3</td>\n",
              "    </tr>\n",
              "    <tr>\n",
              "      <th>BA</th>\n",
              "      <td>693</td>\n",
              "    </tr>\n",
              "    <tr>\n",
              "      <th>CE</th>\n",
              "      <td>102</td>\n",
              "    </tr>\n",
              "    <tr>\n",
              "      <th>DF</th>\n",
              "      <td>946</td>\n",
              "    </tr>\n",
              "    <tr>\n",
              "      <th>ES</th>\n",
              "      <td>385</td>\n",
              "    </tr>\n",
              "    <tr>\n",
              "      <th>GO</th>\n",
              "      <td>545</td>\n",
              "    </tr>\n",
              "    <tr>\n",
              "      <th>MA</th>\n",
              "      <td>401</td>\n",
              "    </tr>\n",
              "    <tr>\n",
              "      <th>MG</th>\n",
              "      <td>9204</td>\n",
              "    </tr>\n",
              "    <tr>\n",
              "      <th>MS</th>\n",
              "      <td>58</td>\n",
              "    </tr>\n",
              "    <tr>\n",
              "      <th>MT</th>\n",
              "      <td>147</td>\n",
              "    </tr>\n",
              "    <tr>\n",
              "      <th>PA</th>\n",
              "      <td>8</td>\n",
              "    </tr>\n",
              "    <tr>\n",
              "      <th>PB</th>\n",
              "      <td>43</td>\n",
              "    </tr>\n",
              "    <tr>\n",
              "      <th>PE</th>\n",
              "      <td>460</td>\n",
              "    </tr>\n",
              "    <tr>\n",
              "      <th>PI</th>\n",
              "      <td>12</td>\n",
              "    </tr>\n",
              "    <tr>\n",
              "      <th>PR</th>\n",
              "      <td>9012</td>\n",
              "    </tr>\n",
              "    <tr>\n",
              "      <th>RJ</th>\n",
              "      <td>4976</td>\n",
              "    </tr>\n",
              "    <tr>\n",
              "      <th>RN</th>\n",
              "      <td>56</td>\n",
              "    </tr>\n",
              "    <tr>\n",
              "      <th>RO</th>\n",
              "      <td>14</td>\n",
              "    </tr>\n",
              "    <tr>\n",
              "      <th>RS</th>\n",
              "      <td>2266</td>\n",
              "    </tr>\n",
              "    <tr>\n",
              "      <th>SC</th>\n",
              "      <td>4236</td>\n",
              "    </tr>\n",
              "    <tr>\n",
              "      <th>SE</th>\n",
              "      <td>10</td>\n",
              "    </tr>\n",
              "    <tr>\n",
              "      <th>SP</th>\n",
              "      <td>83431</td>\n",
              "    </tr>\n",
              "  </tbody>\n",
              "</table>\n",
              "</div>\n",
              "      <button class=\"colab-df-convert\" onclick=\"convertToInteractive('df-15c768bb-05bd-442e-ab0d-8c65f98eabe6')\"\n",
              "              title=\"Convert this dataframe to an interactive table.\"\n",
              "              style=\"display:none;\">\n",
              "        \n",
              "  <svg xmlns=\"http://www.w3.org/2000/svg\" height=\"24px\"viewBox=\"0 0 24 24\"\n",
              "       width=\"24px\">\n",
              "    <path d=\"M0 0h24v24H0V0z\" fill=\"none\"/>\n",
              "    <path d=\"M18.56 5.44l.94 2.06.94-2.06 2.06-.94-2.06-.94-.94-2.06-.94 2.06-2.06.94zm-11 1L8.5 8.5l.94-2.06 2.06-.94-2.06-.94L8.5 2.5l-.94 2.06-2.06.94zm10 10l.94 2.06.94-2.06 2.06-.94-2.06-.94-.94-2.06-.94 2.06-2.06.94z\"/><path d=\"M17.41 7.96l-1.37-1.37c-.4-.4-.92-.59-1.43-.59-.52 0-1.04.2-1.43.59L10.3 9.45l-7.72 7.72c-.78.78-.78 2.05 0 2.83L4 21.41c.39.39.9.59 1.41.59.51 0 1.02-.2 1.41-.59l7.78-7.78 2.81-2.81c.8-.78.8-2.07 0-2.86zM5.41 20L4 18.59l7.72-7.72 1.47 1.35L5.41 20z\"/>\n",
              "  </svg>\n",
              "      </button>\n",
              "      \n",
              "  <style>\n",
              "    .colab-df-container {\n",
              "      display:flex;\n",
              "      flex-wrap:wrap;\n",
              "      gap: 12px;\n",
              "    }\n",
              "\n",
              "    .colab-df-convert {\n",
              "      background-color: #E8F0FE;\n",
              "      border: none;\n",
              "      border-radius: 50%;\n",
              "      cursor: pointer;\n",
              "      display: none;\n",
              "      fill: #1967D2;\n",
              "      height: 32px;\n",
              "      padding: 0 0 0 0;\n",
              "      width: 32px;\n",
              "    }\n",
              "\n",
              "    .colab-df-convert:hover {\n",
              "      background-color: #E2EBFA;\n",
              "      box-shadow: 0px 1px 2px rgba(60, 64, 67, 0.3), 0px 1px 3px 1px rgba(60, 64, 67, 0.15);\n",
              "      fill: #174EA6;\n",
              "    }\n",
              "\n",
              "    [theme=dark] .colab-df-convert {\n",
              "      background-color: #3B4455;\n",
              "      fill: #D2E3FC;\n",
              "    }\n",
              "\n",
              "    [theme=dark] .colab-df-convert:hover {\n",
              "      background-color: #434B5C;\n",
              "      box-shadow: 0px 1px 3px 1px rgba(0, 0, 0, 0.15);\n",
              "      filter: drop-shadow(0px 1px 2px rgba(0, 0, 0, 0.3));\n",
              "      fill: #FFFFFF;\n",
              "    }\n",
              "  </style>\n",
              "\n",
              "      <script>\n",
              "        const buttonEl =\n",
              "          document.querySelector('#df-15c768bb-05bd-442e-ab0d-8c65f98eabe6 button.colab-df-convert');\n",
              "        buttonEl.style.display =\n",
              "          google.colab.kernel.accessAllowed ? 'block' : 'none';\n",
              "\n",
              "        async function convertToInteractive(key) {\n",
              "          const element = document.querySelector('#df-15c768bb-05bd-442e-ab0d-8c65f98eabe6');\n",
              "          const dataTable =\n",
              "            await google.colab.kernel.invokeFunction('convertToInteractive',\n",
              "                                                     [key], {});\n",
              "          if (!dataTable) return;\n",
              "\n",
              "          const docLinkHtml = 'Like what you see? Visit the ' +\n",
              "            '<a target=\"_blank\" href=https://colab.research.google.com/notebooks/data_table.ipynb>data table notebook</a>'\n",
              "            + ' to learn more about interactive tables.';\n",
              "          element.innerHTML = '';\n",
              "          dataTable['output_type'] = 'display_data';\n",
              "          await google.colab.output.renderOutput(dataTable, element);\n",
              "          const docLink = document.createElement('div');\n",
              "          docLink.innerHTML = docLinkHtml;\n",
              "          element.appendChild(docLink);\n",
              "        }\n",
              "      </script>\n",
              "    </div>\n",
              "  </div>\n",
              "  "
            ]
          },
          "metadata": {},
          "execution_count": 54
        }
      ]
    },
    {
      "cell_type": "markdown",
      "source": [
        "32 - Quantos clientes distintos temos na região metropolitana de São Paulo?"
      ],
      "metadata": {
        "id": "WJFhSgq2Hco8"
      }
    },
    {
      "cell_type": "code",
      "source": [
        "metropol = [\"sao paulo\",\"aruja\",\"biritiba mirim\",\"caieiras\",\"cajamar\",\"carapicuiba\",\"cotia\",\"diadema\",\"embu\",\"embu guacu\",\"ferraz de vasconcelos \",\"francisco morato\",\n",
        "            \"franco da rocha\",\"guararema\",\"guarulhos\",\"itapecerica da serra\",\"itapevi\",\"itaquaquecetuba\",\"jandira\",\"juquitiba\",\"mairipora\",\"maua\",\"mogi das cruzes\",\n",
        "            \"osasco\",\"pirapora do bom jesus\",\"poa\",\"ribeirao pires\",\"rio grande da serra\",\"salesopolis\",\"santa isabel\",\"santana do parnaiba\",\"santo andre\",\"sao bernardo do campo\",\n",
        "            \"sao caetano do sul\",\"sao lourenco da serra\",\"suzano\",\"taboao da serra\",\"vargem grande paulista\"]"
      ],
      "metadata": {
        "id": "-wKRYuxzG61n"
      },
      "execution_count": 41,
      "outputs": []
    },
    {
      "cell_type": "code",
      "source": [
        "olist[olist['customer_city'].isin(metropol)].groupby(\"customer_city\").agg({\"customer_unique_id\":(pd.Series.count)})"
      ],
      "metadata": {
        "colab": {
          "base_uri": "https://localhost:8080/",
          "height": 1000
        },
        "id": "ThRZIau4KTkO",
        "outputId": "e6787a05-4620-4126-c848-41e493ad4ff5"
      },
      "execution_count": 42,
      "outputs": [
        {
          "output_type": "execute_result",
          "data": {
            "text/plain": [
              "                        customer_unique_id\n",
              "customer_city                             \n",
              "aruja                                   78\n",
              "caieiras                               107\n",
              "cajamar                                121\n",
              "carapicuiba                            393\n",
              "cotia                                  284\n",
              "diadema                                349\n",
              "embu                                    16\n",
              "francisco morato                       111\n",
              "franco da rocha                        119\n",
              "guararema                               11\n",
              "guarulhos                             1386\n",
              "itapecerica da serra                   109\n",
              "itapevi                                197\n",
              "itaquaquecetuba                        182\n",
              "jandira                                104\n",
              "juquitiba                               26\n",
              "mairipora                               84\n",
              "maua                                   353\n",
              "mogi das cruzes                        475\n",
              "osasco                                 893\n",
              "pirapora do bom jesus                   19\n",
              "poa                                    107\n",
              "ribeirao pires                         123\n",
              "rio grande da serra                     27\n",
              "salesopolis                             12\n",
              "santa isabel                            34\n",
              "santo andre                            913\n",
              "sao bernardo do campo                 1119\n",
              "sao caetano do sul                     307\n",
              "sao lourenco da serra                   15\n",
              "sao paulo                            18579\n",
              "suzano                                 287\n",
              "taboao da serra                        348\n",
              "vargem grande paulista                  51"
            ],
            "text/html": [
              "\n",
              "  <div id=\"df-14d5aef3-9dd5-4d8a-8c72-944bdb016464\">\n",
              "    <div class=\"colab-df-container\">\n",
              "      <div>\n",
              "<style scoped>\n",
              "    .dataframe tbody tr th:only-of-type {\n",
              "        vertical-align: middle;\n",
              "    }\n",
              "\n",
              "    .dataframe tbody tr th {\n",
              "        vertical-align: top;\n",
              "    }\n",
              "\n",
              "    .dataframe thead th {\n",
              "        text-align: right;\n",
              "    }\n",
              "</style>\n",
              "<table border=\"1\" class=\"dataframe\">\n",
              "  <thead>\n",
              "    <tr style=\"text-align: right;\">\n",
              "      <th></th>\n",
              "      <th>customer_unique_id</th>\n",
              "    </tr>\n",
              "    <tr>\n",
              "      <th>customer_city</th>\n",
              "      <th></th>\n",
              "    </tr>\n",
              "  </thead>\n",
              "  <tbody>\n",
              "    <tr>\n",
              "      <th>aruja</th>\n",
              "      <td>78</td>\n",
              "    </tr>\n",
              "    <tr>\n",
              "      <th>caieiras</th>\n",
              "      <td>107</td>\n",
              "    </tr>\n",
              "    <tr>\n",
              "      <th>cajamar</th>\n",
              "      <td>121</td>\n",
              "    </tr>\n",
              "    <tr>\n",
              "      <th>carapicuiba</th>\n",
              "      <td>393</td>\n",
              "    </tr>\n",
              "    <tr>\n",
              "      <th>cotia</th>\n",
              "      <td>284</td>\n",
              "    </tr>\n",
              "    <tr>\n",
              "      <th>diadema</th>\n",
              "      <td>349</td>\n",
              "    </tr>\n",
              "    <tr>\n",
              "      <th>embu</th>\n",
              "      <td>16</td>\n",
              "    </tr>\n",
              "    <tr>\n",
              "      <th>francisco morato</th>\n",
              "      <td>111</td>\n",
              "    </tr>\n",
              "    <tr>\n",
              "      <th>franco da rocha</th>\n",
              "      <td>119</td>\n",
              "    </tr>\n",
              "    <tr>\n",
              "      <th>guararema</th>\n",
              "      <td>11</td>\n",
              "    </tr>\n",
              "    <tr>\n",
              "      <th>guarulhos</th>\n",
              "      <td>1386</td>\n",
              "    </tr>\n",
              "    <tr>\n",
              "      <th>itapecerica da serra</th>\n",
              "      <td>109</td>\n",
              "    </tr>\n",
              "    <tr>\n",
              "      <th>itapevi</th>\n",
              "      <td>197</td>\n",
              "    </tr>\n",
              "    <tr>\n",
              "      <th>itaquaquecetuba</th>\n",
              "      <td>182</td>\n",
              "    </tr>\n",
              "    <tr>\n",
              "      <th>jandira</th>\n",
              "      <td>104</td>\n",
              "    </tr>\n",
              "    <tr>\n",
              "      <th>juquitiba</th>\n",
              "      <td>26</td>\n",
              "    </tr>\n",
              "    <tr>\n",
              "      <th>mairipora</th>\n",
              "      <td>84</td>\n",
              "    </tr>\n",
              "    <tr>\n",
              "      <th>maua</th>\n",
              "      <td>353</td>\n",
              "    </tr>\n",
              "    <tr>\n",
              "      <th>mogi das cruzes</th>\n",
              "      <td>475</td>\n",
              "    </tr>\n",
              "    <tr>\n",
              "      <th>osasco</th>\n",
              "      <td>893</td>\n",
              "    </tr>\n",
              "    <tr>\n",
              "      <th>pirapora do bom jesus</th>\n",
              "      <td>19</td>\n",
              "    </tr>\n",
              "    <tr>\n",
              "      <th>poa</th>\n",
              "      <td>107</td>\n",
              "    </tr>\n",
              "    <tr>\n",
              "      <th>ribeirao pires</th>\n",
              "      <td>123</td>\n",
              "    </tr>\n",
              "    <tr>\n",
              "      <th>rio grande da serra</th>\n",
              "      <td>27</td>\n",
              "    </tr>\n",
              "    <tr>\n",
              "      <th>salesopolis</th>\n",
              "      <td>12</td>\n",
              "    </tr>\n",
              "    <tr>\n",
              "      <th>santa isabel</th>\n",
              "      <td>34</td>\n",
              "    </tr>\n",
              "    <tr>\n",
              "      <th>santo andre</th>\n",
              "      <td>913</td>\n",
              "    </tr>\n",
              "    <tr>\n",
              "      <th>sao bernardo do campo</th>\n",
              "      <td>1119</td>\n",
              "    </tr>\n",
              "    <tr>\n",
              "      <th>sao caetano do sul</th>\n",
              "      <td>307</td>\n",
              "    </tr>\n",
              "    <tr>\n",
              "      <th>sao lourenco da serra</th>\n",
              "      <td>15</td>\n",
              "    </tr>\n",
              "    <tr>\n",
              "      <th>sao paulo</th>\n",
              "      <td>18579</td>\n",
              "    </tr>\n",
              "    <tr>\n",
              "      <th>suzano</th>\n",
              "      <td>287</td>\n",
              "    </tr>\n",
              "    <tr>\n",
              "      <th>taboao da serra</th>\n",
              "      <td>348</td>\n",
              "    </tr>\n",
              "    <tr>\n",
              "      <th>vargem grande paulista</th>\n",
              "      <td>51</td>\n",
              "    </tr>\n",
              "  </tbody>\n",
              "</table>\n",
              "</div>\n",
              "      <button class=\"colab-df-convert\" onclick=\"convertToInteractive('df-14d5aef3-9dd5-4d8a-8c72-944bdb016464')\"\n",
              "              title=\"Convert this dataframe to an interactive table.\"\n",
              "              style=\"display:none;\">\n",
              "        \n",
              "  <svg xmlns=\"http://www.w3.org/2000/svg\" height=\"24px\"viewBox=\"0 0 24 24\"\n",
              "       width=\"24px\">\n",
              "    <path d=\"M0 0h24v24H0V0z\" fill=\"none\"/>\n",
              "    <path d=\"M18.56 5.44l.94 2.06.94-2.06 2.06-.94-2.06-.94-.94-2.06-.94 2.06-2.06.94zm-11 1L8.5 8.5l.94-2.06 2.06-.94-2.06-.94L8.5 2.5l-.94 2.06-2.06.94zm10 10l.94 2.06.94-2.06 2.06-.94-2.06-.94-.94-2.06-.94 2.06-2.06.94z\"/><path d=\"M17.41 7.96l-1.37-1.37c-.4-.4-.92-.59-1.43-.59-.52 0-1.04.2-1.43.59L10.3 9.45l-7.72 7.72c-.78.78-.78 2.05 0 2.83L4 21.41c.39.39.9.59 1.41.59.51 0 1.02-.2 1.41-.59l7.78-7.78 2.81-2.81c.8-.78.8-2.07 0-2.86zM5.41 20L4 18.59l7.72-7.72 1.47 1.35L5.41 20z\"/>\n",
              "  </svg>\n",
              "      </button>\n",
              "      \n",
              "  <style>\n",
              "    .colab-df-container {\n",
              "      display:flex;\n",
              "      flex-wrap:wrap;\n",
              "      gap: 12px;\n",
              "    }\n",
              "\n",
              "    .colab-df-convert {\n",
              "      background-color: #E8F0FE;\n",
              "      border: none;\n",
              "      border-radius: 50%;\n",
              "      cursor: pointer;\n",
              "      display: none;\n",
              "      fill: #1967D2;\n",
              "      height: 32px;\n",
              "      padding: 0 0 0 0;\n",
              "      width: 32px;\n",
              "    }\n",
              "\n",
              "    .colab-df-convert:hover {\n",
              "      background-color: #E2EBFA;\n",
              "      box-shadow: 0px 1px 2px rgba(60, 64, 67, 0.3), 0px 1px 3px 1px rgba(60, 64, 67, 0.15);\n",
              "      fill: #174EA6;\n",
              "    }\n",
              "\n",
              "    [theme=dark] .colab-df-convert {\n",
              "      background-color: #3B4455;\n",
              "      fill: #D2E3FC;\n",
              "    }\n",
              "\n",
              "    [theme=dark] .colab-df-convert:hover {\n",
              "      background-color: #434B5C;\n",
              "      box-shadow: 0px 1px 3px 1px rgba(0, 0, 0, 0.15);\n",
              "      filter: drop-shadow(0px 1px 2px rgba(0, 0, 0, 0.3));\n",
              "      fill: #FFFFFF;\n",
              "    }\n",
              "  </style>\n",
              "\n",
              "      <script>\n",
              "        const buttonEl =\n",
              "          document.querySelector('#df-14d5aef3-9dd5-4d8a-8c72-944bdb016464 button.colab-df-convert');\n",
              "        buttonEl.style.display =\n",
              "          google.colab.kernel.accessAllowed ? 'block' : 'none';\n",
              "\n",
              "        async function convertToInteractive(key) {\n",
              "          const element = document.querySelector('#df-14d5aef3-9dd5-4d8a-8c72-944bdb016464');\n",
              "          const dataTable =\n",
              "            await google.colab.kernel.invokeFunction('convertToInteractive',\n",
              "                                                     [key], {});\n",
              "          if (!dataTable) return;\n",
              "\n",
              "          const docLinkHtml = 'Like what you see? Visit the ' +\n",
              "            '<a target=\"_blank\" href=https://colab.research.google.com/notebooks/data_table.ipynb>data table notebook</a>'\n",
              "            + ' to learn more about interactive tables.';\n",
              "          element.innerHTML = '';\n",
              "          dataTable['output_type'] = 'display_data';\n",
              "          await google.colab.output.renderOutput(dataTable, element);\n",
              "          const docLink = document.createElement('div');\n",
              "          docLink.innerHTML = docLinkHtml;\n",
              "          element.appendChild(docLink);\n",
              "        }\n",
              "      </script>\n",
              "    </div>\n",
              "  </div>\n",
              "  "
            ]
          },
          "metadata": {},
          "execution_count": 42
        }
      ]
    },
    {
      "cell_type": "code",
      "source": [
        "olist[olist['customer_city'].isin(metropol)].groupby(\"customer_city\").agg({\"customer_unique_id\":(pd.Series.count)}).sum()"
      ],
      "metadata": {
        "colab": {
          "base_uri": "https://localhost:8080/"
        },
        "id": "tcEIOq3EKvLf",
        "outputId": "bf1c63ee-70f0-4349-e933-15d21dc7b87f"
      },
      "execution_count": 43,
      "outputs": [
        {
          "output_type": "execute_result",
          "data": {
            "text/plain": [
              "customer_unique_id    27339\n",
              "dtype: int64"
            ]
          },
          "metadata": {},
          "execution_count": 43
        }
      ]
    },
    {
      "cell_type": "markdown",
      "source": [
        "33 - Qual a média de valor, por estado, que os clientes atribuem aos vendedores?"
      ],
      "metadata": {
        "id": "56xd8aCwMZm3"
      }
    },
    {
      "cell_type": "code",
      "source": [
        "olist.groupby(\"customer_state\").agg({\"review_score\":[\"mean\"]})"
      ],
      "metadata": {
        "colab": {
          "base_uri": "https://localhost:8080/",
          "height": 959
        },
        "id": "tOJ_DkkLMgSn",
        "outputId": "97e7e4f0-d3f9-4329-fb82-d26e7d5e717b"
      },
      "execution_count": 44,
      "outputs": [
        {
          "output_type": "execute_result",
          "data": {
            "text/plain": [
              "               review_score\n",
              "                       mean\n",
              "customer_state             \n",
              "AC                 4.094737\n",
              "AL                 3.716157\n",
              "AM                 4.082353\n",
              "AP                 4.240964\n",
              "BA                 3.819840\n",
              "CE                 3.829316\n",
              "DF                 3.999563\n",
              "ES                 3.983139\n",
              "GO                 3.986290\n",
              "MA                 3.694875\n",
              "MG                 4.086138\n",
              "MS                 4.076112\n",
              "MT                 3.901257\n",
              "PA                 3.795268\n",
              "PB                 3.998405\n",
              "PE                 3.965278\n",
              "PI                 3.849558\n",
              "PR                 4.105095\n",
              "RJ                 3.812389\n",
              "RN                 4.051418\n",
              "RO                 4.028269\n",
              "RR                 3.576923\n",
              "RS                 4.040264\n",
              "SC                 4.003035\n",
              "SE                 3.829949\n",
              "SP                 4.127247\n",
              "TO                 4.139466"
            ],
            "text/html": [
              "\n",
              "  <div id=\"df-2ad17a47-bca7-44b8-98b6-16c9ee2713bd\">\n",
              "    <div class=\"colab-df-container\">\n",
              "      <div>\n",
              "<style scoped>\n",
              "    .dataframe tbody tr th:only-of-type {\n",
              "        vertical-align: middle;\n",
              "    }\n",
              "\n",
              "    .dataframe tbody tr th {\n",
              "        vertical-align: top;\n",
              "    }\n",
              "\n",
              "    .dataframe thead tr th {\n",
              "        text-align: left;\n",
              "    }\n",
              "\n",
              "    .dataframe thead tr:last-of-type th {\n",
              "        text-align: right;\n",
              "    }\n",
              "</style>\n",
              "<table border=\"1\" class=\"dataframe\">\n",
              "  <thead>\n",
              "    <tr>\n",
              "      <th></th>\n",
              "      <th>review_score</th>\n",
              "    </tr>\n",
              "    <tr>\n",
              "      <th></th>\n",
              "      <th>mean</th>\n",
              "    </tr>\n",
              "    <tr>\n",
              "      <th>customer_state</th>\n",
              "      <th></th>\n",
              "    </tr>\n",
              "  </thead>\n",
              "  <tbody>\n",
              "    <tr>\n",
              "      <th>AC</th>\n",
              "      <td>4.094737</td>\n",
              "    </tr>\n",
              "    <tr>\n",
              "      <th>AL</th>\n",
              "      <td>3.716157</td>\n",
              "    </tr>\n",
              "    <tr>\n",
              "      <th>AM</th>\n",
              "      <td>4.082353</td>\n",
              "    </tr>\n",
              "    <tr>\n",
              "      <th>AP</th>\n",
              "      <td>4.240964</td>\n",
              "    </tr>\n",
              "    <tr>\n",
              "      <th>BA</th>\n",
              "      <td>3.819840</td>\n",
              "    </tr>\n",
              "    <tr>\n",
              "      <th>CE</th>\n",
              "      <td>3.829316</td>\n",
              "    </tr>\n",
              "    <tr>\n",
              "      <th>DF</th>\n",
              "      <td>3.999563</td>\n",
              "    </tr>\n",
              "    <tr>\n",
              "      <th>ES</th>\n",
              "      <td>3.983139</td>\n",
              "    </tr>\n",
              "    <tr>\n",
              "      <th>GO</th>\n",
              "      <td>3.986290</td>\n",
              "    </tr>\n",
              "    <tr>\n",
              "      <th>MA</th>\n",
              "      <td>3.694875</td>\n",
              "    </tr>\n",
              "    <tr>\n",
              "      <th>MG</th>\n",
              "      <td>4.086138</td>\n",
              "    </tr>\n",
              "    <tr>\n",
              "      <th>MS</th>\n",
              "      <td>4.076112</td>\n",
              "    </tr>\n",
              "    <tr>\n",
              "      <th>MT</th>\n",
              "      <td>3.901257</td>\n",
              "    </tr>\n",
              "    <tr>\n",
              "      <th>PA</th>\n",
              "      <td>3.795268</td>\n",
              "    </tr>\n",
              "    <tr>\n",
              "      <th>PB</th>\n",
              "      <td>3.998405</td>\n",
              "    </tr>\n",
              "    <tr>\n",
              "      <th>PE</th>\n",
              "      <td>3.965278</td>\n",
              "    </tr>\n",
              "    <tr>\n",
              "      <th>PI</th>\n",
              "      <td>3.849558</td>\n",
              "    </tr>\n",
              "    <tr>\n",
              "      <th>PR</th>\n",
              "      <td>4.105095</td>\n",
              "    </tr>\n",
              "    <tr>\n",
              "      <th>RJ</th>\n",
              "      <td>3.812389</td>\n",
              "    </tr>\n",
              "    <tr>\n",
              "      <th>RN</th>\n",
              "      <td>4.051418</td>\n",
              "    </tr>\n",
              "    <tr>\n",
              "      <th>RO</th>\n",
              "      <td>4.028269</td>\n",
              "    </tr>\n",
              "    <tr>\n",
              "      <th>RR</th>\n",
              "      <td>3.576923</td>\n",
              "    </tr>\n",
              "    <tr>\n",
              "      <th>RS</th>\n",
              "      <td>4.040264</td>\n",
              "    </tr>\n",
              "    <tr>\n",
              "      <th>SC</th>\n",
              "      <td>4.003035</td>\n",
              "    </tr>\n",
              "    <tr>\n",
              "      <th>SE</th>\n",
              "      <td>3.829949</td>\n",
              "    </tr>\n",
              "    <tr>\n",
              "      <th>SP</th>\n",
              "      <td>4.127247</td>\n",
              "    </tr>\n",
              "    <tr>\n",
              "      <th>TO</th>\n",
              "      <td>4.139466</td>\n",
              "    </tr>\n",
              "  </tbody>\n",
              "</table>\n",
              "</div>\n",
              "      <button class=\"colab-df-convert\" onclick=\"convertToInteractive('df-2ad17a47-bca7-44b8-98b6-16c9ee2713bd')\"\n",
              "              title=\"Convert this dataframe to an interactive table.\"\n",
              "              style=\"display:none;\">\n",
              "        \n",
              "  <svg xmlns=\"http://www.w3.org/2000/svg\" height=\"24px\"viewBox=\"0 0 24 24\"\n",
              "       width=\"24px\">\n",
              "    <path d=\"M0 0h24v24H0V0z\" fill=\"none\"/>\n",
              "    <path d=\"M18.56 5.44l.94 2.06.94-2.06 2.06-.94-2.06-.94-.94-2.06-.94 2.06-2.06.94zm-11 1L8.5 8.5l.94-2.06 2.06-.94-2.06-.94L8.5 2.5l-.94 2.06-2.06.94zm10 10l.94 2.06.94-2.06 2.06-.94-2.06-.94-.94-2.06-.94 2.06-2.06.94z\"/><path d=\"M17.41 7.96l-1.37-1.37c-.4-.4-.92-.59-1.43-.59-.52 0-1.04.2-1.43.59L10.3 9.45l-7.72 7.72c-.78.78-.78 2.05 0 2.83L4 21.41c.39.39.9.59 1.41.59.51 0 1.02-.2 1.41-.59l7.78-7.78 2.81-2.81c.8-.78.8-2.07 0-2.86zM5.41 20L4 18.59l7.72-7.72 1.47 1.35L5.41 20z\"/>\n",
              "  </svg>\n",
              "      </button>\n",
              "      \n",
              "  <style>\n",
              "    .colab-df-container {\n",
              "      display:flex;\n",
              "      flex-wrap:wrap;\n",
              "      gap: 12px;\n",
              "    }\n",
              "\n",
              "    .colab-df-convert {\n",
              "      background-color: #E8F0FE;\n",
              "      border: none;\n",
              "      border-radius: 50%;\n",
              "      cursor: pointer;\n",
              "      display: none;\n",
              "      fill: #1967D2;\n",
              "      height: 32px;\n",
              "      padding: 0 0 0 0;\n",
              "      width: 32px;\n",
              "    }\n",
              "\n",
              "    .colab-df-convert:hover {\n",
              "      background-color: #E2EBFA;\n",
              "      box-shadow: 0px 1px 2px rgba(60, 64, 67, 0.3), 0px 1px 3px 1px rgba(60, 64, 67, 0.15);\n",
              "      fill: #174EA6;\n",
              "    }\n",
              "\n",
              "    [theme=dark] .colab-df-convert {\n",
              "      background-color: #3B4455;\n",
              "      fill: #D2E3FC;\n",
              "    }\n",
              "\n",
              "    [theme=dark] .colab-df-convert:hover {\n",
              "      background-color: #434B5C;\n",
              "      box-shadow: 0px 1px 3px 1px rgba(0, 0, 0, 0.15);\n",
              "      filter: drop-shadow(0px 1px 2px rgba(0, 0, 0, 0.3));\n",
              "      fill: #FFFFFF;\n",
              "    }\n",
              "  </style>\n",
              "\n",
              "      <script>\n",
              "        const buttonEl =\n",
              "          document.querySelector('#df-2ad17a47-bca7-44b8-98b6-16c9ee2713bd button.colab-df-convert');\n",
              "        buttonEl.style.display =\n",
              "          google.colab.kernel.accessAllowed ? 'block' : 'none';\n",
              "\n",
              "        async function convertToInteractive(key) {\n",
              "          const element = document.querySelector('#df-2ad17a47-bca7-44b8-98b6-16c9ee2713bd');\n",
              "          const dataTable =\n",
              "            await google.colab.kernel.invokeFunction('convertToInteractive',\n",
              "                                                     [key], {});\n",
              "          if (!dataTable) return;\n",
              "\n",
              "          const docLinkHtml = 'Like what you see? Visit the ' +\n",
              "            '<a target=\"_blank\" href=https://colab.research.google.com/notebooks/data_table.ipynb>data table notebook</a>'\n",
              "            + ' to learn more about interactive tables.';\n",
              "          element.innerHTML = '';\n",
              "          dataTable['output_type'] = 'display_data';\n",
              "          await google.colab.output.renderOutput(dataTable, element);\n",
              "          const docLink = document.createElement('div');\n",
              "          docLink.innerHTML = docLinkHtml;\n",
              "          element.appendChild(docLink);\n",
              "        }\n",
              "      </script>\n",
              "    </div>\n",
              "  </div>\n",
              "  "
            ]
          },
          "metadata": {},
          "execution_count": 44
        }
      ]
    },
    {
      "cell_type": "markdown",
      "source": [
        "34 - Qual o valor médio de frete cobrado por estado?"
      ],
      "metadata": {
        "id": "0NzziyNmO2Xk"
      }
    },
    {
      "cell_type": "code",
      "source": [
        "olist.groupby(\"customer_state\").agg({\"freight_value\":[\"mean\"]})"
      ],
      "metadata": {
        "colab": {
          "base_uri": "https://localhost:8080/",
          "height": 959
        },
        "id": "gezSXCJhO7BW",
        "outputId": "88862d02-b64e-453a-d184-41cb8cc5a137"
      },
      "execution_count": 45,
      "outputs": [
        {
          "output_type": "execute_result",
          "data": {
            "text/plain": [
              "               freight_value\n",
              "                        mean\n",
              "customer_state              \n",
              "AC                 40.021684\n",
              "AL                 35.588668\n",
              "AM                 33.118765\n",
              "AP                 34.200120\n",
              "BA                 26.338441\n",
              "CE                 32.515818\n",
              "DF                 21.093036\n",
              "ES                 21.919131\n",
              "GO                 22.839834\n",
              "MA                 38.272324\n",
              "MG                 20.592677\n",
              "MS                 23.333103\n",
              "MT                 29.012720\n",
              "PA                 35.633776\n",
              "PB                 43.295614\n",
              "PE                 32.780705\n",
              "PI                 39.308920\n",
              "PR                 20.611507\n",
              "RJ                 21.082480\n",
              "RN                 35.143582\n",
              "RO                 41.074099\n",
              "RR                 42.984423\n",
              "RS                 21.811365\n",
              "SC                 21.401539\n",
              "SE                 36.144873\n",
              "SP                 15.196904\n",
              "TO                 39.777537"
            ],
            "text/html": [
              "\n",
              "  <div id=\"df-60c034c9-7a24-44f4-8363-b6a0a01e886f\">\n",
              "    <div class=\"colab-df-container\">\n",
              "      <div>\n",
              "<style scoped>\n",
              "    .dataframe tbody tr th:only-of-type {\n",
              "        vertical-align: middle;\n",
              "    }\n",
              "\n",
              "    .dataframe tbody tr th {\n",
              "        vertical-align: top;\n",
              "    }\n",
              "\n",
              "    .dataframe thead tr th {\n",
              "        text-align: left;\n",
              "    }\n",
              "\n",
              "    .dataframe thead tr:last-of-type th {\n",
              "        text-align: right;\n",
              "    }\n",
              "</style>\n",
              "<table border=\"1\" class=\"dataframe\">\n",
              "  <thead>\n",
              "    <tr>\n",
              "      <th></th>\n",
              "      <th>freight_value</th>\n",
              "    </tr>\n",
              "    <tr>\n",
              "      <th></th>\n",
              "      <th>mean</th>\n",
              "    </tr>\n",
              "    <tr>\n",
              "      <th>customer_state</th>\n",
              "      <th></th>\n",
              "    </tr>\n",
              "  </thead>\n",
              "  <tbody>\n",
              "    <tr>\n",
              "      <th>AC</th>\n",
              "      <td>40.021684</td>\n",
              "    </tr>\n",
              "    <tr>\n",
              "      <th>AL</th>\n",
              "      <td>35.588668</td>\n",
              "    </tr>\n",
              "    <tr>\n",
              "      <th>AM</th>\n",
              "      <td>33.118765</td>\n",
              "    </tr>\n",
              "    <tr>\n",
              "      <th>AP</th>\n",
              "      <td>34.200120</td>\n",
              "    </tr>\n",
              "    <tr>\n",
              "      <th>BA</th>\n",
              "      <td>26.338441</td>\n",
              "    </tr>\n",
              "    <tr>\n",
              "      <th>CE</th>\n",
              "      <td>32.515818</td>\n",
              "    </tr>\n",
              "    <tr>\n",
              "      <th>DF</th>\n",
              "      <td>21.093036</td>\n",
              "    </tr>\n",
              "    <tr>\n",
              "      <th>ES</th>\n",
              "      <td>21.919131</td>\n",
              "    </tr>\n",
              "    <tr>\n",
              "      <th>GO</th>\n",
              "      <td>22.839834</td>\n",
              "    </tr>\n",
              "    <tr>\n",
              "      <th>MA</th>\n",
              "      <td>38.272324</td>\n",
              "    </tr>\n",
              "    <tr>\n",
              "      <th>MG</th>\n",
              "      <td>20.592677</td>\n",
              "    </tr>\n",
              "    <tr>\n",
              "      <th>MS</th>\n",
              "      <td>23.333103</td>\n",
              "    </tr>\n",
              "    <tr>\n",
              "      <th>MT</th>\n",
              "      <td>29.012720</td>\n",
              "    </tr>\n",
              "    <tr>\n",
              "      <th>PA</th>\n",
              "      <td>35.633776</td>\n",
              "    </tr>\n",
              "    <tr>\n",
              "      <th>PB</th>\n",
              "      <td>43.295614</td>\n",
              "    </tr>\n",
              "    <tr>\n",
              "      <th>PE</th>\n",
              "      <td>32.780705</td>\n",
              "    </tr>\n",
              "    <tr>\n",
              "      <th>PI</th>\n",
              "      <td>39.308920</td>\n",
              "    </tr>\n",
              "    <tr>\n",
              "      <th>PR</th>\n",
              "      <td>20.611507</td>\n",
              "    </tr>\n",
              "    <tr>\n",
              "      <th>RJ</th>\n",
              "      <td>21.082480</td>\n",
              "    </tr>\n",
              "    <tr>\n",
              "      <th>RN</th>\n",
              "      <td>35.143582</td>\n",
              "    </tr>\n",
              "    <tr>\n",
              "      <th>RO</th>\n",
              "      <td>41.074099</td>\n",
              "    </tr>\n",
              "    <tr>\n",
              "      <th>RR</th>\n",
              "      <td>42.984423</td>\n",
              "    </tr>\n",
              "    <tr>\n",
              "      <th>RS</th>\n",
              "      <td>21.811365</td>\n",
              "    </tr>\n",
              "    <tr>\n",
              "      <th>SC</th>\n",
              "      <td>21.401539</td>\n",
              "    </tr>\n",
              "    <tr>\n",
              "      <th>SE</th>\n",
              "      <td>36.144873</td>\n",
              "    </tr>\n",
              "    <tr>\n",
              "      <th>SP</th>\n",
              "      <td>15.196904</td>\n",
              "    </tr>\n",
              "    <tr>\n",
              "      <th>TO</th>\n",
              "      <td>39.777537</td>\n",
              "    </tr>\n",
              "  </tbody>\n",
              "</table>\n",
              "</div>\n",
              "      <button class=\"colab-df-convert\" onclick=\"convertToInteractive('df-60c034c9-7a24-44f4-8363-b6a0a01e886f')\"\n",
              "              title=\"Convert this dataframe to an interactive table.\"\n",
              "              style=\"display:none;\">\n",
              "        \n",
              "  <svg xmlns=\"http://www.w3.org/2000/svg\" height=\"24px\"viewBox=\"0 0 24 24\"\n",
              "       width=\"24px\">\n",
              "    <path d=\"M0 0h24v24H0V0z\" fill=\"none\"/>\n",
              "    <path d=\"M18.56 5.44l.94 2.06.94-2.06 2.06-.94-2.06-.94-.94-2.06-.94 2.06-2.06.94zm-11 1L8.5 8.5l.94-2.06 2.06-.94-2.06-.94L8.5 2.5l-.94 2.06-2.06.94zm10 10l.94 2.06.94-2.06 2.06-.94-2.06-.94-.94-2.06-.94 2.06-2.06.94z\"/><path d=\"M17.41 7.96l-1.37-1.37c-.4-.4-.92-.59-1.43-.59-.52 0-1.04.2-1.43.59L10.3 9.45l-7.72 7.72c-.78.78-.78 2.05 0 2.83L4 21.41c.39.39.9.59 1.41.59.51 0 1.02-.2 1.41-.59l7.78-7.78 2.81-2.81c.8-.78.8-2.07 0-2.86zM5.41 20L4 18.59l7.72-7.72 1.47 1.35L5.41 20z\"/>\n",
              "  </svg>\n",
              "      </button>\n",
              "      \n",
              "  <style>\n",
              "    .colab-df-container {\n",
              "      display:flex;\n",
              "      flex-wrap:wrap;\n",
              "      gap: 12px;\n",
              "    }\n",
              "\n",
              "    .colab-df-convert {\n",
              "      background-color: #E8F0FE;\n",
              "      border: none;\n",
              "      border-radius: 50%;\n",
              "      cursor: pointer;\n",
              "      display: none;\n",
              "      fill: #1967D2;\n",
              "      height: 32px;\n",
              "      padding: 0 0 0 0;\n",
              "      width: 32px;\n",
              "    }\n",
              "\n",
              "    .colab-df-convert:hover {\n",
              "      background-color: #E2EBFA;\n",
              "      box-shadow: 0px 1px 2px rgba(60, 64, 67, 0.3), 0px 1px 3px 1px rgba(60, 64, 67, 0.15);\n",
              "      fill: #174EA6;\n",
              "    }\n",
              "\n",
              "    [theme=dark] .colab-df-convert {\n",
              "      background-color: #3B4455;\n",
              "      fill: #D2E3FC;\n",
              "    }\n",
              "\n",
              "    [theme=dark] .colab-df-convert:hover {\n",
              "      background-color: #434B5C;\n",
              "      box-shadow: 0px 1px 3px 1px rgba(0, 0, 0, 0.15);\n",
              "      filter: drop-shadow(0px 1px 2px rgba(0, 0, 0, 0.3));\n",
              "      fill: #FFFFFF;\n",
              "    }\n",
              "  </style>\n",
              "\n",
              "      <script>\n",
              "        const buttonEl =\n",
              "          document.querySelector('#df-60c034c9-7a24-44f4-8363-b6a0a01e886f button.colab-df-convert');\n",
              "        buttonEl.style.display =\n",
              "          google.colab.kernel.accessAllowed ? 'block' : 'none';\n",
              "\n",
              "        async function convertToInteractive(key) {\n",
              "          const element = document.querySelector('#df-60c034c9-7a24-44f4-8363-b6a0a01e886f');\n",
              "          const dataTable =\n",
              "            await google.colab.kernel.invokeFunction('convertToInteractive',\n",
              "                                                     [key], {});\n",
              "          if (!dataTable) return;\n",
              "\n",
              "          const docLinkHtml = 'Like what you see? Visit the ' +\n",
              "            '<a target=\"_blank\" href=https://colab.research.google.com/notebooks/data_table.ipynb>data table notebook</a>'\n",
              "            + ' to learn more about interactive tables.';\n",
              "          element.innerHTML = '';\n",
              "          dataTable['output_type'] = 'display_data';\n",
              "          await google.colab.output.renderOutput(dataTable, element);\n",
              "          const docLink = document.createElement('div');\n",
              "          docLink.innerHTML = docLinkHtml;\n",
              "          element.appendChild(docLink);\n",
              "        }\n",
              "      </script>\n",
              "    </div>\n",
              "  </div>\n",
              "  "
            ]
          },
          "metadata": {},
          "execution_count": 45
        }
      ]
    },
    {
      "cell_type": "markdown",
      "source": [
        "35 - Trace um histograma de preços divididos em 4 quantis."
      ],
      "metadata": {
        "id": "GTUAdLP5Pl4l"
      }
    },
    {
      "cell_type": "code",
      "source": [
        "sns.set_style('whitegrid')\n",
        "olist['price'].plot(kind='hist')"
      ],
      "metadata": {
        "colab": {
          "base_uri": "https://localhost:8080/",
          "height": 286
        },
        "id": "zoNcPnmgbXSz",
        "outputId": "2ec7b114-3e13-4ff2-936a-b1c9073686ae"
      },
      "execution_count": 62,
      "outputs": [
        {
          "output_type": "execute_result",
          "data": {
            "text/plain": [
              "<matplotlib.axes._subplots.AxesSubplot at 0x7f696a374750>"
            ]
          },
          "metadata": {},
          "execution_count": 62
        },
        {
          "output_type": "display_data",
          "data": {
            "text/plain": [
              "<Figure size 432x288 with 1 Axes>"
            ],
            "image/png": "[encoded data removed]"
          },
          "metadata": {}
        }
      ]
    },
    {
      "cell_type": "code",
      "source": [
        "q = olist.quantile([0.00, 0.25, 0.50, 0.75, 1.00])\n",
        "\n",
        "col = \"price\"\n",
        "\n",
        "q1 = olist[((olist[col]>=q[col][0.00]) & (olist[col]<q[col][0.25]))]\n",
        "q2 = olist[((olist[col]>=q[col][0.25]) & (olist[col]<q[col][0.50]))]\n",
        "q3 = olist[((olist[col]>=q[col][0.50]) & (olist[col]<q[col][0.75]))]\n",
        "q4 = olist[((olist[col]>=q[col][0.75]) & (olist[col]<=q[col][1.00]))]\n",
        "   "
      ],
      "metadata": {
        "id": "HM2C387rWSg3"
      },
      "execution_count": 46,
      "outputs": []
    },
    {
      "cell_type": "code",
      "source": [
        "sns.set_style('whitegrid')\n",
        "q1['price'].plot(kind='hist')\n"
      ],
      "metadata": {
        "colab": {
          "base_uri": "https://localhost:8080/",
          "height": 283
        },
        "id": "QuJDAbZLbvI-",
        "outputId": "157e36c7-7983-4561-f258-8e58cdbd5104"
      },
      "execution_count": 66,
      "outputs": [
        {
          "output_type": "execute_result",
          "data": {
            "text/plain": [
              "<matplotlib.axes._subplots.AxesSubplot at 0x7f696b5efbd0>"
            ]
          },
          "metadata": {},
          "execution_count": 66
        },
        {
          "output_type": "display_data",
          "data": {
            "text/plain": [
              "<Figure size 432x288 with 1 Axes>"
            ],
            "image/png": "[encoded data removed]"
          },
          "metadata": {}
        }
      ]
    },
    {
      "cell_type": "markdown",
      "source": [
        "36 - Trace um histograma de preços divididos em 10 quantis."
      ],
      "metadata": {
        "id": "wxRu-PMuVIBi"
      }
    },
    {
      "cell_type": "code",
      "source": [
        "q_2 = olist.quantile([0.00, 0.10, 0.20, 0.30, 0.40, 0.50,0.60,0.70,0.80,0.9,1.00])\n",
        "\n",
        "col = \"price\"\n",
        "\n",
        "q1_10 = olist[((olist[col]>=q_2[col][0.00]) & (olist[col]<q_2[col][0.10]))]\n",
        "q2_10 = olist[((olist[col]>=q_2[col][0.10]) & (olist[col]<q_2[col][0.20]))]\n",
        "q3_10 = olist[((olist[col]>=q_2[col][0.20]) & (olist[col]<q_2[col][0.30]))]\n",
        "q4_10 = olist[((olist[col]>=q_2[col][0.30]) & (olist[col]<q_2[col][0.40]))]\n",
        "q5_10 = olist[((olist[col]>=q_2[col][0.40]) & (olist[col]<q_2[col][0.50]))]\n",
        "q6_10 = olist[((olist[col]>=q_2[col][0.50]) & (olist[col]<q_2[col][0.60]))]\n",
        "q7_10 = olist[((olist[col]>=q_2[col][0.60]) & (olist[col]<q_2[col][0.70]))]\n",
        "q8_10 = olist[((olist[col]>=q_2[col][0.70]) & (olist[col]<q_2[col][0.80]))]\n",
        "q9_10 = olist[((olist[col]>=q_2[col][0.80]) & (olist[col]<q_2[col][0.90]))]\n",
        "q10_10 = olist[((olist[col]>=q_2[col][0.90]) & (olist[col]<=q_2[col][1.00]))]"
      ],
      "metadata": {
        "id": "24oBKmXCVLce"
      },
      "execution_count": 59,
      "outputs": []
    },
    {
      "cell_type": "code",
      "source": [
        "pd.cut(olist['price'], bins=10).value_counts()"
      ],
      "metadata": {
        "colab": {
          "base_uri": "https://localhost:8080/"
        },
        "id": "lc5K0GFFaQG6",
        "outputId": "2fd58d7c-8d40-4255-85dc-087a5e3353cc"
      },
      "execution_count": 61,
      "outputs": [
        {
          "output_type": "execute_result",
          "data": {
            "text/plain": [
              "(-5.884, 674.265]      114952\n",
              "(674.265, 1347.68]       1586\n",
              "(1347.68, 2021.095]       344\n",
              "(2021.095, 2694.51]        79\n",
              "(2694.51, 3367.925]        28\n",
              "(3367.925, 4041.34]        12\n",
              "(4041.34, 4714.755]         5\n",
              "(6061.585, 6735.0]          2\n",
              "(4714.755, 5388.17]         1\n",
              "(5388.17, 6061.585]         0\n",
              "Name: price, dtype: int64"
            ]
          },
          "metadata": {},
          "execution_count": 61
        }
      ]
    },
    {
      "cell_type": "markdown",
      "source": [
        "37 - Qual a porcentagem de vendas é feita no estado de São Paulo e estão no primeiro quartil?"
      ],
      "metadata": {
        "id": "huhmxk1xgSGl"
      }
    },
    {
      "cell_type": "code",
      "source": [
        "q4.customer_state.value_counts().loc[\"SP\"]/q4.customer_state.value_counts().sum()"
      ],
      "metadata": {
        "id": "KQvn901SgU2n",
        "outputId": "94ab8623-cd39-49d3-915f-9a53df4d1508",
        "colab": {
          "base_uri": "https://localhost:8080/"
        }
      },
      "execution_count": 94,
      "outputs": [
        {
          "output_type": "execute_result",
          "data": {
            "text/plain": [
              "0.3781446540880503"
            ]
          },
          "metadata": {},
          "execution_count": 94
        }
      ]
    },
    {
      "cell_type": "code",
      "source": [
        "q4.customer_state.value_counts().sum()"
      ],
      "metadata": {
        "id": "61fpo-Msk7XS",
        "outputId": "c94cd459-79b7-486d-b45f-19443cf01381",
        "colab": {
          "base_uri": "https://localhost:8080/"
        }
      },
      "execution_count": 95,
      "outputs": [
        {
          "output_type": "execute_result",
          "data": {
            "text/plain": [
              "29256"
            ]
          },
          "metadata": {},
          "execution_count": 95
        }
      ]
    },
    {
      "cell_type": "code",
      "source": [
        "q4.shape[0]"
      ],
      "metadata": {
        "id": "xSvoV1UVm-lU",
        "outputId": "ea1fcd57-1048-46e9-cb06-84f783e85956",
        "colab": {
          "base_uri": "https://localhost:8080/"
        }
      },
      "execution_count": 96,
      "outputs": [
        {
          "output_type": "execute_result",
          "data": {
            "text/plain": [
              "29256"
            ]
          },
          "metadata": {},
          "execution_count": 96
        }
      ]
    },
    {
      "cell_type": "markdown",
      "source": [
        "38 - Qual o valor médio das compras no primeiro quantil?"
      ],
      "metadata": {
        "id": "iTRf_9W7nZHw"
      }
    },
    {
      "cell_type": "code",
      "source": [
        "q10_10.price.mean()"
      ],
      "metadata": {
        "id": "M7B1JpxLnFhj",
        "outputId": "9a6872b5-50ad-4627-dddc-6e7927e4934c",
        "colab": {
          "base_uri": "https://localhost:8080/"
        }
      },
      "execution_count": 98,
      "outputs": [
        {
          "output_type": "execute_result",
          "data": {
            "text/plain": [
              "492.7094412644169"
            ]
          },
          "metadata": {},
          "execution_count": 98
        }
      ]
    },
    {
      "cell_type": "code",
      "source": [
        "q10_10.price.describe()"
      ],
      "metadata": {
        "id": "AaZGMTLBn2G1",
        "outputId": "f914fae2-11a3-40b0-bc86-5d700b3feb5f",
        "colab": {
          "base_uri": "https://localhost:8080/"
        }
      },
      "execution_count": 99,
      "outputs": [
        {
          "output_type": "execute_result",
          "data": {
            "text/plain": [
              "count    11705.000000\n",
              "mean       492.709441\n",
              "std        395.414581\n",
              "min        229.800000\n",
              "25%        276.990000\n",
              "50%        349.900000\n",
              "75%        557.000000\n",
              "max       6735.000000\n",
              "Name: price, dtype: float64"
            ]
          },
          "metadata": {},
          "execution_count": 99
        }
      ]
    },
    {
      "cell_type": "markdown",
      "source": [
        "39 - Considerando uma base de 6.000.000 de clientes na Olist, qual a quantidade de clientes no primeiro\n",
        "quartil e de São Paulo podemos atingir?"
      ],
      "metadata": {
        "id": "OdZLIgPyoVve"
      }
    },
    {
      "cell_type": "code",
      "source": [
        "q4[q4['customer_state'].str.match('SP')]"
      ],
      "metadata": {
        "id": "NAZIlhnKoJtN",
        "outputId": "3a5a7aed-272f-47ea-b95a-c021ce8a66ad",
        "colab": {
          "base_uri": "https://localhost:8080/",
          "height": 661
        }
      },
      "execution_count": 105,
      "outputs": [
        {
          "output_type": "execute_result",
          "data": {
            "text/plain": [
              "                                order_id                       customer_id  \\\n",
              "117     b7cae694c780d4c511f348d882008f63  f789ba37b1655d236b536758e073e0fb   \n",
              "118     389d774b02ed5ffc37b29fc4c81d3039  e52d98453f1fe98cdd0f5911639b2f60   \n",
              "119     389d774b02ed5ffc37b29fc4c81d3039  e52d98453f1fe98cdd0f5911639b2f60   \n",
              "122     34a9a98676d240a885b690f92ef1b430  ee5d17d6f2cc680e2a43b6751e6ac93e   \n",
              "123     76e6542b3b2d6035b0f3948b43f0b9a2  dd00eabc317d5ac9f5d989df09a03fae   \n",
              "...                                  ...                               ...   \n",
              "117002  3ab2e0cca7a7831b28bb1bcff404f6c7  ed0deda10666afaa99bf30119f929ae3   \n",
              "117003  04132c02a610a19773963143ba1b5bb4  3b5c800065fd3c35d15b2906c706c6f5   \n",
              "117004  c31010ef2672e6bae06cf6e265b98138  aa8fe6fdddb25648793aab5b07e5f73d   \n",
              "117005  5c533da06d7dfe10d9d44dbcc8bdbc6b  1285e7456591a89200ad22c4015c09ea   \n",
              "117007  80ba449ea98f8e879a829759b5a66294  0e07a801a6729369c02b88f4d38388cb   \n",
              "\n",
              "       order_status order_purchase_timestamp   order_approved_at  \\\n",
              "117       delivered      2017-11-24 01:27:23 2017-11-24 01:38:47   \n",
              "118       delivered      2018-03-20 21:35:54 2018-03-20 21:48:47   \n",
              "119       delivered      2018-03-20 21:35:54 2018-03-20 21:48:47   \n",
              "122       delivered      2018-02-04 15:29:34 2018-02-05 11:35:48   \n",
              "123       delivered      2018-03-13 21:45:52 2018-03-13 23:00:27   \n",
              "...             ...                      ...                 ...   \n",
              "117002    delivered      2018-07-14 17:52:26 2018-07-14 18:15:23   \n",
              "117003    delivered      2017-10-04 09:13:51 2017-10-05 09:24:20   \n",
              "117004    delivered      2017-02-17 03:09:22 2017-02-17 03:15:08   \n",
              "117005    delivered      2017-07-02 13:10:36 2017-07-02 13:25:09   \n",
              "117007    delivered      2018-02-25 17:37:45 2018-02-25 17:50:41   \n",
              "\n",
              "       order_delivered_carrier_date order_delivered_customer_date  \\\n",
              "117             2017-11-24 17:19:11           2017-11-26 12:14:01   \n",
              "118             2018-03-21 18:42:18           2018-04-02 20:51:35   \n",
              "119             2018-03-21 18:42:18           2018-04-02 20:51:35   \n",
              "122             2018-02-06 19:26:47           2018-02-19 22:57:07   \n",
              "123             2018-03-14 16:56:31           2018-03-16 01:28:56   \n",
              "...                             ...                           ...   \n",
              "117002          2018-07-17 06:42:00           2018-07-26 20:52:31   \n",
              "117003          2017-10-05 20:32:33           2017-10-23 19:34:40   \n",
              "117004          2017-02-17 07:29:02           2017-02-20 14:44:16   \n",
              "117005          2017-07-07 17:39:39           2017-07-26 22:53:20   \n",
              "117007          2018-02-28 20:43:49           2018-03-12 17:08:41   \n",
              "\n",
              "       order_estimated_delivery_date                customer_unique_id  \\\n",
              "117                       2017-12-08  c7a85bbfa63de62bdcb866b0f4fd8b13   \n",
              "118                       2018-04-09  19eb98b740ded18a924cd34a65f23a37   \n",
              "119                       2018-04-09  19eb98b740ded18a924cd34a65f23a37   \n",
              "122                       2018-03-01  74d1a8720681a24813147f548b68a81f   \n",
              "123                       2018-03-23  f93183366f3053e0c10a540d4ed6440f   \n",
              "...                              ...                               ...   \n",
              "117002                    2018-08-13  f415ac637291d7774a3bf274b8b33fd0   \n",
              "117003                    2017-11-03  5ede9beb1608cb450626b3c83db9f8ec   \n",
              "117004                    2017-03-23  677b375226f001908487de4d5055a3a6   \n",
              "117005                    2017-08-02  a1644581211b1c1d4933064a411ad7de   \n",
              "117007                    2018-03-27  34f2ec40e13a7f433b8ef0aa77426e77   \n",
              "\n",
              "        zip_code  ...                         review_id review_score  \\\n",
              "117         5271  ...  2c2336c09f22effea8e67880fe4fc229            5   \n",
              "118        31255  ...  18a73e67ccfd7c8c328db6bf5f5b06b6            5   \n",
              "119        31255  ...  18a73e67ccfd7c8c328db6bf5f5b06b6            5   \n",
              "122        17013  ...  06606a6595a76cc6860c1835cbcc1d12            5   \n",
              "123        13310  ...  facb425b8afadd812c620be5850b3d5a            5   \n",
              "...          ...  ...                               ...          ...   \n",
              "117002     63400  ...  7481e10999d999c6b8c8fca479ea3eda            5   \n",
              "117003     64890  ...  343245219e79d4a891496a3fd1c6e73e            5   \n",
              "117004      2139  ...  985712b8bbf67627e2592745d19c24a1            5   \n",
              "117005     62051  ...  e8d6f69b240b9c7310274696fd31972f            5   \n",
              "117007     72813  ...  4c3a0a71949616a4e151dc0b6cf46813            5   \n",
              "\n",
              "        review_comment_title  \\\n",
              "117                      NaN   \n",
              "118                      NaN   \n",
              "119                      NaN   \n",
              "122                      NaN   \n",
              "123                      NaN   \n",
              "...                      ...   \n",
              "117002                   NaN   \n",
              "117003                   NaN   \n",
              "117004                   NaN   \n",
              "117005                   NaN   \n",
              "117007                   NaN   \n",
              "\n",
              "                                   review_comment_message  \\\n",
              "117                                                   NaN   \n",
              "118                                                   NaN   \n",
              "119                                                   NaN   \n",
              "122                                                   NaN   \n",
              "123                                                   NaN   \n",
              "...                                                   ...   \n",
              "117002                                                NaN   \n",
              "117003                                             gostei   \n",
              "117004                                                NaN   \n",
              "117005  A aminha esposa amou o produto \\r\\nSuper recom...   \n",
              "117007                                                NaN   \n",
              "\n",
              "        review_creation_date review_answer_timestamp  delta_approval  \\\n",
              "117      2017-11-27 00:00:00     2017-11-29 14:51:24 0 days 00:11:24   \n",
              "118      2018-04-03 00:00:00     2018-04-04 00:53:51 0 days 00:12:53   \n",
              "119      2018-04-03 00:00:00     2018-04-04 00:53:51 0 days 00:12:53   \n",
              "122      2018-02-20 00:00:00     2018-02-21 04:02:24 0 days 20:06:14   \n",
              "123      2018-03-17 00:00:00     2018-03-17 11:16:24 0 days 01:14:35   \n",
              "...                      ...                     ...             ...   \n",
              "117002   2018-07-27 00:00:00     2018-07-30 19:32:55 0 days 00:22:57   \n",
              "117003   2017-10-24 00:00:00     2017-10-25 10:23:39 1 days 00:10:29   \n",
              "117004   2017-02-21 00:00:00     2017-02-25 13:20:31 0 days 00:05:46   \n",
              "117005   2017-07-29 00:00:00     2017-07-29 13:18:15 0 days 00:14:33   \n",
              "117007   2018-03-13 00:00:00     2018-03-13 20:53:09 0 days 00:12:56   \n",
              "\n",
              "         delta_delivery     delta_forecast      period  \n",
              "117     2 days 10:46:38 -12 days +12:14:01  Late Night  \n",
              "118    12 days 23:15:41  -7 days +20:51:35       Night  \n",
              "119    12 days 23:15:41  -7 days +20:51:35       Night  \n",
              "122    15 days 07:27:33 -10 days +22:57:07        Noon  \n",
              "123     2 days 03:43:04  -7 days +01:28:56       Night  \n",
              "...                 ...                ...         ...  \n",
              "117002 12 days 03:00:05 -18 days +20:52:31     Evening  \n",
              "117003 19 days 10:20:49 -11 days +19:34:40     Morning  \n",
              "117004  3 days 11:34:54 -31 days +14:44:16  Late Night  \n",
              "117005 24 days 09:42:44  -7 days +22:53:20        Noon  \n",
              "117007 14 days 23:30:56 -15 days +17:08:41     Evening  \n",
              "\n",
              "[29256 rows x 45 columns]"
            ],
            "text/html": [
              "\n",
              "  <div id=\"df-25abaa83-5e9b-48bc-9c1f-f7614043e2e6\">\n",
              "    <div class=\"colab-df-container\">\n",
              "      <div>\n",
              "<style scoped>\n",
              "    .dataframe tbody tr th:only-of-type {\n",
              "        vertical-align: middle;\n",
              "    }\n",
              "\n",
              "    .dataframe tbody tr th {\n",
              "        vertical-align: top;\n",
              "    }\n",
              "\n",
              "    .dataframe thead th {\n",
              "        text-align: right;\n",
              "    }\n",
              "</style>\n",
              "<table border=\"1\" class=\"dataframe\">\n",
              "  <thead>\n",
              "    <tr style=\"text-align: right;\">\n",
              "      <th></th>\n",
              "      <th>order_id</th>\n",
              "      <th>customer_id</th>\n",
              "      <th>order_status</th>\n",
              "      <th>order_purchase_timestamp</th>\n",
              "      <th>order_approved_at</th>\n",
              "      <th>order_delivered_carrier_date</th>\n",
              "      <th>order_delivered_customer_date</th>\n",
              "      <th>order_estimated_delivery_date</th>\n",
              "      <th>customer_unique_id</th>\n",
              "      <th>zip_code</th>\n",
              "      <th>...</th>\n",
              "      <th>review_id</th>\n",
              "      <th>review_score</th>\n",
              "      <th>review_comment_title</th>\n",
              "      <th>review_comment_message</th>\n",
              "      <th>review_creation_date</th>\n",
              "      <th>review_answer_timestamp</th>\n",
              "      <th>delta_approval</th>\n",
              "      <th>delta_delivery</th>\n",
              "      <th>delta_forecast</th>\n",
              "      <th>period</th>\n",
              "    </tr>\n",
              "  </thead>\n",
              "  <tbody>\n",
              "    <tr>\n",
              "      <th>117</th>\n",
              "      <td>b7cae694c780d4c511f348d882008f63</td>\n",
              "      <td>f789ba37b1655d236b536758e073e0fb</td>\n",
              "      <td>delivered</td>\n",
              "      <td>2017-11-24 01:27:23</td>\n",
              "      <td>2017-11-24 01:38:47</td>\n",
              "      <td>2017-11-24 17:19:11</td>\n",
              "      <td>2017-11-26 12:14:01</td>\n",
              "      <td>2017-12-08</td>\n",
              "      <td>c7a85bbfa63de62bdcb866b0f4fd8b13</td>\n",
              "      <td>5271</td>\n",
              "      <td>...</td>\n",
              "      <td>2c2336c09f22effea8e67880fe4fc229</td>\n",
              "      <td>5</td>\n",
              "      <td>NaN</td>\n",
              "      <td>NaN</td>\n",
              "      <td>2017-11-27 00:00:00</td>\n",
              "      <td>2017-11-29 14:51:24</td>\n",
              "      <td>0 days 00:11:24</td>\n",
              "      <td>2 days 10:46:38</td>\n",
              "      <td>-12 days +12:14:01</td>\n",
              "      <td>Late Night</td>\n",
              "    </tr>\n",
              "    <tr>\n",
              "      <th>118</th>\n",
              "      <td>389d774b02ed5ffc37b29fc4c81d3039</td>\n",
              "      <td>e52d98453f1fe98cdd0f5911639b2f60</td>\n",
              "      <td>delivered</td>\n",
              "      <td>2018-03-20 21:35:54</td>\n",
              "      <td>2018-03-20 21:48:47</td>\n",
              "      <td>2018-03-21 18:42:18</td>\n",
              "      <td>2018-04-02 20:51:35</td>\n",
              "      <td>2018-04-09</td>\n",
              "      <td>19eb98b740ded18a924cd34a65f23a37</td>\n",
              "      <td>31255</td>\n",
              "      <td>...</td>\n",
              "      <td>18a73e67ccfd7c8c328db6bf5f5b06b6</td>\n",
              "      <td>5</td>\n",
              "      <td>NaN</td>\n",
              "      <td>NaN</td>\n",
              "      <td>2018-04-03 00:00:00</td>\n",
              "      <td>2018-04-04 00:53:51</td>\n",
              "      <td>0 days 00:12:53</td>\n",
              "      <td>12 days 23:15:41</td>\n",
              "      <td>-7 days +20:51:35</td>\n",
              "      <td>Night</td>\n",
              "    </tr>\n",
              "    <tr>\n",
              "      <th>119</th>\n",
              "      <td>389d774b02ed5ffc37b29fc4c81d3039</td>\n",
              "      <td>e52d98453f1fe98cdd0f5911639b2f60</td>\n",
              "      <td>delivered</td>\n",
              "      <td>2018-03-20 21:35:54</td>\n",
              "      <td>2018-03-20 21:48:47</td>\n",
              "      <td>2018-03-21 18:42:18</td>\n",
              "      <td>2018-04-02 20:51:35</td>\n",
              "      <td>2018-04-09</td>\n",
              "      <td>19eb98b740ded18a924cd34a65f23a37</td>\n",
              "      <td>31255</td>\n",
              "      <td>...</td>\n",
              "      <td>18a73e67ccfd7c8c328db6bf5f5b06b6</td>\n",
              "      <td>5</td>\n",
              "      <td>NaN</td>\n",
              "      <td>NaN</td>\n",
              "      <td>2018-04-03 00:00:00</td>\n",
              "      <td>2018-04-04 00:53:51</td>\n",
              "      <td>0 days 00:12:53</td>\n",
              "      <td>12 days 23:15:41</td>\n",
              "      <td>-7 days +20:51:35</td>\n",
              "      <td>Night</td>\n",
              "    </tr>\n",
              "    <tr>\n",
              "      <th>122</th>\n",
              "      <td>34a9a98676d240a885b690f92ef1b430</td>\n",
              "      <td>ee5d17d6f2cc680e2a43b6751e6ac93e</td>\n",
              "      <td>delivered</td>\n",
              "      <td>2018-02-04 15:29:34</td>\n",
              "      <td>2018-02-05 11:35:48</td>\n",
              "      <td>2018-02-06 19:26:47</td>\n",
              "      <td>2018-02-19 22:57:07</td>\n",
              "      <td>2018-03-01</td>\n",
              "      <td>74d1a8720681a24813147f548b68a81f</td>\n",
              "      <td>17013</td>\n",
              "      <td>...</td>\n",
              "      <td>06606a6595a76cc6860c1835cbcc1d12</td>\n",
              "      <td>5</td>\n",
              "      <td>NaN</td>\n",
              "      <td>NaN</td>\n",
              "      <td>2018-02-20 00:00:00</td>\n",
              "      <td>2018-02-21 04:02:24</td>\n",
              "      <td>0 days 20:06:14</td>\n",
              "      <td>15 days 07:27:33</td>\n",
              "      <td>-10 days +22:57:07</td>\n",
              "      <td>Noon</td>\n",
              "    </tr>\n",
              "    <tr>\n",
              "      <th>123</th>\n",
              "      <td>76e6542b3b2d6035b0f3948b43f0b9a2</td>\n",
              "      <td>dd00eabc317d5ac9f5d989df09a03fae</td>\n",
              "      <td>delivered</td>\n",
              "      <td>2018-03-13 21:45:52</td>\n",
              "      <td>2018-03-13 23:00:27</td>\n",
              "      <td>2018-03-14 16:56:31</td>\n",
              "      <td>2018-03-16 01:28:56</td>\n",
              "      <td>2018-03-23</td>\n",
              "      <td>f93183366f3053e0c10a540d4ed6440f</td>\n",
              "      <td>13310</td>\n",
              "      <td>...</td>\n",
              "      <td>facb425b8afadd812c620be5850b3d5a</td>\n",
              "      <td>5</td>\n",
              "      <td>NaN</td>\n",
              "      <td>NaN</td>\n",
              "      <td>2018-03-17 00:00:00</td>\n",
              "      <td>2018-03-17 11:16:24</td>\n",
              "      <td>0 days 01:14:35</td>\n",
              "      <td>2 days 03:43:04</td>\n",
              "      <td>-7 days +01:28:56</td>\n",
              "      <td>Night</td>\n",
              "    </tr>\n",
              "    <tr>\n",
              "      <th>...</th>\n",
              "      <td>...</td>\n",
              "      <td>...</td>\n",
              "      <td>...</td>\n",
              "      <td>...</td>\n",
              "      <td>...</td>\n",
              "      <td>...</td>\n",
              "      <td>...</td>\n",
              "      <td>...</td>\n",
              "      <td>...</td>\n",
              "      <td>...</td>\n",
              "      <td>...</td>\n",
              "      <td>...</td>\n",
              "      <td>...</td>\n",
              "      <td>...</td>\n",
              "      <td>...</td>\n",
              "      <td>...</td>\n",
              "      <td>...</td>\n",
              "      <td>...</td>\n",
              "      <td>...</td>\n",
              "      <td>...</td>\n",
              "      <td>...</td>\n",
              "    </tr>\n",
              "    <tr>\n",
              "      <th>117002</th>\n",
              "      <td>3ab2e0cca7a7831b28bb1bcff404f6c7</td>\n",
              "      <td>ed0deda10666afaa99bf30119f929ae3</td>\n",
              "      <td>delivered</td>\n",
              "      <td>2018-07-14 17:52:26</td>\n",
              "      <td>2018-07-14 18:15:23</td>\n",
              "      <td>2018-07-17 06:42:00</td>\n",
              "      <td>2018-07-26 20:52:31</td>\n",
              "      <td>2018-08-13</td>\n",
              "      <td>f415ac637291d7774a3bf274b8b33fd0</td>\n",
              "      <td>63400</td>\n",
              "      <td>...</td>\n",
              "      <td>7481e10999d999c6b8c8fca479ea3eda</td>\n",
              "      <td>5</td>\n",
              "      <td>NaN</td>\n",
              "      <td>NaN</td>\n",
              "      <td>2018-07-27 00:00:00</td>\n",
              "      <td>2018-07-30 19:32:55</td>\n",
              "      <td>0 days 00:22:57</td>\n",
              "      <td>12 days 03:00:05</td>\n",
              "      <td>-18 days +20:52:31</td>\n",
              "      <td>Evening</td>\n",
              "    </tr>\n",
              "    <tr>\n",
              "      <th>117003</th>\n",
              "      <td>04132c02a610a19773963143ba1b5bb4</td>\n",
              "      <td>3b5c800065fd3c35d15b2906c706c6f5</td>\n",
              "      <td>delivered</td>\n",
              "      <td>2017-10-04 09:13:51</td>\n",
              "      <td>2017-10-05 09:24:20</td>\n",
              "      <td>2017-10-05 20:32:33</td>\n",
              "      <td>2017-10-23 19:34:40</td>\n",
              "      <td>2017-11-03</td>\n",
              "      <td>5ede9beb1608cb450626b3c83db9f8ec</td>\n",
              "      <td>64890</td>\n",
              "      <td>...</td>\n",
              "      <td>343245219e79d4a891496a3fd1c6e73e</td>\n",
              "      <td>5</td>\n",
              "      <td>NaN</td>\n",
              "      <td>gostei</td>\n",
              "      <td>2017-10-24 00:00:00</td>\n",
              "      <td>2017-10-25 10:23:39</td>\n",
              "      <td>1 days 00:10:29</td>\n",
              "      <td>19 days 10:20:49</td>\n",
              "      <td>-11 days +19:34:40</td>\n",
              "      <td>Morning</td>\n",
              "    </tr>\n",
              "    <tr>\n",
              "      <th>117004</th>\n",
              "      <td>c31010ef2672e6bae06cf6e265b98138</td>\n",
              "      <td>aa8fe6fdddb25648793aab5b07e5f73d</td>\n",
              "      <td>delivered</td>\n",
              "      <td>2017-02-17 03:09:22</td>\n",
              "      <td>2017-02-17 03:15:08</td>\n",
              "      <td>2017-02-17 07:29:02</td>\n",
              "      <td>2017-02-20 14:44:16</td>\n",
              "      <td>2017-03-23</td>\n",
              "      <td>677b375226f001908487de4d5055a3a6</td>\n",
              "      <td>2139</td>\n",
              "      <td>...</td>\n",
              "      <td>985712b8bbf67627e2592745d19c24a1</td>\n",
              "      <td>5</td>\n",
              "      <td>NaN</td>\n",
              "      <td>NaN</td>\n",
              "      <td>2017-02-21 00:00:00</td>\n",
              "      <td>2017-02-25 13:20:31</td>\n",
              "      <td>0 days 00:05:46</td>\n",
              "      <td>3 days 11:34:54</td>\n",
              "      <td>-31 days +14:44:16</td>\n",
              "      <td>Late Night</td>\n",
              "    </tr>\n",
              "    <tr>\n",
              "      <th>117005</th>\n",
              "      <td>5c533da06d7dfe10d9d44dbcc8bdbc6b</td>\n",
              "      <td>1285e7456591a89200ad22c4015c09ea</td>\n",
              "      <td>delivered</td>\n",
              "      <td>2017-07-02 13:10:36</td>\n",
              "      <td>2017-07-02 13:25:09</td>\n",
              "      <td>2017-07-07 17:39:39</td>\n",
              "      <td>2017-07-26 22:53:20</td>\n",
              "      <td>2017-08-02</td>\n",
              "      <td>a1644581211b1c1d4933064a411ad7de</td>\n",
              "      <td>62051</td>\n",
              "      <td>...</td>\n",
              "      <td>e8d6f69b240b9c7310274696fd31972f</td>\n",
              "      <td>5</td>\n",
              "      <td>NaN</td>\n",
              "      <td>A aminha esposa amou o produto \\r\\nSuper recom...</td>\n",
              "      <td>2017-07-29 00:00:00</td>\n",
              "      <td>2017-07-29 13:18:15</td>\n",
              "      <td>0 days 00:14:33</td>\n",
              "      <td>24 days 09:42:44</td>\n",
              "      <td>-7 days +22:53:20</td>\n",
              "      <td>Noon</td>\n",
              "    </tr>\n",
              "    <tr>\n",
              "      <th>117007</th>\n",
              "      <td>80ba449ea98f8e879a829759b5a66294</td>\n",
              "      <td>0e07a801a6729369c02b88f4d38388cb</td>\n",
              "      <td>delivered</td>\n",
              "      <td>2018-02-25 17:37:45</td>\n",
              "      <td>2018-02-25 17:50:41</td>\n",
              "      <td>2018-02-28 20:43:49</td>\n",
              "      <td>2018-03-12 17:08:41</td>\n",
              "      <td>2018-03-27</td>\n",
              "      <td>34f2ec40e13a7f433b8ef0aa77426e77</td>\n",
              "      <td>72813</td>\n",
              "      <td>...</td>\n",
              "      <td>4c3a0a71949616a4e151dc0b6cf46813</td>\n",
              "      <td>5</td>\n",
              "      <td>NaN</td>\n",
              "      <td>NaN</td>\n",
              "      <td>2018-03-13 00:00:00</td>\n",
              "      <td>2018-03-13 20:53:09</td>\n",
              "      <td>0 days 00:12:56</td>\n",
              "      <td>14 days 23:30:56</td>\n",
              "      <td>-15 days +17:08:41</td>\n",
              "      <td>Evening</td>\n",
              "    </tr>\n",
              "  </tbody>\n",
              "</table>\n",
              "<p>29256 rows × 45 columns</p>\n",
              "</div>\n",
              "      <button class=\"colab-df-convert\" onclick=\"convertToInteractive('df-25abaa83-5e9b-48bc-9c1f-f7614043e2e6')\"\n",
              "              title=\"Convert this dataframe to an interactive table.\"\n",
              "              style=\"display:none;\">\n",
              "        \n",
              "  <svg xmlns=\"http://www.w3.org/2000/svg\" height=\"24px\"viewBox=\"0 0 24 24\"\n",
              "       width=\"24px\">\n",
              "    <path d=\"M0 0h24v24H0V0z\" fill=\"none\"/>\n",
              "    <path d=\"M18.56 5.44l.94 2.06.94-2.06 2.06-.94-2.06-.94-.94-2.06-.94 2.06-2.06.94zm-11 1L8.5 8.5l.94-2.06 2.06-.94-2.06-.94L8.5 2.5l-.94 2.06-2.06.94zm10 10l.94 2.06.94-2.06 2.06-.94-2.06-.94-.94-2.06-.94 2.06-2.06.94z\"/><path d=\"M17.41 7.96l-1.37-1.37c-.4-.4-.92-.59-1.43-.59-.52 0-1.04.2-1.43.59L10.3 9.45l-7.72 7.72c-.78.78-.78 2.05 0 2.83L4 21.41c.39.39.9.59 1.41.59.51 0 1.02-.2 1.41-.59l7.78-7.78 2.81-2.81c.8-.78.8-2.07 0-2.86zM5.41 20L4 18.59l7.72-7.72 1.47 1.35L5.41 20z\"/>\n",
              "  </svg>\n",
              "      </button>\n",
              "      \n",
              "  <style>\n",
              "    .colab-df-container {\n",
              "      display:flex;\n",
              "      flex-wrap:wrap;\n",
              "      gap: 12px;\n",
              "    }\n",
              "\n",
              "    .colab-df-convert {\n",
              "      background-color: #E8F0FE;\n",
              "      border: none;\n",
              "      border-radius: 50%;\n",
              "      cursor: pointer;\n",
              "      display: none;\n",
              "      fill: #1967D2;\n",
              "      height: 32px;\n",
              "      padding: 0 0 0 0;\n",
              "      width: 32px;\n",
              "    }\n",
              "\n",
              "    .colab-df-convert:hover {\n",
              "      background-color: #E2EBFA;\n",
              "      box-shadow: 0px 1px 2px rgba(60, 64, 67, 0.3), 0px 1px 3px 1px rgba(60, 64, 67, 0.15);\n",
              "      fill: #174EA6;\n",
              "    }\n",
              "\n",
              "    [theme=dark] .colab-df-convert {\n",
              "      background-color: #3B4455;\n",
              "      fill: #D2E3FC;\n",
              "    }\n",
              "\n",
              "    [theme=dark] .colab-df-convert:hover {\n",
              "      background-color: #434B5C;\n",
              "      box-shadow: 0px 1px 3px 1px rgba(0, 0, 0, 0.15);\n",
              "      filter: drop-shadow(0px 1px 2px rgba(0, 0, 0, 0.3));\n",
              "      fill: #FFFFFF;\n",
              "    }\n",
              "  </style>\n",
              "\n",
              "      <script>\n",
              "        const buttonEl =\n",
              "          document.querySelector('#df-25abaa83-5e9b-48bc-9c1f-f7614043e2e6 button.colab-df-convert');\n",
              "        buttonEl.style.display =\n",
              "          google.colab.kernel.accessAllowed ? 'block' : 'none';\n",
              "\n",
              "        async function convertToInteractive(key) {\n",
              "          const element = document.querySelector('#df-25abaa83-5e9b-48bc-9c1f-f7614043e2e6');\n",
              "          const dataTable =\n",
              "            await google.colab.kernel.invokeFunction('convertToInteractive',\n",
              "                                                     [key], {});\n",
              "          if (!dataTable) return;\n",
              "\n",
              "          const docLinkHtml = 'Like what you see? Visit the ' +\n",
              "            '<a target=\"_blank\" href=https://colab.research.google.com/notebooks/data_table.ipynb>data table notebook</a>'\n",
              "            + ' to learn more about interactive tables.';\n",
              "          element.innerHTML = '';\n",
              "          dataTable['output_type'] = 'display_data';\n",
              "          await google.colab.output.renderOutput(dataTable, element);\n",
              "          const docLink = document.createElement('div');\n",
              "          docLink.innerHTML = docLinkHtml;\n",
              "          element.appendChild(docLink);\n",
              "        }\n",
              "      </script>\n",
              "    </div>\n",
              "  </div>\n",
              "  "
            ]
          },
          "metadata": {},
          "execution_count": 105
        }
      ]
    },
    {
      "cell_type": "code",
      "source": [
        "q4.groupby(\"customer_state\").agg({\"customer_unique_id\",[\"count\"]})"
      ],
      "metadata": {
        "id": "S1pXhK1vpOjO",
        "outputId": "1a159a10-a629-42b4-ce7b-086f0ba6dd2c",
        "colab": {
          "base_uri": "https://localhost:8080/",
          "height": 169
        }
      },
      "execution_count": 106,
      "outputs": [
        {
          "output_type": "error",
          "ename": "TypeError",
          "evalue": "ignored",
          "traceback": [
            "\u001b[0;31m---------------------------------------------------------------------------\u001b[0m",
            "\u001b[0;31mTypeError\u001b[0m                                 Traceback (most recent call last)",
            "\u001b[0;32m<ipython-input-106-82daad846f92>\u001b[0m in \u001b[0;36m<module>\u001b[0;34m\u001b[0m\n\u001b[0;32m----> 1\u001b[0;31m \u001b[0mq4\u001b[0m\u001b[0;34m.\u001b[0m\u001b[0mgroupby\u001b[0m\u001b[0;34m(\u001b[0m\u001b[0;34m\"customer_state\"\u001b[0m\u001b[0;34m)\u001b[0m\u001b[0;34m.\u001b[0m\u001b[0magg\u001b[0m\u001b[0;34m(\u001b[0m\u001b[0;34m{\u001b[0m\u001b[0;34m\"customer_unique_id\"\u001b[0m\u001b[0;34m,\u001b[0m\u001b[0;34m[\u001b[0m\u001b[0;34m\"count\"\u001b[0m\u001b[0;34m]\u001b[0m\u001b[0;34m}\u001b[0m\u001b[0;34m)\u001b[0m\u001b[0;34m\u001b[0m\u001b[0;34m\u001b[0m\u001b[0m\n\u001b[0m",
            "\u001b[0;31mTypeError\u001b[0m: unhashable type: 'list'"
          ]
        }
      ]
    },
    {
      "cell_type": "code",
      "source": [
        ""
      ],
      "metadata": {
        "id": "1l6IKkSKrHU7"
      },
      "execution_count": null,
      "outputs": []
    }
  ]
}