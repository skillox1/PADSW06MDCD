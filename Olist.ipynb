{
  "nbformat": 4,
  "nbformat_minor": 0,
  "metadata": {
    "colab": {
      "name": "Untitled2.ipynb",
      "provenance": [],
      "authorship_tag": "ABX9TyPYFJE8FiesGfTd96WpIsUi",
      "include_colab_link": true
    },
    "kernelspec": {
      "name": "python3",
      "display_name": "Python 3"
    },
    "language_info": {
      "name": "python"
    }
  },
  "cells": [
    {
      "cell_type": "markdown",
      "metadata": {
        "id": "view-in-github",
        "colab_type": "text"
      },
      "source": [
        "<a href=\"https://colab.research.google.com/github/skillox1/PADSW06MDCD/blob/main/Olist.ipynb\" target=\"_parent\"><img src=\"https://colab.research.google.com/assets/colab-badge.svg\" alt=\"Open In Colab\"/></a>"
      ]
    },
    {
      "cell_type": "code",
      "execution_count": null,
      "metadata": {
        "id": "aP67lSUkIlmd"
      },
      "outputs": [],
      "source": [
        "## Base de Dados Olist"
      ]
    },
    {
      "cell_type": "code",
      "source": [
        "import pandas as pd"
      ],
      "metadata": {
        "id": "ciyO4-CAIqc6"
      },
      "execution_count": 1,
      "outputs": []
    },
    {
      "cell_type": "code",
      "source": [
        "import zipfile"
      ],
      "metadata": {
        "id": "y-7vswFJaM5t"
      },
      "execution_count": 5,
      "outputs": []
    },
    {
      "cell_type": "code",
      "source": [
        "zf = zipfile.ZipFile('/content/archive.zip') \n",
        "df_orders = pd.read_csv(zf.open('olist_orders_dataset.csv'))\n",
        "df_order_items = pd.read_csv(zf.open('olist_order_items_dataset.csv'))\n",
        "df_customers = pd.read_csv(zf.open('olist_customers_dataset.csv'))\n",
        "df_sellers = pd.read_csv(zf.open('olist_sellers_dataset.csv'))\n",
        "df_products = pd.read_csv(zf.open('olist_products_dataset.csv'))\n",
        "df_order_payments = pd.read_csv(zf.open('olist_order_payments_dataset.csv'))\n",
        "df_order_reviews = pd.read_csv(zf.open('olist_order_reviews_dataset.csv'))\n",
        "df_geolocation = pd.read_csv(zf.open('olist_geolocation_dataset.csv'))\n",
        "\n"
      ],
      "metadata": {
        "id": "qWC8mBAK8TAn"
      },
      "execution_count": 8,
      "outputs": []
    },
    {
      "cell_type": "code",
      "source": [
        "dfs = [df_orders,df_order_items,df_customers,df_sellers,df_products,df_order_payments,df_order_reviews,df_geolocation]"
      ],
      "metadata": {
        "id": "WEGrE4G_9oIQ"
      },
      "execution_count": 11,
      "outputs": []
    },
    {
      "cell_type": "code",
      "source": [
        "for x in dfs:\n",
        "  print(x.shape[0])"
      ],
      "metadata": {
        "colab": {
          "base_uri": "https://localhost:8080/"
        },
        "id": "FbqfGqWA_TCF",
        "outputId": "de39740a-bfd0-4939-980c-b6741ee68a61"
      },
      "execution_count": 17,
      "outputs": [
        {
          "output_type": "stream",
          "name": "stdout",
          "text": [
            "99441\n",
            "112650\n",
            "99441\n",
            "3095\n",
            "32951\n",
            "103886\n",
            "99224\n",
            "1000163\n"
          ]
        }
      ]
    },
    {
      "cell_type": "code",
      "source": [
        "df_geolocation.geolocation_zip_code_prefix.nunique()"
      ],
      "metadata": {
        "id": "y7gfqkZcAHAn",
        "outputId": "52a53328-7173-4963-c593-bd529888d19a",
        "colab": {
          "base_uri": "https://localhost:8080/"
        }
      },
      "execution_count": 27,
      "outputs": [
        {
          "output_type": "execute_result",
          "data": {
            "text/plain": [
              "19015"
            ]
          },
          "metadata": {},
          "execution_count": 27
        }
      ]
    },
    {
      "cell_type": "code",
      "source": [
        ""
      ],
      "metadata": {
        "id": "z82s7DxoBAf4"
      },
      "execution_count": null,
      "outputs": []
    }
  ]
}